{
  "nbformat": 4,
  "nbformat_minor": 0,
  "metadata": {
    "colab": {
      "name": "mais_pandas.ipynb",
      "provenance": []
    },
    "kernelspec": {
      "name": "python3",
      "display_name": "Python 3"
    }
  },
  "cells": [
    {
      "cell_type": "code",
      "metadata": {
        "id": "fFqxciPc2yay"
      },
      "source": [
        "import pandas as pd"
      ],
      "execution_count": null,
      "outputs": []
    },
    {
      "cell_type": "code",
      "metadata": {
        "id": "5EVamxo5a3S6"
      },
      "source": [
        "carros = {'Marca': ['Honda Civic','Toyota Corolla','Ford Focus','Audi A4'],\n",
        "        'Preco': [22000,25000,27000,35000]\n",
        "        }"
      ],
      "execution_count": null,
      "outputs": []
    },
    {
      "cell_type": "code",
      "metadata": {
        "id": "kor6cgLtwA9R"
      },
      "source": [
        "dados = pd.DataFrame(carros)"
      ],
      "execution_count": null,
      "outputs": []
    },
    {
      "cell_type": "code",
      "metadata": {
        "colab": {
          "base_uri": "https://localhost:8080/",
          "height": 171
        },
        "id": "DeoYBmpTwLJ9",
        "outputId": "8147f60a-0f6d-4b94-aacb-1ad5c8794220"
      },
      "source": [
        "dados.head()"
      ],
      "execution_count": null,
      "outputs": [
        {
          "output_type": "execute_result",
          "data": {
            "text/html": [
              "<div>\n",
              "<style scoped>\n",
              "    .dataframe tbody tr th:only-of-type {\n",
              "        vertical-align: middle;\n",
              "    }\n",
              "\n",
              "    .dataframe tbody tr th {\n",
              "        vertical-align: top;\n",
              "    }\n",
              "\n",
              "    .dataframe thead th {\n",
              "        text-align: right;\n",
              "    }\n",
              "</style>\n",
              "<table border=\"1\" class=\"dataframe\">\n",
              "  <thead>\n",
              "    <tr style=\"text-align: right;\">\n",
              "      <th></th>\n",
              "      <th>Marca</th>\n",
              "      <th>Preco</th>\n",
              "    </tr>\n",
              "  </thead>\n",
              "  <tbody>\n",
              "    <tr>\n",
              "      <th>0</th>\n",
              "      <td>Honda Civic</td>\n",
              "      <td>22000</td>\n",
              "    </tr>\n",
              "    <tr>\n",
              "      <th>1</th>\n",
              "      <td>Toyota Corolla</td>\n",
              "      <td>25000</td>\n",
              "    </tr>\n",
              "    <tr>\n",
              "      <th>2</th>\n",
              "      <td>Ford Focus</td>\n",
              "      <td>27000</td>\n",
              "    </tr>\n",
              "    <tr>\n",
              "      <th>3</th>\n",
              "      <td>Audi A4</td>\n",
              "      <td>35000</td>\n",
              "    </tr>\n",
              "  </tbody>\n",
              "</table>\n",
              "</div>"
            ],
            "text/plain": [
              "            Marca  Preco\n",
              "0     Honda Civic  22000\n",
              "1  Toyota Corolla  25000\n",
              "2      Ford Focus  27000\n",
              "3         Audi A4  35000"
            ]
          },
          "metadata": {
            "tags": []
          },
          "execution_count": 57
        }
      ]
    },
    {
      "cell_type": "code",
      "metadata": {
        "id": "FTQSaD8qa3si",
        "colab": {
          "base_uri": "https://localhost:8080/",
          "height": 123
        },
        "outputId": "9c3d5e47-68db-482c-df57-ba69f157b728"
      },
      "source": [
        "dados.style.set_properties(**{'background-color':'blue',\n",
        "                              'color':'white',\n",
        "                              'border-color':'black'\n",
        "                             })"
      ],
      "execution_count": null,
      "outputs": [
        {
          "output_type": "execute_result",
          "data": {
            "text/html": [
              "<style  type=\"text/css\" >\n",
              "#T_303ae98c_2a80_11eb_a631_0242ac1c0002row0_col0,#T_303ae98c_2a80_11eb_a631_0242ac1c0002row0_col1,#T_303ae98c_2a80_11eb_a631_0242ac1c0002row1_col0,#T_303ae98c_2a80_11eb_a631_0242ac1c0002row1_col1,#T_303ae98c_2a80_11eb_a631_0242ac1c0002row2_col0,#T_303ae98c_2a80_11eb_a631_0242ac1c0002row2_col1,#T_303ae98c_2a80_11eb_a631_0242ac1c0002row3_col0,#T_303ae98c_2a80_11eb_a631_0242ac1c0002row3_col1{\n",
              "            background-color:  blue;\n",
              "            color:  white;\n",
              "            border-color:  black;\n",
              "        }</style><table id=\"T_303ae98c_2a80_11eb_a631_0242ac1c0002\" ><thead>    <tr>        <th class=\"blank level0\" ></th>        <th class=\"col_heading level0 col0\" >Marca</th>        <th class=\"col_heading level0 col1\" >Preco</th>    </tr></thead><tbody>\n",
              "                <tr>\n",
              "                        <th id=\"T_303ae98c_2a80_11eb_a631_0242ac1c0002level0_row0\" class=\"row_heading level0 row0\" >0</th>\n",
              "                        <td id=\"T_303ae98c_2a80_11eb_a631_0242ac1c0002row0_col0\" class=\"data row0 col0\" >Honda Civic</td>\n",
              "                        <td id=\"T_303ae98c_2a80_11eb_a631_0242ac1c0002row0_col1\" class=\"data row0 col1\" >22000</td>\n",
              "            </tr>\n",
              "            <tr>\n",
              "                        <th id=\"T_303ae98c_2a80_11eb_a631_0242ac1c0002level0_row1\" class=\"row_heading level0 row1\" >1</th>\n",
              "                        <td id=\"T_303ae98c_2a80_11eb_a631_0242ac1c0002row1_col0\" class=\"data row1 col0\" >Toyota Corolla</td>\n",
              "                        <td id=\"T_303ae98c_2a80_11eb_a631_0242ac1c0002row1_col1\" class=\"data row1 col1\" >25000</td>\n",
              "            </tr>\n",
              "            <tr>\n",
              "                        <th id=\"T_303ae98c_2a80_11eb_a631_0242ac1c0002level0_row2\" class=\"row_heading level0 row2\" >2</th>\n",
              "                        <td id=\"T_303ae98c_2a80_11eb_a631_0242ac1c0002row2_col0\" class=\"data row2 col0\" >Ford Focus</td>\n",
              "                        <td id=\"T_303ae98c_2a80_11eb_a631_0242ac1c0002row2_col1\" class=\"data row2 col1\" >27000</td>\n",
              "            </tr>\n",
              "            <tr>\n",
              "                        <th id=\"T_303ae98c_2a80_11eb_a631_0242ac1c0002level0_row3\" class=\"row_heading level0 row3\" >3</th>\n",
              "                        <td id=\"T_303ae98c_2a80_11eb_a631_0242ac1c0002row3_col0\" class=\"data row3 col0\" >Audi A4</td>\n",
              "                        <td id=\"T_303ae98c_2a80_11eb_a631_0242ac1c0002row3_col1\" class=\"data row3 col1\" >35000</td>\n",
              "            </tr>\n",
              "    </tbody></table>"
            ],
            "text/plain": [
              "<pandas.io.formats.style.Styler at 0x7f504f2fd6a0>"
            ]
          },
          "metadata": {
            "tags": []
          },
          "execution_count": 58
        }
      ]
    },
    {
      "cell_type": "code",
      "metadata": {
        "id": "Y_52TQeha3cd"
      },
      "source": [
        "def cor_orcamento(val):\n",
        "  \n",
        "  if val <= 25000:\n",
        "    color = 'red'\n",
        "  else:\n",
        "    color = 'black'\n",
        "\n",
        "  return 'color: %s' % color"
      ],
      "execution_count": null,
      "outputs": []
    },
    {
      "cell_type": "code",
      "metadata": {
        "id": "XdRnnUJ-a3X6",
        "colab": {
          "base_uri": "https://localhost:8080/",
          "height": 123
        },
        "outputId": "62196e65-15b8-488f-c995-494928da96e6"
      },
      "source": [
        "dados.style.applymap(cor_orcamento, subset='Preco')"
      ],
      "execution_count": null,
      "outputs": [
        {
          "output_type": "execute_result",
          "data": {
            "text/html": [
              "<style  type=\"text/css\" >\n",
              "#T_31487678_2a80_11eb_a631_0242ac1c0002row0_col1,#T_31487678_2a80_11eb_a631_0242ac1c0002row1_col1{\n",
              "            color:  red;\n",
              "        }#T_31487678_2a80_11eb_a631_0242ac1c0002row2_col1,#T_31487678_2a80_11eb_a631_0242ac1c0002row3_col1{\n",
              "            color:  black;\n",
              "        }</style><table id=\"T_31487678_2a80_11eb_a631_0242ac1c0002\" ><thead>    <tr>        <th class=\"blank level0\" ></th>        <th class=\"col_heading level0 col0\" >Marca</th>        <th class=\"col_heading level0 col1\" >Preco</th>    </tr></thead><tbody>\n",
              "                <tr>\n",
              "                        <th id=\"T_31487678_2a80_11eb_a631_0242ac1c0002level0_row0\" class=\"row_heading level0 row0\" >0</th>\n",
              "                        <td id=\"T_31487678_2a80_11eb_a631_0242ac1c0002row0_col0\" class=\"data row0 col0\" >Honda Civic</td>\n",
              "                        <td id=\"T_31487678_2a80_11eb_a631_0242ac1c0002row0_col1\" class=\"data row0 col1\" >22000</td>\n",
              "            </tr>\n",
              "            <tr>\n",
              "                        <th id=\"T_31487678_2a80_11eb_a631_0242ac1c0002level0_row1\" class=\"row_heading level0 row1\" >1</th>\n",
              "                        <td id=\"T_31487678_2a80_11eb_a631_0242ac1c0002row1_col0\" class=\"data row1 col0\" >Toyota Corolla</td>\n",
              "                        <td id=\"T_31487678_2a80_11eb_a631_0242ac1c0002row1_col1\" class=\"data row1 col1\" >25000</td>\n",
              "            </tr>\n",
              "            <tr>\n",
              "                        <th id=\"T_31487678_2a80_11eb_a631_0242ac1c0002level0_row2\" class=\"row_heading level0 row2\" >2</th>\n",
              "                        <td id=\"T_31487678_2a80_11eb_a631_0242ac1c0002row2_col0\" class=\"data row2 col0\" >Ford Focus</td>\n",
              "                        <td id=\"T_31487678_2a80_11eb_a631_0242ac1c0002row2_col1\" class=\"data row2 col1\" >27000</td>\n",
              "            </tr>\n",
              "            <tr>\n",
              "                        <th id=\"T_31487678_2a80_11eb_a631_0242ac1c0002level0_row3\" class=\"row_heading level0 row3\" >3</th>\n",
              "                        <td id=\"T_31487678_2a80_11eb_a631_0242ac1c0002row3_col0\" class=\"data row3 col0\" >Audi A4</td>\n",
              "                        <td id=\"T_31487678_2a80_11eb_a631_0242ac1c0002row3_col1\" class=\"data row3 col1\" >35000</td>\n",
              "            </tr>\n",
              "    </tbody></table>"
            ],
            "text/plain": [
              "<pandas.io.formats.style.Styler at 0x7f504e47bb38>"
            ]
          },
          "metadata": {
            "tags": []
          },
          "execution_count": 60
        }
      ]
    },
    {
      "cell_type": "code",
      "metadata": {
        "id": "akplEO2irJbv"
      },
      "source": [
        "dados.style.applymap(cor_orcamento, subset='Preco').to_excel('estilizado.xlsx', engine='openpyxl')"
      ],
      "execution_count": null,
      "outputs": []
    },
    {
      "cell_type": "code",
      "metadata": {
        "id": "egld5J6k4SAM"
      },
      "source": [
        ""
      ],
      "execution_count": null,
      "outputs": []
    }
  ]
}