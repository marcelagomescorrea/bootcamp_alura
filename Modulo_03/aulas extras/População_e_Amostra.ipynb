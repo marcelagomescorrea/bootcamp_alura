{
  "nbformat": 4,
  "nbformat_minor": 0,
  "metadata": {
    "colab": {
      "name": "População e Amostra.ipynb",
      "provenance": []
    },
    "kernelspec": {
      "name": "python3",
      "display_name": "Python 3"
    }
  },
  "cells": [
    {
      "cell_type": "code",
      "metadata": {
        "id": "z3ILUW2rgTse"
      },
      "source": [
        "url = 'https://raw.githubusercontent.com/allanspadini/linear_estatistica/main/winequality-red.csv'"
      ],
      "execution_count": null,
      "outputs": []
    },
    {
      "cell_type": "markdown",
      "metadata": {
        "id": "AQDrv8wZgU-q"
      },
      "source": [
        "https://archive.ics.uci.edu/ml/datasets/Wine\n",
        "\n",
        "P. Cortez, A. Cerdeira, F. Almeida, T. Matos and J. Reis.\n",
        "Modeling wine preferences by data mining from physicochemical properties. In Decision Support Systems, Elsevier, 47(4):547-553, 2009."
      ]
    },
    {
      "cell_type": "code",
      "metadata": {
        "id": "JXUNm1MBgVvN"
      },
      "source": [
        "import pandas as pd"
      ],
      "execution_count": null,
      "outputs": []
    },
    {
      "cell_type": "code",
      "metadata": {
        "id": "5gDQsUFQiKl9"
      },
      "source": [
        "vinho = pd.read_csv(url, sep=';')"
      ],
      "execution_count": null,
      "outputs": []
    },
    {
      "cell_type": "code",
      "metadata": {
        "id": "LQNNBdkjiUZi",
        "colab": {
          "base_uri": "https://localhost:8080/",
          "height": 258
        },
        "outputId": "554e16c3-b691-4c6b-c847-c5a18b92d28c"
      },
      "source": [
        "vinho.head()"
      ],
      "execution_count": null,
      "outputs": [
        {
          "output_type": "execute_result",
          "data": {
            "text/html": [
              "<div>\n",
              "<style scoped>\n",
              "    .dataframe tbody tr th:only-of-type {\n",
              "        vertical-align: middle;\n",
              "    }\n",
              "\n",
              "    .dataframe tbody tr th {\n",
              "        vertical-align: top;\n",
              "    }\n",
              "\n",
              "    .dataframe thead th {\n",
              "        text-align: right;\n",
              "    }\n",
              "</style>\n",
              "<table border=\"1\" class=\"dataframe\">\n",
              "  <thead>\n",
              "    <tr style=\"text-align: right;\">\n",
              "      <th></th>\n",
              "      <th>fixed acidity</th>\n",
              "      <th>volatile acidity</th>\n",
              "      <th>citric acid</th>\n",
              "      <th>residual sugar</th>\n",
              "      <th>chlorides</th>\n",
              "      <th>free sulfur dioxide</th>\n",
              "      <th>total sulfur dioxide</th>\n",
              "      <th>density</th>\n",
              "      <th>pH</th>\n",
              "      <th>sulphates</th>\n",
              "      <th>alcohol</th>\n",
              "      <th>quality</th>\n",
              "    </tr>\n",
              "  </thead>\n",
              "  <tbody>\n",
              "    <tr>\n",
              "      <th>0</th>\n",
              "      <td>7.4</td>\n",
              "      <td>0.70</td>\n",
              "      <td>0.00</td>\n",
              "      <td>1.9</td>\n",
              "      <td>0.076</td>\n",
              "      <td>11.0</td>\n",
              "      <td>34.0</td>\n",
              "      <td>0.9978</td>\n",
              "      <td>3.51</td>\n",
              "      <td>0.56</td>\n",
              "      <td>9.4</td>\n",
              "      <td>5</td>\n",
              "    </tr>\n",
              "    <tr>\n",
              "      <th>1</th>\n",
              "      <td>7.8</td>\n",
              "      <td>0.88</td>\n",
              "      <td>0.00</td>\n",
              "      <td>2.6</td>\n",
              "      <td>0.098</td>\n",
              "      <td>25.0</td>\n",
              "      <td>67.0</td>\n",
              "      <td>0.9968</td>\n",
              "      <td>3.20</td>\n",
              "      <td>0.68</td>\n",
              "      <td>9.8</td>\n",
              "      <td>5</td>\n",
              "    </tr>\n",
              "    <tr>\n",
              "      <th>2</th>\n",
              "      <td>7.8</td>\n",
              "      <td>0.76</td>\n",
              "      <td>0.04</td>\n",
              "      <td>2.3</td>\n",
              "      <td>0.092</td>\n",
              "      <td>15.0</td>\n",
              "      <td>54.0</td>\n",
              "      <td>0.9970</td>\n",
              "      <td>3.26</td>\n",
              "      <td>0.65</td>\n",
              "      <td>9.8</td>\n",
              "      <td>5</td>\n",
              "    </tr>\n",
              "    <tr>\n",
              "      <th>3</th>\n",
              "      <td>11.2</td>\n",
              "      <td>0.28</td>\n",
              "      <td>0.56</td>\n",
              "      <td>1.9</td>\n",
              "      <td>0.075</td>\n",
              "      <td>17.0</td>\n",
              "      <td>60.0</td>\n",
              "      <td>0.9980</td>\n",
              "      <td>3.16</td>\n",
              "      <td>0.58</td>\n",
              "      <td>9.8</td>\n",
              "      <td>6</td>\n",
              "    </tr>\n",
              "    <tr>\n",
              "      <th>4</th>\n",
              "      <td>7.4</td>\n",
              "      <td>0.70</td>\n",
              "      <td>0.00</td>\n",
              "      <td>1.9</td>\n",
              "      <td>0.076</td>\n",
              "      <td>11.0</td>\n",
              "      <td>34.0</td>\n",
              "      <td>0.9978</td>\n",
              "      <td>3.51</td>\n",
              "      <td>0.56</td>\n",
              "      <td>9.4</td>\n",
              "      <td>5</td>\n",
              "    </tr>\n",
              "  </tbody>\n",
              "</table>\n",
              "</div>"
            ],
            "text/plain": [
              "   fixed acidity  volatile acidity  citric acid  ...  sulphates  alcohol  quality\n",
              "0            7.4              0.70         0.00  ...       0.56      9.4        5\n",
              "1            7.8              0.88         0.00  ...       0.68      9.8        5\n",
              "2            7.8              0.76         0.04  ...       0.65      9.8        5\n",
              "3           11.2              0.28         0.56  ...       0.58      9.8        6\n",
              "4            7.4              0.70         0.00  ...       0.56      9.4        5\n",
              "\n",
              "[5 rows x 12 columns]"
            ]
          },
          "metadata": {
            "tags": []
          },
          "execution_count": 11
        }
      ]
    },
    {
      "cell_type": "code",
      "metadata": {
        "id": "P-25KCuqlANA",
        "colab": {
          "base_uri": "https://localhost:8080/"
        },
        "outputId": "3d906433-dfdb-498b-c3e7-7bbb441410a1"
      },
      "source": [
        "vinho.shape"
      ],
      "execution_count": null,
      "outputs": [
        {
          "output_type": "execute_result",
          "data": {
            "text/plain": [
              "(1599, 12)"
            ]
          },
          "metadata": {
            "tags": []
          },
          "execution_count": 12
        }
      ]
    },
    {
      "cell_type": "markdown",
      "metadata": {
        "id": "7GTsCg4jug_P"
      },
      "source": [
        "# Qual a chance da nossa amostra retratar a realidade?"
      ]
    },
    {
      "cell_type": "markdown",
      "metadata": {
        "id": "XOggjhOLu7FY"
      },
      "source": [
        "O **nível de confiança** ($1 - \\alpha$) representa a probabilidade de acerto da estimativa. De forma complementar o **nível de significância** ($\\alpha$) expressa a probabilidade de erro da estimativa.\n",
        "\n",
        "O **nível de confiança** representa o grau de confiabilidade do resultado da estimativa estar dentro de determinado intervalo. Quando fixamos em uma pesquisa um **nível de confiança** de 95%, por exemplo, estamos assumindo que existe uma probabilidade de 95% dos resultados da pesquisa representarem bem a realidade, ou seja, estarem corretos.\n",
        "\n",
        "O **nível de confiança** de uma estimativa pode ser obtido a partir da área sob a curva normal como ilustrado na figura abaixo."
      ]
    },
    {
      "cell_type": "markdown",
      "metadata": {
        "id": "jJ_bIvXJvUIS"
      },
      "source": [
        "![alt text](https://caelum-online-public.s3.amazonaws.com/1178-estatistica-parte2/01/img007.png)"
      ]
    },
    {
      "cell_type": "markdown",
      "metadata": {
        "id": "nJbqrXNhywB7"
      },
      "source": [
        "## Erro inferencial"
      ]
    },
    {
      "cell_type": "markdown",
      "metadata": {
        "id": "TENIBHg5yzll"
      },
      "source": [
        "O **erro inferencial** é definido pelo **desvio padrão das médias amostrais** $\\sigma_\\bar{x}$ e pelo **nível de confiança** determinado para o processo."
      ]
    },
    {
      "cell_type": "markdown",
      "metadata": {
        "id": "S84SNHXk0zsu"
      },
      "source": [
        "# $$e = z \\frac{\\sigma}{\\sqrt{n}}$$"
      ]
    },
    {
      "cell_type": "markdown",
      "metadata": {
        "id": "pYHA87ZiwrQT"
      },
      "source": [
        "Suponha que a densidade do vinho se distribui aproximadamente como uma normal. Calcule o desvio padrão e a média de uma amostra de 1000 elementos. Construa um intervalo de confiança para a média populacional assumindo um **nível de significância de 5%**."
      ]
    },
    {
      "cell_type": "code",
      "metadata": {
        "id": "kaHZlQRxlATb"
      },
      "source": [
        "amostra = vinho.sample(n=1000, random_state=202)"
      ],
      "execution_count": null,
      "outputs": []
    },
    {
      "cell_type": "code",
      "metadata": {
        "id": "i3bXkGTbrejL"
      },
      "source": [
        "desvio_padrao = amostra['density'].std()"
      ],
      "execution_count": null,
      "outputs": []
    },
    {
      "cell_type": "code",
      "metadata": {
        "id": "DH4axOLGwXDV",
        "colab": {
          "base_uri": "https://localhost:8080/",
          "height": 282
        },
        "outputId": "ad9f8cc4-24d9-4913-932c-ffa94cef7a2f"
      },
      "source": [
        "amostra['density'].hist()"
      ],
      "execution_count": null,
      "outputs": [
        {
          "output_type": "execute_result",
          "data": {
            "text/plain": [
              "<matplotlib.axes._subplots.AxesSubplot at 0x7fbfdb21a9e8>"
            ]
          },
          "metadata": {
            "tags": []
          },
          "execution_count": 15
        },
        {
          "output_type": "display_data",
          "data": {
            "image/png": "[encoded data removed]",
            "text/plain": [
              "<Figure size 432x288 with 1 Axes>"
            ]
          },
          "metadata": {
            "tags": [],
            "needs_background": "light"
          }
        }
      ]
    },
    {
      "cell_type": "code",
      "metadata": {
        "id": "REa0f9-zlAZ9"
      },
      "source": [
        "significancia = 0.05"
      ],
      "execution_count": null,
      "outputs": []
    },
    {
      "cell_type": "code",
      "metadata": {
        "id": "LU2VPuF6lAcF"
      },
      "source": [
        "confianca = 1 - significancia"
      ],
      "execution_count": null,
      "outputs": []
    },
    {
      "cell_type": "code",
      "metadata": {
        "id": "RXjc-dbssnsp"
      },
      "source": [
        "n= 1000"
      ],
      "execution_count": null,
      "outputs": []
    },
    {
      "cell_type": "markdown",
      "metadata": {
        "id": "IyDOrnU-qvq6"
      },
      "source": [
        "### Obtendo z - Tabela normal padronizada.\n",
        "\n",
        "![alt text](https://caelum-online-public.s3.amazonaws.com/1178-estatistica-parte2/01/img008.png)\n",
        "\n",
        "### Valores de $z$ para os níveis de confiança mais utilizados\n",
        "\n",
        "|Nível de<br>confiança|Valor da área sob<br>a curva normal| $z$ |\n",
        "|:----------------:|:---------------------------------:|:---:|\n",
        "|90%               |0,95                               |1,645|\n",
        "|95%               |0,975                              |1,96 |\n",
        "|99%               |0,995                              |2,575|"
      ]
    },
    {
      "cell_type": "markdown",
      "metadata": {
        "id": "cQhaltRruOcr"
      },
      "source": [
        "Obtendo o **desvio padrão das médias amostrais** $\\sigma_\\bar{x}$"
      ]
    },
    {
      "cell_type": "code",
      "metadata": {
        "id": "XwLRRReix0jm"
      },
      "source": [
        "import numpy as np"
      ],
      "execution_count": null,
      "outputs": []
    },
    {
      "cell_type": "code",
      "metadata": {
        "id": "Jj3ptGIruiGT"
      },
      "source": [
        "sigma = desvio_padrao/np.sqrt(n)"
      ],
      "execution_count": null,
      "outputs": []
    },
    {
      "cell_type": "code",
      "metadata": {
        "id": "VXxF2zcCx0mL"
      },
      "source": [
        ""
      ],
      "execution_count": null,
      "outputs": []
    },
    {
      "cell_type": "markdown",
      "metadata": {
        "id": "CBQNpURAupVQ"
      },
      "source": [
        "Obtendo o $e$"
      ]
    },
    {
      "cell_type": "code",
      "metadata": {
        "id": "DBLt9gYnvTWB"
      },
      "source": [
        "z = 1.96"
      ],
      "execution_count": null,
      "outputs": []
    },
    {
      "cell_type": "code",
      "metadata": {
        "id": "9K-WXaDjx0ok"
      },
      "source": [
        "erro = z*sigma"
      ],
      "execution_count": null,
      "outputs": []
    },
    {
      "cell_type": "code",
      "metadata": {
        "id": "1TotZWOzx0qx",
        "colab": {
          "base_uri": "https://localhost:8080/"
        },
        "outputId": "bcf8f25f-1621-4e69-e567-2db6c4995c9f"
      },
      "source": [
        "erro"
      ],
      "execution_count": null,
      "outputs": [
        {
          "output_type": "execute_result",
          "data": {
            "text/plain": [
              "0.00011422344106370019"
            ]
          },
          "metadata": {
            "tags": []
          },
          "execution_count": 23
        }
      ]
    },
    {
      "cell_type": "markdown",
      "metadata": {
        "id": "G3WZGFFiw2R0"
      },
      "source": [
        "### Calculando o intervalo de confiança"
      ]
    },
    {
      "cell_type": "code",
      "metadata": {
        "id": "WjQv_HTnFLzD"
      },
      "source": [
        "media_amostra = amostra['density'].mean()"
      ],
      "execution_count": null,
      "outputs": []
    },
    {
      "cell_type": "code",
      "metadata": {
        "id": "wv94PIr7x0s8"
      },
      "source": [
        "intervalo = [media_amostra - erro,media_amostra+erro]"
      ],
      "execution_count": null,
      "outputs": []
    },
    {
      "cell_type": "code",
      "metadata": {
        "id": "pdsZnGM0x0vX",
        "colab": {
          "base_uri": "https://localhost:8080/"
        },
        "outputId": "f933d956-2777-49df-fcdf-aa1d964535f6"
      },
      "source": [
        "intervalo"
      ],
      "execution_count": null,
      "outputs": [
        {
          "output_type": "execute_result",
          "data": {
            "text/plain": [
              "[0.9965902065589372, 0.9968186534410646]"
            ]
          },
          "metadata": {
            "tags": []
          },
          "execution_count": 26
        }
      ]
    },
    {
      "cell_type": "code",
      "metadata": {
        "id": "r42_2LmEvZb7"
      },
      "source": [
        "from scipy.stats import norm"
      ],
      "execution_count": null,
      "outputs": []
    },
    {
      "cell_type": "code",
      "metadata": {
        "id": "zbx5w0zXx0x7",
        "colab": {
          "base_uri": "https://localhost:8080/"
        },
        "outputId": "5f3f2b93-6076-432b-8f50-39d0cdbae854"
      },
      "source": [
        "norm.interval(alpha=0.95, loc=media_amostra, scale=sigma)"
      ],
      "execution_count": null,
      "outputs": [
        {
          "output_type": "execute_result",
          "data": {
            "text/plain": [
              "(0.9965902086578197, 0.9968186513421821)"
            ]
          },
          "metadata": {
            "tags": []
          },
          "execution_count": 28
        }
      ]
    },
    {
      "cell_type": "markdown",
      "metadata": {
        "id": "cHajKM6AH2gF"
      },
      "source": [
        "## Calculando o tamanho da amostra"
      ]
    },
    {
      "cell_type": "markdown",
      "metadata": {
        "id": "D7u_uOIPITlD"
      },
      "source": [
        "Vamos assumir que queremos um erro máximo de 0.0001, nível de confiança de 95% e o desvio padrão populacional é 0.0019."
      ]
    },
    {
      "cell_type": "markdown",
      "metadata": {
        "id": "UErz9750Lnuj"
      },
      "source": [
        "\\begin{equation}\r\n",
        "e = z \\frac{\\sigma}{\\sqrt{n}}\r\n",
        "\\end{equation}\r\n",
        "Com desvio padrão conhecido\r\n",
        "\\begin{equation}\r\n",
        "n = \\left( z \\frac{\\sigma}{e} \\right)^2\r\n",
        "\\end{equation}\r\n",
        "Com desvio padrão desconhecido\r\n",
        "\\begin{equation}\r\n",
        "n = \\left( z \\frac{s}{e} \\right)^2\r\n",
        "\\end{equation}\r\n"
      ]
    },
    {
      "cell_type": "code",
      "metadata": {
        "colab": {
          "base_uri": "https://localhost:8080/"
        },
        "id": "rer5zbm8VS4c",
        "outputId": "1ba67a3a-89c7-4b50-d3cc-db98e78e2713"
      },
      "source": [
        "0.95+0.025"
      ],
      "execution_count": null,
      "outputs": [
        {
          "output_type": "execute_result",
          "data": {
            "text/plain": [
              "0.975"
            ]
          },
          "metadata": {
            "tags": []
          },
          "execution_count": 33
        }
      ]
    },
    {
      "cell_type": "code",
      "metadata": {
        "id": "bjMTSGLxkHx1"
      },
      "source": [
        "z = norm.ppf(0.975)"
      ],
      "execution_count": null,
      "outputs": []
    },
    {
      "cell_type": "code",
      "metadata": {
        "id": "GTrbRpK_iVrr"
      },
      "source": [
        "sigma= 0.0019"
      ],
      "execution_count": null,
      "outputs": []
    },
    {
      "cell_type": "code",
      "metadata": {
        "id": "GljTt_ojPkLu"
      },
      "source": [
        "erro = 0.0001"
      ],
      "execution_count": null,
      "outputs": []
    },
    {
      "cell_type": "code",
      "metadata": {
        "id": "0aI_YEuOPkO0"
      },
      "source": [
        "n = (z*sigma/erro)**2"
      ],
      "execution_count": null,
      "outputs": []
    },
    {
      "cell_type": "code",
      "metadata": {
        "id": "pUxRvSaIPkSF",
        "colab": {
          "base_uri": "https://localhost:8080/"
        },
        "outputId": "9d7cea3a-d7e4-40f2-c03d-95ed14b61f47"
      },
      "source": [
        "n"
      ],
      "execution_count": null,
      "outputs": [
        {
          "output_type": "execute_result",
          "data": {
            "text/plain": [
              "1386.766634270579"
            ]
          },
          "metadata": {
            "tags": []
          },
          "execution_count": 38
        }
      ]
    },
    {
      "cell_type": "code",
      "metadata": {
        "id": "EVDisqO4PkVQ"
      },
      "source": [
        ""
      ],
      "execution_count": null,
      "outputs": []
    },
    {
      "cell_type": "code",
      "metadata": {
        "id": "pYijOfRLPkYF"
      },
      "source": [
        ""
      ],
      "execution_count": null,
      "outputs": []
    },
    {
      "cell_type": "markdown",
      "metadata": {
        "id": "urupYyG1PkrB"
      },
      "source": [
        "## População finita\r\n",
        "\\begin{equation}\r\n",
        "n = \\frac{z^2 \\sigma^2 N}{z^2 \\sigma^2 + e^2(N-1)}\r\n",
        "\r\n",
        "\\end{equation}"
      ]
    },
    {
      "cell_type": "code",
      "metadata": {
        "id": "yR64aBsfQCwN"
      },
      "source": [
        "N = 1500"
      ],
      "execution_count": null,
      "outputs": []
    },
    {
      "cell_type": "code",
      "metadata": {
        "colab": {
          "base_uri": "https://localhost:8080/"
        },
        "id": "__1k6vi8V2Hg",
        "outputId": "f752434f-3bf1-49d8-a198-2983ae9340ab"
      },
      "source": [
        "((z**2)*(sigma**2)*N)/((z**2)*(sigma**2)+ (erro**2)*(N-1))"
      ],
      "execution_count": null,
      "outputs": [
        {
          "output_type": "execute_result",
          "data": {
            "text/plain": [
              "720.8309662682263"
            ]
          },
          "metadata": {
            "tags": []
          },
          "execution_count": 40
        }
      ]
    },
    {
      "cell_type": "code",
      "metadata": {
        "id": "HQt4QpskWJn_"
      },
      "source": [
        ""
      ],
      "execution_count": null,
      "outputs": []
    }
  ]
}