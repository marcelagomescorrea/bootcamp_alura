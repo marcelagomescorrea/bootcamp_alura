{
  "nbformat": 4,
  "nbformat_minor": 0,
  "metadata": {
    "colab": {
      "name": "Marcela_Gomes_Projeto_Modulo03.ipynb",
      "provenance": [],
      "collapsed_sections": [
        "NrnTJ9e2rwF7",
        "hdg1yng3vfL4",
        "uxqbEbslv1so",
        "dMXIwzNlv-aq",
        "c7bSaebH76NO"
      ],
      "toc_visible": true
    },
    "kernelspec": {
      "name": "python3",
      "display_name": "Python 3"
    }
  },
  "cells": [
    {
      "cell_type": "markdown",
      "metadata": {
        "id": "8GstsoywnPWE"
      },
      "source": [
        "# **PeNSE** - Pesquisa Nacional de Saúde do Escolar"
      ]
    },
    {
      "cell_type": "markdown",
      "metadata": {
        "id": "_tjp0HzlkaQy"
      },
      "source": [
        "![foto_escola_precaria.jpg](https://mediastorage.cnnbrasil.com.br/IMAGES/00/00/00/3461_D11F71BFD8C922EA.jpg)\r\n",
        "\r\n",
        "> Fonte: CNN Brasil"
      ]
    },
    {
      "cell_type": "markdown",
      "metadata": {
        "id": "Vr8EEaJ3nwJd"
      },
      "source": [
        "## Apresentação\r\n",
        "\r\n",
        "Olá, meu nome é Marcela Gomes Corrêa e atualmente sou servidora pública do executivo federal. Moro em Brasília e trabalho no Ministério da Economia. Vocês podem me encontrar nas seguintes redes sociais:\r\n",
        "\r\n",
        "*   [LinkedIn](www.linkedin.com/in/marcelagomescorrea)\r\n",
        "*   [Medium](https://marcelagomescorrea.medium.com/)\r\n",
        "*   [GitHub](https://github.com/marcelagomescorrea)\r\n",
        "\r\n",
        "Sou formada em Ciência da Computação pela Universidade de Brasília (UnB) e tenho especialização em Sistemas de Informação. Já fui programadora de sistemas web para eleições on line, mas atualmente trabalho com normativos relacionados à governança de dados. Minha experiência na área de dados começou pra valer quando entrei em um projeto de Big Data dentro do governo.\r\n",
        "\r\n",
        "Apesar das limitações do meu atual cargo, sempre tive fascínio pela área de Data Science e, após participar da Imersão Dados da Alura, foi amor à primeira vista. Hoje, sou uma eterna estudante da área e escrevo algumas análises aqui e alguns artigos acolá.\r\n",
        "\r\n",
        "\r\n",
        "\r\n",
        "\r\n",
        "\r\n"
      ]
    },
    {
      "cell_type": "markdown",
      "metadata": {
        "id": "2XNK3hgWnq1F"
      },
      "source": [
        "# Introdução\r\n",
        "\r\n",
        "\r\n",
        "---\r\n",
        "\r\n"
      ]
    },
    {
      "cell_type": "markdown",
      "metadata": {
        "id": "m88ZTSEUIKMJ"
      },
      "source": [
        "#### **Sobre a Base**\r\n",
        "\r\n",
        "A Pesquisa Nacional de Saúde do Escolar, ou **PeNSE**, é uma pesquisa realizada pelo IBGE com escolares adolescentes no Brasil, desde 2009, e é fruto de parceria com o Ministério da Saúde, tendo o apoio do Ministério da Educação.\r\n",
        "\r\n",
        "Desde a sua primeira edição em 2009, a população-alvo da PeNSE são escolares do 9º ano do ensino fundamental (antiga 8ª série) das escolas públicas e privadas dos municípios e das capitais. Já na edição de 2015, optou-se por acrescentar uma outra amostra com escolares de 13 a 17 anos de idade frequentando as etapas do 6º ao 9º ano do ensino fundamental (antigas 5ª a 8ª séries) e da 1ª a 3ª série do ensino médio, e é com essa amostra que escolhi trabalhar."
      ]
    },
    {
      "cell_type": "markdown",
      "metadata": {
        "id": "d1QqUgNFWshs"
      },
      "source": [
        "#### **Motivação**\r\n",
        "\r\n",
        "> Ninguém nasce mulher: torna-se mulher. ***O Segundo Sexo, Simone de Beauvoir***\r\n",
        "\r\n",
        "Ícone do pensamento feminista, a filósofa e escritora, Simone de Beauvoir, defendia que o corpo biológico de uma fêmea (sexo, sentido biológico) torna-se mulher a partir de uma cultura, e não de regras até então tidas como naturais, ou seja, as diferenças sociais entre homens e mulheres não é algo natural, mas acidental, provocado pela sociedade.\r\n",
        "\r\n",
        "Em Julho/2020, o Brasil se absteve em votação na ONU contra discriminação de mulheres e meninas, se alinhando a governos ultraconservadores em questões de gênero como Líbia, Congo e Afeganistão. Esse é só mais um dos diversos atos do nosso atual governo que enfraquecem cada vez mais as políticas públicas voltadas para mulheres no país.\r\n",
        "\r\n",
        "Em um governo que estuda criar um programa para incentivar a 'abstinência' sexual em vez da **educação sexual**, muitas jovens brasileiras engravidam cedo e, em muitos casos, se vêem obrigadas a abortar em situações impróprias.\r\n",
        "\r\n",
        "Na presente análise, vamos explorar quais as dificuldades enfrentadas pelas adolescentes e jovens brasileiras e abordar temas como aborto e gravidez precoce.\r\n",
        "\r\n",
        "\r\n",
        "---\r\n",
        "\r\n",
        "\r\n",
        "**Fonte**:\r\n",
        "-  Folha: [Brasil se abstém em votação na ONU contra discriminação de mulheres e meninas](https://www1.folha.uol.com.br/mundo/2020/07/brasil-se-abstem-em-votacao-na-onu-contra-discriminacao-de-mulheres-e-meninas)\r\n"
      ]
    },
    {
      "cell_type": "markdown",
      "metadata": {
        "id": "zVHLSXi-rbV9"
      },
      "source": [
        "## Resumo\r\n",
        "\r\n",
        "\r\n",
        "---\r\n",
        "\r\n"
      ]
    },
    {
      "cell_type": "markdown",
      "metadata": {
        "id": "50ZYKBF9rkRZ"
      },
      "source": [
        "Com a nossa análise, partiremos dos dados da base PeNSE de 2015, sobre a saúde dos escolares, para analisar o cenário de muitas meninas e jovens durante o período escolar.\r\n",
        "\r\n",
        "Utilizaremos informações gerais, como região geográfica, cor/raça, idade e tipo de escola (pública ou privada), além de dados sobre uso de cigarro, álcool e drogas, saúde e corpo, violência e abuso e, por fim, dados sobre saúde sexual e reprodutiva.\r\n",
        "\r\n",
        "Mesmo que esse dados sejam relativamente obsoletos (aprox. 5 anos atrás), é possível utilizá-los como parâmetros para desenharmos um cenário para as adolescentes brasileiras.\r\n",
        "\r\n",
        "Após o 'desenho' desse cenário, verificaremos como estão os números de óbitos por aborto e nascimentos por mães jovens nos últimos anos e tentaremos relacionar com as informações analisadas da base PeNSE."
      ]
    },
    {
      "cell_type": "markdown",
      "metadata": {
        "id": "NrnTJ9e2rwF7"
      },
      "source": [
        "# Bibliotecas importadas"
      ]
    },
    {
      "cell_type": "code",
      "metadata": {
        "id": "xofEwLW0r0EY"
      },
      "source": [
        "import pandas as pd\r\n",
        "import numpy as np\r\n",
        "import seaborn as sns\r\n",
        "\r\n",
        "import matplotlib.pyplot as plt\r\n",
        "import matplotlib.ticker as ticker\r\n",
        "from matplotlib import cm\r\n",
        "\r\n",
        "from  zipfile import ZipFile\r\n",
        "import csv\r\n",
        "import requests"
      ],
      "execution_count": 1,
      "outputs": []
    },
    {
      "cell_type": "code",
      "metadata": {
        "colab": {
          "base_uri": "https://localhost:8080/"
        },
        "id": "h0PEuhMkm4em",
        "outputId": "6bacc35e-6128-4775-c867-45ae56e46c9f"
      },
      "source": [
        "!pip install plotly==4.12.0"
      ],
      "execution_count": 2,
      "outputs": [
        {
          "output_type": "stream",
          "text": [
            "Requirement already satisfied: plotly==4.12.0 in /usr/local/lib/python3.6/dist-packages (4.12.0)\n",
            "Requirement already satisfied: retrying>=1.3.3 in /usr/local/lib/python3.6/dist-packages (from plotly==4.12.0) (1.3.3)\n",
            "Requirement already satisfied: six in /usr/local/lib/python3.6/dist-packages (from plotly==4.12.0) (1.15.0)\n"
          ],
          "name": "stdout"
        }
      ]
    },
    {
      "cell_type": "code",
      "metadata": {
        "id": "sGTdBSLAr5qh"
      },
      "source": [
        "# Importando Plotly\r\n",
        "import plotly.graph_objects as go\r\n",
        "import plotly.express as px\r\n",
        "import plotly.io as pio\r\n",
        "from plotly.subplots import make_subplots"
      ],
      "execution_count": 3,
      "outputs": []
    },
    {
      "cell_type": "code",
      "metadata": {
        "colab": {
          "base_uri": "https://localhost:8080/"
        },
        "id": "Yepgc54RIQ_X",
        "outputId": "84a82405-b363-49eb-84c1-d6b2c67ae116"
      },
      "source": [
        "from statsmodels.stats.weightstats import zconfint"
      ],
      "execution_count": 4,
      "outputs": [
        {
          "output_type": "stream",
          "text": [
            "/usr/local/lib/python3.6/dist-packages/statsmodels/tools/_testing.py:19: FutureWarning:\n",
            "\n",
            "pandas.util.testing is deprecated. Use the functions in the public API at pandas.testing instead.\n",
            "\n"
          ],
          "name": "stderr"
        }
      ]
    },
    {
      "cell_type": "code",
      "metadata": {
        "id": "XtNNCM2EKhCf"
      },
      "source": [
        "# Função para imprimir mais de um dataframe lado a lado\r\n",
        "class display(object):\r\n",
        "    \"\"\"Display HTML representation of multiple objects\"\"\"\r\n",
        "    template = \"\"\"<div style=\"float: left; padding: 10px;\">\r\n",
        "    <p style='font-family:\"Courier New\", Courier, monospace'>{0}</p>{1}\r\n",
        "    </div>\"\"\"\r\n",
        "    def __init__(self, *args):\r\n",
        "        self.args = args\r\n",
        "        \r\n",
        "    def _repr_html_(self):\r\n",
        "        return '\\n'.join(self.template.format(a, eval(a)._repr_html_())\r\n",
        "                         for a in self.args)\r\n",
        "    \r\n",
        "    def __repr__(self):\r\n",
        "        return '\\n\\n'.join(a + '\\n' + repr(eval(a))\r\n",
        "                           for a in self.args)"
      ],
      "execution_count": 5,
      "outputs": []
    },
    {
      "cell_type": "markdown",
      "metadata": {
        "id": "hdg1yng3vfL4"
      },
      "source": [
        "# Tratando os dados"
      ]
    },
    {
      "cell_type": "markdown",
      "metadata": {
        "id": "uxqbEbslv1so"
      },
      "source": [
        "## Criando dicionário com perguntas e respostas"
      ]
    },
    {
      "cell_type": "markdown",
      "metadata": {
        "id": "9FMc_eCSzHgZ"
      },
      "source": [
        "Para os dados da base PeNSE, vamos primeiro criar um dicionário com perguntas e respostas para facilitar na hora de especificar as informações que queremos analisar."
      ]
    },
    {
      "cell_type": "code",
      "metadata": {
        "id": "r-P8VQILvduj"
      },
      "source": [
        "def isInt(s):\r\n",
        "    try: \r\n",
        "        int(s)\r\n",
        "        return True\r\n",
        "    except ValueError:\r\n",
        "        return False"
      ],
      "execution_count": 6,
      "outputs": []
    },
    {
      "cell_type": "code",
      "metadata": {
        "id": "ESbLMZnxr5m_"
      },
      "source": [
        "# inicializando variáveis\r\n",
        "dicio_pense = {}\r\n",
        "codigo = ''\r\n",
        "pergunta = ''\r\n",
        "chave = ''                \r\n",
        "respostas = {}\r\n",
        "\r\n",
        "url = 'https://raw.githubusercontent.com/marcelagomescorrea/bootcamp_alura/main/Modulo_03/Dicionario_PENSE_Microdados_AMOSTRA2_filtrado.csv?raw=true'\r\n",
        "\r\n",
        "with requests.Session() as s:\r\n",
        "    download = s.get(url)\r\n",
        "    decoded_content = download.content.decode('utf-8')\r\n",
        "    cr = csv.reader(decoded_content.splitlines(), delimiter=';', )\r\n",
        "    \r\n",
        "    for row in cr:\r\n",
        "        if not isInt(row[0]): # checando se é um nome de coluna            \r\n",
        "            dicio_pense[chave\r\n",
        "                        ] = {\r\n",
        "                'codigo': codigo,\r\n",
        "                'pergunta': pergunta,\r\n",
        "                'respostas': respostas\r\n",
        "            }\r\n",
        "\r\n",
        "            # adicionou as infos da coluna ao dicionário,\r\n",
        "            # reinicializa as variáveis            \r\n",
        "            codigo = row[0].strip()\r\n",
        "            pergunta = row[1].strip()\r\n",
        "            chave = row[2].strip()\r\n",
        "            respostas = {}\r\n",
        "\r\n",
        "        else:\r\n",
        "            respostas[int(row[0].strip())] = row[1].strip()"
      ],
      "execution_count": 7,
      "outputs": []
    },
    {
      "cell_type": "code",
      "metadata": {
        "colab": {
          "base_uri": "https://localhost:8080/"
        },
        "id": "Kd7bbVo-r5kc",
        "outputId": "0f630f16-f528-499d-a9c2-0533c4527d77"
      },
      "source": [
        "dicio_pense['cor_raca']"
      ],
      "execution_count": 8,
      "outputs": [
        {
          "output_type": "execute_result",
          "data": {
            "text/plain": [
              "{'codigo': 'VB01002',\n",
              " 'pergunta': 'Qual é a sua cor ou raça?',\n",
              " 'respostas': {1: 'Branca',\n",
              "  2: 'Preta',\n",
              "  3: 'Amarela',\n",
              "  4: 'Parda',\n",
              "  5: 'Indígena',\n",
              "  99: 'Não informado'}}"
            ]
          },
          "metadata": {
            "tags": []
          },
          "execution_count": 8
        }
      ]
    },
    {
      "cell_type": "code",
      "metadata": {
        "colab": {
          "base_uri": "https://localhost:8080/"
        },
        "id": "Fsam0_wsr5hp",
        "outputId": "fdf085fd-5242-4968-a67d-3f2e13d1901b"
      },
      "source": [
        "dicio_pense['ja_estupro']"
      ],
      "execution_count": 9,
      "outputs": [
        {
          "output_type": "execute_result",
          "data": {
            "text/plain": [
              "{'codigo': 'VB09016',\n",
              " 'pergunta': 'Alguma vez na vida você foi forçado a ter relação sexual?',\n",
              " 'respostas': {-1: 'Pulo no questionário',\n",
              "  1: 'Sim',\n",
              "  2: 'Não',\n",
              "  99: 'Não informado'}}"
            ]
          },
          "metadata": {
            "tags": []
          },
          "execution_count": 9
        }
      ]
    },
    {
      "cell_type": "code",
      "metadata": {
        "id": "m0jlvX0GzuHK"
      },
      "source": [
        ""
      ],
      "execution_count": 9,
      "outputs": []
    },
    {
      "cell_type": "markdown",
      "metadata": {
        "id": "dMXIwzNlv-aq"
      },
      "source": [
        "## Importando os dados"
      ]
    },
    {
      "cell_type": "markdown",
      "metadata": {
        "id": "ynHgIoOgznIM"
      },
      "source": [
        "Após criar o dicionário, vamos importar os dados de fato da nossa amostra 2, que considera estudantes de diferentes faixas etárias."
      ]
    },
    {
      "cell_type": "code",
      "metadata": {
        "id": "cr6RDL03r5e6",
        "colab": {
          "base_uri": "https://localhost:8080/",
          "height": 0
        },
        "outputId": "6de6205a-db9f-4f7f-ef9c-151f07ae54e7"
      },
      "source": [
        "path = 'https://github.com/marcelagomescorrea/bootcamp_alura/blob/main/Modulo_03/datasets/PeNSE_2015_AMOSTRA2.zip?raw=true'\r\n",
        "dados = pd.read_csv(path, sep=';', thousands = \".\", decimal = \",\", compression='zip')\r\n",
        "dados.head()"
      ],
      "execution_count": 10,
      "outputs": [
        {
          "output_type": "execute_result",
          "data": {
            "text/html": [
              "<div>\n",
              "<style scoped>\n",
              "    .dataframe tbody tr th:only-of-type {\n",
              "        vertical-align: middle;\n",
              "    }\n",
              "\n",
              "    .dataframe tbody tr th {\n",
              "        vertical-align: top;\n",
              "    }\n",
              "\n",
              "    .dataframe thead th {\n",
              "        text-align: right;\n",
              "    }\n",
              "</style>\n",
              "<table border=\"1\" class=\"dataframe\">\n",
              "  <thead>\n",
              "    <tr style=\"text-align: right;\">\n",
              "      <th></th>\n",
              "      <th>ANOPESQ</th>\n",
              "      <th>PAIS</th>\n",
              "      <th>REGEOGR</th>\n",
              "      <th>VB00004</th>\n",
              "      <th>VB01001</th>\n",
              "      <th>VB01002</th>\n",
              "      <th>VB01003</th>\n",
              "      <th>VB01004</th>\n",
              "      <th>VB01005</th>\n",
              "      <th>VB01006</th>\n",
              "      <th>VB01007</th>\n",
              "      <th>VB01008A</th>\n",
              "      <th>VB01010A</th>\n",
              "      <th>VB01011</th>\n",
              "      <th>VB01012</th>\n",
              "      <th>VB01013</th>\n",
              "      <th>VB01014</th>\n",
              "      <th>VB01015A</th>\n",
              "      <th>VB01016</th>\n",
              "      <th>VB01017</th>\n",
              "      <th>VB01018</th>\n",
              "      <th>VB01019</th>\n",
              "      <th>VB01020A</th>\n",
              "      <th>VB01021</th>\n",
              "      <th>VB01022</th>\n",
              "      <th>VB01023</th>\n",
              "      <th>VB01024</th>\n",
              "      <th>VB01025</th>\n",
              "      <th>VB01026</th>\n",
              "      <th>VB02001</th>\n",
              "      <th>VB02002</th>\n",
              "      <th>VB02004A</th>\n",
              "      <th>VB02010</th>\n",
              "      <th>VB02011</th>\n",
              "      <th>VB02013</th>\n",
              "      <th>VB02017A</th>\n",
              "      <th>VB02018A</th>\n",
              "      <th>VB02019A</th>\n",
              "      <th>VB02020A</th>\n",
              "      <th>VB02021</th>\n",
              "      <th>...</th>\n",
              "      <th>VB11005</th>\n",
              "      <th>VB11006</th>\n",
              "      <th>VB11007</th>\n",
              "      <th>VB12001</th>\n",
              "      <th>VB12002</th>\n",
              "      <th>VB12003</th>\n",
              "      <th>VB13001</th>\n",
              "      <th>VB13002A</th>\n",
              "      <th>VB13004A</th>\n",
              "      <th>VB13005</th>\n",
              "      <th>VB13006</th>\n",
              "      <th>VB13007</th>\n",
              "      <th>VB13008</th>\n",
              "      <th>VB13009</th>\n",
              "      <th>VB14001</th>\n",
              "      <th>VB14002</th>\n",
              "      <th>VB16001A01</th>\n",
              "      <th>VB16001A02</th>\n",
              "      <th>VB16001A03</th>\n",
              "      <th>VB16001A04</th>\n",
              "      <th>VB16001A05</th>\n",
              "      <th>VB16001A06</th>\n",
              "      <th>VB16001A07</th>\n",
              "      <th>VB16001A08</th>\n",
              "      <th>VB17001</th>\n",
              "      <th>VB17002</th>\n",
              "      <th>VB17003</th>\n",
              "      <th>VB17004</th>\n",
              "      <th>VB17005</th>\n",
              "      <th>VB17006</th>\n",
              "      <th>ESTRATO_EXP</th>\n",
              "      <th>ESTRATOGEOREG</th>\n",
              "      <th>PESO</th>\n",
              "      <th>V0006</th>\n",
              "      <th>V0007</th>\n",
              "      <th>V0008</th>\n",
              "      <th>V0041</th>\n",
              "      <th>aluno</th>\n",
              "      <th>escola</th>\n",
              "      <th>turma</th>\n",
              "    </tr>\n",
              "  </thead>\n",
              "  <tbody>\n",
              "    <tr>\n",
              "      <th>0</th>\n",
              "      <td>2015</td>\n",
              "      <td>76</td>\n",
              "      <td>1</td>\n",
              "      <td>1</td>\n",
              "      <td>2</td>\n",
              "      <td>1</td>\n",
              "      <td>13</td>\n",
              "      <td>7</td>\n",
              "      <td>7</td>\n",
              "      <td>1</td>\n",
              "      <td>2</td>\n",
              "      <td>7</td>\n",
              "      <td>3</td>\n",
              "      <td>2</td>\n",
              "      <td>-1</td>\n",
              "      <td>1</td>\n",
              "      <td>1</td>\n",
              "      <td>1</td>\n",
              "      <td>1</td>\n",
              "      <td>1</td>\n",
              "      <td>2</td>\n",
              "      <td>4</td>\n",
              "      <td>2</td>\n",
              "      <td>4</td>\n",
              "      <td>1</td>\n",
              "      <td>2</td>\n",
              "      <td>2</td>\n",
              "      <td>5</td>\n",
              "      <td>1</td>\n",
              "      <td>8</td>\n",
              "      <td>3</td>\n",
              "      <td>4</td>\n",
              "      <td>3</td>\n",
              "      <td>6</td>\n",
              "      <td>6</td>\n",
              "      <td>1</td>\n",
              "      <td>6</td>\n",
              "      <td>1</td>\n",
              "      <td>-1</td>\n",
              "      <td>2</td>\n",
              "      <td>...</td>\n",
              "      <td>2</td>\n",
              "      <td>1</td>\n",
              "      <td>2</td>\n",
              "      <td>1</td>\n",
              "      <td>1</td>\n",
              "      <td>4</td>\n",
              "      <td>2</td>\n",
              "      <td>-1</td>\n",
              "      <td>3</td>\n",
              "      <td>1</td>\n",
              "      <td>1</td>\n",
              "      <td>-1</td>\n",
              "      <td>1</td>\n",
              "      <td>1</td>\n",
              "      <td>2</td>\n",
              "      <td>2</td>\n",
              "      <td>1</td>\n",
              "      <td>2</td>\n",
              "      <td>2</td>\n",
              "      <td>2</td>\n",
              "      <td>2</td>\n",
              "      <td>2</td>\n",
              "      <td>2</td>\n",
              "      <td>2</td>\n",
              "      <td>371.0</td>\n",
              "      <td>1570.0</td>\n",
              "      <td>37.1</td>\n",
              "      <td>157.0</td>\n",
              "      <td>2</td>\n",
              "      <td>1</td>\n",
              "      <td>1223</td>\n",
              "      <td>1</td>\n",
              "      <td>299.735235</td>\n",
              "      <td>1</td>\n",
              "      <td>2</td>\n",
              "      <td>4</td>\n",
              "      <td>1</td>\n",
              "      <td>1</td>\n",
              "      <td>1</td>\n",
              "      <td>296</td>\n",
              "    </tr>\n",
              "    <tr>\n",
              "      <th>1</th>\n",
              "      <td>2015</td>\n",
              "      <td>76</td>\n",
              "      <td>1</td>\n",
              "      <td>1</td>\n",
              "      <td>2</td>\n",
              "      <td>1</td>\n",
              "      <td>14</td>\n",
              "      <td>4</td>\n",
              "      <td>7</td>\n",
              "      <td>1</td>\n",
              "      <td>1</td>\n",
              "      <td>7</td>\n",
              "      <td>3</td>\n",
              "      <td>2</td>\n",
              "      <td>-1</td>\n",
              "      <td>1</td>\n",
              "      <td>1</td>\n",
              "      <td>1</td>\n",
              "      <td>1</td>\n",
              "      <td>1</td>\n",
              "      <td>2</td>\n",
              "      <td>2</td>\n",
              "      <td>2</td>\n",
              "      <td>4</td>\n",
              "      <td>1</td>\n",
              "      <td>2</td>\n",
              "      <td>2</td>\n",
              "      <td>5</td>\n",
              "      <td>3</td>\n",
              "      <td>8</td>\n",
              "      <td>2</td>\n",
              "      <td>1</td>\n",
              "      <td>8</td>\n",
              "      <td>8</td>\n",
              "      <td>6</td>\n",
              "      <td>1</td>\n",
              "      <td>1</td>\n",
              "      <td>5</td>\n",
              "      <td>-1</td>\n",
              "      <td>2</td>\n",
              "      <td>...</td>\n",
              "      <td>2</td>\n",
              "      <td>3</td>\n",
              "      <td>2</td>\n",
              "      <td>4</td>\n",
              "      <td>4</td>\n",
              "      <td>4</td>\n",
              "      <td>1</td>\n",
              "      <td>2</td>\n",
              "      <td>3</td>\n",
              "      <td>3</td>\n",
              "      <td>1</td>\n",
              "      <td>-1</td>\n",
              "      <td>1</td>\n",
              "      <td>1</td>\n",
              "      <td>2</td>\n",
              "      <td>2</td>\n",
              "      <td>2</td>\n",
              "      <td>2</td>\n",
              "      <td>2</td>\n",
              "      <td>1</td>\n",
              "      <td>2</td>\n",
              "      <td>2</td>\n",
              "      <td>2</td>\n",
              "      <td>2</td>\n",
              "      <td>502.0</td>\n",
              "      <td>1520.0</td>\n",
              "      <td>50.2</td>\n",
              "      <td>152.0</td>\n",
              "      <td>2</td>\n",
              "      <td>2</td>\n",
              "      <td>1223</td>\n",
              "      <td>1</td>\n",
              "      <td>355.170081</td>\n",
              "      <td>1</td>\n",
              "      <td>2</td>\n",
              "      <td>4</td>\n",
              "      <td>1</td>\n",
              "      <td>2</td>\n",
              "      <td>1</td>\n",
              "      <td>296</td>\n",
              "    </tr>\n",
              "    <tr>\n",
              "      <th>2</th>\n",
              "      <td>2015</td>\n",
              "      <td>76</td>\n",
              "      <td>1</td>\n",
              "      <td>1</td>\n",
              "      <td>1</td>\n",
              "      <td>4</td>\n",
              "      <td>13</td>\n",
              "      <td>6</td>\n",
              "      <td>7</td>\n",
              "      <td>1</td>\n",
              "      <td>1</td>\n",
              "      <td>5</td>\n",
              "      <td>5</td>\n",
              "      <td>2</td>\n",
              "      <td>-1</td>\n",
              "      <td>2</td>\n",
              "      <td>1</td>\n",
              "      <td>1</td>\n",
              "      <td>1</td>\n",
              "      <td>1</td>\n",
              "      <td>2</td>\n",
              "      <td>3</td>\n",
              "      <td>1</td>\n",
              "      <td>4</td>\n",
              "      <td>1</td>\n",
              "      <td>2</td>\n",
              "      <td>2</td>\n",
              "      <td>5</td>\n",
              "      <td>3</td>\n",
              "      <td>2</td>\n",
              "      <td>3</td>\n",
              "      <td>1</td>\n",
              "      <td>8</td>\n",
              "      <td>2</td>\n",
              "      <td>8</td>\n",
              "      <td>1</td>\n",
              "      <td>1</td>\n",
              "      <td>5</td>\n",
              "      <td>5</td>\n",
              "      <td>1</td>\n",
              "      <td>...</td>\n",
              "      <td>2</td>\n",
              "      <td>1</td>\n",
              "      <td>2</td>\n",
              "      <td>1</td>\n",
              "      <td>2</td>\n",
              "      <td>3</td>\n",
              "      <td>1</td>\n",
              "      <td>2</td>\n",
              "      <td>1</td>\n",
              "      <td>2</td>\n",
              "      <td>5</td>\n",
              "      <td>99</td>\n",
              "      <td>1</td>\n",
              "      <td>-1</td>\n",
              "      <td>2</td>\n",
              "      <td>2</td>\n",
              "      <td>1</td>\n",
              "      <td>1</td>\n",
              "      <td>1</td>\n",
              "      <td>1</td>\n",
              "      <td>1</td>\n",
              "      <td>1</td>\n",
              "      <td>1</td>\n",
              "      <td>1</td>\n",
              "      <td>482.0</td>\n",
              "      <td>1614.0</td>\n",
              "      <td>48.2</td>\n",
              "      <td>161.4</td>\n",
              "      <td>2</td>\n",
              "      <td>2</td>\n",
              "      <td>1223</td>\n",
              "      <td>1</td>\n",
              "      <td>299.735235</td>\n",
              "      <td>1</td>\n",
              "      <td>2</td>\n",
              "      <td>4</td>\n",
              "      <td>1</td>\n",
              "      <td>3</td>\n",
              "      <td>1</td>\n",
              "      <td>296</td>\n",
              "    </tr>\n",
              "    <tr>\n",
              "      <th>3</th>\n",
              "      <td>2015</td>\n",
              "      <td>76</td>\n",
              "      <td>1</td>\n",
              "      <td>1</td>\n",
              "      <td>1</td>\n",
              "      <td>1</td>\n",
              "      <td>14</td>\n",
              "      <td>6</td>\n",
              "      <td>7</td>\n",
              "      <td>1</td>\n",
              "      <td>1</td>\n",
              "      <td>7</td>\n",
              "      <td>4</td>\n",
              "      <td>2</td>\n",
              "      <td>-1</td>\n",
              "      <td>1</td>\n",
              "      <td>1</td>\n",
              "      <td>1</td>\n",
              "      <td>1</td>\n",
              "      <td>1</td>\n",
              "      <td>2</td>\n",
              "      <td>4</td>\n",
              "      <td>2</td>\n",
              "      <td>4</td>\n",
              "      <td>1</td>\n",
              "      <td>2</td>\n",
              "      <td>2</td>\n",
              "      <td>6</td>\n",
              "      <td>3</td>\n",
              "      <td>2</td>\n",
              "      <td>4</td>\n",
              "      <td>1</td>\n",
              "      <td>3</td>\n",
              "      <td>2</td>\n",
              "      <td>7</td>\n",
              "      <td>1</td>\n",
              "      <td>5</td>\n",
              "      <td>1</td>\n",
              "      <td>-1</td>\n",
              "      <td>2</td>\n",
              "      <td>...</td>\n",
              "      <td>2</td>\n",
              "      <td>1</td>\n",
              "      <td>2</td>\n",
              "      <td>2</td>\n",
              "      <td>2</td>\n",
              "      <td>4</td>\n",
              "      <td>1</td>\n",
              "      <td>10</td>\n",
              "      <td>3</td>\n",
              "      <td>1</td>\n",
              "      <td>2</td>\n",
              "      <td>-1</td>\n",
              "      <td>1</td>\n",
              "      <td>-1</td>\n",
              "      <td>2</td>\n",
              "      <td>2</td>\n",
              "      <td>1</td>\n",
              "      <td>2</td>\n",
              "      <td>2</td>\n",
              "      <td>2</td>\n",
              "      <td>1</td>\n",
              "      <td>2</td>\n",
              "      <td>2</td>\n",
              "      <td>2</td>\n",
              "      <td>694.0</td>\n",
              "      <td>1725.0</td>\n",
              "      <td>69.4</td>\n",
              "      <td>172.5</td>\n",
              "      <td>2</td>\n",
              "      <td>3</td>\n",
              "      <td>1223</td>\n",
              "      <td>1</td>\n",
              "      <td>355.170081</td>\n",
              "      <td>1</td>\n",
              "      <td>2</td>\n",
              "      <td>4</td>\n",
              "      <td>1</td>\n",
              "      <td>4</td>\n",
              "      <td>1</td>\n",
              "      <td>296</td>\n",
              "    </tr>\n",
              "    <tr>\n",
              "      <th>4</th>\n",
              "      <td>2015</td>\n",
              "      <td>76</td>\n",
              "      <td>1</td>\n",
              "      <td>1</td>\n",
              "      <td>1</td>\n",
              "      <td>1</td>\n",
              "      <td>13</td>\n",
              "      <td>9</td>\n",
              "      <td>7</td>\n",
              "      <td>1</td>\n",
              "      <td>2</td>\n",
              "      <td>5</td>\n",
              "      <td>4</td>\n",
              "      <td>2</td>\n",
              "      <td>-1</td>\n",
              "      <td>2</td>\n",
              "      <td>1</td>\n",
              "      <td>1</td>\n",
              "      <td>1</td>\n",
              "      <td>1</td>\n",
              "      <td>2</td>\n",
              "      <td>5</td>\n",
              "      <td>1</td>\n",
              "      <td>4</td>\n",
              "      <td>1</td>\n",
              "      <td>2</td>\n",
              "      <td>2</td>\n",
              "      <td>6</td>\n",
              "      <td>5</td>\n",
              "      <td>6</td>\n",
              "      <td>3</td>\n",
              "      <td>5</td>\n",
              "      <td>2</td>\n",
              "      <td>6</td>\n",
              "      <td>2</td>\n",
              "      <td>1</td>\n",
              "      <td>5</td>\n",
              "      <td>1</td>\n",
              "      <td>5</td>\n",
              "      <td>1</td>\n",
              "      <td>...</td>\n",
              "      <td>2</td>\n",
              "      <td>1</td>\n",
              "      <td>4</td>\n",
              "      <td>2</td>\n",
              "      <td>2</td>\n",
              "      <td>4</td>\n",
              "      <td>1</td>\n",
              "      <td>3</td>\n",
              "      <td>2</td>\n",
              "      <td>2</td>\n",
              "      <td>2</td>\n",
              "      <td>13</td>\n",
              "      <td>1</td>\n",
              "      <td>-1</td>\n",
              "      <td>1</td>\n",
              "      <td>2</td>\n",
              "      <td>1</td>\n",
              "      <td>1</td>\n",
              "      <td>1</td>\n",
              "      <td>1</td>\n",
              "      <td>1</td>\n",
              "      <td>1</td>\n",
              "      <td>1</td>\n",
              "      <td>1</td>\n",
              "      <td>789.0</td>\n",
              "      <td>1675.0</td>\n",
              "      <td>78.9</td>\n",
              "      <td>167.5</td>\n",
              "      <td>2</td>\n",
              "      <td>4</td>\n",
              "      <td>1223</td>\n",
              "      <td>1</td>\n",
              "      <td>299.735235</td>\n",
              "      <td>1</td>\n",
              "      <td>2</td>\n",
              "      <td>4</td>\n",
              "      <td>1</td>\n",
              "      <td>5</td>\n",
              "      <td>1</td>\n",
              "      <td>296</td>\n",
              "    </tr>\n",
              "  </tbody>\n",
              "</table>\n",
              "<p>5 rows × 181 columns</p>\n",
              "</div>"
            ],
            "text/plain": [
              "   ANOPESQ  PAIS  REGEOGR  VB00004  VB01001  ...  V0008  V0041  aluno  escola  turma\n",
              "0     2015    76        1        1        2  ...      4      1      1       1    296\n",
              "1     2015    76        1        1        2  ...      4      1      2       1    296\n",
              "2     2015    76        1        1        1  ...      4      1      3       1    296\n",
              "3     2015    76        1        1        1  ...      4      1      4       1    296\n",
              "4     2015    76        1        1        1  ...      4      1      5       1    296\n",
              "\n",
              "[5 rows x 181 columns]"
            ]
          },
          "metadata": {
            "tags": []
          },
          "execution_count": 10
        }
      ]
    },
    {
      "cell_type": "code",
      "metadata": {
        "id": "xnVf2O7Er5cW",
        "colab": {
          "base_uri": "https://localhost:8080/"
        },
        "outputId": "ea991d14-ff57-463e-d0f9-0a1b60f291c6"
      },
      "source": [
        "dados.info()"
      ],
      "execution_count": 11,
      "outputs": [
        {
          "output_type": "stream",
          "text": [
            "<class 'pandas.core.frame.DataFrame'>\n",
            "RangeIndex: 16556 entries, 0 to 16555\n",
            "Columns: 181 entries, ANOPESQ to turma\n",
            "dtypes: float64(10), int64(171)\n",
            "memory usage: 22.9 MB\n"
          ],
          "name": "stdout"
        }
      ]
    },
    {
      "cell_type": "markdown",
      "metadata": {
        "id": "c7bSaebH76NO"
      },
      "source": [
        "## Adicionando e traduzindo colunas"
      ]
    },
    {
      "cell_type": "markdown",
      "metadata": {
        "id": "nT2AEWBcCupF"
      },
      "source": [
        "**Função**\r\n",
        "\r\n",
        "Inicialmente, vamos criar uma função que utilize o dicionário criado anteriormente para traduzir o nome e os valores de uma coluna usando o seu código como referência."
      ]
    },
    {
      "cell_type": "code",
      "metadata": {
        "id": "9DQuI8baB3Xd"
      },
      "source": [
        "def traduzir_coluna(coluna_nome, dataset):\r\n",
        "    coluna = dicio_pense[coluna_nome]\r\n",
        "    dataset[coluna_nome] = dataset[coluna['codigo']].map(coluna['respostas'])"
      ],
      "execution_count": 12,
      "outputs": []
    },
    {
      "cell_type": "markdown",
      "metadata": {
        "id": "OsmuwKt4zxUs"
      },
      "source": [
        "Agora que criamos a função de tradução, vamos adicionar e 'traduzir' algumas colunas antes de começarmos nossas análises."
      ]
    },
    {
      "cell_type": "markdown",
      "metadata": {
        "id": "lA1ADLWA9foT"
      },
      "source": [
        "**Região**"
      ]
    },
    {
      "cell_type": "code",
      "metadata": {
        "id": "Qilxi_dqr5Z4",
        "colab": {
          "base_uri": "https://localhost:8080/",
          "height": 0
        },
        "outputId": "1236fa5b-7ebb-4f35-85d1-94fa4ee4c88f"
      },
      "source": [
        "traduzir_coluna('regiao', dados)\r\n",
        "dados[['REGEOGR', 'regiao']].sample(10)"
      ],
      "execution_count": 13,
      "outputs": [
        {
          "output_type": "execute_result",
          "data": {
            "text/html": [
              "<div>\n",
              "<style scoped>\n",
              "    .dataframe tbody tr th:only-of-type {\n",
              "        vertical-align: middle;\n",
              "    }\n",
              "\n",
              "    .dataframe tbody tr th {\n",
              "        vertical-align: top;\n",
              "    }\n",
              "\n",
              "    .dataframe thead th {\n",
              "        text-align: right;\n",
              "    }\n",
              "</style>\n",
              "<table border=\"1\" class=\"dataframe\">\n",
              "  <thead>\n",
              "    <tr style=\"text-align: right;\">\n",
              "      <th></th>\n",
              "      <th>REGEOGR</th>\n",
              "      <th>regiao</th>\n",
              "    </tr>\n",
              "  </thead>\n",
              "  <tbody>\n",
              "    <tr>\n",
              "      <th>337</th>\n",
              "      <td>1</td>\n",
              "      <td>Norte</td>\n",
              "    </tr>\n",
              "    <tr>\n",
              "      <th>9185</th>\n",
              "      <td>3</td>\n",
              "      <td>Sudeste</td>\n",
              "    </tr>\n",
              "    <tr>\n",
              "      <th>12405</th>\n",
              "      <td>4</td>\n",
              "      <td>Sul</td>\n",
              "    </tr>\n",
              "    <tr>\n",
              "      <th>11444</th>\n",
              "      <td>4</td>\n",
              "      <td>Sul</td>\n",
              "    </tr>\n",
              "    <tr>\n",
              "      <th>9131</th>\n",
              "      <td>3</td>\n",
              "      <td>Sudeste</td>\n",
              "    </tr>\n",
              "    <tr>\n",
              "      <th>14557</th>\n",
              "      <td>5</td>\n",
              "      <td>Centro-Oeste</td>\n",
              "    </tr>\n",
              "    <tr>\n",
              "      <th>14973</th>\n",
              "      <td>5</td>\n",
              "      <td>Centro-Oeste</td>\n",
              "    </tr>\n",
              "    <tr>\n",
              "      <th>3521</th>\n",
              "      <td>2</td>\n",
              "      <td>Nordeste</td>\n",
              "    </tr>\n",
              "    <tr>\n",
              "      <th>771</th>\n",
              "      <td>1</td>\n",
              "      <td>Norte</td>\n",
              "    </tr>\n",
              "    <tr>\n",
              "      <th>9114</th>\n",
              "      <td>3</td>\n",
              "      <td>Sudeste</td>\n",
              "    </tr>\n",
              "  </tbody>\n",
              "</table>\n",
              "</div>"
            ],
            "text/plain": [
              "       REGEOGR        regiao\n",
              "337          1         Norte\n",
              "9185         3       Sudeste\n",
              "12405        4           Sul\n",
              "11444        4           Sul\n",
              "9131         3       Sudeste\n",
              "14557        5  Centro-Oeste\n",
              "14973        5  Centro-Oeste\n",
              "3521         2      Nordeste\n",
              "771          1         Norte\n",
              "9114         3       Sudeste"
            ]
          },
          "metadata": {
            "tags": []
          },
          "execution_count": 13
        }
      ]
    },
    {
      "cell_type": "markdown",
      "metadata": {
        "id": "nr7MMwEbntP3"
      },
      "source": [
        "**Série e Nível de Ensino**"
      ]
    },
    {
      "cell_type": "code",
      "metadata": {
        "colab": {
          "base_uri": "https://localhost:8080/",
          "height": 0
        },
        "id": "gYDb3h44kN3A",
        "outputId": "a31fc2d5-4e02-42df-8bb0-b809f6638840"
      },
      "source": [
        "coluna_serie = dicio_pense['serie']['codigo']\r\n",
        "\r\n",
        "traduzir_coluna('serie', dados)\r\n",
        "\r\n",
        "dados['serie'] = dados['serie'].str.replace(' do Ensino Fundamental','')\r\n",
        "dados['serie'] = dados['serie'].str.replace(' Ensino Médio','')\r\n",
        "dados['serie'] = dados['serie'].str.replace(' / ','/')\r\n",
        "\r\n",
        "dados[[coluna_serie, 'serie']].sample(5)"
      ],
      "execution_count": 14,
      "outputs": [
        {
          "output_type": "execute_result",
          "data": {
            "text/html": [
              "<div>\n",
              "<style scoped>\n",
              "    .dataframe tbody tr th:only-of-type {\n",
              "        vertical-align: middle;\n",
              "    }\n",
              "\n",
              "    .dataframe tbody tr th {\n",
              "        vertical-align: top;\n",
              "    }\n",
              "\n",
              "    .dataframe thead th {\n",
              "        text-align: right;\n",
              "    }\n",
              "</style>\n",
              "<table border=\"1\" class=\"dataframe\">\n",
              "  <thead>\n",
              "    <tr style=\"text-align: right;\">\n",
              "      <th></th>\n",
              "      <th>VB01021</th>\n",
              "      <th>serie</th>\n",
              "    </tr>\n",
              "  </thead>\n",
              "  <tbody>\n",
              "    <tr>\n",
              "      <th>9908</th>\n",
              "      <td>2</td>\n",
              "      <td>7º ano/6ª série</td>\n",
              "    </tr>\n",
              "    <tr>\n",
              "      <th>9090</th>\n",
              "      <td>4</td>\n",
              "      <td>9º ano/8ª série</td>\n",
              "    </tr>\n",
              "    <tr>\n",
              "      <th>13492</th>\n",
              "      <td>3</td>\n",
              "      <td>8º ano/7ª série</td>\n",
              "    </tr>\n",
              "    <tr>\n",
              "      <th>9502</th>\n",
              "      <td>1</td>\n",
              "      <td>6º ano/5ª série</td>\n",
              "    </tr>\n",
              "    <tr>\n",
              "      <th>13682</th>\n",
              "      <td>3</td>\n",
              "      <td>8º ano/7ª série</td>\n",
              "    </tr>\n",
              "  </tbody>\n",
              "</table>\n",
              "</div>"
            ],
            "text/plain": [
              "       VB01021            serie\n",
              "9908         2  7º ano/6ª série\n",
              "9090         4  9º ano/8ª série\n",
              "13492        3  8º ano/7ª série\n",
              "9502         1  6º ano/5ª série\n",
              "13682        3  8º ano/7ª série"
            ]
          },
          "metadata": {
            "tags": []
          },
          "execution_count": 14
        }
      ]
    },
    {
      "cell_type": "code",
      "metadata": {
        "colab": {
          "base_uri": "https://localhost:8080/"
        },
        "id": "Og9Jx2Aylm8S",
        "outputId": "7380787a-925b-492f-ab6c-501d835763b5"
      },
      "source": [
        "dados['serie'].unique()"
      ],
      "execution_count": 15,
      "outputs": [
        {
          "output_type": "execute_result",
          "data": {
            "text/plain": [
              "array(['9º ano/8ª série', '8º ano/7ª série', '2º ano', '6º ano/5ª série',\n",
              "       '3º ano', '7º ano/6ª série', '1º ano', 'Não informado'],\n",
              "      dtype=object)"
            ]
          },
          "metadata": {
            "tags": []
          },
          "execution_count": 15
        }
      ]
    },
    {
      "cell_type": "code",
      "metadata": {
        "colab": {
          "base_uri": "https://localhost:8080/",
          "height": 0
        },
        "id": "2jAlDcf8nzCH",
        "outputId": "5f78860f-9cc6-4464-de70-4fecd8a013cc"
      },
      "source": [
        "dicio_ensino = {\r\n",
        "    1: 'Ensino Fundamental',\r\n",
        "    2: 'Ensino Fundamental',\r\n",
        "    3: 'Ensino Fundamental',\r\n",
        "    4: 'Ensino Fundamental',\r\n",
        "\r\n",
        "    5: 'Ensino Médio',\r\n",
        "    6: 'Ensino Médio',\r\n",
        "    7: 'Ensino Médio',\r\n",
        "\r\n",
        "    99: 'Não Informado'\r\n",
        "}\r\n",
        "\r\n",
        "dados['ensino'] = dados[coluna_serie].map(dicio_ensino)\r\n",
        "dados[['ensino', coluna_serie]].sample(5)"
      ],
      "execution_count": 16,
      "outputs": [
        {
          "output_type": "execute_result",
          "data": {
            "text/html": [
              "<div>\n",
              "<style scoped>\n",
              "    .dataframe tbody tr th:only-of-type {\n",
              "        vertical-align: middle;\n",
              "    }\n",
              "\n",
              "    .dataframe tbody tr th {\n",
              "        vertical-align: top;\n",
              "    }\n",
              "\n",
              "    .dataframe thead th {\n",
              "        text-align: right;\n",
              "    }\n",
              "</style>\n",
              "<table border=\"1\" class=\"dataframe\">\n",
              "  <thead>\n",
              "    <tr style=\"text-align: right;\">\n",
              "      <th></th>\n",
              "      <th>ensino</th>\n",
              "      <th>VB01021</th>\n",
              "    </tr>\n",
              "  </thead>\n",
              "  <tbody>\n",
              "    <tr>\n",
              "      <th>14680</th>\n",
              "      <td>Ensino Médio</td>\n",
              "      <td>5</td>\n",
              "    </tr>\n",
              "    <tr>\n",
              "      <th>13173</th>\n",
              "      <td>Ensino Fundamental</td>\n",
              "      <td>2</td>\n",
              "    </tr>\n",
              "    <tr>\n",
              "      <th>16261</th>\n",
              "      <td>Ensino Fundamental</td>\n",
              "      <td>3</td>\n",
              "    </tr>\n",
              "    <tr>\n",
              "      <th>16470</th>\n",
              "      <td>Ensino Médio</td>\n",
              "      <td>6</td>\n",
              "    </tr>\n",
              "    <tr>\n",
              "      <th>10639</th>\n",
              "      <td>Ensino Fundamental</td>\n",
              "      <td>2</td>\n",
              "    </tr>\n",
              "  </tbody>\n",
              "</table>\n",
              "</div>"
            ],
            "text/plain": [
              "                   ensino  VB01021\n",
              "14680        Ensino Médio        5\n",
              "13173  Ensino Fundamental        2\n",
              "16261  Ensino Fundamental        3\n",
              "16470        Ensino Médio        6\n",
              "10639  Ensino Fundamental        2"
            ]
          },
          "metadata": {
            "tags": []
          },
          "execution_count": 16
        }
      ]
    },
    {
      "cell_type": "markdown",
      "metadata": {
        "id": "kIQPEBU81jFC"
      },
      "source": [
        "**Tipos de Escola**"
      ]
    },
    {
      "cell_type": "code",
      "metadata": {
        "colab": {
          "base_uri": "https://localhost:8080/",
          "height": 0
        },
        "id": "HhpHE7t91n34",
        "outputId": "ef749426-e979-48a1-f543-88bedee26aed"
      },
      "source": [
        "traduzir_coluna('tipo_escola', dados)\r\n",
        "dados[['tipo_escola', 'V0007']].sample(5)"
      ],
      "execution_count": 17,
      "outputs": [
        {
          "output_type": "execute_result",
          "data": {
            "text/html": [
              "<div>\n",
              "<style scoped>\n",
              "    .dataframe tbody tr th:only-of-type {\n",
              "        vertical-align: middle;\n",
              "    }\n",
              "\n",
              "    .dataframe tbody tr th {\n",
              "        vertical-align: top;\n",
              "    }\n",
              "\n",
              "    .dataframe thead th {\n",
              "        text-align: right;\n",
              "    }\n",
              "</style>\n",
              "<table border=\"1\" class=\"dataframe\">\n",
              "  <thead>\n",
              "    <tr style=\"text-align: right;\">\n",
              "      <th></th>\n",
              "      <th>tipo_escola</th>\n",
              "      <th>V0007</th>\n",
              "    </tr>\n",
              "  </thead>\n",
              "  <tbody>\n",
              "    <tr>\n",
              "      <th>7796</th>\n",
              "      <td>Pública</td>\n",
              "      <td>1</td>\n",
              "    </tr>\n",
              "    <tr>\n",
              "      <th>3681</th>\n",
              "      <td>Pública</td>\n",
              "      <td>1</td>\n",
              "    </tr>\n",
              "    <tr>\n",
              "      <th>6615</th>\n",
              "      <td>Privada</td>\n",
              "      <td>2</td>\n",
              "    </tr>\n",
              "    <tr>\n",
              "      <th>10662</th>\n",
              "      <td>Pública</td>\n",
              "      <td>1</td>\n",
              "    </tr>\n",
              "    <tr>\n",
              "      <th>7251</th>\n",
              "      <td>Privada</td>\n",
              "      <td>2</td>\n",
              "    </tr>\n",
              "  </tbody>\n",
              "</table>\n",
              "</div>"
            ],
            "text/plain": [
              "      tipo_escola  V0007\n",
              "7796      Pública      1\n",
              "3681      Pública      1\n",
              "6615      Privada      2\n",
              "10662     Pública      1\n",
              "7251      Privada      2"
            ]
          },
          "metadata": {
            "tags": []
          },
          "execution_count": 17
        }
      ]
    },
    {
      "cell_type": "code",
      "metadata": {
        "colab": {
          "base_uri": "https://localhost:8080/",
          "height": 0
        },
        "id": "QFKsMA3hT9ZE",
        "outputId": "c4fa3799-d27a-4214-c4cb-87af6546ce55"
      },
      "source": [
        "traduzir_coluna('situacao_escola', dados)\r\n",
        "dados[['situacao_escola', 'V0006']].sample(5)"
      ],
      "execution_count": 18,
      "outputs": [
        {
          "output_type": "execute_result",
          "data": {
            "text/html": [
              "<div>\n",
              "<style scoped>\n",
              "    .dataframe tbody tr th:only-of-type {\n",
              "        vertical-align: middle;\n",
              "    }\n",
              "\n",
              "    .dataframe tbody tr th {\n",
              "        vertical-align: top;\n",
              "    }\n",
              "\n",
              "    .dataframe thead th {\n",
              "        text-align: right;\n",
              "    }\n",
              "</style>\n",
              "<table border=\"1\" class=\"dataframe\">\n",
              "  <thead>\n",
              "    <tr style=\"text-align: right;\">\n",
              "      <th></th>\n",
              "      <th>situacao_escola</th>\n",
              "      <th>V0006</th>\n",
              "    </tr>\n",
              "  </thead>\n",
              "  <tbody>\n",
              "    <tr>\n",
              "      <th>11130</th>\n",
              "      <td>Urbana</td>\n",
              "      <td>1</td>\n",
              "    </tr>\n",
              "    <tr>\n",
              "      <th>11177</th>\n",
              "      <td>Urbana</td>\n",
              "      <td>1</td>\n",
              "    </tr>\n",
              "    <tr>\n",
              "      <th>4833</th>\n",
              "      <td>Urbana</td>\n",
              "      <td>1</td>\n",
              "    </tr>\n",
              "    <tr>\n",
              "      <th>1338</th>\n",
              "      <td>Urbana</td>\n",
              "      <td>1</td>\n",
              "    </tr>\n",
              "    <tr>\n",
              "      <th>10394</th>\n",
              "      <td>Urbana</td>\n",
              "      <td>1</td>\n",
              "    </tr>\n",
              "  </tbody>\n",
              "</table>\n",
              "</div>"
            ],
            "text/plain": [
              "      situacao_escola  V0006\n",
              "11130          Urbana      1\n",
              "11177          Urbana      1\n",
              "4833           Urbana      1\n",
              "1338           Urbana      1\n",
              "10394          Urbana      1"
            ]
          },
          "metadata": {
            "tags": []
          },
          "execution_count": 18
        }
      ]
    },
    {
      "cell_type": "markdown",
      "metadata": {
        "id": "F7Qu6ZN39hji"
      },
      "source": [
        "**IMC**"
      ]
    },
    {
      "cell_type": "code",
      "metadata": {
        "colab": {
          "base_uri": "https://localhost:8080/"
        },
        "id": "eRnpZGsd9i9E",
        "outputId": "acdbeab4-39c9-4352-993b-404dd7b20e90"
      },
      "source": [
        "dados['IMC'] = dados[\"VB17003\"] / ((dados[\"VB17004\"]/100)**2)\r\n",
        "dados['IMC']"
      ],
      "execution_count": 19,
      "outputs": [
        {
          "output_type": "execute_result",
          "data": {
            "text/plain": [
              "0        15.051321\n",
              "1        21.727839\n",
              "2        18.502907\n",
              "3        23.322831\n",
              "4        28.122076\n",
              "           ...    \n",
              "16551    20.113223\n",
              "16552    17.930782\n",
              "16553    23.968489\n",
              "16554    18.995343\n",
              "16555    23.303246\n",
              "Name: IMC, Length: 16556, dtype: float64"
            ]
          },
          "metadata": {
            "tags": []
          },
          "execution_count": 19
        }
      ]
    },
    {
      "cell_type": "code",
      "metadata": {
        "colab": {
          "base_uri": "https://localhost:8080/",
          "height": 0
        },
        "id": "ay0n2q9Z9vxh",
        "outputId": "af3a7cab-e7f7-4564-c00c-9afd349bbbf2"
      },
      "source": [
        "classes = [ 0, 18.5, 25, 30, 35, 40, 99]\r\n",
        "labels = ['abaixo', 'normal', 'sobrepeso', 'obesidade grau I',\r\n",
        "          'obesidade grau II', 'obesidade grau III']\r\n",
        "\r\n",
        "dados['classe_IMC'] = pd.cut(x = dados['IMC'],\r\n",
        "       bins = classes,\r\n",
        "       labels = labels,\r\n",
        "       include_lowest = True)\r\n",
        "\r\n",
        "dados[['IMC', 'classe_IMC']].sample(5)"
      ],
      "execution_count": 20,
      "outputs": [
        {
          "output_type": "execute_result",
          "data": {
            "text/html": [
              "<div>\n",
              "<style scoped>\n",
              "    .dataframe tbody tr th:only-of-type {\n",
              "        vertical-align: middle;\n",
              "    }\n",
              "\n",
              "    .dataframe tbody tr th {\n",
              "        vertical-align: top;\n",
              "    }\n",
              "\n",
              "    .dataframe thead th {\n",
              "        text-align: right;\n",
              "    }\n",
              "</style>\n",
              "<table border=\"1\" class=\"dataframe\">\n",
              "  <thead>\n",
              "    <tr style=\"text-align: right;\">\n",
              "      <th></th>\n",
              "      <th>IMC</th>\n",
              "      <th>classe_IMC</th>\n",
              "    </tr>\n",
              "  </thead>\n",
              "  <tbody>\n",
              "    <tr>\n",
              "      <th>10050</th>\n",
              "      <td>26.484357</td>\n",
              "      <td>sobrepeso</td>\n",
              "    </tr>\n",
              "    <tr>\n",
              "      <th>11468</th>\n",
              "      <td>18.660182</td>\n",
              "      <td>normal</td>\n",
              "    </tr>\n",
              "    <tr>\n",
              "      <th>1908</th>\n",
              "      <td>23.689575</td>\n",
              "      <td>normal</td>\n",
              "    </tr>\n",
              "    <tr>\n",
              "      <th>495</th>\n",
              "      <td>22.386379</td>\n",
              "      <td>normal</td>\n",
              "    </tr>\n",
              "    <tr>\n",
              "      <th>15954</th>\n",
              "      <td>23.595456</td>\n",
              "      <td>normal</td>\n",
              "    </tr>\n",
              "  </tbody>\n",
              "</table>\n",
              "</div>"
            ],
            "text/plain": [
              "             IMC classe_IMC\n",
              "10050  26.484357  sobrepeso\n",
              "11468  18.660182     normal\n",
              "1908   23.689575     normal\n",
              "495    22.386379     normal\n",
              "15954  23.595456     normal"
            ]
          },
          "metadata": {
            "tags": []
          },
          "execution_count": 20
        }
      ]
    },
    {
      "cell_type": "code",
      "metadata": {
        "colab": {
          "base_uri": "https://localhost:8080/",
          "height": 0
        },
        "id": "C6imYgh5-vZW",
        "outputId": "e108679e-4e4f-4478-aacd-d761b202cabb"
      },
      "source": [
        "dados.query('IMC > 30')[['IMC', 'classe_IMC']]"
      ],
      "execution_count": 21,
      "outputs": [
        {
          "output_type": "execute_result",
          "data": {
            "text/html": [
              "<div>\n",
              "<style scoped>\n",
              "    .dataframe tbody tr th:only-of-type {\n",
              "        vertical-align: middle;\n",
              "    }\n",
              "\n",
              "    .dataframe tbody tr th {\n",
              "        vertical-align: top;\n",
              "    }\n",
              "\n",
              "    .dataframe thead th {\n",
              "        text-align: right;\n",
              "    }\n",
              "</style>\n",
              "<table border=\"1\" class=\"dataframe\">\n",
              "  <thead>\n",
              "    <tr style=\"text-align: right;\">\n",
              "      <th></th>\n",
              "      <th>IMC</th>\n",
              "      <th>classe_IMC</th>\n",
              "    </tr>\n",
              "  </thead>\n",
              "  <tbody>\n",
              "    <tr>\n",
              "      <th>15</th>\n",
              "      <td>34.506506</td>\n",
              "      <td>obesidade grau I</td>\n",
              "    </tr>\n",
              "    <tr>\n",
              "      <th>44</th>\n",
              "      <td>37.015532</td>\n",
              "      <td>obesidade grau II</td>\n",
              "    </tr>\n",
              "    <tr>\n",
              "      <th>66</th>\n",
              "      <td>31.473861</td>\n",
              "      <td>obesidade grau I</td>\n",
              "    </tr>\n",
              "    <tr>\n",
              "      <th>104</th>\n",
              "      <td>35.055632</td>\n",
              "      <td>obesidade grau II</td>\n",
              "    </tr>\n",
              "    <tr>\n",
              "      <th>110</th>\n",
              "      <td>31.054687</td>\n",
              "      <td>obesidade grau I</td>\n",
              "    </tr>\n",
              "    <tr>\n",
              "      <th>...</th>\n",
              "      <td>...</td>\n",
              "      <td>...</td>\n",
              "    </tr>\n",
              "    <tr>\n",
              "      <th>16451</th>\n",
              "      <td>32.171202</td>\n",
              "      <td>obesidade grau I</td>\n",
              "    </tr>\n",
              "    <tr>\n",
              "      <th>16503</th>\n",
              "      <td>36.634860</td>\n",
              "      <td>obesidade grau II</td>\n",
              "    </tr>\n",
              "    <tr>\n",
              "      <th>16533</th>\n",
              "      <td>32.506673</td>\n",
              "      <td>obesidade grau I</td>\n",
              "    </tr>\n",
              "    <tr>\n",
              "      <th>16536</th>\n",
              "      <td>30.231284</td>\n",
              "      <td>obesidade grau I</td>\n",
              "    </tr>\n",
              "    <tr>\n",
              "      <th>16545</th>\n",
              "      <td>32.839415</td>\n",
              "      <td>obesidade grau I</td>\n",
              "    </tr>\n",
              "  </tbody>\n",
              "</table>\n",
              "<p>633 rows × 2 columns</p>\n",
              "</div>"
            ],
            "text/plain": [
              "             IMC         classe_IMC\n",
              "15     34.506506   obesidade grau I\n",
              "44     37.015532  obesidade grau II\n",
              "66     31.473861   obesidade grau I\n",
              "104    35.055632  obesidade grau II\n",
              "110    31.054687   obesidade grau I\n",
              "...          ...                ...\n",
              "16451  32.171202   obesidade grau I\n",
              "16503  36.634860  obesidade grau II\n",
              "16533  32.506673   obesidade grau I\n",
              "16536  30.231284   obesidade grau I\n",
              "16545  32.839415   obesidade grau I\n",
              "\n",
              "[633 rows x 2 columns]"
            ]
          },
          "metadata": {
            "tags": []
          },
          "execution_count": 21
        }
      ]
    },
    {
      "cell_type": "markdown",
      "metadata": {
        "id": "vfrVrp4U_BHl"
      },
      "source": [
        "**Sexo**"
      ]
    },
    {
      "cell_type": "code",
      "metadata": {
        "colab": {
          "base_uri": "https://localhost:8080/",
          "height": 0
        },
        "id": "LW9Qxy6vBAxT",
        "outputId": "47e7caac-1d39-471f-9778-2dc9c4bdfd24"
      },
      "source": [
        "traduzir_coluna('sexo', dados)\r\n",
        "dados[['VB01001', 'sexo']].sample(5)"
      ],
      "execution_count": 22,
      "outputs": [
        {
          "output_type": "execute_result",
          "data": {
            "text/html": [
              "<div>\n",
              "<style scoped>\n",
              "    .dataframe tbody tr th:only-of-type {\n",
              "        vertical-align: middle;\n",
              "    }\n",
              "\n",
              "    .dataframe tbody tr th {\n",
              "        vertical-align: top;\n",
              "    }\n",
              "\n",
              "    .dataframe thead th {\n",
              "        text-align: right;\n",
              "    }\n",
              "</style>\n",
              "<table border=\"1\" class=\"dataframe\">\n",
              "  <thead>\n",
              "    <tr style=\"text-align: right;\">\n",
              "      <th></th>\n",
              "      <th>VB01001</th>\n",
              "      <th>sexo</th>\n",
              "    </tr>\n",
              "  </thead>\n",
              "  <tbody>\n",
              "    <tr>\n",
              "      <th>13599</th>\n",
              "      <td>2</td>\n",
              "      <td>Feminino</td>\n",
              "    </tr>\n",
              "    <tr>\n",
              "      <th>14415</th>\n",
              "      <td>2</td>\n",
              "      <td>Feminino</td>\n",
              "    </tr>\n",
              "    <tr>\n",
              "      <th>12965</th>\n",
              "      <td>2</td>\n",
              "      <td>Feminino</td>\n",
              "    </tr>\n",
              "    <tr>\n",
              "      <th>6338</th>\n",
              "      <td>1</td>\n",
              "      <td>Masculino</td>\n",
              "    </tr>\n",
              "    <tr>\n",
              "      <th>16006</th>\n",
              "      <td>1</td>\n",
              "      <td>Masculino</td>\n",
              "    </tr>\n",
              "  </tbody>\n",
              "</table>\n",
              "</div>"
            ],
            "text/plain": [
              "       VB01001       sexo\n",
              "13599        2   Feminino\n",
              "14415        2   Feminino\n",
              "12965        2   Feminino\n",
              "6338         1  Masculino\n",
              "16006        1  Masculino"
            ]
          },
          "metadata": {
            "tags": []
          },
          "execution_count": 22
        }
      ]
    },
    {
      "cell_type": "code",
      "metadata": {
        "colab": {
          "base_uri": "https://localhost:8080/"
        },
        "id": "h5uINT5YyUkK",
        "outputId": "882e9a43-2ddd-47fb-8535-5d729291ce2f"
      },
      "source": [
        "dados['sexo'].unique()"
      ],
      "execution_count": 23,
      "outputs": [
        {
          "output_type": "execute_result",
          "data": {
            "text/plain": [
              "array(['Feminino', 'Masculino'], dtype=object)"
            ]
          },
          "metadata": {
            "tags": []
          },
          "execution_count": 23
        }
      ]
    },
    {
      "cell_type": "markdown",
      "metadata": {
        "id": "nTKLzmtNDiHG"
      },
      "source": [
        "**Cor/Raça**"
      ]
    },
    {
      "cell_type": "code",
      "metadata": {
        "colab": {
          "base_uri": "https://localhost:8080/",
          "height": 0
        },
        "id": "-wjvC03aDlIK",
        "outputId": "3f12aba4-ad82-43f1-ee4d-9ddc30cb2890"
      },
      "source": [
        "traduzir_coluna('cor_raca', dados)\r\n",
        "dados[['VB01002', 'cor_raca']].sample(5)"
      ],
      "execution_count": 24,
      "outputs": [
        {
          "output_type": "execute_result",
          "data": {
            "text/html": [
              "<div>\n",
              "<style scoped>\n",
              "    .dataframe tbody tr th:only-of-type {\n",
              "        vertical-align: middle;\n",
              "    }\n",
              "\n",
              "    .dataframe tbody tr th {\n",
              "        vertical-align: top;\n",
              "    }\n",
              "\n",
              "    .dataframe thead th {\n",
              "        text-align: right;\n",
              "    }\n",
              "</style>\n",
              "<table border=\"1\" class=\"dataframe\">\n",
              "  <thead>\n",
              "    <tr style=\"text-align: right;\">\n",
              "      <th></th>\n",
              "      <th>VB01002</th>\n",
              "      <th>cor_raca</th>\n",
              "    </tr>\n",
              "  </thead>\n",
              "  <tbody>\n",
              "    <tr>\n",
              "      <th>189</th>\n",
              "      <td>4</td>\n",
              "      <td>Parda</td>\n",
              "    </tr>\n",
              "    <tr>\n",
              "      <th>7096</th>\n",
              "      <td>5</td>\n",
              "      <td>Indígena</td>\n",
              "    </tr>\n",
              "    <tr>\n",
              "      <th>299</th>\n",
              "      <td>1</td>\n",
              "      <td>Branca</td>\n",
              "    </tr>\n",
              "    <tr>\n",
              "      <th>9151</th>\n",
              "      <td>1</td>\n",
              "      <td>Branca</td>\n",
              "    </tr>\n",
              "    <tr>\n",
              "      <th>6856</th>\n",
              "      <td>2</td>\n",
              "      <td>Preta</td>\n",
              "    </tr>\n",
              "  </tbody>\n",
              "</table>\n",
              "</div>"
            ],
            "text/plain": [
              "      VB01002  cor_raca\n",
              "189         4     Parda\n",
              "7096        5  Indígena\n",
              "299         1    Branca\n",
              "9151        1    Branca\n",
              "6856        2     Preta"
            ]
          },
          "metadata": {
            "tags": []
          },
          "execution_count": 24
        }
      ]
    },
    {
      "cell_type": "markdown",
      "metadata": {
        "id": "Peb55lgg3Z7x"
      },
      "source": [
        "**Idade**"
      ]
    },
    {
      "cell_type": "code",
      "metadata": {
        "colab": {
          "base_uri": "https://localhost:8080/",
          "height": 0
        },
        "id": "W2eX5iIV3aYY",
        "outputId": "1bc99394-c15d-4a46-97cf-93c94a919aa7"
      },
      "source": [
        "traduzir_coluna('idade', dados)\r\n",
        "dados[['VB01003', 'idade']].sample(5)"
      ],
      "execution_count": 25,
      "outputs": [
        {
          "output_type": "execute_result",
          "data": {
            "text/html": [
              "<div>\n",
              "<style scoped>\n",
              "    .dataframe tbody tr th:only-of-type {\n",
              "        vertical-align: middle;\n",
              "    }\n",
              "\n",
              "    .dataframe tbody tr th {\n",
              "        vertical-align: top;\n",
              "    }\n",
              "\n",
              "    .dataframe thead th {\n",
              "        text-align: right;\n",
              "    }\n",
              "</style>\n",
              "<table border=\"1\" class=\"dataframe\">\n",
              "  <thead>\n",
              "    <tr style=\"text-align: right;\">\n",
              "      <th></th>\n",
              "      <th>VB01003</th>\n",
              "      <th>idade</th>\n",
              "    </tr>\n",
              "  </thead>\n",
              "  <tbody>\n",
              "    <tr>\n",
              "      <th>15427</th>\n",
              "      <td>13</td>\n",
              "      <td>13 anos</td>\n",
              "    </tr>\n",
              "    <tr>\n",
              "      <th>8765</th>\n",
              "      <td>13</td>\n",
              "      <td>13 anos</td>\n",
              "    </tr>\n",
              "    <tr>\n",
              "      <th>4828</th>\n",
              "      <td>11</td>\n",
              "      <td>11 anos ou menos</td>\n",
              "    </tr>\n",
              "    <tr>\n",
              "      <th>3206</th>\n",
              "      <td>16</td>\n",
              "      <td>16 anos</td>\n",
              "    </tr>\n",
              "    <tr>\n",
              "      <th>1795</th>\n",
              "      <td>16</td>\n",
              "      <td>16 anos</td>\n",
              "    </tr>\n",
              "  </tbody>\n",
              "</table>\n",
              "</div>"
            ],
            "text/plain": [
              "       VB01003             idade\n",
              "15427       13           13 anos\n",
              "8765        13           13 anos\n",
              "4828        11  11 anos ou menos\n",
              "3206        16           16 anos\n",
              "1795        16           16 anos"
            ]
          },
          "metadata": {
            "tags": []
          },
          "execution_count": 25
        }
      ]
    },
    {
      "cell_type": "markdown",
      "metadata": {
        "id": "ZnPkgjZHDXED"
      },
      "source": [
        "# Conhecendo nossa amostra"
      ]
    },
    {
      "cell_type": "markdown",
      "metadata": {
        "id": "AfEncnlP0ccW"
      },
      "source": [
        "Tudo pronto: dicionário e dados importados corretamente. Agora vamos explorar alguns dados da nossa amostra, começando com informações mais gerais."
      ]
    },
    {
      "cell_type": "markdown",
      "metadata": {
        "id": "xlpQVUaZKVAo"
      },
      "source": [
        "## Informações Gerais"
      ]
    },
    {
      "cell_type": "markdown",
      "metadata": {
        "id": "Xv4Ai3Gg2Cfe"
      },
      "source": [
        "### Região e Cor/Raça"
      ]
    },
    {
      "cell_type": "code",
      "metadata": {
        "colab": {
          "base_uri": "https://localhost:8080/",
          "height": 197
        },
        "id": "nLDy7ne-TALr",
        "outputId": "5be435a0-b9e3-4281-be0a-54fd8562c241"
      },
      "source": [
        "df = dados.query('sexo == \"Feminino\"').groupby(['regiao', 'cor_raca'])['sexo'].agg(['count'])\r\n",
        "df = df.reset_index()\r\n",
        "df.columns = ['Região', 'Cor/Raça', 'Quantidade']\r\n",
        "df.head()"
      ],
      "execution_count": 26,
      "outputs": [
        {
          "output_type": "execute_result",
          "data": {
            "text/html": [
              "<div>\n",
              "<style scoped>\n",
              "    .dataframe tbody tr th:only-of-type {\n",
              "        vertical-align: middle;\n",
              "    }\n",
              "\n",
              "    .dataframe tbody tr th {\n",
              "        vertical-align: top;\n",
              "    }\n",
              "\n",
              "    .dataframe thead th {\n",
              "        text-align: right;\n",
              "    }\n",
              "</style>\n",
              "<table border=\"1\" class=\"dataframe\">\n",
              "  <thead>\n",
              "    <tr style=\"text-align: right;\">\n",
              "      <th></th>\n",
              "      <th>Região</th>\n",
              "      <th>Cor/Raça</th>\n",
              "      <th>Quantidade</th>\n",
              "    </tr>\n",
              "  </thead>\n",
              "  <tbody>\n",
              "    <tr>\n",
              "      <th>0</th>\n",
              "      <td>Centro-Oeste</td>\n",
              "      <td>Amarela</td>\n",
              "      <td>96</td>\n",
              "    </tr>\n",
              "    <tr>\n",
              "      <th>1</th>\n",
              "      <td>Centro-Oeste</td>\n",
              "      <td>Branca</td>\n",
              "      <td>618</td>\n",
              "    </tr>\n",
              "    <tr>\n",
              "      <th>2</th>\n",
              "      <td>Centro-Oeste</td>\n",
              "      <td>Indígena</td>\n",
              "      <td>46</td>\n",
              "    </tr>\n",
              "    <tr>\n",
              "      <th>3</th>\n",
              "      <td>Centro-Oeste</td>\n",
              "      <td>Não informado</td>\n",
              "      <td>3</td>\n",
              "    </tr>\n",
              "    <tr>\n",
              "      <th>4</th>\n",
              "      <td>Centro-Oeste</td>\n",
              "      <td>Parda</td>\n",
              "      <td>799</td>\n",
              "    </tr>\n",
              "  </tbody>\n",
              "</table>\n",
              "</div>"
            ],
            "text/plain": [
              "         Região       Cor/Raça  Quantidade\n",
              "0  Centro-Oeste        Amarela          96\n",
              "1  Centro-Oeste         Branca         618\n",
              "2  Centro-Oeste       Indígena          46\n",
              "3  Centro-Oeste  Não informado           3\n",
              "4  Centro-Oeste          Parda         799"
            ]
          },
          "metadata": {
            "tags": []
          },
          "execution_count": 26
        }
      ]
    },
    {
      "cell_type": "code",
      "metadata": {
        "colab": {
          "base_uri": "https://localhost:8080/",
          "height": 716
        },
        "id": "PpSUs-dCS3jq",
        "outputId": "6e0379f1-feb9-4d53-c25f-a217e0675558"
      },
      "source": [
        "fig = px.treemap(df, path = ['Região', 'Cor/Raça'], \r\n",
        "                 values = 'Quantidade', color='Quantidade',\r\n",
        "                 color_continuous_scale='Purples')\r\n",
        "\r\n",
        "fig.data[0].textinfo = 'label+text+value'\r\n",
        "\r\n",
        "fig.update_layout(\r\n",
        "    title_text = 'PeNSE - Pesquisa Nacional de Saúde do Escolar<br />'\\\r\n",
        "                 '<b>Perfil das Escolares (Região e Cor/Raça)</b>',\r\n",
        "    template = 'plotly_white',\r\n",
        "    autosize = False,\r\n",
        "    width = 800,\r\n",
        "    height = 700    \r\n",
        ")\r\n",
        "\r\n",
        "fig.show()"
      ],
      "execution_count": 27,
      "outputs": [
        {
          "output_type": "display_data",
          "data": {
            "text/html": [
              "<html>\n",
              "<head><meta charset=\"utf-8\" /></head>\n",
              "<body>\n",
              "    <div>            <script src=\"https://cdnjs.cloudflare.com/ajax/libs/mathjax/2.7.5/MathJax.js?config=TeX-AMS-MML_SVG\"></script><script type=\"text/javascript\">if (window.MathJax) {MathJax.Hub.Config({SVG: {font: \"STIX-Web\"}});}</script>                <script type=\"text/javascript\">window.PlotlyConfig = {MathJaxConfig: 'local'};</script>\n",
              "        <script src=\"https://cdn.plot.ly/plotly-latest.min.js\"></script>                <div id=\"3a06d13d-a3ca-4736-96f3-f0cc33c9ebdf\" class=\"plotly-graph-div\" style=\"height:700px; width:800px;\"></div>            <script type=\"text/javascript\">                                    window.PLOTLYENV=window.PLOTLYENV || {};                                    if (document.getElementById(\"3a06d13d-a3ca-4736-96f3-f0cc33c9ebdf\")) {                    Plotly.newPlot(                        \"3a06d13d-a3ca-4736-96f3-f0cc33c9ebdf\",                        [{\"branchvalues\": \"total\", \"customdata\": [[96.0], [109.0], [85.0], [68.0], [52.0], [618.0], [462.0], [426.0], [671.0], [972.0], [46.0], [87.0], [56.0], [40.0], [45.0], [3.0], [1.0], [4.0], [3.0], [799.0], [914.0], [886.0], [684.0], [308.0], [170.0], [209.0], [157.0], [166.0], [132.0], [612.3360277136259], [624.3520494104436], [621.6530105524519], [582.9105939987753], [702.255291005291]], \"domain\": {\"x\": [0.0, 1.0], \"y\": [0.0, 1.0]}, \"hovertemplate\": \"labels=%{label}<br>Quantidade_sum=%{value}<br>parent=%{parent}<br>id=%{id}<br>Quantidade=%{color}<extra></extra>\", \"ids\": [\"Centro-Oeste/Amarela\", \"Nordeste/Amarela\", \"Norte/Amarela\", \"Sudeste/Amarela\", \"Sul/Amarela\", \"Centro-Oeste/Branca\", \"Nordeste/Branca\", \"Norte/Branca\", \"Sudeste/Branca\", \"Sul/Branca\", \"Centro-Oeste/Ind\\u00edgena\", \"Nordeste/Ind\\u00edgena\", \"Norte/Ind\\u00edgena\", \"Sudeste/Ind\\u00edgena\", \"Sul/Ind\\u00edgena\", \"Centro-Oeste/N\\u00e3o informado\", \"Norte/N\\u00e3o informado\", \"Sudeste/N\\u00e3o informado\", \"Sul/N\\u00e3o informado\", \"Centro-Oeste/Parda\", \"Nordeste/Parda\", \"Norte/Parda\", \"Sudeste/Parda\", \"Sul/Parda\", \"Centro-Oeste/Preta\", \"Nordeste/Preta\", \"Norte/Preta\", \"Sudeste/Preta\", \"Sul/Preta\", \"Centro-Oeste\", \"Nordeste\", \"Norte\", \"Sudeste\", \"Sul\"], \"labels\": [\"Amarela\", \"Amarela\", \"Amarela\", \"Amarela\", \"Amarela\", \"Branca\", \"Branca\", \"Branca\", \"Branca\", \"Branca\", \"Ind\\u00edgena\", \"Ind\\u00edgena\", \"Ind\\u00edgena\", \"Ind\\u00edgena\", \"Ind\\u00edgena\", \"N\\u00e3o informado\", \"N\\u00e3o informado\", \"N\\u00e3o informado\", \"N\\u00e3o informado\", \"Parda\", \"Parda\", \"Parda\", \"Parda\", \"Parda\", \"Preta\", \"Preta\", \"Preta\", \"Preta\", \"Preta\", \"Centro-Oeste\", \"Nordeste\", \"Norte\", \"Sudeste\", \"Sul\"], \"marker\": {\"coloraxis\": \"coloraxis\", \"colors\": [96.0, 109.0, 85.0, 68.0, 52.0, 618.0, 462.0, 426.0, 671.0, 972.0, 46.0, 87.0, 56.0, 40.0, 45.0, 3.0, 1.0, 4.0, 3.0, 799.0, 914.0, 886.0, 684.0, 308.0, 170.0, 209.0, 157.0, 166.0, 132.0, 612.3360277136259, 624.3520494104436, 621.6530105524519, 582.9105939987753, 702.255291005291]}, \"name\": \"\", \"parents\": [\"Centro-Oeste\", \"Nordeste\", \"Norte\", \"Sudeste\", \"Sul\", \"Centro-Oeste\", \"Nordeste\", \"Norte\", \"Sudeste\", \"Sul\", \"Centro-Oeste\", \"Nordeste\", \"Norte\", \"Sudeste\", \"Sul\", \"Centro-Oeste\", \"Norte\", \"Sudeste\", \"Sul\", \"Centro-Oeste\", \"Nordeste\", \"Norte\", \"Sudeste\", \"Sul\", \"Centro-Oeste\", \"Nordeste\", \"Norte\", \"Sudeste\", \"Sul\", \"\", \"\", \"\", \"\", \"\"], \"textinfo\": \"label+text+value\", \"type\": \"treemap\", \"values\": [96, 109, 85, 68, 52, 618, 462, 426, 671, 972, 46, 87, 56, 40, 45, 3, 1, 4, 3, 799, 914, 886, 684, 308, 170, 209, 157, 166, 132, 1732, 1781, 1611, 1633, 1512]}],                        {\"autosize\": false, \"coloraxis\": {\"colorbar\": {\"title\": {\"text\": \"Quantidade\"}}, \"colorscale\": [[0.0, \"rgb(252,251,253)\"], [0.125, \"rgb(239,237,245)\"], [0.25, \"rgb(218,218,235)\"], [0.375, \"rgb(188,189,220)\"], [0.5, \"rgb(158,154,200)\"], [0.625, \"rgb(128,125,186)\"], [0.75, \"rgb(106,81,163)\"], [0.875, \"rgb(84,39,143)\"], [1.0, \"rgb(63,0,125)\"]]}, \"height\": 700, \"legend\": {\"tracegroupgap\": 0}, \"margin\": {\"t\": 60}, \"template\": {\"data\": {\"bar\": [{\"error_x\": {\"color\": \"#2a3f5f\"}, \"error_y\": {\"color\": \"#2a3f5f\"}, \"marker\": {\"line\": {\"color\": \"white\", \"width\": 0.5}}, \"type\": \"bar\"}], \"barpolar\": [{\"marker\": {\"line\": {\"color\": \"white\", \"width\": 0.5}}, \"type\": \"barpolar\"}], \"carpet\": [{\"aaxis\": {\"endlinecolor\": \"#2a3f5f\", \"gridcolor\": \"#C8D4E3\", \"linecolor\": \"#C8D4E3\", \"minorgridcolor\": \"#C8D4E3\", \"startlinecolor\": \"#2a3f5f\"}, \"baxis\": {\"endlinecolor\": \"#2a3f5f\", \"gridcolor\": \"#C8D4E3\", \"linecolor\": \"#C8D4E3\", \"minorgridcolor\": \"#C8D4E3\", \"startlinecolor\": \"#2a3f5f\"}, \"type\": \"carpet\"}], \"choropleth\": [{\"colorbar\": {\"outlinewidth\": 0, \"ticks\": \"\"}, \"type\": \"choropleth\"}], \"contour\": [{\"colorbar\": {\"outlinewidth\": 0, \"ticks\": \"\"}, \"colorscale\": [[0.0, \"#0d0887\"], [0.1111111111111111, \"#46039f\"], [0.2222222222222222, \"#7201a8\"], [0.3333333333333333, \"#9c179e\"], [0.4444444444444444, \"#bd3786\"], [0.5555555555555556, \"#d8576b\"], [0.6666666666666666, \"#ed7953\"], [0.7777777777777778, \"#fb9f3a\"], [0.8888888888888888, \"#fdca26\"], [1.0, \"#f0f921\"]], \"type\": \"contour\"}], \"contourcarpet\": [{\"colorbar\": {\"outlinewidth\": 0, \"ticks\": \"\"}, \"type\": \"contourcarpet\"}], \"heatmap\": [{\"colorbar\": {\"outlinewidth\": 0, \"ticks\": \"\"}, \"colorscale\": [[0.0, \"#0d0887\"], [0.1111111111111111, \"#46039f\"], [0.2222222222222222, \"#7201a8\"], [0.3333333333333333, \"#9c179e\"], [0.4444444444444444, \"#bd3786\"], [0.5555555555555556, \"#d8576b\"], [0.6666666666666666, \"#ed7953\"], [0.7777777777777778, \"#fb9f3a\"], [0.8888888888888888, \"#fdca26\"], [1.0, \"#f0f921\"]], \"type\": \"heatmap\"}], \"heatmapgl\": [{\"colorbar\": {\"outlinewidth\": 0, \"ticks\": \"\"}, \"colorscale\": [[0.0, \"#0d0887\"], [0.1111111111111111, \"#46039f\"], [0.2222222222222222, \"#7201a8\"], [0.3333333333333333, \"#9c179e\"], [0.4444444444444444, \"#bd3786\"], [0.5555555555555556, \"#d8576b\"], [0.6666666666666666, \"#ed7953\"], [0.7777777777777778, \"#fb9f3a\"], [0.8888888888888888, \"#fdca26\"], [1.0, \"#f0f921\"]], \"type\": \"heatmapgl\"}], \"histogram\": [{\"marker\": {\"colorbar\": {\"outlinewidth\": 0, \"ticks\": \"\"}}, \"type\": \"histogram\"}], \"histogram2d\": [{\"colorbar\": {\"outlinewidth\": 0, \"ticks\": \"\"}, \"colorscale\": [[0.0, \"#0d0887\"], [0.1111111111111111, \"#46039f\"], [0.2222222222222222, \"#7201a8\"], [0.3333333333333333, \"#9c179e\"], [0.4444444444444444, \"#bd3786\"], [0.5555555555555556, \"#d8576b\"], [0.6666666666666666, \"#ed7953\"], [0.7777777777777778, \"#fb9f3a\"], [0.8888888888888888, \"#fdca26\"], [1.0, \"#f0f921\"]], \"type\": \"histogram2d\"}], \"histogram2dcontour\": [{\"colorbar\": {\"outlinewidth\": 0, \"ticks\": \"\"}, \"colorscale\": [[0.0, \"#0d0887\"], [0.1111111111111111, \"#46039f\"], [0.2222222222222222, \"#7201a8\"], [0.3333333333333333, \"#9c179e\"], [0.4444444444444444, \"#bd3786\"], [0.5555555555555556, \"#d8576b\"], [0.6666666666666666, \"#ed7953\"], [0.7777777777777778, \"#fb9f3a\"], [0.8888888888888888, \"#fdca26\"], [1.0, \"#f0f921\"]], \"type\": \"histogram2dcontour\"}], \"mesh3d\": [{\"colorbar\": {\"outlinewidth\": 0, \"ticks\": \"\"}, \"type\": \"mesh3d\"}], \"parcoords\": [{\"line\": {\"colorbar\": {\"outlinewidth\": 0, \"ticks\": \"\"}}, \"type\": \"parcoords\"}], \"pie\": [{\"automargin\": true, \"type\": \"pie\"}], \"scatter\": [{\"marker\": {\"colorbar\": {\"outlinewidth\": 0, \"ticks\": \"\"}}, \"type\": \"scatter\"}], \"scatter3d\": [{\"line\": {\"colorbar\": {\"outlinewidth\": 0, \"ticks\": \"\"}}, \"marker\": {\"colorbar\": {\"outlinewidth\": 0, \"ticks\": \"\"}}, \"type\": \"scatter3d\"}], \"scattercarpet\": [{\"marker\": {\"colorbar\": {\"outlinewidth\": 0, \"ticks\": \"\"}}, \"type\": \"scattercarpet\"}], \"scattergeo\": [{\"marker\": {\"colorbar\": {\"outlinewidth\": 0, \"ticks\": \"\"}}, \"type\": \"scattergeo\"}], \"scattergl\": [{\"marker\": {\"colorbar\": {\"outlinewidth\": 0, \"ticks\": \"\"}}, \"type\": \"scattergl\"}], \"scattermapbox\": [{\"marker\": {\"colorbar\": {\"outlinewidth\": 0, \"ticks\": \"\"}}, \"type\": \"scattermapbox\"}], \"scatterpolar\": [{\"marker\": {\"colorbar\": {\"outlinewidth\": 0, \"ticks\": \"\"}}, \"type\": \"scatterpolar\"}], \"scatterpolargl\": [{\"marker\": {\"colorbar\": {\"outlinewidth\": 0, \"ticks\": \"\"}}, \"type\": \"scatterpolargl\"}], \"scatterternary\": [{\"marker\": {\"colorbar\": {\"outlinewidth\": 0, \"ticks\": \"\"}}, \"type\": \"scatterternary\"}], \"surface\": [{\"colorbar\": {\"outlinewidth\": 0, \"ticks\": \"\"}, \"colorscale\": [[0.0, \"#0d0887\"], [0.1111111111111111, \"#46039f\"], [0.2222222222222222, \"#7201a8\"], [0.3333333333333333, \"#9c179e\"], [0.4444444444444444, \"#bd3786\"], [0.5555555555555556, \"#d8576b\"], [0.6666666666666666, \"#ed7953\"], [0.7777777777777778, \"#fb9f3a\"], [0.8888888888888888, \"#fdca26\"], [1.0, \"#f0f921\"]], \"type\": \"surface\"}], \"table\": [{\"cells\": {\"fill\": {\"color\": \"#EBF0F8\"}, \"line\": {\"color\": \"white\"}}, \"header\": {\"fill\": {\"color\": \"#C8D4E3\"}, \"line\": {\"color\": \"white\"}}, \"type\": \"table\"}]}, \"layout\": {\"annotationdefaults\": {\"arrowcolor\": \"#2a3f5f\", \"arrowhead\": 0, \"arrowwidth\": 1}, \"coloraxis\": {\"colorbar\": {\"outlinewidth\": 0, \"ticks\": \"\"}}, \"colorscale\": {\"diverging\": [[0, \"#8e0152\"], [0.1, \"#c51b7d\"], [0.2, \"#de77ae\"], [0.3, \"#f1b6da\"], [0.4, \"#fde0ef\"], [0.5, \"#f7f7f7\"], [0.6, \"#e6f5d0\"], [0.7, \"#b8e186\"], [0.8, \"#7fbc41\"], [0.9, \"#4d9221\"], [1, \"#276419\"]], \"sequential\": [[0.0, \"#0d0887\"], [0.1111111111111111, \"#46039f\"], [0.2222222222222222, \"#7201a8\"], [0.3333333333333333, \"#9c179e\"], [0.4444444444444444, \"#bd3786\"], [0.5555555555555556, \"#d8576b\"], [0.6666666666666666, \"#ed7953\"], [0.7777777777777778, \"#fb9f3a\"], [0.8888888888888888, \"#fdca26\"], [1.0, \"#f0f921\"]], \"sequentialminus\": [[0.0, \"#0d0887\"], [0.1111111111111111, \"#46039f\"], [0.2222222222222222, \"#7201a8\"], [0.3333333333333333, \"#9c179e\"], [0.4444444444444444, \"#bd3786\"], [0.5555555555555556, \"#d8576b\"], [0.6666666666666666, \"#ed7953\"], [0.7777777777777778, \"#fb9f3a\"], [0.8888888888888888, \"#fdca26\"], [1.0, \"#f0f921\"]]}, \"colorway\": [\"#636efa\", \"#EF553B\", \"#00cc96\", \"#ab63fa\", \"#FFA15A\", \"#19d3f3\", \"#FF6692\", \"#B6E880\", \"#FF97FF\", \"#FECB52\"], \"font\": {\"color\": \"#2a3f5f\"}, \"geo\": {\"bgcolor\": \"white\", \"lakecolor\": \"white\", \"landcolor\": \"white\", \"showlakes\": true, \"showland\": true, \"subunitcolor\": \"#C8D4E3\"}, \"hoverlabel\": {\"align\": \"left\"}, \"hovermode\": \"closest\", \"mapbox\": {\"style\": \"light\"}, \"paper_bgcolor\": \"white\", \"plot_bgcolor\": \"white\", \"polar\": {\"angularaxis\": {\"gridcolor\": \"#EBF0F8\", \"linecolor\": \"#EBF0F8\", \"ticks\": \"\"}, \"bgcolor\": \"white\", \"radialaxis\": {\"gridcolor\": \"#EBF0F8\", \"linecolor\": \"#EBF0F8\", \"ticks\": \"\"}}, \"scene\": {\"xaxis\": {\"backgroundcolor\": \"white\", \"gridcolor\": \"#DFE8F3\", \"gridwidth\": 2, \"linecolor\": \"#EBF0F8\", \"showbackground\": true, \"ticks\": \"\", \"zerolinecolor\": \"#EBF0F8\"}, \"yaxis\": {\"backgroundcolor\": \"white\", \"gridcolor\": \"#DFE8F3\", \"gridwidth\": 2, \"linecolor\": \"#EBF0F8\", \"showbackground\": true, \"ticks\": \"\", \"zerolinecolor\": \"#EBF0F8\"}, \"zaxis\": {\"backgroundcolor\": \"white\", \"gridcolor\": \"#DFE8F3\", \"gridwidth\": 2, \"linecolor\": \"#EBF0F8\", \"showbackground\": true, \"ticks\": \"\", \"zerolinecolor\": \"#EBF0F8\"}}, \"shapedefaults\": {\"line\": {\"color\": \"#2a3f5f\"}}, \"ternary\": {\"aaxis\": {\"gridcolor\": \"#DFE8F3\", \"linecolor\": \"#A2B1C6\", \"ticks\": \"\"}, \"baxis\": {\"gridcolor\": \"#DFE8F3\", \"linecolor\": \"#A2B1C6\", \"ticks\": \"\"}, \"bgcolor\": \"white\", \"caxis\": {\"gridcolor\": \"#DFE8F3\", \"linecolor\": \"#A2B1C6\", \"ticks\": \"\"}}, \"title\": {\"x\": 0.05}, \"xaxis\": {\"automargin\": true, \"gridcolor\": \"#EBF0F8\", \"linecolor\": \"#EBF0F8\", \"ticks\": \"\", \"title\": {\"standoff\": 15}, \"zerolinecolor\": \"#EBF0F8\", \"zerolinewidth\": 2}, \"yaxis\": {\"automargin\": true, \"gridcolor\": \"#EBF0F8\", \"linecolor\": \"#EBF0F8\", \"ticks\": \"\", \"title\": {\"standoff\": 15}, \"zerolinecolor\": \"#EBF0F8\", \"zerolinewidth\": 2}}}, \"title\": {\"text\": \"PeNSE - Pesquisa Nacional de Sa\\u00fade do Escolar<br /><b>Perfil das Escolares (Regi\\u00e3o e Cor/Ra\\u00e7a)</b>\"}, \"width\": 800},                        {\"responsive\": true}                    ).then(function(){\n",
              "                            \n",
              "var gd = document.getElementById('3a06d13d-a3ca-4736-96f3-f0cc33c9ebdf');\n",
              "var x = new MutationObserver(function (mutations, observer) {{\n",
              "        var display = window.getComputedStyle(gd).display;\n",
              "        if (!display || display === 'none') {{\n",
              "            console.log([gd, 'removed!']);\n",
              "            Plotly.purge(gd);\n",
              "            observer.disconnect();\n",
              "        }}\n",
              "}});\n",
              "\n",
              "// Listen for the removal of the full notebook cells\n",
              "var notebookContainer = gd.closest('#notebook-container');\n",
              "if (notebookContainer) {{\n",
              "    x.observe(notebookContainer, {childList: true});\n",
              "}}\n",
              "\n",
              "// Listen for the clearing of the current output cell\n",
              "var outputEl = gd.closest('.output');\n",
              "if (outputEl) {{\n",
              "    x.observe(outputEl, {childList: true});\n",
              "}}\n",
              "\n",
              "                        })                };                            </script>        </div>\n",
              "</body>\n",
              "</html>"
            ]
          },
          "metadata": {
            "tags": []
          }
        }
      ]
    },
    {
      "cell_type": "markdown",
      "metadata": {
        "id": "9wCmR1Au7RQM"
      },
      "source": [
        "Pelo gráfico acima, podemos ver que a maioria das regiões apresenta proporções semelhantes na quantidade de escolares, com a seguinte ordem decrescente: parda, branca, preta, amarela e indígena.\r\n",
        "\r\n",
        "Apenas duas regiões não apresentam esse comportamento: Sudeste, que possui números praticamente iguais para pardas e brancas, e a região Sul, que possui como maioria esmagadora as brancas."
      ]
    },
    {
      "cell_type": "markdown",
      "metadata": {
        "id": "xMg393dGB-SO"
      },
      "source": [
        "### Faixa Etária e Cor/Raça"
      ]
    },
    {
      "cell_type": "code",
      "metadata": {
        "colab": {
          "base_uri": "https://localhost:8080/",
          "height": 197
        },
        "id": "G6JAI5l9TgoM",
        "outputId": "5cc95ae7-806d-4e5b-df7a-0aec5ece63e8"
      },
      "source": [
        "df2 = dados.query('sexo == \"Feminino\"').copy().groupby(['cor_raca', 'idade'])['sexo'].agg(['count'])\r\n",
        "df2 = df2.query('cor_raca != \"Não informado\"').reset_index()\r\n",
        "df2.head()"
      ],
      "execution_count": 28,
      "outputs": [
        {
          "output_type": "execute_result",
          "data": {
            "text/html": [
              "<div>\n",
              "<style scoped>\n",
              "    .dataframe tbody tr th:only-of-type {\n",
              "        vertical-align: middle;\n",
              "    }\n",
              "\n",
              "    .dataframe tbody tr th {\n",
              "        vertical-align: top;\n",
              "    }\n",
              "\n",
              "    .dataframe thead th {\n",
              "        text-align: right;\n",
              "    }\n",
              "</style>\n",
              "<table border=\"1\" class=\"dataframe\">\n",
              "  <thead>\n",
              "    <tr style=\"text-align: right;\">\n",
              "      <th></th>\n",
              "      <th>cor_raca</th>\n",
              "      <th>idade</th>\n",
              "      <th>count</th>\n",
              "    </tr>\n",
              "  </thead>\n",
              "  <tbody>\n",
              "    <tr>\n",
              "      <th>0</th>\n",
              "      <td>Amarela</td>\n",
              "      <td>11 anos ou menos</td>\n",
              "      <td>42</td>\n",
              "    </tr>\n",
              "    <tr>\n",
              "      <th>1</th>\n",
              "      <td>Amarela</td>\n",
              "      <td>12 anos</td>\n",
              "      <td>80</td>\n",
              "    </tr>\n",
              "    <tr>\n",
              "      <th>2</th>\n",
              "      <td>Amarela</td>\n",
              "      <td>13 anos</td>\n",
              "      <td>55</td>\n",
              "    </tr>\n",
              "    <tr>\n",
              "      <th>3</th>\n",
              "      <td>Amarela</td>\n",
              "      <td>14 anos</td>\n",
              "      <td>62</td>\n",
              "    </tr>\n",
              "    <tr>\n",
              "      <th>4</th>\n",
              "      <td>Amarela</td>\n",
              "      <td>15 anos</td>\n",
              "      <td>64</td>\n",
              "    </tr>\n",
              "  </tbody>\n",
              "</table>\n",
              "</div>"
            ],
            "text/plain": [
              "  cor_raca             idade  count\n",
              "0  Amarela  11 anos ou menos     42\n",
              "1  Amarela           12 anos     80\n",
              "2  Amarela           13 anos     55\n",
              "3  Amarela           14 anos     62\n",
              "4  Amarela           15 anos     64"
            ]
          },
          "metadata": {
            "tags": []
          },
          "execution_count": 28
        }
      ]
    },
    {
      "cell_type": "code",
      "metadata": {
        "colab": {
          "base_uri": "https://localhost:8080/",
          "height": 616
        },
        "id": "uVuAFODu2sgU",
        "outputId": "4a4d00c2-312c-41bb-d6e7-b0ec4c742c22"
      },
      "source": [
        "fig = px.bar(df2, x='idade', y='count', color='cor_raca', text='count')\r\n",
        "\r\n",
        "fig.update_layout(\r\n",
        "    title_text = 'PeNSE - Pesquisa Nacional de Saúde do Escolar: '\\\r\n",
        "                 '<b>Perfil das Escolares (Idade e Cor/Raça)</b>',\r\n",
        "    template = 'plotly_white',\r\n",
        "    autosize = False,\r\n",
        "    width = 850,\r\n",
        "    height = 600,\r\n",
        "\r\n",
        "    xaxis_title_text = 'Faixa Etária',\r\n",
        "    yaxis_title_text = 'Quantidade de Escolares',\r\n",
        "    legend = dict(title='', orientation=\"h\", y=0.959,\r\n",
        "                  yanchor=\"bottom\", xanchor=\"right\", x = 1), \r\n",
        ")\r\n",
        "\r\n",
        "fig.show()"
      ],
      "execution_count": 29,
      "outputs": [
        {
          "output_type": "display_data",
          "data": {
            "text/html": [
              "<html>\n",
              "<head><meta charset=\"utf-8\" /></head>\n",
              "<body>\n",
              "    <div>            <script src=\"https://cdnjs.cloudflare.com/ajax/libs/mathjax/2.7.5/MathJax.js?config=TeX-AMS-MML_SVG\"></script><script type=\"text/javascript\">if (window.MathJax) {MathJax.Hub.Config({SVG: {font: \"STIX-Web\"}});}</script>                <script type=\"text/javascript\">window.PlotlyConfig = {MathJaxConfig: 'local'};</script>\n",
              "        <script src=\"https://cdn.plot.ly/plotly-latest.min.js\"></script>                <div id=\"a3a755f7-3d63-4a43-833f-62ea8ef04e21\" class=\"plotly-graph-div\" style=\"height:600px; width:850px;\"></div>            <script type=\"text/javascript\">                                    window.PLOTLYENV=window.PLOTLYENV || {};                                    if (document.getElementById(\"a3a755f7-3d63-4a43-833f-62ea8ef04e21\")) {                    Plotly.newPlot(                        \"a3a755f7-3d63-4a43-833f-62ea8ef04e21\",                        [{\"alignmentgroup\": \"True\", \"hovertemplate\": \"cor_raca=Amarela<br>idade=%{x}<br>count=%{text}<extra></extra>\", \"legendgroup\": \"Amarela\", \"marker\": {\"color\": \"#636efa\"}, \"name\": \"Amarela\", \"offsetgroup\": \"Amarela\", \"orientation\": \"v\", \"showlegend\": true, \"text\": [42.0, 80.0, 55.0, 62.0, 64.0, 52.0, 40.0, 9.0, 6.0], \"textposition\": \"auto\", \"type\": \"bar\", \"x\": [\"11 anos ou menos\", \"12 anos\", \"13 anos\", \"14 anos\", \"15 anos\", \"16 anos\", \"17 anos\", \"18 anos\", \"19 anos ou mais\"], \"xaxis\": \"x\", \"y\": [42, 80, 55, 62, 64, 52, 40, 9, 6], \"yaxis\": \"y\"}, {\"alignmentgroup\": \"True\", \"hovertemplate\": \"cor_raca=Branca<br>idade=%{x}<br>count=%{text}<extra></extra>\", \"legendgroup\": \"Branca\", \"marker\": {\"color\": \"#EF553B\"}, \"name\": \"Branca\", \"offsetgroup\": \"Branca\", \"orientation\": \"v\", \"showlegend\": true, \"text\": [463.0, 510.0, 458.0, 381.0, 479.0, 461.0, 286.0, 72.0, 39.0], \"textposition\": \"auto\", \"type\": \"bar\", \"x\": [\"11 anos ou menos\", \"12 anos\", \"13 anos\", \"14 anos\", \"15 anos\", \"16 anos\", \"17 anos\", \"18 anos\", \"19 anos ou mais\"], \"xaxis\": \"x\", \"y\": [463, 510, 458, 381, 479, 461, 286, 72, 39], \"yaxis\": \"y\"}, {\"alignmentgroup\": \"True\", \"hovertemplate\": \"cor_raca=Ind\\u00edgena<br>idade=%{x}<br>count=%{text}<extra></extra>\", \"legendgroup\": \"Ind\\u00edgena\", \"marker\": {\"color\": \"#00cc96\"}, \"name\": \"Ind\\u00edgena\", \"offsetgroup\": \"Ind\\u00edgena\", \"orientation\": \"v\", \"showlegend\": true, \"text\": [56.0, 64.0, 47.0, 33.0, 25.0, 29.0, 11.0, 5.0, 4.0], \"textposition\": \"auto\", \"type\": \"bar\", \"x\": [\"11 anos ou menos\", \"12 anos\", \"13 anos\", \"14 anos\", \"15 anos\", \"16 anos\", \"17 anos\", \"18 anos\", \"19 anos ou mais\"], \"xaxis\": \"x\", \"y\": [56, 64, 47, 33, 25, 29, 11, 5, 4], \"yaxis\": \"y\"}, {\"alignmentgroup\": \"True\", \"hovertemplate\": \"cor_raca=Parda<br>idade=%{x}<br>count=%{text}<extra></extra>\", \"legendgroup\": \"Parda\", \"marker\": {\"color\": \"#ab63fa\"}, \"name\": \"Parda\", \"offsetgroup\": \"Parda\", \"orientation\": \"v\", \"showlegend\": true, \"text\": [407.0, 582.0, 563.0, 485.0, 519.0, 493.0, 342.0, 100.0, 100.0], \"textposition\": \"auto\", \"type\": \"bar\", \"x\": [\"11 anos ou menos\", \"12 anos\", \"13 anos\", \"14 anos\", \"15 anos\", \"16 anos\", \"17 anos\", \"18 anos\", \"19 anos ou mais\"], \"xaxis\": \"x\", \"y\": [407, 582, 563, 485, 519, 493, 342, 100, 100], \"yaxis\": \"y\"}, {\"alignmentgroup\": \"True\", \"hovertemplate\": \"cor_raca=Preta<br>idade=%{x}<br>count=%{text}<extra></extra>\", \"legendgroup\": \"Preta\", \"marker\": {\"color\": \"#FFA15A\"}, \"name\": \"Preta\", \"offsetgroup\": \"Preta\", \"orientation\": \"v\", \"showlegend\": true, \"text\": [103.0, 157.0, 129.0, 103.0, 101.0, 108.0, 77.0, 34.0, 22.0], \"textposition\": \"auto\", \"type\": \"bar\", \"x\": [\"11 anos ou menos\", \"12 anos\", \"13 anos\", \"14 anos\", \"15 anos\", \"16 anos\", \"17 anos\", \"18 anos\", \"19 anos ou mais\"], \"xaxis\": \"x\", \"y\": [103, 157, 129, 103, 101, 108, 77, 34, 22], \"yaxis\": \"y\"}],                        {\"autosize\": false, \"barmode\": \"relative\", \"height\": 600, \"legend\": {\"orientation\": \"h\", \"title\": {\"text\": \"\"}, \"tracegroupgap\": 0, \"x\": 1, \"xanchor\": \"right\", \"y\": 0.959, \"yanchor\": \"bottom\"}, \"margin\": {\"t\": 60}, \"template\": {\"data\": {\"bar\": [{\"error_x\": {\"color\": \"#2a3f5f\"}, \"error_y\": {\"color\": \"#2a3f5f\"}, \"marker\": {\"line\": {\"color\": \"white\", \"width\": 0.5}}, \"type\": \"bar\"}], \"barpolar\": [{\"marker\": {\"line\": {\"color\": \"white\", \"width\": 0.5}}, \"type\": \"barpolar\"}], \"carpet\": [{\"aaxis\": {\"endlinecolor\": \"#2a3f5f\", \"gridcolor\": \"#C8D4E3\", \"linecolor\": \"#C8D4E3\", \"minorgridcolor\": \"#C8D4E3\", \"startlinecolor\": \"#2a3f5f\"}, \"baxis\": {\"endlinecolor\": \"#2a3f5f\", \"gridcolor\": \"#C8D4E3\", \"linecolor\": \"#C8D4E3\", \"minorgridcolor\": \"#C8D4E3\", \"startlinecolor\": \"#2a3f5f\"}, \"type\": \"carpet\"}], \"choropleth\": [{\"colorbar\": {\"outlinewidth\": 0, \"ticks\": \"\"}, \"type\": \"choropleth\"}], \"contour\": [{\"colorbar\": {\"outlinewidth\": 0, \"ticks\": \"\"}, \"colorscale\": [[0.0, \"#0d0887\"], [0.1111111111111111, \"#46039f\"], [0.2222222222222222, \"#7201a8\"], [0.3333333333333333, \"#9c179e\"], [0.4444444444444444, \"#bd3786\"], [0.5555555555555556, \"#d8576b\"], [0.6666666666666666, \"#ed7953\"], [0.7777777777777778, \"#fb9f3a\"], [0.8888888888888888, \"#fdca26\"], [1.0, \"#f0f921\"]], \"type\": \"contour\"}], \"contourcarpet\": [{\"colorbar\": {\"outlinewidth\": 0, \"ticks\": \"\"}, \"type\": \"contourcarpet\"}], \"heatmap\": [{\"colorbar\": {\"outlinewidth\": 0, \"ticks\": \"\"}, \"colorscale\": [[0.0, \"#0d0887\"], [0.1111111111111111, \"#46039f\"], [0.2222222222222222, \"#7201a8\"], [0.3333333333333333, \"#9c179e\"], [0.4444444444444444, \"#bd3786\"], [0.5555555555555556, \"#d8576b\"], [0.6666666666666666, \"#ed7953\"], [0.7777777777777778, \"#fb9f3a\"], [0.8888888888888888, \"#fdca26\"], [1.0, \"#f0f921\"]], \"type\": \"heatmap\"}], \"heatmapgl\": [{\"colorbar\": {\"outlinewidth\": 0, \"ticks\": \"\"}, \"colorscale\": [[0.0, \"#0d0887\"], [0.1111111111111111, \"#46039f\"], [0.2222222222222222, \"#7201a8\"], [0.3333333333333333, \"#9c179e\"], [0.4444444444444444, \"#bd3786\"], [0.5555555555555556, \"#d8576b\"], [0.6666666666666666, \"#ed7953\"], [0.7777777777777778, \"#fb9f3a\"], [0.8888888888888888, \"#fdca26\"], [1.0, \"#f0f921\"]], \"type\": \"heatmapgl\"}], \"histogram\": [{\"marker\": {\"colorbar\": {\"outlinewidth\": 0, \"ticks\": \"\"}}, \"type\": \"histogram\"}], \"histogram2d\": [{\"colorbar\": {\"outlinewidth\": 0, \"ticks\": \"\"}, \"colorscale\": [[0.0, \"#0d0887\"], [0.1111111111111111, \"#46039f\"], [0.2222222222222222, \"#7201a8\"], [0.3333333333333333, \"#9c179e\"], [0.4444444444444444, \"#bd3786\"], [0.5555555555555556, \"#d8576b\"], [0.6666666666666666, \"#ed7953\"], [0.7777777777777778, \"#fb9f3a\"], [0.8888888888888888, \"#fdca26\"], [1.0, \"#f0f921\"]], \"type\": \"histogram2d\"}], \"histogram2dcontour\": [{\"colorbar\": {\"outlinewidth\": 0, \"ticks\": \"\"}, \"colorscale\": [[0.0, \"#0d0887\"], [0.1111111111111111, \"#46039f\"], [0.2222222222222222, \"#7201a8\"], [0.3333333333333333, \"#9c179e\"], [0.4444444444444444, \"#bd3786\"], [0.5555555555555556, \"#d8576b\"], [0.6666666666666666, \"#ed7953\"], [0.7777777777777778, \"#fb9f3a\"], [0.8888888888888888, \"#fdca26\"], [1.0, \"#f0f921\"]], \"type\": \"histogram2dcontour\"}], \"mesh3d\": [{\"colorbar\": {\"outlinewidth\": 0, \"ticks\": \"\"}, \"type\": \"mesh3d\"}], \"parcoords\": [{\"line\": {\"colorbar\": {\"outlinewidth\": 0, \"ticks\": \"\"}}, \"type\": \"parcoords\"}], \"pie\": [{\"automargin\": true, \"type\": \"pie\"}], \"scatter\": [{\"marker\": {\"colorbar\": {\"outlinewidth\": 0, \"ticks\": \"\"}}, \"type\": \"scatter\"}], \"scatter3d\": [{\"line\": {\"colorbar\": {\"outlinewidth\": 0, \"ticks\": \"\"}}, \"marker\": {\"colorbar\": {\"outlinewidth\": 0, \"ticks\": \"\"}}, \"type\": \"scatter3d\"}], \"scattercarpet\": [{\"marker\": {\"colorbar\": {\"outlinewidth\": 0, \"ticks\": \"\"}}, \"type\": \"scattercarpet\"}], \"scattergeo\": [{\"marker\": {\"colorbar\": {\"outlinewidth\": 0, \"ticks\": \"\"}}, \"type\": \"scattergeo\"}], \"scattergl\": [{\"marker\": {\"colorbar\": {\"outlinewidth\": 0, \"ticks\": \"\"}}, \"type\": \"scattergl\"}], \"scattermapbox\": [{\"marker\": {\"colorbar\": {\"outlinewidth\": 0, \"ticks\": \"\"}}, \"type\": \"scattermapbox\"}], \"scatterpolar\": [{\"marker\": {\"colorbar\": {\"outlinewidth\": 0, \"ticks\": \"\"}}, \"type\": \"scatterpolar\"}], \"scatterpolargl\": [{\"marker\": {\"colorbar\": {\"outlinewidth\": 0, \"ticks\": \"\"}}, \"type\": \"scatterpolargl\"}], \"scatterternary\": [{\"marker\": {\"colorbar\": {\"outlinewidth\": 0, \"ticks\": \"\"}}, \"type\": \"scatterternary\"}], \"surface\": [{\"colorbar\": {\"outlinewidth\": 0, \"ticks\": \"\"}, \"colorscale\": [[0.0, \"#0d0887\"], [0.1111111111111111, \"#46039f\"], [0.2222222222222222, \"#7201a8\"], [0.3333333333333333, \"#9c179e\"], [0.4444444444444444, \"#bd3786\"], [0.5555555555555556, \"#d8576b\"], [0.6666666666666666, \"#ed7953\"], [0.7777777777777778, \"#fb9f3a\"], [0.8888888888888888, \"#fdca26\"], [1.0, \"#f0f921\"]], \"type\": \"surface\"}], \"table\": [{\"cells\": {\"fill\": {\"color\": \"#EBF0F8\"}, \"line\": {\"color\": \"white\"}}, \"header\": {\"fill\": {\"color\": \"#C8D4E3\"}, \"line\": {\"color\": \"white\"}}, \"type\": \"table\"}]}, \"layout\": {\"annotationdefaults\": {\"arrowcolor\": \"#2a3f5f\", \"arrowhead\": 0, \"arrowwidth\": 1}, \"coloraxis\": {\"colorbar\": {\"outlinewidth\": 0, \"ticks\": \"\"}}, \"colorscale\": {\"diverging\": [[0, \"#8e0152\"], [0.1, \"#c51b7d\"], [0.2, \"#de77ae\"], [0.3, \"#f1b6da\"], [0.4, \"#fde0ef\"], [0.5, \"#f7f7f7\"], [0.6, \"#e6f5d0\"], [0.7, \"#b8e186\"], [0.8, \"#7fbc41\"], [0.9, \"#4d9221\"], [1, \"#276419\"]], \"sequential\": [[0.0, \"#0d0887\"], [0.1111111111111111, \"#46039f\"], [0.2222222222222222, \"#7201a8\"], [0.3333333333333333, \"#9c179e\"], [0.4444444444444444, \"#bd3786\"], [0.5555555555555556, \"#d8576b\"], [0.6666666666666666, \"#ed7953\"], [0.7777777777777778, \"#fb9f3a\"], [0.8888888888888888, \"#fdca26\"], [1.0, \"#f0f921\"]], \"sequentialminus\": [[0.0, \"#0d0887\"], [0.1111111111111111, \"#46039f\"], [0.2222222222222222, \"#7201a8\"], [0.3333333333333333, \"#9c179e\"], [0.4444444444444444, \"#bd3786\"], [0.5555555555555556, \"#d8576b\"], [0.6666666666666666, \"#ed7953\"], [0.7777777777777778, \"#fb9f3a\"], [0.8888888888888888, \"#fdca26\"], [1.0, \"#f0f921\"]]}, \"colorway\": [\"#636efa\", \"#EF553B\", \"#00cc96\", \"#ab63fa\", \"#FFA15A\", \"#19d3f3\", \"#FF6692\", \"#B6E880\", \"#FF97FF\", \"#FECB52\"], \"font\": {\"color\": \"#2a3f5f\"}, \"geo\": {\"bgcolor\": \"white\", \"lakecolor\": \"white\", \"landcolor\": \"white\", \"showlakes\": true, \"showland\": true, \"subunitcolor\": \"#C8D4E3\"}, \"hoverlabel\": {\"align\": \"left\"}, \"hovermode\": \"closest\", \"mapbox\": {\"style\": \"light\"}, \"paper_bgcolor\": \"white\", \"plot_bgcolor\": \"white\", \"polar\": {\"angularaxis\": {\"gridcolor\": \"#EBF0F8\", \"linecolor\": \"#EBF0F8\", \"ticks\": \"\"}, \"bgcolor\": \"white\", \"radialaxis\": {\"gridcolor\": \"#EBF0F8\", \"linecolor\": \"#EBF0F8\", \"ticks\": \"\"}}, \"scene\": {\"xaxis\": {\"backgroundcolor\": \"white\", \"gridcolor\": \"#DFE8F3\", \"gridwidth\": 2, \"linecolor\": \"#EBF0F8\", \"showbackground\": true, \"ticks\": \"\", \"zerolinecolor\": \"#EBF0F8\"}, \"yaxis\": {\"backgroundcolor\": \"white\", \"gridcolor\": \"#DFE8F3\", \"gridwidth\": 2, \"linecolor\": \"#EBF0F8\", \"showbackground\": true, \"ticks\": \"\", \"zerolinecolor\": \"#EBF0F8\"}, \"zaxis\": {\"backgroundcolor\": \"white\", \"gridcolor\": \"#DFE8F3\", \"gridwidth\": 2, \"linecolor\": \"#EBF0F8\", \"showbackground\": true, \"ticks\": \"\", \"zerolinecolor\": \"#EBF0F8\"}}, \"shapedefaults\": {\"line\": {\"color\": \"#2a3f5f\"}}, \"ternary\": {\"aaxis\": {\"gridcolor\": \"#DFE8F3\", \"linecolor\": \"#A2B1C6\", \"ticks\": \"\"}, \"baxis\": {\"gridcolor\": \"#DFE8F3\", \"linecolor\": \"#A2B1C6\", \"ticks\": \"\"}, \"bgcolor\": \"white\", \"caxis\": {\"gridcolor\": \"#DFE8F3\", \"linecolor\": \"#A2B1C6\", \"ticks\": \"\"}}, \"title\": {\"x\": 0.05}, \"xaxis\": {\"automargin\": true, \"gridcolor\": \"#EBF0F8\", \"linecolor\": \"#EBF0F8\", \"ticks\": \"\", \"title\": {\"standoff\": 15}, \"zerolinecolor\": \"#EBF0F8\", \"zerolinewidth\": 2}, \"yaxis\": {\"automargin\": true, \"gridcolor\": \"#EBF0F8\", \"linecolor\": \"#EBF0F8\", \"ticks\": \"\", \"title\": {\"standoff\": 15}, \"zerolinecolor\": \"#EBF0F8\", \"zerolinewidth\": 2}}}, \"title\": {\"text\": \"PeNSE - Pesquisa Nacional de Sa\\u00fade do Escolar: <b>Perfil das Escolares (Idade e Cor/Ra\\u00e7a)</b>\"}, \"width\": 850, \"xaxis\": {\"anchor\": \"y\", \"domain\": [0.0, 1.0], \"title\": {\"text\": \"Faixa Et\\u00e1ria\"}}, \"yaxis\": {\"anchor\": \"x\", \"domain\": [0.0, 1.0], \"title\": {\"text\": \"Quantidade de Escolares\"}}},                        {\"responsive\": true}                    ).then(function(){\n",
              "                            \n",
              "var gd = document.getElementById('a3a755f7-3d63-4a43-833f-62ea8ef04e21');\n",
              "var x = new MutationObserver(function (mutations, observer) {{\n",
              "        var display = window.getComputedStyle(gd).display;\n",
              "        if (!display || display === 'none') {{\n",
              "            console.log([gd, 'removed!']);\n",
              "            Plotly.purge(gd);\n",
              "            observer.disconnect();\n",
              "        }}\n",
              "}});\n",
              "\n",
              "// Listen for the removal of the full notebook cells\n",
              "var notebookContainer = gd.closest('#notebook-container');\n",
              "if (notebookContainer) {{\n",
              "    x.observe(notebookContainer, {childList: true});\n",
              "}}\n",
              "\n",
              "// Listen for the clearing of the current output cell\n",
              "var outputEl = gd.closest('.output');\n",
              "if (outputEl) {{\n",
              "    x.observe(outputEl, {childList: true});\n",
              "}}\n",
              "\n",
              "                        })                };                            </script>        </div>\n",
              "</body>\n",
              "</html>"
            ]
          },
          "metadata": {
            "tags": []
          }
        }
      ]
    },
    {
      "cell_type": "markdown",
      "metadata": {
        "id": "aXVYeehJ8R5e"
      },
      "source": [
        "No gráfico de barras acima, percebe-se proporções de cor/raça semelhantes para todas as faixas etárias, com a maioria sendo parda, seguida de branca. Também verifica-se, que a maioria das escolares encontra-se na faixa de 12 anos, seguida da faixa de 13 anos."
      ]
    },
    {
      "cell_type": "markdown",
      "metadata": {
        "id": "zEgT8euB2vTD"
      },
      "source": [
        "### Série e Idade por Tipo de Escola"
      ]
    },
    {
      "cell_type": "markdown",
      "metadata": {
        "id": "hHCP40TE9MS_"
      },
      "source": [
        "Para analisar a relação entre série, idade e tipo de escola (pública/privada), decidi utilizar uma tabela com mapa de calor, para ver onde encontra-se a maioria das escolares."
      ]
    },
    {
      "cell_type": "code",
      "metadata": {
        "id": "gMjFzETMLCLh"
      },
      "source": [
        "df3 =  dados.copy().query('sexo == \"Feminino\"')\r\n",
        "dados_escola_pub = df3.query(f\"{dicio_pense['tipo_escola']['codigo']} == 1\")\r\n",
        "dados_escola_priv = df3.query(f\"{dicio_pense['tipo_escola']['codigo']} == 2\")"
      ],
      "execution_count": 30,
      "outputs": []
    },
    {
      "cell_type": "code",
      "metadata": {
        "id": "HzHFVC4RVLUI"
      },
      "source": [
        "def destaca_valor(x, valor, cor_texto, cor_fundo):\r\n",
        "    if type(valor) == str:\r\n",
        "        is_true = np.array(x).astype(str) == valor\r\n",
        "    else:\r\n",
        "        is_true = np.array(x) == valor\r\n",
        "    return [f'background-color: {cor_fundo}; color: {cor_texto}' if v else '' for v in is_true]"
      ],
      "execution_count": 31,
      "outputs": []
    },
    {
      "cell_type": "code",
      "metadata": {
        "colab": {
          "base_uri": "https://localhost:8080/",
          "height": 384
        },
        "id": "w0Zt1Ho1tRjf",
        "outputId": "014b645f-a2a5-4c58-b1ae-860fb7829fad"
      },
      "source": [
        "coluna_idade = dicio_pense['idade']['codigo']\r\n",
        "\r\n",
        "# cruzamento de Série e Idade\r\n",
        "escola_privada = pd.crosstab(dados_escola_priv['serie'], dados_escola_priv[coluna_idade],\r\n",
        "                           rownames=['Série/Ano'],\r\n",
        "                           colnames=['Idade']\r\n",
        "                           ).reindex(['6º ano/5ª série', '7º ano/6ª série',\r\n",
        "                                     '8º ano/7ª série', '9º ano/8ª série',\r\n",
        "                                     '1º ano', '2º ano', '3º ano',\r\n",
        "                                     'Não informado'])\\\r\n",
        "                        .style.set_table_attributes('class=\"dataframe\"')\\\r\n",
        "                        .background_gradient(cmap='Oranges', axis=None)\\\r\n",
        "                        .apply(destaca_valor, valor=0,\r\n",
        "                               cor_texto='white', cor_fundo='white')\r\n",
        "\r\n",
        "escola_publica = pd.crosstab(dados_escola_pub['serie'], dados_escola_pub[coluna_idade],\r\n",
        "                           rownames=['Série/Ano'],\r\n",
        "                           colnames=['Idade']\r\n",
        "                           ).reindex(['6º ano/5ª série', '7º ano/6ª série',\r\n",
        "                                     '8º ano/7ª série', '9º ano/8ª série',\r\n",
        "                                     '1º ano', '2º ano', '3º ano',\r\n",
        "                                     'Não informado'])\\\r\n",
        "                        .style.set_table_attributes('class=\"dataframe\"')\\\r\n",
        "                        .background_gradient(cmap='Purples', axis=None)\\\r\n",
        "                        .apply(destaca_valor, valor=0,\r\n",
        "                               cor_texto='white', cor_fundo='white')\r\n",
        "\r\n",
        "print('Idade vs Série por Tipo de Escola')\r\n",
        "display('escola_privada', 'escola_publica')"
      ],
      "execution_count": 32,
      "outputs": [
        {
          "output_type": "stream",
          "text": [
            "Idade vs Série por Tipo de Escola\n"
          ],
          "name": "stdout"
        },
        {
          "output_type": "execute_result",
          "data": {
            "text/html": [
              "<div style=\"float: left; padding: 10px;\">\n",
              "    <p style='font-family:\"Courier New\", Courier, monospace'>escola_privada</p><style  type=\"text/css\" >\n",
              "#T_1821f9b6_53b2_11eb_9e1d_0242ac1c0002row0_col0{\n",
              "            background-color:  #7f2704;\n",
              "            color:  #f1f1f1;\n",
              "        }#T_1821f9b6_53b2_11eb_9e1d_0242ac1c0002row0_col1{\n",
              "            background-color:  #feebd8;\n",
              "            color:  #000000;\n",
              "        }#T_1821f9b6_53b2_11eb_9e1d_0242ac1c0002row0_col2,#T_1821f9b6_53b2_11eb_9e1d_0242ac1c0002row4_col6{\n",
              "            background-color:  #fff3e6;\n",
              "            color:  #000000;\n",
              "        }#T_1821f9b6_53b2_11eb_9e1d_0242ac1c0002row0_col3,#T_1821f9b6_53b2_11eb_9e1d_0242ac1c0002row1_col4,#T_1821f9b6_53b2_11eb_9e1d_0242ac1c0002row1_col6,#T_1821f9b6_53b2_11eb_9e1d_0242ac1c0002row2_col5,#T_1821f9b6_53b2_11eb_9e1d_0242ac1c0002row3_col5,#T_1821f9b6_53b2_11eb_9e1d_0242ac1c0002row4_col8,#T_1821f9b6_53b2_11eb_9e1d_0242ac1c0002row7_col1{\n",
              "            background-color:  #fff5eb;\n",
              "            color:  #000000;\n",
              "        }#T_1821f9b6_53b2_11eb_9e1d_0242ac1c0002row0_col4,#T_1821f9b6_53b2_11eb_9e1d_0242ac1c0002row0_col5,#T_1821f9b6_53b2_11eb_9e1d_0242ac1c0002row0_col6,#T_1821f9b6_53b2_11eb_9e1d_0242ac1c0002row0_col7,#T_1821f9b6_53b2_11eb_9e1d_0242ac1c0002row0_col8,#T_1821f9b6_53b2_11eb_9e1d_0242ac1c0002row1_col5,#T_1821f9b6_53b2_11eb_9e1d_0242ac1c0002row1_col7,#T_1821f9b6_53b2_11eb_9e1d_0242ac1c0002row1_col8,#T_1821f9b6_53b2_11eb_9e1d_0242ac1c0002row2_col6,#T_1821f9b6_53b2_11eb_9e1d_0242ac1c0002row2_col7,#T_1821f9b6_53b2_11eb_9e1d_0242ac1c0002row2_col8,#T_1821f9b6_53b2_11eb_9e1d_0242ac1c0002row3_col0,#T_1821f9b6_53b2_11eb_9e1d_0242ac1c0002row3_col6,#T_1821f9b6_53b2_11eb_9e1d_0242ac1c0002row3_col7,#T_1821f9b6_53b2_11eb_9e1d_0242ac1c0002row3_col8,#T_1821f9b6_53b2_11eb_9e1d_0242ac1c0002row4_col0,#T_1821f9b6_53b2_11eb_9e1d_0242ac1c0002row4_col1,#T_1821f9b6_53b2_11eb_9e1d_0242ac1c0002row4_col7,#T_1821f9b6_53b2_11eb_9e1d_0242ac1c0002row5_col0,#T_1821f9b6_53b2_11eb_9e1d_0242ac1c0002row5_col1,#T_1821f9b6_53b2_11eb_9e1d_0242ac1c0002row5_col2,#T_1821f9b6_53b2_11eb_9e1d_0242ac1c0002row5_col8,#T_1821f9b6_53b2_11eb_9e1d_0242ac1c0002row6_col0,#T_1821f9b6_53b2_11eb_9e1d_0242ac1c0002row6_col1,#T_1821f9b6_53b2_11eb_9e1d_0242ac1c0002row6_col2,#T_1821f9b6_53b2_11eb_9e1d_0242ac1c0002row6_col3,#T_1821f9b6_53b2_11eb_9e1d_0242ac1c0002row7_col0,#T_1821f9b6_53b2_11eb_9e1d_0242ac1c0002row7_col2,#T_1821f9b6_53b2_11eb_9e1d_0242ac1c0002row7_col3,#T_1821f9b6_53b2_11eb_9e1d_0242ac1c0002row7_col4,#T_1821f9b6_53b2_11eb_9e1d_0242ac1c0002row7_col5,#T_1821f9b6_53b2_11eb_9e1d_0242ac1c0002row7_col6,#T_1821f9b6_53b2_11eb_9e1d_0242ac1c0002row7_col7,#T_1821f9b6_53b2_11eb_9e1d_0242ac1c0002row7_col8{\n",
              "            background-color:  #fff5eb;\n",
              "            color:  #000000;\n",
              "            background-color:  white;\n",
              "             color:  white;\n",
              "        }#T_1821f9b6_53b2_11eb_9e1d_0242ac1c0002row1_col0{\n",
              "            background-color:  #fdb373;\n",
              "            color:  #000000;\n",
              "        }#T_1821f9b6_53b2_11eb_9e1d_0242ac1c0002row1_col1{\n",
              "            background-color:  #892b04;\n",
              "            color:  #f1f1f1;\n",
              "        }#T_1821f9b6_53b2_11eb_9e1d_0242ac1c0002row1_col2{\n",
              "            background-color:  #fee9d3;\n",
              "            color:  #000000;\n",
              "        }#T_1821f9b6_53b2_11eb_9e1d_0242ac1c0002row1_col3,#T_1821f9b6_53b2_11eb_9e1d_0242ac1c0002row3_col4{\n",
              "            background-color:  #fff2e5;\n",
              "            color:  #000000;\n",
              "        }#T_1821f9b6_53b2_11eb_9e1d_0242ac1c0002row2_col0,#T_1821f9b6_53b2_11eb_9e1d_0242ac1c0002row3_col1,#T_1821f9b6_53b2_11eb_9e1d_0242ac1c0002row5_col3{\n",
              "            background-color:  #fff4e9;\n",
              "            color:  #000000;\n",
              "        }#T_1821f9b6_53b2_11eb_9e1d_0242ac1c0002row2_col1{\n",
              "            background-color:  #fdc48f;\n",
              "            color:  #000000;\n",
              "        }#T_1821f9b6_53b2_11eb_9e1d_0242ac1c0002row2_col2{\n",
              "            background-color:  #e15307;\n",
              "            color:  #000000;\n",
              "        }#T_1821f9b6_53b2_11eb_9e1d_0242ac1c0002row2_col3{\n",
              "            background-color:  #feeddc;\n",
              "            color:  #000000;\n",
              "        }#T_1821f9b6_53b2_11eb_9e1d_0242ac1c0002row2_col4{\n",
              "            background-color:  #fff2e6;\n",
              "            color:  #000000;\n",
              "        }#T_1821f9b6_53b2_11eb_9e1d_0242ac1c0002row3_col2{\n",
              "            background-color:  #fdd1a3;\n",
              "            color:  #000000;\n",
              "        }#T_1821f9b6_53b2_11eb_9e1d_0242ac1c0002row3_col3{\n",
              "            background-color:  #fdae6a;\n",
              "            color:  #000000;\n",
              "        }#T_1821f9b6_53b2_11eb_9e1d_0242ac1c0002row4_col2,#T_1821f9b6_53b2_11eb_9e1d_0242ac1c0002row6_col8{\n",
              "            background-color:  #fff5ea;\n",
              "            color:  #000000;\n",
              "        }#T_1821f9b6_53b2_11eb_9e1d_0242ac1c0002row4_col3{\n",
              "            background-color:  #fdbd83;\n",
              "            color:  #000000;\n",
              "        }#T_1821f9b6_53b2_11eb_9e1d_0242ac1c0002row4_col4{\n",
              "            background-color:  #fa8532;\n",
              "            color:  #000000;\n",
              "        }#T_1821f9b6_53b2_11eb_9e1d_0242ac1c0002row4_col5{\n",
              "            background-color:  #fee8d2;\n",
              "            color:  #000000;\n",
              "        }#T_1821f9b6_53b2_11eb_9e1d_0242ac1c0002row5_col4{\n",
              "            background-color:  #fd974a;\n",
              "            color:  #000000;\n",
              "        }#T_1821f9b6_53b2_11eb_9e1d_0242ac1c0002row5_col5{\n",
              "            background-color:  #df5106;\n",
              "            color:  #f1f1f1;\n",
              "        }#T_1821f9b6_53b2_11eb_9e1d_0242ac1c0002row5_col6{\n",
              "            background-color:  #feecd9;\n",
              "            color:  #000000;\n",
              "        }#T_1821f9b6_53b2_11eb_9e1d_0242ac1c0002row5_col7{\n",
              "            background-color:  #fff3e7;\n",
              "            color:  #000000;\n",
              "        }#T_1821f9b6_53b2_11eb_9e1d_0242ac1c0002row6_col4{\n",
              "            background-color:  #fff4e8;\n",
              "            color:  #000000;\n",
              "        }#T_1821f9b6_53b2_11eb_9e1d_0242ac1c0002row6_col5{\n",
              "            background-color:  #fdd5ad;\n",
              "            color:  #000000;\n",
              "        }#T_1821f9b6_53b2_11eb_9e1d_0242ac1c0002row6_col6{\n",
              "            background-color:  #fdb271;\n",
              "            color:  #000000;\n",
              "        }#T_1821f9b6_53b2_11eb_9e1d_0242ac1c0002row6_col7{\n",
              "            background-color:  #fff1e3;\n",
              "            color:  #000000;\n",
              "        }</style><table id=\"T_1821f9b6_53b2_11eb_9e1d_0242ac1c0002\" class=\"dataframe\"><thead>    <tr>        <th class=\"index_name level0\" >Idade</th>        <th class=\"col_heading level0 col0\" >11</th>        <th class=\"col_heading level0 col1\" >12</th>        <th class=\"col_heading level0 col2\" >13</th>        <th class=\"col_heading level0 col3\" >14</th>        <th class=\"col_heading level0 col4\" >15</th>        <th class=\"col_heading level0 col5\" >16</th>        <th class=\"col_heading level0 col6\" >17</th>        <th class=\"col_heading level0 col7\" >18</th>        <th class=\"col_heading level0 col8\" >19</th>    </tr>    <tr>        <th class=\"index_name level0\" >Série/Ano</th>        <th class=\"blank\" ></th>        <th class=\"blank\" ></th>        <th class=\"blank\" ></th>        <th class=\"blank\" ></th>        <th class=\"blank\" ></th>        <th class=\"blank\" ></th>        <th class=\"blank\" ></th>        <th class=\"blank\" ></th>        <th class=\"blank\" ></th>    </tr></thead><tbody>\n",
              "                <tr>\n",
              "                        <th id=\"T_1821f9b6_53b2_11eb_9e1d_0242ac1c0002level0_row0\" class=\"row_heading level0 row0\" >6º ano/5ª série</th>\n",
              "                        <td id=\"T_1821f9b6_53b2_11eb_9e1d_0242ac1c0002row0_col0\" class=\"data row0 col0\" >292</td>\n",
              "                        <td id=\"T_1821f9b6_53b2_11eb_9e1d_0242ac1c0002row0_col1\" class=\"data row0 col1\" >24</td>\n",
              "                        <td id=\"T_1821f9b6_53b2_11eb_9e1d_0242ac1c0002row0_col2\" class=\"data row0 col2\" >6</td>\n",
              "                        <td id=\"T_1821f9b6_53b2_11eb_9e1d_0242ac1c0002row0_col3\" class=\"data row0 col3\" >1</td>\n",
              "                        <td id=\"T_1821f9b6_53b2_11eb_9e1d_0242ac1c0002row0_col4\" class=\"data row0 col4\" >0</td>\n",
              "                        <td id=\"T_1821f9b6_53b2_11eb_9e1d_0242ac1c0002row0_col5\" class=\"data row0 col5\" >0</td>\n",
              "                        <td id=\"T_1821f9b6_53b2_11eb_9e1d_0242ac1c0002row0_col6\" class=\"data row0 col6\" >0</td>\n",
              "                        <td id=\"T_1821f9b6_53b2_11eb_9e1d_0242ac1c0002row0_col7\" class=\"data row0 col7\" >0</td>\n",
              "                        <td id=\"T_1821f9b6_53b2_11eb_9e1d_0242ac1c0002row0_col8\" class=\"data row0 col8\" >0</td>\n",
              "            </tr>\n",
              "            <tr>\n",
              "                        <th id=\"T_1821f9b6_53b2_11eb_9e1d_0242ac1c0002level0_row1\" class=\"row_heading level0 row1\" >7º ano/6ª série</th>\n",
              "                        <td id=\"T_1821f9b6_53b2_11eb_9e1d_0242ac1c0002row1_col0\" class=\"data row1 col0\" >104</td>\n",
              "                        <td id=\"T_1821f9b6_53b2_11eb_9e1d_0242ac1c0002row1_col1\" class=\"data row1 col1\" >282</td>\n",
              "                        <td id=\"T_1821f9b6_53b2_11eb_9e1d_0242ac1c0002row1_col2\" class=\"data row1 col2\" >30</td>\n",
              "                        <td id=\"T_1821f9b6_53b2_11eb_9e1d_0242ac1c0002row1_col3\" class=\"data row1 col3\" >9</td>\n",
              "                        <td id=\"T_1821f9b6_53b2_11eb_9e1d_0242ac1c0002row1_col4\" class=\"data row1 col4\" >1</td>\n",
              "                        <td id=\"T_1821f9b6_53b2_11eb_9e1d_0242ac1c0002row1_col5\" class=\"data row1 col5\" >0</td>\n",
              "                        <td id=\"T_1821f9b6_53b2_11eb_9e1d_0242ac1c0002row1_col6\" class=\"data row1 col6\" >1</td>\n",
              "                        <td id=\"T_1821f9b6_53b2_11eb_9e1d_0242ac1c0002row1_col7\" class=\"data row1 col7\" >0</td>\n",
              "                        <td id=\"T_1821f9b6_53b2_11eb_9e1d_0242ac1c0002row1_col8\" class=\"data row1 col8\" >0</td>\n",
              "            </tr>\n",
              "            <tr>\n",
              "                        <th id=\"T_1821f9b6_53b2_11eb_9e1d_0242ac1c0002level0_row2\" class=\"row_heading level0 row2\" >8º ano/7ª série</th>\n",
              "                        <td id=\"T_1821f9b6_53b2_11eb_9e1d_0242ac1c0002row2_col0\" class=\"data row2 col0\" >3</td>\n",
              "                        <td id=\"T_1821f9b6_53b2_11eb_9e1d_0242ac1c0002row2_col1\" class=\"data row2 col1\" >86</td>\n",
              "                        <td id=\"T_1821f9b6_53b2_11eb_9e1d_0242ac1c0002row2_col2\" class=\"data row2 col2\" >207</td>\n",
              "                        <td id=\"T_1821f9b6_53b2_11eb_9e1d_0242ac1c0002row2_col3\" class=\"data row2 col3\" >20</td>\n",
              "                        <td id=\"T_1821f9b6_53b2_11eb_9e1d_0242ac1c0002row2_col4\" class=\"data row2 col4\" >7</td>\n",
              "                        <td id=\"T_1821f9b6_53b2_11eb_9e1d_0242ac1c0002row2_col5\" class=\"data row2 col5\" >1</td>\n",
              "                        <td id=\"T_1821f9b6_53b2_11eb_9e1d_0242ac1c0002row2_col6\" class=\"data row2 col6\" >0</td>\n",
              "                        <td id=\"T_1821f9b6_53b2_11eb_9e1d_0242ac1c0002row2_col7\" class=\"data row2 col7\" >0</td>\n",
              "                        <td id=\"T_1821f9b6_53b2_11eb_9e1d_0242ac1c0002row2_col8\" class=\"data row2 col8\" >0</td>\n",
              "            </tr>\n",
              "            <tr>\n",
              "                        <th id=\"T_1821f9b6_53b2_11eb_9e1d_0242ac1c0002level0_row3\" class=\"row_heading level0 row3\" >9º ano/8ª série</th>\n",
              "                        <td id=\"T_1821f9b6_53b2_11eb_9e1d_0242ac1c0002row3_col0\" class=\"data row3 col0\" >0</td>\n",
              "                        <td id=\"T_1821f9b6_53b2_11eb_9e1d_0242ac1c0002row3_col1\" class=\"data row3 col1\" >3</td>\n",
              "                        <td id=\"T_1821f9b6_53b2_11eb_9e1d_0242ac1c0002row3_col2\" class=\"data row3 col2\" >72</td>\n",
              "                        <td id=\"T_1821f9b6_53b2_11eb_9e1d_0242ac1c0002row3_col3\" class=\"data row3 col3\" >110</td>\n",
              "                        <td id=\"T_1821f9b6_53b2_11eb_9e1d_0242ac1c0002row3_col4\" class=\"data row3 col4\" >8</td>\n",
              "                        <td id=\"T_1821f9b6_53b2_11eb_9e1d_0242ac1c0002row3_col5\" class=\"data row3 col5\" >1</td>\n",
              "                        <td id=\"T_1821f9b6_53b2_11eb_9e1d_0242ac1c0002row3_col6\" class=\"data row3 col6\" >0</td>\n",
              "                        <td id=\"T_1821f9b6_53b2_11eb_9e1d_0242ac1c0002row3_col7\" class=\"data row3 col7\" >0</td>\n",
              "                        <td id=\"T_1821f9b6_53b2_11eb_9e1d_0242ac1c0002row3_col8\" class=\"data row3 col8\" >0</td>\n",
              "            </tr>\n",
              "            <tr>\n",
              "                        <th id=\"T_1821f9b6_53b2_11eb_9e1d_0242ac1c0002level0_row4\" class=\"row_heading level0 row4\" >1º ano</th>\n",
              "                        <td id=\"T_1821f9b6_53b2_11eb_9e1d_0242ac1c0002row4_col0\" class=\"data row4 col0\" >0</td>\n",
              "                        <td id=\"T_1821f9b6_53b2_11eb_9e1d_0242ac1c0002row4_col1\" class=\"data row4 col1\" >0</td>\n",
              "                        <td id=\"T_1821f9b6_53b2_11eb_9e1d_0242ac1c0002row4_col2\" class=\"data row4 col2\" >2</td>\n",
              "                        <td id=\"T_1821f9b6_53b2_11eb_9e1d_0242ac1c0002row4_col3\" class=\"data row4 col3\" >94</td>\n",
              "                        <td id=\"T_1821f9b6_53b2_11eb_9e1d_0242ac1c0002row4_col4\" class=\"data row4 col4\" >155</td>\n",
              "                        <td id=\"T_1821f9b6_53b2_11eb_9e1d_0242ac1c0002row4_col5\" class=\"data row4 col5\" >31</td>\n",
              "                        <td id=\"T_1821f9b6_53b2_11eb_9e1d_0242ac1c0002row4_col6\" class=\"data row4 col6\" >6</td>\n",
              "                        <td id=\"T_1821f9b6_53b2_11eb_9e1d_0242ac1c0002row4_col7\" class=\"data row4 col7\" >0</td>\n",
              "                        <td id=\"T_1821f9b6_53b2_11eb_9e1d_0242ac1c0002row4_col8\" class=\"data row4 col8\" >1</td>\n",
              "            </tr>\n",
              "            <tr>\n",
              "                        <th id=\"T_1821f9b6_53b2_11eb_9e1d_0242ac1c0002level0_row5\" class=\"row_heading level0 row5\" >2º ano</th>\n",
              "                        <td id=\"T_1821f9b6_53b2_11eb_9e1d_0242ac1c0002row5_col0\" class=\"data row5 col0\" >0</td>\n",
              "                        <td id=\"T_1821f9b6_53b2_11eb_9e1d_0242ac1c0002row5_col1\" class=\"data row5 col1\" >0</td>\n",
              "                        <td id=\"T_1821f9b6_53b2_11eb_9e1d_0242ac1c0002row5_col2\" class=\"data row5 col2\" >0</td>\n",
              "                        <td id=\"T_1821f9b6_53b2_11eb_9e1d_0242ac1c0002row5_col3\" class=\"data row5 col3\" >3</td>\n",
              "                        <td id=\"T_1821f9b6_53b2_11eb_9e1d_0242ac1c0002row5_col4\" class=\"data row5 col4\" >135</td>\n",
              "                        <td id=\"T_1821f9b6_53b2_11eb_9e1d_0242ac1c0002row5_col5\" class=\"data row5 col5\" >209</td>\n",
              "                        <td id=\"T_1821f9b6_53b2_11eb_9e1d_0242ac1c0002row5_col6\" class=\"data row5 col6\" >23</td>\n",
              "                        <td id=\"T_1821f9b6_53b2_11eb_9e1d_0242ac1c0002row5_col7\" class=\"data row5 col7\" >5</td>\n",
              "                        <td id=\"T_1821f9b6_53b2_11eb_9e1d_0242ac1c0002row5_col8\" class=\"data row5 col8\" >0</td>\n",
              "            </tr>\n",
              "            <tr>\n",
              "                        <th id=\"T_1821f9b6_53b2_11eb_9e1d_0242ac1c0002level0_row6\" class=\"row_heading level0 row6\" >3º ano</th>\n",
              "                        <td id=\"T_1821f9b6_53b2_11eb_9e1d_0242ac1c0002row6_col0\" class=\"data row6 col0\" >0</td>\n",
              "                        <td id=\"T_1821f9b6_53b2_11eb_9e1d_0242ac1c0002row6_col1\" class=\"data row6 col1\" >0</td>\n",
              "                        <td id=\"T_1821f9b6_53b2_11eb_9e1d_0242ac1c0002row6_col2\" class=\"data row6 col2\" >0</td>\n",
              "                        <td id=\"T_1821f9b6_53b2_11eb_9e1d_0242ac1c0002row6_col3\" class=\"data row6 col3\" >0</td>\n",
              "                        <td id=\"T_1821f9b6_53b2_11eb_9e1d_0242ac1c0002row6_col4\" class=\"data row6 col4\" >4</td>\n",
              "                        <td id=\"T_1821f9b6_53b2_11eb_9e1d_0242ac1c0002row6_col5\" class=\"data row6 col5\" >64</td>\n",
              "                        <td id=\"T_1821f9b6_53b2_11eb_9e1d_0242ac1c0002row6_col6\" class=\"data row6 col6\" >105</td>\n",
              "                        <td id=\"T_1821f9b6_53b2_11eb_9e1d_0242ac1c0002row6_col7\" class=\"data row6 col7\" >11</td>\n",
              "                        <td id=\"T_1821f9b6_53b2_11eb_9e1d_0242ac1c0002row6_col8\" class=\"data row6 col8\" >2</td>\n",
              "            </tr>\n",
              "            <tr>\n",
              "                        <th id=\"T_1821f9b6_53b2_11eb_9e1d_0242ac1c0002level0_row7\" class=\"row_heading level0 row7\" >Não informado</th>\n",
              "                        <td id=\"T_1821f9b6_53b2_11eb_9e1d_0242ac1c0002row7_col0\" class=\"data row7 col0\" >0</td>\n",
              "                        <td id=\"T_1821f9b6_53b2_11eb_9e1d_0242ac1c0002row7_col1\" class=\"data row7 col1\" >1</td>\n",
              "                        <td id=\"T_1821f9b6_53b2_11eb_9e1d_0242ac1c0002row7_col2\" class=\"data row7 col2\" >0</td>\n",
              "                        <td id=\"T_1821f9b6_53b2_11eb_9e1d_0242ac1c0002row7_col3\" class=\"data row7 col3\" >0</td>\n",
              "                        <td id=\"T_1821f9b6_53b2_11eb_9e1d_0242ac1c0002row7_col4\" class=\"data row7 col4\" >0</td>\n",
              "                        <td id=\"T_1821f9b6_53b2_11eb_9e1d_0242ac1c0002row7_col5\" class=\"data row7 col5\" >0</td>\n",
              "                        <td id=\"T_1821f9b6_53b2_11eb_9e1d_0242ac1c0002row7_col6\" class=\"data row7 col6\" >0</td>\n",
              "                        <td id=\"T_1821f9b6_53b2_11eb_9e1d_0242ac1c0002row7_col7\" class=\"data row7 col7\" >0</td>\n",
              "                        <td id=\"T_1821f9b6_53b2_11eb_9e1d_0242ac1c0002row7_col8\" class=\"data row7 col8\" >0</td>\n",
              "            </tr>\n",
              "    </tbody></table>\n",
              "    </div>\n",
              "<div style=\"float: left; padding: 10px;\">\n",
              "    <p style='font-family:\"Courier New\", Courier, monospace'>escola_publica</p><style  type=\"text/css\" >\n",
              "#T_18277558_53b2_11eb_9e1d_0242ac1c0002row0_col0{\n",
              "            background-color:  #440a82;\n",
              "            color:  #f1f1f1;\n",
              "        }#T_18277558_53b2_11eb_9e1d_0242ac1c0002row0_col1{\n",
              "            background-color:  #b7b7d9;\n",
              "            color:  #000000;\n",
              "        }#T_18277558_53b2_11eb_9e1d_0242ac1c0002row0_col2{\n",
              "            background-color:  #f3f2f8;\n",
              "            color:  #000000;\n",
              "        }#T_18277558_53b2_11eb_9e1d_0242ac1c0002row0_col3{\n",
              "            background-color:  #f7f6fa;\n",
              "            color:  #000000;\n",
              "        }#T_18277558_53b2_11eb_9e1d_0242ac1c0002row0_col4,#T_18277558_53b2_11eb_9e1d_0242ac1c0002row1_col5,#T_18277558_53b2_11eb_9e1d_0242ac1c0002row1_col6,#T_18277558_53b2_11eb_9e1d_0242ac1c0002row2_col6,#T_18277558_53b2_11eb_9e1d_0242ac1c0002row2_col8,#T_18277558_53b2_11eb_9e1d_0242ac1c0002row3_col1,#T_18277558_53b2_11eb_9e1d_0242ac1c0002row3_col8,#T_18277558_53b2_11eb_9e1d_0242ac1c0002row4_col2,#T_18277558_53b2_11eb_9e1d_0242ac1c0002row5_col3,#T_18277558_53b2_11eb_9e1d_0242ac1c0002row6_col4{\n",
              "            background-color:  #fbfafc;\n",
              "            color:  #000000;\n",
              "        }#T_18277558_53b2_11eb_9e1d_0242ac1c0002row0_col5,#T_18277558_53b2_11eb_9e1d_0242ac1c0002row0_col7,#T_18277558_53b2_11eb_9e1d_0242ac1c0002row0_col8,#T_18277558_53b2_11eb_9e1d_0242ac1c0002row1_col7,#T_18277558_53b2_11eb_9e1d_0242ac1c0002row1_col8,#T_18277558_53b2_11eb_9e1d_0242ac1c0002row2_col0,#T_18277558_53b2_11eb_9e1d_0242ac1c0002row2_col7,#T_18277558_53b2_11eb_9e1d_0242ac1c0002row3_col0,#T_18277558_53b2_11eb_9e1d_0242ac1c0002row3_col7,#T_18277558_53b2_11eb_9e1d_0242ac1c0002row4_col0,#T_18277558_53b2_11eb_9e1d_0242ac1c0002row4_col1,#T_18277558_53b2_11eb_9e1d_0242ac1c0002row6_col0,#T_18277558_53b2_11eb_9e1d_0242ac1c0002row6_col2,#T_18277558_53b2_11eb_9e1d_0242ac1c0002row7_col1,#T_18277558_53b2_11eb_9e1d_0242ac1c0002row7_col6{\n",
              "            background-color:  #fcfbfd;\n",
              "            color:  #000000;\n",
              "        }#T_18277558_53b2_11eb_9e1d_0242ac1c0002row0_col6,#T_18277558_53b2_11eb_9e1d_0242ac1c0002row5_col0,#T_18277558_53b2_11eb_9e1d_0242ac1c0002row5_col1,#T_18277558_53b2_11eb_9e1d_0242ac1c0002row5_col2,#T_18277558_53b2_11eb_9e1d_0242ac1c0002row6_col1,#T_18277558_53b2_11eb_9e1d_0242ac1c0002row6_col3,#T_18277558_53b2_11eb_9e1d_0242ac1c0002row7_col0,#T_18277558_53b2_11eb_9e1d_0242ac1c0002row7_col2,#T_18277558_53b2_11eb_9e1d_0242ac1c0002row7_col3,#T_18277558_53b2_11eb_9e1d_0242ac1c0002row7_col4,#T_18277558_53b2_11eb_9e1d_0242ac1c0002row7_col5,#T_18277558_53b2_11eb_9e1d_0242ac1c0002row7_col7,#T_18277558_53b2_11eb_9e1d_0242ac1c0002row7_col8{\n",
              "            background-color:  #fcfbfd;\n",
              "            color:  #000000;\n",
              "            background-color:  white;\n",
              "             color:  white;\n",
              "        }#T_18277558_53b2_11eb_9e1d_0242ac1c0002row1_col0,#T_18277558_53b2_11eb_9e1d_0242ac1c0002row6_col8{\n",
              "            background-color:  #eae8f2;\n",
              "            color:  #000000;\n",
              "        }#T_18277558_53b2_11eb_9e1d_0242ac1c0002row1_col1{\n",
              "            background-color:  #3f007d;\n",
              "            color:  #f1f1f1;\n",
              "        }#T_18277558_53b2_11eb_9e1d_0242ac1c0002row1_col2{\n",
              "            background-color:  #b1b1d5;\n",
              "            color:  #000000;\n",
              "        }#T_18277558_53b2_11eb_9e1d_0242ac1c0002row1_col3{\n",
              "            background-color:  #e8e6f2;\n",
              "            color:  #000000;\n",
              "        }#T_18277558_53b2_11eb_9e1d_0242ac1c0002row1_col4,#T_18277558_53b2_11eb_9e1d_0242ac1c0002row5_col8{\n",
              "            background-color:  #f5f4f9;\n",
              "            color:  #000000;\n",
              "        }#T_18277558_53b2_11eb_9e1d_0242ac1c0002row2_col1,#T_18277558_53b2_11eb_9e1d_0242ac1c0002row6_col5{\n",
              "            background-color:  #d5d5e9;\n",
              "            color:  #000000;\n",
              "        }#T_18277558_53b2_11eb_9e1d_0242ac1c0002row2_col2{\n",
              "            background-color:  #552a90;\n",
              "            color:  #f1f1f1;\n",
              "        }#T_18277558_53b2_11eb_9e1d_0242ac1c0002row2_col3{\n",
              "            background-color:  #cacae3;\n",
              "            color:  #000000;\n",
              "        }#T_18277558_53b2_11eb_9e1d_0242ac1c0002row2_col4{\n",
              "            background-color:  #f0eef6;\n",
              "            color:  #000000;\n",
              "        }#T_18277558_53b2_11eb_9e1d_0242ac1c0002row2_col5{\n",
              "            background-color:  #f9f8fb;\n",
              "            color:  #000000;\n",
              "        }#T_18277558_53b2_11eb_9e1d_0242ac1c0002row3_col2{\n",
              "            background-color:  #e4e3f0;\n",
              "            color:  #000000;\n",
              "        }#T_18277558_53b2_11eb_9e1d_0242ac1c0002row3_col3{\n",
              "            background-color:  #817ebb;\n",
              "            color:  #000000;\n",
              "        }#T_18277558_53b2_11eb_9e1d_0242ac1c0002row3_col4{\n",
              "            background-color:  #dfdfed;\n",
              "            color:  #000000;\n",
              "        }#T_18277558_53b2_11eb_9e1d_0242ac1c0002row3_col5{\n",
              "            background-color:  #f3f1f7;\n",
              "            color:  #000000;\n",
              "        }#T_18277558_53b2_11eb_9e1d_0242ac1c0002row3_col6{\n",
              "            background-color:  #f8f7fa;\n",
              "            color:  #000000;\n",
              "        }#T_18277558_53b2_11eb_9e1d_0242ac1c0002row4_col3{\n",
              "            background-color:  #dedeed;\n",
              "            color:  #000000;\n",
              "        }#T_18277558_53b2_11eb_9e1d_0242ac1c0002row4_col4{\n",
              "            background-color:  #7c75b6;\n",
              "            color:  #000000;\n",
              "        }#T_18277558_53b2_11eb_9e1d_0242ac1c0002row4_col5{\n",
              "            background-color:  #cecee5;\n",
              "            color:  #000000;\n",
              "        }#T_18277558_53b2_11eb_9e1d_0242ac1c0002row4_col6{\n",
              "            background-color:  #eceaf3;\n",
              "            color:  #000000;\n",
              "        }#T_18277558_53b2_11eb_9e1d_0242ac1c0002row4_col7{\n",
              "            background-color:  #f7f5fa;\n",
              "            color:  #000000;\n",
              "        }#T_18277558_53b2_11eb_9e1d_0242ac1c0002row4_col8{\n",
              "            background-color:  #f9f7fb;\n",
              "            color:  #000000;\n",
              "        }#T_18277558_53b2_11eb_9e1d_0242ac1c0002row5_col4{\n",
              "            background-color:  #b5b5d7;\n",
              "            color:  #000000;\n",
              "        }#T_18277558_53b2_11eb_9e1d_0242ac1c0002row5_col5{\n",
              "            background-color:  #7465ad;\n",
              "            color:  #000000;\n",
              "        }#T_18277558_53b2_11eb_9e1d_0242ac1c0002row5_col6{\n",
              "            background-color:  #d6d6e9;\n",
              "            color:  #000000;\n",
              "        }#T_18277558_53b2_11eb_9e1d_0242ac1c0002row5_col7{\n",
              "            background-color:  #f4f3f8;\n",
              "            color:  #000000;\n",
              "        }#T_18277558_53b2_11eb_9e1d_0242ac1c0002row6_col6{\n",
              "            background-color:  #8d89c0;\n",
              "            color:  #000000;\n",
              "        }#T_18277558_53b2_11eb_9e1d_0242ac1c0002row6_col7{\n",
              "            background-color:  #e2e2ef;\n",
              "            color:  #000000;\n",
              "        }</style><table id=\"T_18277558_53b2_11eb_9e1d_0242ac1c0002\" class=\"dataframe\"><thead>    <tr>        <th class=\"index_name level0\" >Idade</th>        <th class=\"col_heading level0 col0\" >11</th>        <th class=\"col_heading level0 col1\" >12</th>        <th class=\"col_heading level0 col2\" >13</th>        <th class=\"col_heading level0 col3\" >14</th>        <th class=\"col_heading level0 col4\" >15</th>        <th class=\"col_heading level0 col5\" >16</th>        <th class=\"col_heading level0 col6\" >17</th>        <th class=\"col_heading level0 col7\" >18</th>        <th class=\"col_heading level0 col8\" >19</th>    </tr>    <tr>        <th class=\"index_name level0\" >Série/Ano</th>        <th class=\"blank\" ></th>        <th class=\"blank\" ></th>        <th class=\"blank\" ></th>        <th class=\"blank\" ></th>        <th class=\"blank\" ></th>        <th class=\"blank\" ></th>        <th class=\"blank\" ></th>        <th class=\"blank\" ></th>        <th class=\"blank\" ></th>    </tr></thead><tbody>\n",
              "                <tr>\n",
              "                        <th id=\"T_18277558_53b2_11eb_9e1d_0242ac1c0002level0_row0\" class=\"row_heading level0 row0\" >6º ano/5ª série</th>\n",
              "                        <td id=\"T_18277558_53b2_11eb_9e1d_0242ac1c0002row0_col0\" class=\"data row0 col0\" >576</td>\n",
              "                        <td id=\"T_18277558_53b2_11eb_9e1d_0242ac1c0002row0_col1\" class=\"data row0 col1\" >237</td>\n",
              "                        <td id=\"T_18277558_53b2_11eb_9e1d_0242ac1c0002row0_col2\" class=\"data row0 col2\" >50</td>\n",
              "                        <td id=\"T_18277558_53b2_11eb_9e1d_0242ac1c0002row0_col3\" class=\"data row0 col3\" >29</td>\n",
              "                        <td id=\"T_18277558_53b2_11eb_9e1d_0242ac1c0002row0_col4\" class=\"data row0 col4\" >9</td>\n",
              "                        <td id=\"T_18277558_53b2_11eb_9e1d_0242ac1c0002row0_col5\" class=\"data row0 col5\" >3</td>\n",
              "                        <td id=\"T_18277558_53b2_11eb_9e1d_0242ac1c0002row0_col6\" class=\"data row0 col6\" >0</td>\n",
              "                        <td id=\"T_18277558_53b2_11eb_9e1d_0242ac1c0002row0_col7\" class=\"data row0 col7\" >1</td>\n",
              "                        <td id=\"T_18277558_53b2_11eb_9e1d_0242ac1c0002row0_col8\" class=\"data row0 col8\" >1</td>\n",
              "            </tr>\n",
              "            <tr>\n",
              "                        <th id=\"T_18277558_53b2_11eb_9e1d_0242ac1c0002level0_row1\" class=\"row_heading level0 row1\" >7º ano/6ª série</th>\n",
              "                        <td id=\"T_18277558_53b2_11eb_9e1d_0242ac1c0002row1_col0\" class=\"data row1 col0\" >93</td>\n",
              "                        <td id=\"T_18277558_53b2_11eb_9e1d_0242ac1c0002row1_col1\" class=\"data row1 col1\" >595</td>\n",
              "                        <td id=\"T_18277558_53b2_11eb_9e1d_0242ac1c0002row1_col2\" class=\"data row1 col2\" >251</td>\n",
              "                        <td id=\"T_18277558_53b2_11eb_9e1d_0242ac1c0002row1_col3\" class=\"data row1 col3\" >100</td>\n",
              "                        <td id=\"T_18277558_53b2_11eb_9e1d_0242ac1c0002row1_col4\" class=\"data row1 col4\" >39</td>\n",
              "                        <td id=\"T_18277558_53b2_11eb_9e1d_0242ac1c0002row1_col5\" class=\"data row1 col5\" >7</td>\n",
              "                        <td id=\"T_18277558_53b2_11eb_9e1d_0242ac1c0002row1_col6\" class=\"data row1 col6\" >5</td>\n",
              "                        <td id=\"T_18277558_53b2_11eb_9e1d_0242ac1c0002row1_col7\" class=\"data row1 col7\" >2</td>\n",
              "                        <td id=\"T_18277558_53b2_11eb_9e1d_0242ac1c0002row1_col8\" class=\"data row1 col8\" >1</td>\n",
              "            </tr>\n",
              "            <tr>\n",
              "                        <th id=\"T_18277558_53b2_11eb_9e1d_0242ac1c0002level0_row2\" class=\"row_heading level0 row2\" >8º ano/7ª série</th>\n",
              "                        <td id=\"T_18277558_53b2_11eb_9e1d_0242ac1c0002row2_col0\" class=\"data row2 col0\" >4</td>\n",
              "                        <td id=\"T_18277558_53b2_11eb_9e1d_0242ac1c0002row2_col1\" class=\"data row2 col1\" >162</td>\n",
              "                        <td id=\"T_18277558_53b2_11eb_9e1d_0242ac1c0002row2_col2\" class=\"data row2 col2\" >515</td>\n",
              "                        <td id=\"T_18277558_53b2_11eb_9e1d_0242ac1c0002row2_col3\" class=\"data row2 col3\" >189</td>\n",
              "                        <td id=\"T_18277558_53b2_11eb_9e1d_0242ac1c0002row2_col4\" class=\"data row2 col4\" >68</td>\n",
              "                        <td id=\"T_18277558_53b2_11eb_9e1d_0242ac1c0002row2_col5\" class=\"data row2 col5\" >18</td>\n",
              "                        <td id=\"T_18277558_53b2_11eb_9e1d_0242ac1c0002row2_col6\" class=\"data row2 col6\" >5</td>\n",
              "                        <td id=\"T_18277558_53b2_11eb_9e1d_0242ac1c0002row2_col7\" class=\"data row2 col7\" >2</td>\n",
              "                        <td id=\"T_18277558_53b2_11eb_9e1d_0242ac1c0002row2_col8\" class=\"data row2 col8\" >5</td>\n",
              "            </tr>\n",
              "            <tr>\n",
              "                        <th id=\"T_18277558_53b2_11eb_9e1d_0242ac1c0002level0_row3\" class=\"row_heading level0 row3\" >9º ano/8ª série</th>\n",
              "                        <td id=\"T_18277558_53b2_11eb_9e1d_0242ac1c0002row3_col0\" class=\"data row3 col0\" >1</td>\n",
              "                        <td id=\"T_18277558_53b2_11eb_9e1d_0242ac1c0002row3_col1\" class=\"data row3 col1\" >6</td>\n",
              "                        <td id=\"T_18277558_53b2_11eb_9e1d_0242ac1c0002row3_col2\" class=\"data row3 col2\" >112</td>\n",
              "                        <td id=\"T_18277558_53b2_11eb_9e1d_0242ac1c0002row3_col3\" class=\"data row3 col3\" >369</td>\n",
              "                        <td id=\"T_18277558_53b2_11eb_9e1d_0242ac1c0002row3_col4\" class=\"data row3 col4\" >131</td>\n",
              "                        <td id=\"T_18277558_53b2_11eb_9e1d_0242ac1c0002row3_col5\" class=\"data row3 col5\" >54</td>\n",
              "                        <td id=\"T_18277558_53b2_11eb_9e1d_0242ac1c0002row3_col6\" class=\"data row3 col6\" >24</td>\n",
              "                        <td id=\"T_18277558_53b2_11eb_9e1d_0242ac1c0002row3_col7\" class=\"data row3 col7\" >3</td>\n",
              "                        <td id=\"T_18277558_53b2_11eb_9e1d_0242ac1c0002row3_col8\" class=\"data row3 col8\" >9</td>\n",
              "            </tr>\n",
              "            <tr>\n",
              "                        <th id=\"T_18277558_53b2_11eb_9e1d_0242ac1c0002level0_row4\" class=\"row_heading level0 row4\" >1º ano</th>\n",
              "                        <td id=\"T_18277558_53b2_11eb_9e1d_0242ac1c0002row4_col0\" class=\"data row4 col0\" >1</td>\n",
              "                        <td id=\"T_18277558_53b2_11eb_9e1d_0242ac1c0002row4_col1\" class=\"data row4 col1\" >1</td>\n",
              "                        <td id=\"T_18277558_53b2_11eb_9e1d_0242ac1c0002row4_col2\" class=\"data row4 col2\" >7</td>\n",
              "                        <td id=\"T_18277558_53b2_11eb_9e1d_0242ac1c0002row4_col3\" class=\"data row4 col3\" >134</td>\n",
              "                        <td id=\"T_18277558_53b2_11eb_9e1d_0242ac1c0002row4_col4\" class=\"data row4 col4\" >384</td>\n",
              "                        <td id=\"T_18277558_53b2_11eb_9e1d_0242ac1c0002row4_col5\" class=\"data row4 col5\" >181</td>\n",
              "                        <td id=\"T_18277558_53b2_11eb_9e1d_0242ac1c0002row4_col6\" class=\"data row4 col6\" >87</td>\n",
              "                        <td id=\"T_18277558_53b2_11eb_9e1d_0242ac1c0002row4_col7\" class=\"data row4 col7\" >32</td>\n",
              "                        <td id=\"T_18277558_53b2_11eb_9e1d_0242ac1c0002row4_col8\" class=\"data row4 col8\" >20</td>\n",
              "            </tr>\n",
              "            <tr>\n",
              "                        <th id=\"T_18277558_53b2_11eb_9e1d_0242ac1c0002level0_row5\" class=\"row_heading level0 row5\" >2º ano</th>\n",
              "                        <td id=\"T_18277558_53b2_11eb_9e1d_0242ac1c0002row5_col0\" class=\"data row5 col0\" >0</td>\n",
              "                        <td id=\"T_18277558_53b2_11eb_9e1d_0242ac1c0002row5_col1\" class=\"data row5 col1\" >0</td>\n",
              "                        <td id=\"T_18277558_53b2_11eb_9e1d_0242ac1c0002row5_col2\" class=\"data row5 col2\" >0</td>\n",
              "                        <td id=\"T_18277558_53b2_11eb_9e1d_0242ac1c0002row5_col3\" class=\"data row5 col3\" >6</td>\n",
              "                        <td id=\"T_18277558_53b2_11eb_9e1d_0242ac1c0002row5_col4\" class=\"data row5 col4\" >240</td>\n",
              "                        <td id=\"T_18277558_53b2_11eb_9e1d_0242ac1c0002row5_col5\" class=\"data row5 col5\" >412</td>\n",
              "                        <td id=\"T_18277558_53b2_11eb_9e1d_0242ac1c0002row5_col6\" class=\"data row5 col6\" >159</td>\n",
              "                        <td id=\"T_18277558_53b2_11eb_9e1d_0242ac1c0002row5_col7\" class=\"data row5 col7\" >46</td>\n",
              "                        <td id=\"T_18277558_53b2_11eb_9e1d_0242ac1c0002row5_col8\" class=\"data row5 col8\" >38</td>\n",
              "            </tr>\n",
              "            <tr>\n",
              "                        <th id=\"T_18277558_53b2_11eb_9e1d_0242ac1c0002level0_row6\" class=\"row_heading level0 row6\" >3º ano</th>\n",
              "                        <td id=\"T_18277558_53b2_11eb_9e1d_0242ac1c0002row6_col0\" class=\"data row6 col0\" >1</td>\n",
              "                        <td id=\"T_18277558_53b2_11eb_9e1d_0242ac1c0002row6_col1\" class=\"data row6 col1\" >0</td>\n",
              "                        <td id=\"T_18277558_53b2_11eb_9e1d_0242ac1c0002row6_col2\" class=\"data row6 col2\" >1</td>\n",
              "                        <td id=\"T_18277558_53b2_11eb_9e1d_0242ac1c0002row6_col3\" class=\"data row6 col3\" >0</td>\n",
              "                        <td id=\"T_18277558_53b2_11eb_9e1d_0242ac1c0002row6_col4\" class=\"data row6 col4\" >7</td>\n",
              "                        <td id=\"T_18277558_53b2_11eb_9e1d_0242ac1c0002row6_col5\" class=\"data row6 col5\" >162</td>\n",
              "                        <td id=\"T_18277558_53b2_11eb_9e1d_0242ac1c0002row6_col6\" class=\"data row6 col6\" >340</td>\n",
              "                        <td id=\"T_18277558_53b2_11eb_9e1d_0242ac1c0002row6_col7\" class=\"data row6 col7\" >119</td>\n",
              "                        <td id=\"T_18277558_53b2_11eb_9e1d_0242ac1c0002row6_col8\" class=\"data row6 col8\" >94</td>\n",
              "            </tr>\n",
              "            <tr>\n",
              "                        <th id=\"T_18277558_53b2_11eb_9e1d_0242ac1c0002level0_row7\" class=\"row_heading level0 row7\" >Não informado</th>\n",
              "                        <td id=\"T_18277558_53b2_11eb_9e1d_0242ac1c0002row7_col0\" class=\"data row7 col0\" >0</td>\n",
              "                        <td id=\"T_18277558_53b2_11eb_9e1d_0242ac1c0002row7_col1\" class=\"data row7 col1\" >1</td>\n",
              "                        <td id=\"T_18277558_53b2_11eb_9e1d_0242ac1c0002row7_col2\" class=\"data row7 col2\" >0</td>\n",
              "                        <td id=\"T_18277558_53b2_11eb_9e1d_0242ac1c0002row7_col3\" class=\"data row7 col3\" >0</td>\n",
              "                        <td id=\"T_18277558_53b2_11eb_9e1d_0242ac1c0002row7_col4\" class=\"data row7 col4\" >0</td>\n",
              "                        <td id=\"T_18277558_53b2_11eb_9e1d_0242ac1c0002row7_col5\" class=\"data row7 col5\" >0</td>\n",
              "                        <td id=\"T_18277558_53b2_11eb_9e1d_0242ac1c0002row7_col6\" class=\"data row7 col6\" >1</td>\n",
              "                        <td id=\"T_18277558_53b2_11eb_9e1d_0242ac1c0002row7_col7\" class=\"data row7 col7\" >0</td>\n",
              "                        <td id=\"T_18277558_53b2_11eb_9e1d_0242ac1c0002row7_col8\" class=\"data row7 col8\" >0</td>\n",
              "            </tr>\n",
              "    </tbody></table>\n",
              "    </div>"
            ],
            "text/plain": [
              "escola_privada\n",
              "<pandas.io.formats.style.Styler object at 0x7f1fff04eac8>\n",
              "\n",
              "escola_publica\n",
              "<pandas.io.formats.style.Styler object at 0x7f1ffd497ac8>"
            ]
          },
          "metadata": {
            "tags": []
          },
          "execution_count": 32
        }
      ]
    },
    {
      "cell_type": "markdown",
      "metadata": {
        "id": "THOXaLxV9Hs-"
      },
      "source": [
        "Naturalmente, a diagonal que possui a maior parte das escolares (cores mais fortes) contém a idade  para a série/ano correspondente. Abaixo dessa diagonal encontra-se as escolares *adiantadas*, ou seja, que estão em um grau acima do que deveria estar de acordo com a sua idade.\r\n",
        "\r\n",
        "A mesma lógica pode ser utilizada para a região acima das diagonais, que possuem as escolares *atrasdas* para a sua série/ano. Sendo assim, claramente é verificado que para escolas públicas, há um maior número de 'repetentes'.\r\n",
        "\r\n",
        "Tais fatos indicam algo que já é sabido: geralmente, há uma diferença na qualidade do ensino em escolares particulares e em escolas públicas. Aí podemos levantar diversos fatores como possíveis causas para essa diferença como: falta de investimento do governo na educação pública, seja na infraestrutura, remuneração de professores e etc, e desigualdade social vivenciada pelos alunos de baixa renda."
      ]
    },
    {
      "cell_type": "markdown",
      "metadata": {
        "id": "DJGiT0J826hI"
      },
      "source": [
        "## Cigarro, Álcool e Drogas"
      ]
    },
    {
      "cell_type": "code",
      "metadata": {
        "colab": {
          "base_uri": "https://localhost:8080/",
          "height": 425
        },
        "id": "QF1Z8liUyYU-",
        "outputId": "95a0a6f7-22db-4bf6-b49d-b30ef6133323"
      },
      "source": [
        "cols = ['idade_bebeu_primeira_vez',\r\n",
        "        'idade_fumou_primeira_vez',\r\n",
        "        'idade_droga_primeira_vez']\r\n",
        "\r\n",
        "dados_filtrados = dados.copy()\r\n",
        "for col in cols:\r\n",
        "    cod_col = dicio_pense[col]['codigo']\r\n",
        "    dados_filtrados = dados_filtrados.query(f'{cod_col} != -1 & {cod_col} != 99 & {cod_col} != 1')\r\n",
        "    \r\n",
        "traduzir_coluna('idade_bebeu_primeira_vez', dados_filtrados)\r\n",
        "traduzir_coluna('idade_fumou_primeira_vez', dados_filtrados)\r\n",
        "traduzir_coluna('idade_droga_primeira_vez', dados_filtrados)\r\n",
        "\r\n",
        "mulheres = dados_filtrados.query('sexo == \"Feminino\"')\r\n",
        "       \r\n",
        "# Para mulheres\r\n",
        "df4 = pd.DataFrame([mulheres[c].value_counts() for c in cols]).T.copy()\r\n",
        "df4.columns = ['Álcool', 'Cigarro', 'Drogas']\r\n",
        "\r\n",
        "df4 = df4.reindex(['7 anos ou menos', '8 anos', '9 anos', '10 anos', '11 anos',\r\n",
        "             '12 anos', '13 anos', '14 anos', '15 anos', '16 anos',\r\n",
        "             '17 anos', '18 anos ou mais'])\r\n",
        "\r\n",
        "print('Idade que experimentou pela primeira vez')\r\n",
        "df4.style.set_table_attributes('class=\"dataframe\"')\\\r\n",
        "        .background_gradient(cmap='Oranges', axis=0)"
      ],
      "execution_count": 33,
      "outputs": [
        {
          "output_type": "stream",
          "text": [
            "Idade que experimentou pela primeira vez\n"
          ],
          "name": "stdout"
        },
        {
          "output_type": "execute_result",
          "data": {
            "text/html": [
              "<style  type=\"text/css\" >\n",
              "#T_183c9cc6_53b2_11eb_9e1d_0242ac1c0002row0_col0{\n",
              "            background-color:  #fee3c8;\n",
              "            color:  #000000;\n",
              "        }#T_183c9cc6_53b2_11eb_9e1d_0242ac1c0002row0_col1,#T_183c9cc6_53b2_11eb_9e1d_0242ac1c0002row10_col1{\n",
              "            background-color:  #feeddc;\n",
              "            color:  #000000;\n",
              "        }#T_183c9cc6_53b2_11eb_9e1d_0242ac1c0002row0_col2{\n",
              "            background-color:  #fff3e7;\n",
              "            color:  #000000;\n",
              "        }#T_183c9cc6_53b2_11eb_9e1d_0242ac1c0002row1_col0{\n",
              "            background-color:  #ffefdf;\n",
              "            color:  #000000;\n",
              "        }#T_183c9cc6_53b2_11eb_9e1d_0242ac1c0002row1_col1,#T_183c9cc6_53b2_11eb_9e1d_0242ac1c0002row1_col2,#T_183c9cc6_53b2_11eb_9e1d_0242ac1c0002row2_col2,#T_183c9cc6_53b2_11eb_9e1d_0242ac1c0002row10_col0,#T_183c9cc6_53b2_11eb_9e1d_0242ac1c0002row11_col0,#T_183c9cc6_53b2_11eb_9e1d_0242ac1c0002row11_col1{\n",
              "            background-color:  #fff5eb;\n",
              "            color:  #000000;\n",
              "        }#T_183c9cc6_53b2_11eb_9e1d_0242ac1c0002row2_col0{\n",
              "            background-color:  #feebd7;\n",
              "            color:  #000000;\n",
              "        }#T_183c9cc6_53b2_11eb_9e1d_0242ac1c0002row2_col1{\n",
              "            background-color:  #ffefe0;\n",
              "            color:  #000000;\n",
              "        }#T_183c9cc6_53b2_11eb_9e1d_0242ac1c0002row3_col0{\n",
              "            background-color:  #fdd2a6;\n",
              "            color:  #000000;\n",
              "        }#T_183c9cc6_53b2_11eb_9e1d_0242ac1c0002row3_col1{\n",
              "            background-color:  #fdd8b2;\n",
              "            color:  #000000;\n",
              "        }#T_183c9cc6_53b2_11eb_9e1d_0242ac1c0002row3_col2{\n",
              "            background-color:  #fff2e6;\n",
              "            color:  #000000;\n",
              "        }#T_183c9cc6_53b2_11eb_9e1d_0242ac1c0002row4_col0,#T_183c9cc6_53b2_11eb_9e1d_0242ac1c0002row10_col2{\n",
              "            background-color:  #fdd0a2;\n",
              "            color:  #000000;\n",
              "        }#T_183c9cc6_53b2_11eb_9e1d_0242ac1c0002row4_col1{\n",
              "            background-color:  #fee0c3;\n",
              "            color:  #000000;\n",
              "        }#T_183c9cc6_53b2_11eb_9e1d_0242ac1c0002row4_col2{\n",
              "            background-color:  #fee7d1;\n",
              "            color:  #000000;\n",
              "        }#T_183c9cc6_53b2_11eb_9e1d_0242ac1c0002row5_col0{\n",
              "            background-color:  #b83c02;\n",
              "            color:  #f1f1f1;\n",
              "        }#T_183c9cc6_53b2_11eb_9e1d_0242ac1c0002row5_col1{\n",
              "            background-color:  #ee6511;\n",
              "            color:  #000000;\n",
              "        }#T_183c9cc6_53b2_11eb_9e1d_0242ac1c0002row5_col2{\n",
              "            background-color:  #fd9446;\n",
              "            color:  #000000;\n",
              "        }#T_183c9cc6_53b2_11eb_9e1d_0242ac1c0002row6_col0,#T_183c9cc6_53b2_11eb_9e1d_0242ac1c0002row6_col1,#T_183c9cc6_53b2_11eb_9e1d_0242ac1c0002row8_col2{\n",
              "            background-color:  #7f2704;\n",
              "            color:  #f1f1f1;\n",
              "        }#T_183c9cc6_53b2_11eb_9e1d_0242ac1c0002row6_col2{\n",
              "            background-color:  #c14002;\n",
              "            color:  #f1f1f1;\n",
              "        }#T_183c9cc6_53b2_11eb_9e1d_0242ac1c0002row7_col0{\n",
              "            background-color:  #be3f02;\n",
              "            color:  #f1f1f1;\n",
              "        }#T_183c9cc6_53b2_11eb_9e1d_0242ac1c0002row7_col1{\n",
              "            background-color:  #8b2c04;\n",
              "            color:  #f1f1f1;\n",
              "        }#T_183c9cc6_53b2_11eb_9e1d_0242ac1c0002row7_col2{\n",
              "            background-color:  #b63c02;\n",
              "            color:  #f1f1f1;\n",
              "        }#T_183c9cc6_53b2_11eb_9e1d_0242ac1c0002row8_col0{\n",
              "            background-color:  #f36e19;\n",
              "            color:  #000000;\n",
              "        }#T_183c9cc6_53b2_11eb_9e1d_0242ac1c0002row8_col1{\n",
              "            background-color:  #8e2d04;\n",
              "            color:  #f1f1f1;\n",
              "        }#T_183c9cc6_53b2_11eb_9e1d_0242ac1c0002row9_col0{\n",
              "            background-color:  #fedebf;\n",
              "            color:  #000000;\n",
              "        }#T_183c9cc6_53b2_11eb_9e1d_0242ac1c0002row9_col1{\n",
              "            background-color:  #fda965;\n",
              "            color:  #000000;\n",
              "        }#T_183c9cc6_53b2_11eb_9e1d_0242ac1c0002row9_col2{\n",
              "            background-color:  #f26c16;\n",
              "            color:  #000000;\n",
              "        }#T_183c9cc6_53b2_11eb_9e1d_0242ac1c0002row11_col2{\n",
              "            background-color:  #feecda;\n",
              "            color:  #000000;\n",
              "        }</style><table id=\"T_183c9cc6_53b2_11eb_9e1d_0242ac1c0002\" class=\"dataframe\"><thead>    <tr>        <th class=\"blank level0\" ></th>        <th class=\"col_heading level0 col0\" >Álcool</th>        <th class=\"col_heading level0 col1\" >Cigarro</th>        <th class=\"col_heading level0 col2\" >Drogas</th>    </tr></thead><tbody>\n",
              "                <tr>\n",
              "                        <th id=\"T_183c9cc6_53b2_11eb_9e1d_0242ac1c0002level0_row0\" class=\"row_heading level0 row0\" >7 anos ou menos</th>\n",
              "                        <td id=\"T_183c9cc6_53b2_11eb_9e1d_0242ac1c0002row0_col0\" class=\"data row0 col0\" >20</td>\n",
              "                        <td id=\"T_183c9cc6_53b2_11eb_9e1d_0242ac1c0002row0_col1\" class=\"data row0 col1\" >12</td>\n",
              "                        <td id=\"T_183c9cc6_53b2_11eb_9e1d_0242ac1c0002row0_col2\" class=\"data row0 col2\" >3</td>\n",
              "            </tr>\n",
              "            <tr>\n",
              "                        <th id=\"T_183c9cc6_53b2_11eb_9e1d_0242ac1c0002level0_row1\" class=\"row_heading level0 row1\" >8 anos</th>\n",
              "                        <td id=\"T_183c9cc6_53b2_11eb_9e1d_0242ac1c0002row1_col0\" class=\"data row1 col0\" >10</td>\n",
              "                        <td id=\"T_183c9cc6_53b2_11eb_9e1d_0242ac1c0002row1_col1\" class=\"data row1 col1\" >5</td>\n",
              "                        <td id=\"T_183c9cc6_53b2_11eb_9e1d_0242ac1c0002row1_col2\" class=\"data row1 col2\" >1</td>\n",
              "            </tr>\n",
              "            <tr>\n",
              "                        <th id=\"T_183c9cc6_53b2_11eb_9e1d_0242ac1c0002level0_row2\" class=\"row_heading level0 row2\" >9 anos</th>\n",
              "                        <td id=\"T_183c9cc6_53b2_11eb_9e1d_0242ac1c0002row2_col0\" class=\"data row2 col0\" >14</td>\n",
              "                        <td id=\"T_183c9cc6_53b2_11eb_9e1d_0242ac1c0002row2_col1\" class=\"data row2 col1\" >10</td>\n",
              "                        <td id=\"T_183c9cc6_53b2_11eb_9e1d_0242ac1c0002row2_col2\" class=\"data row2 col2\" >1</td>\n",
              "            </tr>\n",
              "            <tr>\n",
              "                        <th id=\"T_183c9cc6_53b2_11eb_9e1d_0242ac1c0002level0_row3\" class=\"row_heading level0 row3\" >10 anos</th>\n",
              "                        <td id=\"T_183c9cc6_53b2_11eb_9e1d_0242ac1c0002row3_col0\" class=\"data row3 col0\" >31</td>\n",
              "                        <td id=\"T_183c9cc6_53b2_11eb_9e1d_0242ac1c0002row3_col1\" class=\"data row3 col1\" >26</td>\n",
              "                        <td id=\"T_183c9cc6_53b2_11eb_9e1d_0242ac1c0002row3_col2\" class=\"data row3 col2\" >4</td>\n",
              "            </tr>\n",
              "            <tr>\n",
              "                        <th id=\"T_183c9cc6_53b2_11eb_9e1d_0242ac1c0002level0_row4\" class=\"row_heading level0 row4\" >11 anos</th>\n",
              "                        <td id=\"T_183c9cc6_53b2_11eb_9e1d_0242ac1c0002row4_col0\" class=\"data row4 col0\" >32</td>\n",
              "                        <td id=\"T_183c9cc6_53b2_11eb_9e1d_0242ac1c0002row4_col1\" class=\"data row4 col1\" >21</td>\n",
              "                        <td id=\"T_183c9cc6_53b2_11eb_9e1d_0242ac1c0002row4_col2\" class=\"data row4 col2\" >15</td>\n",
              "            </tr>\n",
              "            <tr>\n",
              "                        <th id=\"T_183c9cc6_53b2_11eb_9e1d_0242ac1c0002level0_row5\" class=\"row_heading level0 row5\" >12 anos</th>\n",
              "                        <td id=\"T_183c9cc6_53b2_11eb_9e1d_0242ac1c0002row5_col0\" class=\"data row5 col0\" >97</td>\n",
              "                        <td id=\"T_183c9cc6_53b2_11eb_9e1d_0242ac1c0002row5_col1\" class=\"data row5 col1\" >70</td>\n",
              "                        <td id=\"T_183c9cc6_53b2_11eb_9e1d_0242ac1c0002row5_col2\" class=\"data row5 col2\" >58</td>\n",
              "            </tr>\n",
              "            <tr>\n",
              "                        <th id=\"T_183c9cc6_53b2_11eb_9e1d_0242ac1c0002level0_row6\" class=\"row_heading level0 row6\" >13 anos</th>\n",
              "                        <td id=\"T_183c9cc6_53b2_11eb_9e1d_0242ac1c0002row6_col0\" class=\"data row6 col0\" >116</td>\n",
              "                        <td id=\"T_183c9cc6_53b2_11eb_9e1d_0242ac1c0002row6_col1\" class=\"data row6 col1\" >107</td>\n",
              "                        <td id=\"T_183c9cc6_53b2_11eb_9e1d_0242ac1c0002row6_col2\" class=\"data row6 col2\" >98</td>\n",
              "            </tr>\n",
              "            <tr>\n",
              "                        <th id=\"T_183c9cc6_53b2_11eb_9e1d_0242ac1c0002level0_row7\" class=\"row_heading level0 row7\" >14 anos</th>\n",
              "                        <td id=\"T_183c9cc6_53b2_11eb_9e1d_0242ac1c0002row7_col0\" class=\"data row7 col0\" >95</td>\n",
              "                        <td id=\"T_183c9cc6_53b2_11eb_9e1d_0242ac1c0002row7_col1\" class=\"data row7 col1\" >103</td>\n",
              "                        <td id=\"T_183c9cc6_53b2_11eb_9e1d_0242ac1c0002row7_col2\" class=\"data row7 col2\" >101</td>\n",
              "            </tr>\n",
              "            <tr>\n",
              "                        <th id=\"T_183c9cc6_53b2_11eb_9e1d_0242ac1c0002level0_row8\" class=\"row_heading level0 row8\" >15 anos</th>\n",
              "                        <td id=\"T_183c9cc6_53b2_11eb_9e1d_0242ac1c0002row8_col0\" class=\"data row8 col0\" >72</td>\n",
              "                        <td id=\"T_183c9cc6_53b2_11eb_9e1d_0242ac1c0002row8_col1\" class=\"data row8 col1\" >102</td>\n",
              "                        <td id=\"T_183c9cc6_53b2_11eb_9e1d_0242ac1c0002row8_col2\" class=\"data row8 col2\" >121</td>\n",
              "            </tr>\n",
              "            <tr>\n",
              "                        <th id=\"T_183c9cc6_53b2_11eb_9e1d_0242ac1c0002level0_row9\" class=\"row_heading level0 row9\" >16 anos</th>\n",
              "                        <td id=\"T_183c9cc6_53b2_11eb_9e1d_0242ac1c0002row9_col0\" class=\"data row9 col0\" >23</td>\n",
              "                        <td id=\"T_183c9cc6_53b2_11eb_9e1d_0242ac1c0002row9_col1\" class=\"data row9 col1\" >45</td>\n",
              "                        <td id=\"T_183c9cc6_53b2_11eb_9e1d_0242ac1c0002row9_col2\" class=\"data row9 col2\" >75</td>\n",
              "            </tr>\n",
              "            <tr>\n",
              "                        <th id=\"T_183c9cc6_53b2_11eb_9e1d_0242ac1c0002level0_row10\" class=\"row_heading level0 row10\" >17 anos</th>\n",
              "                        <td id=\"T_183c9cc6_53b2_11eb_9e1d_0242ac1c0002row10_col0\" class=\"data row10 col0\" >4</td>\n",
              "                        <td id=\"T_183c9cc6_53b2_11eb_9e1d_0242ac1c0002row10_col1\" class=\"data row10 col1\" >12</td>\n",
              "                        <td id=\"T_183c9cc6_53b2_11eb_9e1d_0242ac1c0002row10_col2\" class=\"data row10 col2\" >31</td>\n",
              "            </tr>\n",
              "            <tr>\n",
              "                        <th id=\"T_183c9cc6_53b2_11eb_9e1d_0242ac1c0002level0_row11\" class=\"row_heading level0 row11\" >18 anos ou mais</th>\n",
              "                        <td id=\"T_183c9cc6_53b2_11eb_9e1d_0242ac1c0002row11_col0\" class=\"data row11 col0\" >4</td>\n",
              "                        <td id=\"T_183c9cc6_53b2_11eb_9e1d_0242ac1c0002row11_col1\" class=\"data row11 col1\" >5</td>\n",
              "                        <td id=\"T_183c9cc6_53b2_11eb_9e1d_0242ac1c0002row11_col2\" class=\"data row11 col2\" >10</td>\n",
              "            </tr>\n",
              "    </tbody></table>"
            ],
            "text/plain": [
              "<pandas.io.formats.style.Styler at 0x7f1ffd3ffe80>"
            ]
          },
          "metadata": {
            "tags": []
          },
          "execution_count": 33
        }
      ]
    },
    {
      "cell_type": "markdown",
      "metadata": {
        "id": "MxPi6RF3JqFF"
      },
      "source": [
        "Outro assunto importante a ser analisado são as idades que as adolescentes brasileiras experimentaram álcool, cigarro e droga. No mapa de calor acima, conseguimos observar que enquanto para **álcool** e o **cigarro** a maioria experimentou aos 13 anos, a maior parte teve sua primeira experiência com **drogas** aos 15 anos. Em qualquer um dos casos, essas idades evidenciam algo preocupante: as jovens começam a experimentar cigarro, álcool ou drogas muito cedo, o que, a posteri, pode levar a queda do rendimento escolar ou até a evasão escolar."
      ]
    },
    {
      "cell_type": "markdown",
      "metadata": {
        "id": "ZK0AnfZ5KiQb"
      },
      "source": [
        "## Saúde e Corpo"
      ]
    },
    {
      "cell_type": "markdown",
      "metadata": {
        "id": "y-8YpGsmKyv4"
      },
      "source": [
        "```\r\n",
        "satisfacao = VB11007\r\n",
        "como considera o próprio corpo = VB11001\r\n",
        "IMC\r\n",
        "cor/raça = VB01002\r\n",
        "\r\n",
        "```"
      ]
    },
    {
      "cell_type": "code",
      "metadata": {
        "colab": {
          "base_uri": "https://localhost:8080/",
          "height": 197
        },
        "id": "naL5tz6bO9-S",
        "outputId": "6d650792-e122-4b55-8796-a895487f1425"
      },
      "source": [
        "traduzir_coluna('satisfacao_corpo', dados)\r\n",
        "dados[['satisfacao_corpo', 'VB11007']].sample(5)"
      ],
      "execution_count": 34,
      "outputs": [
        {
          "output_type": "execute_result",
          "data": {
            "text/html": [
              "<div>\n",
              "<style scoped>\n",
              "    .dataframe tbody tr th:only-of-type {\n",
              "        vertical-align: middle;\n",
              "    }\n",
              "\n",
              "    .dataframe tbody tr th {\n",
              "        vertical-align: top;\n",
              "    }\n",
              "\n",
              "    .dataframe thead th {\n",
              "        text-align: right;\n",
              "    }\n",
              "</style>\n",
              "<table border=\"1\" class=\"dataframe\">\n",
              "  <thead>\n",
              "    <tr style=\"text-align: right;\">\n",
              "      <th></th>\n",
              "      <th>satisfacao_corpo</th>\n",
              "      <th>VB11007</th>\n",
              "    </tr>\n",
              "  </thead>\n",
              "  <tbody>\n",
              "    <tr>\n",
              "      <th>8387</th>\n",
              "      <td>Indiferente</td>\n",
              "      <td>3</td>\n",
              "    </tr>\n",
              "    <tr>\n",
              "      <th>15298</th>\n",
              "      <td>Não informado</td>\n",
              "      <td>99</td>\n",
              "    </tr>\n",
              "    <tr>\n",
              "      <th>16402</th>\n",
              "      <td>Insatisfeito(a)</td>\n",
              "      <td>4</td>\n",
              "    </tr>\n",
              "    <tr>\n",
              "      <th>15446</th>\n",
              "      <td>Satisfeito(a)</td>\n",
              "      <td>2</td>\n",
              "    </tr>\n",
              "    <tr>\n",
              "      <th>15193</th>\n",
              "      <td>Satisfeito(a)</td>\n",
              "      <td>2</td>\n",
              "    </tr>\n",
              "  </tbody>\n",
              "</table>\n",
              "</div>"
            ],
            "text/plain": [
              "      satisfacao_corpo  VB11007\n",
              "8387       Indiferente        3\n",
              "15298    Não informado       99\n",
              "16402  Insatisfeito(a)        4\n",
              "15446    Satisfeito(a)        2\n",
              "15193    Satisfeito(a)        2"
            ]
          },
          "metadata": {
            "tags": []
          },
          "execution_count": 34
        }
      ]
    },
    {
      "cell_type": "code",
      "metadata": {
        "id": "nUxSdlKKCirJ"
      },
      "source": [
        "df5 = dados.query('sexo == \"Feminino\" and satisfacao_corpo != \"Não informado\" '\\\r\n",
        "                       'and cor_raca != \"Não informado\"')"
      ],
      "execution_count": 35,
      "outputs": []
    },
    {
      "cell_type": "code",
      "metadata": {
        "colab": {
          "base_uri": "https://localhost:8080/",
          "height": 542
        },
        "id": "ahM1jK1PIXEl",
        "outputId": "523f27ed-3027-4d65-826b-2facd7c101d9"
      },
      "source": [
        "cores = ['darkorange', 'firebrick', 'purple', 'forestgreen', 'dodgerblue']\r\n",
        "\r\n",
        "# Gráfico\r\n",
        "fig = px.box(df5, x='satisfacao_corpo', y='IMC', color='cor_raca',\r\n",
        "             points='all', color_discrete_sequence=cores)\r\n",
        "\r\n",
        "### ACRESCENTANDO AS FAIXAS DE CLASSES DE IMC\r\n",
        "# Abaixo do Peso\r\n",
        "fig.add_hrect(y0=0, y1=18.5, line_width=0, fillcolor=\"lightsalmon\", opacity=0.3,\r\n",
        "                layer=\"below\")\r\n",
        "fig.add_annotation(x=-1, y=15.5, text=\"Abaixo do peso\", showarrow=False,\r\n",
        "                   yshift=10, font=dict(color='salmon'))\r\n",
        "# Normal\r\n",
        "fig.add_hrect(y0=18.5, y1=25, line_width=0, fillcolor=\"silver\", opacity=0.3,\r\n",
        "                layer=\"below\")\r\n",
        "fig.add_annotation(x=-1, y=22, text=\"Normal\", showarrow=False,\r\n",
        "                   yshift=10, font=dict(color='grey'))\r\n",
        "# Sobrepeso\r\n",
        "fig.add_hrect(y0=25, y1=30, line_width=0, fillcolor=\"bisque\", opacity=0.3,\r\n",
        "                layer=\"below\")\r\n",
        "fig.add_annotation(x=-1, y=27, text=\"Sobrepeso\", showarrow=False,\r\n",
        "                   yshift=10, font=dict(color='orange'))\r\n",
        "# Obesidade\r\n",
        "fig.add_hrect(y0=30, y1=60, line_width=0, fillcolor=\"lightcoral\", opacity=0.3,\r\n",
        "                layer=\"below\")\r\n",
        "fig.add_annotation(x=-1, y=57, text=\"Obesidade\", showarrow=False,\r\n",
        "                   yshift=10, font=dict(color='firebrick'))\r\n",
        "\r\n",
        "# Ajustes na imagem\r\n",
        "fig.update_layout(\r\n",
        "            title = 'PeNSE - Pesquisa Nacional de Saúde do Escolar: '\\\r\n",
        "                        '<b>IMC e Satisfação com o próprio corpo</b>',\r\n",
        "            title_font = dict(size=18),\r\n",
        "            template = 'plotly_white',     \r\n",
        "\r\n",
        "            yaxis_title_text = 'IMC',\r\n",
        "            legend = dict(title='', orientation=\"h\", y=0.999,\r\n",
        "                            yanchor=\"bottom\", xanchor=\"right\", x = 1),\r\n",
        "\r\n",
        "            xaxis_title_text = 'Nível de Satisfação',\r\n",
        "            xaxis_categoryorder = 'array',\r\n",
        "            xaxis_categoryarray =  ['Muito insatisfeito(a)', 'Insatisfeito(a)',\r\n",
        "                                    'Indiferente', 'Satisfeito(a)', 'Muito satisfeito(a)'],\r\n",
        ")\r\n",
        "\r\n",
        "fig.show()"
      ],
      "execution_count": 36,
      "outputs": [
        {
          "output_type": "display_data",
          "data": {
            "text/html": [
              "<html>\n",
              "<head><meta charset=\"utf-8\" /></head>\n",
              "<body>\n",
              "    <div>            <script src=\"https://cdnjs.cloudflare.com/ajax/libs/mathjax/2.7.5/MathJax.js?config=TeX-AMS-MML_SVG\"></script><script type=\"text/javascript\">if (window.MathJax) {MathJax.Hub.Config({SVG: {font: \"STIX-Web\"}});}</script>                <script type=\"text/javascript\">window.PlotlyConfig = {MathJaxConfig: 'local'};</script>\n",
              "        <script src=\"https://cdn.plot.ly/plotly-latest.min.js\"></script>                <div id=\"f8594299-3034-48d3-98b7-7ba469200757\" class=\"plotly-graph-div\" style=\"height:525px; width:100%;\"></div>            <script type=\"text/javascript\">                                    window.PLOTLYENV=window.PLOTLYENV || {};                                    if (document.getElementById(\"f8594299-3034-48d3-98b7-7ba469200757\")) {                    Plotly.newPlot(                        \"f8594299-3034-48d3-98b7-7ba469200757\",                        [{\"alignmentgroup\": \"True\", \"boxpoints\": \"all\", \"hovertemplate\": \"cor_raca=Branca<br>satisfacao_corpo=%{x}<br>IMC=%{y}<extra></extra>\", \"legendgroup\": \"Branca\", \"marker\": {\"color\": \"darkorange\"}, \"name\": \"Branca\", \"notched\": false, \"offsetgroup\": \"Branca\", \"orientation\": \"v\", \"showlegend\": true, \"type\": \"box\", \"x\": [\"Satisfeito(a)\", \"Satisfeito(a)\", \"Satisfeito(a)\", \"Satisfeito(a)\", \"Insatisfeito(a)\", \"Indiferente\", \"Indiferente\", \"Insatisfeito(a)\", \"Satisfeito(a)\", \"Satisfeito(a)\", \"Satisfeito(a)\", \"Satisfeito(a)\", \"Indiferente\", \"Insatisfeito(a)\", \"Insatisfeito(a)\", \"Insatisfeito(a)\", \"Insatisfeito(a)\", \"Satisfeito(a)\", \"Insatisfeito(a)\", \"Satisfeito(a)\", \"Insatisfeito(a)\", \"Insatisfeito(a)\", \"Satisfeito(a)\", \"Indiferente\", \"Satisfeito(a)\", \"Satisfeito(a)\", \"Muito insatisfeito(a)\", \"Satisfeito(a)\", \"Indiferente\", \"Indiferente\", \"Satisfeito(a)\", \"Muito insatisfeito(a)\", \"Satisfeito(a)\", \"Satisfeito(a)\", \"Satisfeito(a)\", \"Satisfeito(a)\", \"Insatisfeito(a)\", \"Insatisfeito(a)\", \"Indiferente\", \"Satisfeito(a)\", \"Satisfeito(a)\", \"Insatisfeito(a)\", \"Satisfeito(a)\", \"Insatisfeito(a)\", \"Muito insatisfeito(a)\", \"Insatisfeito(a)\", \"Satisfeito(a)\", \"Insatisfeito(a)\", \"Insatisfeito(a)\", \"Satisfeito(a)\", \"Satisfeito(a)\", \"Muito satisfeito(a)\", \"Muito satisfeito(a)\", \"Muito satisfeito(a)\", \"Satisfeito(a)\", \"Muito satisfeito(a)\", \"Satisfeito(a)\", \"Satisfeito(a)\", \"Satisfeito(a)\", \"Indiferente\", \"Satisfeito(a)\", \"Satisfeito(a)\", \"Satisfeito(a)\", \"Satisfeito(a)\", \"Insatisfeito(a)\", \"Muito satisfeito(a)\", \"Satisfeito(a)\", \"Indiferente\", \"Muito satisfeito(a)\", \"Satisfeito(a)\", \"Muito insatisfeito(a)\", \"Satisfeito(a)\", \"Indiferente\", \"Satisfeito(a)\", \"Muito satisfeito(a)\", \"Insatisfeito(a)\", \"Insatisfeito(a)\", \"Satisfeito(a)\", \"Insatisfeito(a)\", \"Muito satisfeito(a)\", \"Indiferente\", \"Muito satisfeito(a)\", \"Muito satisfeito(a)\", \"Muito insatisfeito(a)\", \"Satisfeito(a)\", \"Insatisfeito(a)\", \"Insatisfeito(a)\", \"Insatisfeito(a)\", \"Insatisfeito(a)\", \"Satisfeito(a)\", \"Insatisfeito(a)\", \"Muito satisfeito(a)\", \"Satisfeito(a)\", \"Satisfeito(a)\", \"Muito satisfeito(a)\", \"Insatisfeito(a)\", \"Satisfeito(a)\", \"Muito satisfeito(a)\", \"Muito satisfeito(a)\", \"Muito satisfeito(a)\", \"Muito satisfeito(a)\", \"Satisfeito(a)\", \"Muito satisfeito(a)\", \"Muito satisfeito(a)\", \"Insatisfeito(a)\", \"Muito satisfeito(a)\", \"Satisfeito(a)\", \"Muito satisfeito(a)\", \"Satisfeito(a)\", \"Muito satisfeito(a)\", \"Muito satisfeito(a)\", \"Satisfeito(a)\", \"Satisfeito(a)\", \"Satisfeito(a)\", \"Muito satisfeito(a)\", \"Satisfeito(a)\", \"Muito satisfeito(a)\", \"Muito satisfeito(a)\", \"Satisfeito(a)\", \"Muito satisfeito(a)\", \"Insatisfeito(a)\", \"Muito insatisfeito(a)\", \"Muito satisfeito(a)\", \"Muito satisfeito(a)\", \"Satisfeito(a)\", \"Satisfeito(a)\", \"Insatisfeito(a)\", \"Insatisfeito(a)\", \"Muito insatisfeito(a)\", \"Satisfeito(a)\", \"Indiferente\", \"Satisfeito(a)\", \"Satisfeito(a)\", \"Muito satisfeito(a)\", \"Satisfeito(a)\", \"Insatisfeito(a)\", \"Muito satisfeito(a)\", \"Satisfeito(a)\", \"Satisfeito(a)\", \"Satisfeito(a)\", \"Satisfeito(a)\", \"Indiferente\", \"Muito insatisfeito(a)\", \"Muito satisfeito(a)\", \"Satisfeito(a)\", \"Muito insatisfeito(a)\", \"Insatisfeito(a)\", \"Satisfeito(a)\", \"Muito satisfeito(a)\", \"Muito insatisfeito(a)\", \"Satisfeito(a)\", \"Satisfeito(a)\", \"Indiferente\", \"Muito satisfeito(a)\", \"Satisfeito(a)\", \"Satisfeito(a)\", \"Muito satisfeito(a)\", \"Indiferente\", \"Satisfeito(a)\", \"Insatisfeito(a)\", \"Satisfeito(a)\", \"Muito satisfeito(a)\", \"Satisfeito(a)\", \"Muito satisfeito(a)\", \"Muito satisfeito(a)\", \"Muito satisfeito(a)\", \"Satisfeito(a)\", \"Satisfeito(a)\", \"Indiferente\", \"Muito satisfeito(a)\", \"Satisfeito(a)\", \"Satisfeito(a)\", \"Indiferente\", \"Satisfeito(a)\", \"Satisfeito(a)\", \"Indiferente\", \"Indiferente\", \"Indiferente\", \"Satisfeito(a)\", \"Insatisfeito(a)\", \"Insatisfeito(a)\", \"Insatisfeito(a)\", \"Muito satisfeito(a)\", \"Muito satisfeito(a)\", \"Muito satisfeito(a)\", \"Satisfeito(a)\", \"Satisfeito(a)\", \"Indiferente\", \"Satisfeito(a)\", \"Muito satisfeito(a)\", \"Muito satisfeito(a)\", \"Satisfeito(a)\", \"Muito insatisfeito(a)\", \"Muito satisfeito(a)\", \"Muito satisfeito(a)\", \"Muito satisfeito(a)\", \"Indiferente\", \"Muito satisfeito(a)\", \"Muito satisfeito(a)\", \"Indiferente\", \"Insatisfeito(a)\", \"Satisfeito(a)\", \"Satisfeito(a)\", \"Insatisfeito(a)\", \"Satisfeito(a)\", \"Satisfeito(a)\", \"Satisfeito(a)\", \"Indiferente\", \"Muito satisfeito(a)\", \"Satisfeito(a)\", \"Satisfeito(a)\", \"Satisfeito(a)\", \"Satisfeito(a)\", \"Muito satisfeito(a)\", \"Insatisfeito(a)\", \"Satisfeito(a)\", \"Satisfeito(a)\", \"Muito insatisfeito(a)\", \"Satisfeito(a)\", \"Muito insatisfeito(a)\", \"Satisfeito(a)\", \"Satisfeito(a)\", \"Insatisfeito(a)\", \"Satisfeito(a)\", \"Satisfeito(a)\", \"Indiferente\", \"Satisfeito(a)\", \"Indiferente\", \"Insatisfeito(a)\", \"Insatisfeito(a)\", \"Insatisfeito(a)\", \"Insatisfeito(a)\", \"Satisfeito(a)\", \"Satisfeito(a)\", \"Insatisfeito(a)\", \"Muito satisfeito(a)\", \"Insatisfeito(a)\", \"Satisfeito(a)\", \"Insatisfeito(a)\", \"Muito satisfeito(a)\", \"Satisfeito(a)\", \"Indiferente\", \"Insatisfeito(a)\", \"Satisfeito(a)\", \"Muito satisfeito(a)\", \"Insatisfeito(a)\", \"Satisfeito(a)\", \"Satisfeito(a)\", \"Satisfeito(a)\", \"Satisfeito(a)\", \"Satisfeito(a)\", \"Satisfeito(a)\", \"Muito satisfeito(a)\", \"Muito satisfeito(a)\", \"Muito insatisfeito(a)\", \"Muito satisfeito(a)\", \"Muito satisfeito(a)\", \"Muito satisfeito(a)\", \"Muito satisfeito(a)\", \"Muito satisfeito(a)\", \"Indiferente\", \"Muito satisfeito(a)\", \"Muito satisfeito(a)\", \"Indiferente\", \"Insatisfeito(a)\", \"Indiferente\", \"Insatisfeito(a)\", \"Muito insatisfeito(a)\", \"Satisfeito(a)\", \"Muito satisfeito(a)\", \"Insatisfeito(a)\", \"Muito satisfeito(a)\", \"Muito satisfeito(a)\", \"Muito insatisfeito(a)\", \"Muito satisfeito(a)\", \"Satisfeito(a)\", \"Satisfeito(a)\", \"Insatisfeito(a)\", \"Insatisfeito(a)\", \"Muito satisfeito(a)\", \"Satisfeito(a)\", \"Muito satisfeito(a)\", \"Insatisfeito(a)\", \"Indiferente\", \"Insatisfeito(a)\", \"Muito satisfeito(a)\", \"Satisfeito(a)\", \"Satisfeito(a)\", \"Indiferente\", \"Satisfeito(a)\", \"Muito satisfeito(a)\", \"Satisfeito(a)\", \"Satisfeito(a)\", \"Indiferente\", \"Muito insatisfeito(a)\", \"Insatisfeito(a)\", \"Muito satisfeito(a)\", \"Insatisfeito(a)\", \"Insatisfeito(a)\", \"Indiferente\", \"Muito satisfeito(a)\", \"Insatisfeito(a)\", \"Insatisfeito(a)\", \"Insatisfeito(a)\", \"Satisfeito(a)\", \"Indiferente\", \"Satisfeito(a)\", \"Indiferente\", \"Insatisfeito(a)\", \"Indiferente\", \"Muito satisfeito(a)\", \"Satisfeito(a)\", \"Muito insatisfeito(a)\", \"Muito satisfeito(a)\", \"Muito satisfeito(a)\", \"Indiferente\", \"Muito satisfeito(a)\", \"Insatisfeito(a)\", \"Satisfeito(a)\", \"Indiferente\", \"Insatisfeito(a)\", \"Satisfeito(a)\", \"Muito satisfeito(a)\", \"Muito satisfeito(a)\", \"Indiferente\", \"Satisfeito(a)\", \"Satisfeito(a)\", \"Muito satisfeito(a)\", \"Satisfeito(a)\", \"Muito satisfeito(a)\", \"Satisfeito(a)\", \"Satisfeito(a)\", \"Muito satisfeito(a)\", \"Indiferente\", \"Indiferente\", \"Indiferente\", \"Indiferente\", \"Muito satisfeito(a)\", \"Satisfeito(a)\", \"Insatisfeito(a)\", \"Satisfeito(a)\", \"Insatisfeito(a)\", \"Indiferente\", \"Muito satisfeito(a)\", \"Indiferente\", \"Satisfeito(a)\", \"Muito satisfeito(a)\", \"Satisfeito(a)\", \"Insatisfeito(a)\", \"Indiferente\", \"Satisfeito(a)\", \"Satisfeito(a)\", \"Satisfeito(a)\", \"Indiferente\", \"Indiferente\", \"Indiferente\", \"Muito satisfeito(a)\", \"Indiferente\", \"Muito satisfeito(a)\", \"Satisfeito(a)\", \"Satisfeito(a)\", \"Insatisfeito(a)\", \"Satisfeito(a)\", \"Indiferente\", \"Satisfeito(a)\", \"Satisfeito(a)\", \"Satisfeito(a)\", \"Satisfeito(a)\", \"Insatisfeito(a)\", \"Insatisfeito(a)\", \"Insatisfeito(a)\", \"Indiferente\", \"Satisfeito(a)\", \"Satisfeito(a)\", \"Satisfeito(a)\", \"Indiferente\", \"Satisfeito(a)\", \"Insatisfeito(a)\", \"Insatisfeito(a)\", \"Satisfeito(a)\", \"Indiferente\", \"Muito insatisfeito(a)\", \"Satisfeito(a)\", \"Muito insatisfeito(a)\", \"Muito insatisfeito(a)\", \"Satisfeito(a)\", \"Muito insatisfeito(a)\", \"Satisfeito(a)\", \"Insatisfeito(a)\", \"Indiferente\", \"Indiferente\", \"Satisfeito(a)\", \"Insatisfeito(a)\", \"Insatisfeito(a)\", \"Indiferente\", \"Insatisfeito(a)\", \"Insatisfeito(a)\", \"Satisfeito(a)\", \"Indiferente\", \"Muito satisfeito(a)\", \"Satisfeito(a)\", \"Satisfeito(a)\", \"Muito satisfeito(a)\", \"Muito satisfeito(a)\", \"Satisfeito(a)\", \"Satisfeito(a)\", \"Insatisfeito(a)\", \"Muito satisfeito(a)\", \"Satisfeito(a)\", \"Satisfeito(a)\", \"Indiferente\", \"Satisfeito(a)\", \"Muito satisfeito(a)\", \"Satisfeito(a)\", \"Muito satisfeito(a)\", \"Satisfeito(a)\", \"Muito satisfeito(a)\", \"Muito satisfeito(a)\", \"Satisfeito(a)\", \"Insatisfeito(a)\", \"Insatisfeito(a)\", \"Muito insatisfeito(a)\", \"Satisfeito(a)\", \"Indiferente\", \"Satisfeito(a)\", \"Satisfeito(a)\", \"Muito satisfeito(a)\", \"Muito insatisfeito(a)\", \"Muito satisfeito(a)\", \"Muito satisfeito(a)\", \"Satisfeito(a)\", \"Satisfeito(a)\", \"Muito satisfeito(a)\", \"Insatisfeito(a)\", \"Muito satisfeito(a)\", \"Satisfeito(a)\", \"Satisfeito(a)\", \"Satisfeito(a)\", \"Muito satisfeito(a)\", \"Satisfeito(a)\", \"Muito satisfeito(a)\", \"Satisfeito(a)\", \"Indiferente\", \"Indiferente\", \"Satisfeito(a)\", \"Muito satisfeito(a)\", \"Muito satisfeito(a)\", \"Muito satisfeito(a)\", \"Satisfeito(a)\", \"Satisfeito(a)\", \"Satisfeito(a)\", \"Satisfeito(a)\", \"Satisfeito(a)\", \"Satisfeito(a)\", \"Indiferente\", \"Insatisfeito(a)\", \"Satisfeito(a)\", \"Insatisfeito(a)\", \"Muito satisfeito(a)\", \"Muito insatisfeito(a)\", \"Muito satisfeito(a)\", \"Muito satisfeito(a)\", \"Muito satisfeito(a)\", \"Muito satisfeito(a)\", \"Muito satisfeito(a)\", \"Satisfeito(a)\", \"Muito insatisfeito(a)\", \"Satisfeito(a)\", \"Muito satisfeito(a)\", \"Satisfeito(a)\", \"Satisfeito(a)\", \"Indiferente\", \"Indiferente\", \"Indiferente\", \"Muito insatisfeito(a)\", \"Satisfeito(a)\", \"Satisfeito(a)\", \"Satisfeito(a)\", \"Insatisfeito(a)\", \"Insatisfeito(a)\", \"Satisfeito(a)\", \"Muito satisfeito(a)\", \"Muito satisfeito(a)\", \"Muito satisfeito(a)\", \"Indiferente\", \"Muito satisfeito(a)\", \"Muito satisfeito(a)\", \"Muito satisfeito(a)\", \"Muito satisfeito(a)\", \"Muito satisfeito(a)\", \"Satisfeito(a)\", \"Muito satisfeito(a)\", \"Muito satisfeito(a)\", \"Satisfeito(a)\", \"Muito satisfeito(a)\", \"Muito satisfeito(a)\", \"Muito satisfeito(a)\", \"Insatisfeito(a)\", \"Satisfeito(a)\", \"Muito insatisfeito(a)\", \"Muito satisfeito(a)\", \"Indiferente\", \"Satisfeito(a)\", \"Satisfeito(a)\", \"Satisfeito(a)\", \"Satisfeito(a)\", \"Indiferente\", \"Insatisfeito(a)\", \"Muito insatisfeito(a)\", \"Satisfeito(a)\", \"Insatisfeito(a)\", \"Muito satisfeito(a)\", \"Muito insatisfeito(a)\", \"Indiferente\", \"Muito satisfeito(a)\", \"Satisfeito(a)\", \"Muito insatisfeito(a)\", \"Insatisfeito(a)\", \"Muito satisfeito(a)\", \"Satisfeito(a)\", \"Satisfeito(a)\", \"Satisfeito(a)\", \"Insatisfeito(a)\", \"Satisfeito(a)\", \"Satisfeito(a)\", \"Satisfeito(a)\", \"Insatisfeito(a)\", \"Satisfeito(a)\", \"Muito satisfeito(a)\", \"Satisfeito(a)\", \"Satisfeito(a)\", \"Satisfeito(a)\", \"Indiferente\", \"Insatisfeito(a)\", \"Satisfeito(a)\", \"Satisfeito(a)\", \"Satisfeito(a)\", \"Satisfeito(a)\", \"Satisfeito(a)\", \"Satisfeito(a)\", \"Insatisfeito(a)\", \"Indiferente\", \"Satisfeito(a)\", \"Muito insatisfeito(a)\", \"Satisfeito(a)\", \"Satisfeito(a)\", \"Satisfeito(a)\", \"Muito satisfeito(a)\", \"Satisfeito(a)\", \"Indiferente\", \"Muito satisfeito(a)\", \"Satisfeito(a)\", \"Muito satisfeito(a)\", \"Satisfeito(a)\", \"Muito satisfeito(a)\", \"Satisfeito(a)\", \"Muito insatisfeito(a)\", \"Muito insatisfeito(a)\", \"Insatisfeito(a)\", \"Indiferente\", \"Satisfeito(a)\", \"Satisfeito(a)\", \"Insatisfeito(a)\", \"Muito satisfeito(a)\", \"Insatisfeito(a)\", \"Indiferente\", \"Insatisfeito(a)\", \"Muito satisfeito(a)\", \"Muito satisfeito(a)\", \"Muito satisfeito(a)\", \"Satisfeito(a)\", \"Insatisfeito(a)\", \"Satisfeito(a)\", \"Satisfeito(a)\", \"Insatisfeito(a)\", \"Satisfeito(a)\", \"Satisfeito(a)\", \"Indiferente\", \"Satisfeito(a)\", \"Insatisfeito(a)\", \"Satisfeito(a)\", \"Insatisfeito(a)\", \"Insatisfeito(a)\", \"Indiferente\", \"Satisfeito(a)\", \"Insatisfeito(a)\", \"Insatisfeito(a)\", \"Insatisfeito(a)\", \"Indiferente\", \"Satisfeito(a)\", \"Satisfeito(a)\", \"Muito satisfeito(a)\", \"Muito satisfeito(a)\", \"Satisfeito(a)\", \"Satisfeito(a)\", \"Muito satisfeito(a)\", \"Muito satisfeito(a)\", \"Insatisfeito(a)\", \"Muito satisfeito(a)\", \"Muito satisfeito(a)\", \"Satisfeito(a)\", \"Muito satisfeito(a)\", \"Indiferente\", \"Satisfeito(a)\", \"Satisfeito(a)\", \"Satisfeito(a)\", \"Muito satisfeito(a)\", \"Satisfeito(a)\", \"Insatisfeito(a)\", \"Muito satisfeito(a)\", \"Satisfeito(a)\", \"Muito satisfeito(a)\", \"Satisfeito(a)\", \"Muito satisfeito(a)\", \"Satisfeito(a)\", \"Satisfeito(a)\", \"Satisfeito(a)\", \"Satisfeito(a)\", \"Indiferente\", \"Satisfeito(a)\", \"Satisfeito(a)\", \"Satisfeito(a)\", \"Muito satisfeito(a)\", \"Satisfeito(a)\", \"Satisfeito(a)\", \"Satisfeito(a)\", \"Satisfeito(a)\", \"Muito satisfeito(a)\", \"Muito satisfeito(a)\", \"Satisfeito(a)\", \"Satisfeito(a)\", \"Muito satisfeito(a)\", \"Muito insatisfeito(a)\", \"Satisfeito(a)\", \"Muito satisfeito(a)\", \"Muito satisfeito(a)\", \"Insatisfeito(a)\", \"Muito satisfeito(a)\", \"Muito satisfeito(a)\", \"Muito satisfeito(a)\", \"Muito satisfeito(a)\", \"Insatisfeito(a)\", \"Satisfeito(a)\", \"Muito satisfeito(a)\", \"Muito satisfeito(a)\", \"Satisfeito(a)\", \"Muito satisfeito(a)\", \"Muito satisfeito(a)\", \"Muito satisfeito(a)\", \"Insatisfeito(a)\", \"Satisfeito(a)\", \"Muito satisfeito(a)\", \"Satisfeito(a)\", \"Indiferente\", \"Satisfeito(a)\", \"Muito satisfeito(a)\", \"Muito satisfeito(a)\", \"Muito satisfeito(a)\", \"Satisfeito(a)\", \"Satisfeito(a)\", \"Satisfeito(a)\", \"Indiferente\", \"Muito satisfeito(a)\", \"Insatisfeito(a)\", \"Muito insatisfeito(a)\", \"Indiferente\", \"Satisfeito(a)\", \"Satisfeito(a)\", \"Satisfeito(a)\", \"Muito insatisfeito(a)\", \"Muito satisfeito(a)\", \"Satisfeito(a)\", \"Muito insatisfeito(a)\", \"Satisfeito(a)\", \"Muito satisfeito(a)\", \"Insatisfeito(a)\", \"Insatisfeito(a)\", \"Satisfeito(a)\", \"Satisfeito(a)\", \"Satisfeito(a)\", \"Insatisfeito(a)\", \"Satisfeito(a)\", \"Satisfeito(a)\", \"Satisfeito(a)\", \"Satisfeito(a)\", \"Satisfeito(a)\", \"Insatisfeito(a)\", \"Satisfeito(a)\", \"Muito insatisfeito(a)\", \"Satisfeito(a)\", \"Muito satisfeito(a)\", \"Indiferente\", \"Muito satisfeito(a)\", \"Insatisfeito(a)\", \"Satisfeito(a)\", \"Insatisfeito(a)\", \"Satisfeito(a)\", \"Satisfeito(a)\", \"Satisfeito(a)\", \"Satisfeito(a)\", \"Satisfeito(a)\", \"Satisfeito(a)\", \"Insatisfeito(a)\", \"Satisfeito(a)\", \"Insatisfeito(a)\", \"Satisfeito(a)\", \"Insatisfeito(a)\", \"Muito insatisfeito(a)\", \"Muito satisfeito(a)\", \"Indiferente\", \"Insatisfeito(a)\", \"Muito satisfeito(a)\", \"Insatisfeito(a)\", \"Satisfeito(a)\", \"Muito satisfeito(a)\", \"Muito satisfeito(a)\", \"Satisfeito(a)\", \"Satisfeito(a)\", \"Satisfeito(a)\", \"Insatisfeito(a)\", \"Indiferente\", \"Satisfeito(a)\", \"Insatisfeito(a)\", \"Insatisfeito(a)\", \"Muito insatisfeito(a)\", \"Muito insatisfeito(a)\", \"Muito satisfeito(a)\", \"Insatisfeito(a)\", \"Insatisfeito(a)\", \"Satisfeito(a)\", \"Insatisfeito(a)\", \"Muito insatisfeito(a)\", \"Indiferente\", \"Indiferente\", \"Indiferente\", \"Satisfeito(a)\", \"Muito satisfeito(a)\", \"Insatisfeito(a)\", \"Satisfeito(a)\", \"Satisfeito(a)\", \"Indiferente\", \"Muito satisfeito(a)\", \"Insatisfeito(a)\", \"Muito satisfeito(a)\", \"Satisfeito(a)\", \"Muito satisfeito(a)\", \"Satisfeito(a)\", \"Satisfeito(a)\", \"Insatisfeito(a)\", \"Satisfeito(a)\", \"Indiferente\", \"Satisfeito(a)\", \"Muito satisfeito(a)\", \"Muito satisfeito(a)\", \"Muito satisfeito(a)\", \"Satisfeito(a)\", \"Muito satisfeito(a)\", \"Satisfeito(a)\", \"Insatisfeito(a)\", \"Satisfeito(a)\", \"Satisfeito(a)\", \"Satisfeito(a)\", \"Indiferente\", \"Muito insatisfeito(a)\", \"Satisfeito(a)\", \"Satisfeito(a)\", \"Muito satisfeito(a)\", \"Satisfeito(a)\", \"Satisfeito(a)\", \"Insatisfeito(a)\", \"Satisfeito(a)\", \"Insatisfeito(a)\", \"Insatisfeito(a)\", \"Insatisfeito(a)\", \"Insatisfeito(a)\", \"Satisfeito(a)\", \"Insatisfeito(a)\", \"Satisfeito(a)\", \"Satisfeito(a)\", \"Satisfeito(a)\", \"Indiferente\", \"Muito insatisfeito(a)\", \"Satisfeito(a)\", \"Muito insatisfeito(a)\", \"Muito insatisfeito(a)\", \"Muito satisfeito(a)\", \"Insatisfeito(a)\", \"Muito satisfeito(a)\", \"Indiferente\", \"Satisfeito(a)\", \"Insatisfeito(a)\", \"Insatisfeito(a)\", \"Satisfeito(a)\", \"Muito satisfeito(a)\", \"Satisfeito(a)\", \"Satisfeito(a)\", \"Satisfeito(a)\", \"Satisfeito(a)\", \"Muito insatisfeito(a)\", \"Muito satisfeito(a)\", \"Satisfeito(a)\", \"Muito satisfeito(a)\", \"Muito satisfeito(a)\", \"Satisfeito(a)\", \"Satisfeito(a)\", \"Muito satisfeito(a)\", \"Muito satisfeito(a)\", \"Insatisfeito(a)\", \"Insatisfeito(a)\", \"Muito satisfeito(a)\", \"Indiferente\", \"Satisfeito(a)\", \"Muito satisfeito(a)\", \"Satisfeito(a)\", \"Satisfeito(a)\", \"Satisfeito(a)\", \"Insatisfeito(a)\", \"Satisfeito(a)\", \"Muito satisfeito(a)\", \"Muito satisfeito(a)\", \"Insatisfeito(a)\", \"Insatisfeito(a)\", \"Muito satisfeito(a)\", \"Muito satisfeito(a)\", \"Indiferente\", \"Insatisfeito(a)\", \"Insatisfeito(a)\", \"Satisfeito(a)\", \"Satisfeito(a)\", \"Muito satisfeito(a)\", \"Satisfeito(a)\", \"Muito satisfeito(a)\", \"Muito satisfeito(a)\", \"Muito insatisfeito(a)\", \"Satisfeito(a)\", \"Satisfeito(a)\", \"Muito satisfeito(a)\", \"Indiferente\", \"Satisfeito(a)\", \"Satisfeito(a)\", \"Muito insatisfeito(a)\", \"Muito satisfeito(a)\", \"Muito satisfeito(a)\", \"Muito satisfeito(a)\", \"Insatisfeito(a)\", \"Satisfeito(a)\", \"Satisfeito(a)\", \"Satisfeito(a)\", \"Satisfeito(a)\", \"Satisfeito(a)\", \"Insatisfeito(a)\", \"Insatisfeito(a)\", \"Muito insatisfeito(a)\", \"Satisfeito(a)\", \"Insatisfeito(a)\", \"Satisfeito(a)\", \"Satisfeito(a)\", \"Satisfeito(a)\", \"Satisfeito(a)\", \"Insatisfeito(a)\", \"Satisfeito(a)\", \"Insatisfeito(a)\", \"Muito satisfeito(a)\", \"Satisfeito(a)\", \"Satisfeito(a)\", \"Insatisfeito(a)\", \"Satisfeito(a)\", \"Insatisfeito(a)\", \"Muito insatisfeito(a)\", \"Muito satisfeito(a)\", \"Satisfeito(a)\", \"Muito satisfeito(a)\", \"Muito satisfeito(a)\", \"Insatisfeito(a)\", \"Indiferente\", \"Satisfeito(a)\", \"Indiferente\", \"Insatisfeito(a)\", \"Indiferente\", \"Muito satisfeito(a)\", \"Insatisfeito(a)\", \"Insatisfeito(a)\", \"Satisfeito(a)\", \"Insatisfeito(a)\", \"Insatisfeito(a)\", \"Satisfeito(a)\", \"Satisfeito(a)\", \"Satisfeito(a)\", \"Satisfeito(a)\", \"Satisfeito(a)\", \"Satisfeito(a)\", \"Muito satisfeito(a)\", \"Satisfeito(a)\", \"Satisfeito(a)\", \"Satisfeito(a)\", \"Satisfeito(a)\", \"Muito satisfeito(a)\", \"Indiferente\", \"Satisfeito(a)\", \"Insatisfeito(a)\", \"Insatisfeito(a)\", \"Satisfeito(a)\", \"Satisfeito(a)\", \"Satisfeito(a)\", \"Muito satisfeito(a)\", \"Insatisfeito(a)\", \"Satisfeito(a)\", \"Satisfeito(a)\", \"Satisfeito(a)\", \"Insatisfeito(a)\", \"Satisfeito(a)\", \"Satisfeito(a)\", \"Satisfeito(a)\", \"Satisfeito(a)\", \"Satisfeito(a)\", \"Satisfeito(a)\", \"Muito satisfeito(a)\", \"Satisfeito(a)\", \"Indiferente\", \"Satisfeito(a)\", \"Insatisfeito(a)\", \"Muito satisfeito(a)\", \"Muito satisfeito(a)\", \"Insatisfeito(a)\", \"Muito satisfeito(a)\", \"Satisfeito(a)\", \"Satisfeito(a)\", \"Satisfeito(a)\", \"Satisfeito(a)\", \"Muito insatisfeito(a)\", \"Satisfeito(a)\", \"Satisfeito(a)\", \"Indiferente\", \"Muito satisfeito(a)\", \"Insatisfeito(a)\", \"Satisfeito(a)\", \"Muito satisfeito(a)\", \"Satisfeito(a)\", \"Muito satisfeito(a)\", \"Satisfeito(a)\", \"Satisfeito(a)\", \"Muito satisfeito(a)\", \"Muito satisfeito(a)\", \"Satisfeito(a)\", \"Satisfeito(a)\", \"Muito satisfeito(a)\", \"Insatisfeito(a)\", \"Muito satisfeito(a)\", \"Insatisfeito(a)\", \"Insatisfeito(a)\", \"Indiferente\", \"Indiferente\", \"Satisfeito(a)\", \"Insatisfeito(a)\", \"Satisfeito(a)\", \"Muito insatisfeito(a)\", \"Satisfeito(a)\", \"Satisfeito(a)\", \"Satisfeito(a)\", \"Satisfeito(a)\", \"Insatisfeito(a)\", \"Satisfeito(a)\", \"Insatisfeito(a)\", \"Insatisfeito(a)\", \"Satisfeito(a)\", \"Insatisfeito(a)\", \"Satisfeito(a)\", \"Muito satisfeito(a)\", \"Satisfeito(a)\", \"Satisfeito(a)\", \"Muito satisfeito(a)\", \"Muito satisfeito(a)\", \"Indiferente\", \"Indiferente\", \"Satisfeito(a)\", \"Satisfeito(a)\", \"Satisfeito(a)\", \"Insatisfeito(a)\", \"Indiferente\", \"Insatisfeito(a)\", \"Satisfeito(a)\", \"Muito satisfeito(a)\", \"Insatisfeito(a)\", \"Satisfeito(a)\", \"Satisfeito(a)\", \"Satisfeito(a)\", \"Muito insatisfeito(a)\", \"Satisfeito(a)\", \"Satisfeito(a)\", \"Insatisfeito(a)\", \"Satisfeito(a)\", \"Muito satisfeito(a)\", \"Insatisfeito(a)\", \"Satisfeito(a)\", \"Indiferente\", \"Insatisfeito(a)\", \"Insatisfeito(a)\", \"Satisfeito(a)\", \"Muito satisfeito(a)\", \"Satisfeito(a)\", \"Satisfeito(a)\", \"Indiferente\", \"Satisfeito(a)\", \"Indiferente\", \"Indiferente\", \"Indiferente\", \"Satisfeito(a)\", \"Satisfeito(a)\", \"Satisfeito(a)\", \"Satisfeito(a)\", \"Satisfeito(a)\", \"Satisfeito(a)\", \"Muito satisfeito(a)\", \"Satisfeito(a)\", \"Satisfeito(a)\", \"Insatisfeito(a)\", \"Satisfeito(a)\", \"Muito satisfeito(a)\", \"Muito satisfeito(a)\", \"Satisfeito(a)\", \"Insatisfeito(a)\", \"Muito satisfeito(a)\", \"Muito satisfeito(a)\", \"Satisfeito(a)\", \"Muito satisfeito(a)\", \"Indiferente\", \"Indiferente\", \"Satisfeito(a)\", \"Satisfeito(a)\", \"Satisfeito(a)\", \"Insatisfeito(a)\", \"Insatisfeito(a)\", \"Satisfeito(a)\", \"Insatisfeito(a)\", \"Indiferente\", \"Satisfeito(a)\", \"Satisfeito(a)\", \"Indiferente\", \"Satisfeito(a)\", \"Indiferente\", \"Insatisfeito(a)\", \"Muito satisfeito(a)\", \"Satisfeito(a)\", \"Indiferente\", \"Insatisfeito(a)\", \"Satisfeito(a)\", \"Satisfeito(a)\", \"Satisfeito(a)\", \"Insatisfeito(a)\", \"Satisfeito(a)\", \"Insatisfeito(a)\", \"Satisfeito(a)\", \"Muito satisfeito(a)\", \"Indiferente\", \"Satisfeito(a)\", \"Satisfeito(a)\", \"Satisfeito(a)\", \"Satisfeito(a)\", \"Muito insatisfeito(a)\", \"Insatisfeito(a)\", \"Satisfeito(a)\", \"Satisfeito(a)\", \"Insatisfeito(a)\", \"Muito satisfeito(a)\", \"Insatisfeito(a)\", \"Muito satisfeito(a)\", \"Insatisfeito(a)\", \"Satisfeito(a)\", \"Insatisfeito(a)\", \"Muito satisfeito(a)\", \"Muito satisfeito(a)\", \"Satisfeito(a)\", \"Muito satisfeito(a)\", \"Indiferente\", \"Insatisfeito(a)\", \"Satisfeito(a)\", \"Muito satisfeito(a)\", \"Satisfeito(a)\", \"Satisfeito(a)\", \"Muito satisfeito(a)\", \"Satisfeito(a)\", \"Muito satisfeito(a)\", \"Satisfeito(a)\", \"Satisfeito(a)\", \"Muito satisfeito(a)\", \"Insatisfeito(a)\", \"Insatisfeito(a)\", \"Satisfeito(a)\", \"Satisfeito(a)\", \"Insatisfeito(a)\", \"Insatisfeito(a)\", \"Insatisfeito(a)\", \"Satisfeito(a)\", \"Satisfeito(a)\", \"Satisfeito(a)\", \"Insatisfeito(a)\", \"Muito satisfeito(a)\", \"Muito insatisfeito(a)\", \"Satisfeito(a)\", \"Muito satisfeito(a)\", \"Muito satisfeito(a)\", \"Muito satisfeito(a)\", \"Satisfeito(a)\", \"Muito satisfeito(a)\", \"Insatisfeito(a)\", \"Satisfeito(a)\", \"Insatisfeito(a)\", \"Satisfeito(a)\", \"Satisfeito(a)\", \"Satisfeito(a)\", \"Satisfeito(a)\", \"Muito satisfeito(a)\", \"Muito satisfeito(a)\", \"Muito satisfeito(a)\", \"Satisfeito(a)\", \"Muito satisfeito(a)\", \"Muito satisfeito(a)\", \"Indiferente\", \"Satisfeito(a)\", \"Insatisfeito(a)\", \"Satisfeito(a)\", \"Insatisfeito(a)\", \"Indiferente\", \"Satisfeito(a)\", \"Satisfeito(a)\", \"Insatisfeito(a)\", \"Satisfeito(a)\", \"Satisfeito(a)\", \"Satisfeito(a)\", \"Muito insatisfeito(a)\", \"Satisfeito(a)\", \"Satisfeito(a)\", \"Satisfeito(a)\", \"Indiferente\", \"Satisfeito(a)\", \"Indiferente\", \"Muito satisfeito(a)\", \"Insatisfeito(a)\", \"Muito satisfeito(a)\", \"Satisfeito(a)\", \"Satisfeito(a)\", \"Indiferente\", \"Satisfeito(a)\", \"Satisfeito(a)\", \"Muito insatisfeito(a)\", \"Satisfeito(a)\", \"Satisfeito(a)\", \"Muito satisfeito(a)\", \"Satisfeito(a)\", \"Satisfeito(a)\", \"Insatisfeito(a)\", \"Muito satisfeito(a)\", \"Satisfeito(a)\", \"Insatisfeito(a)\", \"Satisfeito(a)\", \"Insatisfeito(a)\", \"Insatisfeito(a)\", \"Satisfeito(a)\", \"Insatisfeito(a)\", \"Muito satisfeito(a)\", \"Muito satisfeito(a)\", \"Satisfeito(a)\", \"Satisfeito(a)\", \"Satisfeito(a)\", \"Muito satisfeito(a)\", \"Insatisfeito(a)\", \"Muito satisfeito(a)\", \"Indiferente\", \"Muito satisfeito(a)\", \"Muito satisfeito(a)\", \"Muito satisfeito(a)\", \"Indiferente\", \"Muito satisfeito(a)\", \"Indiferente\", \"Insatisfeito(a)\", \"Satisfeito(a)\", \"Insatisfeito(a)\", \"Insatisfeito(a)\", \"Insatisfeito(a)\", \"Insatisfeito(a)\", \"Satisfeito(a)\", \"Satisfeito(a)\", \"Insatisfeito(a)\", \"Satisfeito(a)\", \"Insatisfeito(a)\", \"Satisfeito(a)\", \"Insatisfeito(a)\", \"Muito satisfeito(a)\", \"Satisfeito(a)\", \"Insatisfeito(a)\", \"Muito satisfeito(a)\", \"Indiferente\", \"Satisfeito(a)\", \"Satisfeito(a)\", \"Satisfeito(a)\", \"Satisfeito(a)\", \"Muito satisfeito(a)\", \"Satisfeito(a)\", \"Indiferente\", \"Satisfeito(a)\", \"Satisfeito(a)\", \"Satisfeito(a)\", \"Muito insatisfeito(a)\", \"Satisfeito(a)\", \"Muito satisfeito(a)\", \"Satisfeito(a)\", \"Satisfeito(a)\", \"Satisfeito(a)\", \"Muito satisfeito(a)\", \"Indiferente\", \"Insatisfeito(a)\", \"Insatisfeito(a)\", \"Muito satisfeito(a)\", \"Satisfeito(a)\", \"Satisfeito(a)\", \"Muito satisfeito(a)\", \"Satisfeito(a)\", \"Satisfeito(a)\", \"Satisfeito(a)\", \"Satisfeito(a)\", \"Insatisfeito(a)\", \"Satisfeito(a)\", \"Muito satisfeito(a)\", \"Insatisfeito(a)\", \"Insatisfeito(a)\", \"Satisfeito(a)\", \"Satisfeito(a)\", \"Indiferente\", \"Insatisfeito(a)\", \"Satisfeito(a)\", \"Insatisfeito(a)\", \"Insatisfeito(a)\", \"Satisfeito(a)\", \"Insatisfeito(a)\", \"Satisfeito(a)\", \"Muito insatisfeito(a)\", \"Satisfeito(a)\", \"Insatisfeito(a)\", \"Muito insatisfeito(a)\", \"Muito insatisfeito(a)\", \"Insatisfeito(a)\", \"Insatisfeito(a)\", \"Satisfeito(a)\", \"Satisfeito(a)\", \"Muito satisfeito(a)\", \"Satisfeito(a)\", \"Muito satisfeito(a)\", \"Satisfeito(a)\", \"Satisfeito(a)\", \"Muito satisfeito(a)\", \"Indiferente\", \"Satisfeito(a)\", \"Insatisfeito(a)\", \"Satisfeito(a)\", \"Satisfeito(a)\", \"Satisfeito(a)\", \"Muito satisfeito(a)\", \"Satisfeito(a)\", \"Indiferente\", \"Insatisfeito(a)\", \"Satisfeito(a)\", \"Satisfeito(a)\", \"Muito insatisfeito(a)\", \"Satisfeito(a)\", \"Indiferente\", \"Insatisfeito(a)\", \"Satisfeito(a)\", \"Muito satisfeito(a)\", \"Indiferente\", \"Indiferente\", \"Satisfeito(a)\", \"Indiferente\", \"Insatisfeito(a)\", \"Muito satisfeito(a)\", \"Insatisfeito(a)\", \"Indiferente\", \"Insatisfeito(a)\", \"Indiferente\", \"Satisfeito(a)\", \"Insatisfeito(a)\", \"Indiferente\", \"Satisfeito(a)\", \"Satisfeito(a)\", \"Satisfeito(a)\", \"Satisfeito(a)\", \"Insatisfeito(a)\", \"Indiferente\", \"Muito satisfeito(a)\", \"Satisfeito(a)\", \"Satisfeito(a)\", \"Insatisfeito(a)\", \"Indiferente\", \"Insatisfeito(a)\", \"Muito satisfeito(a)\", \"Satisfeito(a)\", \"Insatisfeito(a)\", \"Insatisfeito(a)\", \"Satisfeito(a)\", \"Satisfeito(a)\", \"Insatisfeito(a)\", \"Satisfeito(a)\", \"Insatisfeito(a)\", \"Indiferente\", \"Insatisfeito(a)\", \"Satisfeito(a)\", \"Satisfeito(a)\", \"Satisfeito(a)\", \"Satisfeito(a)\", \"Muito satisfeito(a)\", \"Satisfeito(a)\", \"Satisfeito(a)\", \"Muito satisfeito(a)\", \"Satisfeito(a)\", \"Muito satisfeito(a)\", \"Satisfeito(a)\", \"Insatisfeito(a)\", \"Insatisfeito(a)\", \"Satisfeito(a)\", \"Satisfeito(a)\", \"Insatisfeito(a)\", \"Muito insatisfeito(a)\", \"Satisfeito(a)\", \"Insatisfeito(a)\", \"Muito insatisfeito(a)\", \"Satisfeito(a)\", \"Satisfeito(a)\", \"Satisfeito(a)\", \"Muito satisfeito(a)\", \"Satisfeito(a)\", \"Satisfeito(a)\", \"Insatisfeito(a)\", \"Indiferente\", \"Insatisfeito(a)\", \"Muito insatisfeito(a)\", \"Satisfeito(a)\", \"Muito satisfeito(a)\", \"Satisfeito(a)\", \"Insatisfeito(a)\", \"Satisfeito(a)\", \"Indiferente\", \"Muito satisfeito(a)\", \"Muito satisfeito(a)\", \"Satisfeito(a)\", \"Satisfeito(a)\", \"Insatisfeito(a)\", \"Satisfeito(a)\", \"Satisfeito(a)\", \"Satisfeito(a)\", \"Satisfeito(a)\", \"Satisfeito(a)\", \"Insatisfeito(a)\", \"Insatisfeito(a)\", \"Muito satisfeito(a)\", \"Satisfeito(a)\", \"Satisfeito(a)\", \"Muito insatisfeito(a)\", \"Muito satisfeito(a)\", \"Muito satisfeito(a)\", \"Indiferente\", \"Indiferente\", \"Satisfeito(a)\", \"Satisfeito(a)\", \"Satisfeito(a)\", \"Muito satisfeito(a)\", \"Muito satisfeito(a)\", \"Satisfeito(a)\", \"Satisfeito(a)\", \"Muito satisfeito(a)\", \"Muito satisfeito(a)\", \"Insatisfeito(a)\", \"Muito satisfeito(a)\", \"Insatisfeito(a)\", \"Satisfeito(a)\", \"Muito satisfeito(a)\", \"Satisfeito(a)\", \"Insatisfeito(a)\", \"Satisfeito(a)\", \"Insatisfeito(a)\", \"Insatisfeito(a)\", \"Muito insatisfeito(a)\", \"Indiferente\", \"Satisfeito(a)\", \"Insatisfeito(a)\", \"Insatisfeito(a)\", \"Indiferente\", \"Indiferente\", \"Satisfeito(a)\", \"Satisfeito(a)\", \"Satisfeito(a)\", \"Satisfeito(a)\", \"Satisfeito(a)\", \"Indiferente\", \"Indiferente\", \"Satisfeito(a)\", \"Satisfeito(a)\", \"Muito satisfeito(a)\", \"Satisfeito(a)\", \"Satisfeito(a)\", \"Muito satisfeito(a)\", \"Muito satisfeito(a)\", \"Insatisfeito(a)\", \"Muito satisfeito(a)\", \"Satisfeito(a)\", \"Satisfeito(a)\", \"Indiferente\", \"Indiferente\", \"Insatisfeito(a)\", \"Satisfeito(a)\", \"Insatisfeito(a)\", \"Satisfeito(a)\", \"Muito insatisfeito(a)\", \"Indiferente\", \"Muito satisfeito(a)\", \"Satisfeito(a)\", \"Insatisfeito(a)\", \"Indiferente\", \"Insatisfeito(a)\", \"Muito satisfeito(a)\", \"Muito satisfeito(a)\", \"Muito insatisfeito(a)\", \"Muito satisfeito(a)\", \"Muito satisfeito(a)\", \"Muito satisfeito(a)\", \"Muito satisfeito(a)\", \"Satisfeito(a)\", \"Insatisfeito(a)\", \"Satisfeito(a)\", \"Satisfeito(a)\", \"Satisfeito(a)\", \"Indiferente\", \"Insatisfeito(a)\", \"Satisfeito(a)\", \"Insatisfeito(a)\", \"Insatisfeito(a)\", \"Satisfeito(a)\", \"Muito insatisfeito(a)\", \"Satisfeito(a)\", \"Insatisfeito(a)\", \"Satisfeito(a)\", \"Insatisfeito(a)\", \"Insatisfeito(a)\", \"Satisfeito(a)\", \"Insatisfeito(a)\", \"Muito insatisfeito(a)\", \"Satisfeito(a)\", \"Satisfeito(a)\", \"Muito insatisfeito(a)\", \"Indiferente\", \"Satisfeito(a)\", \"Satisfeito(a)\", \"Satisfeito(a)\", \"Insatisfeito(a)\", \"Indiferente\", \"Muito satisfeito(a)\", \"Insatisfeito(a)\", \"Muito satisfeito(a)\", \"Satisfeito(a)\", \"Satisfeito(a)\", \"Muito satisfeito(a)\", \"Muito satisfeito(a)\", \"Insatisfeito(a)\", \"Indiferente\", \"Satisfeito(a)\", \"Insatisfeito(a)\", \"Muito satisfeito(a)\", \"Muito satisfeito(a)\", \"Insatisfeito(a)\", \"Indiferente\", \"Satisfeito(a)\", \"Muito satisfeito(a)\", \"Indiferente\", \"Satisfeito(a)\", \"Insatisfeito(a)\", \"Indiferente\", \"Muito satisfeito(a)\", \"Satisfeito(a)\", \"Indiferente\", \"Satisfeito(a)\", \"Muito satisfeito(a)\", \"Insatisfeito(a)\", \"Indiferente\", \"Satisfeito(a)\", \"Satisfeito(a)\", \"Muito satisfeito(a)\", \"Insatisfeito(a)\", \"Satisfeito(a)\", \"Indiferente\", \"Satisfeito(a)\", \"Muito insatisfeito(a)\", \"Insatisfeito(a)\", \"Satisfeito(a)\", \"Satisfeito(a)\", \"Satisfeito(a)\", \"Indiferente\", \"Satisfeito(a)\", \"Muito satisfeito(a)\", \"Insatisfeito(a)\", \"Muito satisfeito(a)\", \"Muito satisfeito(a)\", \"Insatisfeito(a)\", \"Satisfeito(a)\", \"Muito satisfeito(a)\", \"Satisfeito(a)\", \"Insatisfeito(a)\", \"Muito satisfeito(a)\", \"Muito satisfeito(a)\", \"Muito satisfeito(a)\", \"Satisfeito(a)\", \"Insatisfeito(a)\", \"Muito satisfeito(a)\", \"Satisfeito(a)\", \"Satisfeito(a)\", \"Satisfeito(a)\", \"Satisfeito(a)\", \"Indiferente\", \"Muito satisfeito(a)\", \"Satisfeito(a)\", \"Muito satisfeito(a)\", \"Insatisfeito(a)\", \"Muito satisfeito(a)\", \"Muito satisfeito(a)\", \"Satisfeito(a)\", \"Muito satisfeito(a)\", \"Insatisfeito(a)\", \"Indiferente\", \"Muito insatisfeito(a)\", \"Indiferente\", \"Satisfeito(a)\", \"Insatisfeito(a)\", \"Satisfeito(a)\", \"Satisfeito(a)\", \"Satisfeito(a)\", \"Satisfeito(a)\", \"Muito satisfeito(a)\", \"Satisfeito(a)\", \"Satisfeito(a)\", \"Insatisfeito(a)\", \"Satisfeito(a)\", \"Insatisfeito(a)\", \"Satisfeito(a)\", \"Satisfeito(a)\", \"Satisfeito(a)\", \"Satisfeito(a)\", \"Satisfeito(a)\", \"Indiferente\", \"Insatisfeito(a)\", \"Satisfeito(a)\", \"Satisfeito(a)\", \"Insatisfeito(a)\", \"Muito satisfeito(a)\", \"Satisfeito(a)\", \"Satisfeito(a)\", \"Indiferente\", \"Insatisfeito(a)\", \"Indiferente\", \"Satisfeito(a)\", \"Satisfeito(a)\", \"Satisfeito(a)\", \"Insatisfeito(a)\", \"Insatisfeito(a)\", \"Insatisfeito(a)\", \"Insatisfeito(a)\", \"Muito insatisfeito(a)\", \"Muito satisfeito(a)\", \"Satisfeito(a)\", \"Muito satisfeito(a)\", \"Indiferente\", \"Satisfeito(a)\", \"Satisfeito(a)\", \"Insatisfeito(a)\", \"Insatisfeito(a)\", \"Insatisfeito(a)\", \"Satisfeito(a)\", \"Muito satisfeito(a)\", \"Indiferente\", \"Muito satisfeito(a)\", \"Satisfeito(a)\", \"Satisfeito(a)\", \"Satisfeito(a)\", \"Satisfeito(a)\", \"Satisfeito(a)\", \"Indiferente\", \"Satisfeito(a)\", \"Insatisfeito(a)\", \"Satisfeito(a)\", \"Satisfeito(a)\", \"Satisfeito(a)\", \"Satisfeito(a)\", \"Satisfeito(a)\", \"Satisfeito(a)\", \"Satisfeito(a)\", \"Satisfeito(a)\", \"Insatisfeito(a)\", \"Satisfeito(a)\", \"Muito insatisfeito(a)\", \"Indiferente\", \"Insatisfeito(a)\", \"Insatisfeito(a)\", \"Muito insatisfeito(a)\", \"Satisfeito(a)\", \"Indiferente\", \"Satisfeito(a)\", \"Satisfeito(a)\", \"Indiferente\", \"Indiferente\", \"Satisfeito(a)\", \"Satisfeito(a)\", \"Satisfeito(a)\", \"Satisfeito(a)\", \"Satisfeito(a)\", \"Insatisfeito(a)\", \"Muito satisfeito(a)\", \"Muito satisfeito(a)\", \"Satisfeito(a)\", \"Satisfeito(a)\", \"Muito satisfeito(a)\", \"Insatisfeito(a)\", \"Indiferente\", \"Satisfeito(a)\", \"Insatisfeito(a)\", \"Insatisfeito(a)\", \"Satisfeito(a)\", \"Insatisfeito(a)\", \"Muito satisfeito(a)\", \"Muito insatisfeito(a)\", \"Satisfeito(a)\", \"Muito satisfeito(a)\", \"Satisfeito(a)\", \"Satisfeito(a)\", \"Satisfeito(a)\", \"Indiferente\", \"Satisfeito(a)\", \"Satisfeito(a)\", \"Satisfeito(a)\", \"Satisfeito(a)\", \"Insatisfeito(a)\", \"Satisfeito(a)\", \"Satisfeito(a)\", \"Muito satisfeito(a)\", \"Satisfeito(a)\", \"Satisfeito(a)\", \"Muito insatisfeito(a)\", \"Satisfeito(a)\", \"Insatisfeito(a)\", \"Satisfeito(a)\", \"Indiferente\", \"Insatisfeito(a)\", \"Muito satisfeito(a)\", \"Muito satisfeito(a)\", \"Muito insatisfeito(a)\", \"Satisfeito(a)\", \"Indiferente\", \"Muito satisfeito(a)\", \"Satisfeito(a)\", \"Satisfeito(a)\", \"Satisfeito(a)\", \"Satisfeito(a)\", \"Satisfeito(a)\", \"Muito insatisfeito(a)\", \"Insatisfeito(a)\", \"Indiferente\", \"Insatisfeito(a)\", \"Indiferente\", \"Satisfeito(a)\", \"Satisfeito(a)\", \"Satisfeito(a)\", \"Satisfeito(a)\", \"Satisfeito(a)\", \"Satisfeito(a)\", \"Insatisfeito(a)\", \"Indiferente\", \"Satisfeito(a)\", \"Satisfeito(a)\", \"Insatisfeito(a)\", \"Satisfeito(a)\", \"Insatisfeito(a)\", \"Muito satisfeito(a)\", \"Muito satisfeito(a)\", \"Satisfeito(a)\", \"Muito insatisfeito(a)\", \"Satisfeito(a)\", \"Satisfeito(a)\", \"Muito satisfeito(a)\", \"Satisfeito(a)\", \"Insatisfeito(a)\", \"Muito satisfeito(a)\", \"Satisfeito(a)\", \"Satisfeito(a)\", \"Satisfeito(a)\", \"Insatisfeito(a)\", \"Insatisfeito(a)\", \"Indiferente\", \"Satisfeito(a)\", \"Satisfeito(a)\", \"Satisfeito(a)\", \"Muito satisfeito(a)\", \"Insatisfeito(a)\", \"Satisfeito(a)\", \"Satisfeito(a)\", \"Satisfeito(a)\", \"Insatisfeito(a)\", \"Satisfeito(a)\", \"Muito satisfeito(a)\", \"Muito satisfeito(a)\", \"Satisfeito(a)\", \"Satisfeito(a)\", \"Muito satisfeito(a)\", \"Muito insatisfeito(a)\", \"Satisfeito(a)\", \"Satisfeito(a)\", \"Muito satisfeito(a)\", \"Satisfeito(a)\", \"Satisfeito(a)\", \"Satisfeito(a)\", \"Muito insatisfeito(a)\", \"Insatisfeito(a)\", \"Indiferente\", \"Insatisfeito(a)\", \"Satisfeito(a)\", \"Indiferente\", \"Insatisfeito(a)\", \"Satisfeito(a)\", \"Satisfeito(a)\", \"Muito satisfeito(a)\", \"Satisfeito(a)\", \"Satisfeito(a)\", \"Muito satisfeito(a)\", \"Indiferente\", \"Satisfeito(a)\", \"Indiferente\", \"Insatisfeito(a)\", \"Satisfeito(a)\", \"Insatisfeito(a)\", \"Satisfeito(a)\", \"Indiferente\", \"Indiferente\", \"Indiferente\", \"Satisfeito(a)\", \"Insatisfeito(a)\", \"Muito satisfeito(a)\", \"Satisfeito(a)\", \"Satisfeito(a)\", \"Satisfeito(a)\", \"Muito satisfeito(a)\", \"Insatisfeito(a)\", \"Muito satisfeito(a)\", \"Muito satisfeito(a)\", \"Muito satisfeito(a)\", \"Satisfeito(a)\", \"Muito satisfeito(a)\", \"Insatisfeito(a)\", \"Insatisfeito(a)\", \"Satisfeito(a)\", \"Insatisfeito(a)\", \"Satisfeito(a)\", \"Insatisfeito(a)\", \"Muito insatisfeito(a)\", \"Satisfeito(a)\", \"Insatisfeito(a)\", \"Muito satisfeito(a)\", \"Muito satisfeito(a)\", \"Muito satisfeito(a)\", \"Satisfeito(a)\", \"Satisfeito(a)\", \"Muito satisfeito(a)\", \"Muito satisfeito(a)\", \"Satisfeito(a)\", \"Satisfeito(a)\", \"Muito satisfeito(a)\", \"Muito satisfeito(a)\", \"Muito satisfeito(a)\", \"Muito insatisfeito(a)\", \"Satisfeito(a)\", \"Satisfeito(a)\", \"Satisfeito(a)\", \"Satisfeito(a)\", \"Satisfeito(a)\", \"Satisfeito(a)\", \"Insatisfeito(a)\", \"Satisfeito(a)\", \"Satisfeito(a)\", \"Satisfeito(a)\", \"Insatisfeito(a)\", \"Insatisfeito(a)\", \"Satisfeito(a)\", \"Insatisfeito(a)\", \"Insatisfeito(a)\", \"Insatisfeito(a)\", \"Satisfeito(a)\", \"Insatisfeito(a)\", \"Satisfeito(a)\", \"Insatisfeito(a)\", \"Insatisfeito(a)\", \"Satisfeito(a)\", \"Muito satisfeito(a)\", \"Indiferente\", \"Satisfeito(a)\", \"Satisfeito(a)\", \"Insatisfeito(a)\", \"Satisfeito(a)\", \"Satisfeito(a)\", \"Muito satisfeito(a)\", \"Insatisfeito(a)\", \"Muito satisfeito(a)\", \"Indiferente\", \"Muito satisfeito(a)\", \"Muito satisfeito(a)\", \"Satisfeito(a)\", \"Muito satisfeito(a)\", \"Muito satisfeito(a)\", \"Muito insatisfeito(a)\", \"Muito satisfeito(a)\", \"Satisfeito(a)\", \"Insatisfeito(a)\", \"Insatisfeito(a)\", \"Satisfeito(a)\", \"Satisfeito(a)\", \"Muito satisfeito(a)\", \"Insatisfeito(a)\", \"Muito satisfeito(a)\", \"Insatisfeito(a)\", \"Muito insatisfeito(a)\", \"Indiferente\", \"Satisfeito(a)\", \"Muito satisfeito(a)\", \"Muito satisfeito(a)\", \"Insatisfeito(a)\", \"Indiferente\", \"Satisfeito(a)\", \"Insatisfeito(a)\", \"Satisfeito(a)\", \"Insatisfeito(a)\", \"Insatisfeito(a)\", \"Muito satisfeito(a)\", \"Insatisfeito(a)\", \"Insatisfeito(a)\", \"Indiferente\", \"Satisfeito(a)\", \"Insatisfeito(a)\", \"Insatisfeito(a)\", \"Satisfeito(a)\", \"Satisfeito(a)\", \"Satisfeito(a)\", \"Muito satisfeito(a)\", \"Satisfeito(a)\", \"Insatisfeito(a)\", \"Satisfeito(a)\", \"Satisfeito(a)\", \"Muito satisfeito(a)\", \"Insatisfeito(a)\", \"Satisfeito(a)\", \"Indiferente\", \"Muito satisfeito(a)\", \"Muito satisfeito(a)\", \"Muito satisfeito(a)\", \"Indiferente\", \"Insatisfeito(a)\", \"Satisfeito(a)\", \"Insatisfeito(a)\", \"Satisfeito(a)\", \"Insatisfeito(a)\", \"Satisfeito(a)\", \"Muito satisfeito(a)\", \"Satisfeito(a)\", \"Insatisfeito(a)\", \"Satisfeito(a)\", \"Satisfeito(a)\", \"Indiferente\", \"Satisfeito(a)\", \"Satisfeito(a)\", \"Insatisfeito(a)\", \"Satisfeito(a)\", \"Indiferente\", \"Insatisfeito(a)\", \"Indiferente\", \"Satisfeito(a)\", \"Satisfeito(a)\", \"Satisfeito(a)\", \"Insatisfeito(a)\", \"Satisfeito(a)\", \"Indiferente\", \"Insatisfeito(a)\", \"Indiferente\", \"Insatisfeito(a)\", \"Satisfeito(a)\", \"Insatisfeito(a)\", \"Insatisfeito(a)\", \"Indiferente\", \"Satisfeito(a)\", \"Indiferente\", \"Insatisfeito(a)\", \"Satisfeito(a)\", \"Insatisfeito(a)\", \"Satisfeito(a)\", \"Satisfeito(a)\", \"Indiferente\", \"Insatisfeito(a)\", \"Indiferente\", \"Satisfeito(a)\", \"Insatisfeito(a)\", \"Muito satisfeito(a)\", \"Insatisfeito(a)\", \"Satisfeito(a)\", \"Indiferente\", \"Satisfeito(a)\", \"Insatisfeito(a)\", \"Insatisfeito(a)\", \"Insatisfeito(a)\", \"Satisfeito(a)\", \"Insatisfeito(a)\", \"Muito satisfeito(a)\", \"Satisfeito(a)\", \"Satisfeito(a)\", \"Muito satisfeito(a)\", \"Satisfeito(a)\", \"Muito insatisfeito(a)\", \"Satisfeito(a)\", \"Satisfeito(a)\", \"Satisfeito(a)\", \"Satisfeito(a)\", \"Muito insatisfeito(a)\", \"Satisfeito(a)\", \"Muito insatisfeito(a)\", \"Muito insatisfeito(a)\", \"Muito satisfeito(a)\", \"Insatisfeito(a)\", \"Satisfeito(a)\", \"Satisfeito(a)\", \"Indiferente\", \"Satisfeito(a)\", \"Insatisfeito(a)\", \"Satisfeito(a)\", \"Satisfeito(a)\", \"Satisfeito(a)\", \"Muito satisfeito(a)\", \"Satisfeito(a)\", \"Satisfeito(a)\", \"Satisfeito(a)\", \"Satisfeito(a)\", \"Muito satisfeito(a)\", \"Satisfeito(a)\", \"Satisfeito(a)\", \"Satisfeito(a)\", \"Insatisfeito(a)\", \"Satisfeito(a)\", \"Satisfeito(a)\", \"Indiferente\", \"Satisfeito(a)\", \"Insatisfeito(a)\", \"Satisfeito(a)\", \"Satisfeito(a)\", \"Satisfeito(a)\", \"Satisfeito(a)\", \"Satisfeito(a)\", \"Muito satisfeito(a)\", \"Satisfeito(a)\", \"Muito satisfeito(a)\", \"Muito satisfeito(a)\", \"Muito insatisfeito(a)\", \"Muito satisfeito(a)\", \"Muito satisfeito(a)\", \"Indiferente\", \"Muito satisfeito(a)\", \"Satisfeito(a)\", \"Muito satisfeito(a)\", \"Satisfeito(a)\", \"Indiferente\", \"Insatisfeito(a)\", \"Satisfeito(a)\", \"Satisfeito(a)\", \"Insatisfeito(a)\", \"Muito satisfeito(a)\", \"Satisfeito(a)\", \"Satisfeito(a)\", \"Muito satisfeito(a)\", \"Satisfeito(a)\", \"Insatisfeito(a)\", \"Satisfeito(a)\", \"Insatisfeito(a)\", \"Insatisfeito(a)\", \"Muito satisfeito(a)\", \"Muito satisfeito(a)\", \"Satisfeito(a)\", \"Muito satisfeito(a)\", \"Satisfeito(a)\", \"Satisfeito(a)\", \"Muito satisfeito(a)\", \"Insatisfeito(a)\", \"Muito satisfeito(a)\", \"Muito satisfeito(a)\", \"Muito insatisfeito(a)\", \"Muito insatisfeito(a)\", \"Muito satisfeito(a)\", \"Satisfeito(a)\", \"Indiferente\", \"Satisfeito(a)\", \"Muito insatisfeito(a)\", \"Satisfeito(a)\", \"Satisfeito(a)\", \"Insatisfeito(a)\", \"Indiferente\", \"Muito insatisfeito(a)\", \"Satisfeito(a)\", \"Insatisfeito(a)\", \"Insatisfeito(a)\", \"Muito satisfeito(a)\", \"Satisfeito(a)\", \"Muito satisfeito(a)\", \"Muito satisfeito(a)\", \"Insatisfeito(a)\", \"Insatisfeito(a)\", \"Satisfeito(a)\", \"Indiferente\", \"Satisfeito(a)\", \"Insatisfeito(a)\", \"Satisfeito(a)\", \"Satisfeito(a)\", \"Insatisfeito(a)\", \"Indiferente\", \"Satisfeito(a)\", \"Insatisfeito(a)\", \"Satisfeito(a)\", \"Satisfeito(a)\", \"Satisfeito(a)\", \"Indiferente\", \"Muito satisfeito(a)\", \"Satisfeito(a)\", \"Satisfeito(a)\", \"Satisfeito(a)\", \"Insatisfeito(a)\", \"Satisfeito(a)\", \"Satisfeito(a)\", \"Satisfeito(a)\", \"Satisfeito(a)\", \"Insatisfeito(a)\", \"Satisfeito(a)\", \"Satisfeito(a)\", \"Insatisfeito(a)\", \"Muito satisfeito(a)\", \"Muito satisfeito(a)\", \"Muito satisfeito(a)\", \"Satisfeito(a)\", \"Muito satisfeito(a)\", \"Satisfeito(a)\", \"Insatisfeito(a)\", \"Insatisfeito(a)\", \"Satisfeito(a)\", \"Muito insatisfeito(a)\", \"Indiferente\", \"Satisfeito(a)\", \"Insatisfeito(a)\", \"Muito insatisfeito(a)\", \"Muito satisfeito(a)\", \"Muito satisfeito(a)\", \"Insatisfeito(a)\", \"Satisfeito(a)\", \"Satisfeito(a)\", \"Insatisfeito(a)\", \"Insatisfeito(a)\", \"Muito insatisfeito(a)\", \"Satisfeito(a)\", \"Insatisfeito(a)\", \"Satisfeito(a)\", \"Satisfeito(a)\", \"Satisfeito(a)\", \"Muito insatisfeito(a)\", \"Satisfeito(a)\", \"Muito satisfeito(a)\", \"Satisfeito(a)\", \"Muito satisfeito(a)\", \"Muito satisfeito(a)\", \"Indiferente\", \"Satisfeito(a)\", \"Satisfeito(a)\", \"Muito satisfeito(a)\", \"Muito satisfeito(a)\", \"Insatisfeito(a)\", \"Indiferente\", \"Satisfeito(a)\", \"Insatisfeito(a)\", \"Satisfeito(a)\", \"Insatisfeito(a)\", \"Insatisfeito(a)\", \"Satisfeito(a)\", \"Insatisfeito(a)\", \"Insatisfeito(a)\", \"Muito insatisfeito(a)\", \"Insatisfeito(a)\", \"Satisfeito(a)\", \"Muito satisfeito(a)\", \"Insatisfeito(a)\", \"Insatisfeito(a)\", \"Satisfeito(a)\", \"Insatisfeito(a)\", \"Insatisfeito(a)\", \"Indiferente\", \"Satisfeito(a)\", \"Satisfeito(a)\", \"Indiferente\", \"Insatisfeito(a)\", \"Indiferente\", \"Satisfeito(a)\", \"Insatisfeito(a)\", \"Satisfeito(a)\", \"Insatisfeito(a)\", \"Indiferente\", \"Satisfeito(a)\", \"Satisfeito(a)\", \"Satisfeito(a)\", \"Satisfeito(a)\", \"Muito insatisfeito(a)\", \"Indiferente\", \"Satisfeito(a)\", \"Insatisfeito(a)\", \"Satisfeito(a)\", \"Satisfeito(a)\", \"Satisfeito(a)\", \"Insatisfeito(a)\", \"Satisfeito(a)\", \"Insatisfeito(a)\", \"Satisfeito(a)\", \"Satisfeito(a)\", \"Satisfeito(a)\", \"Insatisfeito(a)\", \"Satisfeito(a)\", \"Insatisfeito(a)\", \"Indiferente\", \"Indiferente\", \"Insatisfeito(a)\", \"Insatisfeito(a)\", \"Satisfeito(a)\", \"Satisfeito(a)\", \"Insatisfeito(a)\", \"Insatisfeito(a)\", \"Insatisfeito(a)\", \"Insatisfeito(a)\", \"Indiferente\", \"Satisfeito(a)\", \"Satisfeito(a)\", \"Indiferente\", \"Satisfeito(a)\", \"Satisfeito(a)\", \"Muito insatisfeito(a)\", \"Muito satisfeito(a)\", \"Indiferente\", \"Satisfeito(a)\", \"Satisfeito(a)\", \"Insatisfeito(a)\", \"Indiferente\", \"Satisfeito(a)\", \"Satisfeito(a)\", \"Satisfeito(a)\", \"Satisfeito(a)\", \"Indiferente\", \"Insatisfeito(a)\", \"Satisfeito(a)\", \"Indiferente\", \"Satisfeito(a)\", \"Satisfeito(a)\", \"Insatisfeito(a)\", \"Insatisfeito(a)\", \"Insatisfeito(a)\", \"Insatisfeito(a)\", \"Satisfeito(a)\", \"Satisfeito(a)\", \"Indiferente\", \"Satisfeito(a)\", \"Insatisfeito(a)\", \"Satisfeito(a)\", \"Satisfeito(a)\", \"Satisfeito(a)\", \"Indiferente\", \"Insatisfeito(a)\", \"Indiferente\", \"Insatisfeito(a)\", \"Satisfeito(a)\", \"Muito satisfeito(a)\", \"Muito insatisfeito(a)\", \"Insatisfeito(a)\", \"Muito satisfeito(a)\", \"Insatisfeito(a)\", \"Satisfeito(a)\", \"Satisfeito(a)\", \"Satisfeito(a)\", \"Muito satisfeito(a)\", \"Satisfeito(a)\", \"Satisfeito(a)\", \"Satisfeito(a)\", \"Satisfeito(a)\", \"Indiferente\", \"Muito satisfeito(a)\", \"Satisfeito(a)\", \"Muito satisfeito(a)\", \"Satisfeito(a)\", \"Muito satisfeito(a)\", \"Insatisfeito(a)\", \"Insatisfeito(a)\", \"Satisfeito(a)\", \"Satisfeito(a)\", \"Insatisfeito(a)\", \"Satisfeito(a)\", \"Indiferente\", \"Satisfeito(a)\", \"Satisfeito(a)\", \"Satisfeito(a)\", \"Insatisfeito(a)\", \"Muito satisfeito(a)\", \"Indiferente\", \"Insatisfeito(a)\", \"Muito insatisfeito(a)\", \"Insatisfeito(a)\", \"Satisfeito(a)\", \"Satisfeito(a)\", \"Muito satisfeito(a)\", \"Satisfeito(a)\", \"Satisfeito(a)\", \"Satisfeito(a)\", \"Indiferente\", \"Satisfeito(a)\", \"Muito satisfeito(a)\", \"Satisfeito(a)\", \"Satisfeito(a)\", \"Indiferente\", \"Insatisfeito(a)\", \"Insatisfeito(a)\", \"Indiferente\", \"Satisfeito(a)\", \"Satisfeito(a)\", \"Insatisfeito(a)\", \"Satisfeito(a)\", \"Indiferente\", \"Insatisfeito(a)\", \"Satisfeito(a)\", \"Satisfeito(a)\", \"Muito satisfeito(a)\", \"Satisfeito(a)\", \"Satisfeito(a)\", \"Satisfeito(a)\", \"Indiferente\", \"Indiferente\", \"Satisfeito(a)\", \"Insatisfeito(a)\", \"Satisfeito(a)\", \"Indiferente\", \"Satisfeito(a)\", \"Muito satisfeito(a)\", \"Satisfeito(a)\", \"Insatisfeito(a)\", \"Satisfeito(a)\", \"Satisfeito(a)\", \"Insatisfeito(a)\", \"Satisfeito(a)\", \"Satisfeito(a)\", \"Indiferente\", \"Insatisfeito(a)\", \"Satisfeito(a)\", \"Indiferente\", \"Satisfeito(a)\", \"Satisfeito(a)\", \"Satisfeito(a)\", \"Satisfeito(a)\", \"Insatisfeito(a)\", \"Muito satisfeito(a)\", \"Satisfeito(a)\", \"Satisfeito(a)\", \"Muito satisfeito(a)\", \"Muito satisfeito(a)\", \"Indiferente\", \"Indiferente\", \"Insatisfeito(a)\", \"Muito satisfeito(a)\", \"Satisfeito(a)\", \"Insatisfeito(a)\", \"Satisfeito(a)\", \"Satisfeito(a)\", \"Satisfeito(a)\", \"Satisfeito(a)\", \"Satisfeito(a)\", \"Muito satisfeito(a)\", \"Satisfeito(a)\", \"Satisfeito(a)\", \"Insatisfeito(a)\", \"Satisfeito(a)\", \"Satisfeito(a)\", \"Insatisfeito(a)\", \"Insatisfeito(a)\", \"Satisfeito(a)\", \"Satisfeito(a)\", \"Satisfeito(a)\", \"Insatisfeito(a)\", \"Satisfeito(a)\", \"Insatisfeito(a)\", \"Satisfeito(a)\", \"Satisfeito(a)\", \"Muito satisfeito(a)\", \"Satisfeito(a)\", \"Muito insatisfeito(a)\", \"Satisfeito(a)\", \"Satisfeito(a)\", \"Satisfeito(a)\", \"Satisfeito(a)\", \"Insatisfeito(a)\", \"Satisfeito(a)\", \"Muito satisfeito(a)\", \"Muito satisfeito(a)\", \"Muito insatisfeito(a)\", \"Satisfeito(a)\", \"Satisfeito(a)\", \"Satisfeito(a)\", \"Satisfeito(a)\", \"Satisfeito(a)\", \"Muito satisfeito(a)\", \"Satisfeito(a)\", \"Indiferente\", \"Muito satisfeito(a)\", \"Insatisfeito(a)\", \"Satisfeito(a)\", \"Satisfeito(a)\", \"Satisfeito(a)\", \"Muito satisfeito(a)\", \"Insatisfeito(a)\", \"Indiferente\", \"Insatisfeito(a)\", \"Muito satisfeito(a)\", \"Muito satisfeito(a)\", \"Satisfeito(a)\", \"Satisfeito(a)\", \"Satisfeito(a)\", \"Satisfeito(a)\", \"Insatisfeito(a)\", \"Satisfeito(a)\", \"Indiferente\", \"Satisfeito(a)\", \"Satisfeito(a)\", \"Satisfeito(a)\", \"Muito satisfeito(a)\", \"Muito insatisfeito(a)\", \"Satisfeito(a)\", \"Satisfeito(a)\", \"Satisfeito(a)\", \"Satisfeito(a)\", \"Satisfeito(a)\", \"Insatisfeito(a)\", \"Insatisfeito(a)\", \"Satisfeito(a)\", \"Satisfeito(a)\", \"Muito satisfeito(a)\", \"Indiferente\", \"Satisfeito(a)\", \"Satisfeito(a)\", \"Satisfeito(a)\", \"Indiferente\", \"Insatisfeito(a)\", \"Satisfeito(a)\", \"Satisfeito(a)\", \"Satisfeito(a)\", \"Satisfeito(a)\", \"Indiferente\", \"Satisfeito(a)\", \"Satisfeito(a)\", \"Muito satisfeito(a)\", \"Muito satisfeito(a)\", \"Muito insatisfeito(a)\", \"Muito satisfeito(a)\", \"Insatisfeito(a)\", \"Satisfeito(a)\", \"Satisfeito(a)\", \"Satisfeito(a)\", \"Satisfeito(a)\", \"Indiferente\", \"Muito satisfeito(a)\", \"Satisfeito(a)\", \"Muito satisfeito(a)\", \"Muito satisfeito(a)\", \"Muito satisfeito(a)\", \"Satisfeito(a)\", \"Muito insatisfeito(a)\", \"Satisfeito(a)\", \"Indiferente\", \"Satisfeito(a)\", \"Indiferente\", \"Insatisfeito(a)\", \"Insatisfeito(a)\", \"Satisfeito(a)\", \"Insatisfeito(a)\", \"Satisfeito(a)\", \"Indiferente\", \"Satisfeito(a)\", \"Satisfeito(a)\", \"Satisfeito(a)\", \"Satisfeito(a)\", \"Satisfeito(a)\", \"Indiferente\", \"Satisfeito(a)\", \"Insatisfeito(a)\", \"Muito insatisfeito(a)\", \"Insatisfeito(a)\", \"Satisfeito(a)\", \"Satisfeito(a)\", \"Indiferente\", \"Satisfeito(a)\", \"Satisfeito(a)\", \"Satisfeito(a)\", \"Satisfeito(a)\", \"Satisfeito(a)\", \"Muito insatisfeito(a)\", \"Muito satisfeito(a)\", \"Indiferente\", \"Muito satisfeito(a)\", \"Muito satisfeito(a)\", \"Satisfeito(a)\", \"Muito insatisfeito(a)\", \"Indiferente\", \"Satisfeito(a)\", \"Satisfeito(a)\", \"Indiferente\", \"Satisfeito(a)\", \"Insatisfeito(a)\", \"Indiferente\", \"Muito insatisfeito(a)\", \"Insatisfeito(a)\", \"Satisfeito(a)\", \"Satisfeito(a)\", \"Insatisfeito(a)\", \"Insatisfeito(a)\", \"Muito satisfeito(a)\", \"Satisfeito(a)\", \"Insatisfeito(a)\", \"Muito insatisfeito(a)\", \"Satisfeito(a)\", \"Insatisfeito(a)\", \"Satisfeito(a)\", \"Satisfeito(a)\", \"Satisfeito(a)\", \"Satisfeito(a)\", \"Satisfeito(a)\", \"Insatisfeito(a)\", \"Muito insatisfeito(a)\", \"Muito insatisfeito(a)\", \"Insatisfeito(a)\", \"Muito insatisfeito(a)\", \"Satisfeito(a)\", \"Insatisfeito(a)\", \"Insatisfeito(a)\", \"Indiferente\", \"Insatisfeito(a)\", \"Muito insatisfeito(a)\", \"Indiferente\", \"Indiferente\", \"Muito satisfeito(a)\", \"Insatisfeito(a)\", \"Satisfeito(a)\", \"Satisfeito(a)\", \"Satisfeito(a)\", \"Satisfeito(a)\", \"Satisfeito(a)\", \"Insatisfeito(a)\", \"Muito satisfeito(a)\", \"Muito satisfeito(a)\", \"Muito insatisfeito(a)\", \"Satisfeito(a)\", \"Muito satisfeito(a)\", \"Satisfeito(a)\", \"Satisfeito(a)\", \"Indiferente\", \"Muito satisfeito(a)\", \"Satisfeito(a)\", \"Satisfeito(a)\", \"Satisfeito(a)\", \"Satisfeito(a)\", \"Insatisfeito(a)\", \"Muito satisfeito(a)\", \"Satisfeito(a)\", \"Insatisfeito(a)\", \"Satisfeito(a)\", \"Satisfeito(a)\", \"Indiferente\", \"Satisfeito(a)\", \"Insatisfeito(a)\", \"Insatisfeito(a)\", \"Satisfeito(a)\", \"Muito satisfeito(a)\", \"Muito satisfeito(a)\", \"Insatisfeito(a)\", \"Muito satisfeito(a)\", \"Muito satisfeito(a)\", \"Satisfeito(a)\", \"Satisfeito(a)\", \"Muito satisfeito(a)\", \"Muito satisfeito(a)\", \"Muito satisfeito(a)\", \"Satisfeito(a)\", \"Insatisfeito(a)\", \"Muito satisfeito(a)\", \"Satisfeito(a)\", \"Satisfeito(a)\", \"Muito satisfeito(a)\", \"Satisfeito(a)\", \"Satisfeito(a)\", \"Muito insatisfeito(a)\", \"Satisfeito(a)\", \"Muito insatisfeito(a)\", \"Muito satisfeito(a)\", \"Muito insatisfeito(a)\", \"Insatisfeito(a)\", \"Satisfeito(a)\", \"Muito satisfeito(a)\", \"Insatisfeito(a)\", \"Insatisfeito(a)\", \"Muito satisfeito(a)\", \"Satisfeito(a)\", \"Satisfeito(a)\", \"Insatisfeito(a)\", \"Satisfeito(a)\", \"Muito insatisfeito(a)\", \"Insatisfeito(a)\", \"Muito satisfeito(a)\", \"Muito satisfeito(a)\", \"Satisfeito(a)\", \"Muito insatisfeito(a)\", \"Insatisfeito(a)\", \"Satisfeito(a)\", \"Satisfeito(a)\", \"Satisfeito(a)\", \"Muito satisfeito(a)\", \"Satisfeito(a)\", \"Satisfeito(a)\", \"Muito satisfeito(a)\", \"Satisfeito(a)\", \"Satisfeito(a)\", \"Muito satisfeito(a)\", \"Satisfeito(a)\", \"Muito satisfeito(a)\", \"Indiferente\", \"Satisfeito(a)\", \"Insatisfeito(a)\", \"Satisfeito(a)\", \"Muito satisfeito(a)\", \"Satisfeito(a)\", \"Satisfeito(a)\", \"Satisfeito(a)\", \"Satisfeito(a)\", \"Muito satisfeito(a)\", \"Muito satisfeito(a)\", \"Indiferente\", \"Muito satisfeito(a)\", \"Satisfeito(a)\", \"Muito satisfeito(a)\", \"Muito insatisfeito(a)\", \"Satisfeito(a)\", \"Muito satisfeito(a)\", \"Satisfeito(a)\", \"Insatisfeito(a)\", \"Satisfeito(a)\", \"Indiferente\", \"Insatisfeito(a)\", \"Insatisfeito(a)\", \"Satisfeito(a)\", \"Satisfeito(a)\", \"Muito satisfeito(a)\", \"Indiferente\", \"Insatisfeito(a)\", \"Muito satisfeito(a)\", \"Satisfeito(a)\", \"Satisfeito(a)\", \"Satisfeito(a)\", \"Indiferente\", \"Insatisfeito(a)\", \"Insatisfeito(a)\", \"Satisfeito(a)\", \"Satisfeito(a)\", \"Satisfeito(a)\", \"Muito satisfeito(a)\", \"Muito satisfeito(a)\", \"Satisfeito(a)\", \"Muito satisfeito(a)\", \"Satisfeito(a)\", \"Muito satisfeito(a)\", \"Muito satisfeito(a)\", \"Muito satisfeito(a)\", \"Satisfeito(a)\", \"Satisfeito(a)\", \"Satisfeito(a)\", \"Insatisfeito(a)\", \"Muito satisfeito(a)\", \"Muito insatisfeito(a)\", \"Muito satisfeito(a)\", \"Indiferente\", \"Satisfeito(a)\", \"Muito satisfeito(a)\", \"Muito satisfeito(a)\", \"Satisfeito(a)\", \"Satisfeito(a)\", \"Satisfeito(a)\", \"Insatisfeito(a)\", \"Muito satisfeito(a)\", \"Muito satisfeito(a)\", \"Muito satisfeito(a)\", \"Muito satisfeito(a)\", \"Satisfeito(a)\", \"Insatisfeito(a)\", \"Insatisfeito(a)\", \"Muito satisfeito(a)\", \"Muito satisfeito(a)\", \"Indiferente\", \"Satisfeito(a)\", \"Muito satisfeito(a)\", \"Satisfeito(a)\", \"Indiferente\", \"Satisfeito(a)\", \"Indiferente\", \"Insatisfeito(a)\", \"Insatisfeito(a)\", \"Insatisfeito(a)\", \"Satisfeito(a)\", \"Muito satisfeito(a)\", \"Satisfeito(a)\", \"Satisfeito(a)\", \"Satisfeito(a)\", \"Insatisfeito(a)\", \"Satisfeito(a)\", \"Indiferente\", \"Insatisfeito(a)\", \"Satisfeito(a)\", \"Satisfeito(a)\", \"Muito satisfeito(a)\", \"Insatisfeito(a)\", \"Satisfeito(a)\", \"Insatisfeito(a)\", \"Insatisfeito(a)\", \"Insatisfeito(a)\", \"Insatisfeito(a)\", \"Indiferente\", \"Satisfeito(a)\", \"Muito satisfeito(a)\", \"Insatisfeito(a)\", \"Muito satisfeito(a)\", \"Insatisfeito(a)\", \"Muito satisfeito(a)\", \"Insatisfeito(a)\", \"Muito satisfeito(a)\", \"Satisfeito(a)\", \"Muito insatisfeito(a)\", \"Insatisfeito(a)\", \"Satisfeito(a)\", \"Insatisfeito(a)\", \"Indiferente\", \"Muito satisfeito(a)\", \"Muito satisfeito(a)\", \"Muito insatisfeito(a)\", \"Muito satisfeito(a)\", \"Indiferente\", \"Muito satisfeito(a)\", \"Insatisfeito(a)\", \"Satisfeito(a)\", \"Muito insatisfeito(a)\", \"Muito insatisfeito(a)\", \"Indiferente\", \"Muito satisfeito(a)\", \"Insatisfeito(a)\", \"Indiferente\", \"Satisfeito(a)\", \"Insatisfeito(a)\", \"Insatisfeito(a)\", \"Satisfeito(a)\", \"Indiferente\", \"Satisfeito(a)\", \"Muito insatisfeito(a)\", \"Satisfeito(a)\", \"Indiferente\", \"Insatisfeito(a)\", \"Satisfeito(a)\", \"Satisfeito(a)\", \"Insatisfeito(a)\", \"Muito satisfeito(a)\", \"Insatisfeito(a)\", \"Satisfeito(a)\", \"Satisfeito(a)\", \"Indiferente\", \"Insatisfeito(a)\", \"Satisfeito(a)\", \"Insatisfeito(a)\", \"Muito satisfeito(a)\", \"Insatisfeito(a)\", \"Muito satisfeito(a)\", \"Insatisfeito(a)\", \"Indiferente\", \"Satisfeito(a)\", \"Muito insatisfeito(a)\", \"Insatisfeito(a)\", \"Muito satisfeito(a)\", \"Indiferente\", \"Muito satisfeito(a)\", \"Muito satisfeito(a)\", \"Satisfeito(a)\", \"Satisfeito(a)\", \"Muito satisfeito(a)\", \"Muito satisfeito(a)\", \"Muito satisfeito(a)\", \"Satisfeito(a)\", \"Satisfeito(a)\", \"Muito satisfeito(a)\", \"Insatisfeito(a)\", \"Muito satisfeito(a)\", \"Satisfeito(a)\", \"Satisfeito(a)\", \"Satisfeito(a)\", \"Satisfeito(a)\", \"Satisfeito(a)\", \"Muito satisfeito(a)\", \"Satisfeito(a)\", \"Satisfeito(a)\", \"Satisfeito(a)\", \"Insatisfeito(a)\", \"Insatisfeito(a)\", \"Satisfeito(a)\", \"Satisfeito(a)\", \"Indiferente\", \"Insatisfeito(a)\", \"Muito satisfeito(a)\", \"Satisfeito(a)\", \"Satisfeito(a)\", \"Satisfeito(a)\", \"Muito insatisfeito(a)\", \"Insatisfeito(a)\", \"Insatisfeito(a)\", \"Insatisfeito(a)\", \"Muito satisfeito(a)\", \"Satisfeito(a)\", \"Insatisfeito(a)\", \"Muito satisfeito(a)\", \"Satisfeito(a)\", \"Satisfeito(a)\", \"Satisfeito(a)\", \"Satisfeito(a)\", \"Satisfeito(a)\", \"Satisfeito(a)\", \"Insatisfeito(a)\", \"Insatisfeito(a)\", \"Satisfeito(a)\", \"Muito satisfeito(a)\", \"Satisfeito(a)\", \"Muito satisfeito(a)\", \"Muito satisfeito(a)\", \"Satisfeito(a)\", \"Muito satisfeito(a)\", \"Muito satisfeito(a)\", \"Satisfeito(a)\", \"Insatisfeito(a)\", \"Indiferente\", \"Satisfeito(a)\", \"Satisfeito(a)\", \"Satisfeito(a)\", \"Muito satisfeito(a)\", \"Satisfeito(a)\", \"Muito satisfeito(a)\", \"Satisfeito(a)\", \"Insatisfeito(a)\", \"Indiferente\", \"Satisfeito(a)\", \"Insatisfeito(a)\", \"Satisfeito(a)\", \"Muito insatisfeito(a)\", \"Muito satisfeito(a)\", \"Muito satisfeito(a)\", \"Satisfeito(a)\", \"Muito satisfeito(a)\", \"Satisfeito(a)\", \"Satisfeito(a)\", \"Satisfeito(a)\", \"Satisfeito(a)\", \"Satisfeito(a)\", \"Muito satisfeito(a)\", \"Satisfeito(a)\", \"Satisfeito(a)\", \"Insatisfeito(a)\", \"Satisfeito(a)\", \"Satisfeito(a)\", \"Muito satisfeito(a)\", \"Muito insatisfeito(a)\", \"Satisfeito(a)\", \"Muito satisfeito(a)\", \"Muito satisfeito(a)\", \"Satisfeito(a)\", \"Muito satisfeito(a)\", \"Muito satisfeito(a)\", \"Muito satisfeito(a)\", \"Satisfeito(a)\", \"Muito satisfeito(a)\", \"Satisfeito(a)\", \"Indiferente\", \"Satisfeito(a)\", \"Muito satisfeito(a)\", \"Muito insatisfeito(a)\", \"Satisfeito(a)\", \"Insatisfeito(a)\", \"Insatisfeito(a)\", \"Satisfeito(a)\", \"Muito satisfeito(a)\", \"Satisfeito(a)\", \"Satisfeito(a)\", \"Satisfeito(a)\", \"Satisfeito(a)\", \"Satisfeito(a)\", \"Muito insatisfeito(a)\", \"Insatisfeito(a)\", \"Muito insatisfeito(a)\", \"Muito satisfeito(a)\", \"Insatisfeito(a)\", \"Insatisfeito(a)\", \"Muito satisfeito(a)\", \"Satisfeito(a)\", \"Insatisfeito(a)\", \"Muito satisfeito(a)\", \"Muito insatisfeito(a)\", \"Satisfeito(a)\", \"Muito satisfeito(a)\", \"Satisfeito(a)\", \"Insatisfeito(a)\", \"Indiferente\", \"Insatisfeito(a)\", \"Satisfeito(a)\", \"Insatisfeito(a)\", \"Muito insatisfeito(a)\", \"Insatisfeito(a)\", \"Muito satisfeito(a)\", \"Muito insatisfeito(a)\", \"Insatisfeito(a)\", \"Muito satisfeito(a)\", \"Muito satisfeito(a)\", \"Muito insatisfeito(a)\", \"Muito satisfeito(a)\", \"Muito satisfeito(a)\", \"Muito satisfeito(a)\", \"Muito satisfeito(a)\", \"Indiferente\", \"Muito satisfeito(a)\", \"Muito satisfeito(a)\", \"Satisfeito(a)\", \"Satisfeito(a)\", \"Muito satisfeito(a)\", \"Insatisfeito(a)\", \"Satisfeito(a)\", \"Muito satisfeito(a)\", \"Satisfeito(a)\", \"Satisfeito(a)\", \"Muito satisfeito(a)\", \"Indiferente\", \"Muito insatisfeito(a)\", \"Satisfeito(a)\", \"Satisfeito(a)\", \"Satisfeito(a)\", \"Insatisfeito(a)\", \"Muito insatisfeito(a)\", \"Satisfeito(a)\", \"Indiferente\", \"Satisfeito(a)\", \"Satisfeito(a)\", \"Insatisfeito(a)\", \"Muito insatisfeito(a)\", \"Indiferente\", \"Satisfeito(a)\", \"Indiferente\", \"Satisfeito(a)\", \"Muito satisfeito(a)\", \"Indiferente\", \"Indiferente\", \"Insatisfeito(a)\", \"Muito insatisfeito(a)\", \"Indiferente\", \"Satisfeito(a)\", \"Indiferente\", \"Indiferente\", \"Insatisfeito(a)\", \"Indiferente\", \"Insatisfeito(a)\", \"Muito satisfeito(a)\", \"Insatisfeito(a)\", \"Satisfeito(a)\", \"Insatisfeito(a)\", \"Satisfeito(a)\", \"Muito insatisfeito(a)\", \"Satisfeito(a)\", \"Satisfeito(a)\", \"Insatisfeito(a)\", \"Insatisfeito(a)\", \"Satisfeito(a)\", \"Indiferente\", \"Muito satisfeito(a)\", \"Satisfeito(a)\", \"Indiferente\", \"Satisfeito(a)\", \"Satisfeito(a)\", \"Insatisfeito(a)\", \"Insatisfeito(a)\", \"Satisfeito(a)\", \"Muito insatisfeito(a)\", \"Satisfeito(a)\", \"Satisfeito(a)\", \"Insatisfeito(a)\", \"Satisfeito(a)\", \"Satisfeito(a)\", \"Muito satisfeito(a)\", \"Indiferente\", \"Satisfeito(a)\", \"Satisfeito(a)\", \"Satisfeito(a)\", \"Insatisfeito(a)\", \"Indiferente\", \"Satisfeito(a)\", \"Satisfeito(a)\", \"Satisfeito(a)\", \"Muito satisfeito(a)\", \"Satisfeito(a)\", \"Muito satisfeito(a)\", \"Muito satisfeito(a)\", \"Satisfeito(a)\", \"Satisfeito(a)\", \"Insatisfeito(a)\", \"Muito satisfeito(a)\", \"Satisfeito(a)\", \"Muito satisfeito(a)\", \"Muito satisfeito(a)\", \"Muito satisfeito(a)\", \"Satisfeito(a)\", \"Muito insatisfeito(a)\", \"Muito satisfeito(a)\", \"Satisfeito(a)\", \"Satisfeito(a)\", \"Muito satisfeito(a)\", \"Satisfeito(a)\", \"Satisfeito(a)\", \"Satisfeito(a)\", \"Insatisfeito(a)\", \"Indiferente\", \"Insatisfeito(a)\", \"Indiferente\", \"Satisfeito(a)\", \"Satisfeito(a)\", \"Satisfeito(a)\", \"Satisfeito(a)\", \"Muito satisfeito(a)\", \"Satisfeito(a)\", \"Satisfeito(a)\", \"Satisfeito(a)\", \"Muito satisfeito(a)\", \"Satisfeito(a)\", \"Satisfeito(a)\", \"Satisfeito(a)\", \"Satisfeito(a)\", \"Indiferente\", \"Muito satisfeito(a)\", \"Satisfeito(a)\", \"Satisfeito(a)\", \"Muito satisfeito(a)\", \"Satisfeito(a)\", \"Indiferente\", \"Satisfeito(a)\", \"Satisfeito(a)\", \"Satisfeito(a)\", \"Insatisfeito(a)\", \"Indiferente\", \"Indiferente\", \"Muito satisfeito(a)\", \"Satisfeito(a)\", \"Satisfeito(a)\", \"Indiferente\", \"Satisfeito(a)\", \"Insatisfeito(a)\", \"Satisfeito(a)\", \"Satisfeito(a)\", \"Insatisfeito(a)\", \"Insatisfeito(a)\", \"Indiferente\", \"Satisfeito(a)\", \"Satisfeito(a)\", \"Satisfeito(a)\", \"Indiferente\", \"Muito satisfeito(a)\", \"Muito satisfeito(a)\", \"Indiferente\", \"Satisfeito(a)\", \"Satisfeito(a)\", \"Satisfeito(a)\", \"Satisfeito(a)\", \"Indiferente\", \"Insatisfeito(a)\", \"Muito insatisfeito(a)\", \"Satisfeito(a)\", \"Satisfeito(a)\", \"Insatisfeito(a)\", \"Indiferente\", \"Muito satisfeito(a)\", \"Muito satisfeito(a)\", \"Satisfeito(a)\", \"Indiferente\", \"Satisfeito(a)\", \"Satisfeito(a)\", \"Insatisfeito(a)\", \"Satisfeito(a)\", \"Satisfeito(a)\", \"Satisfeito(a)\", \"Indiferente\", \"Satisfeito(a)\", \"Insatisfeito(a)\", \"Indiferente\", \"Satisfeito(a)\", \"Indiferente\", \"Insatisfeito(a)\", \"Muito insatisfeito(a)\", \"Muito satisfeito(a)\", \"Satisfeito(a)\", \"Satisfeito(a)\", \"Satisfeito(a)\", \"Satisfeito(a)\", \"Satisfeito(a)\", \"Insatisfeito(a)\", \"Satisfeito(a)\", \"Indiferente\", \"Insatisfeito(a)\", \"Satisfeito(a)\", \"Insatisfeito(a)\", \"Indiferente\", \"Indiferente\", \"Indiferente\", \"Muito insatisfeito(a)\", \"Satisfeito(a)\", \"Muito satisfeito(a)\", \"Insatisfeito(a)\", \"Muito satisfeito(a)\", \"Indiferente\", \"Muito satisfeito(a)\", \"Satisfeito(a)\", \"Satisfeito(a)\", \"Satisfeito(a)\", \"Satisfeito(a)\", \"Satisfeito(a)\", \"Muito satisfeito(a)\", \"Muito satisfeito(a)\", \"Muito satisfeito(a)\", \"Muito insatisfeito(a)\", \"Satisfeito(a)\", \"Insatisfeito(a)\", \"Insatisfeito(a)\", \"Insatisfeito(a)\", \"Muito satisfeito(a)\", \"Muito satisfeito(a)\", \"Insatisfeito(a)\", \"Insatisfeito(a)\", \"Insatisfeito(a)\", \"Muito insatisfeito(a)\", \"Muito satisfeito(a)\", \"Satisfeito(a)\", \"Satisfeito(a)\", \"Satisfeito(a)\", \"Insatisfeito(a)\", \"Muito satisfeito(a)\", \"Indiferente\", \"Muito insatisfeito(a)\", \"Muito satisfeito(a)\", \"Muito insatisfeito(a)\", \"Satisfeito(a)\", \"Satisfeito(a)\", \"Indiferente\", \"Muito insatisfeito(a)\", \"Muito satisfeito(a)\", \"Indiferente\", \"Satisfeito(a)\", \"Muito satisfeito(a)\", \"Muito satisfeito(a)\", \"Satisfeito(a)\", \"Muito insatisfeito(a)\", \"Muito satisfeito(a)\", \"Satisfeito(a)\", \"Muito insatisfeito(a)\", \"Satisfeito(a)\", \"Satisfeito(a)\", \"Insatisfeito(a)\", \"Insatisfeito(a)\", \"Insatisfeito(a)\", \"Indiferente\", \"Satisfeito(a)\", \"Satisfeito(a)\", \"Satisfeito(a)\", \"Insatisfeito(a)\", \"Satisfeito(a)\", \"Insatisfeito(a)\", \"Satisfeito(a)\", \"Indiferente\", \"Satisfeito(a)\", \"Satisfeito(a)\", \"Satisfeito(a)\", \"Satisfeito(a)\", \"Satisfeito(a)\", \"Insatisfeito(a)\", \"Satisfeito(a)\", \"Insatisfeito(a)\", \"Insatisfeito(a)\", \"Satisfeito(a)\", \"Insatisfeito(a)\", \"Satisfeito(a)\", \"Satisfeito(a)\", \"Insatisfeito(a)\", \"Insatisfeito(a)\", \"Insatisfeito(a)\", \"Satisfeito(a)\", \"Satisfeito(a)\", \"Satisfeito(a)\", \"Insatisfeito(a)\", \"Satisfeito(a)\", \"Insatisfeito(a)\", \"Muito insatisfeito(a)\", \"Satisfeito(a)\", \"Insatisfeito(a)\", \"Satisfeito(a)\", \"Indiferente\", \"Satisfeito(a)\", \"Muito insatisfeito(a)\", \"Insatisfeito(a)\", \"Insatisfeito(a)\", \"Satisfeito(a)\", \"Insatisfeito(a)\", \"Satisfeito(a)\", \"Satisfeito(a)\", \"Insatisfeito(a)\", \"Insatisfeito(a)\", \"Insatisfeito(a)\", \"Satisfeito(a)\", \"Indiferente\", \"Indiferente\", \"Satisfeito(a)\", \"Satisfeito(a)\", \"Muito satisfeito(a)\", \"Insatisfeito(a)\"], \"x0\": \" \", \"xaxis\": \"x\", \"y\": [15.051320540387033, 21.727839335180057, 19.87402368354749, 19.632402727387493, 20.303163896062532, 21.54663518299882, 19.02155452683883, 27.41618213933113, 18.611495844875346, 22.60396925700153, 20.893342529108686, 21.112604138672403, 37.015532007548266, 27.81557067271353, 19.75755726565411, 19.70791024141769, 24.47776518003906, 22.460937499999996, 19.97569552420374, 19.721036967980208, 22.13496110001096, 31.47386069196768, 19.385114687952285, 22.978306651086086, 18.56887335738878, 14.02473075968624, 23.29184489476198, 21.096628621335316, 35.055631763450684, 17.201335462331254, 19.68580799666805, 21.938087292383326, 24.87861793819865, 19.86668975069252, 18.662014686194166, 18.413988098275986, 22.705811202240874, 22.874881052466257, 20.21556172662176, 20.058144645594165, 18.42403628117914, 33.518447466189194, 16.235078053259873, 25.486390532544377, 32.72200455517932, 19.140622470847983, 20.346589114356984, 19.189677843523995, 22.966921909794937, 21.784356653487134, 20.078124999999996, 26.13930803231214, 22.64086462471699, 17.438066149789854, 20.07960127648894, 15.353535353535355, 19.578698224852072, 29.237555135475738, 25.072011034930423, 26.11078379111373, 18.671515080890032, 18.624338624338627, 20.73802903394008, 21.338210638622158, 23.10935091712685, 18.871191135734072, 21.54700782762394, 16.593180061776057, 18.614398422090726, 17.304687499999996, 20.700425644846842, 24.540890474303076, 20.975383629258676, 23.824758176822613, 19.898128175255128, 24.02787398806878, 19.58820701810607, 25.03401360544218, 20.193606199437102, 19.512014855738585, 23.164062499999993, 18.069601427721597, 20.602493074792243, 16.26872024472525, 21.05703111783379, 17.688344354740558, 15.858480749219561, 18.73596881033989, 18.21161901293025, 19.669229130128343, 24.79062651519565, 29.607573390367257, 17.95350210743912, 20.45212726715315, 16.42800979706766, 17.83644772132758, 21.562319415574894, 13.767713405003867, 17.466666666666665, 19.32178023298816, 20.359443268321247, 27.37771528416787, 18.97034483824856, 17.006802721088437, 21.91900130643054, 20.220047528557004, 29.90273156456241, 18.652433425160694, 16.63797781706621, 17.669071409282047, 15.575762077051218, 19.371435358019863, 15.623468287422803, 20.854511855966724, 18.43751116955751, 26.13412228796844, 19.196139567982442, 28.084332107116012, 23.272667884739054, 20.624999999999996, 26.901386983691502, 21.715913136347453, 20.177533048021065, 23.48979674631831, 22.012359561743075, 18.27065648976505, 21.4308604390322, 28.571151289292608, 22.3437171986382, 17.50398242557033, 17.57058205009778, 22.56267135739625, 35.99398171366845, 23.862396025443186, 20.27224669568364, 34.10585141354372, 20.234392182737928, 22.16608968907395, 18.574838579108018, 19.95739644970414, 19.792391658036344, 15.013297492064401, 19.050989694929086, 18.621445089050265, 21.951631981360904, 30.896879542488517, 27.578044429378664, 20.244246623306353, 20.253848231163918, 22.161170489499, 16.490811943561717, 22.091970265402185, 21.054869315236193, 23.883685215503856, 19.556639966067962, 22.942130453700404, 22.863612329851883, 23.64746621168063, 15.87773922793494, 22.63259093094055, 20.14062352719389, 20.776796200960685, 19.028486580237818, 14.561293099651804, 18.34359381507705, 28.696051423324146, 19.870584319842372, 15.723264213018943, 18.977597637226253, 18.084216936584124, 23.239874382363205, 21.348527229907344, 21.89386056191467, 20.733973570549388, 24.594077588854294, 21.108283134010083, 24.24145926419807, 20.45995084039049, 20.400660395458406, 26.411215174316215, 21.97999211158521, 37.44924553416628, 18.273602423946766, 20.65959640294379, 20.1230720321428, 25.171607231247858, 18.911216024661567, 22.49433106575964, 18.4065532756655, 15.004655034600491, 20.176814170057906, 20.63658965615511, 18.632678008781784, 24.08515469178813, 16.633561192107447, 17.84837044377848, 14.17823297269725, 23.245622564353972, 16.41768762282257, 15.117572097629076, 16.529329823983016, 21.937309948083, 20.083466576924334, 28.984630889392797, 19.908010124173114, 22.067049882334786, 24.39277293983059, 21.926310729555826, 19.810399310542948, 17.807407075983487, 17.173034789326373, 21.733362687485528, 29.653433065695978, 24.21424157685822, 26.24361675032259, 18.157702372658402, 24.814808378352268, 21.73892206385569, 18.970134239281876, 25.1538400401785, 22.31212946643166, 25.71166207529844, 21.785873666274494, 16.86109204979904, 14.814480967356394, 17.549853019980958, 21.892283066069837, 14.752144044718934, 21.4598661342949, 21.715297689323663, 18.706937990706617, 31.30161436411103, 17.397055192265523, 18.27472657528143, 20.06683002895968, 22.815140622777424, 29.251418375433897, 20.646644979748423, 27.373579861884604, 20.865594971179128, 19.270849697845644, 25.05723204994797, 21.132812499999996, 20.133697242988802, 21.970698075265727, 22.980266486759994, 16.27121617472918, 20.04414215575875, 17.56677627133913, 25.646474071747306, 16.128863334066462, 18.00706882143502, 21.378298016485378, 18.459886108096622, 17.33007252487772, 16.39092594560763, 20.846682899739417, 21.773842357381334, 16.718247768412464, 20.690494543389182, 14.27886408439448, 20.51489320007839, 18.022892819979184, 16.617063492063494, 18.730489073881373, 27.403338919994038, 31.644317867172973, 27.366863905325438, 20.08078036884621, 26.02337122038446, 24.004754222594542, 18.186788881887953, 17.7019053195802, 15.043199859655276, 19.82855311648774, 19.87558350559486, 23.570834759645955, 22.832879346258608, 16.162364640196138, 19.591836734693878, 17.287629019083685, 26.11156915910887, 30.497576546464238, 30.091151282548566, 15.402473695398028, 18.6069112484553, 22.4439269758832, 17.45013288947354, 17.55374336675015, 17.938646371357645, 15.855869758111183, 18.587892133032113, 23.94473699092868, 29.75194757036926, 32.55770313379622, 21.103519828699465, 17.587352705921088, 24.479715322685212, 21.787299001486666, 19.496405585456735, 21.951016712705908, 18.95369117034569, 17.439737034331632, 27.046492878258537, 20.10405827263267, 24.391259105098854, 22.7189744005842, 22.712983303503023, 22.415997078159243, 17.325009426172898, 18.56044989564277, 13.559322033898304, 24.19992003504684, 21.34417048015846, 16.843821481549035, 15.777363676013353, 16.97867176982656, 16.412929584657785, 24.484299442982188, 23.61672442615268, 27.99672813801309, 19.629273685466803, 26.329668546391336, 21.135519830915843, 18.94600186620147, 18.030655855754755, 22.905204707611595, 20.936524453694066, 16.52445369406868, 31.124724111526504, 19.646201873048906, 21.270629706777758, 15.096418732782372, 16.24499944740371, 19.79733533495966, 15.602182059415837, 20.452269516016997, 18.740425018860552, 23.257541194071024, 15.168665614972513, 16.755243620430846, 17.433538307996752, 22.558610220947884, 16.08880629859651, 22.23882676257899, 20.277147896195515, 21.18931341568515, 16.442387129956685, 20.100664809302906, 26.685286102064346, 19.08809740431049, 14.403559109917277, 17.943237259055486, 16.481739821324638, 16.481739821324638, 28.711234548493728, 23.621138905114428, 19.58876622945572, 18.484788371715574, 19.06090474742582, 21.4086127547666, 17.3252640322772, 23.307156659440093, 20.801209372637945, 23.40964533683618, 19.414062499999996, 19.929333402045923, 21.67140503772984, 28.139900693382717, 17.85865951612512, 20.964281681659077, 23.269268288648693, 16.952419926237948, 19.47089947089947, 18.206530371601094, 24.19012176188548, 17.21994024813535, 21.825277594161673, 30.50128115947133, 17.105068310581416, 18.034894398530763, 24.316109422492403, 23.152110265303364, 21.632761640592776, 15.622618503276936, 25.17012088132653, 28.393498154992777, 18.416306224013628, 28.613860263691908, 20.336094674556215, 20.417296353599916, 20.196232839161276, 22.304687499999996, 15.934042462300823, 27.17364932405547, 21.512044519547032, 28.357322862774716, 19.098146606267292, 21.045425948697417, 19.60127371905676, 22.030817174515235, 25.695963317502205, 26.015624999999993, 21.549831633539963, 18.79064767535609, 21.70138888888889, 26.17741197988111, 16.999399402882503, 18.5573215911058, 20.047973106217654, 20.361332106372817, 16.67730563750438, 19.075661704585062, 25.91949628343701, 21.985288603780795, 18.842116077304713, 23.48979674631831, 18.253854256439723, 21.972588013974743, 18.414128564333392, 22.617187499999996, 27.43414946810484, 19.433401075754034, 20.70495923934264, 19.616568047337278, 20.01975644049505, 15.718886643880019, 23.813347878425507, 18.21161901293025, 14.255427244801059, 15.616832342459778, 14.844444444444443, 14.838287812484284, 18.08964016212905, 16.331992651999204, 21.327204826199367, 26.079906310526553, 26.01021051985058, 19.58122121981931, 18.037447309087344, 17.518497007651327, 18.249959263483788, 21.38157894736842, 18.41992964465918, 19.203684604316095, 24.43417082002394, 20.056703412795056, 22.577319765644834, 19.764957264957264, 19.473406629072173, 18.140589569161, 21.449704142011832, 20.803964287239953, 18.56821329639889, 17.428049793550546, 20.025823398409987, 26.372564906695136, 27.211507161458332, 19.0336927934921, 33.79537312754835, 23.5354614137099, 24.11472520429418, 21.264064435989287, 20.54325611111641, 17.319202885682483, 22.993972353470294, 26.537488292577997, 17.055580307418133, 19.02155452683883, 24.055621653777518, 23.124670372023203, 19.084487677119537, 21.226233789181048, 16.33169676122039, 29.051566130822227, 20.37779635309367, 25.890602194694566, 20.293715935150892, 25.065228728796136, 27.469192712347567, 16.799999999999997, 21.628400190494705, 17.151305109639523, 15.21839894485767, 13.572552238295541, 14.773776546629731, 19.232746528007283, 19.19301408107738, 21.333072069043304, 16.86472484914872, 19.70791024141769, 18.63953335380027, 18.828431324377707, 16.276041666666664, 19.610695284235554, 21.31886841361108, 23.80309401643455, 20.042264997270323, 21.68682380735053, 22.700203069417306, 18.984337921215, 28.447907833448582, 28.352807544312267, 20.27514914494865, 24.657802708663638, 27.529361278333994, 21.48586618972983, 22.73620559334845, 25.347405904535375, 25.492874854947818, 16.275604714220513, 18.406644520385658, 19.722473047694542, 21.056855890209313, 27.15552466706119, 23.19100940093295, 29.708538021623575, 14.703761886331383, 16.849553672213972, 17.163003503467298, 20.22544850747608, 29.048916792149367, 18.040670237377796, 20.16100891892018, 22.308149910767405, 19.24157555251344, 21.319919162326386, 20.34053478490183, 16.382358285154304, 25.606906548509084, 19.402223075025354, 21.616617838541668, 17.57493610226248, 17.008820853605474, 20.46679056824241, 20.546742916270176, 21.557691547011586, 22.819490083424608, 19.392267434784372, 20.292200729196576, 18.329262226313947, 15.943877551020407, 21.40796827113755, 17.153840737450352, 23.4459205587533, 15.005816687705746, 25.74210347924005, 18.212878964374855, 21.426412945197097, 29.861740546449596, 20.016627308819714, 21.05761228489355, 21.000049307548203, 16.39388657945183, 19.260079209683163, 20.003043264558922, 20.788411187929373, 20.882599107237755, 18.278466688027056, 18.39557415020005, 21.449704142011832, 26.078892305142542, 21.10602828714625, 25.243781881621363, 18.905096029735738, 19.188070502453332, 18.52577459870386, 24.234971758764427, 19.626544096523986, 15.800068662026778, 17.333743238204875, 24.520483574693493, 23.814353523469514, 17.75858272303004, 21.757812499999996, 17.78987625684134, 17.09246661627614, 18.51239669421488, 16.513301749271136, 22.305081317720596, 20.795847750865054, 21.73233471649473, 25.597695524797558, 25.269086840785462, 20.24365229226773, 21.808863825529087, 23.189839452830405, 24.64870058480613, 25.135358026462043, 19.991038781797606, 16.666637115891643, 27.39694114084031, 19.928154217806895, 15.333820694895547, 15.111507014920624, 19.733333333333334, 18.299615892167026, 21.136319486668437, 17.982971063480782, 18.461734342008935, 21.329912182712658, 18.616988267751303, 19.49666375133892, 17.916330735465383, 24.60020887539315, 18.960666760039498, 18.314774361979858, 16.10208986798904, 22.81259492871262, 16.57911017282332, 18.093897856630964, 14.770798975891266, 21.718749999999996, 19.75578923417105, 18.26224750104123, 19.824860795455738, 24.718171646279664, 19.91483926397501, 30.365478438401595, 23.916582564398315, 25.038559381447428, 28.503213957759414, 24.812497460868983, 21.23593947016916, 29.44791355339223, 22.093417140276266, 18.240320819685905, 19.256939862380992, 18.899841713825648, 19.107514821342733, 23.434343434343436, 18.959134687456462, 37.79924234753942, 19.609749506048534, 14.981520294716464, 21.093061995352738, 20.599087699033202, 23.349671290787203, 14.119315821399345, 18.802595871823687, 18.38599701554314, 18.452021940661222, 13.862140725258076, 18.43653818207057, 17.383916609482732, 26.207914790266656, 19.971658509256645, 17.508704916114763, 18.316326530612248, 13.704138649872258, 21.151559498765206, 16.910747652211896, 19.352990482657642, 24.456503214283288, 24.165546895995707, 13.247640205366608, 26.650175446988353, 17.93336268398695, 17.30960421663931, 15.756838804947439, 19.155908261766616, 18.111481254616905, 15.89087418877087, 19.539466564140614, 18.75032538525614, 16.692377674933745, 19.35404339250493, 22.899103029114794, 21.973152469873884, 27.541739981800006, 21.30789951666459, 23.557341124908696, 21.394560834327113, 26.224731378619563, 19.026426726821754, 18.366102728242645, 19.83167344179111, 19.673833130339933, 21.42836346696946, 18.361610213061446, 21.436004162330903, 20.130024118519575, 16.597298922308006, 20.760896951373145, 21.477627471383972, 23.10035204303627, 23.348717354402858, 20.44523142359051, 26.725538848927236, 17.11289228129148, 19.050989694929086, 23.906249999999996, 24.082793873756717, 26.76030377383696, 25.73670379410637, 22.414548417865774, 24.168312456600745, 23.540740541650194, 22.816528608034396, 22.040369717932702, 22.797418630751963, 17.428601492134167, 17.14468835122576, 17.84034024615153, 19.25080050923961, 24.42742380458061, 20.40734024563902, 20.06547849424842, 21.58556106164154, 23.387552837657793, 30.17377718563391, 17.221474824023602, 28.70838438756473, 23.049415590536334, 17.91186615523866, 19.438105708557757, 21.325809814242895, 24.485969295083525, 17.37540009144947, 19.722232677180173, 23.151020408163266, 18.33184822157867, 16.651425087639076, 20.27368257483053, 22.91183562605667, 22.240376899715677, 15.742808364169367, 13.640456640517687, 22.664194970727163, 20.069681000766685, 21.23048668503214, 51.021511187979684, 24.536016048464244, 18.70748299319728, 22.265624999999996, 19.886776019741617, 24.05876951331497, 22.409763587598142, 17.691971260009847, 18.506649575388558, 25.356512975560594, 17.399020099533196, 23.23043764485206, 16.983231864134144, 21.933746720256284, 16.694696616154054, 22.11202938475666, 22.680594726859997, 23.66780045351474, 25.571701798712716, 15.074774804213096, 17.426323718888266, 19.32345389847304, 17.286165243625433, 21.937577333905715, 13.903718531696017, 21.186828839079222, 13.52813312959991, 18.09404032617956, 22.971015726828682, 24.75170815330238, 14.807590880593898, 27.225967863984355, 22.148384449977367, 21.282840236686393, 20.056703412795056, 19.964126837974174, 17.025268375779806, 19.351697837640472, 23.833664932149777, 21.94280078895463, 28.077015149960673, 22.29080932784636, 21.277941675436626, 20.997698882314264, 18.5129297095496, 23.365741523947896, 20.880963267794538, 19.757393809079478, 19.758369597170216, 27.52976190476191, 28.29179008336289, 18.185428848078576, 18.850965470245356, 23.494818546696987, 18.81373569198751, 23.337684427040067, 15.920354370422348, 19.858435859207603, 18.684345576606866, 20.179346778673374, 21.168090590805285, 16.095785272575764, 22.600262984878366, 17.82824787624123, 16.95928916228801, 23.2258064516129, 19.399201785485825, 15.857512209135304, 23.802865739756825, 16.16993283748369, 16.98096520277906, 18.65548980933596, 15.64344746162928, 21.89443893043504, 19.120027099251008, 19.635685017647774, 23.9451618573009, 21.272035031489555, 16.055175532817003, 19.746681450225815, 17.48178980228928, 16.382692824509544, 17.116726653727053, 20.793544699779257, 15.622049344653218, 25.0177572928281, 21.19793466763021, 19.10573902684357, 22.300172878638527, 20.07746725804921, 19.823355943928853, 15.060219049794757, 16.866250632484398, 18.184743229787333, 19.865496055972244, 22.2361016189844, 18.426534209261334, 18.295330362350178, 20.749879826950806, 15.805565059988302, 20.781347654886957, 18.83338876923804, 26.156398287103116, 18.922619832789998, 18.922619832789998, 15.637876886753928, 19.626159489915665, 23.17855547931031, 20.427409646986373, 22.510977645521844, 15.299290596051833, 19.059524159622026, 19.105659402686445, 22.61456893106755, 21.328124999999996, 25.27878374986554, 24.678617100038142, 17.946959304983995, 21.237738351063513, 28.384802161348794, 29.007852558356344, 21.35835176574853, 23.637763383298047, 17.420525258114726, 16.966425370510795, 21.97772923437583, 18.370523006856263, 18.480000766805013, 29.51088523644752, 20.971956911211382, 19.624038451969867, 18.72449346150367, 23.290852898093764, 18.556681267912086, 16.94478426988481, 17.038981119791668, 22.725428130833535, 20.150849424643493, 15.077288941736027, 14.533333333333335, 14.615036069822791, 16.06345367284807, 18.693224892847766, 24.605920799692427, 14.981770132981627, 19.81379465639246, 18.210630710626162, 19.843011564882772, 22.326163411473413, 23.702896796578717, 29.703002928279396, 22.499066489299636, 25.076193048107708, 29.034364813535664, 23.348827153821208, 16.835859863482764, 16.512368246891523, 18.81246977628211, 18.435677367586756, 16.38359237301714, 20.270042461473718, 19.121968334722162, 16.576414659250187, 17.457988165680472, 19.05965148180748, 24.751222803170858, 24.3376273454904, 20.283561793450932, 22.11001401850984, 28.236439612154648, 21.24124836833986, 16.793628808864266, 18.747648481590975, 15.412596470852296, 23.588608133123145, 20.2178955078125, 23.148112953668807, 16.593180061776057, 20.16308978051848, 21.71868231523536, 20.226055919095778, 17.52803743275791, 18.931505811972286, 21.945433623964995, 20.78276164388738, 14.56875858992474, 19.46784508901175, 19.890260631001368, 17.824320877021997, 41.32812499999999, 17.70864656749539, 16.296435940134685, 20.884813018889385, 16.692615981212594, 17.7591612776798, 17.238420740260292, 26.749196429459943, 21.528730376467, 16.874502262882896, 21.526832955404384, 18.442906574394463, 17.98550758136094, 19.955269787645523, 18.028820046310173, 16.4254049167293, 27.03905325443787, 17.66235207780135, 19.43301326017375, 20.716253443526174, 19.240423143271784, 18.253877155392306, 16.992187499999996, 22.32607477761757, 14.996449704142012, 23.545662203183774, 15.023489280320032, 20.411979405311964, 22.6872427463953, 23.28164381220898, 22.32384428482, 15.623405774920926, 17.47851745282666, 21.929815538570345, 25.86508875739645, 18.769513314967863, 23.752438117912696, 15.947584158269564, 18.763703828638896, 18.69463436443753, 33.59164063525444, 19.801490062127172, 17.8905509001836, 22.363927105599743, 22.320562448610048, 18.456234829222147, 22.147828575008703, 25.445587441020596, 19.38097176192414, 22.083877928964327, 18.391492531963017, 20.55475944907403, 21.643587361870196, 18.641162993332607, 22.77971341291789, 20.141508025754064, 16.01880326990281, 22.60829648891094, 25.64167191766435, 21.954003922448702, 15.468819999853116, 19.18832485023197, 22.231928618023346, 19.838533003367274, 20.101841887101354, 22.937395843544753, 19.279990570993288, 18.10490900429108, 15.549076773566572, 21.944110205132155, 18.481648199445985, 15.624999999999996, 20.30803188994313, 15.315767138613479, 17.6928233027905, 27.755792991250058, 22.689454157090495, 19.283597295347494, 15.889346136259714, 19.526975843784193, 13.934648858657784, 24.613247945681103, 19.086430102766332, 18.442545824080696, 16.75468949189583, 26.77900399509513, 20.512627498212204, 21.177943532557375, 18.136623946756938, 20.65403643484759, 21.305265838364335, 27.085948588074107, 23.19339849383111, 17.282495861740035, 18.031520221807774, 19.687335118568384, 18.351031292497712, 19.353060662046158, 16.468373457502715, 24.853533996237573, 20.432816356615742, 16.85991072539075, 15.262488487347046, 14.934601664684898, 20.767095560813956, 25.107779737409373, 24.706037785704847, 22.515309439931677, 17.027717339892156, 19.685675186359422, 23.156163434903046, 22.259943675012536, 18.551874766143698, 17.912426035502957, 22.07191171235315, 23.933402705515086, 19.882316478796774, 26.718474603428934, 27.465617266420544, 16.77225272032154, 31.916895630245776, 16.22825111019437, 19.44767911329463, 24.58092241268345, 23.680960303769563, 16.70909677650687, 20.181759907362416, 24.589689117762145, 17.38647528728267, 18.843071442262378, 23.923016449561644, 19.115156350606092, 18.788272289917646, 14.723522950630128, 16.25611455588718, 22.89812548757756, 16.63766776492294, 16.529666312117303, 24.159749348958332, 20.5485494845925, 18.79618949976505, 25.05723204994797, 25.468038455051442, 17.920391297014675, 33.320517749583495, 16.617501454541745, 24.39066687775409, 22.57990838884769, 15.528330673833324, 18.356737792540475, 31.122878534150086, 39.231378826040206, 17.174162557310034, 29.548837356327372, 27.678446101162386, 25.80514561898384, 12.846860741828841, 16.066182886987047, 23.129556477095363, 25.06612036073534, 23.16527882289289, 19.58122121981931, 22.05738087491028, 17.815465258647077, 17.294740440313745, 21.208448753462605, 16.353078937127908, 17.97941608905692, 18.863806142168176, 18.136878913893966, 23.731728409472918, 32.47605754481005, 25.75821995464853, 22.826880934989042, 20.907197083508603, 13.792456370801277, 16.361228587295482, 25.76482830385015, 16.066600979406886, 22.80561096941997, 21.317302484511572, 17.514756375139847, 23.370590796922635, 24.140003267287454, 15.701648535764045, 18.963066198605397, 24.843749999999996, 21.781450872359965, 22.25643054325298, 18.070982356325096, 21.776515560971294, 18.95115789413004, 14.802608391904144, 16.56555136767396, 24.925826727628525, 19.520443724339, 19.480519480519483, 24.11650648045557, 20.080876117728412, 24.3046178773967, 19.424760686948336, 25.60464584206655, 16.966726364407577, 21.785887131558976, 17.311417713789062, 26.450880081712434, 21.715297689323663, 23.354326368545156, 22.643080124869925, 19.650075862873877, 18.356737846522737, 24.098270475959772, 18.39737120338332, 21.601562499999996, 20.79654027153508, 24.238774511648916, 16.132231404958677, 21.325809814242895, 19.73814326964914, 21.691788926707346, 22.810437399541744, 15.071395516316777, 21.043688527268568, 19.388193843496328, 27.804324620380154, 29.072000045035463, 19.46125548831138, 20.980102487386024, 23.446977416756436, 21.042680578411122, 22.321428571428577, 21.643800651394386, 18.906901018871892, 20.75841099757731, 20.59959040523514, 23.556782982922616, 22.103925288732523, 18.126659207271754, 28.03917452378127, 16.884661117717002, 21.791640411678223, 20.73567315280561, 17.83644772132758, 20.579895728528307, 26.32892590157547, 23.62353609090489, 18.48001631855618, 18.43298666750453, 18.27401704593769, 13.170251265489362, 17.494774024409697, 30.008121958757698, 20.811014597121925, 24.7404390573263, 25.53561035097606, 20.820312499999996, 18.121301775147927, 16.54776060245739, 21.39644191806905, 29.001974947920893, 18.789062499999996, 24.015935807872516, 21.201104684630355, 19.716824211935574, 20.943530767605115, 14.568758769616576, 19.74032369031876, 16.709449214261987, 20.977777777777778, 30.247835517352755, 20.776092438556216, 26.373007296071755, 19.58833778534178, 28.114110103151127, 21.88367982493056, 23.60806674525093, 19.44027898589328, 22.270848191803637, 24.023437499999996, 22.672075343057866, 22.594888959524507, 18.36547291092746, 19.50209364867685, 20.50071729372021, 18.31291903977065, 18.697248177755245, 24.713206874811547, 25.603030357945237, 14.504782064144838, 23.711194935830726, 17.52561819693542, 23.527034937431043, 21.866666666666667, 13.650416171224732, 18.97888880485145, 20.244868304293618, 19.455492384762938, 22.539256182156002, 22.04788816180845, 25.153150229218223, 20.863742612459045, 18.25462780345765, 16.607700312174813, 26.298487836949374, 21.436218370219596, 21.399469957675723, 22.623822296737508, 23.35435945165173, 25.623268698060944, 22.374669884830823, 24.643449833422746, 24.126141116212004, 23.000885351539324, 18.101366926362406, 24.791182753916782, 25.476660092044707, 21.94211443853196, 18.802581202401814, 19.49983668886773, 31.808999081726355, 23.106260744606075, 25.8811990491783, 17.107180020811654, 18.59690844233056, 17.79708358532136, 17.45146539370761, 20.508378865114004, 21.72161455171577, 20.29191883232467, 19.297399236875574, 18.78618068914494, 18.293593794886526, 18.77695861923217, 22.442128471721954, 22.887500417655115, 18.830316471756, 20.27235568189712, 19.089896814084064, 44.234846291184596, 20.094327022538135, 25.743583073187644, 22.5180802103879, 25.842515452835265, 20.885975763474022, 19.62826470116968, 17.066623115475306, 20.439370770185775, 16.4254049167293, 23.648778982292345, 21.05062122675042, 13.95773613541571, 13.48020723303657, 29.19749501275221, 17.641754519707963, 19.560545590105697, 16.615454858432642, 24.631853646845787, 26.465028355387517, 22.028471123799235, 15.62439720689788, 19.492187499999996, 18.397502601456814, 16.80214835244593, 17.76220692358576, 24.38652644413961, 20.266666666666666, 19.585463842220598, 27.425349224657186, 20.16308978051848, 27.055150884495315, 18.327998780673674, 26.986337460950736, 21.63114885435026, 27.55350506215558, 21.56087408949011, 21.43856930026913, 24.092970521541954, 18.74927664827746, 21.37864366448543, 21.0828132906055, 18.672119131206355, 20.7625783410945, 19.540863177226818, 23.099538697297422, 22.448508007797663, 16.051927547037412, 18.743135044513814, 22.187499999999993, 18.33995311933152, 17.019225513434005, 18.27023699599877, 19.6403007194995, 17.17619212199286, 18.976162483023508, 17.43337380043935, 21.501690671639945, 32.5301775147929, 22.848474569883358, 19.755361408352343, 36.72324608650925, 21.470607256030526, 22.445518933157246, 21.484374999999996, 20.574430923818902, 19.674897148096075, 16.074735873452223, 21.500866436352805, 21.542456083411093, 20.70084645410289, 25.505651397977395, 22.13496110001096, 20.51445578231293, 22.662993572084485, 37.87537505631157, 17.542393771868237, 23.41092305233229, 21.867590048552827, 22.10028959000152, 23.05236052371923, 24.163265306122447, 21.217744476734012, 19.635184618349598, 21.527823679320804, 25.388742413650018, 24.36836771540728, 17.885350610105082, 21.355519558320314, 15.169337513659858, 21.292981750255446, 22.643868096661247, 25.746602332917327, 20.075585789871504, 17.37465356512976, 15.332391022007247, 23.164062499999993, 17.62405256160169, 20.060863904071226, 21.939111675767673, 20.22217946459007, 20.796857215613393, 25.430847618160836, 23.484021832837573, 22.431090568219897, 18.805869455220105, 16.006585566633127, 17.11692161206916, 13.7640902080248, 18.251804068245395, 17.86194498758575, 24.996370836860557, 20.933776802231403, 29.3622816856273, 17.127022032216747, 27.198334988884167, 21.860872687512288, 21.69444126054365, 20.14022457739385, 27.65641187333904, 18.283984045185896, 21.082450300758726, 20.70081674131507, 21.097947497407855, 18.98422090729783, 23.46423333876487, 18.540305894762465, 17.6056338028169, 17.984535862275195, 21.490184414039266, 19.10102884128858, 16.421888552786577, 19.10551454624403, 19.607243165245183, 26.1959426399187, 23.02539997021671, 18.19824535910364, 20.629701364803385, 13.94485804703686, 14.77410927435701, 18.078889700511322, 16.86846606189068, 16.976307440927755, 16.929082057804482, 17.65535973856487, 14.429191702118327, 19.071414574060082, 20.383648519703115, 27.644444444444446, 18.534109578768692, 18.865012923884105, 23.885976094853778, 26.433207138994053, 18.471476266511832, 15.5975474201298, 19.862870562947187, 20.88982254557169, 15.255239221220036, 25.639958376690945, 13.333333333333334, 26.861105321837524, 22.578124999999993, 18.963062691643696, 17.401798770105962, 19.13061961951323, 17.945041436732048, 16.520894071914483, 23.993087440057135, 21.176470588235297, 18.524844854424344, 18.050670757649584, 20.083082691922787, 24.24371016341898, 18.90359168241966, 23.00591981595264, 19.529257218651157, 19.86668975069252, 30.30275034413947, 17.908855357415025, 20.28479857195018, 25.390624999999996, 30.477966223242138, 20.77900315245965, 19.792399718508094, 25.585937499999996, 28.246192657230594, 24.401417486213198, 25.8811990491783, 23.072001204411155, 25.616941337204338, 27.81210311003407, 21.436004162330903, 21.109586953208346, 23.244594535327398, 34.41079872148209, 19.148284313725494, 23.147255121330193, 18.59103674696412, 16.57582991757128, 21.548575602629658, 17.403055976629496, 18.60774705268042, 24.81471054797447, 32.09420077593989, 17.729764759647054, 24.47776518003906, 20.205903712247427, 22.00142678425575, 21.338210638622158, 15.621900416584012, 23.121193026675066, 22.39136782511737, 32.32833234461347, 21.435806947031338, 21.56106519742884, 29.480968858131494, 15.18883629211864, 25.9729448491155, 16.403483820755294, 18.441660516251474, 19.264624515869425, 29.7372911931836, 16.167043142909417, 19.823065211117633, 27.338663736979164, 18.288671549493444, 17.394938749514875, 17.986375991320006, 15.900104058272632, 19.07807984737536, 22.98436179384103, 27.091906721536343, 22.21453287197232, 22.507021083026775, 24.71048872564024, 24.064978507572807, 28.450637194529694, 15.342649075130748, 26.723154635815547, 15.178860659910223, 16.820420871588418, 19.341464012618257, 19.92349856634825, 18.950598262147743, 16.246659768339654, 28.84961860728182, 17.576875305807523, 22.630430470144812, 17.32121663594354, 17.084480189894197, 27.01788938610336, 17.874664983424584, 22.359580757860794, 21.24464600655077, 18.50368900699377, 17.275929610084084, 23.85703587249758, 20.742075549463717, 18.186188110879662, 26.132812499999996, 18.14212519492092, 19.140120294052128, 19.218749999999996, 24.632067035646834, 21.4624207321261, 19.05790671656186, 31.80398208438406, 22.782087472048204, 19.06745713827912, 21.285621106821893, 20.781179204451654, 26.90314759681292, 22.24007479927198, 21.871494952731933, 18.308271878713395, 19.755361408352343, 22.163327108423243, 16.548441756084088, 20.435353545035415, 26.48891966759003, 19.700000103684214, 27.235647559317574, 18.743153880481966, 16.608717561098516, 18.775653684308477, 34.180001914358556, 17.302137891958377, 15.244444444444444, 18.253254437869824, 18.16901264685768, 16.522790675399, 19.154802346669005, 17.732006345182818, 28.002572296590863, 21.449633112880957, 17.956766743727574, 18.37546099584075, 15.902900176253803, 16.434366630966693, 19.790321339685434, 19.32882184578458, 21.46360887914942, 19.35463859968363, 25.224913494809694, 14.839302112029387, 14.651176918321475, 18.94683799445704, 18.08646627918875, 16.970777036502174, 22.99461451247166, 17.717452394613424, 16.19227605626094, 18.825063021786846, 21.265514293295073, 26.02337122038446, 24.6602070503922, 23.14780307058299, 19.46360976133587, 18.272632674297604, 17.59492417383431, 21.279102021894673, 19.32976916620958, 20.554391754520445, 23.766909469302806, 28.999457254546893, 23.90376925516632, 18.94584326529522, 22.04036480814569, 17.589654468827614, 17.699401275075648, 18.99910767400357, 18.818941377863933, 17.223366001580846, 17.753186915980855, 22.770898415446574, 19.717853465177146, 21.14917654849399, 31.377782605659483, 28.068632977159105, 30.859850632080747, 22.617187499999996, 24.690405462752206, 34.624700456079786, 22.717707376798284, 26.63835923730171, 21.711934326568173, 27.395455128671944, 21.38471130993198, 18.70496346686823, 20.132348307132105, 23.131277150031273, 22.394471595790876, 28.78306878306879, 19.623688402779155, 17.795413829692578, 16.137708445400754, 24.448309099516383, 16.732986429956124, 27.603193477153045, 24.39512898573946, 21.35510862846547, 24.40390742621057, 23.023575147127268, 18.841230668813225, 19.797963406223374, 23.51764333615736, 24.54417006605349, 28.467897906470018, 18.173385056501942, 22.559171597633135, 18.696581196581196, 17.010041551246537, 26.609712545078956, 29.921874999999993, 21.671206537413873, 22.558610220947884, 24.960937499999993, 16.562499999999996, 23.600416233090527, 24.69653925619835, 22.375590538940834, 19.10493171217324, 18.863806142168176, 22.332880639806852, 13.600084015963034, 23.73323840037973, 16.84501980174544, 21.141507154554482, 19.611243228960234, 13.983200040239426, 16.289616012127283, 21.049036014076634, 18.684345576606866, 18.843308885040216, 20.54357220208158, 20.619283251385347, 18.633748745594996, 29.543632300417652, 19.868755216935728, 22.981703691148883, 27.73677797699829, 18.487345168484214, 24.12090853219315, 22.881993181247893, 19.967153063930564, 18.925752502896728, 23.421891405189765, 27.754859375379166, 23.674242424242422, 26.641378009788383, 22.421874999999996, 19.63069150333373, 29.960937499999996, 22.699520961833493, 16.53861890630893, 18.37546099584075, 21.011153133417373, 21.059589864487393, 20.7197873969641, 21.530180699730874, 17.263547751459374, 29.903918350053107, 17.136273643471547, 13.808231283928794, 20.44707696052578, 17.506389832288786, 24.082237856879857, 19.206276989148453, 20.29191883232467, 19.6771821714926, 17.625231910946194, 22.262276881596076, 24.09638554216868, 21.008881215041203, 18.718596074354593, 19.32960575972045, 15.527799613745984, 18.61041466546913, 20.614235634811763, 22.345330160618683, 22.849875005482215, 19.532237570727908, 17.679708284813298, 22.377937053655256, 18.463081025523078, 25.164418871953917, 16.806134238997235, 23.537191990217632, 23.04234741546931, 38.528530283610934, 18.0285244035199, 28.381215854471634, 14.068212318941182, 19.015573007723482, 22.746573501746845, 18.481648199445985, 17.920674443552755, 24.614478552433802, 16.071428571428573, 22.08959646143183, 16.8320698059599, 18.62682262457939, 29.99864870951759, 18.43948278263953, 21.17462956623796, 15.151515151515149, 18.39531792534722, 17.964866437342426, 15.838980738700759, 16.518737672583825, 20.45143125933097, 15.480324074074076, 24.992070944832427, 20.827761091339074, 24.046778456260224, 18.7328133787569, 25.58266430274916, 21.69342460882515, 28.829419545938688, 17.441032314874167, 21.446208112874782, 24.297109075329658, 18.125534914936985, 24.044911464349397, 23.204184752096296, 14.349429786593396, 22.322702510636653, 14.606066749725047, 15.3063462128854, 17.866666666666667, 19.458582946714113, 17.636657488509567, 27.02595939222489, 18.814306210726205, 19.570312499999996, 17.375315062208294, 19.192190334657337, 18.661646188400052, 27.58319691159757, 18.41660488054704, 24.287013963055255, 21.373168629704107, 18.53829137559469, 24.88746537396122, 20.269332222684994, 21.80425612937601, 26.81007620154841, 16.510532581129343, 24.31856040912901, 15.142867127165136, 20.894620865538414, 19.784732687063475, 18.27985723677416, 18.881021796473693, 21.054687499999996, 18.297149016735535, 21.679687499999996, 24.073301868904657, 17.8016662187584, 18.108578893888808, 24.218749999999996, 24.167234393488474, 30.969384348527743, 17.306652244456465, 22.040236686390532, 14.987057022960684, 21.183281435024778, 16.88565204887935, 19.929049439372648, 19.599848238926082, 18.49301091725334, 21.980503594414543, 20.706899093558636, 25.784143391090755, 23.182921079384272, 20.32614687650325, 26.579919357380824, 14.670965715394352, 20.78765390453702, 22.823464261698508, 26.9115069784142, 17.822222222222223, 17.118809075784107, 16.04686819567426, 22.13862353006649, 21.980629813125738, 14.67790525618888, 13.09908446068132, 21.346037217913118, 19.60592098813842, 16.76213797425919, 21.472265593428684, 16.400256394848064, 20.72492602795633, 21.43508056819512, 24.369331643726333, 27.86569298922486, 27.8584121588062, 19.81405273586343, 20.963565489886843, 18.185750235923248, 15.330599877355201, 15.29818651472508, 19.187464815162322, 17.816650469711696, 16.755555555555556, 14.58382561436673, 17.213287976603567, 20.913171261266058, 21.030039048057063, 18.918293108539824, 22.98213449883104, 20.239502166670004, 18.116371978956526, 17.26534012188799, 19.706888784518206, 20.863742612459045, 19.74761895512435, 21.636593557400385, 16.99063059794742, 15.663762856182068, 25.95217478137286, 16.50107008819181, 17.48245087875772, 19.4250116928221, 18.019652305366595, 18.945312499999996, 14.62727504857439, 19.172738706651444, 22.960455813854793, 17.505221896701386, 16.955986807415144, 16.181298185965005, 20.563482071587373, 16.428340043500395, 15.66297596543343, 17.4719125122816, 24.13466738777718, 29.603964738388665, 15.02222222222222, 24.151662049861496, 24.72424557752341, 31.916895630245776, 21.01186847861164, 21.08302677900399, 16.765858615183628, 36.250743604997034, 15.251488691543448, 17.96823451786219, 40.95659760897007, 14.384920634920638, 21.701060323900947, 31.565200210113385, 21.433357494365183, 17.63681230947888, 23.185833879865744, 21.14917654849399, 22.256537756799982, 25.148853772384456, 22.2684703433923, 18.22120792655376, 22.39966684439172, 21.02134381783556, 15.281150700610793, 19.617908656485955, 27.03308665307526, 22.509109512921945, 18.75314950790622, 22.423544969082247, 19.120229937181357, 16.108503631689214, 25.690120761755274, 23.50684519332029, 23.873520559126618, 20.59283926153053, 21.442237288314434, 21.704734471986693, 20.854138637182036, 23.74581572893107, 26.292568117227397, 38.45844187958984, 29.736159169550177, 26.35907155071943, 19.56657356745496, 21.51813614967762, 24.973031608976243, 19.227141998657753, 20.078124999999996, 24.736268889198588, 22.8095733610822, 22.38022654046604, 34.43847535270159, 19.52688744882429, 17.404374826945133, 18.18299173972661, 21.6712580348944, 18.507078957701317, 28.424821217614006, 18.528308365446232, 27.313845713270396, 15.233053228283534, 18.58909930440148, 20.709822143887195, 13.704435630611332, 31.437850354197053, 18.72057424024298, 19.52220860694798, 22.902477462584585, 23.809311650701716, 21.019771071800207, 18.044444444444444, 22.443225118122232, 16.808843081880028, 15.372581029146682, 25.01824632071027, 20.110574071675455, 22.005065025493582, 22.50377940948746, 22.99748787645186, 23.84178386933023, 18.012247551945343, 20.614306328592043, 23.630386834224915, 18.35236236102767, 24.92735944738357, 26.636667150529835, 19.896364858985006, 21.96459241643546, 35.949339085227585, 18.352143338153127, 18.374195037524732, 17.76798649441458, 22.624397297532145, 17.41350403901844, 21.68226451839197, 19.9986955287329, 19.35402260077585, 18.27347195967234, 16.08888888888889, 17.674663391956493, 25.430772933094556, 23.117478943322638, 22.685107100691514, 22.95918367346939, 18.961927424152293, 17.572714681440445, 20.083526667282776, 17.558191462710628, 22.3710680067635, 23.674206782340324, 22.61456893106755, 19.049713500399566, 27.06978738172279, 20.807722601144036, 19.351531462258105, 21.961275737591876, 20.198651759797634, 19.434185521173223, 34.49988043362739, 21.57392948012204, 27.807547943823543, 27.843001499057795, 14.402206986084627, 18.660182183626237, 18.558666122055698, 17.295427521349044, 18.614398422090726, 18.92534330572757, 18.048847974633023, 29.51642126883, 19.14884985192097, 18.124092252123408, 23.94313505424616, 15.12880633175791, 17.184674835742737, 14.658724618184412, 24.554858708189165, 25.558075081884606, 17.2440631850565, 18.764222930765182, 22.020998823267128, 22.41946616259073, 31.205698738212007, 26.23817621426295, 16.778735315043154, 23.107049990201443, 29.623043862628073, 20.619733453124162, 21.822498173849525, 20.15996247516148, 22.744353467030574, 21.241191125786845, 18.5992135189712, 26.00822709224347, 18.671874999999996, 24.269378600389153, 20.139150127864603, 19.959901982624192, 17.334341143864954, 37.92271686563328, 31.765878166077055, 19.91535138880289, 20.41157288024334, 20.977420414174688, 22.024045075093753, 21.130825953882518, 15.65186687456698, 20.645775623268698, 19.95009359399378, 23.403620847989963, 16.54756965673858, 17.924352158489008, 18.685180348926192, 21.91380569758948, 21.958495824332037, 21.87894989988926, 25.332137212183348, 21.60719277836395, 23.801652892561986, 22.677851749821446, 16.34200053386396, 24.15009197722967, 19.370930018148115, 20.854138637182036, 20.04391472569302, 19.101211944080557, 20.239572394610118, 30.548580815802975, 17.280530067916594, 37.62747138397502, 18.811855933068053, 16.48534188837284, 25.233791074303426, 16.630157669364618, 29.691828254847643, 18.827908587257618, 22.799709649703956, 20.237727838098177, 28.61943435261705, 18.955135810772223, 19.799378497142996, 39.42699935036787, 19.784101347466642, 15.429687499999996, 23.87083295191101, 21.475028912773613, 20.992036011080334, 19.269158463297657, 23.712693707072233, 16.795761666738404, 16.724832869301203, 14.852822036186874, 14.567046862317913, 18.912529550827426, 20.49571294315339, 19.126665141761702, 16.63773148148148, 17.744645912784588, 25.17287906898297, 17.065572578772027, 18.05485899463755, 32.14474882051206, 24.38652644413961, 22.024081694863582, 22.259943675012536, 22.41129775009868, 22.425922237544494, 21.21769434924889, 25.088547815820544, 25.443309920187524, 16.83113332478961, 18.543010574428077, 23.778279622395832, 23.186216024899842, 21.01582261287421, 25.8626813717655, 27.038936067937826, 22.03757480956297, 19.168097928786043, 25.533499347991036, 24.71048872564024, 25.088607998921994, 20.16964550010718, 19.48054232422658, 28.96139785166013, 20.85542864264223, 24.987370513816387, 18.0934377531731, 21.01670473812556, 20.563406826211743, 23.89991283989168, 23.467348218894063, 19.08840179997097, 22.910281834024396, 18.09675763394442, 22.432043236200737, 19.240423143271784, 17.98532381970825, 22.55009897562555, 22.979079674204247, 21.19375573921029, 27.31264869394132, 17.689002494449163, 19.179687499999996, 18.952853016359544, 21.991580780955147, 20.484045429962144, 21.874134725683316, 26.65792214806527, 21.93184175166157, 22.2684703433923, 21.92922343137523, 19.971924975588873, 19.862028022193087, 17.95325379201325, 27.0755200235955, 25.117677307068547, 23.68132659124275, 17.56749548078184, 21.65450883399601, 17.899236400372544, 21.929957168052407, 20.638864186167993, 24.890738813735688, 19.16457323037655, 20.689160600953784, 23.966774163210694, 17.207942076925214, 19.812695109261185, 21.066111156201245, 21.399469957675723, 23.035328418854235, 23.73924776522179, 20.82939581532793, 17.741046831955924, 18.49150243031175, 19.311856974194637, 20.135309278350523, 24.590921844709722, 20.027141946867957, 20.125207541202766, 18.94600186620147, 23.789413642371752, 18.63189237527147, 17.82477576989106, 20.75499510501958, 21.015741086069816, 28.589396614606418, 26.90292957382138, 19.597732445973705, 21.36686914318855, 24.739067247985204, 22.82302480375125, 18.961906883492983, 30.336126733966868, 19.638373381587627, 17.83279761963996, 21.613045437743985, 20.107079782941113, 19.954648526077097, 21.806424300454164, 21.204914783987316, 25.821854912764007, 20.36593776623798, 17.72008343627858, 22.603878116343488, 19.107514821342733, 17.63546273109915, 15.175560404681612, 21.21688208527988, 19.728074135843002, 32.31245791724016, 14.913442115649307, 17.71577737935911, 18.9903951581071, 21.248368915270763, 20.034869914051665, 26.1524334251607, 22.69163882810464, 17.800433015641655, 20.408163265306126, 20.307412205454995, 19.349962207105065, 27.27058861166175, 18.394349026497903, 25.919915793166968, 21.289062499999996, 24.65038188682175, 20.755555555555556, 21.910118243420158, 26.001552991086093, 28.48734303159791, 26.509554899225492, 22.01304933564617, 18.069601427721597, 16.948123687309543, 21.46361237951951, 18.965383091896786, 18.906736498018265, 21.822464940487247, 20.5586349766244, 14.723856366488501, 18.4337982796613, 21.745304069130594, 20.51968307558874, 23.546805713477546, 30.010405827263263, 20.19756721012471, 19.320103591491858, 19.052866668039062, 23.15779348663819, 21.742545637351935, 18.083011820082135, 29.365279765077762, 20.058144645594165, 19.079398896165177, 16.03886937032228, 17.29286176830345, 21.03496511857294, 19.550883984604987, 21.299038500547688, 28.567953181107974, 18.85481118978086, 23.53509815585961, 20.20774221546422, 24.169297418097777, 18.01878237553074, 17.718335619570183, 21.453573713726524, 16.565652062116193, 25.375900100407105, 19.40974951718248, 21.61342963521538, 24.63028045947733, 17.88102385695181, 21.626297577854668, 29.79914201996621, 21.851253681839555, 22.556355644806317, 24.567697325968943, 21.824806662700777, 21.225288539175843, 21.972443008122983, 21.95363876823024, 16.120099529644225, 24.464604402141585, 27.303438382155587, 16.98979591836735, 16.98468153722118, 16.244013797589773, 26.546824266456355, 18.70748299319728, 19.09164203171191, 18.97157806619826, 22.83566049268107, 20.36599763872491, 17.713051657137196, 16.110362211676808, 18.0269687084517, 17.79848300111718, 19.53056615664718, 21.69000770480871, 16.144033695248833, 18.157535310398167, 20.089254246155626, 22.216634805085615, 31.249805660412555, 18.987150415721846, 18.576562989504243, 20.890089512602735, 19.766341042206342, 24.329133532306415, 25.796207507800183, 27.503611550972224, 23.02348018915189, 20.503701553200756, 15.987313950530151, 25.90578505610437, 25.139147578124152, 20.44753086419753, 16.972939783342838, 17.646190228673596, 14.210998380878051, 22.090977879541278, 17.015551076397642, 27.35912503120139, 25.91705415840867, 26.99376161844895, 18.84400659787095, 19.099193524907562, 16.467018217699923, 16.842957623358664, 19.94306528394747, 20.236151583414276, 19.059689606277804, 20.49677470552891, 24.09207836919944, 22.53123140987508, 19.39568463490463, 20.419278205056976, 21.129013758006383, 24.92116285979929, 29.361882858727803, 36.66727092131855, 25.690261626177147, 19.169550173010382, 17.445869248239106, 26.949185697578105, 25.96012715294133, 27.325005227022768, 23.513167373729292, 19.154802346669005, 19.23376278333225, 17.111640125598665, 29.870997792583893, 17.954202575071818, 27.331811889830636, 21.81345620738112, 19.976751267156878, 18.74736365198644, 17.79610278402406, 20.729068629507196, 21.222231428856485, 19.058953869104744, 21.381629272777616, 27.590219392256646, 17.395849240171344, 23.17265965686639, 19.46509056297417, 18.85708617688383, 23.40274021501381, 23.094697797379474, 18.167101291886844, 27.279889216736894, 40.42674221252772, 23.72483624504578, 21.5455227627919, 17.12300084312167, 25.045071495972948, 28.852459016393446, 27.022651604842977, 26.021756861666063, 18.463088939279416, 23.924316345407316, 25.747985230588437, 19.12389986834277, 20.12454625633233, 21.15444452033483, 15.86669371604481, 16.102983809704558, 26.30593132154006, 21.533079879766657, 17.85816200850932, 15.459428447753142, 19.229989046208768, 21.311134235171696, 17.082559819669587, 16.72677811554937, 28.59171597633136, 20.95117547536679, 20.59532056120181, 21.1447532471915, 20.637427646377677, 30.531971904225024, 21.017099768092688, 20.02739062085283, 15.151354391028024, 18.532625462584566, 18.605480062374696, 22.607452855488905, 18.71426932851994, 19.19777997861054, 21.316587637233543, 18.144695632893267, 32.41982245506553, 22.830620243380555, 18.225047690693657, 32.839415259381624, 15.671759364915465, 21.597147338496228, 22.526579642932678, 20.752598758591073, 19.40969033772064, 16.04604888559781, 17.13286386293709, 25.644503174757485, 18.052126200274344, 22.244399822044798, 21.477627471383972, 26.316605371983187, 21.130087315263143, 18.62202480144095, 20.21244517374247, 21.46814404432133, 17.743764933286798, 19.786060987413563, 15.762869412547955, 26.43807082198365, 27.00467150278597, 23.56089260806781, 18.80435220890844, 31.181276302339803, 35.30780023094887, 22.13694625003263, 23.012887216841435, 34.27819878194892, 25.24538964901845, 22.119584001005435, 22.935937948865266, 28.798836113969962, 31.588538033970163, 26.827900555352905, 21.555585416106783, 23.624618957758745, 35.231395510206774, 22.18462393840591, 23.894776240480237, 23.632812499999996, 22.612923285657757, 27.780127194054984, 23.3207482989408, 16.59169408854349, 18.45507739501155, 18.046874999999996, 25.08249424397076, 25.062567754642185, 20.056012217802966, 23.983681871834115, 35.39893020154383, 30.411288797778866, 21.83420767105513, 25.940578368656343, 20.658977599538257, 23.35529050914164, 19.490163952240685, 22.004490546033654, 18.921032685809482, 22.05562980098966, 28.413790712458848, 16.685109863025676, 22.096463338284583, 18.42923879564924, 23.37092630557202, 24.00189252332415, 23.23765615704938, 27.890624999999996, 22.418971558058217, 17.248115907338896, 32.96990684378072, 21.87735858810393, 21.622460962141286, 23.23788616132327, 33.63332502564587, 20.575019223375627, 19.19720840248958, 19.114187301976248, 22.310648573274833, 21.31712165019258, 31.805036358286404, 23.488242262496428, 22.660229256193286, 32.68966026848893, 16.49076517150396, 24.79785579817629, 17.700395984326054, 18.922330175891425, 19.86554960235344, 19.088588576498108, 19.71948388341221, 17.822222222222223, 18.061271147690896, 28.76846291814253, 32.61745541040296, 17.675810145333905, 25.885942554651507, 20.36188625109908, 21.980455851163786, 21.834384954213704, 19.009491364259635, 19.597732445973705, 23.987952239234108, 29.970015293522508, 18.272632674297604, 30.401848432384696, 25.33023660908695, 22.117382271468145, 18.00443985774636, 19.58214850507465, 23.28408868597326, 17.66556902277205, 24.681537221177106, 18.75438740219205, 22.199005070498135, 24.919900320398717, 20.129945397523112, 20.53551983141622, 32.92558232049581, 39.65534104544723, 21.800591238914276, 18.105519443779386, 23.720999405116004, 30.149074792897085, 21.792923195991897, 18.784634169249554, 18.509562047498324, 29.805523369117598, 18.715144856188374, 18.64072962057605, 18.407469774584378, 18.361610213061446, 13.426423200859293, 14.576169195752424, 15.736155603971898, 35.399268046827316, 16.43065614528159, 24.691358024691358, 19.594764785428534, 26.2427860020758, 21.97519187937784, 15.77931239325759, 14.028517126615696, 20.435493593963383, 18.990628191388346, 14.834273352391257, 17.069393840036444, 16.579478736950943, 16.823619459650597, 22.60943983918638, 27.85088176770022, 22.915303502484914, 21.819526627218934, 22.684023668639053, 24.85066048580097, 22.16235547865855, 30.120383195375673, 21.63096643616124, 27.16209190548441, 28.466704272558562, 18.263636752447965, 20.35948513448005, 16.196093313141414, 16.883198855040312, 23.365978769817726, 22.901052238977748, 17.55374336675015, 17.373010054878044, 20.534463255337077, 17.737465356512978, 21.682256325536002, 20.846834183696753, 21.81061394380853, 29.832840316973037, 23.246379163454904, 20.7549800203947, 17.701895446673966, 25.033106924687086, 19.27969072371452, 15.626823638110112, 14.932260366870006, 21.421890228347536, 20.6737611457551, 20.633089837242085, 24.147159445059028, 23.704419308814913, 14.750315021477155, 27.14331815411094, 19.13994808289083, 19.52542173068917, 28.972614449391727, 21.706323775659982, 23.079694079694605, 14.187030265023344, 17.524592293430636, 19.678810016395037, 16.578249336870027, 18.33658390957185, 26.143777041644135, 18.889949094008983, 20.993142577330644, 20.764227164962076, 16.444182592975203, 14.860733695652176, 23.579824629635887, 22.945948523657666, 17.057907731664166, 15.17807678589046, 23.77855415210965, 20.456392891941796, 17.842378711633273, 20.85929156283375, 24.134982950246165, 20.771903283338066, 24.480291375175394, 27.13995493187907, 20.188342687113877, 24.67332197061927, 27.30414201183432, 17.84466541252352, 22.95588937564587, 18.651992766921996, 19.871095397016408, 19.638121639408045, 23.889292723580432, 16.502019399662128, 23.3302802823771, 18.040670237377796, 21.132949411193025, 19.11582099238419, 23.795526441029093, 18.363453732174936, 20.775623268698062, 24.306226803098085, 18.337457909042964, 27.18282835396594, 22.987055973854467, 17.851562499999996, 17.429193899782135, 18.840064699539266, 19.35196655483065, 23.544538485144386, 16.552808098809432, 17.806954061627046, 24.05349497281955, 19.56502751331994, 26.229228074672136, 16.794513271571184, 21.374075763205962, 21.336751475592198, 19.1162937507502, 16.556226298713636, 19.107417666974452, 13.032104637336504, 20.47314909936424, 23.625707127390626, 24.84120951325724, 27.087233481651836, 17.408234440095946, 17.736433215979385, 25.182985459278783, 20.385611949397955, 17.55532841809199, 27.087208094875354, 20.8189253151787, 22.404658966130246, 22.690060659446097, 19.411368764514535, 20.042676421277243, 20.225680148560457, 18.86550717739257, 28.944318468127992, 23.82316883985736, 26.22811450380816, 14.814633381280071, 18.789071494046144, 18.98022892819979, 21.01638795124843, 16.82422688671687, 25.89033583047446, 29.648715343300918, 19.703649155628973, 21.293934240362816, 19.010650887573966, 19.81356796234299, 28.38022425094093, 22.382400849872923, 22.65371335182651, 22.13839353757049, 23.8413122258249, 19.449433546770127, 17.16581446311176, 19.099193524907562, 28.698160983920282, 19.110829792229573, 23.836985774702036, 17.19093348225667, 20.361435127406374, 19.14059088129968, 23.984845428099412, 21.618447635026058, 21.683807676628017, 21.70950223681743, 16.156462585034017, 16.833599865331202, 18.48543293248173, 23.40421382231592, 17.85349928586003, 17.104512959957898, 17.92712039998198, 25.030861104369198, 20.236346966300268, 21.925302901938373, 22.949600190832143, 19.964126837974174, 25.455868704471552, 19.98218959404112, 24.042438295157485, 24.786692855732255, 21.68367346938776, 19.914403004629225, 21.797106861254115, 26.840928029472394, 24.813130865289438, 24.223808213354072, 28.121077862532125, 21.64954127252362, 33.23746877767716, 19.526208014285576, 16.88117536950145, 26.4445041655469, 24.964564072449743, 21.65450883399601, 17.181279278098586, 23.043223975940432, 22.524440492529525, 16.925301578983124, 23.95163090420318, 16.150385209118326, 21.814404432132964, 18.003413510649768, 21.13554362395957, 15.818578957100586, 18.532837984760793, 17.391809678857918, 27.811065925771974, 18.633748745594996, 19.65903247498121, 16.71120015828848, 17.818260995790393, 16.05359093891687, 18.676538946809217, 21.19466114085541, 20.60606060606061, 22.71990251668124, 18.552944675788225, 23.273341276029193, 24.234693877551027, 19.166285627190973, 17.61652809271857, 21.452522481329062, 17.35799454335864, 20.357668025605577, 24.034407151290267, 17.0162109169847, 20.932120124738347, 33.535214755836684, 17.450514702931162, 17.85257704975574, 18.398466033601167, 21.279102021894673, 24.01344753061715, 23.392836660649927, 20.215269472628368, 17.04837625093944, 19.47089947089947, 23.67420239075624, 19.194776852815348, 20.5456936226167, 16.04221096784414, 18.820783791540993, 17.239063997817937, 19.575279330981417, 22.81568741478963, 22.781949017069824, 16.608706740616082, 19.693280362253834, 21.225402024215413, 20.470348197267036, 17.544627495487443, 19.21260472339927, 22.6643598615917, 26.655281613239822, 17.295427521349044, 22.75186934277843, 19.672461577223483, 19.18112185975885, 26.862899702767823, 21.98797128629632, 28.36095656303315, 14.862998440632659, 21.28192636374068, 15.410460789665786, 17.363787577589353, 22.63678938029244, 22.182585148324293, 20.818905817174517, 22.148437499999996, 16.87385193728908, 21.601725163593102, 26.007753396815836, 19.162176181504126, 17.499999999999996, 26.249999999999996, 19.18617958184478, 22.995633796757176, 23.414249345620135, 19.10828025477707, 20.150605879703818, 17.96365994831026, 15.64121945074326, 24.034407151290267, 16.718247768412464, 25.764828734194232, 28.864542643229164, 18.019917760162564, 23.05799961516994, 29.157158562836635, 30.117257262500605, 19.31719610161288, 17.155555555555555, 21.867012860562294, 15.347057083141502, 17.029461437417904, 18.474879819021588, 16.02293810086018, 17.510005202561217, 17.07746810635612, 17.628205128205128, 21.886589626444508, 30.131980524451613, 18.79099854227405, 21.242974910928574, 17.530318484531414, 21.2930195303694, 16.333425123352242, 23.585346657850135, 20.362329465490728, 17.19524374846892, 20.37486760081439, 18.5788645593, 21.391332874504744, 18.134551614763556, 15.862841455755625, 17.71275414155449, 18.337075455028046, 24.42331001742381, 25.18875624936231, 17.892358994585678, 18.00608913233707, 24.513369105294444, 20.168877454392515, 18.158102387159484, 49.173846834652224, 22.434963579604574, 22.623562612140194, 16.95764508586193, 20.859933954757498, 21.206073203055684, 20.247196132211734, 20.323230362299498, 22.794433156396604, 21.622023587000754, 20.71667392454902, 19.788495433424128, 26.61934338952972, 16.74241268753365, 18.322803544220264, 19.009883504163366, 24.39001856967323, 19.102257232473416, 17.393705968644543, 22.35434007134364, 27.621347944670323, 23.195147448057167, 24.31405020889006, 21.37257775806005, 19.41956312918518, 24.813639230363627, 24.725057013797777, 19.47111720774272, 23.34639212827988, 26.189164370982553, 18.22728282477316, 25.592998754291997, 23.079846482321496, 21.486293801752822, 18.925558488076156, 16.799153758339358, 18.903944227430557, 20.80733961287222, 16.74884263615492, 16.596600767408162, 13.7146556181401, 22.481329065691202, 17.50413132772143, 19.82903626203092, 15.575840032443534, 20.115898211136308, 18.891073907416093, 16.865156013730537, 17.87393534429826, 19.529257218651157, 23.6707063638539, 18.38994182773504, 20.20962106960495, 17.445127611880384, 18.783431952662724, 13.305474691086353, 19.70203667662619, 19.681523245921376, 16.529329823983016, 20.637499001411335, 19.180702386665452, 23.486254005734526, 17.87530403976961, 19.52147830193532, 21.31173743939475, 20.41478875455709, 16.944135389766153, 15.620820818504306, 21.866666666666667, 15.880857302529233, 16.799173834314168, 18.140589569160998, 16.468452373894472, 25.828249390251116, 20.323609813960154, 21.358712337178194, 22.10256216983562, 18.106072744752442, 21.409740391728903, 22.297727334835425, 19.334221981376512, 18.809367064798266, 23.088846810722504, 20.45725054552668, 17.172862843940347, 18.949913693670858, 15.648038049940546, 17.811333802919258, 20.619353262080516, 16.051629022121183, 19.023685562096226, 17.717149522569443, 20.027052784527037, 19.110245754627574, 20.54759070441489, 18.273422612055242, 16.992521233451317, 29.9037776515254, 16.91482209461166, 19.82143619975223, 18.361623043254625, 22.29080932784636, 24.145908672311936, 23.82994032137364, 22.236840102746037, 18.88419325096142, 19.297399236875574, 18.039212178406316, 29.85246381836551, 21.122545013856065, 19.821999182848195, 25.574785811168834, 39.11232878378523, 23.364721200569143, 22.5677199387903, 24.039273842831907, 15.508621569227628, 14.893817975748506, 28.388207635677315, 19.81840586496953, 24.546048991499422, 16.588067359194227, 24.400680671516284, 24.31242603550296, 16.75778789897865, 20.678162092303502, 17.2010342489835, 23.87689125402528, 21.641274238227147, 13.032831192614665, 18.22672701845372, 20.21588297443606, 15.500262222481206, 21.001685810996182, 17.70482047212855, 23.494400501213878, 24.607296391964294, 28.211386877003207, 21.602497398543182, 23.60171788104439, 18.394349026497903, 21.947139687941988, 15.721882532944587, 23.833896952531703, 19.035502416785935, 22.476586888657646, 14.238495195610854, 17.483930211202942, 20.569537394874374, 21.81333280259531, 18.853278643790752, 18.753470887265582, 20.613153987247795, 13.541144245978163, 22.792338085469947, 14.590948374231639, 17.977747618881253, 22.171741381701207, 19.79750837442132, 21.500778594924117, 27.819227629833687, 21.820124606685006, 22.968749999999993, 15.329149145528003, 19.72232688953027, 23.182892534892943, 19.16188332162113, 16.74460934357723, 16.143360506434952, 15.297759970861408, 20.63321964673971, 20.371029626992602, 18.160198897416496, 16.914466772385254, 16.92965154503616, 17.746913580246915, 19.458582946714113, 16.931164079961043, 16.914679689744325, 17.28546570846537, 19.579475308641978, 21.350716217333282, 13.117218885047418, 16.909305636803126, 23.27634796024169, 24.671947924516566, 20.173885880882963, 20.972655019081966, 17.53815058771201, 21.449293576732547, 19.511498043354003, 25.704218075102816, 18.185527392799173, 15.01101127216642, 17.240395715321217, 13.748192458869166, 18.210921255030474, 19.18706339481153, 20.061897322094957, 17.41601734260789, 17.87608169369334, 23.311205758564835, 21.53582944187956, 16.154266018570187, 23.78130090298998, 23.427374558026123, 15.43123346529432, 18.352237130261052, 20.30924531325108, 15.812109967954123, 21.18337570008473, 14.193563015111835, 18.05459902050811, 15.021631148854349, 26.314196772300622, 18.26010379090943, 20.215269472628368, 17.85334442599688, 25.93994140625, 24.944073518163883, 21.70058181330215, 22.758306781975424, 17.9271302075773, 22.472923373824273, 18.978424024000997, 18.853631849170945, 23.386956124542188, 32.338107350078666, 20.783983236151602, 31.132485424161874, 17.03675001714596, 19.87536813037507, 17.89909863727626, 22.144989026241102, 21.713585040617176, 28.027681660899656, 20.190180713676654, 21.364578520739474, 18.44033222161658, 19.097222222222225, 25.528080098987406, 22.24307292751734, 21.673604190335222, 21.86851211072665, 20.68635006624794, 21.39564788628376, 21.91380569758948, 19.992424312413966, 24.66473602138561, 29.865197927669637, 22.26761389670396, 20.095914490348502, 21.901354291680462, 17.206482151094008, 21.664134613802517, 20.758050802423217, 17.688344354740558, 16.846330669922416, 18.57713569425281, 32.17120181405896, 27.24930638129211, 27.699739505407496, 26.039977181463293, 19.142469119834445, 20.885254231212237, 27.325772518080207, 20.955693513871186, 22.807807627565925, 19.57284985314062, 18.068063855455488, 36.63486011340297, 20.05385487528345, 18.808459304865288, 17.278539801062323, 32.839415259381624], \"y0\": \" \", \"yaxis\": \"y\"}, {\"alignmentgroup\": \"True\", \"boxpoints\": \"all\", \"hovertemplate\": \"cor_raca=Parda<br>satisfacao_corpo=%{x}<br>IMC=%{y}<extra></extra>\", \"legendgroup\": \"Parda\", \"marker\": {\"color\": \"firebrick\"}, \"name\": \"Parda\", \"notched\": false, \"offsetgroup\": \"Parda\", \"orientation\": \"v\", \"showlegend\": true, \"type\": \"box\", \"x\": [\"Insatisfeito(a)\", \"Muito insatisfeito(a)\", \"Insatisfeito(a)\", \"Muito satisfeito(a)\", \"Insatisfeito(a)\", \"Indiferente\", \"Insatisfeito(a)\", \"Satisfeito(a)\", \"Satisfeito(a)\", \"Satisfeito(a)\", \"Satisfeito(a)\", \"Indiferente\", \"Satisfeito(a)\", \"Satisfeito(a)\", \"Insatisfeito(a)\", \"Insatisfeito(a)\", \"Insatisfeito(a)\", \"Insatisfeito(a)\", \"Insatisfeito(a)\", \"Insatisfeito(a)\", \"Satisfeito(a)\", \"Muito satisfeito(a)\", \"Muito satisfeito(a)\", \"Satisfeito(a)\", \"Indiferente\", \"Indiferente\", \"Muito satisfeito(a)\", \"Insatisfeito(a)\", \"Indiferente\", \"Satisfeito(a)\", \"Insatisfeito(a)\", \"Satisfeito(a)\", \"Indiferente\", \"Satisfeito(a)\", \"Satisfeito(a)\", \"Muito insatisfeito(a)\", \"Muito satisfeito(a)\", \"Muito satisfeito(a)\", \"Indiferente\", \"Insatisfeito(a)\", \"Muito satisfeito(a)\", \"Satisfeito(a)\", \"Muito insatisfeito(a)\", \"Insatisfeito(a)\", \"Indiferente\", \"Satisfeito(a)\", \"Muito satisfeito(a)\", \"Muito satisfeito(a)\", \"Indiferente\", \"Muito satisfeito(a)\", \"Satisfeito(a)\", \"Muito satisfeito(a)\", \"Satisfeito(a)\", \"Muito satisfeito(a)\", \"Muito satisfeito(a)\", \"Satisfeito(a)\", \"Muito satisfeito(a)\", \"Satisfeito(a)\", \"Satisfeito(a)\", \"Insatisfeito(a)\", \"Satisfeito(a)\", \"Satisfeito(a)\", \"Muito satisfeito(a)\", \"Muito satisfeito(a)\", \"Muito satisfeito(a)\", \"Insatisfeito(a)\", \"Muito satisfeito(a)\", \"Muito satisfeito(a)\", \"Muito satisfeito(a)\", \"Satisfeito(a)\", \"Satisfeito(a)\", \"Muito satisfeito(a)\", \"Insatisfeito(a)\", \"Satisfeito(a)\", \"Satisfeito(a)\", \"Muito satisfeito(a)\", \"Insatisfeito(a)\", \"Satisfeito(a)\", \"Satisfeito(a)\", \"Muito satisfeito(a)\", \"Muito satisfeito(a)\", \"Indiferente\", \"Muito satisfeito(a)\", \"Satisfeito(a)\", \"Satisfeito(a)\", \"Satisfeito(a)\", \"Satisfeito(a)\", \"Satisfeito(a)\", \"Muito satisfeito(a)\", \"Satisfeito(a)\", \"Satisfeito(a)\", \"Indiferente\", \"Satisfeito(a)\", \"Satisfeito(a)\", \"Indiferente\", \"Muito satisfeito(a)\", \"Satisfeito(a)\", \"Satisfeito(a)\", \"Satisfeito(a)\", \"Satisfeito(a)\", \"Muito satisfeito(a)\", \"Satisfeito(a)\", \"Satisfeito(a)\", \"Satisfeito(a)\", \"Satisfeito(a)\", \"Satisfeito(a)\", \"Insatisfeito(a)\", \"Satisfeito(a)\", \"Satisfeito(a)\", \"Satisfeito(a)\", \"Satisfeito(a)\", \"Insatisfeito(a)\", \"Muito satisfeito(a)\", \"Insatisfeito(a)\", \"Muito satisfeito(a)\", \"Insatisfeito(a)\", \"Indiferente\", \"Insatisfeito(a)\", \"Insatisfeito(a)\", \"Indiferente\", \"Satisfeito(a)\", \"Muito satisfeito(a)\", \"Insatisfeito(a)\", \"Muito satisfeito(a)\", \"Muito satisfeito(a)\", \"Insatisfeito(a)\", \"Muito satisfeito(a)\", \"Satisfeito(a)\", \"Muito satisfeito(a)\", \"Satisfeito(a)\", \"Satisfeito(a)\", \"Satisfeito(a)\", \"Muito satisfeito(a)\", \"Muito satisfeito(a)\", \"Satisfeito(a)\", \"Muito satisfeito(a)\", \"Insatisfeito(a)\", \"Muito satisfeito(a)\", \"Insatisfeito(a)\", \"Muito satisfeito(a)\", \"Muito satisfeito(a)\", \"Satisfeito(a)\", \"Insatisfeito(a)\", \"Muito satisfeito(a)\", \"Muito satisfeito(a)\", \"Satisfeito(a)\", \"Insatisfeito(a)\", \"Muito satisfeito(a)\", \"Muito satisfeito(a)\", \"Muito satisfeito(a)\", \"Muito satisfeito(a)\", \"Muito satisfeito(a)\", \"Satisfeito(a)\", \"Muito satisfeito(a)\", \"Satisfeito(a)\", \"Muito satisfeito(a)\", \"Satisfeito(a)\", \"Muito satisfeito(a)\", \"Muito satisfeito(a)\", \"Satisfeito(a)\", \"Satisfeito(a)\", \"Muito satisfeito(a)\", \"Insatisfeito(a)\", \"Satisfeito(a)\", \"Indiferente\", \"Satisfeito(a)\", \"Indiferente\", \"Satisfeito(a)\", \"Muito satisfeito(a)\", \"Satisfeito(a)\", \"Muito satisfeito(a)\", \"Satisfeito(a)\", \"Muito satisfeito(a)\", \"Satisfeito(a)\", \"Muito insatisfeito(a)\", \"Satisfeito(a)\", \"Muito satisfeito(a)\", \"Muito satisfeito(a)\", \"Muito satisfeito(a)\", \"Muito satisfeito(a)\", \"Muito satisfeito(a)\", \"Satisfeito(a)\", \"Muito satisfeito(a)\", \"Satisfeito(a)\", \"Satisfeito(a)\", \"Satisfeito(a)\", \"Muito satisfeito(a)\", \"Satisfeito(a)\", \"Indiferente\", \"Muito satisfeito(a)\", \"Satisfeito(a)\", \"Muito satisfeito(a)\", \"Insatisfeito(a)\", \"Muito satisfeito(a)\", \"Satisfeito(a)\", \"Indiferente\", \"Muito satisfeito(a)\", \"Satisfeito(a)\", \"Satisfeito(a)\", \"Satisfeito(a)\", \"Insatisfeito(a)\", \"Insatisfeito(a)\", \"Satisfeito(a)\", \"Insatisfeito(a)\", \"Indiferente\", \"Satisfeito(a)\", \"Satisfeito(a)\", \"Satisfeito(a)\", \"Muito satisfeito(a)\", \"Satisfeito(a)\", \"Satisfeito(a)\", \"Satisfeito(a)\", \"Satisfeito(a)\", \"Muito insatisfeito(a)\", \"Satisfeito(a)\", \"Indiferente\", \"Muito satisfeito(a)\", \"Insatisfeito(a)\", \"Satisfeito(a)\", \"Satisfeito(a)\", \"Indiferente\", \"Satisfeito(a)\", \"Indiferente\", \"Insatisfeito(a)\", \"Indiferente\", \"Satisfeito(a)\", \"Satisfeito(a)\", \"Muito satisfeito(a)\", \"Satisfeito(a)\", \"Muito satisfeito(a)\", \"Satisfeito(a)\", \"Satisfeito(a)\", \"Satisfeito(a)\", \"Muito satisfeito(a)\", \"Muito insatisfeito(a)\", \"Satisfeito(a)\", \"Muito satisfeito(a)\", \"Muito satisfeito(a)\", \"Muito satisfeito(a)\", \"Muito satisfeito(a)\", \"Muito satisfeito(a)\", \"Satisfeito(a)\", \"Satisfeito(a)\", \"Muito insatisfeito(a)\", \"Satisfeito(a)\", \"Insatisfeito(a)\", \"Insatisfeito(a)\", \"Satisfeito(a)\", \"Satisfeito(a)\", \"Muito satisfeito(a)\", \"Insatisfeito(a)\", \"Satisfeito(a)\", \"Satisfeito(a)\", \"Muito satisfeito(a)\", \"Indiferente\", \"Satisfeito(a)\", \"Muito insatisfeito(a)\", \"Satisfeito(a)\", \"Insatisfeito(a)\", \"Satisfeito(a)\", \"Satisfeito(a)\", \"Satisfeito(a)\", \"Indiferente\", \"Muito insatisfeito(a)\", \"Muito satisfeito(a)\", \"Satisfeito(a)\", \"Satisfeito(a)\", \"Muito satisfeito(a)\", \"Satisfeito(a)\", \"Satisfeito(a)\", \"Satisfeito(a)\", \"Muito satisfeito(a)\", \"Insatisfeito(a)\", \"Insatisfeito(a)\", \"Satisfeito(a)\", \"Satisfeito(a)\", \"Muito insatisfeito(a)\", \"Insatisfeito(a)\", \"Insatisfeito(a)\", \"Muito satisfeito(a)\", \"Insatisfeito(a)\", \"Satisfeito(a)\", \"Muito satisfeito(a)\", \"Indiferente\", \"Satisfeito(a)\", \"Muito insatisfeito(a)\", \"Insatisfeito(a)\", \"Muito satisfeito(a)\", \"Satisfeito(a)\", \"Satisfeito(a)\", \"Satisfeito(a)\", \"Indiferente\", \"Satisfeito(a)\", \"Muito insatisfeito(a)\", \"Satisfeito(a)\", \"Satisfeito(a)\", \"Satisfeito(a)\", \"Muito satisfeito(a)\", \"Muito satisfeito(a)\", \"Satisfeito(a)\", \"Muito insatisfeito(a)\", \"Satisfeito(a)\", \"Muito insatisfeito(a)\", \"Muito satisfeito(a)\", \"Muito insatisfeito(a)\", \"Insatisfeito(a)\", \"Satisfeito(a)\", \"Muito satisfeito(a)\", \"Muito satisfeito(a)\", \"Muito satisfeito(a)\", \"Muito satisfeito(a)\", \"Muito satisfeito(a)\", \"Insatisfeito(a)\", \"Satisfeito(a)\", \"Satisfeito(a)\", \"Satisfeito(a)\", \"Muito satisfeito(a)\", \"Insatisfeito(a)\", \"Satisfeito(a)\", \"Indiferente\", \"Satisfeito(a)\", \"Indiferente\", \"Muito satisfeito(a)\", \"Insatisfeito(a)\", \"Insatisfeito(a)\", \"Indiferente\", \"Indiferente\", \"Insatisfeito(a)\", \"Satisfeito(a)\", \"Satisfeito(a)\", \"Satisfeito(a)\", \"Satisfeito(a)\", \"Insatisfeito(a)\", \"Indiferente\", \"Satisfeito(a)\", \"Indiferente\", \"Satisfeito(a)\", \"Muito insatisfeito(a)\", \"Insatisfeito(a)\", \"Satisfeito(a)\", \"Satisfeito(a)\", \"Satisfeito(a)\", \"Insatisfeito(a)\", \"Insatisfeito(a)\", \"Insatisfeito(a)\", \"Insatisfeito(a)\", \"Satisfeito(a)\", \"Satisfeito(a)\", \"Satisfeito(a)\", \"Muito satisfeito(a)\", \"Muito satisfeito(a)\", \"Muito satisfeito(a)\", \"Satisfeito(a)\", \"Muito satisfeito(a)\", \"Insatisfeito(a)\", \"Muito satisfeito(a)\", \"Satisfeito(a)\", \"Muito satisfeito(a)\", \"Muito satisfeito(a)\", \"Indiferente\", \"Muito satisfeito(a)\", \"Muito satisfeito(a)\", \"Insatisfeito(a)\", \"Muito satisfeito(a)\", \"Satisfeito(a)\", \"Satisfeito(a)\", \"Muito satisfeito(a)\", \"Insatisfeito(a)\", \"Satisfeito(a)\", \"Satisfeito(a)\", \"Satisfeito(a)\", \"Satisfeito(a)\", \"Satisfeito(a)\", \"Muito satisfeito(a)\", \"Muito satisfeito(a)\", \"Muito satisfeito(a)\", \"Muito satisfeito(a)\", \"Muito satisfeito(a)\", \"Muito insatisfeito(a)\", \"Muito satisfeito(a)\", \"Indiferente\", \"Muito satisfeito(a)\", \"Muito insatisfeito(a)\", \"Satisfeito(a)\", \"Satisfeito(a)\", \"Satisfeito(a)\", \"Satisfeito(a)\", \"Muito insatisfeito(a)\", \"Muito satisfeito(a)\", \"Muito satisfeito(a)\", \"Satisfeito(a)\", \"Muito satisfeito(a)\", \"Indiferente\", \"Insatisfeito(a)\", \"Muito satisfeito(a)\", \"Satisfeito(a)\", \"Muito satisfeito(a)\", \"Indiferente\", \"Muito satisfeito(a)\", \"Satisfeito(a)\", \"Muito satisfeito(a)\", \"Satisfeito(a)\", \"Satisfeito(a)\", \"Satisfeito(a)\", \"Muito satisfeito(a)\", \"Indiferente\", \"Satisfeito(a)\", \"Muito satisfeito(a)\", \"Muito satisfeito(a)\", \"Satisfeito(a)\", \"Muito satisfeito(a)\", \"Indiferente\", \"Muito satisfeito(a)\", \"Satisfeito(a)\", \"Satisfeito(a)\", \"Indiferente\", \"Satisfeito(a)\", \"Insatisfeito(a)\", \"Insatisfeito(a)\", \"Insatisfeito(a)\", \"Indiferente\", \"Satisfeito(a)\", \"Muito satisfeito(a)\", \"Satisfeito(a)\", \"Satisfeito(a)\", \"Indiferente\", \"Satisfeito(a)\", \"Indiferente\", \"Muito satisfeito(a)\", \"Muito satisfeito(a)\", \"Muito satisfeito(a)\", \"Satisfeito(a)\", \"Satisfeito(a)\", \"Insatisfeito(a)\", \"Insatisfeito(a)\", \"Satisfeito(a)\", \"Insatisfeito(a)\", \"Muito satisfeito(a)\", \"Indiferente\", \"Insatisfeito(a)\", \"Satisfeito(a)\", \"Muito satisfeito(a)\", \"Satisfeito(a)\", \"Satisfeito(a)\", \"Insatisfeito(a)\", \"Insatisfeito(a)\", \"Muito insatisfeito(a)\", \"Insatisfeito(a)\", \"Satisfeito(a)\", \"Satisfeito(a)\", \"Insatisfeito(a)\", \"Satisfeito(a)\", \"Indiferente\", \"Satisfeito(a)\", \"Muito satisfeito(a)\", \"Satisfeito(a)\", \"Satisfeito(a)\", \"Insatisfeito(a)\", \"Satisfeito(a)\", \"Satisfeito(a)\", \"Indiferente\", \"Insatisfeito(a)\", \"Satisfeito(a)\", \"Satisfeito(a)\", \"Muito satisfeito(a)\", \"Muito satisfeito(a)\", \"Muito satisfeito(a)\", \"Satisfeito(a)\", \"Muito satisfeito(a)\", \"Muito insatisfeito(a)\", \"Muito satisfeito(a)\", \"Satisfeito(a)\", \"Muito satisfeito(a)\", \"Satisfeito(a)\", \"Satisfeito(a)\", \"Satisfeito(a)\", \"Muito satisfeito(a)\", \"Satisfeito(a)\", \"Muito satisfeito(a)\", \"Indiferente\", \"Muito insatisfeito(a)\", \"Indiferente\", \"Satisfeito(a)\", \"Satisfeito(a)\", \"Satisfeito(a)\", \"Insatisfeito(a)\", \"Indiferente\", \"Satisfeito(a)\", \"Muito satisfeito(a)\", \"Satisfeito(a)\", \"Muito insatisfeito(a)\", \"Muito satisfeito(a)\", \"Indiferente\", \"Satisfeito(a)\", \"Satisfeito(a)\", \"Muito insatisfeito(a)\", \"Muito satisfeito(a)\", \"Muito satisfeito(a)\", \"Muito satisfeito(a)\", \"Muito satisfeito(a)\", \"Satisfeito(a)\", \"Satisfeito(a)\", \"Muito insatisfeito(a)\", \"Satisfeito(a)\", \"Satisfeito(a)\", \"Muito satisfeito(a)\", \"Muito satisfeito(a)\", \"Muito satisfeito(a)\", \"Satisfeito(a)\", \"Muito insatisfeito(a)\", \"Muito satisfeito(a)\", \"Insatisfeito(a)\", \"Muito satisfeito(a)\", \"Muito satisfeito(a)\", \"Satisfeito(a)\", \"Insatisfeito(a)\", \"Muito satisfeito(a)\", \"Insatisfeito(a)\", \"Indiferente\", \"Satisfeito(a)\", \"Satisfeito(a)\", \"Muito satisfeito(a)\", \"Muito satisfeito(a)\", \"Satisfeito(a)\", \"Satisfeito(a)\", \"Satisfeito(a)\", \"Insatisfeito(a)\", \"Satisfeito(a)\", \"Insatisfeito(a)\", \"Muito satisfeito(a)\", \"Satisfeito(a)\", \"Insatisfeito(a)\", \"Muito satisfeito(a)\", \"Muito satisfeito(a)\", \"Insatisfeito(a)\", \"Satisfeito(a)\", \"Satisfeito(a)\", \"Satisfeito(a)\", \"Muito satisfeito(a)\", \"Muito satisfeito(a)\", \"Indiferente\", \"Satisfeito(a)\", \"Muito satisfeito(a)\", \"Insatisfeito(a)\", \"Satisfeito(a)\", \"Insatisfeito(a)\", \"Insatisfeito(a)\", \"Muito satisfeito(a)\", \"Satisfeito(a)\", \"Satisfeito(a)\", \"Muito satisfeito(a)\", \"Satisfeito(a)\", \"Satisfeito(a)\", \"Muito satisfeito(a)\", \"Indiferente\", \"Satisfeito(a)\", \"Muito satisfeito(a)\", \"Satisfeito(a)\", \"Satisfeito(a)\", \"Insatisfeito(a)\", \"Insatisfeito(a)\", \"Satisfeito(a)\", \"Satisfeito(a)\", \"Satisfeito(a)\", \"Satisfeito(a)\", \"Indiferente\", \"Insatisfeito(a)\", \"Muito satisfeito(a)\", \"Muito satisfeito(a)\", \"Muito satisfeito(a)\", \"Indiferente\", \"Muito insatisfeito(a)\", \"Insatisfeito(a)\", \"Satisfeito(a)\", \"Satisfeito(a)\", \"Satisfeito(a)\", \"Muito satisfeito(a)\", \"Satisfeito(a)\", \"Muito satisfeito(a)\", \"Insatisfeito(a)\", \"Insatisfeito(a)\", \"Satisfeito(a)\", \"Satisfeito(a)\", \"Muito satisfeito(a)\", \"Muito insatisfeito(a)\", \"Satisfeito(a)\", \"Muito satisfeito(a)\", \"Indiferente\", \"Muito satisfeito(a)\", \"Muito satisfeito(a)\", \"Muito satisfeito(a)\", \"Satisfeito(a)\", \"Indiferente\", \"Satisfeito(a)\", \"Satisfeito(a)\", \"Satisfeito(a)\", \"Muito satisfeito(a)\", \"Satisfeito(a)\", \"Muito satisfeito(a)\", \"Satisfeito(a)\", \"Insatisfeito(a)\", \"Satisfeito(a)\", \"Muito satisfeito(a)\", \"Insatisfeito(a)\", \"Muito satisfeito(a)\", \"Satisfeito(a)\", \"Satisfeito(a)\", \"Muito satisfeito(a)\", \"Satisfeito(a)\", \"Satisfeito(a)\", \"Satisfeito(a)\", \"Satisfeito(a)\", \"Satisfeito(a)\", \"Satisfeito(a)\", \"Insatisfeito(a)\", \"Satisfeito(a)\", \"Satisfeito(a)\", \"Muito satisfeito(a)\", \"Insatisfeito(a)\", \"Insatisfeito(a)\", \"Muito satisfeito(a)\", \"Satisfeito(a)\", \"Insatisfeito(a)\", \"Insatisfeito(a)\", \"Insatisfeito(a)\", \"Satisfeito(a)\", \"Satisfeito(a)\", \"Insatisfeito(a)\", \"Indiferente\", \"Satisfeito(a)\", \"Indiferente\", \"Insatisfeito(a)\", \"Satisfeito(a)\", \"Indiferente\", \"Satisfeito(a)\", \"Satisfeito(a)\", \"Satisfeito(a)\", \"Indiferente\", \"Satisfeito(a)\", \"Satisfeito(a)\", \"Satisfeito(a)\", \"Muito satisfeito(a)\", \"Satisfeito(a)\", \"Insatisfeito(a)\", \"Satisfeito(a)\", \"Indiferente\", \"Indiferente\", \"Indiferente\", \"Satisfeito(a)\", \"Indiferente\", \"Muito insatisfeito(a)\", \"Indiferente\", \"Satisfeito(a)\", \"Muito satisfeito(a)\", \"Satisfeito(a)\", \"Insatisfeito(a)\", \"Satisfeito(a)\", \"Muito satisfeito(a)\", \"Insatisfeito(a)\", \"Insatisfeito(a)\", \"Satisfeito(a)\", \"Satisfeito(a)\", \"Satisfeito(a)\", \"Satisfeito(a)\", \"Satisfeito(a)\", \"Satisfeito(a)\", \"Indiferente\", \"Satisfeito(a)\", \"Satisfeito(a)\", \"Muito satisfeito(a)\", \"Indiferente\", \"Muito satisfeito(a)\", \"Insatisfeito(a)\", \"Muito satisfeito(a)\", \"Satisfeito(a)\", \"Indiferente\", \"Muito satisfeito(a)\", \"Insatisfeito(a)\", \"Muito satisfeito(a)\", \"Satisfeito(a)\", \"Muito satisfeito(a)\", \"Satisfeito(a)\", \"Satisfeito(a)\", \"Insatisfeito(a)\", \"Satisfeito(a)\", \"Muito satisfeito(a)\", \"Insatisfeito(a)\", \"Insatisfeito(a)\", \"Satisfeito(a)\", \"Satisfeito(a)\", \"Satisfeito(a)\", \"Satisfeito(a)\", \"Insatisfeito(a)\", \"Satisfeito(a)\", \"Satisfeito(a)\", \"Satisfeito(a)\", \"Muito satisfeito(a)\", \"Insatisfeito(a)\", \"Insatisfeito(a)\", \"Satisfeito(a)\", \"Muito satisfeito(a)\", \"Insatisfeito(a)\", \"Satisfeito(a)\", \"Muito satisfeito(a)\", \"Muito satisfeito(a)\", \"Indiferente\", \"Muito satisfeito(a)\", \"Muito satisfeito(a)\", \"Satisfeito(a)\", \"Insatisfeito(a)\", \"Muito satisfeito(a)\", \"Satisfeito(a)\", \"Indiferente\", \"Satisfeito(a)\", \"Satisfeito(a)\", \"Muito insatisfeito(a)\", \"Indiferente\", \"Satisfeito(a)\", \"Indiferente\", \"Satisfeito(a)\", \"Indiferente\", \"Muito satisfeito(a)\", \"Insatisfeito(a)\", \"Muito satisfeito(a)\", \"Satisfeito(a)\", \"Muito satisfeito(a)\", \"Muito satisfeito(a)\", \"Muito satisfeito(a)\", \"Muito satisfeito(a)\", \"Indiferente\", \"Insatisfeito(a)\", \"Muito satisfeito(a)\", \"Satisfeito(a)\", \"Muito satisfeito(a)\", \"Muito satisfeito(a)\", \"Satisfeito(a)\", \"Insatisfeito(a)\", \"Muito insatisfeito(a)\", \"Satisfeito(a)\", \"Satisfeito(a)\", \"Muito satisfeito(a)\", \"Muito satisfeito(a)\", \"Muito insatisfeito(a)\", \"Satisfeito(a)\", \"Muito satisfeito(a)\", \"Satisfeito(a)\", \"Muito satisfeito(a)\", \"Insatisfeito(a)\", \"Indiferente\", \"Muito insatisfeito(a)\", \"Satisfeito(a)\", \"Insatisfeito(a)\", \"Indiferente\", \"Satisfeito(a)\", \"Muito satisfeito(a)\", \"Indiferente\", \"Satisfeito(a)\", \"Satisfeito(a)\", \"Satisfeito(a)\", \"Satisfeito(a)\", \"Insatisfeito(a)\", \"Satisfeito(a)\", \"Satisfeito(a)\", \"Muito satisfeito(a)\", \"Muito satisfeito(a)\", \"Satisfeito(a)\", \"Satisfeito(a)\", \"Satisfeito(a)\", \"Satisfeito(a)\", \"Satisfeito(a)\", \"Satisfeito(a)\", \"Satisfeito(a)\", \"Satisfeito(a)\", \"Insatisfeito(a)\", \"Indiferente\", \"Satisfeito(a)\", \"Insatisfeito(a)\", \"Satisfeito(a)\", \"Insatisfeito(a)\", \"Insatisfeito(a)\", \"Indiferente\", \"Satisfeito(a)\", \"Insatisfeito(a)\", \"Satisfeito(a)\", \"Indiferente\", \"Muito insatisfeito(a)\", \"Indiferente\", \"Indiferente\", \"Indiferente\", \"Insatisfeito(a)\", \"Indiferente\", \"Satisfeito(a)\", \"Indiferente\", \"Satisfeito(a)\", \"Muito satisfeito(a)\", \"Satisfeito(a)\", \"Satisfeito(a)\", \"Satisfeito(a)\", \"Muito satisfeito(a)\", \"Muito satisfeito(a)\", \"Indiferente\", \"Satisfeito(a)\", \"Satisfeito(a)\", \"Insatisfeito(a)\", \"Insatisfeito(a)\", \"Muito satisfeito(a)\", \"Satisfeito(a)\", \"Satisfeito(a)\", \"Indiferente\", \"Insatisfeito(a)\", \"Satisfeito(a)\", \"Muito satisfeito(a)\", \"Indiferente\", \"Satisfeito(a)\", \"Muito satisfeito(a)\", \"Indiferente\", \"Muito insatisfeito(a)\", \"Muito satisfeito(a)\", \"Muito satisfeito(a)\", \"Muito satisfeito(a)\", \"Satisfeito(a)\", \"Muito insatisfeito(a)\", \"Indiferente\", \"Insatisfeito(a)\", \"Muito satisfeito(a)\", \"Indiferente\", \"Muito satisfeito(a)\", \"Muito satisfeito(a)\", \"Muito satisfeito(a)\", \"Muito satisfeito(a)\", \"Muito insatisfeito(a)\", \"Muito satisfeito(a)\", \"Muito satisfeito(a)\", \"Muito satisfeito(a)\", \"Satisfeito(a)\", \"Muito satisfeito(a)\", \"Insatisfeito(a)\", \"Indiferente\", \"Indiferente\", \"Satisfeito(a)\", \"Insatisfeito(a)\", \"Muito satisfeito(a)\", \"Satisfeito(a)\", \"Satisfeito(a)\", \"Muito satisfeito(a)\", \"Satisfeito(a)\", \"Satisfeito(a)\", \"Muito satisfeito(a)\", \"Muito satisfeito(a)\", \"Muito satisfeito(a)\", \"Insatisfeito(a)\", \"Satisfeito(a)\", \"Satisfeito(a)\", \"Insatisfeito(a)\", \"Satisfeito(a)\", \"Muito satisfeito(a)\", \"Indiferente\", \"Muito satisfeito(a)\", \"Muito satisfeito(a)\", \"Muito satisfeito(a)\", \"Satisfeito(a)\", \"Insatisfeito(a)\", \"Satisfeito(a)\", \"Satisfeito(a)\", \"Muito satisfeito(a)\", \"Satisfeito(a)\", \"Satisfeito(a)\", \"Satisfeito(a)\", \"Satisfeito(a)\", \"Satisfeito(a)\", \"Muito satisfeito(a)\", \"Satisfeito(a)\", \"Muito insatisfeito(a)\", \"Satisfeito(a)\", \"Satisfeito(a)\", \"Muito satisfeito(a)\", \"Indiferente\", \"Insatisfeito(a)\", \"Insatisfeito(a)\", \"Satisfeito(a)\", \"Insatisfeito(a)\", \"Muito satisfeito(a)\", \"Satisfeito(a)\", \"Indiferente\", \"Insatisfeito(a)\", \"Insatisfeito(a)\", \"Insatisfeito(a)\", \"Satisfeito(a)\", \"Indiferente\", \"Satisfeito(a)\", \"Muito satisfeito(a)\", \"Muito satisfeito(a)\", \"Muito satisfeito(a)\", \"Muito satisfeito(a)\", \"Muito satisfeito(a)\", \"Muito satisfeito(a)\", \"Muito satisfeito(a)\", \"Muito satisfeito(a)\", \"Muito satisfeito(a)\", \"Muito satisfeito(a)\", \"Muito satisfeito(a)\", \"Muito satisfeito(a)\", \"Satisfeito(a)\", \"Muito satisfeito(a)\", \"Insatisfeito(a)\", \"Muito satisfeito(a)\", \"Muito satisfeito(a)\", \"Satisfeito(a)\", \"Satisfeito(a)\", \"Satisfeito(a)\", \"Satisfeito(a)\", \"Muito satisfeito(a)\", \"Insatisfeito(a)\", \"Satisfeito(a)\", \"Muito satisfeito(a)\", \"Satisfeito(a)\", \"Satisfeito(a)\", \"Satisfeito(a)\", \"Satisfeito(a)\", \"Muito satisfeito(a)\", \"Satisfeito(a)\", \"Muito satisfeito(a)\", \"Satisfeito(a)\", \"Satisfeito(a)\", \"Satisfeito(a)\", \"Muito satisfeito(a)\", \"Satisfeito(a)\", \"Muito satisfeito(a)\", \"Satisfeito(a)\", \"Satisfeito(a)\", \"Satisfeito(a)\", \"Muito satisfeito(a)\", \"Muito satisfeito(a)\", \"Muito satisfeito(a)\", \"Indiferente\", \"Satisfeito(a)\", \"Muito satisfeito(a)\", \"Muito satisfeito(a)\", \"Indiferente\", \"Muito satisfeito(a)\", \"Satisfeito(a)\", \"Indiferente\", \"Muito insatisfeito(a)\", \"Indiferente\", \"Satisfeito(a)\", \"Insatisfeito(a)\", \"Muito satisfeito(a)\", \"Satisfeito(a)\", \"Satisfeito(a)\", \"Insatisfeito(a)\", \"Satisfeito(a)\", \"Indiferente\", \"Muito satisfeito(a)\", \"Muito satisfeito(a)\", \"Satisfeito(a)\", \"Muito satisfeito(a)\", \"Satisfeito(a)\", \"Satisfeito(a)\", \"Insatisfeito(a)\", \"Muito satisfeito(a)\", \"Satisfeito(a)\", \"Satisfeito(a)\", \"Satisfeito(a)\", \"Satisfeito(a)\", \"Insatisfeito(a)\", \"Insatisfeito(a)\", \"Insatisfeito(a)\", \"Muito satisfeito(a)\", \"Muito satisfeito(a)\", \"Muito satisfeito(a)\", \"Muito satisfeito(a)\", \"Muito satisfeito(a)\", \"Satisfeito(a)\", \"Satisfeito(a)\", \"Indiferente\", \"Satisfeito(a)\", \"Muito satisfeito(a)\", \"Muito satisfeito(a)\", \"Satisfeito(a)\", \"Indiferente\", \"Indiferente\", \"Satisfeito(a)\", \"Muito satisfeito(a)\", \"Muito satisfeito(a)\", \"Muito satisfeito(a)\", \"Satisfeito(a)\", \"Muito satisfeito(a)\", \"Satisfeito(a)\", \"Indiferente\", \"Satisfeito(a)\", \"Satisfeito(a)\", \"Satisfeito(a)\", \"Muito insatisfeito(a)\", \"Muito satisfeito(a)\", \"Insatisfeito(a)\", \"Indiferente\", \"Satisfeito(a)\", \"Satisfeito(a)\", \"Insatisfeito(a)\", \"Insatisfeito(a)\", \"Satisfeito(a)\", \"Muito satisfeito(a)\", \"Insatisfeito(a)\", \"Satisfeito(a)\", \"Insatisfeito(a)\", \"Muito satisfeito(a)\", \"Satisfeito(a)\", \"Insatisfeito(a)\", \"Satisfeito(a)\", \"Insatisfeito(a)\", \"Satisfeito(a)\", \"Satisfeito(a)\", \"Satisfeito(a)\", \"Satisfeito(a)\", \"Insatisfeito(a)\", \"Satisfeito(a)\", \"Muito satisfeito(a)\", \"Muito satisfeito(a)\", \"Muito satisfeito(a)\", \"Muito satisfeito(a)\", \"Muito satisfeito(a)\", \"Satisfeito(a)\", \"Insatisfeito(a)\", \"Muito satisfeito(a)\", \"Muito satisfeito(a)\", \"Indiferente\", \"Satisfeito(a)\", \"Indiferente\", \"Muito satisfeito(a)\", \"Indiferente\", \"Satisfeito(a)\", \"Muito satisfeito(a)\", \"Muito satisfeito(a)\", \"Muito satisfeito(a)\", \"Muito satisfeito(a)\", \"Muito insatisfeito(a)\", \"Indiferente\", \"Indiferente\", \"Satisfeito(a)\", \"Satisfeito(a)\", \"Insatisfeito(a)\", \"Muito satisfeito(a)\", \"Muito satisfeito(a)\", \"Satisfeito(a)\", \"Indiferente\", \"Muito satisfeito(a)\", \"Muito insatisfeito(a)\", \"Muito satisfeito(a)\", \"Satisfeito(a)\", \"Muito satisfeito(a)\", \"Satisfeito(a)\", \"Satisfeito(a)\", \"Muito satisfeito(a)\", \"Muito satisfeito(a)\", \"Satisfeito(a)\", \"Muito satisfeito(a)\", \"Muito satisfeito(a)\", \"Muito satisfeito(a)\", \"Indiferente\", \"Muito satisfeito(a)\", \"Muito insatisfeito(a)\", \"Muito satisfeito(a)\", \"Muito satisfeito(a)\", \"Indiferente\", \"Muito insatisfeito(a)\", \"Satisfeito(a)\", \"Insatisfeito(a)\", \"Satisfeito(a)\", \"Satisfeito(a)\", \"Satisfeito(a)\", \"Indiferente\", \"Satisfeito(a)\", \"Indiferente\", \"Muito satisfeito(a)\", \"Muito insatisfeito(a)\", \"Satisfeito(a)\", \"Satisfeito(a)\", \"Muito satisfeito(a)\", \"Satisfeito(a)\", \"Insatisfeito(a)\", \"Muito satisfeito(a)\", \"Muito insatisfeito(a)\", \"Muito satisfeito(a)\", \"Muito satisfeito(a)\", \"Muito satisfeito(a)\", \"Muito satisfeito(a)\", \"Indiferente\", \"Satisfeito(a)\", \"Satisfeito(a)\", \"Muito satisfeito(a)\", \"Satisfeito(a)\", \"Satisfeito(a)\", \"Muito satisfeito(a)\", \"Satisfeito(a)\", \"Satisfeito(a)\", \"Muito satisfeito(a)\", \"Muito satisfeito(a)\", \"Muito insatisfeito(a)\", \"Satisfeito(a)\", \"Insatisfeito(a)\", \"Satisfeito(a)\", \"Satisfeito(a)\", \"Insatisfeito(a)\", \"Satisfeito(a)\", \"Satisfeito(a)\", \"Muito satisfeito(a)\", \"Muito satisfeito(a)\", \"Satisfeito(a)\", \"Satisfeito(a)\", \"Satisfeito(a)\", \"Satisfeito(a)\", \"Muito satisfeito(a)\", \"Muito satisfeito(a)\", \"Satisfeito(a)\", \"Satisfeito(a)\", \"Satisfeito(a)\", \"Muito satisfeito(a)\", \"Muito insatisfeito(a)\", \"Satisfeito(a)\", \"Indiferente\", \"Muito satisfeito(a)\", \"Insatisfeito(a)\", \"Muito satisfeito(a)\", \"Satisfeito(a)\", \"Insatisfeito(a)\", \"Muito satisfeito(a)\", \"Muito satisfeito(a)\", \"Satisfeito(a)\", \"Satisfeito(a)\", \"Insatisfeito(a)\", \"Insatisfeito(a)\", \"Satisfeito(a)\", \"Muito satisfeito(a)\", \"Satisfeito(a)\", \"Satisfeito(a)\", \"Satisfeito(a)\", \"Insatisfeito(a)\", \"Muito satisfeito(a)\", \"Insatisfeito(a)\", \"Muito satisfeito(a)\", \"Insatisfeito(a)\", \"Insatisfeito(a)\", \"Satisfeito(a)\", \"Indiferente\", \"Satisfeito(a)\", \"Satisfeito(a)\", \"Satisfeito(a)\", \"Muito satisfeito(a)\", \"Satisfeito(a)\", \"Satisfeito(a)\", \"Muito satisfeito(a)\", \"Indiferente\", \"Muito satisfeito(a)\", \"Muito satisfeito(a)\", \"Muito satisfeito(a)\", \"Muito satisfeito(a)\", \"Satisfeito(a)\", \"Muito satisfeito(a)\", \"Muito insatisfeito(a)\", \"Muito satisfeito(a)\", \"Insatisfeito(a)\", \"Satisfeito(a)\", \"Insatisfeito(a)\", \"Insatisfeito(a)\", \"Satisfeito(a)\", \"Satisfeito(a)\", \"Satisfeito(a)\", \"Satisfeito(a)\", \"Insatisfeito(a)\", \"Insatisfeito(a)\", \"Satisfeito(a)\", \"Muito insatisfeito(a)\", \"Indiferente\", \"Satisfeito(a)\", \"Indiferente\", \"Muito satisfeito(a)\", \"Indiferente\", \"Indiferente\", \"Insatisfeito(a)\", \"Muito satisfeito(a)\", \"Insatisfeito(a)\", \"Satisfeito(a)\", \"Indiferente\", \"Satisfeito(a)\", \"Muito satisfeito(a)\", \"Satisfeito(a)\", \"Insatisfeito(a)\", \"Muito satisfeito(a)\", \"Muito satisfeito(a)\", \"Muito satisfeito(a)\", \"Insatisfeito(a)\", \"Muito satisfeito(a)\", \"Satisfeito(a)\", \"Insatisfeito(a)\", \"Insatisfeito(a)\", \"Indiferente\", \"Muito satisfeito(a)\", \"Satisfeito(a)\", \"Satisfeito(a)\", \"Indiferente\", \"Satisfeito(a)\", \"Muito satisfeito(a)\", \"Satisfeito(a)\", \"Indiferente\", \"Muito insatisfeito(a)\", \"Insatisfeito(a)\", \"Insatisfeito(a)\", \"Satisfeito(a)\", \"Insatisfeito(a)\", \"Satisfeito(a)\", \"Insatisfeito(a)\", \"Satisfeito(a)\", \"Satisfeito(a)\", \"Satisfeito(a)\", \"Satisfeito(a)\", \"Indiferente\", \"Satisfeito(a)\", \"Satisfeito(a)\", \"Satisfeito(a)\", \"Muito insatisfeito(a)\", \"Satisfeito(a)\", \"Indiferente\", \"Muito insatisfeito(a)\", \"Insatisfeito(a)\", \"Indiferente\", \"Indiferente\", \"Insatisfeito(a)\", \"Insatisfeito(a)\", \"Muito insatisfeito(a)\", \"Satisfeito(a)\", \"Satisfeito(a)\", \"Indiferente\", \"Satisfeito(a)\", \"Muito insatisfeito(a)\", \"Muito insatisfeito(a)\", \"Insatisfeito(a)\", \"Satisfeito(a)\", \"Insatisfeito(a)\", \"Satisfeito(a)\", \"Insatisfeito(a)\", \"Indiferente\", \"Satisfeito(a)\", \"Satisfeito(a)\", \"Insatisfeito(a)\", \"Satisfeito(a)\", \"Satisfeito(a)\", \"Muito insatisfeito(a)\", \"Insatisfeito(a)\", \"Satisfeito(a)\", \"Satisfeito(a)\", \"Indiferente\", \"Muito satisfeito(a)\", \"Satisfeito(a)\", \"Indiferente\", \"Muito satisfeito(a)\", \"Satisfeito(a)\", \"Muito satisfeito(a)\", \"Muito satisfeito(a)\", \"Satisfeito(a)\", \"Satisfeito(a)\", \"Satisfeito(a)\", \"Insatisfeito(a)\", \"Satisfeito(a)\", \"Insatisfeito(a)\", \"Satisfeito(a)\", \"Satisfeito(a)\", \"Satisfeito(a)\", \"Muito insatisfeito(a)\", \"Muito satisfeito(a)\", \"Muito satisfeito(a)\", \"Satisfeito(a)\", \"Satisfeito(a)\", \"Satisfeito(a)\", \"Muito satisfeito(a)\", \"Satisfeito(a)\", \"Satisfeito(a)\", \"Muito satisfeito(a)\", \"Satisfeito(a)\", \"Indiferente\", \"Satisfeito(a)\", \"Insatisfeito(a)\", \"Satisfeito(a)\", \"Insatisfeito(a)\", \"Indiferente\", \"Insatisfeito(a)\", \"Satisfeito(a)\", \"Muito satisfeito(a)\", \"Indiferente\", \"Indiferente\", \"Muito satisfeito(a)\", \"Indiferente\", \"Satisfeito(a)\", \"Muito insatisfeito(a)\", \"Muito satisfeito(a)\", \"Satisfeito(a)\", \"Insatisfeito(a)\", \"Muito insatisfeito(a)\", \"Satisfeito(a)\", \"Insatisfeito(a)\", \"Indiferente\", \"Satisfeito(a)\", \"Satisfeito(a)\", \"Satisfeito(a)\", \"Muito satisfeito(a)\", \"Satisfeito(a)\", \"Insatisfeito(a)\", \"Indiferente\", \"Satisfeito(a)\", \"Muito satisfeito(a)\", \"Satisfeito(a)\", \"Satisfeito(a)\", \"Insatisfeito(a)\", \"Satisfeito(a)\", \"Satisfeito(a)\", \"Satisfeito(a)\", \"Satisfeito(a)\", \"Satisfeito(a)\", \"Satisfeito(a)\", \"Satisfeito(a)\", \"Satisfeito(a)\", \"Insatisfeito(a)\", \"Indiferente\", \"Satisfeito(a)\", \"Satisfeito(a)\", \"Insatisfeito(a)\", \"Satisfeito(a)\", \"Satisfeito(a)\", \"Satisfeito(a)\", \"Muito satisfeito(a)\", \"Muito satisfeito(a)\", \"Satisfeito(a)\", \"Muito satisfeito(a)\", \"Satisfeito(a)\", \"Muito satisfeito(a)\", \"Satisfeito(a)\", \"Muito satisfeito(a)\", \"Satisfeito(a)\", \"Indiferente\", \"Muito insatisfeito(a)\", \"Satisfeito(a)\", \"Muito satisfeito(a)\", \"Muito satisfeito(a)\", \"Satisfeito(a)\", \"Muito satisfeito(a)\", \"Muito satisfeito(a)\", \"Muito satisfeito(a)\", \"Satisfeito(a)\", \"Insatisfeito(a)\", \"Muito satisfeito(a)\", \"Muito satisfeito(a)\", \"Indiferente\", \"Satisfeito(a)\", \"Muito satisfeito(a)\", \"Muito satisfeito(a)\", \"Muito satisfeito(a)\", \"Muito satisfeito(a)\", \"Satisfeito(a)\", \"Muito satisfeito(a)\", \"Insatisfeito(a)\", \"Muito satisfeito(a)\", \"Satisfeito(a)\", \"Muito insatisfeito(a)\", \"Muito satisfeito(a)\", \"Muito satisfeito(a)\", \"Muito satisfeito(a)\", \"Muito satisfeito(a)\", \"Insatisfeito(a)\", \"Satisfeito(a)\", \"Muito satisfeito(a)\", \"Satisfeito(a)\", \"Muito satisfeito(a)\", \"Satisfeito(a)\", \"Muito satisfeito(a)\", \"Muito satisfeito(a)\", \"Satisfeito(a)\", \"Muito satisfeito(a)\", \"Satisfeito(a)\", \"Muito satisfeito(a)\", \"Muito satisfeito(a)\", \"Insatisfeito(a)\", \"Muito satisfeito(a)\", \"Muito insatisfeito(a)\", \"Indiferente\", \"Insatisfeito(a)\", \"Indiferente\", \"Indiferente\", \"Satisfeito(a)\", \"Satisfeito(a)\", \"Satisfeito(a)\", \"Satisfeito(a)\", \"Satisfeito(a)\", \"Muito satisfeito(a)\", \"Insatisfeito(a)\", \"Muito insatisfeito(a)\", \"Muito satisfeito(a)\", \"Indiferente\", \"Muito satisfeito(a)\", \"Satisfeito(a)\", \"Muito satisfeito(a)\", \"Satisfeito(a)\", \"Muito satisfeito(a)\", \"Muito satisfeito(a)\", \"Indiferente\", \"Muito satisfeito(a)\", \"Satisfeito(a)\", \"Insatisfeito(a)\", \"Satisfeito(a)\", \"Insatisfeito(a)\", \"Satisfeito(a)\", \"Muito satisfeito(a)\", \"Muito satisfeito(a)\", \"Satisfeito(a)\", \"Satisfeito(a)\", \"Muito satisfeito(a)\", \"Insatisfeito(a)\", \"Insatisfeito(a)\", \"Satisfeito(a)\", \"Insatisfeito(a)\", \"Indiferente\", \"Insatisfeito(a)\", \"Satisfeito(a)\", \"Insatisfeito(a)\", \"Satisfeito(a)\", \"Satisfeito(a)\", \"Muito satisfeito(a)\", \"Insatisfeito(a)\", \"Insatisfeito(a)\", \"Satisfeito(a)\", \"Satisfeito(a)\", \"Satisfeito(a)\", \"Satisfeito(a)\", \"Insatisfeito(a)\", \"Satisfeito(a)\", \"Insatisfeito(a)\", \"Muito satisfeito(a)\", \"Insatisfeito(a)\", \"Insatisfeito(a)\", \"Insatisfeito(a)\", \"Insatisfeito(a)\", \"Satisfeito(a)\", \"Satisfeito(a)\", \"Satisfeito(a)\", \"Satisfeito(a)\", \"Satisfeito(a)\", \"Satisfeito(a)\", \"Insatisfeito(a)\", \"Indiferente\", \"Insatisfeito(a)\", \"Satisfeito(a)\", \"Insatisfeito(a)\", \"Insatisfeito(a)\", \"Satisfeito(a)\", \"Satisfeito(a)\", \"Satisfeito(a)\", \"Satisfeito(a)\", \"Satisfeito(a)\", \"Insatisfeito(a)\", \"Muito satisfeito(a)\", \"Muito satisfeito(a)\", \"Muito insatisfeito(a)\", \"Satisfeito(a)\", \"Satisfeito(a)\", \"Indiferente\", \"Satisfeito(a)\", \"Satisfeito(a)\", \"Muito satisfeito(a)\", \"Satisfeito(a)\", \"Insatisfeito(a)\", \"Satisfeito(a)\", \"Muito satisfeito(a)\", \"Insatisfeito(a)\", \"Satisfeito(a)\", \"Satisfeito(a)\", \"Satisfeito(a)\", \"Insatisfeito(a)\", \"Muito satisfeito(a)\", \"Satisfeito(a)\", \"Muito satisfeito(a)\", \"Satisfeito(a)\", \"Insatisfeito(a)\", \"Satisfeito(a)\", \"Muito satisfeito(a)\", \"Muito insatisfeito(a)\", \"Insatisfeito(a)\", \"Muito insatisfeito(a)\", \"Insatisfeito(a)\", \"Satisfeito(a)\", \"Muito satisfeito(a)\", \"Muito satisfeito(a)\", \"Muito satisfeito(a)\", \"Insatisfeito(a)\", \"Muito satisfeito(a)\", \"Muito satisfeito(a)\", \"Insatisfeito(a)\", \"Satisfeito(a)\", \"Muito satisfeito(a)\", \"Satisfeito(a)\", \"Muito insatisfeito(a)\", \"Indiferente\", \"Muito satisfeito(a)\", \"Satisfeito(a)\", \"Insatisfeito(a)\", \"Satisfeito(a)\", \"Indiferente\", \"Satisfeito(a)\", \"Muito satisfeito(a)\", \"Muito insatisfeito(a)\", \"Insatisfeito(a)\", \"Satisfeito(a)\", \"Satisfeito(a)\", \"Insatisfeito(a)\", \"Insatisfeito(a)\", \"Satisfeito(a)\", \"Insatisfeito(a)\", \"Insatisfeito(a)\", \"Satisfeito(a)\", \"Satisfeito(a)\", \"Indiferente\", \"Satisfeito(a)\", \"Muito satisfeito(a)\", \"Insatisfeito(a)\", \"Insatisfeito(a)\", \"Muito satisfeito(a)\", \"Satisfeito(a)\", \"Satisfeito(a)\", \"Indiferente\", \"Satisfeito(a)\", \"Satisfeito(a)\", \"Insatisfeito(a)\", \"Satisfeito(a)\", \"Satisfeito(a)\", \"Satisfeito(a)\", \"Satisfeito(a)\", \"Satisfeito(a)\", \"Muito insatisfeito(a)\", \"Muito satisfeito(a)\", \"Indiferente\", \"Satisfeito(a)\", \"Satisfeito(a)\", \"Satisfeito(a)\", \"Muito satisfeito(a)\", \"Satisfeito(a)\", \"Insatisfeito(a)\", \"Insatisfeito(a)\", \"Satisfeito(a)\", \"Satisfeito(a)\", \"Satisfeito(a)\", \"Satisfeito(a)\", \"Satisfeito(a)\", \"Muito insatisfeito(a)\", \"Insatisfeito(a)\", \"Muito satisfeito(a)\", \"Muito satisfeito(a)\", \"Muito satisfeito(a)\", \"Muito satisfeito(a)\", \"Insatisfeito(a)\", \"Indiferente\", \"Muito satisfeito(a)\", \"Satisfeito(a)\", \"Satisfeito(a)\", \"Satisfeito(a)\", \"Indiferente\", \"Muito satisfeito(a)\", \"Indiferente\", \"Muito satisfeito(a)\", \"Satisfeito(a)\", \"Muito satisfeito(a)\", \"Indiferente\", \"Muito satisfeito(a)\", \"Insatisfeito(a)\", \"Satisfeito(a)\", \"Muito satisfeito(a)\", \"Muito satisfeito(a)\", \"Indiferente\", \"Muito satisfeito(a)\", \"Satisfeito(a)\", \"Satisfeito(a)\", \"Satisfeito(a)\", \"Muito satisfeito(a)\", \"Satisfeito(a)\", \"Indiferente\", \"Indiferente\", \"Satisfeito(a)\", \"Muito satisfeito(a)\", \"Satisfeito(a)\", \"Insatisfeito(a)\", \"Satisfeito(a)\", \"Satisfeito(a)\", \"Insatisfeito(a)\", \"Insatisfeito(a)\", \"Muito insatisfeito(a)\", \"Muito insatisfeito(a)\", \"Muito insatisfeito(a)\", \"Muito satisfeito(a)\", \"Satisfeito(a)\", \"Muito satisfeito(a)\", \"Satisfeito(a)\", \"Muito satisfeito(a)\", \"Indiferente\", \"Insatisfeito(a)\", \"Satisfeito(a)\", \"Indiferente\", \"Muito satisfeito(a)\", \"Indiferente\", \"Muito satisfeito(a)\", \"Satisfeito(a)\", \"Muito satisfeito(a)\", \"Insatisfeito(a)\", \"Insatisfeito(a)\", \"Muito satisfeito(a)\", \"Indiferente\", \"Satisfeito(a)\", \"Muito satisfeito(a)\", \"Indiferente\", \"Satisfeito(a)\", \"Muito insatisfeito(a)\", \"Satisfeito(a)\", \"Muito satisfeito(a)\", \"Muito satisfeito(a)\", \"Satisfeito(a)\", \"Insatisfeito(a)\", \"Insatisfeito(a)\", \"Muito satisfeito(a)\", \"Satisfeito(a)\", \"Satisfeito(a)\", \"Satisfeito(a)\", \"Satisfeito(a)\", \"Indiferente\", \"Satisfeito(a)\", \"Satisfeito(a)\", \"Satisfeito(a)\", \"Satisfeito(a)\", \"Satisfeito(a)\", \"Muito satisfeito(a)\", \"Indiferente\", \"Muito satisfeito(a)\", \"Satisfeito(a)\", \"Muito insatisfeito(a)\", \"Insatisfeito(a)\", \"Insatisfeito(a)\", \"Insatisfeito(a)\", \"Muito insatisfeito(a)\", \"Satisfeito(a)\", \"Satisfeito(a)\", \"Satisfeito(a)\", \"Satisfeito(a)\", \"Satisfeito(a)\", \"Satisfeito(a)\", \"Muito satisfeito(a)\", \"Insatisfeito(a)\", \"Satisfeito(a)\", \"Insatisfeito(a)\", \"Muito satisfeito(a)\", \"Satisfeito(a)\", \"Satisfeito(a)\", \"Satisfeito(a)\", \"Satisfeito(a)\", \"Muito satisfeito(a)\", \"Muito satisfeito(a)\", \"Satisfeito(a)\", \"Satisfeito(a)\", \"Indiferente\", \"Insatisfeito(a)\", \"Satisfeito(a)\", \"Muito insatisfeito(a)\", \"Muito satisfeito(a)\", \"Muito satisfeito(a)\", \"Insatisfeito(a)\", \"Insatisfeito(a)\", \"Insatisfeito(a)\", \"Indiferente\", \"Satisfeito(a)\", \"Muito insatisfeito(a)\", \"Indiferente\", \"Muito satisfeito(a)\", \"Indiferente\", \"Satisfeito(a)\", \"Muito satisfeito(a)\", \"Muito satisfeito(a)\", \"Muito satisfeito(a)\", \"Satisfeito(a)\", \"Satisfeito(a)\", \"Muito satisfeito(a)\", \"Muito satisfeito(a)\", \"Satisfeito(a)\", \"Satisfeito(a)\", \"Insatisfeito(a)\", \"Satisfeito(a)\", \"Insatisfeito(a)\", \"Indiferente\", \"Insatisfeito(a)\", \"Insatisfeito(a)\", \"Satisfeito(a)\", \"Satisfeito(a)\", \"Muito satisfeito(a)\", \"Satisfeito(a)\", \"Muito satisfeito(a)\", \"Muito satisfeito(a)\", \"Satisfeito(a)\", \"Insatisfeito(a)\", \"Muito satisfeito(a)\", \"Indiferente\", \"Muito insatisfeito(a)\", \"Muito satisfeito(a)\", \"Satisfeito(a)\", \"Muito satisfeito(a)\", \"Muito satisfeito(a)\", \"Muito satisfeito(a)\", \"Muito satisfeito(a)\", \"Insatisfeito(a)\", \"Muito satisfeito(a)\", \"Muito satisfeito(a)\", \"Satisfeito(a)\", \"Insatisfeito(a)\", \"Satisfeito(a)\", \"Indiferente\", \"Satisfeito(a)\", \"Muito satisfeito(a)\", \"Muito satisfeito(a)\", \"Muito satisfeito(a)\", \"Indiferente\", \"Indiferente\", \"Satisfeito(a)\", \"Muito satisfeito(a)\", \"Satisfeito(a)\", \"Satisfeito(a)\", \"Satisfeito(a)\", \"Insatisfeito(a)\", \"Insatisfeito(a)\", \"Insatisfeito(a)\", \"Satisfeito(a)\", \"Muito insatisfeito(a)\", \"Satisfeito(a)\", \"Muito insatisfeito(a)\", \"Indiferente\", \"Insatisfeito(a)\", \"Insatisfeito(a)\", \"Insatisfeito(a)\", \"Satisfeito(a)\", \"Indiferente\", \"Insatisfeito(a)\", \"Satisfeito(a)\", \"Satisfeito(a)\", \"Muito satisfeito(a)\", \"Insatisfeito(a)\", \"Satisfeito(a)\", \"Indiferente\", \"Satisfeito(a)\", \"Insatisfeito(a)\", \"Satisfeito(a)\", \"Satisfeito(a)\", \"Satisfeito(a)\", \"Muito insatisfeito(a)\", \"Insatisfeito(a)\", \"Satisfeito(a)\", \"Satisfeito(a)\", \"Satisfeito(a)\", \"Satisfeito(a)\", \"Insatisfeito(a)\", \"Muito satisfeito(a)\", \"Muito satisfeito(a)\", \"Satisfeito(a)\", \"Muito satisfeito(a)\", \"Insatisfeito(a)\", \"Satisfeito(a)\", \"Muito satisfeito(a)\", \"Satisfeito(a)\", \"Insatisfeito(a)\", \"Insatisfeito(a)\", \"Muito satisfeito(a)\", \"Muito satisfeito(a)\", \"Indiferente\", \"Indiferente\", \"Insatisfeito(a)\", \"Insatisfeito(a)\", \"Insatisfeito(a)\", \"Indiferente\", \"Muito satisfeito(a)\", \"Satisfeito(a)\", \"Insatisfeito(a)\", \"Insatisfeito(a)\", \"Satisfeito(a)\", \"Satisfeito(a)\", \"Satisfeito(a)\", \"Insatisfeito(a)\", \"Satisfeito(a)\", \"Satisfeito(a)\", \"Insatisfeito(a)\", \"Satisfeito(a)\", \"Indiferente\", \"Indiferente\", \"Muito insatisfeito(a)\", \"Insatisfeito(a)\", \"Satisfeito(a)\", \"Satisfeito(a)\", \"Muito satisfeito(a)\", \"Muito satisfeito(a)\", \"Satisfeito(a)\", \"Satisfeito(a)\", \"Satisfeito(a)\", \"Muito insatisfeito(a)\", \"Indiferente\", \"Satisfeito(a)\", \"Satisfeito(a)\", \"Satisfeito(a)\", \"Indiferente\", \"Satisfeito(a)\", \"Insatisfeito(a)\", \"Indiferente\", \"Satisfeito(a)\", \"Satisfeito(a)\", \"Insatisfeito(a)\", \"Satisfeito(a)\", \"Muito satisfeito(a)\", \"Satisfeito(a)\", \"Muito insatisfeito(a)\", \"Insatisfeito(a)\", \"Indiferente\", \"Indiferente\", \"Insatisfeito(a)\", \"Insatisfeito(a)\", \"Muito satisfeito(a)\", \"Muito insatisfeito(a)\", \"Satisfeito(a)\", \"Satisfeito(a)\", \"Muito satisfeito(a)\", \"Satisfeito(a)\", \"Indiferente\", \"Satisfeito(a)\", \"Satisfeito(a)\", \"Indiferente\", \"Satisfeito(a)\", \"Satisfeito(a)\", \"Satisfeito(a)\", \"Muito satisfeito(a)\", \"Satisfeito(a)\", \"Satisfeito(a)\", \"Muito satisfeito(a)\", \"Muito satisfeito(a)\", \"Satisfeito(a)\", \"Muito satisfeito(a)\", \"Indiferente\", \"Muito satisfeito(a)\", \"Muito insatisfeito(a)\", \"Satisfeito(a)\", \"Muito satisfeito(a)\", \"Satisfeito(a)\", \"Satisfeito(a)\", \"Satisfeito(a)\", \"Insatisfeito(a)\", \"Satisfeito(a)\", \"Satisfeito(a)\", \"Muito satisfeito(a)\", \"Satisfeito(a)\", \"Muito satisfeito(a)\", \"Muito satisfeito(a)\", \"Muito insatisfeito(a)\", \"Muito satisfeito(a)\", \"Satisfeito(a)\", \"Satisfeito(a)\", \"Indiferente\", \"Satisfeito(a)\", \"Insatisfeito(a)\", \"Satisfeito(a)\", \"Satisfeito(a)\", \"Satisfeito(a)\", \"Satisfeito(a)\", \"Muito satisfeito(a)\", \"Muito satisfeito(a)\", \"Muito satisfeito(a)\", \"Muito satisfeito(a)\", \"Satisfeito(a)\", \"Muito satisfeito(a)\", \"Indiferente\", \"Muito satisfeito(a)\", \"Muito satisfeito(a)\", \"Insatisfeito(a)\", \"Satisfeito(a)\", \"Satisfeito(a)\", \"Muito satisfeito(a)\", \"Satisfeito(a)\", \"Satisfeito(a)\", \"Satisfeito(a)\", \"Satisfeito(a)\", \"Satisfeito(a)\", \"Muito satisfeito(a)\", \"Indiferente\", \"Satisfeito(a)\", \"Insatisfeito(a)\", \"Insatisfeito(a)\", \"Muito satisfeito(a)\", \"Insatisfeito(a)\", \"Satisfeito(a)\", \"Muito satisfeito(a)\", \"Insatisfeito(a)\", \"Satisfeito(a)\", \"Muito satisfeito(a)\", \"Satisfeito(a)\", \"Satisfeito(a)\", \"Satisfeito(a)\", \"Muito satisfeito(a)\", \"Muito satisfeito(a)\", \"Muito satisfeito(a)\", \"Insatisfeito(a)\", \"Satisfeito(a)\", \"Satisfeito(a)\", \"Insatisfeito(a)\", \"Muito satisfeito(a)\", \"Muito satisfeito(a)\", \"Satisfeito(a)\", \"Muito satisfeito(a)\", \"Satisfeito(a)\", \"Indiferente\", \"Indiferente\", \"Satisfeito(a)\", \"Satisfeito(a)\", \"Muito insatisfeito(a)\", \"Satisfeito(a)\", \"Satisfeito(a)\", \"Indiferente\", \"Insatisfeito(a)\", \"Satisfeito(a)\", \"Satisfeito(a)\", \"Insatisfeito(a)\", \"Satisfeito(a)\", \"Insatisfeito(a)\", \"Insatisfeito(a)\", \"Indiferente\", \"Insatisfeito(a)\", \"Muito satisfeito(a)\", \"Indiferente\", \"Indiferente\", \"Satisfeito(a)\", \"Satisfeito(a)\", \"Muito satisfeito(a)\", \"Insatisfeito(a)\", \"Muito insatisfeito(a)\", \"Satisfeito(a)\", \"Satisfeito(a)\", \"Satisfeito(a)\", \"Satisfeito(a)\", \"Muito insatisfeito(a)\", \"Muito satisfeito(a)\", \"Insatisfeito(a)\", \"Satisfeito(a)\", \"Insatisfeito(a)\", \"Insatisfeito(a)\", \"Satisfeito(a)\", \"Muito insatisfeito(a)\", \"Muito insatisfeito(a)\", \"Satisfeito(a)\", \"Insatisfeito(a)\", \"Muito satisfeito(a)\", \"Satisfeito(a)\", \"Muito insatisfeito(a)\", \"Satisfeito(a)\", \"Satisfeito(a)\", \"Muito satisfeito(a)\", \"Muito satisfeito(a)\", \"Muito satisfeito(a)\", \"Insatisfeito(a)\", \"Satisfeito(a)\", \"Muito satisfeito(a)\", \"Satisfeito(a)\", \"Muito satisfeito(a)\", \"Satisfeito(a)\", \"Satisfeito(a)\", \"Insatisfeito(a)\", \"Indiferente\", \"Satisfeito(a)\", \"Muito satisfeito(a)\", \"Indiferente\", \"Indiferente\", \"Insatisfeito(a)\", \"Satisfeito(a)\", \"Muito satisfeito(a)\", \"Satisfeito(a)\", \"Insatisfeito(a)\", \"Satisfeito(a)\", \"Insatisfeito(a)\", \"Satisfeito(a)\", \"Indiferente\", \"Muito satisfeito(a)\", \"Insatisfeito(a)\", \"Satisfeito(a)\", \"Muito satisfeito(a)\", \"Satisfeito(a)\", \"Satisfeito(a)\", \"Satisfeito(a)\", \"Indiferente\", \"Muito satisfeito(a)\", \"Insatisfeito(a)\", \"Satisfeito(a)\", \"Indiferente\", \"Muito satisfeito(a)\", \"Indiferente\", \"Satisfeito(a)\", \"Muito satisfeito(a)\", \"Satisfeito(a)\", \"Insatisfeito(a)\", \"Insatisfeito(a)\", \"Satisfeito(a)\", \"Satisfeito(a)\", \"Insatisfeito(a)\", \"Insatisfeito(a)\", \"Muito satisfeito(a)\", \"Insatisfeito(a)\", \"Satisfeito(a)\", \"Satisfeito(a)\", \"Muito satisfeito(a)\", \"Insatisfeito(a)\", \"Muito satisfeito(a)\", \"Muito satisfeito(a)\", \"Insatisfeito(a)\", \"Satisfeito(a)\", \"Satisfeito(a)\", \"Satisfeito(a)\", \"Indiferente\", \"Satisfeito(a)\", \"Satisfeito(a)\", \"Satisfeito(a)\", \"Muito satisfeito(a)\", \"Muito satisfeito(a)\", \"Satisfeito(a)\", \"Satisfeito(a)\", \"Muito satisfeito(a)\", \"Muito satisfeito(a)\", \"Muito satisfeito(a)\", \"Indiferente\", \"Satisfeito(a)\", \"Satisfeito(a)\", \"Satisfeito(a)\", \"Muito satisfeito(a)\", \"Satisfeito(a)\", \"Insatisfeito(a)\", \"Muito satisfeito(a)\", \"Satisfeito(a)\", \"Satisfeito(a)\", \"Indiferente\", \"Muito satisfeito(a)\", \"Insatisfeito(a)\", \"Satisfeito(a)\", \"Insatisfeito(a)\", \"Insatisfeito(a)\", \"Indiferente\", \"Satisfeito(a)\", \"Satisfeito(a)\", \"Satisfeito(a)\", \"Insatisfeito(a)\", \"Muito satisfeito(a)\", \"Satisfeito(a)\", \"Insatisfeito(a)\", \"Satisfeito(a)\", \"Satisfeito(a)\", \"Muito satisfeito(a)\", \"Muito insatisfeito(a)\", \"Indiferente\", \"Muito satisfeito(a)\", \"Satisfeito(a)\", \"Satisfeito(a)\", \"Satisfeito(a)\", \"Muito satisfeito(a)\", \"Muito insatisfeito(a)\", \"Indiferente\", \"Insatisfeito(a)\", \"Satisfeito(a)\", \"Satisfeito(a)\", \"Insatisfeito(a)\", \"Satisfeito(a)\", \"Muito satisfeito(a)\", \"Muito insatisfeito(a)\", \"Satisfeito(a)\", \"Satisfeito(a)\", \"Insatisfeito(a)\", \"Satisfeito(a)\", \"Satisfeito(a)\", \"Insatisfeito(a)\", \"Muito satisfeito(a)\", \"Insatisfeito(a)\", \"Indiferente\", \"Muito satisfeito(a)\", \"Satisfeito(a)\", \"Indiferente\", \"Muito satisfeito(a)\", \"Muito satisfeito(a)\", \"Muito satisfeito(a)\", \"Satisfeito(a)\", \"Muito satisfeito(a)\", \"Insatisfeito(a)\", \"Satisfeito(a)\", \"Satisfeito(a)\", \"Satisfeito(a)\", \"Satisfeito(a)\", \"Satisfeito(a)\", \"Satisfeito(a)\", \"Satisfeito(a)\", \"Satisfeito(a)\", \"Satisfeito(a)\", \"Muito satisfeito(a)\", \"Muito satisfeito(a)\", \"Insatisfeito(a)\", \"Muito insatisfeito(a)\", \"Insatisfeito(a)\", \"Insatisfeito(a)\", \"Satisfeito(a)\", \"Satisfeito(a)\", \"Muito insatisfeito(a)\", \"Satisfeito(a)\", \"Indiferente\", \"Satisfeito(a)\", \"Muito insatisfeito(a)\", \"Satisfeito(a)\", \"Muito satisfeito(a)\", \"Insatisfeito(a)\", \"Satisfeito(a)\", \"Insatisfeito(a)\", \"Insatisfeito(a)\", \"Muito satisfeito(a)\", \"Muito satisfeito(a)\", \"Satisfeito(a)\", \"Muito satisfeito(a)\", \"Muito satisfeito(a)\", \"Muito satisfeito(a)\", \"Muito satisfeito(a)\", \"Satisfeito(a)\", \"Insatisfeito(a)\", \"Insatisfeito(a)\", \"Insatisfeito(a)\", \"Satisfeito(a)\", \"Satisfeito(a)\", \"Satisfeito(a)\", \"Satisfeito(a)\", \"Indiferente\", \"Muito satisfeito(a)\", \"Insatisfeito(a)\", \"Insatisfeito(a)\", \"Indiferente\", \"Satisfeito(a)\", \"Muito satisfeito(a)\", \"Satisfeito(a)\", \"Insatisfeito(a)\", \"Muito insatisfeito(a)\", \"Satisfeito(a)\", \"Insatisfeito(a)\", \"Satisfeito(a)\", \"Satisfeito(a)\", \"Indiferente\", \"Insatisfeito(a)\", \"Satisfeito(a)\", \"Satisfeito(a)\", \"Satisfeito(a)\", \"Satisfeito(a)\", \"Insatisfeito(a)\", \"Insatisfeito(a)\", \"Insatisfeito(a)\", \"Satisfeito(a)\", \"Satisfeito(a)\", \"Satisfeito(a)\", \"Insatisfeito(a)\", \"Satisfeito(a)\", \"Satisfeito(a)\", \"Insatisfeito(a)\", \"Satisfeito(a)\", \"Muito satisfeito(a)\", \"Muito satisfeito(a)\", \"Insatisfeito(a)\", \"Satisfeito(a)\", \"Insatisfeito(a)\", \"Satisfeito(a)\", \"Indiferente\", \"Satisfeito(a)\", \"Satisfeito(a)\", \"Satisfeito(a)\", \"Muito insatisfeito(a)\", \"Muito satisfeito(a)\", \"Muito insatisfeito(a)\", \"Satisfeito(a)\", \"Muito satisfeito(a)\", \"Indiferente\", \"Muito insatisfeito(a)\", \"Insatisfeito(a)\", \"Satisfeito(a)\", \"Satisfeito(a)\", \"Satisfeito(a)\", \"Insatisfeito(a)\", \"Satisfeito(a)\", \"Satisfeito(a)\", \"Indiferente\", \"Muito satisfeito(a)\", \"Insatisfeito(a)\", \"Muito insatisfeito(a)\", \"Satisfeito(a)\", \"Satisfeito(a)\", \"Muito insatisfeito(a)\", \"Satisfeito(a)\", \"Satisfeito(a)\", \"Satisfeito(a)\", \"Insatisfeito(a)\", \"Satisfeito(a)\", \"Indiferente\", \"Insatisfeito(a)\", \"Insatisfeito(a)\", \"Insatisfeito(a)\", \"Indiferente\", \"Muito satisfeito(a)\", \"Insatisfeito(a)\", \"Satisfeito(a)\", \"Satisfeito(a)\", \"Insatisfeito(a)\", \"Muito satisfeito(a)\", \"Indiferente\", \"Satisfeito(a)\", \"Muito insatisfeito(a)\", \"Satisfeito(a)\", \"Muito insatisfeito(a)\", \"Satisfeito(a)\", \"Satisfeito(a)\", \"Insatisfeito(a)\", \"Muito satisfeito(a)\", \"Satisfeito(a)\", \"Satisfeito(a)\", \"Satisfeito(a)\", \"Satisfeito(a)\", \"Insatisfeito(a)\", \"Muito satisfeito(a)\", \"Muito satisfeito(a)\", \"Satisfeito(a)\", \"Satisfeito(a)\", \"Indiferente\", \"Muito satisfeito(a)\", \"Satisfeito(a)\", \"Insatisfeito(a)\", \"Satisfeito(a)\", \"Muito satisfeito(a)\", \"Muito satisfeito(a)\", \"Satisfeito(a)\", \"Muito satisfeito(a)\", \"Insatisfeito(a)\", \"Insatisfeito(a)\", \"Insatisfeito(a)\", \"Insatisfeito(a)\", \"Insatisfeito(a)\", \"Satisfeito(a)\", \"Satisfeito(a)\", \"Satisfeito(a)\", \"Satisfeito(a)\", \"Insatisfeito(a)\", \"Insatisfeito(a)\", \"Indiferente\", \"Indiferente\", \"Muito insatisfeito(a)\", \"Insatisfeito(a)\", \"Indiferente\", \"Muito satisfeito(a)\", \"Satisfeito(a)\", \"Muito satisfeito(a)\", \"Muito satisfeito(a)\", \"Satisfeito(a)\", \"Insatisfeito(a)\", \"Muito satisfeito(a)\", \"Satisfeito(a)\", \"Muito insatisfeito(a)\", \"Satisfeito(a)\", \"Insatisfeito(a)\", \"Satisfeito(a)\", \"Indiferente\", \"Satisfeito(a)\", \"Indiferente\", \"Muito satisfeito(a)\", \"Insatisfeito(a)\", \"Muito satisfeito(a)\", \"Satisfeito(a)\", \"Insatisfeito(a)\", \"Muito insatisfeito(a)\", \"Insatisfeito(a)\", \"Insatisfeito(a)\", \"Satisfeito(a)\", \"Muito satisfeito(a)\", \"Satisfeito(a)\", \"Satisfeito(a)\", \"Indiferente\", \"Satisfeito(a)\", \"Insatisfeito(a)\", \"Muito satisfeito(a)\", \"Muito satisfeito(a)\", \"Satisfeito(a)\", \"Muito satisfeito(a)\", \"Satisfeito(a)\", \"Insatisfeito(a)\", \"Satisfeito(a)\", \"Insatisfeito(a)\", \"Satisfeito(a)\", \"Satisfeito(a)\", \"Satisfeito(a)\", \"Insatisfeito(a)\", \"Indiferente\", \"Indiferente\", \"Muito insatisfeito(a)\", \"Satisfeito(a)\", \"Satisfeito(a)\", \"Insatisfeito(a)\", \"Muito satisfeito(a)\", \"Insatisfeito(a)\", \"Satisfeito(a)\", \"Satisfeito(a)\", \"Indiferente\", \"Satisfeito(a)\", \"Indiferente\", \"Satisfeito(a)\", \"Insatisfeito(a)\", \"Muito satisfeito(a)\", \"Insatisfeito(a)\", \"Satisfeito(a)\", \"Muito satisfeito(a)\", \"Satisfeito(a)\", \"Insatisfeito(a)\", \"Satisfeito(a)\", \"Muito satisfeito(a)\", \"Indiferente\", \"Satisfeito(a)\", \"Muito satisfeito(a)\", \"Muito satisfeito(a)\", \"Satisfeito(a)\", \"Satisfeito(a)\", \"Satisfeito(a)\", \"Satisfeito(a)\", \"Satisfeito(a)\", \"Muito satisfeito(a)\", \"Satisfeito(a)\", \"Insatisfeito(a)\", \"Satisfeito(a)\", \"Satisfeito(a)\", \"Insatisfeito(a)\", \"Satisfeito(a)\", \"Muito satisfeito(a)\", \"Muito satisfeito(a)\", \"Muito satisfeito(a)\", \"Insatisfeito(a)\", \"Muito satisfeito(a)\", \"Satisfeito(a)\", \"Satisfeito(a)\", \"Muito satisfeito(a)\", \"Satisfeito(a)\", \"Satisfeito(a)\", \"Muito satisfeito(a)\", \"Muito satisfeito(a)\", \"Indiferente\", \"Insatisfeito(a)\", \"Satisfeito(a)\", \"Indiferente\", \"Satisfeito(a)\", \"Indiferente\", \"Satisfeito(a)\", \"Indiferente\", \"Satisfeito(a)\", \"Satisfeito(a)\", \"Muito satisfeito(a)\", \"Muito satisfeito(a)\", \"Muito satisfeito(a)\", \"Muito satisfeito(a)\", \"Satisfeito(a)\", \"Muito insatisfeito(a)\", \"Satisfeito(a)\", \"Muito satisfeito(a)\", \"Muito satisfeito(a)\", \"Insatisfeito(a)\", \"Indiferente\", \"Muito satisfeito(a)\", \"Muito insatisfeito(a)\", \"Muito insatisfeito(a)\", \"Satisfeito(a)\", \"Satisfeito(a)\", \"Insatisfeito(a)\", \"Satisfeito(a)\", \"Insatisfeito(a)\", \"Insatisfeito(a)\", \"Insatisfeito(a)\", \"Muito satisfeito(a)\", \"Satisfeito(a)\", \"Muito insatisfeito(a)\", \"Indiferente\", \"Muito satisfeito(a)\", \"Muito satisfeito(a)\", \"Satisfeito(a)\", \"Satisfeito(a)\", \"Muito insatisfeito(a)\", \"Satisfeito(a)\", \"Muito satisfeito(a)\", \"Muito satisfeito(a)\", \"Satisfeito(a)\", \"Satisfeito(a)\", \"Indiferente\", \"Satisfeito(a)\", \"Satisfeito(a)\", \"Muito satisfeito(a)\", \"Satisfeito(a)\", \"Muito satisfeito(a)\", \"Muito satisfeito(a)\", \"Satisfeito(a)\", \"Muito satisfeito(a)\", \"Muito satisfeito(a)\", \"Satisfeito(a)\", \"Muito satisfeito(a)\", \"Muito satisfeito(a)\", \"Insatisfeito(a)\", \"Satisfeito(a)\", \"Satisfeito(a)\", \"Satisfeito(a)\", \"Insatisfeito(a)\", \"Insatisfeito(a)\", \"Muito satisfeito(a)\", \"Satisfeito(a)\", \"Muito insatisfeito(a)\", \"Muito insatisfeito(a)\", \"Indiferente\", \"Satisfeito(a)\", \"Satisfeito(a)\", \"Indiferente\", \"Insatisfeito(a)\", \"Insatisfeito(a)\", \"Satisfeito(a)\", \"Insatisfeito(a)\", \"Insatisfeito(a)\", \"Muito satisfeito(a)\", \"Muito satisfeito(a)\", \"Satisfeito(a)\", \"Insatisfeito(a)\", \"Satisfeito(a)\", \"Satisfeito(a)\", \"Muito satisfeito(a)\", \"Muito satisfeito(a)\", \"Indiferente\", \"Insatisfeito(a)\", \"Satisfeito(a)\", \"Satisfeito(a)\", \"Satisfeito(a)\", \"Indiferente\", \"Satisfeito(a)\", \"Satisfeito(a)\", \"Insatisfeito(a)\", \"Satisfeito(a)\", \"Muito satisfeito(a)\", \"Indiferente\", \"Satisfeito(a)\", \"Satisfeito(a)\", \"Satisfeito(a)\", \"Indiferente\", \"Satisfeito(a)\", \"Satisfeito(a)\", \"Insatisfeito(a)\", \"Indiferente\", \"Insatisfeito(a)\", \"Muito satisfeito(a)\", \"Muito satisfeito(a)\", \"Satisfeito(a)\", \"Satisfeito(a)\", \"Satisfeito(a)\", \"Insatisfeito(a)\", \"Muito satisfeito(a)\", \"Satisfeito(a)\", \"Satisfeito(a)\", \"Satisfeito(a)\", \"Muito satisfeito(a)\", \"Muito satisfeito(a)\", \"Muito satisfeito(a)\", \"Satisfeito(a)\", \"Muito insatisfeito(a)\", \"Muito satisfeito(a)\", \"Insatisfeito(a)\", \"Indiferente\", \"Muito satisfeito(a)\", \"Satisfeito(a)\", \"Muito satisfeito(a)\", \"Muito insatisfeito(a)\", \"Satisfeito(a)\", \"Muito satisfeito(a)\", \"Satisfeito(a)\", \"Muito satisfeito(a)\", \"Insatisfeito(a)\", \"Satisfeito(a)\", \"Insatisfeito(a)\", \"Satisfeito(a)\", \"Satisfeito(a)\", \"Satisfeito(a)\", \"Satisfeito(a)\", \"Insatisfeito(a)\", \"Satisfeito(a)\", \"Muito insatisfeito(a)\", \"Muito insatisfeito(a)\", \"Satisfeito(a)\", \"Satisfeito(a)\", \"Satisfeito(a)\", \"Satisfeito(a)\", \"Satisfeito(a)\", \"Muito satisfeito(a)\", \"Muito satisfeito(a)\", \"Satisfeito(a)\", \"Insatisfeito(a)\", \"Insatisfeito(a)\", \"Insatisfeito(a)\", \"Insatisfeito(a)\", \"Insatisfeito(a)\", \"Indiferente\", \"Insatisfeito(a)\", \"Insatisfeito(a)\", \"Satisfeito(a)\", \"Insatisfeito(a)\", \"Satisfeito(a)\", \"Muito insatisfeito(a)\", \"Insatisfeito(a)\", \"Satisfeito(a)\", \"Satisfeito(a)\", \"Muito satisfeito(a)\", \"Satisfeito(a)\", \"Satisfeito(a)\", \"Insatisfeito(a)\", \"Muito insatisfeito(a)\", \"Insatisfeito(a)\", \"Muito satisfeito(a)\", \"Insatisfeito(a)\", \"Satisfeito(a)\", \"Indiferente\", \"Insatisfeito(a)\", \"Muito satisfeito(a)\", \"Indiferente\", \"Muito insatisfeito(a)\", \"Satisfeito(a)\", \"Muito insatisfeito(a)\", \"Satisfeito(a)\", \"Muito insatisfeito(a)\", \"Indiferente\", \"Muito satisfeito(a)\", \"Insatisfeito(a)\", \"Insatisfeito(a)\", \"Satisfeito(a)\", \"Satisfeito(a)\", \"Insatisfeito(a)\", \"Insatisfeito(a)\", \"Indiferente\", \"Insatisfeito(a)\", \"Muito satisfeito(a)\", \"Muito satisfeito(a)\", \"Satisfeito(a)\", \"Muito insatisfeito(a)\", \"Satisfeito(a)\", \"Indiferente\", \"Insatisfeito(a)\", \"Satisfeito(a)\", \"Satisfeito(a)\", \"Muito satisfeito(a)\", \"Satisfeito(a)\", \"Insatisfeito(a)\", \"Satisfeito(a)\", \"Insatisfeito(a)\", \"Satisfeito(a)\", \"Muito insatisfeito(a)\", \"Insatisfeito(a)\", \"Satisfeito(a)\", \"Insatisfeito(a)\", \"Satisfeito(a)\", \"Muito insatisfeito(a)\", \"Indiferente\", \"Muito satisfeito(a)\", \"Satisfeito(a)\", \"Satisfeito(a)\", \"Satisfeito(a)\", \"Muito insatisfeito(a)\", \"Satisfeito(a)\", \"Insatisfeito(a)\", \"Muito insatisfeito(a)\", \"Satisfeito(a)\", \"Satisfeito(a)\", \"Satisfeito(a)\", \"Muito satisfeito(a)\", \"Satisfeito(a)\", \"Muito satisfeito(a)\", \"Satisfeito(a)\", \"Satisfeito(a)\", \"Satisfeito(a)\", \"Muito satisfeito(a)\", \"Satisfeito(a)\", \"Satisfeito(a)\", \"Satisfeito(a)\", \"Insatisfeito(a)\", \"Muito satisfeito(a)\", \"Muito satisfeito(a)\", \"Muito satisfeito(a)\", \"Satisfeito(a)\", \"Muito satisfeito(a)\", \"Satisfeito(a)\", \"Muito satisfeito(a)\", \"Muito insatisfeito(a)\", \"Satisfeito(a)\", \"Insatisfeito(a)\", \"Satisfeito(a)\", \"Muito satisfeito(a)\", \"Satisfeito(a)\", \"Satisfeito(a)\", \"Insatisfeito(a)\", \"Satisfeito(a)\", \"Satisfeito(a)\", \"Muito satisfeito(a)\", \"Satisfeito(a)\", \"Satisfeito(a)\", \"Muito satisfeito(a)\", \"Muito insatisfeito(a)\", \"Muito satisfeito(a)\", \"Muito satisfeito(a)\", \"Satisfeito(a)\", \"Satisfeito(a)\", \"Satisfeito(a)\", \"Indiferente\", \"Muito satisfeito(a)\", \"Indiferente\", \"Insatisfeito(a)\", \"Insatisfeito(a)\", \"Muito satisfeito(a)\", \"Indiferente\", \"Muito satisfeito(a)\", \"Satisfeito(a)\", \"Muito insatisfeito(a)\", \"Satisfeito(a)\", \"Insatisfeito(a)\", \"Satisfeito(a)\", \"Insatisfeito(a)\", \"Satisfeito(a)\", \"Satisfeito(a)\", \"Muito satisfeito(a)\", \"Satisfeito(a)\", \"Satisfeito(a)\", \"Satisfeito(a)\", \"Satisfeito(a)\", \"Indiferente\", \"Indiferente\", \"Satisfeito(a)\", \"Indiferente\", \"Satisfeito(a)\", \"Muito insatisfeito(a)\", \"Satisfeito(a)\", \"Satisfeito(a)\", \"Indiferente\", \"Insatisfeito(a)\", \"Satisfeito(a)\", \"Satisfeito(a)\", \"Insatisfeito(a)\", \"Satisfeito(a)\", \"Insatisfeito(a)\", \"Insatisfeito(a)\", \"Satisfeito(a)\", \"Insatisfeito(a)\", \"Insatisfeito(a)\", \"Indiferente\", \"Muito satisfeito(a)\", \"Satisfeito(a)\", \"Satisfeito(a)\", \"Muito satisfeito(a)\", \"Muito insatisfeito(a)\", \"Muito satisfeito(a)\", \"Insatisfeito(a)\", \"Insatisfeito(a)\", \"Muito satisfeito(a)\", \"Indiferente\", \"Insatisfeito(a)\", \"Insatisfeito(a)\", \"Muito satisfeito(a)\", \"Muito satisfeito(a)\", \"Satisfeito(a)\", \"Satisfeito(a)\", \"Insatisfeito(a)\", \"Insatisfeito(a)\", \"Satisfeito(a)\", \"Satisfeito(a)\", \"Muito satisfeito(a)\", \"Insatisfeito(a)\", \"Muito satisfeito(a)\", \"Muito satisfeito(a)\", \"Satisfeito(a)\", \"Satisfeito(a)\", \"Muito insatisfeito(a)\", \"Satisfeito(a)\", \"Muito satisfeito(a)\", \"Satisfeito(a)\", \"Satisfeito(a)\", \"Insatisfeito(a)\", \"Muito satisfeito(a)\", \"Insatisfeito(a)\", \"Satisfeito(a)\", \"Satisfeito(a)\", \"Insatisfeito(a)\", \"Satisfeito(a)\", \"Muito satisfeito(a)\", \"Muito insatisfeito(a)\", \"Insatisfeito(a)\", \"Satisfeito(a)\", \"Satisfeito(a)\", \"Satisfeito(a)\", \"Insatisfeito(a)\", \"Indiferente\", \"Satisfeito(a)\", \"Muito satisfeito(a)\", \"Insatisfeito(a)\", \"Insatisfeito(a)\", \"Satisfeito(a)\", \"Indiferente\", \"Muito insatisfeito(a)\", \"Satisfeito(a)\", \"Insatisfeito(a)\", \"Satisfeito(a)\", \"Indiferente\", \"Muito satisfeito(a)\", \"Satisfeito(a)\", \"Muito insatisfeito(a)\", \"Insatisfeito(a)\", \"Muito satisfeito(a)\", \"Satisfeito(a)\", \"Insatisfeito(a)\", \"Muito satisfeito(a)\", \"Satisfeito(a)\", \"Satisfeito(a)\", \"Satisfeito(a)\", \"Satisfeito(a)\", \"Satisfeito(a)\", \"Indiferente\", \"Indiferente\", \"Insatisfeito(a)\", \"Satisfeito(a)\", \"Satisfeito(a)\", \"Satisfeito(a)\", \"Satisfeito(a)\", \"Insatisfeito(a)\", \"Satisfeito(a)\", \"Insatisfeito(a)\", \"Muito insatisfeito(a)\", \"Satisfeito(a)\", \"Indiferente\", \"Insatisfeito(a)\", \"Insatisfeito(a)\", \"Insatisfeito(a)\", \"Insatisfeito(a)\", \"Insatisfeito(a)\", \"Satisfeito(a)\", \"Muito satisfeito(a)\", \"Muito satisfeito(a)\", \"Indiferente\", \"Satisfeito(a)\", \"Satisfeito(a)\", \"Satisfeito(a)\", \"Satisfeito(a)\", \"Insatisfeito(a)\", \"Satisfeito(a)\", \"Satisfeito(a)\", \"Indiferente\", \"Satisfeito(a)\", \"Satisfeito(a)\", \"Satisfeito(a)\", \"Muito satisfeito(a)\", \"Muito insatisfeito(a)\", \"Indiferente\", \"Insatisfeito(a)\", \"Insatisfeito(a)\", \"Insatisfeito(a)\", \"Indiferente\", \"Satisfeito(a)\", \"Satisfeito(a)\", \"Satisfeito(a)\", \"Insatisfeito(a)\", \"Satisfeito(a)\", \"Insatisfeito(a)\", \"Insatisfeito(a)\", \"Satisfeito(a)\", \"Indiferente\", \"Muito satisfeito(a)\", \"Muito satisfeito(a)\", \"Muito satisfeito(a)\", \"Satisfeito(a)\", \"Satisfeito(a)\", \"Muito satisfeito(a)\", \"Indiferente\", \"Muito satisfeito(a)\", \"Muito satisfeito(a)\", \"Muito insatisfeito(a)\", \"Insatisfeito(a)\", \"Indiferente\", \"Muito satisfeito(a)\", \"Muito satisfeito(a)\", \"Satisfeito(a)\", \"Insatisfeito(a)\", \"Insatisfeito(a)\", \"Indiferente\", \"Muito insatisfeito(a)\", \"Muito satisfeito(a)\", \"Satisfeito(a)\", \"Insatisfeito(a)\", \"Muito satisfeito(a)\", \"Satisfeito(a)\", \"Insatisfeito(a)\", \"Satisfeito(a)\", \"Satisfeito(a)\", \"Muito satisfeito(a)\", \"Satisfeito(a)\", \"Muito insatisfeito(a)\", \"Satisfeito(a)\", \"Satisfeito(a)\", \"Satisfeito(a)\", \"Satisfeito(a)\", \"Muito satisfeito(a)\", \"Insatisfeito(a)\", \"Satisfeito(a)\", \"Muito satisfeito(a)\", \"Muito insatisfeito(a)\", \"Satisfeito(a)\", \"Insatisfeito(a)\", \"Muito satisfeito(a)\", \"Muito satisfeito(a)\", \"Satisfeito(a)\", \"Indiferente\", \"Muito satisfeito(a)\", \"Insatisfeito(a)\", \"Insatisfeito(a)\", \"Satisfeito(a)\", \"Indiferente\", \"Satisfeito(a)\", \"Satisfeito(a)\", \"Indiferente\", \"Insatisfeito(a)\", \"Insatisfeito(a)\", \"Satisfeito(a)\", \"Insatisfeito(a)\", \"Insatisfeito(a)\", \"Satisfeito(a)\", \"Insatisfeito(a)\", \"Indiferente\", \"Insatisfeito(a)\", \"Insatisfeito(a)\", \"Insatisfeito(a)\", \"Insatisfeito(a)\", \"Satisfeito(a)\", \"Muito satisfeito(a)\", \"Insatisfeito(a)\", \"Satisfeito(a)\", \"Muito satisfeito(a)\", \"Muito satisfeito(a)\", \"Muito satisfeito(a)\", \"Satisfeito(a)\", \"Muito satisfeito(a)\", \"Muito satisfeito(a)\", \"Satisfeito(a)\", \"Muito satisfeito(a)\", \"Muito satisfeito(a)\", \"Muito satisfeito(a)\", \"Muito satisfeito(a)\", \"Satisfeito(a)\", \"Muito satisfeito(a)\", \"Insatisfeito(a)\", \"Indiferente\", \"Insatisfeito(a)\", \"Indiferente\", \"Satisfeito(a)\", \"Satisfeito(a)\", \"Muito satisfeito(a)\", \"Satisfeito(a)\", \"Muito satisfeito(a)\", \"Satisfeito(a)\", \"Satisfeito(a)\", \"Indiferente\", \"Indiferente\", \"Satisfeito(a)\", \"Muito satisfeito(a)\", \"Insatisfeito(a)\", \"Insatisfeito(a)\", \"Satisfeito(a)\", \"Satisfeito(a)\", \"Muito satisfeito(a)\", \"Muito satisfeito(a)\", \"Satisfeito(a)\", \"Muito satisfeito(a)\", \"Insatisfeito(a)\", \"Muito satisfeito(a)\", \"Muito insatisfeito(a)\", \"Insatisfeito(a)\", \"Indiferente\", \"Insatisfeito(a)\", \"Muito satisfeito(a)\", \"Indiferente\", \"Indiferente\", \"Muito satisfeito(a)\", \"Muito insatisfeito(a)\", \"Satisfeito(a)\", \"Satisfeito(a)\", \"Muito satisfeito(a)\", \"Indiferente\", \"Muito satisfeito(a)\", \"Satisfeito(a)\", \"Muito satisfeito(a)\", \"Insatisfeito(a)\", \"Insatisfeito(a)\", \"Indiferente\", \"Satisfeito(a)\", \"Muito satisfeito(a)\", \"Indiferente\", \"Satisfeito(a)\", \"Muito satisfeito(a)\", \"Muito insatisfeito(a)\", \"Insatisfeito(a)\", \"Insatisfeito(a)\", \"Muito insatisfeito(a)\", \"Satisfeito(a)\", \"Indiferente\", \"Insatisfeito(a)\", \"Insatisfeito(a)\", \"Insatisfeito(a)\", \"Satisfeito(a)\", \"Satisfeito(a)\", \"Satisfeito(a)\", \"Muito insatisfeito(a)\", \"Satisfeito(a)\", \"Satisfeito(a)\", \"Satisfeito(a)\", \"Satisfeito(a)\", \"Muito satisfeito(a)\", \"Satisfeito(a)\", \"Satisfeito(a)\", \"Satisfeito(a)\", \"Muito satisfeito(a)\", \"Satisfeito(a)\", \"Satisfeito(a)\", \"Indiferente\", \"Muito satisfeito(a)\", \"Muito satisfeito(a)\", \"Indiferente\", \"Satisfeito(a)\", \"Muito satisfeito(a)\", \"Muito insatisfeito(a)\", \"Muito satisfeito(a)\", \"Satisfeito(a)\", \"Satisfeito(a)\", \"Muito satisfeito(a)\", \"Satisfeito(a)\", \"Muito satisfeito(a)\", \"Satisfeito(a)\", \"Insatisfeito(a)\", \"Muito insatisfeito(a)\", \"Muito insatisfeito(a)\", \"Insatisfeito(a)\", \"Indiferente\", \"Insatisfeito(a)\", \"Satisfeito(a)\", \"Muito insatisfeito(a)\", \"Muito insatisfeito(a)\", \"Insatisfeito(a)\", \"Muito satisfeito(a)\", \"Muito satisfeito(a)\", \"Muito satisfeito(a)\", \"Satisfeito(a)\", \"Satisfeito(a)\", \"Insatisfeito(a)\", \"Satisfeito(a)\", \"Muito satisfeito(a)\", \"Muito satisfeito(a)\", \"Insatisfeito(a)\", \"Muito insatisfeito(a)\", \"Indiferente\", \"Muito insatisfeito(a)\", \"Muito satisfeito(a)\", \"Satisfeito(a)\", \"Muito satisfeito(a)\", \"Satisfeito(a)\", \"Satisfeito(a)\", \"Satisfeito(a)\", \"Muito insatisfeito(a)\", \"Satisfeito(a)\", \"Insatisfeito(a)\", \"Insatisfeito(a)\", \"Muito satisfeito(a)\", \"Satisfeito(a)\", \"Satisfeito(a)\", \"Insatisfeito(a)\", \"Satisfeito(a)\", \"Indiferente\", \"Indiferente\", \"Indiferente\", \"Insatisfeito(a)\", \"Satisfeito(a)\", \"Satisfeito(a)\", \"Satisfeito(a)\", \"Satisfeito(a)\", \"Muito satisfeito(a)\", \"Muito satisfeito(a)\", \"Muito insatisfeito(a)\", \"Satisfeito(a)\", \"Muito satisfeito(a)\", \"Muito satisfeito(a)\", \"Satisfeito(a)\", \"Muito satisfeito(a)\", \"Insatisfeito(a)\", \"Insatisfeito(a)\", \"Muito satisfeito(a)\", \"Indiferente\", \"Satisfeito(a)\", \"Satisfeito(a)\", \"Insatisfeito(a)\", \"Muito satisfeito(a)\", \"Indiferente\", \"Muito satisfeito(a)\", \"Satisfeito(a)\", \"Muito satisfeito(a)\", \"Satisfeito(a)\", \"Muito insatisfeito(a)\", \"Satisfeito(a)\", \"Satisfeito(a)\", \"Muito satisfeito(a)\", \"Insatisfeito(a)\", \"Satisfeito(a)\", \"Satisfeito(a)\", \"Satisfeito(a)\", \"Indiferente\", \"Insatisfeito(a)\", \"Muito satisfeito(a)\", \"Muito satisfeito(a)\", \"Muito insatisfeito(a)\", \"Satisfeito(a)\", \"Satisfeito(a)\", \"Satisfeito(a)\", \"Muito satisfeito(a)\", \"Muito satisfeito(a)\", \"Satisfeito(a)\", \"Muito satisfeito(a)\", \"Indiferente\", \"Muito satisfeito(a)\", \"Insatisfeito(a)\", \"Satisfeito(a)\", \"Satisfeito(a)\", \"Indiferente\", \"Muito satisfeito(a)\", \"Muito insatisfeito(a)\", \"Satisfeito(a)\", \"Satisfeito(a)\", \"Satisfeito(a)\", \"Muito satisfeito(a)\", \"Satisfeito(a)\", \"Satisfeito(a)\", \"Insatisfeito(a)\", \"Satisfeito(a)\", \"Muito satisfeito(a)\", \"Satisfeito(a)\", \"Muito satisfeito(a)\", \"Satisfeito(a)\", \"Satisfeito(a)\", \"Satisfeito(a)\", \"Satisfeito(a)\", \"Satisfeito(a)\", \"Satisfeito(a)\", \"Satisfeito(a)\", \"Indiferente\", \"Satisfeito(a)\", \"Satisfeito(a)\", \"Insatisfeito(a)\", \"Satisfeito(a)\", \"Insatisfeito(a)\", \"Satisfeito(a)\", \"Indiferente\", \"Insatisfeito(a)\", \"Muito satisfeito(a)\", \"Satisfeito(a)\", \"Muito satisfeito(a)\", \"Muito satisfeito(a)\", \"Satisfeito(a)\", \"Muito satisfeito(a)\", \"Indiferente\", \"Muito satisfeito(a)\", \"Muito insatisfeito(a)\", \"Indiferente\", \"Muito satisfeito(a)\", \"Muito satisfeito(a)\", \"Muito satisfeito(a)\", \"Muito satisfeito(a)\", \"Indiferente\", \"Satisfeito(a)\", \"Satisfeito(a)\", \"Muito satisfeito(a)\", \"Muito satisfeito(a)\", \"Satisfeito(a)\", \"Satisfeito(a)\", \"Insatisfeito(a)\", \"Satisfeito(a)\", \"Satisfeito(a)\", \"Satisfeito(a)\", \"Insatisfeito(a)\", \"Satisfeito(a)\", \"Satisfeito(a)\", \"Satisfeito(a)\", \"Satisfeito(a)\", \"Muito satisfeito(a)\", \"Muito satisfeito(a)\", \"Satisfeito(a)\", \"Satisfeito(a)\", \"Muito satisfeito(a)\", \"Muito satisfeito(a)\", \"Indiferente\", \"Muito satisfeito(a)\", \"Muito satisfeito(a)\", \"Satisfeito(a)\", \"Muito satisfeito(a)\", \"Muito satisfeito(a)\", \"Insatisfeito(a)\", \"Muito insatisfeito(a)\", \"Insatisfeito(a)\", \"Muito insatisfeito(a)\", \"Satisfeito(a)\", \"Satisfeito(a)\", \"Insatisfeito(a)\", \"Satisfeito(a)\", \"Muito insatisfeito(a)\", \"Satisfeito(a)\", \"Satisfeito(a)\", \"Muito insatisfeito(a)\", \"Satisfeito(a)\", \"Indiferente\", \"Muito satisfeito(a)\", \"Muito satisfeito(a)\", \"Muito satisfeito(a)\", \"Muito satisfeito(a)\", \"Insatisfeito(a)\", \"Muito satisfeito(a)\", \"Satisfeito(a)\", \"Muito satisfeito(a)\", \"Satisfeito(a)\", \"Indiferente\", \"Insatisfeito(a)\", \"Indiferente\", \"Muito satisfeito(a)\", \"Satisfeito(a)\", \"Satisfeito(a)\", \"Satisfeito(a)\", \"Insatisfeito(a)\", \"Insatisfeito(a)\", \"Satisfeito(a)\", \"Satisfeito(a)\", \"Indiferente\", \"Satisfeito(a)\", \"Muito satisfeito(a)\", \"Satisfeito(a)\", \"Satisfeito(a)\", \"Satisfeito(a)\", \"Satisfeito(a)\", \"Satisfeito(a)\", \"Satisfeito(a)\", \"Insatisfeito(a)\", \"Satisfeito(a)\", \"Insatisfeito(a)\", \"Insatisfeito(a)\", \"Insatisfeito(a)\", \"Insatisfeito(a)\", \"Satisfeito(a)\", \"Indiferente\", \"Muito insatisfeito(a)\", \"Satisfeito(a)\", \"Muito satisfeito(a)\", \"Satisfeito(a)\", \"Satisfeito(a)\", \"Insatisfeito(a)\", \"Satisfeito(a)\", \"Muito satisfeito(a)\", \"Satisfeito(a)\", \"Satisfeito(a)\", \"Indiferente\", \"Muito insatisfeito(a)\", \"Satisfeito(a)\", \"Satisfeito(a)\", \"Satisfeito(a)\", \"Muito satisfeito(a)\", \"Muito satisfeito(a)\", \"Muito satisfeito(a)\", \"Satisfeito(a)\", \"Satisfeito(a)\", \"Muito satisfeito(a)\", \"Satisfeito(a)\", \"Insatisfeito(a)\", \"Satisfeito(a)\", \"Satisfeito(a)\", \"Satisfeito(a)\", \"Satisfeito(a)\", \"Satisfeito(a)\", \"Indiferente\", \"Satisfeito(a)\", \"Satisfeito(a)\", \"Satisfeito(a)\", \"Muito insatisfeito(a)\", \"Muito satisfeito(a)\", \"Insatisfeito(a)\", \"Muito satisfeito(a)\", \"Satisfeito(a)\", \"Insatisfeito(a)\", \"Satisfeito(a)\", \"Muito satisfeito(a)\", \"Muito satisfeito(a)\", \"Indiferente\", \"Insatisfeito(a)\", \"Muito insatisfeito(a)\", \"Muito satisfeito(a)\", \"Insatisfeito(a)\", \"Insatisfeito(a)\", \"Satisfeito(a)\", \"Insatisfeito(a)\", \"Insatisfeito(a)\", \"Insatisfeito(a)\", \"Satisfeito(a)\", \"Muito insatisfeito(a)\", \"Muito satisfeito(a)\", \"Muito satisfeito(a)\", \"Indiferente\", \"Muito satisfeito(a)\", \"Muito insatisfeito(a)\", \"Satisfeito(a)\", \"Satisfeito(a)\", \"Satisfeito(a)\", \"Insatisfeito(a)\", \"Muito satisfeito(a)\", \"Satisfeito(a)\", \"Insatisfeito(a)\", \"Muito insatisfeito(a)\", \"Indiferente\", \"Muito insatisfeito(a)\", \"Muito satisfeito(a)\", \"Muito insatisfeito(a)\", \"Satisfeito(a)\", \"Satisfeito(a)\", \"Satisfeito(a)\", \"Muito satisfeito(a)\", \"Indiferente\", \"Satisfeito(a)\", \"Muito satisfeito(a)\", \"Indiferente\", \"Muito satisfeito(a)\", \"Muito insatisfeito(a)\", \"Insatisfeito(a)\", \"Insatisfeito(a)\", \"Insatisfeito(a)\", \"Indiferente\", \"Satisfeito(a)\", \"Insatisfeito(a)\", \"Indiferente\", \"Satisfeito(a)\", \"Insatisfeito(a)\", \"Insatisfeito(a)\", \"Insatisfeito(a)\", \"Muito insatisfeito(a)\", \"Satisfeito(a)\", \"Satisfeito(a)\", \"Insatisfeito(a)\", \"Muito satisfeito(a)\", \"Muito satisfeito(a)\", \"Insatisfeito(a)\", \"Satisfeito(a)\", \"Indiferente\", \"Satisfeito(a)\", \"Satisfeito(a)\", \"Insatisfeito(a)\", \"Muito insatisfeito(a)\", \"Muito satisfeito(a)\", \"Muito satisfeito(a)\", \"Satisfeito(a)\", \"Indiferente\", \"Satisfeito(a)\", \"Muito satisfeito(a)\", \"Insatisfeito(a)\", \"Satisfeito(a)\", \"Satisfeito(a)\", \"Muito satisfeito(a)\", \"Muito insatisfeito(a)\", \"Satisfeito(a)\", \"Satisfeito(a)\", \"Muito satisfeito(a)\", \"Insatisfeito(a)\", \"Satisfeito(a)\", \"Indiferente\", \"Insatisfeito(a)\", \"Insatisfeito(a)\", \"Satisfeito(a)\", \"Muito satisfeito(a)\", \"Muito satisfeito(a)\", \"Indiferente\", \"Muito satisfeito(a)\", \"Muito satisfeito(a)\", \"Satisfeito(a)\", \"Muito satisfeito(a)\", \"Indiferente\", \"Satisfeito(a)\", \"Indiferente\", \"Insatisfeito(a)\", \"Muito insatisfeito(a)\", \"Satisfeito(a)\", \"Satisfeito(a)\", \"Satisfeito(a)\", \"Satisfeito(a)\", \"Indiferente\", \"Muito satisfeito(a)\", \"Satisfeito(a)\", \"Satisfeito(a)\", \"Satisfeito(a)\", \"Satisfeito(a)\", \"Indiferente\", \"Muito satisfeito(a)\", \"Indiferente\", \"Muito satisfeito(a)\", \"Satisfeito(a)\", \"Muito satisfeito(a)\", \"Satisfeito(a)\", \"Muito satisfeito(a)\", \"Muito satisfeito(a)\", \"Muito satisfeito(a)\", \"Muito satisfeito(a)\", \"Muito satisfeito(a)\", \"Insatisfeito(a)\", \"Satisfeito(a)\", \"Muito satisfeito(a)\", \"Indiferente\", \"Satisfeito(a)\", \"Muito satisfeito(a)\", \"Insatisfeito(a)\", \"Satisfeito(a)\", \"Insatisfeito(a)\", \"Satisfeito(a)\", \"Insatisfeito(a)\", \"Insatisfeito(a)\", \"Muito satisfeito(a)\", \"Muito insatisfeito(a)\", \"Indiferente\", \"Satisfeito(a)\", \"Insatisfeito(a)\", \"Satisfeito(a)\", \"Indiferente\", \"Satisfeito(a)\", \"Satisfeito(a)\", \"Insatisfeito(a)\", \"Indiferente\", \"Satisfeito(a)\", \"Insatisfeito(a)\", \"Satisfeito(a)\", \"Insatisfeito(a)\", \"Satisfeito(a)\", \"Satisfeito(a)\", \"Insatisfeito(a)\", \"Satisfeito(a)\", \"Satisfeito(a)\", \"Satisfeito(a)\", \"Satisfeito(a)\", \"Satisfeito(a)\", \"Insatisfeito(a)\", \"Insatisfeito(a)\", \"Satisfeito(a)\", \"Satisfeito(a)\", \"Satisfeito(a)\", \"Satisfeito(a)\", \"Insatisfeito(a)\", \"Muito satisfeito(a)\", \"Muito satisfeito(a)\", \"Insatisfeito(a)\", \"Satisfeito(a)\", \"Satisfeito(a)\", \"Muito satisfeito(a)\", \"Muito insatisfeito(a)\", \"Muito satisfeito(a)\", \"Satisfeito(a)\", \"Muito satisfeito(a)\", \"Satisfeito(a)\", \"Insatisfeito(a)\", \"Insatisfeito(a)\", \"Muito satisfeito(a)\", \"Insatisfeito(a)\", \"Muito satisfeito(a)\", \"Satisfeito(a)\", \"Muito satisfeito(a)\", \"Satisfeito(a)\", \"Insatisfeito(a)\", \"Satisfeito(a)\", \"Muito satisfeito(a)\", \"Satisfeito(a)\", \"Insatisfeito(a)\", \"Insatisfeito(a)\", \"Satisfeito(a)\", \"Satisfeito(a)\", \"Insatisfeito(a)\", \"Satisfeito(a)\", \"Satisfeito(a)\", \"Insatisfeito(a)\", \"Satisfeito(a)\", \"Muito satisfeito(a)\", \"Satisfeito(a)\", \"Satisfeito(a)\", \"Satisfeito(a)\", \"Satisfeito(a)\", \"Insatisfeito(a)\", \"Insatisfeito(a)\", \"Insatisfeito(a)\", \"Insatisfeito(a)\", \"Satisfeito(a)\", \"Satisfeito(a)\", \"Muito satisfeito(a)\", \"Satisfeito(a)\", \"Muito insatisfeito(a)\", \"Satisfeito(a)\", \"Insatisfeito(a)\", \"Satisfeito(a)\", \"Muito insatisfeito(a)\", \"Indiferente\", \"Satisfeito(a)\", \"Insatisfeito(a)\", \"Satisfeito(a)\", \"Satisfeito(a)\", \"Satisfeito(a)\", \"Satisfeito(a)\", \"Indiferente\", \"Muito insatisfeito(a)\", \"Satisfeito(a)\", \"Indiferente\", \"Insatisfeito(a)\", \"Muito satisfeito(a)\", \"Muito satisfeito(a)\", \"Muito satisfeito(a)\", \"Satisfeito(a)\", \"Satisfeito(a)\", \"Satisfeito(a)\", \"Insatisfeito(a)\", \"Insatisfeito(a)\", \"Insatisfeito(a)\", \"Muito satisfeito(a)\", \"Insatisfeito(a)\", \"Indiferente\", \"Insatisfeito(a)\", \"Muito satisfeito(a)\", \"Satisfeito(a)\", \"Satisfeito(a)\", \"Satisfeito(a)\", \"Muito satisfeito(a)\", \"Muito satisfeito(a)\", \"Muito satisfeito(a)\", \"Satisfeito(a)\", \"Satisfeito(a)\", \"Muito satisfeito(a)\", \"Muito satisfeito(a)\", \"Muito satisfeito(a)\", \"Indiferente\", \"Satisfeito(a)\", \"Muito satisfeito(a)\", \"Satisfeito(a)\", \"Satisfeito(a)\", \"Indiferente\", \"Insatisfeito(a)\", \"Insatisfeito(a)\", \"Satisfeito(a)\", \"Muito satisfeito(a)\", \"Satisfeito(a)\", \"Satisfeito(a)\", \"Satisfeito(a)\", \"Insatisfeito(a)\", \"Muito insatisfeito(a)\", \"Insatisfeito(a)\", \"Muito insatisfeito(a)\", \"Satisfeito(a)\", \"Muito satisfeito(a)\", \"Satisfeito(a)\", \"Muito satisfeito(a)\", \"Satisfeito(a)\", \"Satisfeito(a)\", \"Satisfeito(a)\", \"Satisfeito(a)\", \"Insatisfeito(a)\", \"Satisfeito(a)\", \"Satisfeito(a)\", \"Muito satisfeito(a)\", \"Satisfeito(a)\", \"Muito satisfeito(a)\", \"Muito satisfeito(a)\", \"Insatisfeito(a)\", \"Muito satisfeito(a)\", \"Satisfeito(a)\", \"Satisfeito(a)\", \"Indiferente\", \"Satisfeito(a)\", \"Muito satisfeito(a)\", \"Muito satisfeito(a)\", \"Muito insatisfeito(a)\", \"Satisfeito(a)\", \"Satisfeito(a)\", \"Satisfeito(a)\", \"Satisfeito(a)\", \"Satisfeito(a)\", \"Muito satisfeito(a)\", \"Satisfeito(a)\", \"Indiferente\", \"Satisfeito(a)\", \"Muito satisfeito(a)\", \"Satisfeito(a)\", \"Insatisfeito(a)\", \"Muito satisfeito(a)\", \"Satisfeito(a)\", \"Satisfeito(a)\", \"Muito satisfeito(a)\", \"Satisfeito(a)\", \"Indiferente\", \"Insatisfeito(a)\", \"Indiferente\", \"Satisfeito(a)\", \"Satisfeito(a)\", \"Indiferente\", \"Indiferente\", \"Insatisfeito(a)\", \"Satisfeito(a)\", \"Muito satisfeito(a)\", \"Satisfeito(a)\", \"Satisfeito(a)\", \"Satisfeito(a)\", \"Indiferente\", \"Satisfeito(a)\", \"Satisfeito(a)\", \"Satisfeito(a)\", \"Satisfeito(a)\", \"Satisfeito(a)\", \"Satisfeito(a)\", \"Satisfeito(a)\", \"Satisfeito(a)\", \"Satisfeito(a)\", \"Satisfeito(a)\", \"Satisfeito(a)\", \"Insatisfeito(a)\", \"Indiferente\", \"Insatisfeito(a)\", \"Satisfeito(a)\", \"Indiferente\", \"Satisfeito(a)\", \"Satisfeito(a)\", \"Insatisfeito(a)\", \"Muito satisfeito(a)\", \"Satisfeito(a)\", \"Insatisfeito(a)\", \"Satisfeito(a)\", \"Indiferente\", \"Satisfeito(a)\", \"Satisfeito(a)\", \"Insatisfeito(a)\", \"Satisfeito(a)\", \"Satisfeito(a)\", \"Satisfeito(a)\", \"Muito insatisfeito(a)\", \"Satisfeito(a)\", \"Satisfeito(a)\", \"Satisfeito(a)\", \"Muito satisfeito(a)\", \"Satisfeito(a)\", \"Satisfeito(a)\", \"Satisfeito(a)\", \"Muito satisfeito(a)\", \"Muito satisfeito(a)\", \"Muito satisfeito(a)\", \"Muito satisfeito(a)\", \"Satisfeito(a)\", \"Satisfeito(a)\", \"Muito insatisfeito(a)\", \"Muito insatisfeito(a)\", \"Indiferente\", \"Indiferente\", \"Muito satisfeito(a)\", \"Satisfeito(a)\", \"Muito satisfeito(a)\", \"Muito satisfeito(a)\"], \"x0\": \" \", \"xaxis\": \"x\", \"y\": [28.29941479605206, 22.940514167761307, 21.921351773931626, 19.19720840248958, 34.50650579226791, 25.07432602670698, 24.967788719901073, 25.124283180889666, 17.184746034289372, 20.770031217481787, 23.461829176114893, 18.200692041522494, 20.331465993344597, 23.425605536332185, 23.018093391817498, 19.2142908536705, 19.77040816326531, 18.01290113189176, 22.0, 18.116371978956526, 22.1915696377135, 14.920857039761412, 22.25056689342404, 26.5912023281887, 23.20130570675721, 22.487279178795585, 19.493177387914233, 17.553335133675397, 31.054687499999993, 19.558033660167293, 22.79977481703885, 17.020272992600308, 17.201940779144017, 18.752869044153954, 16.205593348450492, 25.4295915435982, 22.251733596217036, 16.914630742031203, 18.143354010541792, 23.002961580591506, 18.051067050979707, 18.469683248912816, 21.985758563230675, 20.10451444331543, 20.151695419393224, 22.740717914577292, 16.780809638208613, 24.218749999999996, 22.019703527963262, 21.41121098723043, 16.859504132231407, 22.775184159339986, 16.391348355460345, 21.477438869735156, 25.95911936174938, 22.98719428709495, 17.742183840548282, 23.496203796673246, 17.68550557477893, 17.198241829497945, 20.075585789871504, 23.885106513284818, 24.049929745449795, 21.84313594621734, 19.295130599599233, 25.223725286160246, 21.547220811088, 20.344505892775643, 19.312231420143107, 22.125591908533973, 21.021565140523148, 21.460363597565237, 28.099173553719012, 21.145953099934527, 27.549154092363963, 16.19069280949875, 22.92172605091619, 23.214060422550247, 21.229619565217394, 17.56572586751156, 18.165344906656525, 18.044189369516182, 22.125591908533973, 19.146479404279383, 19.804687499999996, 21.156626973728905, 21.2294962984468, 17.42622539352433, 19.02155452683883, 18.17517952046736, 21.527364663890545, 20.793950850661624, 17.33169501390416, 18.16401800392836, 23.038041787681262, 19.820408163265306, 17.352427808796662, 21.93771626297578, 20.770249880941964, 21.79699857258593, 15.491452991452991, 17.532030741879215, 17.60006834978, 16.799999999999997, 17.787991956334388, 23.177226813590455, 26.037493991347535, 20.300729433072277, 18.674843598184864, 15.807896420640597, 19.803587371154936, 23.90479121781061, 18.819336155045665, 28.92421750593886, 22.953052395449443, 27.035854260415157, 22.010707911957173, 27.260444768818395, 25.87258039932937, 24.922118380062308, 25.14860539551897, 19.455513961008467, 24.378645393581195, 19.04432132963989, 15.480324074074076, 24.145728399375006, 22.78182930057228, 22.386378991937303, 16.633534828999146, 22.49433106575964, 18.510710069151628, 21.459262026849448, 19.971330675928442, 24.812877501686796, 18.39437168650891, 23.483205230809105, 17.97233153474786, 17.96949817067078, 18.287509023441952, 20.269332222684994, 16.686164335403788, 24.07142476926056, 21.523817064466517, 16.535842970735644, 13.2078296013877, 20.218606019017745, 24.39680290987322, 22.0165782202535, 19.748437750360516, 21.737278106508874, 23.623981682569944, 19.466666666666665, 19.726843188139085, 18.09404032617956, 20.792722547108514, 18.08651850756003, 24.355555555555554, 22.581050127123692, 16.062198299799224, 18.124584735701294, 20.456450466317946, 15.868766190130872, 24.04692342853355, 22.881252789159802, 19.16690606147659, 25.640760538042414, 16.209209035511236, 16.291210913786827, 20.264676990320197, 22.03757480956297, 17.76072022782717, 20.245217451640936, 20.090285570906847, 15.877902046575953, 31.16792518316553, 16.507894697673244, 26.398013138920042, 17.233389884383097, 17.399057774102083, 15.724361197826338, 14.87842297546385, 16.484740476720873, 23.39690961670425, 20.858004358686024, 20.412930616405493, 22.5566960120086, 18.413719448570482, 19.74345450745853, 27.70385158891563, 24.486293454142004, 16.043767397460268, 19.489567844083457, 28.828124999999993, 22.512168739859383, 19.56519432566924, 21.003692788088497, 17.074563160191538, 19.881656804733726, 16.138386101756062, 22.435699882890574, 24.41822940944458, 23.021468438706812, 19.89226744967484, 21.62502051526193, 20.205903712247427, 19.073049780659918, 21.582472664831702, 21.87710756552508, 18.299881936245573, 23.04398316156191, 19.413679674285373, 27.701456584741617, 19.436226166995397, 15.29100030372535, 17.2229843011736, 19.046073100127153, 18.702584283338066, 25.034293552812066, 20.094141845654836, 20.62661393840299, 23.936593491708138, 19.564101758465036, 24.90494154234884, 27.534407253438967, 17.99816345270891, 19.94805976890361, 22.165933948622392, 21.56949394428088, 15.93604503908793, 15.896273692531489, 24.500614661121, 17.781842198851795, 22.027440250568322, 20.681465503898746, 15.959951463636964, 15.131437165560849, 21.797535657057114, 14.893590614201043, 26.860620990780365, 29.287801462370226, 17.080579575120584, 20.658977599538257, 20.238433528723704, 18.145659768879337, 19.122836858990905, 28.53785579755099, 18.52237252861602, 27.397529505409736, 21.156916823922195, 20.56721306595355, 20.135925239956336, 18.631844957690916, 24.095500459136822, 19.10749506903353, 19.644178966391426, 22.97193820098194, 26.36678200692042, 29.574064274056887, 22.431573525135352, 31.92848020434228, 17.923875432525953, 25.797147892965867, 34.91377647467304, 44.16698886847071, 22.281708526005335, 19.34370066238198, 24.432882414151923, 22.64086462471699, 20.039819944598335, 24.510851317114863, 21.88664521174305, 20.390624999999996, 28.852566219269796, 24.03904486883933, 22.365474052877687, 20.523899540912772, 22.270937720185273, 19.98076390663012, 20.50953372856914, 24.969566155536626, 15.944549412728074, 18.546707258452166, 20.19866289373732, 27.144168962350786, 20.547652612243155, 16.623704908200438, 25.423401874927663, 19.828551819694532, 18.967008807685936, 18.62102264019735, 26.26017920348506, 23.87710955540749, 20.60935534910138, 19.220167190858373, 20.088653085286076, 19.526720606044996, 20.455248570381503, 21.476782941860222, 15.539840547723076, 19.534663296426256, 24.713247457427485, 19.999122845489232, 25.10122251947593, 24.389348025711666, 17.31301939058172, 20.392491608180723, 22.36619489430444, 17.4787318218119, 15.620911126056734, 22.12232456939106, 20.042980571027588, 19.3684969145534, 23.956541362235985, 24.697072346881296, 15.012251734369993, 22.314025822158747, 20.881834215167547, 26.05297438124186, 22.179659694291598, 32.2853502829972, 20.156988263984143, 31.47799158015385, 23.437649945595126, 24.174568009103456, 18.602765641187332, 26.975057332062157, 21.346975175325777, 22.382510410469962, 25.688207865955917, 22.332594519479613, 18.163239281591448, 17.131809215158395, 17.166999014594857, 20.278717192739038, 16.57184787448831, 22.58545813342563, 22.524440492529525, 29.29815910585141, 18.867736767208353, 20.534099721129717, 20.020811654526533, 20.337839889656234, 22.942915469207477, 25.64084427342689, 20.22248520710059, 24.202994018006063, 21.685750626602083, 22.147828575008703, 18.757717613847085, 11.135382812083753, 18.261504747991236, 14.756944444444446, 18.787847419905802, 23.330203132723497, 19.24647993203502, 24.282530648184714, 19.79750837442132, 20.978147762747135, 22.04414617162493, 25.60838224452935, 19.62937896669678, 17.643364476299624, 22.65824025083285, 18.504780121155846, 18.9295386513963, 16.9866232433907, 17.737351449681608, 22.435897435897434, 22.44346968073168, 21.657239101956545, 16.64795674354342, 19.755268461239936, 13.820239334027052, 16.889481063286663, 16.699878255535417, 19.6846202280548, 16.908892890238015, 16.891110185570827, 19.413539930633757, 19.988797582572204, 21.598668966713962, 20.88085815234114, 23.733525784780518, 14.246245631352556, 18.276138984562557, 25.195263290501387, 16.423650056080753, 16.314655599685437, 19.299485549273214, 18.23704082662879, 24.979063491899385, 19.0476105707118, 19.5648507336819, 27.442995543525264, 18.274227091800036, 18.59567562826192, 17.5113373341293, 19.03622707661797, 20.295619457135185, 19.16575016700975, 18.42206790123457, 19.64168871641564, 15.82238323953581, 24.131336554540333, 18.24084753727199, 24.841762504511063, 19.84951639557052, 16.925760486050088, 19.893825914287078, 18.03700769578995, 19.05391723103299, 15.89132384980136, 12.45942603002592, 17.502054343200367, 16.021657145839978, 17.870274943815947, 19.835195788779618, 18.395083102493075, 32.092412983273675, 25.293342654796113, 17.15683216250951, 22.874934190060436, 16.891110185570827, 24.245630276179774, 20.575019223375627, 17.261326299227175, 15.112831879097344, 29.05306971904266, 28.710937499999993, 20.295371580028277, 19.86733038266686, 19.057532869498797, 18.05485899463755, 19.091573145627198, 27.216932386844356, 18.03142597409157, 15.84295771166266, 20.504602235371465, 19.901055840791553, 24.3663859643359, 21.312309593513127, 16.313280736357658, 20.37558009736766, 18.718596074354593, 25.49088638537571, 24.634434107047312, 28.67262607522348, 20.130639800046385, 17.352601053568872, 19.293385282723154, 26.04568136638403, 17.79257067718606, 22.024081694863582, 17.25841155192327, 24.387986487111856, 16.640800929330865, 24.50803080925223, 21.7663221326225, 24.71782039450982, 22.558221821811838, 24.16906087880067, 25.204914531131628, 22.525772503959836, 23.107477659451554, 28.147870144492405, 17.607205160452754, 19.991670137442735, 16.914968695167985, 13.280451895919716, 31.434543313770405, 27.119901458525806, 16.964398434541092, 16.684860672220623, 24.77679524969029, 20.006195733194076, 15.418867346047508, 17.372238151458934, 16.335786015086306, 23.244444444444444, 20.48575109184026, 16.863041833315318, 15.739393385766531, 18.619711961846374, 20.725611394786352, 25.078124999999996, 16.023457332182677, 20.49677470552891, 22.695893172083647, 16.53617496462765, 19.385114687952285, 24.136373933628395, 27.420671360065295, 20.793727272124645, 18.96526728105957, 19.480361360703238, 20.234374999999996, 18.016280236102002, 21.380094564347466, 16.08698268377535, 22.214601432708424, 25.534606868655885, 21.50631757511364, 28.279721474646504, 20.042980571027588, 16.98258513088397, 20.98360655737705, 18.712014265376, 16.954210069444443, 16.242413481404956, 16.941540497473955, 23.167200121932627, 17.97216341606234, 22.129261186500237, 20.035029262249562, 25.07251216915854, 30.367393174961062, 24.28033357677095, 24.16834777105336, 25.03988154443559, 28.084628346751543, 15.469155783055442, 24.88130021913806, 22.0165782202535, 23.689574542058377, 25.029572894707275, 20.788561905179595, 31.524313429075338, 29.427679500520288, 33.4220014042229, 24.18303444406356, 25.36035564531523, 22.49802416233583, 25.961404970151328, 29.041857858897565, 25.757090209902255, 20.305828103514234, 34.968770545693616, 31.92743764172336, 28.251493452958652, 18.132016511708652, 27.033516790199243, 20.909687126268274, 30.524917201162097, 20.236346966300268, 17.332898178946532, 22.182786157941436, 18.085937499999996, 23.5229875883067, 18.820107824021473, 21.029102398022555, 20.62064983598652, 20.7914906168421, 22.0249835634451, 20.95117547536679, 21.520561709636315, 22.347909950252784, 17.546045867281038, 20.515927977839336, 22.143300619158016, 24.411357340720222, 18.322279892349098, 21.800150611525975, 23.205302661798303, 25.34154157530781, 18.787053356833837, 15.35582148225228, 12.94059952458915, 16.666666666666668, 15.616805547462269, 17.34097349835858, 23.720963864771104, 14.845914127423821, 18.567283800125608, 20.147319998835414, 22.812499999999996, 20.768139561897854, 21.826443263418394, 21.96613214384142, 18.366102728242645, 20.820312499999996, 22.723294002310848, 23.997370151216302, 21.640727849813352, 19.912131519274382, 25.508056938792684, 19.02767279751407, 21.8968776360916, 24.749932865807104, 16.9325591562044, 16.46996393510284, 24.924156409998663, 20.651462784411944, 21.132713440405745, 24.292817495669876, 22.82461184294449, 22.890426368369003, 18.189386056191466, 19.838533003367274, 17.077385760762773, 21.114148364596097, 18.602765641187332, 24.524346347059055, 17.659039918942117, 16.929710058937538, 19.38966780144448, 18.299992711019858, 32.366667408330365, 27.421874999999996, 25.14792899408284, 19.3684969145534, 27.130561710976306, 21.913316514756946, 23.569993527604954, 25.401806927932206, 24.3046178773967, 23.874498598167158, 22.13177561723174, 26.29775259056889, 21.98753462603878, 33.083632536036, 26.29775259056889, 18.47619225126325, 27.189963694643197, 18.537648475278413, 23.804180014010463, 16.767159766726373, 18.88546472510573, 23.761592276009225, 19.73814326964914, 22.232014100304436, 29.32232287192179, 38.9694665996206, 22.903504430275326, 25.433888174637765, 18.44033222161658, 19.95299029704776, 19.2142908536705, 23.51574974597184, 18.117980538408776, 16.478781097519775, 19.302527845579778, 22.942026061660307, 22.53464348702444, 15.652391685449537, 19.794317824358718, 14.414590957717675, 14.052390668205856, 21.00076264015193, 14.914216302855625, 18.93101799971709, 17.283283823926542, 18.95463376131468, 18.112691699773592, 17.573226974396864, 22.045083492511807, 31.087965990433773, 15.683659013489928, 18.94168118742416, 20.181830217527835, 15.737660833545968, 20.499923792104855, 16.8026263084321, 19.012480551008412, 16.155478395061728, 24.23198187370214, 22.797418630751963, 24.61656349900025, 25.310300382124858, 14.82678456600783, 18.93060436437357, 20.29056083110137, 17.691905747400728, 17.243027875694974, 16.048763550788934, 17.883207953536324, 23.614572208377833, 21.328124999999996, 22.607452855488905, 20.127091623303745, 23.45684648674688, 20.978147762747135, 17.218085273509914, 19.04413541303122, 19.144812309639647, 28.05411030176899, 22.644796051676586, 21.68574401664932, 21.523437499999996, 17.404374826945133, 23.126909412970576, 20.48575109184026, 22.024081694863582, 17.07893561633391, 20.126385041551245, 17.63377086049219, 21.87877046825625, 17.425092132671043, 18.25510385395917, 29.544707429322813, 20.329128160510987, 21.16923076923077, 22.437670441862945, 33.01587301587302, 19.4250116928221, 22.611594072339084, 28.959000152415786, 23.126909412970576, 19.35463859968363, 19.97041420118343, 21.20781646737732, 18.155927376290492, 18.631140936634257, 19.14517024329448, 21.249999999999996, 18.672179035529545, 20.519022423784328, 20.39712585953798, 16.788414712290145, 25.42014550726194, 18.779747427790333, 21.11483307614137, 19.569243672028794, 21.542596076323573, 17.206432142696276, 21.389543967935094, 18.113956638165448, 19.780124653739612, 17.598574292715526, 20.899908172635445, 20.31414900711562, 18.04316098719372, 19.895941727367322, 28.510905421323653, 14.719796441659673, 20.68678459937565, 25.596715576921063, 30.553695313561978, 17.725928894676326, 20.59501308209855, 24.018441403926236, 18.395083102493075, 26.638917793964616, 21.765868354500352, 17.312885802469136, 24.370243407404587, 30.079282789246026, 13.015410245730948, 24.823357164919578, 19.747614650661742, 18.74714532105339, 26.869513896466717, 21.40104162323923, 26.51371784047127, 18.987150415721846, 18.81246977628211, 29.760611955724542, 25.477707006369425, 21.908924600435984, 17.020387918657164, 18.09404032617956, 24.84448235869221, 23.25287992158461, 20.591551679182768, 17.82446418047787, 23.36608038288931, 24.122043208709414, 16.992747512228032, 20.85920464942331, 24.06907332839671, 26.11764716298164, 18.18318983443625, 24.572296382425993, 23.339907955292567, 26.343894624421498, 20.329168586188302, 21.953124999999996, 17.13909939097446, 16.825890202448292, 23.81232845307261, 17.121521371886207, 20.18031320458779, 21.921087824631297, 20.040218328066647, 18.24483840082362, 20.869841630580783, 22.715771184629443, 23.22793623069691, 21.188431799735145, 21.02987800445374, 23.212068347895087, 21.188431799735145, 18.94784726024924, 20.509788342679762, 27.38985195064235, 18.82054746092271, 19.78359113517951, 21.985758563230675, 23.78224852071006, 18.666880307643005, 21.338365510233707, 24.654832347140037, 21.706025796255034, 17.59763511695889, 18.31263523640166, 18.809349890430973, 18.922619832789998, 16.64252283734643, 23.08710406114102, 17.589768056017384, 20.702862170695095, 24.20858341796907, 20.424617038430533, 19.980869380380483, 17.88521412655291, 15.795422850515994, 20.50201677935299, 19.775837222886498, 23.185605603188023, 19.17598071444225, 18.10141679678217, 23.304351904507858, 14.845584810504203, 19.5462887272436, 22.263450834879407, 19.82927229836663, 19.571900479272877, 16.498287089605107, 19.876467752915627, 18.25071413970857, 16.4031982421875, 16.19069280949875, 24.266666666666666, 15.50799374689171, 17.33325488312775, 20.424441221658128, 21.638894335865363, 20.86532955018742, 19.82806797968541, 18.827457031667006, 22.05420559537453, 25.48064583608416, 21.017318538212034, 18.699792791597343, 19.61233574668812, 17.215379016207947, 18.152405950138643, 20.090738932291664, 20.449137418203453, 14.568744824707505, 23.362149383321235, 18.106072744752442, 21.66040344726805, 18.207868661634194, 22.003863878497064, 20.289052928775316, 16.85403296726116, 18.960659735439105, 15.634050786950484, 20.2637539734406, 19.792749829681956, 16.37469800378396, 16.653289636683823, 15.393235596549456, 16.1612532226537, 18.464528668610303, 18.765277925390592, 19.23057293633701, 17.60289804401453, 17.784807684888698, 20.163016014735117, 22.30720785681036, 20.150144796393644, 25.930197787175874, 25.197495857546265, 26.148382591973625, 24.01557079237995, 22.534035206319487, 20.234374999999996, 22.337101192083637, 17.820937861661488, 21.230572023714146, 23.073672625072476, 20.428400762436574, 17.03636799202326, 18.007812499999996, 22.58464184428507, 30.058562645534195, 19.860610852683603, 26.226955201183962, 17.620088258908897, 15.43283097553971, 18.908114110912514, 17.736384494626254, 16.35429610531115, 14.749976269754265, 18.408941485864563, 17.077523417553984, 18.12249923053247, 16.937545653761873, 17.209227982311255, 17.261988729591874, 14.79225253074386, 20.13330898466034, 18.273331644820825, 24.088807091521158, 16.425748503252166, 23.77378392632561, 16.31582793070465, 18.869595518649074, 20.64175075954861, 22.833133508047833, 25.731300382768485, 17.360285374554103, 18.0519738147193, 19.083639114873794, 16.736927306873355, 20.461572558964782, 22.419053915924746, 22.126197417742603, 17.882744338790317, 20.409190823628073, 20.025359774761576, 23.85492312061341, 18.24483840082362, 19.70791024141769, 20.229562238570296, 21.50188648626719, 23.052268244575934, 16.796264387806907, 22.319871056154625, 18.963062691643696, 21.856361850037455, 24.52782835425718, 18.702251652666074, 28.092120476355642, 23.846687478321186, 20.17156446407338, 18.95130723698005, 18.675597826176976, 18.18042854254922, 15.259523279126752, 19.9005958498947, 34.47214527546938, 16.742934498251792, 22.942026061660307, 17.650827140800523, 23.905265810027714, 20.223487433026474, 24.626931808111042, 24.793388429752067, 20.266666666666666, 19.579921680313277, 16.289509000879267, 24.220049494908515, 17.856380024776794, 20.846682899739417, 23.67862654320988, 20.56191467221644, 23.337684427040067, 24.296874999999996, 17.746228926353147, 20.950168242268862, 21.303022319244235, 21.415279284299775, 29.7351108033241, 19.327799479166668, 16.880048773052884, 18.123182430834856, 19.82143619975223, 16.74228244357639, 29.354345857854234, 17.47358976117534, 23.490563505060535, 16.443095254354848, 21.03277315620866, 20.537819546803807, 23.25731217593225, 27.47172850415543, 19.298391174263557, 17.630492650746497, 22.56276826301396, 21.71311727987081, 18.702584283338066, 22.473364408928358, 27.186481768682516, 16.184762100074703, 19.381032249960604, 21.193782332120488, 20.557279419155922, 16.863041833315318, 20.34242498511957, 19.084171077325312, 26.825179088553572, 16.78791704210084, 17.939122719030898, 22.62209564502186, 22.656249999999996, 21.874999999999996, 26.755555555555556, 31.640368178829714, 20.39542143600416, 22.481329065691202, 17.49662024283236, 25.721124589232826, 18.653726739178335, 16.815816857440165, 17.66079499741629, 22.05420559537453, 23.339103808972297, 19.18884228132308, 20.869841630580783, 20.373791709622434, 23.611549016586054, 22.098002202488384, 17.204432287433917, 19.614851676859807, 16.95822513308475, 24.57403926442567, 18.08735416305158, 15.202159295090581, 16.578188261905897, 19.17294954366472, 29.227335529811892, 17.112343769726046, 27.641721950110565, 16.568075716106023, 28.19995040209728, 17.724334610877168, 15.426744974420833, 22.102661044059907, 18.503401360544217, 17.625019849960474, 18.778763971071662, 14.92423238567473, 23.841672774970096, 15.391735537190083, 26.0235501448582, 14.47483157356445, 16.724534207051693, 16.577988967784602, 14.648035963926429, 17.052260134978727, 16.700591715976334, 18.52019387943117, 20.079643899563223, 19.280597469897877, 19.818790830557422, 18.15973711134882, 16.788953593238688, 18.26397146254459, 19.818968547530996, 16.436554898093355, 23.897788207552512, 15.629591192412772, 14.944804946870988, 20.744644069780023, 16.18004191829378, 17.558172938810685, 19.764647509280792, 16.01565130603104, 16.5838807883352, 20.742187499999996, 18.98482432107202, 35.89168402499599, 19.593711994955182, 18.52751729200484, 15.862297317355232, 20.2444212485778, 23.7430969772098, 22.5042388617298, 22.208207111175447, 17.21398936787687, 15.33378019575177, 20.162613213725006, 26.797920570814345, 18.637895044064738, 21.195915879410354, 20.90468260701082, 23.436919878220834, 16.81666231403357, 17.62733160262747, 28.09578881473544, 24.264171899696695, 18.893528911318178, 18.775456056915004, 29.648743252664794, 19.578698224852072, 18.576716727225634, 17.85318638177253, 20.786005994296982, 20.613660552956606, 16.045401801514203, 34.23708493430686, 19.42953555106813, 14.662453318012064, 22.509124234287828, 16.394490795313146, 26.028637735913758, 18.98757419759763, 22.740773743224175, 23.726371929423205, 18.231765244456074, 19.89884477073973, 13.131301112208453, 18.753231829933924, 21.489461263020836, 19.687499999999996, 16.73801022932703, 17.530529898967245, 17.280901481324005, 19.784101347466642, 22.428008520877256, 18.666880307643005, 24.007758871162448, 23.819411448531987, 22.583189001258464, 18.168113489883904, 31.374945110341827, 19.588645630258377, 18.778009282923854, 17.997622782080192, 21.16076163383265, 24.316719481552106, 18.75438740219205, 17.38592820342836, 17.887255608419242, 19.537995565912425, 23.332546211292467, 23.19109461966605, 15.900278491016342, 22.205736145387014, 20.153046747792985, 24.487017730260973, 23.15767707515868, 20.51937829566865, 23.219085756790854, 26.598020559010376, 19.678650294838505, 19.2424946724701, 26.103270307041463, 26.097659270877585, 29.824626164460785, 19.075878753391322, 22.4018315414559, 21.24464600655077, 20.529473792260394, 22.4058769513315, 18.379275381717896, 22.904879071799524, 21.500866436352805, 20.48575109184026, 23.89991283989168, 22.56520923250141, 16.29398131591898, 20.763980241080294, 19.28531214682348, 21.784356653487134, 26.072344672920266, 25.85294797635195, 19.84053512757601, 20.618835918186903, 16.89090450995213, 26.98858401508978, 24.960018938736024, 19.647782032465766, 17.717149522569443, 19.950372953457162, 19.510926118626436, 17.892358994585678, 15.94743008287273, 18.60384058207801, 31.433274943518974, 23.406416158181422, 28.81055994609108, 26.371138138060765, 17.800041720013933, 17.315242558808066, 21.039794518630504, 26.10826037133002, 15.203813280736357, 24.917132308257095, 17.50052831783601, 28.61700131356728, 22.82918609889425, 25.76821490691232, 17.96365994831026, 25.365784532539763, 21.428037573407927, 20.37177727673758, 19.350132527526373, 25.300351313449664, 17.449665977263923, 19.35878373490348, 37.69468727428247, 24.113553870421974, 20.32296403127483, 25.021927342689, 21.669777724421966, 18.05594830385103, 21.185794848346283, 21.717227706706222, 17.341689218290945, 21.274138104978732, 20.079427743664407, 32.544974156721175, 15.426604960246824, 18.694661384887624, 17.566349198820767, 19.354838709677416, 29.23922483566159, 28.158817253467458, 21.82558929091086, 18.78672277123331, 17.337006427915522, 18.984508335612492, 25.117090584073154, 22.21192473987155, 19.722232677180173, 20.26891936354806, 24.922118380062308, 23.60469891929292, 22.901052238977748, 22.8932487809345, 22.725245128608467, 17.575160851348517, 20.633089837242085, 26.00156375601743, 16.912373722288326, 23.197053466245112, 20.103727575727873, 14.296874999999998, 18.144787846688303, 16.478653946431063, 22.613563674447224, 19.388077421603548, 25.64303361694221, 17.22066369304817, 18.44260355029586, 20.57036266662263, 19.292041595182244, 18.951730643965764, 20.596190501758436, 19.41239407228927, 21.560434320153004, 18.456234829222147, 19.5192832183058, 20.897661167880724, 21.131632669006887, 19.0633608815427, 17.964071856287426, 25.015608740894898, 28.405265602471523, 24.93194839913395, 18.567192405022016, 18.048035540746913, 19.07813509109692, 19.820601851851855, 22.243946149667575, 19.069049026525043, 18.890193083606054, 18.198098379241934, 24.711514235323758, 23.28613082028879, 20.214559037900873, 17.91785496885384, 24.543683425258713, 19.197483391473, 18.326639764590862, 21.89386056191467, 21.613530362081395, 21.99677353295679, 37.693665062222266, 19.836305862108848, 18.65548980933596, 22.823067808791254, 26.718720904674996, 30.440256144223206, 20.066819576669705, 20.032042780294756, 19.583756164432337, 24.52782835425718, 16.706263724436603, 22.798768069111077, 23.543951152585333, 20.549591411632747, 16.063140569509674, 18.692814343700988, 26.229333285913068, 21.107546365420976, 20.50994945790149, 19.51169457901381, 19.759092245858252, 16.46158278118441, 21.42223094067807, 16.86286880184703, 36.35805447129512, 17.90196855595191, 17.79708358532136, 31.82423441115114, 19.692359922734475, 28.663158422564067, 23.311012164148163, 24.045422202691626, 20.580617451062054, 17.83416828986049, 19.155555555555555, 29.36601936693044, 21.55163226378819, 21.712115621584367, 21.393869068685607, 19.961020562623542, 20.620748299319732, 19.50098963683629, 20.78060273097066, 19.526736558113445, 17.612192000947633, 17.576331496786043, 31.565643969066457, 22.22222222222222, 18.40813954138234, 35.05273120605733, 23.16527882289289, 24.144166592021328, 20.232106999529286, 18.119179420924294, 18.3129601651496, 17.796640715109575, 18.03182437878773, 17.04608579756229, 17.979980094475124, 16.7279327202546, 18.974032960046948, 19.16704270349693, 16.17075648558352, 17.42803431485872, 19.68658068701692, 17.116726653727053, 15.356202003273852, 22.579954911021968, 25.16749991497466, 15.196954453380938, 20.201301578643882, 22.002366863905326, 22.631053328105093, 14.63898022611594, 24.268918653122597, 21.960373380762555, 24.962050936076913, 19.367228416490743, 15.632890417876528, 21.572978303747533, 18.00001578083575, 13.833499994071355, 16.22994355086636, 18.746890985900848, 25.486000708501706, 16.929710058937538, 16.804353065195976, 19.473406629072173, 18.372115280026776, 18.36065573770492, 35.8382030679328, 16.946763671507956, 15.893548918983695, 17.356301939058174, 21.312005363920452, 27.151445865528895, 17.051811272713245, 17.233455882352942, 16.412209543598035, 16.157531694435168, 16.450714354893343, 17.092405818958746, 18.49365895183703, 16.381775275006554, 15.49768027197133, 27.67950052029136, 22.830430427044753, 14.57664035705428, 20.021562937844266, 14.928192057629497, 20.742187499999996, 19.205179911381816, 15.887509130752374, 22.365108353942862, 17.06318356453734, 20.469961063209773, 17.074563160191538, 20.500205002050023, 16.77833327664977, 17.56677627133913, 24.33016511117932, 17.741752049709994, 18.889807899204605, 20.936524453694066, 28.321830852003888, 23.159396615006052, 19.60599490998209, 25.35126808035484, 16.382063029293352, 18.40473372781065, 21.46779274515822, 16.12749206888137, 17.772159428911365, 20.322410862062206, 27.85588309397833, 19.030726480534682, 25.12008626605235, 16.31752077562327, 14.893428401362696, 13.340607022416187, 16.447864795533427, 19.185360094451003, 16.73846153846154, 17.00537129252846, 25.683363476110895, 19.441925173242698, 23.3809993425378, 31.626297577854675, 16.807878310961026, 19.93775862658596, 21.90976985215668, 23.5354614137099, 20.48174076541835, 20.666666666666668, 19.992297188473795, 26.37246028525951, 21.274452004155496, 16.900437438414844, 14.29980276134122, 21.128681620473653, 21.771455825828355, 23.890234910396245, 22.59051221153182, 26.091718850104364, 22.6378352062964, 21.20342445970731, 27.58182900218211, 26.849603861796986, 24.87218858007119, 17.892540292481907, 19.3183687375446, 21.53655754810842, 19.30780323666079, 25.61876540356778, 26.68773181518987, 21.601126851655007, 17.328191395870597, 18.46047303310787, 16.850592088687325, 20.192809671159743, 17.870751409846058, 22.898357900633737, 21.147690900777317, 19.687825182101975, 19.74345450745853, 19.502958579881657, 17.133727469694037, 23.14782825002418, 25.505651397977395, 16.257268838908114, 19.770696870871483, 18.939286060115858, 21.16394408510253, 15.56588476921414, 22.53980278279562, 22.628056326927698, 28.567127103014794, 20.7938208154401, 20.498029275764043, 17.906741169166423, 17.378446710051932, 27.052795722878148, 18.4083044982699, 24.375010123332814, 32.560472204004476, 25.26855594958696, 26.258413220367895, 18.953168044077138, 14.162486932705383, 29.017447199265384, 19.702907488585407, 24.99912468050839, 22.016124436862075, 26.499519475380183, 17.7841337543595, 32.576980822073025, 20.832586324357276, 22.171580969061292, 18.45444059976932, 40.58769513314968, 18.672388604821037, 18.38754155703792, 29.86590105388467, 19.895397733229274, 18.97142857142857, 21.320710059171596, 21.601562499999996, 16.249999999999996, 17.138196362064054, 17.718521117494845, 23.807591375158943, 20.068051230095882, 23.281000977379385, 24.38652644413961, 19.585429050449623, 32.409470062622205, 19.321596361900962, 18.554687499999996, 22.043746749481414, 20.15268798471644, 17.310380613049237, 23.094697797379474, 26.869711037300345, 16.21983797565284, 22.755679438326478, 20.55619719878759, 20.74509769391295, 25.200000000000003, 21.613530362081395, 20.39701329448188, 21.787317531215677, 18.82393932638349, 22.828395743180163, 17.60861180563021, 20.709822143887195, 21.603793626160755, 22.46045238957901, 22.481721383049436, 25.93424445716691, 18.8075692758315, 15.41301736139062, 18.4445199803885, 25.528007346189167, 27.963240918056915, 20.29970275958703, 17.586947940879785, 21.055620917684287, 19.011284064911223, 18.676006798385718, 23.359757125990892, 29.401276603430116, 19.850433859730153, 18.20984188876073, 21.060275962236744, 19.803229636882513, 23.790342666820113, 20.519555136044655, 23.0361981203732, 31.09261186264308, 15.698826398414873, 18.254356580977834, 16.075852931823878, 19.4803127884646, 21.33847818804917, 29.536569882054195, 21.56814753480847, 17.426351149199323, 20.39892462190852, 22.905649197471803, 16.073086832639728, 25.717032526838643, 21.02839379354175, 21.615614018813133, 18.619711961846374, 21.51813614967762, 20.249898116378997, 16.078815429815972, 19.520851818988465, 34.06360930832945, 18.6689223571084, 19.477109346896455, 31.07968109544615, 18.87496676642421, 20.899959461285526, 18.295477394216817, 17.984535862275195, 21.96829144881093, 17.53923745718695, 19.895397733229274, 17.536567886539785, 18.031646610564405, 20.083466576924334, 21.517769168848506, 21.72617469932741, 17.57478347866754, 33.12466836992893, 21.795458009449774, 30.427197857925268, 23.320312499999996, 21.777738958278743, 27.339911999658252, 34.50182580139202, 24.977867183015388, 19.200440877298927, 20.62482726707164, 33.99336547997675, 21.919419454003, 24.31405020889006, 26.69017171291551, 27.151115067529037, 20.34141749400724, 21.288696972874384, 17.628205128205128, 21.257955628848983, 19.309649785840264, 17.232409342740574, 17.494972449927403, 28.50970255777169, 21.1501786391975, 19.8961937716263, 19.223652600160158, 20.390034769441904, 21.14974285660742, 14.985332091199403, 19.290442025194235, 21.286851413142358, 18.99465082547279, 24.234110653863738, 18.379275381717896, 15.97796143250689, 25.706844945018446, 28.058460889253748, 19.109659251578844, 23.093074463661225, 18.981606443723898, 17.65984922903721, 16.181223822733223, 22.632398520972753, 17.360441340997646, 17.746228926353147, 21.21736326331871, 22.265624999999996, 17.363787577589353, 25.17287906898297, 17.485496369021057, 15.97676107480029, 20.783412391804003, 20.42401218013817, 21.086710248325513, 20.06232274780295, 15.96029836276573, 19.734977324263042, 24.200860323541647, 16.666512689276708, 19.02531229454306, 17.476690239178414, 20.950168242268862, 17.463961759945803, 18.556681267912086, 17.368133500752425, 16.075239511830084, 17.61652809271857, 18.602765641187332, 18.710998534563913, 18.822280517306496, 16.650008496401394, 17.48178980228928, 20.944783553912615, 17.734979179060087, 20.523899540912772, 16.68134240490914, 25.866666666666667, 18.42956572885011, 22.529994984761387, 25.657378094665074, 31.04852220891571, 13.891503860134398, 27.000933331097812, 31.343461361716862, 25.845311471847097, 20.525415551949475, 30.405771901705315, 24.9550975168426, 14.273465677039708, 17.674667526200324, 15.610818341084506, 18.796919547028725, 18.576562989504243, 28.114730820722947, 18.326620212668473, 33.63351306163846, 20.24422897480628, 16.050035890200736, 29.389745015902474, 20.897310761309893, 21.340539393989033, 22.874366403954692, 24.01649829012974, 20.544419787064424, 18.308518005540165, 20.780318572849982, 24.339921031409393, 19.967153063930564, 20.801350963415278, 19.631061820325023, 20.989725583892692, 18.417121241194046, 17.047572948894892, 23.337767509160074, 21.758322558378577, 15.01492392438545, 15.065990262225807, 20.732893645105396, 17.985899695561606, 14.488888888888889, 21.055620917684287, 18.19399062992542, 18.88961075730914, 26.89232313815483, 18.843951409638883, 34.221453287197235, 20.072232157667386, 17.48578655350151, 17.274062830924173, 13.997368494722997, 20.29834700393584, 15.86974780801487, 18.724505052442716, 25.94270248946936, 21.36368559182602, 17.723112178498543, 20.151695419393224, 21.64954127252362, 21.063989491461815, 17.457732060311407, 26.150263504152715, 20.862121852710008, 18.388773450311092, 24.41773926825737, 19.988849132438002, 19.95739644970414, 19.724084098611268, 21.367442648678715, 19.18706339481153, 16.00365797896662, 20.66115702479339, 22.189349112426033, 20.937990488170037, 23.65313283458063, 18.9721628727472, 20.924204162840525, 21.822498173849525, 20.160875385209224, 18.32592009614715, 16.112194085420498, 40.039921439513584, 19.298577857136415, 17.789420489948977, 16.232281664380427, 19.629491315171848, 23.62608275512409, 30.90192046007303, 18.92033144698663, 18.578247773530784, 28.564132817934468, 20.76778620773314, 21.783546661859262, 24.354229977453194, 17.32477062478344, 17.116301286707998, 20.343293070565803, 14.084333641120345, 17.06141149632413, 21.56948024624568, 17.458066409115364, 17.612319304825913, 27.382630612157715, 22.26984830162474, 22.230440499671268, 27.641396768365507, 20.003512616815513, 23.671497405581658, 22.752667243367938, 20.184615384615384, 22.554467699245176, 18.085937499999996, 18.410293011592376, 18.562000999371865, 24.450718283304642, 21.94280078895463, 19.15573534810575, 24.494785681861423, 18.083175405601224, 20.763923982181463, 21.077757976287714, 23.567307089843418, 22.202552078423974, 24.0094674556213, 22.916150781755704, 19.390925857725907, 16.367187499999996, 18.62510508956865, 16.612364058988756, 28.8984800150122, 19.271592091571275, 21.27659574468085, 17.988165680473372, 21.929957168052407, 27.284690422798857, 25.052104607199336, 26.971615457201636, 14.817898022892818, 18.670934308794386, 21.757812499999996, 26.832675871137408, 22.116724674905342, 19.676254614791674, 23.584896342997876, 22.228248547383952, 20.691609977324266, 22.624397297532145, 19.882812499999996, 20.0624349635796, 17.559834753520114, 20.936524453694066, 18.78863753263264, 27.253592683988966, 16.754965482118603, 26.328679210109918, 20.379178226978464, 19.504622396481206, 20.535514989179063, 20.549591411632747, 22.38455294972019, 19.797879992153504, 27.07626395464875, 24.91423479616841, 23.814967230605085, 24.83576349943919, 24.271835734099835, 22.402435529848656, 18.35598128759189, 21.32730942039216, 19.673021091590623, 20.059669015461242, 18.00306834904036, 23.28613082028879, 15.074380165289256, 16.82422688671687, 18.546745648542817, 22.682246035449815, 17.38503444960743, 18.19548277362446, 20.385611949397955, 22.50203346715108, 21.542456083411093, 19.52220860694798, 17.535903250188966, 24.67105263157895, 20.269238290589502, 22.717466914386847, 17.489309447351406, 13.584958509856099, 18.784626038781163, 18.442906574394463, 28.994106245797234, 17.474915534505815, 21.5095998279232, 17.86292748391874, 20.39397836573478, 18.965723028598074, 31.380130874479484, 24.15435784872854, 19.0469521375302, 20.023335466144758, 20.754513025618852, 13.885630287911363, 18.865012923884105, 17.43039510840393, 21.918000070025563, 17.65229325002845, 16.498287089605107, 21.864513571154035, 17.644444444444446, 18.01290113189176, 18.521362231221023, 16.257802293511396, 21.467492994770033, 26.923783287419653, 19.171451541447215, 22.20633068613798, 21.256670131276962, 16.72166282931384, 13.304126135491693, 17.62567284592952, 17.334341143864954, 17.474727899438324, 25.50055939199876, 21.577380952380956, 19.188462904045505, 20.106537385039168, 17.591469266464873, 19.851729560132423, 19.511498043354003, 23.81106061154675, 19.223375624759708, 17.273732558328376, 17.324290584982144, 27.360665915205757, 19.26319037699916, 20.382719260955906, 17.848004210672013, 26.241981347230713, 17.33467337895367, 17.65281308340394, 32.91815043594749, 22.525024779705696, 22.71990620478313, 19.126665141761702, 19.81679712724775, 21.991580780955147, 16.424577449097605, 23.217585507147792, 21.422013244138846, 14.737662521699079, 31.34666197729261, 17.70073305072863, 18.112350016380297, 36.75747819891964, 20.0228746173659, 23.479077533131587, 19.486158647817135, 22.666969933298247, 19.683757496107646, 18.62487817078317, 18.710998534563913, 17.936862244897956, 20.71881332996653, 19.36509295028488, 16.035313724607, 24.190931565491578, 24.152509947964493, 20.542121552222557, 17.174377535487494, 18.063905325443788, 31.685627045273012, 15.898809932237599, 23.322032010359163, 22.031249999999996, 19.356805365035815, 22.52150804017837, 18.180287854557697, 18.150946868404553, 18.1638068484332, 27.163535547797334, 28.41980614885312, 19.735296421019658, 29.40759637188209, 19.169977717522617, 22.66365750853449, 20.104019050055154, 22.70732211615994, 19.058441519767776, 21.14571318723568, 18.54129526494474, 24.542151241685527, 15.855986790619273, 16.42673121041807, 20.242768304987422, 16.54128086419753, 19.123773796663095, 15.312412221840766, 16.073170589386717, 15.886433468851052, 19.10493171217324, 23.73998531711833, 28.398718000730252, 21.77684441197955, 13.365041617122474, 21.926662821991545, 15.82278481012658, 21.177943532557375, 14.933635718363922, 25.270661617286702, 21.643587361870196, 25.86820151328979, 26.918500892326, 19.881656804733726, 22.125494980407566, 18.48018367270127, 19.923255160468575, 16.403943195488132, 22.345330160618683, 17.480590516736587, 23.809271185901178, 16.76573693034598, 22.248202076026494, 23.832540154669843, 26.08625096352793, 22.3437171986382, 23.7383815303812, 20.066983221792814, 18.494897959183678, 18.778277877274007, 28.21980963712077, 23.403550295857986, 19.745229035071745, 19.014397592421602, 20.2421774105397, 27.754859375379166, 17.169143883180762, 17.178745901147025, 18.48270404803716, 18.911682442991236, 26.032700096527982, 22.53362385201359, 24.805669867398255, 19.95325484764543, 16.508030933967877, 19.253466027521558, 22.33241505968779, 18.0, 27.083391783332868, 18.64343438272054, 19.27192646891575, 18.063905325443788, 23.91095031698049, 18.66897907122032, 19.1167216304925, 17.705604864291058, 21.199615580304147, 21.82119081001993, 21.558755395836787, 23.470297750491394, 22.313012536525587, 26.914132748841258, 21.228878406208782, 18.83678927542382, 20.204014871560446, 19.613791798580635, 19.47506028214817, 17.33888335226818, 17.691051428880385, 19.8325373150548, 28.468695990646417, 24.27755159885594, 25.474782764489834, 22.10909439617699, 20.23654182406739, 19.224714732864022, 15.259066036681782, 21.011827049316903, 24.8092149979404, 29.47453317962167, 23.40336897879186, 21.551206266820458, 22.981695288627115, 20.275458250652136, 24.227308906191563, 14.9056252402922, 27.680139261083685, 15.459428447753142, 18.124999999999996, 21.688623270194025, 15.578524687685903, 27.434397233145823, 18.91670569126159, 18.679598380947727, 17.956936226166995, 20.639635816519423, 18.037447309087344, 28.40077528578774, 31.900200490086878, 17.368649587494573, 19.923935960938998, 20.002974419988103, 24.420354153003352, 29.399831465934273, 22.60042483294777, 26.96357400449416, 21.97710718002081, 25.78282871361908, 17.170035671819264, 35.56226969755739, 22.5500833324012, 27.074981205565077, 20.69042909845839, 14.950165304026461, 32.13346482577251, 18.389490159916523, 22.974404127850065, 21.007147412052298, 19.906873424751165, 21.10258091894603, 18.819494279033567, 25.405197311101453, 18.225047690693657, 29.45435147081237, 25.30852086866843, 27.10529758480598, 20.535514989179063, 16.701095900003505, 21.843644418132268, 24.698794964461378, 26.977222923168867, 16.187319663141878, 21.648242630385493, 20.18957240022579, 20.443594104308396, 19.43961372962124, 20.130024118519575, 20.339655221568197, 19.864154812251698, 25.212846761668306, 30.02254657648036, 25.227955203037574, 22.95744703134655, 20.68678459937565, 25.581065759637195, 16.842653182629387, 18.900009810692115, 19.72803717077852, 20.260924081242724, 20.938335585277297, 33.83193672174798, 24.86681568481252, 18.791736110334334, 18.919685933213508, 22.99653992849892, 15.310813713119813, 21.680327450520064, 24.206561586599378, 18.29082739286108, 24.152509947964493, 22.072970553505645, 27.425887410562353, 26.939332622933158, 20.033538773792724, 18.695491715711988, 21.735393602407086, 19.370722073424776, 23.110344907919718, 17.889273356401386, 23.246379163454904, 27.37213403880071, 19.090077732053036, 22.081109032107655, 20.133397771702786, 24.223808213354072, 17.43164722309806, 22.263802724185567, 22.539062499999996, 22.293423323805968, 24.836406900654374, 16.689342403628117, 21.055621301775147, 25.754119869867274, 20.199469763918696, 26.160134960298752, 20.50345259969162, 21.758013493368054, 26.194706744981808, 22.852200128241638, 25.128090888839385, 19.33704834693396, 17.558192289249217, 22.91698551168248, 23.365978769817726, 19.843749999999996, 15.041747945713484, 23.11111111111111, 21.782859740958234, 15.36355823403962, 20.49140759813512, 14.29204666801197, 20.333781385841775, 22.515309439931677, 23.79078081779172, 22.20633068613798, 17.437537180249855, 18.84158382056878, 20.824313209655887, 33.90274628369866, 19.556811421772757, 36.42290249433107, 19.604461682632234, 19.59800933605956, 25.867371405933994, 23.19339849383111, 18.533333333333335, 26.737018279740237, 19.350803936172, 19.382823278727592, 25.166433570158205, 23.50872321717803, 23.50774088855752, 17.2648614004166, 23.2577251808021, 20.477702583268105, 15.351875189619362, 14.603984390245556, 23.962884554749788, 24.538596079045604, 21.50943163143589, 20.741254886749893, 19.81679712724775, 16.711111111111112, 24.492634862312563, 25.234374999999993, 22.308149910767405, 26.953124999999996, 20.88888888888889, 19.083689317537914, 21.484374999999996, 25.847768218818715, 20.97505668934241, 18.061271147690896, 25.564489124290226, 20.268937998453723, 20.33059629244505, 21.630052718453936, 24.342439232076348, 21.19375573921029, 22.620929665036236, 22.916441465787482, 19.729448491155043, 22.34778208804183, 22.927757481226852, 23.954494472039734, 23.165239969167107, 21.147690900777317, 22.39431863978477, 30.790884381091153, 22.355535886326425, 20.348943985307624, 20.534099721129717, 22.704798069696608, 30.632370041821204, 20.58964909469636, 16.80214835244593, 16.46571316435593, 21.015624999999996, 16.395463510848124, 27.637877211238294, 15.116760325096916, 17.804589394748692, 20.312499999999996, 23.510135650053343, 26.387870838316424, 31.74058832495046, 31.481946287066584, 19.20276342195464, 20.00249800781572, 18.266303477006886, 19.063475546305927, 17.269736842105264, 21.795023931015386, 16.917233234383477, 29.04865649963689, 19.297399236875574, 18.093550274510786, 17.323217980445456, 17.414403778040143, 21.62905060838688, 20.590371224742622, 20.93660420312357, 18.63514106434792, 19.030726480534682, 17.91838686735829, 17.55089760304884, 13.409572612184743, 15.076149286289205, 22.414548417865774, 17.442553289067842, 17.873384134365605, 20.424617038430533, 18.746995673770225, 19.735647579225468, 23.684184338584323, 19.142893642947694, 30.07390319962408, 24.862861784759172, 27.64741201842957, 17.774663523477976, 25.316200554295794, 17.165044865875892, 16.31132764633801, 22.148236951514892, 17.934826431739726, 22.28404482909615, 22.69443239500952, 31.545543092342978, 19.554545823359973, 42.167518240457674, 16.59628536802977, 20.071005917159763, 20.499756192220044, 26.891930480201164, 19.9461378723893, 22.21376985429661, 22.226521653008295, 19.011660930869724, 20.981710089790017, 35.98376608546758, 19.09810386749335, 18.70453817259645, 33.9596477099664, 17.426311010627163, 24.88302737255186, 20.837255790201596, 17.73349645980841, 25.94947417742607, 20.565475956014758, 16.48534188837284, 23.026032692388675, 15.408804869388476, 18.46213688194708, 22.59079321707122, 20.7404867337921, 19.40969033772064, 20.380622837370243, 20.6515701075058, 18.335867248321122, 18.48747085753639, 20.4407998364736, 21.628594463853805, 19.520443724339, 27.01837132791801, 20.233611232675536, 18.928120564360512, 39.9265381083563, 23.214388946699035, 18.184929616778415, 18.192986357907863, 19.2759467591284, 18.78524615150129, 19.360130100074272, 28.10267955078075, 22.695312499999996, 18.339570087841928, 18.47858417608567, 23.800099389792894, 24.666878201616232, 32.235939643347045, 22.07191171235315, 18.8277447268794, 15.278739612188364, 25.562130177514792, 17.587113740959893, 18.661811561219846, 30.448791084418726, 22.434987220576897, 21.100509558496636, 23.655934591532557, 18.01290113189176, 30.080782312925177, 19.950372953457162, 23.61548947203167, 16.318097486928657, 18.925164492407166, 26.787075140984598, 23.339907955292567, 19.3760822117639, 23.387210536866405, 19.04080096250589, 20.185290616427725, 16.19834931441629, 21.953124999999996, 15.31510107015458, 20.126385041551245, 17.54964823278616, 26.203073822121443, 16.051927547037412, 17.752099616768977, 14.872068788554792, 18.69285167334805, 18.03732665598574, 39.470592842039316, 30.14437869822485, 16.75365115565107, 18.226817953544348, 25.568591407151096, 20.945401096265147, 18.430457558513783, 24.274803686041093, 22.71261150025695, 18.582854576016793, 21.059589864487393, 22.031725684986377, 14.485146141048089, 19.027141060489267, 19.120410892191007, 16.346079517637666, 24.401505650500592, 19.87676406281058, 24.122547702230587, 22.111640441808404, 15.234374999999996, 16.883642135465948, 21.851253681839555, 21.577641353286513, 21.452522481329062, 20.044576404572435, 22.27388208678148, 18.367346938775512, 21.86904998985648, 27.52772721880025, 16.286218190980097, 19.40262033615653, 18.883286987270395, 20.314573329126343, 19.13815949342801, 20.584795321637426, 21.06560601128472, 20.23950075898128, 14.371893149873943, 21.698477296932893, 30.338220351284658, 22.035797697971326, 19.08414748664498, 18.19219538526454, 15.282647439108198, 27.281746031746035, 19.21222175070406, 17.956599695762808, 18.435813213986748, 17.952513825408452, 29.185540300653035, 20.675897445976357, 16.786921337105802, 22.480403667632164, 19.003263847973887, 17.328191395870597, 19.780680677024577, 25.853182607685124, 19.04437448916481, 15.277188380077927, 17.816558811986013, 21.787920858126427, 22.27683275716575, 21.229703742375477, 22.280969712363824, 18.503251040283295, 24.038126018712525, 21.122582176337957, 18.468544442570415, 21.688297958346027, 16.824118333396065, 20.946575758527874, 21.48899023785872, 27.303300665680464, 23.339103808972297, 22.17777848323395, 21.14889312595396, 24.916776289296354, 28.23341559007113, 22.38835489102488, 22.23311508700676, 19.148586456278764, 25.039918710988534, 25.250851922181898, 19.17942369342486, 21.2657860357091, 16.550752290801444, 17.371711629586947, 29.648892425193154, 29.696262561631983, 17.978042865308577, 30.868950230606064, 17.247419142669223, 23.634033007530842, 18.337346424723695, 17.630492650746497, 20.73870753411975, 17.958047981212605, 20.269028409276345, 21.10845551505759, 15.760749906032503, 19.784101347466642, 20.550634777785753, 15.982106417712478, 20.024697126455962, 23.744068472306626, 27.372850646421977, 19.110245754627574, 19.38568209419934, 18.510068790367, 16.24853103124146, 22.108901287262174, 24.972789648399107, 15.73871116350062, 26.54678764435544, 18.364198939403618, 18.19543163897873, 21.810385514003503, 18.78912353455646, 22.099110195587077, 30.794139928571838, 20.5485494845925, 17.166035749829998, 16.032018605878378, 22.041522491349486, 24.59229146102073, 16.914680255553012, 16.98468153722118, 17.891765639513387, 31.71226073183172, 22.582709172343712, 18.52329956994115, 18.600559273572753, 25.265912649091053, 20.41648976242299, 29.73598963463983, 29.035208047553724, 24.819827789141854, 20.286800406488766, 21.69391674710665, 22.151422150544864, 26.364323507180654, 21.41843235699871, 21.40576334345357, 25.34477743294434, 20.408163265306126, 16.99844804169379, 16.890154661603574, 28.642135583593653, 20.196764291289302, 16.37427085174617, 23.90960911299785, 21.640624999999996, 18.09688581314879, 16.663996154462424, 20.022375679950617, 23.878647118594863, 19.44369430191736, 23.309053069719038, 20.022375679950617, 19.374999999999996, 17.475662520281237, 18.554687499999996, 17.460937499999996, 25.55932915514163, 15.976562499999996, 17.82171201814059, 18.931837856148142, 30.955058927086903, 27.906022365856163, 16.749311294765842, 23.634033007530842, 23.415858725761773, 15.545314161351772, 26.709292702558688, 30.041641879833435, 15.743136462446744, 26.931535679730178, 33.12113061371638, 29.772153351698805, 17.71541228651401, 17.437041934608132, 19.205179911381816, 35.4314838356924, 21.293031017929383, 24.047825926237362, 27.035854260415157, 19.283386162610157, 20.103803374493353, 23.94085615590756, 23.686124072224455, 21.174327480633785, 15.941799587402055, 14.328329013643701, 17.240017959520063, 14.969515752904469, 18.054395601965314, 16.7804359113993, 31.604319489040293, 19.88823142669296, 26.824811930304488, 32.207142599485714, 18.67096426405516, 21.845891010510172, 23.33956243802876, 32.909971528239424, 19.824588764823538, 15.830382473518783, 16.981644728897475, 12.322300442404291, 15.157048940832727, 25.028935185185187, 20.534660145049756, 22.20890124900502, 23.504632487711937, 17.03433268085061, 23.32415059687787, 22.744353467030574, 18.33065921363628, 20.678214575054973, 21.30998549227477, 21.87735858810393, 15.351910370583164, 15.867346938775514, 23.327462522589816, 17.977535401915866, 19.323971315891917, 14.308035494934208, 20.673423716745738, 16.99179818971996, 26.564344746162927, 27.745400462454064, 19.598036113464467, 17.07599834593573, 22.07116106730006, 21.463824529705608, 15.15558586672729, 15.775747999126423, 25.05723204994797, 20.559178322089092, 20.978147762747135, 18.22008958968429, 35.1280968569901, 21.509332616089534, 23.774518167292495, 20.857273914342937, 22.27372558770076, 24.64315539496828, 20.70084645410289, 19.84714003944773, 27.660969869989582, 24.20282708744247, 23.51111111111111, 19.864154812251698, 20.06822470605313, 21.11483307614137, 30.45565170362358, 21.56087408949011, 18.07034854240262, 24.490466798159105, 16.025402125788226, 22.346655029825058, 20.766583600332265, 18.452297400774924, 24.480131736168726, 18.834020249869557, 22.059293308306906, 21.116897214143272, 18.639085180619276, 26.85773098426004, 17.658080697428787, 24.274955936548626, 21.11678004535148, 17.031894426233205, 16.52809271856891, 16.46078077078079, 25.475336276506656, 23.639508111491903, 24.751222803170858, 24.264057034268404, 20.35867304392834, 21.420138303255186, 20.668967784352397, 22.488578339156142, 24.840980089578082, 21.240132106528517, 21.927631438731332, 28.79798295697688, 20.058144645594165, 20.48684047020471, 19.939241671382636, 19.249017342336764, 20.61876716104074, 24.761779302222962, 26.852334343474038, 22.078193795680768, 17.845336781918178, 17.573849352213667, 19.08664381961916, 20.387054616611092, 19.232940645112727, 33.598307516678716, 20.995257082083636, 21.549134251477287, 23.83314393376942, 24.326101249178173, 19.140624999999996, 18.713673005649806, 18.473134442157086, 26.918476673929153, 20.10170267392451, 21.548575602629658, 24.104496619184367, 16.750761694358157, 17.70482047212855, 18.790284457426825, 20.310318894784572, 20.417673912603007, 18.554367851565058, 23.850156087408944, 16.904342252844096, 19.34258929630948, 16.45951986832384, 22.337470621370166, 22.212966819380814, 16.765322504807262, 23.73887240356083, 19.879961707109395, 20.832706681060174, 21.39080275596859, 22.356882080620274, 26.472424557752337, 27.927201461686867, 17.556574018311917, 18.53271286963458, 29.068643871266982, 28.02069621655437, 30.92892826845131, 27.85027576456753, 20.37156892911331, 28.973707097428765, 16.879360162432317, 24.682562482045387, 21.855145677518312, 27.367257601235437, 22.598212422287382, 23.332264961200895, 28.13372818987592, 20.399305555555554, 57.47959601508712, 23.69350857204861, 26.64058002795976, 15.201795752553581, 24.787361215851117, 18.749815744735216, 25.717211197736003, 19.357895710059168, 24.654832347140037, 20.624334277817617, 20.381611841291054, 19.670663252931348, 28.993830544460973, 15.853630151935745, 26.836225588087284, 41.77041420118343, 25.31229454306377, 21.424320571315217, 17.79454351470812, 22.270937720185273, 40.128976929717155, 23.616176044479868, 22.635486585219894, 26.385337224457096, 16.666666666666668, 18.0375086342843, 25.051900925302917, 21.1774330696488, 23.66151409642217, 22.242052281412704, 18.546707258452166, 22.376945286228366, 22.413904796679553, 20.255352192568182, 36.26267551672322, 22.916738026616045, 22.71990251668124, 18.54371378180902, 22.070312499999996, 26.555671175858475, 22.350749926477796, 14.848725321512495, 27.513007284079077, 22.941176470588236, 21.846646026261013, 19.954648526077097, 20.028841531805796, 18.602481216661328, 26.631146635088047, 31.00175382400933, 16.821006390657942, 25.969548980178107, 20.430155423371072, 18.93380845268031, 17.827904803850505, 27.226860651414587, 24.438920205875146, 23.7508218277449, 17.337296143880504, 22.464689088291575, 40.499479708636834, 15.262458600581049, 20.52532765063477, 25.824208276766527, 14.590148032357533, 20.568785751957485, 30.115048430066743, 20.983068190011984, 19.492816557107727, 19.818790830557422, 27.048677215650784, 30.175054590011985, 17.980760586172796, 18.29324064758072, 17.98560505406272, 22.483948181300637, 18.33063970377054, 16.27771060261032, 21.618432129568166, 18.570529583907, 19.046420335742127, 34.01508546028728, 18.93882425550925, 19.57042053251638, 16.55373483483265, 23.31460643977364, 14.767745062741488, 19.166978921503453, 19.946513206733112, 22.861809187318837, 21.940729690210212, 20.532382500400633, 29.71965476367152, 19.700000103684214, 18.65292495282334, 19.215201102249434, 26.12651569792152, 18.167101291886844, 21.824068081115698, 18.755509430895327, 19.86907359650863, 19.790903128737312, 18.548898393087647, 24.34651654774284, 21.94211443853196, 24.911188105784834, 25.937601980185836, 24.87276392038297, 17.857774059760576, 16.91815272062185, 32.244150715524924, 24.965353362742462, 22.8482719501637, 25.072407678715205, 17.692009633190033, 19.108114400548967, 16.99558741292698, 18.400442542288992, 19.460904433058587, 23.725286160249738, 23.83738146169575, 18.333333333333332, 19.086082847861686, 15.887531775063549, 17.644444444444446, 15.656947079518869, 28.182448838015947, 21.25173130193906, 18.516466605109265, 22.21367849972233, 20.206551826853918, 15.215401566479766, 19.73662712805934, 27.341274537857547, 19.8294665873488, 18.93546163492762, 23.105507919061782, 24.220049494908515, 27.61649005661199, 15.109006800682064, 19.257365942472994, 22.1033474093629, 22.143630664913204, 20.492494518468547, 19.302547586033512, 19.823645950487528, 24.579203625636683, 29.113566122617204, 24.03729868762349, 15.060153938609465, 16.155478395061728, 20.284353912882313, 21.35379786963979, 19.755793144962592, 20.47460125714052, 20.320332793374806, 26.395851539635313, 17.347145035905985, 21.055516378183814, 21.10871806387735, 20.65573687901892, 31.87209007817586, 19.008487751151954, 17.40847910412905, 17.06984099700545, 29.6269926031407, 34.71685739531395, 27.192537477200418, 23.447219642026045, 29.947300311779532, 21.154328183957706, 17.445784220779863, 18.38595154574266, 17.45010127482089, 16.127916481952898, 16.83790994669152, 22.28840472851518, 21.459262026849448, 16.389528110981416, 37.54044644985078, 19.450683342875184, 16.869088125484136, 15.981248668229277, 13.87091765436572, 16.101989048920693, 22.490676673673725, 20.8540610060909, 23.21470525715181, 19.369501213822076, 21.687038564582217, 23.54355799606444, 21.17002003430315, 19.473406629072173, 19.97400171102593, 18.433022126466266, 22.360031443794217, 19.856809461651043, 18.58909930440148, 21.921087824631297, 32.636780179777716, 19.181973800823126, 23.502573589318406, 22.24322543701396, 17.43197278911565, 20.799679296294315, 19.79591836734694, 21.59109117128665, 22.21367849972233, 22.38514907868402, 16.83113332478961, 17.47641320054166, 20.63503866745985, 18.661575779093504, 27.61345952684337, 30.18935174871909, 28.30574570263557, 24.161735700197234, 21.022540676109262, 17.605507547778696, 27.61908318597, 17.83606004385225, 17.404561403097073, 21.006841165972638, 15.225283947823064, 16.922971673825923, 24.658086557947566, 21.8561855002789, 28.97905180090299, 28.913820001783805, 18.1034124521031, 40.724152207459824, 22.588781404829497, 16.57521719250114, 16.7758985736975, 15.761883697636224, 23.360881542699726, 17.785928563806028, 17.815403617637823, 22.058814901902807, 16.5838807883352, 18.237824261690406, 22.972822454889727, 23.117889336703556, 20.91906721536351, 16.91482209461166, 24.476777342074325, 18.779747427790333, 18.99968047765275, 29.84197831587206, 21.580952774401045, 21.659231826726145, 17.544582417629247, 21.562499999999996, 19.62826470116968, 23.481137643993225, 20.98549735805682, 25.528007346189167, 27.95245243214735, 20.649746039276344, 24.058694191817715, 18.479551852163585, 29.797286998933085, 27.32488951116229, 30.585535515794756, 24.520096727004947, 19.941467892565623, 20.754513025618852, 27.545233594382932, 21.859379894981465, 22.82713248710267, 17.935032139577594, 22.19057790435505, 20.613153987247795, 20.563610970086348, 17.01639208454162, 16.533333333333335, 19.76181495718608, 21.242221277241164, 24.51970961899753, 20.088347049951214, 24.062499999999996, 15.617914312219039, 22.933168452225875, 18.20708973039502, 18.65292495282334, 28.496773288439954, 17.85468347804656, 19.363258261656856, 16.448549631760987, 15.29596629604129, 24.355251012584905, 17.217866834790716, 19.58947906287746, 15.343560112847223, 23.485157579436557, 17.188175178026118, 20.344505892775643, 18.462650621207516, 26.82742078020452, 21.001226357879588, 21.095565983948074, 17.604878606765993, 30.543807937118203, 19.76788134273446, 21.9671201814059, 19.288707379447448, 18.778763971071662, 23.28927286634203, 16.090721294605196, 18.868204356660144, 23.761747667471568, 23.782626791129076, 21.00524255845521, 18.040313858405494, 19.43835385393827, 24.753249705634357, 32.08978764530591, 14.605259996155327, 19.808091835841587, 17.935016495319758, 19.057532869498797, 21.0812016656752, 18.549293952571926, 21.367207697414244, 18.859916087270193, 23.056643498784975, 22.578124999999993, 14.36946311487982, 19.433958744037657, 29.667981591058513, 27.967393185665497, 18.460615015569175, 18.215066872243536, 27.083391783332868, 26.812237182207472, 23.166819572806933, 25.344352617079892, 17.539062499999996, 28.270874424720574, 20.307495011185292, 20.499923792104855, 17.571597633136093, 17.68550557477893, 15.45116837987233, 26.019157941635108, 17.46944418261225, 17.818567269116723, 16.399804953776037, 20.92120208859812, 17.63229577434616, 21.08713780444555, 20.950781718700313, 21.402178695765038, 22.439531368102802, 18.99921447022903, 18.92006802721089, 17.769217734026014, 16.992747512228032, 20.936639118457304, 20.090291290053578, 23.64437898675477, 21.99677353295679, 16.246828938269726, 19.66606237689549, 18.624463762478882, 19.087603878116344, 29.761735237324917, 18.82979215478745, 20.655991744695495, 23.72364487315911, 21.108283134010083, 21.674165723533747, 23.34595678324794, 18.644490501457675, 26.316605371983187, 24.82352666883358, 14.904000831768192, 25.787476991146765, 16.510532581129343, 15.87286372916447, 15.504288987159677, 22.458074056130048, 15.899288736777422, 20.70465390928711, 21.448722413157913, 23.349196906603215, 20.197625397482646, 22.84617411268772, 24.33787274651865, 23.87073564344414, 16.20415120206539, 15.513987918086144, 21.292204612969904, 22.583242883652535, 20.642791551882464, 16.892939726537247, 19.384368132255428, 22.181137615569412, 24.742520593248887, 24.403059580846996, 29.670461612349072, 16.292297158937444, 16.755269258998215, 15.374871235453403, 17.285675893577, 22.153232256344545, 14.088888888888889, 20.092359690164955, 18.85735744485235, 26.925171213170056, 32.15377207378072, 16.919541677159405, 18.653726739178335, 15.923406399596876, 24.293398932315327, 18.43966605684249, 19.783259859288084, 23.87030366979312, 21.31764825880373, 19.116383798417324, 20.17629315334988, 23.12498255658643, 18.78293770550876, 18.44018452410061, 23.70110079242712, 20.742075549463717, 18.23881447705899, 24.505639186828915, 24.005525482356635, 30.26307175789543, 25.725360470695193, 19.171832967611234, 17.772595267009457, 29.39979569633499, 16.66602368735774, 23.513276531039555, 23.807591375158943, 21.098111831215107, 15.973215872214274, 20.10170267392451, 21.0828132906055, 21.71926801889994, 25.937499999999996, 25.269086840785462, 20.016335645826658, 15.812109967954123, 17.36548528876572, 16.025641025641026, 14.327422145328716, 20.43704474505723, 19.31660545249373, 19.698587872315173, 20.00062576215256, 17.393257050699713, 18.54371378180902, 16.251746803995655, 22.929687499999996, 19.123254538365458, 22.615268329554045, 17.30887013021596, 18.55772262510698, 20.52544378698225, 21.67755861492699, 17.005977360391554, 18.93128537486915, 18.198000294798963, 32.24566233830661, 20.31217481789802, 19.0557671338205, 18.07705086044859, 29.761735237324917, 17.778821671894296, 25.518276603513325, 18.305561389997436, 22.702098957946582, 28.173834983668858, 17.75142107611253, 20.083466576924334, 19.435635581832845, 19.300124802232684, 27.950042653528744, 17.382784148642763, 21.79930795847751, 27.966155840125587, 22.682714819585172, 16.649323621227886, 22.42234686721234, 21.955702039930554, 16.110090202024153, 16.19986432613627, 23.673644604934225, 21.96896356717691, 17.888345196158895, 22.568227520827346, 17.410903526638478, 26.50831733023714, 30.991735537190085, 22.362164036080348, 19.606073086926838, 24.201089910573444, 18.74209195466296, 17.4425587346754, 22.328913275415328, 28.04660467128028, 23.90376925516632, 16.83383717367337, 23.773677392248175, 30.14437869822485, 19.14782867340869, 18.21805280487092, 30.22935113949775, 22.768661246504593, 28.35208591465239, 21.693140664778227, 20.248622324746893, 20.63276179543351, 21.313017946014575, 21.724094942523717, 23.73544715887058, 22.36939559199913, 22.211018398668635, 22.88337924701561, 21.320710059171596, 21.294786465239927, 21.686549045737074, 18.04148142841354, 24.141519250780433, 18.169003054272064, 19.303970491511457, 18.314255983350673, 19.80852599332819, 25.312499999999993, 27.357526294435257, 22.747622974052415, 22.777457112942624, 16.810290706511324, 20.249151523282794, 22.857937915852972, 18.160198897416496, 20.17677819427091, 14.610119512621159, 17.216435185185187, 13.072400434129477, 20.060954438486167, 24.931013699462373, 21.293062147077734, 19.97527053839297, 19.94897959183674, 24.54218842095559, 20.251488303976192, 18.79698604537777, 22.378479935602446, 19.92141536309453, 17.64666533427504, 14.915945802189194, 18.576549974809804, 22.57496373153853, 25.196689576784408, 22.722888777439138, 21.865506413345962, 16.8082876695033, 19.342429960807085, 15.078124999999998, 21.323098246175167, 20.05438413963435, 13.993083541722639, 18.537648475278413, 15.623613121299014, 15.283784367930602, 18.60954330152025, 19.339935845280515, 19.580064187801533, 16.598585476642555, 24.016377958858126, 21.55044809118561, 16.96816415180613, 24.5692652988504, 22.20394736842105, 18.81607505426031, 16.07230991420209, 22.916441465787482, 17.613168724279834, 23.58922080969375, 14.274691358024693, 17.0128114049845, 20.102965021786886, 20.052596975673897, 19.559430577524015, 20.482913073301717, 18.30292065805914, 20.057691711210598, 20.21244517374247, 18.67142052917996, 16.42800979706766, 25.19710977440088, 17.289065025562433, 22.000632862569642, 19.8216146238654, 16.513417151435544, 17.156678312281645, 16.886490618300986, 20.189221740310916, 33.8467706906345, 14.755555555555556, 16.732707144512755, 16.439250979822905, 23.50242382271468, 19.810751173371475, 19.695754866945098, 22.050033969436104, 20.58628883820087, 21.44707573784722, 24.754035222856345, 19.438105708557757, 17.34376472806108, 18.499266091849893, 23.490646258503403, 19.49220381214787, 17.04762883184712, 18.882404329151395, 18.704637571872933, 19.86165176855056, 26.035967791712256, 18.044189369516182, 16.303061897772587, 19.60728932704426, 19.6532504468649, 16.5556961581464, 21.311803712483034, 16.98047340421495, 19.02739945521551, 18.098619249131946, 25.9538336597408, 20.621835293649962, 17.823061556398848, 18.082919874904942, 15.355678774479319, 17.63085399449036, 17.738044557967932, 18.74805079082201, 19.643449389712835, 22.800046294510242, 16.8214346783839, 13.773178524252721, 16.167043142909417, 18.43281515762826, 17.053198057053663, 18.489676134091393, 20.28849788064984, 17.99631435482013, 22.845831806241513, 17.735646228525262, 19.423129259974978, 20.911744184903846, 17.61180983270937, 18.55772262510698, 18.254556032943217, 31.673777617530998, 18.888917323818195, 15.63885155423375, 19.668322384233292, 20.785373664670356, 21.57833919785532, 17.246627983415966, 19.518408941485863, 22.37096566580182, 29.379630019279904, 21.794646457336054, 23.60093028609658, 20.0398539066425, 19.468033968915236, 17.327828872333715, 19.824868865559118, 24.125860965787194, 19.26933736457546, 28.00817869680953, 25.51464477437613, 16.57486118553757, 20.810182005851818, 28.291146575407847, 22.86042143859287, 16.98752624368135, 16.758053120242018, 30.11453599172168, 24.19666153077015, 19.515570934256058, 26.246003449474745, 27.298258394118605, 19.311790218558748, 17.659913684533436, 14.915133935806944, 21.110220259816145, 19.382144693643447, 19.18065701226024, 17.239976977042026, 18.689214690085645, 17.7136596055515, 19.65477607412075, 19.456935316499486, 23.595456339634225, 21.809019904258, 21.97710718002081, 19.520429362880886, 18.283566149771456, 20.932120124738347, 19.60127371905676, 16.781919379321977, 18.084882177704614, 26.68993517311301, 29.30074447303178, 14.253783967787879, 18.092861927228252, 18.67937257547647, 21.17697740593363, 17.607484963243483, 15.249317970064414, 14.467563318353168, 16.11733804705689, 19.14757250440634, 17.765482935619154, 21.40104162323923, 22.50441621316182, 19.59866763595173, 23.496149433785906, 19.23336786631233, 14.816863955574625, 14.524200194522193, 15.82278481012658, 15.777826379343505, 18.581554678694335, 18.9856624836627, 19.66494427569796, 24.271700972644012, 17.44315589555327, 20.346589114356984, 17.303491789335123, 20.48625108213665, 19.530756799070737, 17.964866437342426, 19.54587252423825, 20.462175836302595, 20.124077794188313, 21.39080275596859, 19.752239829459906, 15.542048509081477, 18.657549129870617, 16.407451460976553, 17.239976977042026, 19.90038456340294, 18.02620110392951, 31.243977371923496, 15.16219680883249, 15.460331366435625, 16.51953760143738, 19.381036869967712, 16.823498558981882, 18.510710069151628, 26.918763018746994, 18.272245594783815, 15.485365466138282, 21.804901710810253, 14.970181346099231, 17.23938594870727, 28.553846153846155, 17.426287792766587, 16.774646170728328, 17.71468967983376, 18.40933617877247, 19.2612856582688, 24.449795232964927, 23.4441218372978, 20.699960027663394, 15.415439389173267, 26.575724283854168, 19.677338408138397, 21.262376736909662, 20.372651660848, 16.148312037360135, 22.841335202938915, 20.901212558337214, 19.545286793698892, 27.84503282174555, 22.018141443035116, 29.558104233428907, 17.091653377058012, 30.4280564228117, 17.751728790689832, 20.10328803318521, 21.030283608396086, 18.907226406024673, 19.309649785840264, 21.777738958278743, 24.043590916018896, 32.01869278301585, 19.176600774608925, 17.9219313125947, 20.236835474930714, 19.908668482614964, 23.214127192578477, 21.53214515148946, 19.414062499999996, 24.17411532293567, 18.31842391594513, 18.12818340495463, 18.21719342952435, 14.082318435211624, 19.173409383769073, 21.550718857493703, 30.011907133758005, 30.596510897163807, 23.214201183431953, 21.82884741028248, 19.02653077428991, 23.515624999999996, 23.457711001000465, 27.30874127982238, 17.4001180555095, 23.1344510190664, 25.085690944287563, 21.56516856708081, 17.856380024776794, 18.939360179393613, 17.576327788174236, 20.264472038130297, 21.650705029873365, 18.546894263798148, 18.132016511708652, 22.7189744005842, 19.58479544060445, 20.115194034846883, 25.356512975560594, 22.39229024943311, 19.110648423557407, 20.164896178300133, 24.756476898074222, 22.817460317460323, 17.55739210284665, 23.097453005138846, 17.027474010459215, 19.843006582685625, 22.207951713326583, 32.50667322657189, 25.434120485740277, 24.751826656588563, 19.551082614145677, 21.02705958007125, 16.280388898287374, 16.642922497190508, 20.113222900979444], \"y0\": \" \", \"yaxis\": \"y\"}, {\"alignmentgroup\": \"True\", \"boxpoints\": \"all\", \"hovertemplate\": \"cor_raca=Amarela<br>satisfacao_corpo=%{x}<br>IMC=%{y}<extra></extra>\", \"legendgroup\": \"Amarela\", \"marker\": {\"color\": \"purple\"}, \"name\": \"Amarela\", \"notched\": false, \"offsetgroup\": \"Amarela\", \"orientation\": \"v\", \"showlegend\": true, \"type\": \"box\", \"x\": [\"Insatisfeito(a)\", \"Satisfeito(a)\", \"Insatisfeito(a)\", \"Satisfeito(a)\", \"Muito insatisfeito(a)\", \"Satisfeito(a)\", \"Satisfeito(a)\", \"Muito satisfeito(a)\", \"Satisfeito(a)\", \"Satisfeito(a)\", \"Muito satisfeito(a)\", \"Satisfeito(a)\", \"Indiferente\", \"Satisfeito(a)\", \"Muito satisfeito(a)\", \"Satisfeito(a)\", \"Indiferente\", \"Indiferente\", \"Satisfeito(a)\", \"Muito satisfeito(a)\", \"Satisfeito(a)\", \"Muito satisfeito(a)\", \"Satisfeito(a)\", \"Satisfeito(a)\", \"Satisfeito(a)\", \"Muito satisfeito(a)\", \"Indiferente\", \"Indiferente\", \"Indiferente\", \"Muito insatisfeito(a)\", \"Insatisfeito(a)\", \"Insatisfeito(a)\", \"Muito satisfeito(a)\", \"Satisfeito(a)\", \"Satisfeito(a)\", \"Satisfeito(a)\", \"Satisfeito(a)\", \"Muito satisfeito(a)\", \"Satisfeito(a)\", \"Insatisfeito(a)\", \"Satisfeito(a)\", \"Satisfeito(a)\", \"Insatisfeito(a)\", \"Insatisfeito(a)\", \"Satisfeito(a)\", \"Insatisfeito(a)\", \"Satisfeito(a)\", \"Indiferente\", \"Satisfeito(a)\", \"Satisfeito(a)\", \"Muito satisfeito(a)\", \"Indiferente\", \"Muito satisfeito(a)\", \"Satisfeito(a)\", \"Muito insatisfeito(a)\", \"Satisfeito(a)\", \"Insatisfeito(a)\", \"Indiferente\", \"Satisfeito(a)\", \"Satisfeito(a)\", \"Muito insatisfeito(a)\", \"Satisfeito(a)\", \"Muito satisfeito(a)\", \"Muito satisfeito(a)\", \"Satisfeito(a)\", \"Satisfeito(a)\", \"Muito insatisfeito(a)\", \"Indiferente\", \"Insatisfeito(a)\", \"Satisfeito(a)\", \"Indiferente\", \"Indiferente\", \"Muito satisfeito(a)\", \"Muito satisfeito(a)\", \"Muito satisfeito(a)\", \"Muito satisfeito(a)\", \"Indiferente\", \"Muito satisfeito(a)\", \"Indiferente\", \"Muito insatisfeito(a)\", \"Muito satisfeito(a)\", \"Satisfeito(a)\", \"Muito satisfeito(a)\", \"Muito satisfeito(a)\", \"Indiferente\", \"Muito satisfeito(a)\", \"Satisfeito(a)\", \"Satisfeito(a)\", \"Satisfeito(a)\", \"Satisfeito(a)\", \"Muito insatisfeito(a)\", \"Indiferente\", \"Muito satisfeito(a)\", \"Satisfeito(a)\", \"Satisfeito(a)\", \"Muito satisfeito(a)\", \"Satisfeito(a)\", \"Satisfeito(a)\", \"Satisfeito(a)\", \"Satisfeito(a)\", \"Satisfeito(a)\", \"Insatisfeito(a)\", \"Satisfeito(a)\", \"Insatisfeito(a)\", \"Indiferente\", \"Satisfeito(a)\", \"Muito satisfeito(a)\", \"Satisfeito(a)\", \"Insatisfeito(a)\", \"Muito insatisfeito(a)\", \"Indiferente\", \"Insatisfeito(a)\", \"Satisfeito(a)\", \"Satisfeito(a)\", \"Muito satisfeito(a)\", \"Muito satisfeito(a)\", \"Satisfeito(a)\", \"Insatisfeito(a)\", \"Satisfeito(a)\", \"Insatisfeito(a)\", \"Satisfeito(a)\", \"Muito satisfeito(a)\", \"Muito satisfeito(a)\", \"Muito satisfeito(a)\", \"Muito insatisfeito(a)\", \"Satisfeito(a)\", \"Indiferente\", \"Muito satisfeito(a)\", \"Muito satisfeito(a)\", \"Muito satisfeito(a)\", \"Indiferente\", \"Satisfeito(a)\", \"Insatisfeito(a)\", \"Satisfeito(a)\", \"Insatisfeito(a)\", \"Indiferente\", \"Muito insatisfeito(a)\", \"Insatisfeito(a)\", \"Indiferente\", \"Insatisfeito(a)\", \"Satisfeito(a)\", \"Satisfeito(a)\", \"Satisfeito(a)\", \"Satisfeito(a)\", \"Muito satisfeito(a)\", \"Satisfeito(a)\", \"Insatisfeito(a)\", \"Satisfeito(a)\", \"Satisfeito(a)\", \"Muito satisfeito(a)\", \"Muito satisfeito(a)\", \"Muito satisfeito(a)\", \"Muito satisfeito(a)\", \"Indiferente\", \"Muito insatisfeito(a)\", \"Muito satisfeito(a)\", \"Satisfeito(a)\", \"Insatisfeito(a)\", \"Satisfeito(a)\", \"Insatisfeito(a)\", \"Satisfeito(a)\", \"Muito satisfeito(a)\", \"Muito satisfeito(a)\", \"Indiferente\", \"Satisfeito(a)\", \"Satisfeito(a)\", \"Insatisfeito(a)\", \"Satisfeito(a)\", \"Insatisfeito(a)\", \"Muito satisfeito(a)\", \"Satisfeito(a)\", \"Satisfeito(a)\", \"Muito satisfeito(a)\", \"Satisfeito(a)\", \"Muito satisfeito(a)\", \"Insatisfeito(a)\", \"Insatisfeito(a)\", \"Satisfeito(a)\", \"Muito insatisfeito(a)\", \"Muito satisfeito(a)\", \"Indiferente\", \"Indiferente\", \"Muito satisfeito(a)\", \"Satisfeito(a)\", \"Muito satisfeito(a)\", \"Satisfeito(a)\", \"Satisfeito(a)\", \"Indiferente\", \"Insatisfeito(a)\", \"Satisfeito(a)\", \"Satisfeito(a)\", \"Indiferente\", \"Insatisfeito(a)\", \"Muito insatisfeito(a)\", \"Satisfeito(a)\", \"Satisfeito(a)\", \"Insatisfeito(a)\", \"Insatisfeito(a)\", \"Satisfeito(a)\", \"Satisfeito(a)\", \"Indiferente\", \"Insatisfeito(a)\", \"Insatisfeito(a)\", \"Indiferente\", \"Satisfeito(a)\", \"Satisfeito(a)\", \"Satisfeito(a)\", \"Muito satisfeito(a)\", \"Muito satisfeito(a)\", \"Satisfeito(a)\", \"Insatisfeito(a)\", \"Satisfeito(a)\", \"Insatisfeito(a)\", \"Indiferente\", \"Insatisfeito(a)\", \"Satisfeito(a)\", \"Insatisfeito(a)\", \"Muito satisfeito(a)\", \"Satisfeito(a)\", \"Muito satisfeito(a)\", \"Muito satisfeito(a)\", \"Insatisfeito(a)\", \"Satisfeito(a)\", \"Insatisfeito(a)\", \"Satisfeito(a)\", \"Insatisfeito(a)\", \"Satisfeito(a)\", \"Satisfeito(a)\", \"Insatisfeito(a)\", \"Indiferente\", \"Satisfeito(a)\", \"Insatisfeito(a)\", \"Muito insatisfeito(a)\", \"Satisfeito(a)\", \"Indiferente\", \"Satisfeito(a)\", \"Satisfeito(a)\", \"Satisfeito(a)\", \"Insatisfeito(a)\", \"Insatisfeito(a)\", \"Insatisfeito(a)\", \"Indiferente\", \"Insatisfeito(a)\", \"Insatisfeito(a)\", \"Satisfeito(a)\", \"Indiferente\", \"Insatisfeito(a)\", \"Indiferente\", \"Muito satisfeito(a)\", \"Indiferente\", \"Satisfeito(a)\", \"Muito insatisfeito(a)\", \"Satisfeito(a)\", \"Muito satisfeito(a)\", \"Muito satisfeito(a)\", \"Insatisfeito(a)\", \"Muito satisfeito(a)\", \"Satisfeito(a)\", \"Indiferente\", \"Muito insatisfeito(a)\", \"Muito satisfeito(a)\", \"Satisfeito(a)\", \"Satisfeito(a)\", \"Satisfeito(a)\", \"Satisfeito(a)\", \"Insatisfeito(a)\", \"Muito satisfeito(a)\", \"Satisfeito(a)\", \"Insatisfeito(a)\", \"Satisfeito(a)\", \"Muito insatisfeito(a)\", \"Insatisfeito(a)\", \"Muito satisfeito(a)\", \"Muito satisfeito(a)\", \"Indiferente\", \"Insatisfeito(a)\", \"Insatisfeito(a)\", \"Insatisfeito(a)\", \"Muito insatisfeito(a)\", \"Insatisfeito(a)\", \"Satisfeito(a)\", \"Insatisfeito(a)\", \"Satisfeito(a)\", \"Muito insatisfeito(a)\", \"Insatisfeito(a)\", \"Insatisfeito(a)\", \"Satisfeito(a)\", \"Indiferente\", \"Satisfeito(a)\", \"Muito insatisfeito(a)\", \"Satisfeito(a)\", \"Satisfeito(a)\", \"Satisfeito(a)\", \"Insatisfeito(a)\", \"Muito satisfeito(a)\", \"Satisfeito(a)\", \"Satisfeito(a)\", \"Satisfeito(a)\", \"Satisfeito(a)\", \"Insatisfeito(a)\", \"Satisfeito(a)\", \"Muito satisfeito(a)\", \"Indiferente\", \"Satisfeito(a)\", \"Muito satisfeito(a)\", \"Insatisfeito(a)\", \"Satisfeito(a)\", \"Muito satisfeito(a)\", \"Insatisfeito(a)\", \"Muito satisfeito(a)\", \"Satisfeito(a)\", \"Satisfeito(a)\", \"Satisfeito(a)\", \"Insatisfeito(a)\", \"Insatisfeito(a)\", \"Satisfeito(a)\", \"Indiferente\", \"Satisfeito(a)\", \"Satisfeito(a)\", \"Muito satisfeito(a)\", \"Satisfeito(a)\", \"Satisfeito(a)\", \"Satisfeito(a)\", \"Satisfeito(a)\", \"Muito satisfeito(a)\", \"Indiferente\", \"Muito satisfeito(a)\", \"Satisfeito(a)\", \"Insatisfeito(a)\", \"Satisfeito(a)\", \"Satisfeito(a)\", \"Satisfeito(a)\", \"Satisfeito(a)\", \"Muito satisfeito(a)\", \"Indiferente\", \"Muito satisfeito(a)\", \"Insatisfeito(a)\", \"Satisfeito(a)\", \"Satisfeito(a)\", \"Muito satisfeito(a)\", \"Satisfeito(a)\", \"Satisfeito(a)\", \"Satisfeito(a)\", \"Satisfeito(a)\", \"Satisfeito(a)\", \"Muito satisfeito(a)\", \"Satisfeito(a)\", \"Muito insatisfeito(a)\", \"Satisfeito(a)\", \"Satisfeito(a)\", \"Insatisfeito(a)\", \"Satisfeito(a)\", \"Satisfeito(a)\", \"Satisfeito(a)\", \"Muito satisfeito(a)\", \"Satisfeito(a)\", \"Muito satisfeito(a)\", \"Satisfeito(a)\", \"Satisfeito(a)\", \"Satisfeito(a)\", \"Satisfeito(a)\", \"Insatisfeito(a)\", \"Satisfeito(a)\", \"Muito satisfeito(a)\", \"Satisfeito(a)\", \"Muito insatisfeito(a)\", \"Satisfeito(a)\", \"Insatisfeito(a)\", \"Muito insatisfeito(a)\", \"Satisfeito(a)\", \"Muito satisfeito(a)\", \"Satisfeito(a)\", \"Muito insatisfeito(a)\", \"Satisfeito(a)\", \"Muito satisfeito(a)\", \"Muito satisfeito(a)\", \"Indiferente\", \"Indiferente\", \"Insatisfeito(a)\", \"Satisfeito(a)\", \"Satisfeito(a)\", \"Insatisfeito(a)\", \"Indiferente\", \"Satisfeito(a)\", \"Satisfeito(a)\", \"Satisfeito(a)\", \"Indiferente\", \"Satisfeito(a)\", \"Satisfeito(a)\", \"Satisfeito(a)\", \"Muito satisfeito(a)\", \"Indiferente\", \"Satisfeito(a)\", \"Indiferente\", \"Muito satisfeito(a)\", \"Satisfeito(a)\", \"Indiferente\", \"Satisfeito(a)\", \"Satisfeito(a)\", \"Satisfeito(a)\", \"Satisfeito(a)\", \"Satisfeito(a)\", \"Satisfeito(a)\", \"Satisfeito(a)\", \"Satisfeito(a)\", \"Indiferente\", \"Satisfeito(a)\"], \"x0\": \" \", \"xaxis\": \"x\", \"y\": [26.329916610123597, 23.005072942867685, 21.068975344188836, 23.31567250821105, 18.581980481773577, 21.17430547657696, 22.62540786690093, 19.529279739341554, 18.43298666750453, 23.13077305544175, 17.070568510897726, 23.529411764705884, 22.50661131707439, 17.187499999999996, 21.174394667189492, 21.581992392232152, 17.653971068297626, 19.195302796492154, 21.2883866782007, 16.251154201292703, 15.765584602125823, 18.215384615384615, 22.000085437225, 20.963148231144007, 20.75298438934803, 18.789062499999996, 16.71120015828848, 23.043634488899997, 18.343749962776485, 28.106508875739646, 25.34020334401771, 20.350020350020348, 18.83795268687821, 27.378799628172953, 20.42366276068075, 22.590408198646585, 17.346358378333928, 20.876337023831866, 17.15420025517899, 24.724341594383972, 21.42836346696946, 21.38033617557048, 18.70752142381649, 21.4911867282496, 20.144918726747626, 21.45973561605721, 17.580164930141645, 34.894053898131084, 18.937341399765778, 20.859374999999996, 17.493381874409753, 26.64759682336558, 31.41862868801847, 22.04744900172042, 23.795326301355452, 18.834134059383693, 28.77576267727783, 16.878677643947114, 21.899436598796807, 22.755555555555556, 22.8416571645069, 16.686164335403788, 22.476586888657646, 15.990270708526642, 23.4793368995022, 16.10782380013149, 22.1324299142814, 16.366843033509703, 24.577867151840145, 17.092405818958746, 18.56255780155899, 19.833198514341472, 17.43887025272307, 22.530506570442444, 19.951625907014247, 18.897160326162894, 15.830689021944853, 19.85308010415941, 18.818924310286427, 22.522438907884467, 15.23305785123967, 18.94267729150352, 17.31739004611814, 18.189155434065412, 21.0828132906055, 17.81959878582066, 20.440633770136785, 18.54371378180902, 19.970609979828588, 22.6413543721236, 19.52965935330896, 26.55207551459523, 15.501542089822925, 19.5351557668589, 19.17755677926632, 22.40257995162591, 20.19196958459821, 26.558252133577547, 25.44123732141786, 24.13045527382411, 22.543392143083683, 36.10919804101622, 19.549962248348756, 33.231669944357314, 19.585056877448377, 19.13636930471947, 18.409417992884176, 20.639708892357245, 21.24285134252631, 19.863067071465785, 14.97777777777778, 22.712706297067776, 20.990554649467708, 27.282425764229252, 17.496544969072442, 19.396529152396813, 16.717358992354818, 19.2267607759705, 19.37918219851122, 26.958613409692052, 17.834186370626686, 20.75032284411872, 24.80435564485124, 16.518737672583825, 18.352812271731192, 17.146703510822967, 18.865252861919856, 18.95249935530433, 26.23742757295179, 15.775614815428103, 23.790706898491006, 18.13148788927336, 17.724204443303933, 15.73693034598384, 22.989245083219878, 22.47698882314267, 18.76196884219243, 20.826396397407553, 20.37396449704142, 21.112886931483278, 18.299992711019858, 18.77110653041533, 19.513976226216073, 23.233456176894723, 23.139399792838955, 16.908892890238015, 23.30518381355853, 19.275739644970415, 21.819573053723975, 20.581591308401162, 17.806428789025265, 16.818330145131267, 20.711111111111112, 16.734063431440344, 23.246379163454904, 20.62185985315873, 22.05420559537453, 20.614235634811763, 17.609683021591195, 18.442545824080696, 20.02646146523211, 19.86001011975038, 18.97034483824856, 20.492494518468547, 15.217243621471066, 18.443316125237764, 17.00371426221869, 13.741782322863406, 16.96602271184907, 18.230851137935495, 17.53826530612245, 20.226055919095778, 14.648768313249256, 15.855141660285573, 17.789127423822716, 17.465134297520663, 20.7636460962545, 21.998172232401096, 23.094835866839492, 14.470151293470748, 24.91394519948952, 15.55594116506242, 19.225072452181102, 14.485022679682846, 20.569537394874374, 15.744084585732708, 21.46277169824896, 20.703124999999996, 18.013756244116156, 21.377769671082323, 19.441974289574965, 18.6097496795183, 20.844492908886846, 31.861629494765594, 16.117833763142233, 19.883840806785823, 31.222618095204968, 21.271931868230716, 18.349200364470416, 17.941930127599747, 31.6398276719711, 18.23313557603626, 21.51660997075446, 15.637106146694212, 19.465088757396448, 18.90633280877527, 17.912004443990973, 19.633788367118658, 16.14984391259105, 19.354838709677416, 28.62292741919495, 37.233828442619654, 21.4120834470768, 21.175926379766693, 19.603393803984858, 21.534042534893917, 21.794646457336054, 23.28927286634203, 22.09478832855456, 21.913690123017282, 19.320838910825504, 21.977828456709133, 19.70715252283926, 19.584473621049337, 22.06188043347715, 16.65249433106576, 21.827229279272462, 19.828606260532826, 20.93248066627008, 20.306126924257708, 18.27593336483932, 20.956607495069033, 24.154554224791593, 17.906083816824847, 17.718335619570183, 17.534261947846094, 19.96132435244347, 23.12847783777857, 19.468876962734456, 20.77482601083216, 30.434487242942133, 19.700489901758598, 27.126440978085263, 20.608001394198826, 19.392267434784372, 29.767044850674896, 37.69521176057649, 26.88678953929486, 15.514721542879384, 17.589777924742474, 21.290556172221475, 20.136249012006473, 14.061358655953251, 22.654776908986925, 17.46491423479617, 15.695600475624257, 16.382692824509544, 18.827931415378796, 20.10170267392451, 26.306322799540254, 20.842379504993488, 18.203484549638393, 21.263288182698858, 21.033235474477202, 20.766583600332265, 30.52537849569414, 24.326590380368675, 19.693559556786703, 17.249855532459918, 19.931391207243596, 24.49954086317723, 16.61326688026581, 24.343196635932255, 20.901212558337214, 20.90676321491907, 22.863309418311683, 22.049139037603197, 20.310318894784572, 23.27213017437693, 20.600714135685777, 19.422222222222224, 19.102409473424522, 20.279031751555983, 24.32407682974291, 24.62937681152329, 26.272021004314517, 19.97527053839297, 18.03700769578995, 22.70447989578272, 26.197630833629074, 18.261425031393642, 21.530316153119696, 26.445637119113574, 30.927822194952533, 19.81791660379257, 29.191708946498593, 22.138793727821522, 21.378298016485378, 16.349547648991845, 22.659549445758653, 20.948265884803824, 23.687357740827895, 22.574955908289244, 22.295318981989382, 19.157056955435234, 22.608506314414285, 24.03087699091876, 28.665344471590018, 21.52908878500367, 22.571870561105065, 20.322252866889244, 20.460684008727842, 16.767125072013762, 16.909737432038966, 20.417115678652227, 18.814306210726205, 20.576825771630965, 22.297338622409747, 18.772088164502595, 18.902038132807363, 18.196474682170702, 17.981667470724968, 29.198381091526056, 26.005985939219684, 17.999981963945928, 17.98041469588759, 22.917253686484457, 17.4477255966425, 17.9913549820392, 20.601455808851323, 20.188799806317515, 25.99446466442446, 21.53396213456652, 17.691590567574742, 15.373437404036725, 19.8060486522025, 21.826842061617032, 18.119204063212717, 17.061276687916614, 21.728395061728396, 17.773437499999996, 19.76253952507905, 18.692821956368753, 16.439250979822905, 18.337346424723695, 26.36667590397148, 22.10629335408988, 38.239693575872195, 21.72576537097901, 18.480000766805013, 17.095455863236353, 20.380622837370243, 17.201509189013752, 14.530982461011616, 19.01927659622076, 22.12481470467685, 19.424760686948336, 24.63902801590393, 23.97601429842307, 15.866411741698972, 20.02002002002002, 20.92120208859812, 19.438858565546298, 24.129962045178363, 18.069601427721597, 33.017051223696654, 17.858098737742804, 19.13397542587055, 18.524096223346035, 20.374776918500896, 21.577342182025347, 17.050265807435164, 25.368989903216747, 21.290556172221475, 19.39058171745152, 22.56130503491438, 16.16993283748369, 23.258573632372133, 23.642243443648603, 17.8781989693423, 19.646201873048906, 17.928223562678433, 16.566077003121745, 18.266303477006886, 24.67451300710378, 22.760226755041444, 22.467465685692808, 23.32193641233827, 15.960693013290634, 20.90468260701082, 15.536009693081352, 25.270426381012392, 19.934762091746403, 32.38179919562453, 21.529467519239475, 16.700591715976334, 19.931391207243596, 20.429418362441915, 20.37156892911331, 18.955348780412855, 20.412450544448724, 18.986571463345367, 14.510517826222243, 13.49411884912842, 21.81061394380853, 24.88183095684987, 30.23128379565968], \"y0\": \" \", \"yaxis\": \"y\"}, {\"alignmentgroup\": \"True\", \"boxpoints\": \"all\", \"hovertemplate\": \"cor_raca=Ind\\u00edgena<br>satisfacao_corpo=%{x}<br>IMC=%{y}<extra></extra>\", \"legendgroup\": \"Ind\\u00edgena\", \"marker\": {\"color\": \"forestgreen\"}, \"name\": \"Ind\\u00edgena\", \"notched\": false, \"offsetgroup\": \"Ind\\u00edgena\", \"orientation\": \"v\", \"showlegend\": true, \"type\": \"box\", \"x\": [\"Muito insatisfeito(a)\", \"Muito insatisfeito(a)\", \"Insatisfeito(a)\", \"Satisfeito(a)\", \"Muito satisfeito(a)\", \"Muito satisfeito(a)\", \"Insatisfeito(a)\", \"Satisfeito(a)\", \"Muito satisfeito(a)\", \"Insatisfeito(a)\", \"Muito satisfeito(a)\", \"Satisfeito(a)\", \"Satisfeito(a)\", \"Satisfeito(a)\", \"Satisfeito(a)\", \"Insatisfeito(a)\", \"Muito satisfeito(a)\", \"Satisfeito(a)\", \"Satisfeito(a)\", \"Muito satisfeito(a)\", \"Satisfeito(a)\", \"Muito satisfeito(a)\", \"Satisfeito(a)\", \"Muito satisfeito(a)\", \"Satisfeito(a)\", \"Muito satisfeito(a)\", \"Insatisfeito(a)\", \"Insatisfeito(a)\", \"Indiferente\", \"Satisfeito(a)\", \"Insatisfeito(a)\", \"Satisfeito(a)\", \"Satisfeito(a)\", \"Satisfeito(a)\", \"Muito satisfeito(a)\", \"Insatisfeito(a)\", \"Satisfeito(a)\", \"Indiferente\", \"Satisfeito(a)\", \"Satisfeito(a)\", \"Satisfeito(a)\", \"Muito satisfeito(a)\", \"Satisfeito(a)\", \"Muito satisfeito(a)\", \"Muito satisfeito(a)\", \"Satisfeito(a)\", \"Satisfeito(a)\", \"Satisfeito(a)\", \"Satisfeito(a)\", \"Satisfeito(a)\", \"Insatisfeito(a)\", \"Insatisfeito(a)\", \"Insatisfeito(a)\", \"Insatisfeito(a)\", \"Muito satisfeito(a)\", \"Muito insatisfeito(a)\", \"Indiferente\", \"Satisfeito(a)\", \"Muito satisfeito(a)\", \"Muito insatisfeito(a)\", \"Muito satisfeito(a)\", \"Satisfeito(a)\", \"Satisfeito(a)\", \"Satisfeito(a)\", \"Muito insatisfeito(a)\", \"Indiferente\", \"Muito insatisfeito(a)\", \"Insatisfeito(a)\", \"Muito satisfeito(a)\", \"Indiferente\", \"Muito satisfeito(a)\", \"Satisfeito(a)\", \"Insatisfeito(a)\", \"Muito satisfeito(a)\", \"Satisfeito(a)\", \"Satisfeito(a)\", \"Satisfeito(a)\", \"Muito satisfeito(a)\", \"Indiferente\", \"Satisfeito(a)\", \"Insatisfeito(a)\", \"Muito satisfeito(a)\", \"Muito satisfeito(a)\", \"Satisfeito(a)\", \"Muito satisfeito(a)\", \"Satisfeito(a)\", \"Muito satisfeito(a)\", \"Muito satisfeito(a)\", \"Muito satisfeito(a)\", \"Muito satisfeito(a)\", \"Muito satisfeito(a)\", \"Muito satisfeito(a)\", \"Satisfeito(a)\", \"Muito insatisfeito(a)\", \"Satisfeito(a)\", \"Satisfeito(a)\", \"Indiferente\", \"Muito satisfeito(a)\", \"Satisfeito(a)\", \"Muito satisfeito(a)\", \"Satisfeito(a)\", \"Satisfeito(a)\", \"Insatisfeito(a)\", \"Satisfeito(a)\", \"Indiferente\", \"Muito satisfeito(a)\", \"Muito satisfeito(a)\", \"Insatisfeito(a)\", \"Insatisfeito(a)\", \"Satisfeito(a)\", \"Indiferente\", \"Satisfeito(a)\", \"Muito satisfeito(a)\", \"Satisfeito(a)\", \"Muito satisfeito(a)\", \"Satisfeito(a)\", \"Muito satisfeito(a)\", \"Satisfeito(a)\", \"Muito satisfeito(a)\", \"Satisfeito(a)\", \"Muito satisfeito(a)\", \"Satisfeito(a)\", \"Satisfeito(a)\", \"Indiferente\", \"Muito insatisfeito(a)\", \"Insatisfeito(a)\", \"Satisfeito(a)\", \"Satisfeito(a)\", \"Muito satisfeito(a)\", \"Satisfeito(a)\", \"Satisfeito(a)\", \"Satisfeito(a)\", \"Satisfeito(a)\", \"Satisfeito(a)\", \"Satisfeito(a)\", \"Insatisfeito(a)\", \"Satisfeito(a)\", \"Muito satisfeito(a)\", \"Satisfeito(a)\", \"Muito satisfeito(a)\", \"Insatisfeito(a)\", \"Satisfeito(a)\", \"Satisfeito(a)\", \"Indiferente\", \"Satisfeito(a)\", \"Insatisfeito(a)\", \"Indiferente\", \"Satisfeito(a)\", \"Satisfeito(a)\", \"Insatisfeito(a)\", \"Insatisfeito(a)\", \"Muito satisfeito(a)\", \"Insatisfeito(a)\", \"Indiferente\", \"Satisfeito(a)\", \"Muito insatisfeito(a)\", \"Satisfeito(a)\", \"Insatisfeito(a)\", \"Muito satisfeito(a)\", \"Satisfeito(a)\", \"Satisfeito(a)\", \"Satisfeito(a)\", \"Muito insatisfeito(a)\", \"Insatisfeito(a)\", \"Indiferente\", \"Muito insatisfeito(a)\", \"Muito insatisfeito(a)\", \"Satisfeito(a)\", \"Satisfeito(a)\", \"Insatisfeito(a)\", \"Satisfeito(a)\", \"Satisfeito(a)\", \"Satisfeito(a)\", \"Satisfeito(a)\", \"Indiferente\", \"Muito satisfeito(a)\", \"Muito satisfeito(a)\", \"Satisfeito(a)\", \"Indiferente\", \"Satisfeito(a)\", \"Satisfeito(a)\", \"Insatisfeito(a)\", \"Muito satisfeito(a)\", \"Satisfeito(a)\", \"Insatisfeito(a)\", \"Satisfeito(a)\", \"Muito satisfeito(a)\", \"Satisfeito(a)\", \"Indiferente\", \"Insatisfeito(a)\", \"Indiferente\", \"Muito insatisfeito(a)\", \"Muito satisfeito(a)\", \"Insatisfeito(a)\", \"Muito satisfeito(a)\", \"Satisfeito(a)\", \"Insatisfeito(a)\", \"Muito insatisfeito(a)\", \"Satisfeito(a)\", \"Indiferente\", \"Satisfeito(a)\", \"Satisfeito(a)\", \"Insatisfeito(a)\", \"Muito satisfeito(a)\", \"Muito satisfeito(a)\", \"Muito satisfeito(a)\", \"Satisfeito(a)\", \"Indiferente\", \"Insatisfeito(a)\", \"Satisfeito(a)\", \"Muito satisfeito(a)\", \"Satisfeito(a)\", \"Satisfeito(a)\", \"Satisfeito(a)\", \"Insatisfeito(a)\", \"Indiferente\", \"Muito satisfeito(a)\", \"Insatisfeito(a)\", \"Insatisfeito(a)\", \"Satisfeito(a)\", \"Satisfeito(a)\", \"Satisfeito(a)\", \"Satisfeito(a)\", \"Satisfeito(a)\", \"Satisfeito(a)\", \"Indiferente\", \"Insatisfeito(a)\", \"Satisfeito(a)\", \"Muito satisfeito(a)\", \"Muito insatisfeito(a)\", \"Muito satisfeito(a)\", \"Indiferente\", \"Muito satisfeito(a)\", \"Muito satisfeito(a)\", \"Satisfeito(a)\", \"Indiferente\", \"Muito insatisfeito(a)\", \"Insatisfeito(a)\", \"Muito satisfeito(a)\", \"Indiferente\", \"Satisfeito(a)\", \"Satisfeito(a)\", \"Satisfeito(a)\", \"Insatisfeito(a)\", \"Muito insatisfeito(a)\", \"Satisfeito(a)\", \"Satisfeito(a)\", \"Satisfeito(a)\", \"Insatisfeito(a)\", \"Satisfeito(a)\", \"Satisfeito(a)\", \"Satisfeito(a)\", \"Insatisfeito(a)\", \"Muito satisfeito(a)\", \"Satisfeito(a)\", \"Insatisfeito(a)\", \"Satisfeito(a)\", \"Satisfeito(a)\", \"Satisfeito(a)\", \"Satisfeito(a)\", \"Indiferente\", \"Satisfeito(a)\", \"Insatisfeito(a)\", \"Satisfeito(a)\", \"Muito satisfeito(a)\", \"Satisfeito(a)\", \"Muito satisfeito(a)\", \"Satisfeito(a)\", \"Satisfeito(a)\", \"Satisfeito(a)\"], \"x0\": \" \", \"xaxis\": \"x\", \"y\": [24.972607742878015, 17.05641147026267, 21.216252525152004, 22.70105849809634, 22.704798069696608, 21.208448753462605, 19.60599490998209, 25.07596348131665, 20.582830353153476, 20.82999519307803, 25.167375781175398, 15.249106982606573, 26.01281163434903, 20.924219257763006, 21.43508056819512, 19.954275778476386, 25.493639916241808, 21.34848147323086, 17.658376442804517, 16.915037937404993, 16.933333333333334, 17.677602741171754, 21.37257775806005, 31.468227690294444, 17.98126951092612, 22.983972175409658, 29.27113244942144, 19.311790218558748, 24.095675160424918, 19.197730112453144, 22.268663544742832, 23.889616431413582, 20.243748943418364, 18.894650641598403, 16.150317032669168, 31.247819478616474, 17.270500329973935, 18.06581435727987, 20.117187499999996, 19.074189120379142, 30.71253071253071, 17.74051105870479, 13.420334120042575, 17.188756982387194, 22.26968869902298, 17.941817249775728, 15.273437499999998, 15.180890099660093, 18.051579322951632, 23.867187499999996, 17.44286703601108, 24.453355623712408, 25.277390448120222, 26.06700684308374, 13.631738834543345, 18.25510385395917, 14.639076190640505, 21.254769351160682, 16.91077811328091, 18.11375437749064, 19.22368075286283, 19.664711520741125, 20.3771252599433, 16.809153394617063, 37.11378088987333, 16.277737006425152, 28.405710886377165, 27.9716553892056, 20.171557325619542, 21.381008758446107, 14.400760144797175, 21.769517091906625, 15.017341681827485, 19.189419449064868, 19.950157311896177, 19.615767695198024, 19.12977447287885, 21.604595341520152, 18.057629897217797, 17.644343182059735, 25.156021824892296, 19.053897983326088, 14.146734748723464, 19.4774642218929, 17.83338134628311, 16.904342252844096, 17.191651327431178, 21.539784586049635, 28.65998641304348, 21.628828825621348, 21.303480119507324, 16.61421703494143, 16.596726156797768, 29.987806736777927, 16.850389464434098, 39.40462242490792, 26.371265868709457, 19.266094237259175, 17.544274986006855, 20.871108367732724, 27.136888855433025, 16.749660479855137, 24.450231481481485, 18.034894398530763, 21.402885412794188, 20.68203321655012, 17.738195323398713, 25.497906382843095, 26.699893200427194, 18.13954085893038, 18.706747404844286, 19.611329207360587, 21.579289353989264, 16.658330696444793, 17.323801587649665, 15.014173101367446, 20.007260276545765, 20.37616587053963, 18.603069224557366, 17.910429505204725, 15.113135991461077, 18.526920139690553, 16.044260260641327, 22.36102622203008, 30.689314141545545, 26.065299140574496, 31.806564160817885, 19.625141389386364, 16.302242839546196, 16.86162757059908, 21.784239884539716, 22.305081317720596, 18.46462327145317, 19.04334401120837, 14.891555022909628, 22.921449809928866, 14.609203798392988, 14.95303638941399, 16.79855615715674, 30.04096495220756, 24.569314371603646, 26.294910464794633, 23.38903632352381, 30.033782220371148, 16.68021934488438, 29.83118810969844, 20.7197873969641, 15.067637877211238, 15.475648611743289, 21.299114670904054, 13.960388842262473, 25.168460898279147, 17.86572664637077, 31.861629494765594, 23.17979343410888, 19.034716463153078, 18.349701266863377, 24.993701184177375, 23.246325468459233, 22.84664830119376, 19.693559556786703, 22.844032652142783, 19.43825821744009, 23.021529378909268, 15.501542089822925, 17.226562499999996, 17.702220936031875, 16.459714022807873, 17.179617356437756, 20.2603550295858, 21.59348471917597, 21.273869024734076, 20.028672626075224, 24.596606924241403, 20.134779750164363, 17.210928642214963, 16.76213797425919, 23.475594663498427, 30.328208286436325, 23.984333782865384, 22.77221527819207, 25.75110919736748, 19.953433674162923, 21.18791192141613, 22.207344395435133, 15.643490029741418, 19.164025954428855, 23.106393762764416, 20.145309891717925, 25.39386324814086, 21.580033777444175, 22.452837467690287, 17.941817249775728, 20.312499999999996, 16.69588446447951, 20.15621063240111, 19.591836734693878, 16.53393351800554, 17.122473246135552, 23.218835003939287, 31.357267683389082, 21.19978504068047, 16.90294529637892, 17.170680828146626, 19.008925823330255, 26.215515927450078, 18.061282717533754, 20.575085948118, 23.77095534319317, 20.682008510471228, 17.11367911851653, 20.32536816909408, 18.322803544220264, 20.368709374251807, 27.369109843728655, 19.54442774831076, 20.902385858042948, 26.68168991746023, 32.27749433106576, 20.63905325443787, 36.27455166609534, 17.68527021052273, 27.525613672665404, 17.64817245152368, 20.583772772124906, 21.623643209887035, 27.765103185550505, 15.943877551020407, 20.01645992481345, 23.59022942440217, 22.916626034351008, 19.787418841572478, 20.583126455354673, 19.224727078310163, 18.211058377754473, 20.83299731724757, 20.76166203762151, 27.47836748011423, 21.109996199405586, 19.336734693877553, 20.922146636432352, 16.423650056080753, 19.696422455980134, 17.99236240657947, 29.21893640832475, 24.265604488294557, 18.30404487627697, 17.20611591580983, 27.026716460787128, 19.748695908418714, 19.298577857136415, 16.937669376693766, 17.48251030790969, 19.825404273035467, 22.246480896294166, 25.147707561042186, 28.123309897241757, 17.371050532630665, 18.534856378767145, 20.39440310790031, 17.315296566077002, 15.807463290553818, 17.189506001921124, 17.79807485487186, 14.164404943563696, 28.07416122357905, 15.918328873636362, 18.234193065939447, 19.725961524215737, 14.276878476728214], \"y0\": \" \", \"yaxis\": \"y\"}, {\"alignmentgroup\": \"True\", \"boxpoints\": \"all\", \"hovertemplate\": \"cor_raca=Preta<br>satisfacao_corpo=%{x}<br>IMC=%{y}<extra></extra>\", \"legendgroup\": \"Preta\", \"marker\": {\"color\": \"dodgerblue\"}, \"name\": \"Preta\", \"notched\": false, \"offsetgroup\": \"Preta\", \"orientation\": \"v\", \"showlegend\": true, \"type\": \"box\", \"x\": [\"Insatisfeito(a)\", \"Satisfeito(a)\", \"Satisfeito(a)\", \"Insatisfeito(a)\", \"Satisfeito(a)\", \"Muito insatisfeito(a)\", \"Satisfeito(a)\", \"Insatisfeito(a)\", \"Insatisfeito(a)\", \"Muito satisfeito(a)\", \"Muito satisfeito(a)\", \"Insatisfeito(a)\", \"Muito satisfeito(a)\", \"Muito satisfeito(a)\", \"Satisfeito(a)\", \"Satisfeito(a)\", \"Satisfeito(a)\", \"Muito insatisfeito(a)\", \"Satisfeito(a)\", \"Muito satisfeito(a)\", \"Satisfeito(a)\", \"Satisfeito(a)\", \"Muito satisfeito(a)\", \"Muito insatisfeito(a)\", \"Insatisfeito(a)\", \"Satisfeito(a)\", \"Muito satisfeito(a)\", \"Satisfeito(a)\", \"Muito satisfeito(a)\", \"Satisfeito(a)\", \"Satisfeito(a)\", \"Muito satisfeito(a)\", \"Insatisfeito(a)\", \"Satisfeito(a)\", \"Muito satisfeito(a)\", \"Satisfeito(a)\", \"Satisfeito(a)\", \"Insatisfeito(a)\", \"Indiferente\", \"Insatisfeito(a)\", \"Insatisfeito(a)\", \"Muito satisfeito(a)\", \"Satisfeito(a)\", \"Insatisfeito(a)\", \"Muito satisfeito(a)\", \"Muito satisfeito(a)\", \"Satisfeito(a)\", \"Satisfeito(a)\", \"Muito satisfeito(a)\", \"Muito satisfeito(a)\", \"Satisfeito(a)\", \"Muito satisfeito(a)\", \"Muito satisfeito(a)\", \"Muito satisfeito(a)\", \"Muito satisfeito(a)\", \"Satisfeito(a)\", \"Indiferente\", \"Satisfeito(a)\", \"Muito satisfeito(a)\", \"Insatisfeito(a)\", \"Muito satisfeito(a)\", \"Insatisfeito(a)\", \"Satisfeito(a)\", \"Muito satisfeito(a)\", \"Satisfeito(a)\", \"Muito satisfeito(a)\", \"Muito satisfeito(a)\", \"Muito satisfeito(a)\", \"Satisfeito(a)\", \"Satisfeito(a)\", \"Insatisfeito(a)\", \"Muito satisfeito(a)\", \"Insatisfeito(a)\", \"Muito insatisfeito(a)\", \"Muito satisfeito(a)\", \"Satisfeito(a)\", \"Satisfeito(a)\", \"Muito satisfeito(a)\", \"Muito satisfeito(a)\", \"Muito satisfeito(a)\", \"Satisfeito(a)\", \"Indiferente\", \"Insatisfeito(a)\", \"Insatisfeito(a)\", \"Muito satisfeito(a)\", \"Muito satisfeito(a)\", \"Muito satisfeito(a)\", \"Insatisfeito(a)\", \"Satisfeito(a)\", \"Satisfeito(a)\", \"Muito satisfeito(a)\", \"Satisfeito(a)\", \"Muito satisfeito(a)\", \"Muito satisfeito(a)\", \"Satisfeito(a)\", \"Satisfeito(a)\", \"Muito satisfeito(a)\", \"Satisfeito(a)\", \"Satisfeito(a)\", \"Muito satisfeito(a)\", \"Satisfeito(a)\", \"Muito satisfeito(a)\", \"Insatisfeito(a)\", \"Muito satisfeito(a)\", \"Muito satisfeito(a)\", \"Satisfeito(a)\", \"Muito satisfeito(a)\", \"Indiferente\", \"Muito satisfeito(a)\", \"Muito satisfeito(a)\", \"Muito satisfeito(a)\", \"Muito satisfeito(a)\", \"Satisfeito(a)\", \"Satisfeito(a)\", \"Muito satisfeito(a)\", \"Indiferente\", \"Muito satisfeito(a)\", \"Muito satisfeito(a)\", \"Muito satisfeito(a)\", \"Satisfeito(a)\", \"Muito satisfeito(a)\", \"Satisfeito(a)\", \"Satisfeito(a)\", \"Satisfeito(a)\", \"Insatisfeito(a)\", \"Satisfeito(a)\", \"Satisfeito(a)\", \"Muito satisfeito(a)\", \"Muito satisfeito(a)\", \"Insatisfeito(a)\", \"Muito satisfeito(a)\", \"Satisfeito(a)\", \"Muito satisfeito(a)\", \"Satisfeito(a)\", \"Muito satisfeito(a)\", \"Muito insatisfeito(a)\", \"Satisfeito(a)\", \"Satisfeito(a)\", \"Satisfeito(a)\", \"Satisfeito(a)\", \"Muito satisfeito(a)\", \"Indiferente\", \"Muito insatisfeito(a)\", \"Satisfeito(a)\", \"Muito satisfeito(a)\", \"Indiferente\", \"Muito satisfeito(a)\", \"Satisfeito(a)\", \"Insatisfeito(a)\", \"Satisfeito(a)\", \"Muito satisfeito(a)\", \"Satisfeito(a)\", \"Muito satisfeito(a)\", \"Satisfeito(a)\", \"Satisfeito(a)\", \"Insatisfeito(a)\", \"Muito satisfeito(a)\", \"Insatisfeito(a)\", \"Muito satisfeito(a)\", \"Muito satisfeito(a)\", \"Muito satisfeito(a)\", \"Muito satisfeito(a)\", \"Insatisfeito(a)\", \"Satisfeito(a)\", \"Muito satisfeito(a)\", \"Muito satisfeito(a)\", \"Satisfeito(a)\", \"Muito satisfeito(a)\", \"Indiferente\", \"Satisfeito(a)\", \"Muito satisfeito(a)\", \"Muito satisfeito(a)\", \"Satisfeito(a)\", \"Satisfeito(a)\", \"Muito satisfeito(a)\", \"Satisfeito(a)\", \"Muito satisfeito(a)\", \"Muito satisfeito(a)\", \"Satisfeito(a)\", \"Muito satisfeito(a)\", \"Satisfeito(a)\", \"Satisfeito(a)\", \"Indiferente\", \"Satisfeito(a)\", \"Satisfeito(a)\", \"Satisfeito(a)\", \"Muito satisfeito(a)\", \"Satisfeito(a)\", \"Satisfeito(a)\", \"Insatisfeito(a)\", \"Satisfeito(a)\", \"Satisfeito(a)\", \"Satisfeito(a)\", \"Indiferente\", \"Satisfeito(a)\", \"Muito satisfeito(a)\", \"Insatisfeito(a)\", \"Satisfeito(a)\", \"Satisfeito(a)\", \"Satisfeito(a)\", \"Insatisfeito(a)\", \"Muito satisfeito(a)\", \"Muito satisfeito(a)\", \"Insatisfeito(a)\", \"Satisfeito(a)\", \"Satisfeito(a)\", \"Muito insatisfeito(a)\", \"Muito satisfeito(a)\", \"Insatisfeito(a)\", \"Muito satisfeito(a)\", \"Satisfeito(a)\", \"Muito satisfeito(a)\", \"Satisfeito(a)\", \"Muito satisfeito(a)\", \"Indiferente\", \"Satisfeito(a)\", \"Muito satisfeito(a)\", \"Muito insatisfeito(a)\", \"Satisfeito(a)\", \"Muito satisfeito(a)\", \"Muito satisfeito(a)\", \"Muito insatisfeito(a)\", \"Muito satisfeito(a)\", \"Insatisfeito(a)\", \"Insatisfeito(a)\", \"Muito satisfeito(a)\", \"Muito insatisfeito(a)\", \"Satisfeito(a)\", \"Muito satisfeito(a)\", \"Muito satisfeito(a)\", \"Satisfeito(a)\", \"Muito satisfeito(a)\", \"Satisfeito(a)\", \"Indiferente\", \"Insatisfeito(a)\", \"Indiferente\", \"Satisfeito(a)\", \"Indiferente\", \"Satisfeito(a)\", \"Muito insatisfeito(a)\", \"Muito satisfeito(a)\", \"Muito satisfeito(a)\", \"Muito satisfeito(a)\", \"Satisfeito(a)\", \"Satisfeito(a)\", \"Satisfeito(a)\", \"Satisfeito(a)\", \"Satisfeito(a)\", \"Satisfeito(a)\", \"Muito satisfeito(a)\", \"Satisfeito(a)\", \"Insatisfeito(a)\", \"Indiferente\", \"Muito insatisfeito(a)\", \"Muito satisfeito(a)\", \"Muito satisfeito(a)\", \"Muito satisfeito(a)\", \"Satisfeito(a)\", \"Muito insatisfeito(a)\", \"Muito satisfeito(a)\", \"Satisfeito(a)\", \"Insatisfeito(a)\", \"Satisfeito(a)\", \"Muito satisfeito(a)\", \"Muito satisfeito(a)\", \"Muito satisfeito(a)\", \"Insatisfeito(a)\", \"Satisfeito(a)\", \"Indiferente\", \"Satisfeito(a)\", \"Insatisfeito(a)\", \"Muito insatisfeito(a)\", \"Muito satisfeito(a)\", \"Indiferente\", \"Muito satisfeito(a)\", \"Satisfeito(a)\", \"Satisfeito(a)\", \"Indiferente\", \"Satisfeito(a)\", \"Satisfeito(a)\", \"Satisfeito(a)\", \"Muito satisfeito(a)\", \"Indiferente\", \"Satisfeito(a)\", \"Insatisfeito(a)\", \"Muito satisfeito(a)\", \"Muito satisfeito(a)\", \"Insatisfeito(a)\", \"Muito satisfeito(a)\", \"Muito satisfeito(a)\", \"Satisfeito(a)\", \"Indiferente\", \"Muito satisfeito(a)\", \"Satisfeito(a)\", \"Satisfeito(a)\", \"Muito satisfeito(a)\", \"Muito satisfeito(a)\", \"Insatisfeito(a)\", \"Satisfeito(a)\", \"Insatisfeito(a)\", \"Insatisfeito(a)\", \"Satisfeito(a)\", \"Muito insatisfeito(a)\", \"Muito satisfeito(a)\", \"Satisfeito(a)\", \"Satisfeito(a)\", \"Satisfeito(a)\", \"Muito satisfeito(a)\", \"Indiferente\", \"Insatisfeito(a)\", \"Satisfeito(a)\", \"Satisfeito(a)\", \"Satisfeito(a)\", \"Muito satisfeito(a)\", \"Satisfeito(a)\", \"Muito satisfeito(a)\", \"Muito satisfeito(a)\", \"Satisfeito(a)\", \"Muito satisfeito(a)\", \"Muito satisfeito(a)\", \"Insatisfeito(a)\", \"Muito satisfeito(a)\", \"Muito satisfeito(a)\", \"Satisfeito(a)\", \"Muito insatisfeito(a)\", \"Insatisfeito(a)\", \"Insatisfeito(a)\", \"Satisfeito(a)\", \"Satisfeito(a)\", \"Insatisfeito(a)\", \"Muito satisfeito(a)\", \"Satisfeito(a)\", \"Satisfeito(a)\", \"Insatisfeito(a)\", \"Insatisfeito(a)\", \"Satisfeito(a)\", \"Insatisfeito(a)\", \"Insatisfeito(a)\", \"Insatisfeito(a)\", \"Indiferente\", \"Muito satisfeito(a)\", \"Indiferente\", \"Satisfeito(a)\", \"Muito satisfeito(a)\", \"Satisfeito(a)\", \"Muito satisfeito(a)\", \"Insatisfeito(a)\", \"Satisfeito(a)\", \"Muito satisfeito(a)\", \"Muito insatisfeito(a)\", \"Insatisfeito(a)\", \"Insatisfeito(a)\", \"Muito insatisfeito(a)\", \"Satisfeito(a)\", \"Satisfeito(a)\", \"Insatisfeito(a)\", \"Insatisfeito(a)\", \"Insatisfeito(a)\", \"Insatisfeito(a)\", \"Satisfeito(a)\", \"Satisfeito(a)\", \"Indiferente\", \"Satisfeito(a)\", \"Indiferente\", \"Indiferente\", \"Satisfeito(a)\", \"Muito satisfeito(a)\", \"Satisfeito(a)\", \"Satisfeito(a)\", \"Satisfeito(a)\", \"Insatisfeito(a)\", \"Muito insatisfeito(a)\", \"Muito satisfeito(a)\", \"Muito satisfeito(a)\", \"Insatisfeito(a)\", \"Insatisfeito(a)\", \"Muito satisfeito(a)\", \"Satisfeito(a)\", \"Satisfeito(a)\", \"Muito satisfeito(a)\", \"Satisfeito(a)\", \"Muito satisfeito(a)\", \"Indiferente\", \"Insatisfeito(a)\", \"Muito insatisfeito(a)\", \"Insatisfeito(a)\", \"Insatisfeito(a)\", \"Satisfeito(a)\", \"Muito satisfeito(a)\", \"Muito satisfeito(a)\", \"Muito insatisfeito(a)\", \"Muito satisfeito(a)\", \"Indiferente\", \"Muito satisfeito(a)\", \"Muito satisfeito(a)\", \"Satisfeito(a)\", \"Satisfeito(a)\", \"Satisfeito(a)\", \"Satisfeito(a)\", \"Insatisfeito(a)\", \"Insatisfeito(a)\", \"Muito satisfeito(a)\", \"Muito satisfeito(a)\", \"Insatisfeito(a)\", \"Satisfeito(a)\", \"Muito satisfeito(a)\", \"Muito insatisfeito(a)\", \"Insatisfeito(a)\", \"Muito insatisfeito(a)\", \"Muito insatisfeito(a)\", \"Satisfeito(a)\", \"Muito insatisfeito(a)\", \"Muito satisfeito(a)\", \"Satisfeito(a)\", \"Muito satisfeito(a)\", \"Muito satisfeito(a)\", \"Muito satisfeito(a)\", \"Muito satisfeito(a)\", \"Muito satisfeito(a)\", \"Muito satisfeito(a)\", \"Satisfeito(a)\", \"Satisfeito(a)\", \"Muito satisfeito(a)\", \"Satisfeito(a)\", \"Insatisfeito(a)\", \"Indiferente\", \"Insatisfeito(a)\", \"Muito satisfeito(a)\", \"Muito satisfeito(a)\", \"Muito satisfeito(a)\", \"Satisfeito(a)\", \"Satisfeito(a)\", \"Satisfeito(a)\", \"Satisfeito(a)\", \"Satisfeito(a)\", \"Muito satisfeito(a)\", \"Satisfeito(a)\", \"Satisfeito(a)\", \"Satisfeito(a)\", \"Satisfeito(a)\", \"Muito satisfeito(a)\", \"Muito satisfeito(a)\", \"Muito satisfeito(a)\", \"Satisfeito(a)\", \"Satisfeito(a)\", \"Satisfeito(a)\", \"Satisfeito(a)\", \"Insatisfeito(a)\", \"Insatisfeito(a)\", \"Satisfeito(a)\", \"Satisfeito(a)\", \"Satisfeito(a)\", \"Muito satisfeito(a)\", \"Satisfeito(a)\", \"Muito satisfeito(a)\", \"Satisfeito(a)\", \"Indiferente\", \"Indiferente\", \"Muito satisfeito(a)\", \"Satisfeito(a)\", \"Insatisfeito(a)\", \"Muito satisfeito(a)\", \"Satisfeito(a)\", \"Indiferente\", \"Insatisfeito(a)\", \"Insatisfeito(a)\", \"Muito insatisfeito(a)\", \"Satisfeito(a)\", \"Insatisfeito(a)\", \"Satisfeito(a)\", \"Satisfeito(a)\", \"Satisfeito(a)\", \"Indiferente\", \"Insatisfeito(a)\", \"Satisfeito(a)\", \"Satisfeito(a)\", \"Satisfeito(a)\", \"Satisfeito(a)\", \"Indiferente\", \"Muito satisfeito(a)\", \"Indiferente\", \"Muito satisfeito(a)\", \"Satisfeito(a)\", \"Muito insatisfeito(a)\", \"Satisfeito(a)\", \"Insatisfeito(a)\", \"Satisfeito(a)\", \"Muito satisfeito(a)\", \"Satisfeito(a)\", \"Muito satisfeito(a)\", \"Insatisfeito(a)\", \"Insatisfeito(a)\", \"Satisfeito(a)\", \"Insatisfeito(a)\", \"Indiferente\", \"Satisfeito(a)\", \"Insatisfeito(a)\", \"Insatisfeito(a)\", \"Satisfeito(a)\", \"Satisfeito(a)\", \"Indiferente\", \"Satisfeito(a)\", \"Indiferente\", \"Insatisfeito(a)\", \"Muito satisfeito(a)\", \"Muito satisfeito(a)\", \"Muito satisfeito(a)\", \"Muito satisfeito(a)\", \"Muito insatisfeito(a)\", \"Muito satisfeito(a)\", \"Muito satisfeito(a)\", \"Muito satisfeito(a)\", \"Satisfeito(a)\", \"Satisfeito(a)\", \"Satisfeito(a)\", \"Muito satisfeito(a)\", \"Muito satisfeito(a)\", \"Insatisfeito(a)\", \"Satisfeito(a)\", \"Satisfeito(a)\", \"Satisfeito(a)\", \"Muito satisfeito(a)\", \"Indiferente\", \"Muito satisfeito(a)\", \"Muito satisfeito(a)\", \"Satisfeito(a)\", \"Muito satisfeito(a)\", \"Indiferente\", \"Insatisfeito(a)\", \"Satisfeito(a)\", \"Muito satisfeito(a)\", \"Muito satisfeito(a)\", \"Insatisfeito(a)\", \"Muito satisfeito(a)\", \"Satisfeito(a)\", \"Muito insatisfeito(a)\", \"Muito satisfeito(a)\", \"Indiferente\", \"Muito satisfeito(a)\", \"Muito insatisfeito(a)\", \"Satisfeito(a)\", \"Satisfeito(a)\", \"Insatisfeito(a)\", \"Insatisfeito(a)\", \"Satisfeito(a)\", \"Muito satisfeito(a)\", \"Muito satisfeito(a)\", \"Insatisfeito(a)\", \"Indiferente\", \"Satisfeito(a)\", \"Muito satisfeito(a)\", \"Muito satisfeito(a)\", \"Indiferente\", \"Insatisfeito(a)\", \"Satisfeito(a)\", \"Satisfeito(a)\", \"Indiferente\", \"Indiferente\", \"Satisfeito(a)\", \"Muito satisfeito(a)\", \"Satisfeito(a)\", \"Satisfeito(a)\", \"Satisfeito(a)\", \"Insatisfeito(a)\", \"Satisfeito(a)\", \"Satisfeito(a)\", \"Muito satisfeito(a)\", \"Insatisfeito(a)\", \"Indiferente\", \"Muito satisfeito(a)\", \"Satisfeito(a)\", \"Indiferente\", \"Muito satisfeito(a)\", \"Satisfeito(a)\", \"Satisfeito(a)\", \"Muito satisfeito(a)\", \"Satisfeito(a)\", \"Muito satisfeito(a)\", \"Insatisfeito(a)\", \"Muito satisfeito(a)\", \"Satisfeito(a)\", \"Insatisfeito(a)\", \"Muito satisfeito(a)\", \"Indiferente\", \"Satisfeito(a)\", \"Satisfeito(a)\", \"Muito satisfeito(a)\", \"Muito satisfeito(a)\", \"Muito satisfeito(a)\", \"Muito insatisfeito(a)\", \"Indiferente\", \"Muito satisfeito(a)\", \"Satisfeito(a)\", \"Satisfeito(a)\", \"Satisfeito(a)\", \"Muito satisfeito(a)\", \"Insatisfeito(a)\", \"Insatisfeito(a)\", \"Insatisfeito(a)\", \"Satisfeito(a)\", \"Satisfeito(a)\", \"Muito satisfeito(a)\", \"Satisfeito(a)\", \"Muito satisfeito(a)\", \"Muito satisfeito(a)\", \"Muito satisfeito(a)\", \"Muito satisfeito(a)\", \"Muito satisfeito(a)\", \"Satisfeito(a)\", \"Insatisfeito(a)\", \"Muito insatisfeito(a)\", \"Indiferente\", \"Indiferente\", \"Insatisfeito(a)\", \"Satisfeito(a)\", \"Insatisfeito(a)\", \"Insatisfeito(a)\", \"Indiferente\", \"Indiferente\", \"Satisfeito(a)\", \"Muito insatisfeito(a)\", \"Satisfeito(a)\", \"Satisfeito(a)\", \"Muito satisfeito(a)\", \"Indiferente\", \"Satisfeito(a)\", \"Muito satisfeito(a)\", \"Muito insatisfeito(a)\", \"Insatisfeito(a)\", \"Satisfeito(a)\", \"Satisfeito(a)\", \"Insatisfeito(a)\", \"Muito satisfeito(a)\", \"Muito satisfeito(a)\", \"Insatisfeito(a)\", \"Muito satisfeito(a)\", \"Muito satisfeito(a)\", \"Satisfeito(a)\", \"Muito satisfeito(a)\", \"Muito insatisfeito(a)\", \"Muito satisfeito(a)\", \"Muito satisfeito(a)\", \"Insatisfeito(a)\", \"Insatisfeito(a)\", \"Muito satisfeito(a)\", \"Muito insatisfeito(a)\", \"Muito satisfeito(a)\", \"Muito insatisfeito(a)\", \"Satisfeito(a)\", \"Muito insatisfeito(a)\", \"Satisfeito(a)\", \"Muito satisfeito(a)\", \"Muito insatisfeito(a)\", \"Muito satisfeito(a)\", \"Muito satisfeito(a)\", \"Satisfeito(a)\", \"Muito insatisfeito(a)\", \"Satisfeito(a)\", \"Indiferente\", \"Muito satisfeito(a)\", \"Satisfeito(a)\", \"Muito satisfeito(a)\", \"Muito insatisfeito(a)\", \"Indiferente\", \"Satisfeito(a)\", \"Satisfeito(a)\", \"Satisfeito(a)\", \"Satisfeito(a)\", \"Muito satisfeito(a)\", \"Muito satisfeito(a)\", \"Satisfeito(a)\", \"Satisfeito(a)\", \"Muito satisfeito(a)\", \"Satisfeito(a)\", \"Muito satisfeito(a)\", \"Insatisfeito(a)\", \"Satisfeito(a)\", \"Muito satisfeito(a)\", \"Muito satisfeito(a)\", \"Insatisfeito(a)\", \"Satisfeito(a)\", \"Satisfeito(a)\", \"Muito satisfeito(a)\", \"Satisfeito(a)\", \"Insatisfeito(a)\", \"Muito satisfeito(a)\", \"Muito satisfeito(a)\", \"Satisfeito(a)\", \"Insatisfeito(a)\", \"Insatisfeito(a)\", \"Satisfeito(a)\", \"Muito satisfeito(a)\", \"Insatisfeito(a)\", \"Satisfeito(a)\", \"Muito satisfeito(a)\", \"Satisfeito(a)\", \"Insatisfeito(a)\", \"Muito satisfeito(a)\", \"Muito satisfeito(a)\", \"Satisfeito(a)\", \"Muito satisfeito(a)\", \"Muito satisfeito(a)\", \"Muito satisfeito(a)\", \"Muito satisfeito(a)\", \"Satisfeito(a)\", \"Muito satisfeito(a)\", \"Satisfeito(a)\", \"Muito satisfeito(a)\", \"Satisfeito(a)\", \"Muito satisfeito(a)\", \"Muito satisfeito(a)\", \"Muito satisfeito(a)\", \"Satisfeito(a)\", \"Satisfeito(a)\", \"Insatisfeito(a)\", \"Indiferente\", \"Muito satisfeito(a)\", \"Muito satisfeito(a)\", \"Muito satisfeito(a)\", \"Indiferente\", \"Muito satisfeito(a)\", \"Muito satisfeito(a)\", \"Insatisfeito(a)\", \"Satisfeito(a)\", \"Satisfeito(a)\", \"Satisfeito(a)\", \"Satisfeito(a)\", \"Muito satisfeito(a)\", \"Insatisfeito(a)\", \"Muito satisfeito(a)\", \"Muito insatisfeito(a)\", \"Muito satisfeito(a)\", \"Muito insatisfeito(a)\", \"Muito satisfeito(a)\", \"Muito satisfeito(a)\", \"Muito insatisfeito(a)\", \"Insatisfeito(a)\", \"Muito satisfeito(a)\", \"Indiferente\", \"Insatisfeito(a)\", \"Muito satisfeito(a)\", \"Satisfeito(a)\", \"Muito insatisfeito(a)\", \"Muito satisfeito(a)\", \"Satisfeito(a)\", \"Insatisfeito(a)\", \"Satisfeito(a)\", \"Satisfeito(a)\", \"Satisfeito(a)\", \"Muito satisfeito(a)\", \"Satisfeito(a)\", \"Satisfeito(a)\", \"Satisfeito(a)\", \"Muito satisfeito(a)\", \"Muito satisfeito(a)\", \"Satisfeito(a)\", \"Insatisfeito(a)\", \"Muito insatisfeito(a)\", \"Satisfeito(a)\", \"Satisfeito(a)\", \"Muito satisfeito(a)\", \"Muito insatisfeito(a)\", \"Muito insatisfeito(a)\", \"Insatisfeito(a)\", \"Satisfeito(a)\", \"Muito satisfeito(a)\", \"Insatisfeito(a)\", \"Satisfeito(a)\", \"Indiferente\", \"Muito satisfeito(a)\", \"Muito satisfeito(a)\", \"Muito insatisfeito(a)\", \"Insatisfeito(a)\", \"Insatisfeito(a)\", \"Insatisfeito(a)\", \"Insatisfeito(a)\", \"Satisfeito(a)\", \"Insatisfeito(a)\", \"Muito insatisfeito(a)\", \"Muito insatisfeito(a)\", \"Insatisfeito(a)\", \"Indiferente\", \"Satisfeito(a)\", \"Satisfeito(a)\", \"Satisfeito(a)\", \"Satisfeito(a)\", \"Satisfeito(a)\", \"Muito satisfeito(a)\", \"Insatisfeito(a)\", \"Insatisfeito(a)\", \"Muito insatisfeito(a)\", \"Satisfeito(a)\", \"Satisfeito(a)\", \"Muito satisfeito(a)\", \"Satisfeito(a)\", \"Satisfeito(a)\", \"Satisfeito(a)\", \"Muito satisfeito(a)\", \"Muito satisfeito(a)\", \"Insatisfeito(a)\", \"Muito satisfeito(a)\", \"Satisfeito(a)\", \"Indiferente\", \"Satisfeito(a)\", \"Satisfeito(a)\", \"Satisfeito(a)\", \"Muito satisfeito(a)\", \"Satisfeito(a)\", \"Insatisfeito(a)\", \"Indiferente\", \"Satisfeito(a)\", \"Satisfeito(a)\", \"Insatisfeito(a)\", \"Insatisfeito(a)\", \"Satisfeito(a)\", \"Muito satisfeito(a)\", \"Muito satisfeito(a)\", \"Insatisfeito(a)\", \"Satisfeito(a)\"], \"x0\": \" \", \"xaxis\": \"x\", \"y\": [18.90747992563585, 19.856809461651043, 20.638256617409247, 14.962570195495333, 31.845548268017726, 21.742945280126104, 21.054687499999996, 23.039099332636532, 18.350277167359053, 16.971042245195775, 16.071361360984607, 17.31301939058172, 21.89524169479597, 19.487588909856296, 17.2229843011736, 46.653260557311114, 24.901380670611438, 23.195589293193407, 17.192228411034606, 20.84570926462216, 16.335786015086306, 20.346589114356984, 22.92901948215471, 23.907910271546637, 20.351562499999996, 18.293732782369144, 21.187415753071654, 30.581460480930808, 25.01731301939058, 19.52275355706692, 21.11027264176505, 18.255290875622215, 30.234374999999996, 20.146342751983376, 27.004451607197257, 21.4086127547666, 24.1923124177493, 18.59504132231405, 24.919981710105166, 18.50191831905052, 30.87238696260174, 18.08971557843434, 22.636759806595947, 18.675754383106348, 16.585785861039223, 19.285146028429295, 21.80794470033901, 21.592896299009745, 20.932120124738347, 21.25849474381681, 30.33013212937455, 24.869911233547594, 15.45918367346939, 22.516307767022443, 14.826037966135416, 19.62010122022406, 30.67845889846951, 21.86411452820719, 15.8708944501988, 28.62968745790491, 22.586728652252095, 20.283561793450932, 20.266439909297056, 18.781808183542182, 17.91186615523866, 23.201597754827784, 25.288302231449148, 21.761796344405084, 21.484374999999996, 19.736842105263158, 26.31789777279282, 36.281179138321995, 19.142893642947694, 27.969524406207, 24.47057254274258, 24.610580947672023, 16.006029907994428, 24.439606810339185, 30.07390319962408, 18.72057424024298, 19.89919742406767, 25.458069026195687, 27.46806783715665, 17.88504436866776, 24.798867903840353, 16.54197586309957, 28.804068283498804, 15.722507370928044, 23.41798095701223, 31.05188487673039, 15.065741417092768, 21.017200794370876, 23.235081347502884, 21.560981502859136, 19.010781306552506, 27.501618054302966, 19.195456989293486, 27.143293514043528, 18.601161339032988, 18.967543734180754, 16.589464438807884, 12.995323243071288, 27.63337624433722, 17.21427233856621, 12.995323243071288, 19.479042741402555, 18.716695292200647, 29.49194821249214, 17.359984787642194, 16.85568395592583, 18.02725447477466, 18.88162672476398, 16.799153758339358, 29.744137577109584, 21.97205394588964, 22.33165760404911, 17.856218622224524, 18.567560104186747, 18.108700880148863, 18.558666122055698, 33.516106240484035, 22.752763980131384, 19.77769866698311, 30.119375573921033, 23.090567051867783, 20.705390074759443, 27.416736517098325, 19.87597216301484, 17.006802721088437, 17.59536045535513, 24.301188689196316, 20.664897269839454, 16.037578247069114, 25.110344047080126, 20.831185696546513, 22.89106805293006, 19.120753484105478, 20.870890705774958, 21.66571641594667, 17.802588964924688, 24.62472592342722, 18.50191831905052, 18.960181063338087, 21.527364663890545, 16.666494349727568, 22.763242020254967, 17.990415553201046, 16.233766233766236, 21.000119813961597, 26.64424755868848, 14.22769628684807, 21.53018069973087, 24.29352976996265, 22.222222222222225, 28.10030914412567, 22.71737552620119, 19.755361408352343, 20.112111630498138, 19.204960895922998, 20.504933999743688, 15.188477987934961, 24.07264467636655, 25.871679120539515, 23.359757125990892, 22.520565685487554, 20.663178892694493, 18.419605334736165, 18.56044989564277, 17.155029585798815, 21.619284401686304, 20.842670367746628, 17.84928358354932, 20.329168586188302, 14.062876232525108, 15.661836945880717, 16.062361137704873, 19.169977717522617, 26.604671780364633, 22.528151389177335, 22.142074506939373, 19.31661743137982, 13.784657032579887, 23.88557919781656, 17.389611600785017, 21.344479799952172, 18.52751729200484, 17.231801743586253, 20.4786680541103, 23.60444781116442, 22.008110889550608, 20.666194142748505, 22.182585148324293, 21.791823849555232, 17.136145383401875, 20.03084750515794, 20.820312499999996, 23.6, 20.441275482610568, 25.038682082574855, 22.3123190020049, 17.495296921295324, 21.91402062552891, 21.814299340964265, 30.536502038408365, 16.955951921589556, 22.293594276726214, 29.266327730329454, 18.999198793477234, 21.655161078238002, 18.10134545976314, 20.825844960733697, 17.469290192620004, 13.504078231625948, 16.224772457459437, 22.636772853185594, 17.533273201527294, 24.00262715322075, 18.477999653493846, 15.987884480825084, 17.67107707298613, 23.349212587104255, 20.343064165117468, 20.768855785690796, 20.91510009343749, 22.877133675966235, 20.99881546086516, 24.680780148139025, 19.229989046208768, 19.79794450752613, 20.159077141165035, 25.558842866535173, 23.76497126754232, 20.617535133718302, 17.360441340997646, 27.005432559008387, 21.183472791195868, 21.962017748963763, 18.14508723599633, 22.202039474768405, 17.941817249775728, 18.743648613045277, 18.617805171622514, 17.346644936770907, 16.97894899943669, 26.77085684616859, 19.30780323666079, 23.5317059987808, 19.836764006560497, 20.39712585953798, 21.136760111972087, 18.249814694189254, 29.427647042183708, 17.318336905501138, 26.20525931336742, 15.335648148148149, 20.489999510978535, 15.004475911458332, 24.993701184177375, 15.904499540863178, 19.176391025902884, 22.59253324787694, 22.704798069696608, 17.637436141579798, 22.231355837679015, 17.93040385726177, 23.121259564152428, 26.346420797872355, 21.098857605992656, 23.716707810159775, 19.57759412304867, 17.92871805019189, 15.235260770975058, 23.476562499999996, 27.06763924409637, 16.251540959365663, 20.507812499999996, 18.40473372781065, 21.69391674710665, 18.670147541632055, 16.73745817889962, 19.568552553304734, 14.547018775917458, 20.015031050986906, 18.988589256066764, 23.205809566311007, 18.203484549638393, 18.867187499999996, 22.611804277575747, 25.351562499999996, 21.914062499999996, 18.419293573406616, 19.972660231323704, 19.383503701600688, 19.017898435777855, 16.276013999921805, 18.891073907416093, 17.782682044371825, 14.704920583273521, 24.607416331923144, 28.014450879853072, 26.40603566529492, 19.965794170136828, 31.67464914234796, 21.02275512204686, 16.274238227146814, 21.217873613411957, 16.612365839951607, 22.36021998347872, 18.735259758866185, 33.51878764747044, 16.183089150627215, 28.225412486488253, 34.18465352405151, 23.591158726293862, 30.28879793729452, 23.022742447740224, 20.911744184903846, 16.287470499924712, 18.499679873404304, 18.51036580485072, 16.228199098569476, 16.585667993993642, 18.982434011228175, 24.98348191962656, 28.044313965969604, 16.68727822192245, 25.748260041821418, 29.37596018298426, 19.67388567111559, 19.171832967611234, 22.398850942828584, 19.72728522665455, 21.644733336885288, 17.490561224205603, 16.653289636683823, 21.231387963348602, 30.67098923141568, 29.381703079905698, 27.50937297094822, 25.082777190857797, 21.120627086659894, 39.04765319660081, 21.147690900777317, 15.508589844132931, 27.87321565206108, 21.26153209380344, 27.502229727824496, 17.646171979934763, 17.538109008920696, 24.768759764013787, 21.167446475909863, 23.69467971433573, 16.347689441248132, 23.023575147127268, 16.47312989467999, 19.071085414966454, 26.850321395775943, 24.646832831336997, 23.623981682569944, 22.566571385587483, 20.90468260701082, 30.561218015135225, 15.516868512110724, 16.768292682926834, 14.686194166091932, 22.394417623433, 18.13271604938272, 14.80263157894737, 18.438800612722602, 23.024372623162673, 17.821341055914456, 35.91836734693877, 21.155562165377756, 21.688297958346027, 20.396037165428027, 17.308875397856866, 16.469031070560696, 22.093417140276266, 20.08078036884621, 15.963918253218187, 18.49301091725334, 19.351697837640472, 31.498646419641364, 21.43508056819512, 17.47105403609668, 19.155450381885185, 25.899943310657598, 26.843131076176142, 27.639801313892, 17.061188978132396, 22.826880934989045, 18.859171597633136, 20.922146636432352, 24.46963970773495, 22.21453287197232, 24.37086446460883, 27.926556209252315, 24.0, 22.104293671330204, 21.195915879410354, 20.142566590790384, 21.955555555555556, 16.286171295623088, 29.483169075571134, 21.529950833491775, 15.867455621301774, 14.215039886279682, 17.874753451676526, 18.050297458085453, 24.767562979823307, 17.24246769291814, 18.6740688265938, 21.330364299665792, 16.949382068340082, 16.953124999999996, 18.670934308794386, 15.943851677552841, 15.447011760793044, 15.371432682936401, 21.973039124677992, 29.845370628917838, 22.09478832855456, 15.60090702947846, 13.996479347118074, 15.68688789877092, 18.135054788491164, 22.310093652445367, 19.659735349716442, 22.95004821738285, 18.99910767400357, 29.856675769906182, 29.46877101380483, 20.84330811708002, 19.281291048977298, 25.36332179930796, 20.005049244901667, 22.939723811469214, 21.138255372489606, 19.657102631872114, 21.323948035815956, 15.07568552492234, 20.968097491750537, 19.587888076052728, 15.468819999853116, 23.789635470613785, 21.57729236576131, 22.091206853111615, 32.6970532733343, 32.69909529798369, 38.038154443784094, 18.943129520052597, 22.383850825650303, 22.508725031558622, 32.12162780064014, 22.967688005652363, 25.036721228141946, 16.37535944531144, 23.271235334689127, 21.377410468319564, 24.236686390532544, 30.88625254146469, 23.2258064516129, 32.829227572916636, 14.336539554842204, 18.66272316355648, 20.157630560234377, 32.12373587150506, 23.248485697279513, 25.20398137468495, 18.181888791095037, 21.824806662700777, 16.29669443697931, 17.958060678167758, 24.72627327636516, 20.58964909469636, 20.700425644846842, 20.040230961681573, 15.449216342840677, 23.843517579566967, 15.168055156564204, 20.156249999999996, 25.030079407812945, 25.413232345734016, 27.734374999999993, 18.744613498428745, 30.821642695188718, 19.780575618340436, 25.756218625037594, 25.375548862008507, 20.725611394786352, 26.175199334210312, 16.686746126994638, 23.848697631153005, 19.607016360263113, 20.004572473708272, 18.215066872243536, 26.679687499999993, 19.81707317073171, 18.867187499999996, 22.42821833567466, 26.552824169637834, 22.119872972145696, 28.287548722614538, 25.63116749967961, 18.809948978013402, 17.433134066840168, 17.732948883001548, 21.986839109583507, 21.9257092986465, 16.71404958677686, 20.469476045505527, 19.945770085484554, 16.429371507746897, 17.883207953536324, 21.736316109966584, 20.955370425568372, 20.585937499999996, 22.758993119626655, 24.0094674556213, 16.467809406077198, 15.765055628124859, 19.75002116073696, 25.127271350435944, 21.918053143633042, 18.415356495112864, 23.495906016375933, 19.054495504935325, 37.84148335658392, 25.674975177168392, 19.064278063305196, 25.879879344200926, 23.575016811043866, 17.874753451676526, 16.233535065859737, 17.661236147801603, 22.579095225600227, 14.780639924815242, 20.646644979748423, 16.900558322015996, 16.249686284695382, 21.05274585187242, 22.447813151310353, 27.461234532202997, 18.801260490827488, 22.809917355371905, 19.9254219919729, 14.56858769682769, 26.759736824704095, 19.672461577223483, 17.816650469711696, 19.80617684012168, 24.844444444444445, 15.884490700215515, 21.150041649312783, 23.110828074796913, 20.6718260099083, 26.332236293968144, 16.75729284224206, 17.142371523267247, 21.913690123017282, 23.238878896077743, 18.558584852387867, 20.546874999999996, 43.48653715815479, 16.97238101885044, 22.89897892816877, 19.370930018148115, 22.329563202832148, 24.793388429752067, 21.776515560971294, 17.001917112722712, 22.250055770374782, 19.184265748508295, 37.77693914861286, 20.78994360727797, 18.11375437749064, 28.85430379975114, 14.059818884902425, 15.404652204965897, 16.12654818062246, 16.51001302503862, 24.163140533949214, 17.448839018981243, 23.028950169719394, 18.507766003774133, 33.32573121525964, 17.340565417488495, 19.852839094821604, 20.984948218000827, 19.144018712408105, 30.75164552682799, 20.551512710947506, 23.296264058284105, 19.624498155381943, 23.476562499999996, 22.74583596116666, 28.554687499999993, 24.42331001742381, 19.2612856582688, 17.867563581576466, 27.382630612157715, 19.255328135637015, 25.498521902714327, 22.81047546990382, 21.094314348787663, 20.382206801529637, 25.236593059936908, 30.91635426580943, 21.711855758837117, 28.433968854048477, 33.92262261573687, 26.007625503791502, 26.025101740706543, 34.56735254643225, 22.957515140542405, 17.709507818053215, 14.524866000991109, 36.60701412918109, 18.81405641714563, 16.834914703098836, 18.516772970538643, 23.389223525587113, 21.469426618657085, 21.01487035576229, 25.021406596400347, 21.557691547011586, 18.540710617181315, 23.485962207321883, 27.83155177734759, 16.904409558373096, 18.540829029994043, 24.274453911481473, 20.333013590976325, 21.474425411900683, 32.79476425838625, 26.062957306883444, 20.26891936354806, 24.214376838219202, 19.523465051408845, 22.57488543994806, 24.284264316814035, 23.126115407495544, 23.98530762167126, 21.365507273698434, 17.979520258335437, 25.596715576921063, 20.0269132165726, 30.45861445967602, 16.984964631669204, 18.311220864541227, 21.476460293076432, 16.891110185570827, 29.060607121599386, 19.348619915710376, 16.939058684300583, 17.99075860753202, 15.005977924901606, 29.917268553381074, 30.82094934878829, 19.480315455430922, 20.794335856120295, 22.25447631983299, 33.69033563838759, 20.0220919702654, 22.222222222222225, 20.48764655766968, 28.11320161911095, 21.8508875739645, 15.87676005225722, 19.85821134473445, 21.200345193775497, 21.12727807172252, 30.26013750206481, 28.66516750629335, 24.435186668803073, 31.645365765672917, 25.847768218818715, 22.1756048922298, 14.164298834559482, 14.54376067491331, 15.172413793103447, 28.3207819259734, 26.045391245436413, 24.91010899181562, 19.005643644181674, 18.402815917739005, 26.884202093491357, 16.57155122345396, 30.298468139561145, 16.10767280535716, 17.474549453173978, 18.986571463345367, 19.269850486282483, 16.98319941563185, 18.987341772151897, 17.357311861141504, 21.445550419869196, 20.56247829944832, 17.83424022342129, 25.1538400401785, 17.97602397868443, 15.626140380753835, 19.740857148017362, 17.321862582462092, 18.79097901470441, 22.33566266340738, 15.50799374689171, 21.385192293123918, 20.22248520710059, 19.93780634066157, 21.424861495844876, 23.128432683313225, 19.736123140359723, 19.973158712654556, 17.999709682101905, 26.0517165130666, 27.50049628379055, 17.852149304817615, 17.04472638728694, 21.14759092383133, 24.497165557467135, 23.294404145847096, 25.788342616551905, 18.439262041323357, 18.760075809947377, 30.939140730388875, 17.195910226835835, 21.615823244985883, 31.89722190386371, 26.12470557424644, 25.846482577251805, 25.95707190700773, 18.717205235741613, 18.28231292517007, 15.441597610787044, 26.016191600607186, 26.2641742206287, 27.60943220009681, 29.13169483232339, 35.12846566990855, 17.421184159938488, 23.451294395771615, 24.354229977453194, 17.646455319585517, 18.64112274448652, 19.21188360616108, 22.829610210114677, 17.243027875694974, 18.24320350653575, 18.163239281591448, 18.76771637670931, 20.62482726707164, 20.09692968734497, 19.288215597928527, 18.517804097064154, 20.165223678235172, 25.555555555555557, 22.2057799594799, 20.139150127864603, 16.184598674098964, 23.395155610448203, 24.03515083583191, 13.131301112208453, 17.456764615855523, 15.97676107480029, 22.50538627269929, 21.790027079292415, 19.92503154447099, 20.831185696546513, 15.684159083876008, 16.789759699910775, 19.230769230769226, 20.08817245349704, 20.04697280883639, 18.50796017718521, 19.282877958367596, 20.116509272323427, 18.331351565596513, 32.69318701417466, 14.01868534993976, 27.307425928607174, 19.12977447287885, 16.795858633050493, 17.96234956532239, 24.243862036817372, 27.323326024624727, 23.36608038288931, 23.25069909196594, 22.090977879541278, 23.979907361831565, 21.794646457336054, 16.929710058937538, 24.709057176589646, 15.860435501888814, 20.067924118369238, 24.318493467065423, 15.391326718940501, 20.483596919619085, 18.59165300655941, 21.0807057171637, 20.626562158751728, 17.249143068639885, 14.008973225401887, 23.10761791476236, 19.062499999999996, 21.15972092187326, 17.22448041130163, 17.71730807225489, 26.919011758488573, 18.356834912767702, 17.373737373737374, 21.56992494397304, 20.19956266820454, 20.07455285386957, 21.719465847563512, 23.763476633190635, 15.09830871632775, 19.56213302545735, 22.09317005428608], \"y0\": \" \", \"yaxis\": \"y\"}],                        {\"annotations\": [{\"font\": {\"color\": \"salmon\"}, \"showarrow\": false, \"text\": \"Abaixo do peso\", \"x\": -1, \"y\": 15.5, \"yshift\": 10}, {\"font\": {\"color\": \"grey\"}, \"showarrow\": false, \"text\": \"Normal\", \"x\": -1, \"y\": 22, \"yshift\": 10}, {\"font\": {\"color\": \"orange\"}, \"showarrow\": false, \"text\": \"Sobrepeso\", \"x\": -1, \"y\": 27, \"yshift\": 10}, {\"font\": {\"color\": \"firebrick\"}, \"showarrow\": false, \"text\": \"Obesidade\", \"x\": -1, \"y\": 57, \"yshift\": 10}], \"boxmode\": \"group\", \"legend\": {\"orientation\": \"h\", \"title\": {\"text\": \"\"}, \"tracegroupgap\": 0, \"x\": 1, \"xanchor\": \"right\", \"y\": 0.999, \"yanchor\": \"bottom\"}, \"margin\": {\"t\": 60}, \"shapes\": [{\"fillcolor\": \"lightsalmon\", \"layer\": \"below\", \"line\": {\"width\": 0}, \"opacity\": 0.3, \"type\": \"rect\", \"x0\": 0, \"x1\": 1, \"xref\": \"x domain\", \"y0\": 0, \"y1\": 18.5, \"yref\": \"y\"}, {\"fillcolor\": \"silver\", \"layer\": \"below\", \"line\": {\"width\": 0}, \"opacity\": 0.3, \"type\": \"rect\", \"x0\": 0, \"x1\": 1, \"xref\": \"x domain\", \"y0\": 18.5, \"y1\": 25, \"yref\": \"y\"}, {\"fillcolor\": \"bisque\", \"layer\": \"below\", \"line\": {\"width\": 0}, \"opacity\": 0.3, \"type\": \"rect\", \"x0\": 0, \"x1\": 1, \"xref\": \"x domain\", \"y0\": 25, \"y1\": 30, \"yref\": \"y\"}, {\"fillcolor\": \"lightcoral\", \"layer\": \"below\", \"line\": {\"width\": 0}, \"opacity\": 0.3, \"type\": \"rect\", \"x0\": 0, \"x1\": 1, \"xref\": \"x domain\", \"y0\": 30, \"y1\": 60, \"yref\": \"y\"}], \"template\": {\"data\": {\"bar\": [{\"error_x\": {\"color\": \"#2a3f5f\"}, \"error_y\": {\"color\": \"#2a3f5f\"}, \"marker\": {\"line\": {\"color\": \"white\", \"width\": 0.5}}, \"type\": \"bar\"}], \"barpolar\": [{\"marker\": {\"line\": {\"color\": \"white\", \"width\": 0.5}}, \"type\": \"barpolar\"}], \"carpet\": [{\"aaxis\": {\"endlinecolor\": \"#2a3f5f\", \"gridcolor\": \"#C8D4E3\", \"linecolor\": \"#C8D4E3\", \"minorgridcolor\": \"#C8D4E3\", \"startlinecolor\": \"#2a3f5f\"}, \"baxis\": {\"endlinecolor\": \"#2a3f5f\", \"gridcolor\": \"#C8D4E3\", \"linecolor\": \"#C8D4E3\", \"minorgridcolor\": \"#C8D4E3\", \"startlinecolor\": \"#2a3f5f\"}, \"type\": \"carpet\"}], \"choropleth\": [{\"colorbar\": {\"outlinewidth\": 0, \"ticks\": \"\"}, \"type\": \"choropleth\"}], \"contour\": [{\"colorbar\": {\"outlinewidth\": 0, \"ticks\": \"\"}, \"colorscale\": [[0.0, \"#0d0887\"], [0.1111111111111111, \"#46039f\"], [0.2222222222222222, \"#7201a8\"], [0.3333333333333333, \"#9c179e\"], [0.4444444444444444, \"#bd3786\"], [0.5555555555555556, \"#d8576b\"], [0.6666666666666666, \"#ed7953\"], [0.7777777777777778, \"#fb9f3a\"], [0.8888888888888888, \"#fdca26\"], [1.0, \"#f0f921\"]], \"type\": \"contour\"}], \"contourcarpet\": [{\"colorbar\": {\"outlinewidth\": 0, \"ticks\": \"\"}, \"type\": \"contourcarpet\"}], \"heatmap\": [{\"colorbar\": {\"outlinewidth\": 0, \"ticks\": \"\"}, \"colorscale\": [[0.0, \"#0d0887\"], [0.1111111111111111, \"#46039f\"], [0.2222222222222222, \"#7201a8\"], [0.3333333333333333, \"#9c179e\"], [0.4444444444444444, \"#bd3786\"], [0.5555555555555556, \"#d8576b\"], [0.6666666666666666, \"#ed7953\"], [0.7777777777777778, \"#fb9f3a\"], [0.8888888888888888, \"#fdca26\"], [1.0, \"#f0f921\"]], \"type\": \"heatmap\"}], \"heatmapgl\": [{\"colorbar\": {\"outlinewidth\": 0, \"ticks\": \"\"}, \"colorscale\": [[0.0, \"#0d0887\"], [0.1111111111111111, \"#46039f\"], [0.2222222222222222, \"#7201a8\"], [0.3333333333333333, \"#9c179e\"], [0.4444444444444444, \"#bd3786\"], [0.5555555555555556, \"#d8576b\"], [0.6666666666666666, \"#ed7953\"], [0.7777777777777778, \"#fb9f3a\"], [0.8888888888888888, \"#fdca26\"], [1.0, \"#f0f921\"]], \"type\": \"heatmapgl\"}], \"histogram\": [{\"marker\": {\"colorbar\": {\"outlinewidth\": 0, \"ticks\": \"\"}}, \"type\": \"histogram\"}], \"histogram2d\": [{\"colorbar\": {\"outlinewidth\": 0, \"ticks\": \"\"}, \"colorscale\": [[0.0, \"#0d0887\"], [0.1111111111111111, \"#46039f\"], [0.2222222222222222, \"#7201a8\"], [0.3333333333333333, \"#9c179e\"], [0.4444444444444444, \"#bd3786\"], [0.5555555555555556, \"#d8576b\"], [0.6666666666666666, \"#ed7953\"], [0.7777777777777778, \"#fb9f3a\"], [0.8888888888888888, \"#fdca26\"], [1.0, \"#f0f921\"]], \"type\": \"histogram2d\"}], \"histogram2dcontour\": [{\"colorbar\": {\"outlinewidth\": 0, \"ticks\": \"\"}, \"colorscale\": [[0.0, \"#0d0887\"], [0.1111111111111111, \"#46039f\"], [0.2222222222222222, \"#7201a8\"], [0.3333333333333333, \"#9c179e\"], [0.4444444444444444, \"#bd3786\"], [0.5555555555555556, \"#d8576b\"], [0.6666666666666666, \"#ed7953\"], [0.7777777777777778, \"#fb9f3a\"], [0.8888888888888888, \"#fdca26\"], [1.0, \"#f0f921\"]], \"type\": \"histogram2dcontour\"}], \"mesh3d\": [{\"colorbar\": {\"outlinewidth\": 0, \"ticks\": \"\"}, \"type\": \"mesh3d\"}], \"parcoords\": [{\"line\": {\"colorbar\": {\"outlinewidth\": 0, \"ticks\": \"\"}}, \"type\": \"parcoords\"}], \"pie\": [{\"automargin\": true, \"type\": \"pie\"}], \"scatter\": [{\"marker\": {\"colorbar\": {\"outlinewidth\": 0, \"ticks\": \"\"}}, \"type\": \"scatter\"}], \"scatter3d\": [{\"line\": {\"colorbar\": {\"outlinewidth\": 0, \"ticks\": \"\"}}, \"marker\": {\"colorbar\": {\"outlinewidth\": 0, \"ticks\": \"\"}}, \"type\": \"scatter3d\"}], \"scattercarpet\": [{\"marker\": {\"colorbar\": {\"outlinewidth\": 0, \"ticks\": \"\"}}, \"type\": \"scattercarpet\"}], \"scattergeo\": [{\"marker\": {\"colorbar\": {\"outlinewidth\": 0, \"ticks\": \"\"}}, \"type\": \"scattergeo\"}], \"scattergl\": [{\"marker\": {\"colorbar\": {\"outlinewidth\": 0, \"ticks\": \"\"}}, \"type\": \"scattergl\"}], \"scattermapbox\": [{\"marker\": {\"colorbar\": {\"outlinewidth\": 0, \"ticks\": \"\"}}, \"type\": \"scattermapbox\"}], \"scatterpolar\": [{\"marker\": {\"colorbar\": {\"outlinewidth\": 0, \"ticks\": \"\"}}, \"type\": \"scatterpolar\"}], \"scatterpolargl\": [{\"marker\": {\"colorbar\": {\"outlinewidth\": 0, \"ticks\": \"\"}}, \"type\": \"scatterpolargl\"}], \"scatterternary\": [{\"marker\": {\"colorbar\": {\"outlinewidth\": 0, \"ticks\": \"\"}}, \"type\": \"scatterternary\"}], \"surface\": [{\"colorbar\": {\"outlinewidth\": 0, \"ticks\": \"\"}, \"colorscale\": [[0.0, \"#0d0887\"], [0.1111111111111111, \"#46039f\"], [0.2222222222222222, \"#7201a8\"], [0.3333333333333333, \"#9c179e\"], [0.4444444444444444, \"#bd3786\"], [0.5555555555555556, \"#d8576b\"], [0.6666666666666666, \"#ed7953\"], [0.7777777777777778, \"#fb9f3a\"], [0.8888888888888888, \"#fdca26\"], [1.0, \"#f0f921\"]], \"type\": \"surface\"}], \"table\": [{\"cells\": {\"fill\": {\"color\": \"#EBF0F8\"}, \"line\": {\"color\": \"white\"}}, \"header\": {\"fill\": {\"color\": \"#C8D4E3\"}, \"line\": {\"color\": \"white\"}}, \"type\": \"table\"}]}, \"layout\": {\"annotationdefaults\": {\"arrowcolor\": \"#2a3f5f\", \"arrowhead\": 0, \"arrowwidth\": 1}, \"coloraxis\": {\"colorbar\": {\"outlinewidth\": 0, \"ticks\": \"\"}}, \"colorscale\": {\"diverging\": [[0, \"#8e0152\"], [0.1, \"#c51b7d\"], [0.2, \"#de77ae\"], [0.3, \"#f1b6da\"], [0.4, \"#fde0ef\"], [0.5, \"#f7f7f7\"], [0.6, \"#e6f5d0\"], [0.7, \"#b8e186\"], [0.8, \"#7fbc41\"], [0.9, \"#4d9221\"], [1, \"#276419\"]], \"sequential\": [[0.0, \"#0d0887\"], [0.1111111111111111, \"#46039f\"], [0.2222222222222222, \"#7201a8\"], [0.3333333333333333, \"#9c179e\"], [0.4444444444444444, \"#bd3786\"], [0.5555555555555556, \"#d8576b\"], [0.6666666666666666, \"#ed7953\"], [0.7777777777777778, \"#fb9f3a\"], [0.8888888888888888, \"#fdca26\"], [1.0, \"#f0f921\"]], \"sequentialminus\": [[0.0, \"#0d0887\"], [0.1111111111111111, \"#46039f\"], [0.2222222222222222, \"#7201a8\"], [0.3333333333333333, \"#9c179e\"], [0.4444444444444444, \"#bd3786\"], [0.5555555555555556, \"#d8576b\"], [0.6666666666666666, \"#ed7953\"], [0.7777777777777778, \"#fb9f3a\"], [0.8888888888888888, \"#fdca26\"], [1.0, \"#f0f921\"]]}, \"colorway\": [\"#636efa\", \"#EF553B\", \"#00cc96\", \"#ab63fa\", \"#FFA15A\", \"#19d3f3\", \"#FF6692\", \"#B6E880\", \"#FF97FF\", \"#FECB52\"], \"font\": {\"color\": \"#2a3f5f\"}, \"geo\": {\"bgcolor\": \"white\", \"lakecolor\": \"white\", \"landcolor\": \"white\", \"showlakes\": true, \"showland\": true, \"subunitcolor\": \"#C8D4E3\"}, \"hoverlabel\": {\"align\": \"left\"}, \"hovermode\": \"closest\", \"mapbox\": {\"style\": \"light\"}, \"paper_bgcolor\": \"white\", \"plot_bgcolor\": \"white\", \"polar\": {\"angularaxis\": {\"gridcolor\": \"#EBF0F8\", \"linecolor\": \"#EBF0F8\", \"ticks\": \"\"}, \"bgcolor\": \"white\", \"radialaxis\": {\"gridcolor\": \"#EBF0F8\", \"linecolor\": \"#EBF0F8\", \"ticks\": \"\"}}, \"scene\": {\"xaxis\": {\"backgroundcolor\": \"white\", \"gridcolor\": \"#DFE8F3\", \"gridwidth\": 2, \"linecolor\": \"#EBF0F8\", \"showbackground\": true, \"ticks\": \"\", \"zerolinecolor\": \"#EBF0F8\"}, \"yaxis\": {\"backgroundcolor\": \"white\", \"gridcolor\": \"#DFE8F3\", \"gridwidth\": 2, \"linecolor\": \"#EBF0F8\", \"showbackground\": true, \"ticks\": \"\", \"zerolinecolor\": \"#EBF0F8\"}, \"zaxis\": {\"backgroundcolor\": \"white\", \"gridcolor\": \"#DFE8F3\", \"gridwidth\": 2, \"linecolor\": \"#EBF0F8\", \"showbackground\": true, \"ticks\": \"\", \"zerolinecolor\": \"#EBF0F8\"}}, \"shapedefaults\": {\"line\": {\"color\": \"#2a3f5f\"}}, \"ternary\": {\"aaxis\": {\"gridcolor\": \"#DFE8F3\", \"linecolor\": \"#A2B1C6\", \"ticks\": \"\"}, \"baxis\": {\"gridcolor\": \"#DFE8F3\", \"linecolor\": \"#A2B1C6\", \"ticks\": \"\"}, \"bgcolor\": \"white\", \"caxis\": {\"gridcolor\": \"#DFE8F3\", \"linecolor\": \"#A2B1C6\", \"ticks\": \"\"}}, \"title\": {\"x\": 0.05}, \"xaxis\": {\"automargin\": true, \"gridcolor\": \"#EBF0F8\", \"linecolor\": \"#EBF0F8\", \"ticks\": \"\", \"title\": {\"standoff\": 15}, \"zerolinecolor\": \"#EBF0F8\", \"zerolinewidth\": 2}, \"yaxis\": {\"automargin\": true, \"gridcolor\": \"#EBF0F8\", \"linecolor\": \"#EBF0F8\", \"ticks\": \"\", \"title\": {\"standoff\": 15}, \"zerolinecolor\": \"#EBF0F8\", \"zerolinewidth\": 2}}}, \"title\": {\"font\": {\"size\": 18}, \"text\": \"PeNSE - Pesquisa Nacional de Sa\\u00fade do Escolar: <b>IMC e Satisfa\\u00e7\\u00e3o com o pr\\u00f3prio corpo</b>\"}, \"xaxis\": {\"anchor\": \"y\", \"categoryarray\": [\"Muito insatisfeito(a)\", \"Insatisfeito(a)\", \"Indiferente\", \"Satisfeito(a)\", \"Muito satisfeito(a)\"], \"categoryorder\": \"array\", \"domain\": [0.0, 1.0], \"title\": {\"text\": \"N\\u00edvel de Satisfa\\u00e7\\u00e3o\"}}, \"yaxis\": {\"anchor\": \"x\", \"domain\": [0.0, 1.0], \"title\": {\"text\": \"IMC\"}}},                        {\"responsive\": true}                    ).then(function(){\n",
              "                            \n",
              "var gd = document.getElementById('f8594299-3034-48d3-98b7-7ba469200757');\n",
              "var x = new MutationObserver(function (mutations, observer) {{\n",
              "        var display = window.getComputedStyle(gd).display;\n",
              "        if (!display || display === 'none') {{\n",
              "            console.log([gd, 'removed!']);\n",
              "            Plotly.purge(gd);\n",
              "            observer.disconnect();\n",
              "        }}\n",
              "}});\n",
              "\n",
              "// Listen for the removal of the full notebook cells\n",
              "var notebookContainer = gd.closest('#notebook-container');\n",
              "if (notebookContainer) {{\n",
              "    x.observe(notebookContainer, {childList: true});\n",
              "}}\n",
              "\n",
              "// Listen for the clearing of the current output cell\n",
              "var outputEl = gd.closest('.output');\n",
              "if (outputEl) {{\n",
              "    x.observe(outputEl, {childList: true});\n",
              "}}\n",
              "\n",
              "                        })                };                            </script>        </div>\n",
              "</body>\n",
              "</html>"
            ]
          },
          "metadata": {
            "tags": []
          }
        }
      ]
    },
    {
      "cell_type": "markdown",
      "metadata": {
        "id": "bBBLngzLs3CO"
      },
      "source": [
        "    Pontos interessantes\r\n",
        "\r\n",
        "- p/ o nível **Muito satisfeito(a)**, os dados são menos dispersos e próximos da faixa com IMC abaixo do peso --> padrão de beleza no Brasil: ser magra.\r\n",
        "- a medida que sobe o nível de satisfação, menos dispersos são os dados."
      ]
    },
    {
      "cell_type": "markdown",
      "metadata": {
        "id": "TB4lQE19Tq7u"
      },
      "source": [
        "Agora vamos analisar assuntos mais específicos, começando pelo tema saúde e corpo. Para essa análise, optei por relacionar o IMC, o nível de satisfação e a cor/raça das jovens escolares.\r\n",
        "\r\n",
        "Pelos boxplots acima, percebemos inicialmente que a grande maioria dos IMCs, independente da cor/raça e do nível de satisfação, encontra-se na faixa *normal* (cinza). Além disso, olhando mais atentamente, vemos que à medida que aumenta o nível de satisfação, menos dispersos são os dados.\r\n",
        "\r\n",
        "Por fim, o fato mais curioso é verificado ao analisar os níveis de satisfação que demonstram estar satisfeitas com o próprio corpo. Independente de cor/raça, há praticamente a mesma faixa de IMC e ela é muito próxima do limite superior o intervalo para **abaixo do peso**. Isso pode ser um triste indicativo de que as adolescentes enxergam um padrão de perfeição em corpos mais magros, um arquétipo imposto pela **cultura da magreza**. \r\n",
        "\r\n",
        "Tantas meninas e jovens (e até mulheres) acreditam que serão mais felizes se forem magras, mas na realidade diversos distúrbios alimentares se escondem atrás desse falso padrão de beleza imposto pela nossa sociedade.\r\n",
        "\r\n",
        "\r\n",
        "---\r\n",
        "\r\n",
        "\r\n",
        "**Fonte**:\r\n",
        "\r\n",
        "[Drauzio Varella - O preço da magreza](https://drauziovarella.uol.com.br/para-as-mulheres/o-preco-da-magreza/)"
      ]
    },
    {
      "cell_type": "markdown",
      "metadata": {
        "id": "4eY1j3UgRhiY"
      },
      "source": [
        "## Saúde Sexual e Reprodutiva"
      ]
    },
    {
      "cell_type": "markdown",
      "metadata": {
        "id": "f3RY2q91SIRt"
      },
      "source": [
        "```\r\n",
        "\r\n",
        "- gravidez:\r\n",
        "    já engravidou (VB08013)\r\n",
        "    média de idade\r\n",
        "```"
      ]
    },
    {
      "cell_type": "code",
      "metadata": {
        "colab": {
          "base_uri": "https://localhost:8080/",
          "height": 197
        },
        "id": "MnDfi1Ry_KOX",
        "outputId": "86d7ac1a-748e-4740-ddf7-c7a50ab18330"
      },
      "source": [
        "traduzir_coluna('ja_engravidou', dados)\r\n",
        "dados[['ja_engravidou', 'VB08013']].sample(5)"
      ],
      "execution_count": 37,
      "outputs": [
        {
          "output_type": "execute_result",
          "data": {
            "text/html": [
              "<div>\n",
              "<style scoped>\n",
              "    .dataframe tbody tr th:only-of-type {\n",
              "        vertical-align: middle;\n",
              "    }\n",
              "\n",
              "    .dataframe tbody tr th {\n",
              "        vertical-align: top;\n",
              "    }\n",
              "\n",
              "    .dataframe thead th {\n",
              "        text-align: right;\n",
              "    }\n",
              "</style>\n",
              "<table border=\"1\" class=\"dataframe\">\n",
              "  <thead>\n",
              "    <tr style=\"text-align: right;\">\n",
              "      <th></th>\n",
              "      <th>ja_engravidou</th>\n",
              "      <th>VB08013</th>\n",
              "    </tr>\n",
              "  </thead>\n",
              "  <tbody>\n",
              "    <tr>\n",
              "      <th>15121</th>\n",
              "      <td>Pulo no questionário</td>\n",
              "      <td>-1</td>\n",
              "    </tr>\n",
              "    <tr>\n",
              "      <th>6335</th>\n",
              "      <td>Pulo no questionário</td>\n",
              "      <td>-1</td>\n",
              "    </tr>\n",
              "    <tr>\n",
              "      <th>12031</th>\n",
              "      <td>Pulo no questionário</td>\n",
              "      <td>-1</td>\n",
              "    </tr>\n",
              "    <tr>\n",
              "      <th>7635</th>\n",
              "      <td>Pulo no questionário</td>\n",
              "      <td>-1</td>\n",
              "    </tr>\n",
              "    <tr>\n",
              "      <th>10703</th>\n",
              "      <td>Pulo no questionário</td>\n",
              "      <td>-1</td>\n",
              "    </tr>\n",
              "  </tbody>\n",
              "</table>\n",
              "</div>"
            ],
            "text/plain": [
              "              ja_engravidou  VB08013\n",
              "15121  Pulo no questionário       -1\n",
              "6335   Pulo no questionário       -1\n",
              "12031  Pulo no questionário       -1\n",
              "7635   Pulo no questionário       -1\n",
              "10703  Pulo no questionário       -1"
            ]
          },
          "metadata": {
            "tags": []
          },
          "execution_count": 37
        }
      ]
    },
    {
      "cell_type": "code",
      "metadata": {
        "id": "M0bUIe-3RFDp"
      },
      "source": [
        "df7 = dados.copy().query('sexo == \"Feminino\" & ja_engravidou == \"Sim\" & '\\\r\n",
        "                         f'{coluna_idade} != 11 & {coluna_idade} != 19')\r\n",
        "racas = df7['cor_raca'].unique()\r\n",
        "\r\n",
        "to_tabulate = []\r\n",
        "for raca in racas:\r\n",
        "    df7_filtrado = df7.query(f'cor_raca == \"{raca}\"')\r\n",
        "    ic = zconfint(df7_filtrado[coluna_idade])\r\n",
        "    to_tabulate.append([raca, ic[0].round(2), ic[1].round(2)])\r\n"
      ],
      "execution_count": 38,
      "outputs": []
    },
    {
      "cell_type": "code",
      "metadata": {
        "colab": {
          "base_uri": "https://localhost:8080/"
        },
        "id": "U_e9RMfDD6Kq",
        "outputId": "6f78552c-c375-4ec7-b3fa-0d1e59e46de6"
      },
      "source": [
        "from tabulate import tabulate\r\n",
        "print('Média de idade das escolares que já engravidaram')\r\n",
        "print(tabulate(to_tabulate, [\"Cor/Raça\", \"IC ini\", \"IC fim\"], tablefmt=\"fancy_grid\"))"
      ],
      "execution_count": 39,
      "outputs": [
        {
          "output_type": "stream",
          "text": [
            "Média de idade das escolares que já engravidaram\n",
            "╒════════════╤══════════╤══════════╕\n",
            "│ Cor/Raça   │   IC ini │   IC fim │\n",
            "╞════════════╪══════════╪══════════╡\n",
            "│ Amarela    │    15.51 │    17.29 │\n",
            "├────────────┼──────────┼──────────┤\n",
            "│ Parda      │    15.96 │    16.59 │\n",
            "├────────────┼──────────┼──────────┤\n",
            "│ Branca     │    15.88 │    16.92 │\n",
            "├────────────┼──────────┼──────────┤\n",
            "│ Preta      │    15.1  │    16.44 │\n",
            "├────────────┼──────────┼──────────┤\n",
            "│ Indígena   │    13    │    13    │\n",
            "╘════════════╧══════════╧══════════╛\n"
          ],
          "name": "stdout"
        }
      ]
    },
    {
      "cell_type": "markdown",
      "metadata": {
        "id": "g5CM16_yc9l8"
      },
      "source": [
        "Para esse terceiro bloco, abordamos Saúde Sexual e Reprodutiva. O foco foi a média de idade das adolescentes que já engravidaram, para isso fiz o filtro dos dados para escolares do sexo feminino que informaram já ter engravidado e separei de acordo com a raça/cor.\r\n",
        "\r\n",
        "Como não temos a informação da idade de fato que as escolares engravidaram, a ideia aqui é tentar verificar a média da idade dessas jovens que já engravidaram anteriormente, seja qual for a idade. Para gerar a tabela acima, calculei o intervalo de confiança da média de idade dessas jovens para cada cor/raça, com nível de significância de 0,05.\r\n",
        "\r\n",
        "\r\n",
        "---\r\n",
        "\r\n",
        "Exceto para cor/raça indígena, os intervalos se mostram sutilmente semelhantes. Para a cor/raça indígena, vemos que a média mostrada para o intervalo de confiança calculado é menor do que para as outras cores/raças. Mas porque escolares indígenas engravidam mais cedo?\r\n",
        "\r\n",
        "Fiz uma breve pesquisa sobre o tema e listarei possíveis motivos para esse fato. O primeiro deles é que os povos indígenas encaram a sexualidade de maneira muito mais natural do que outros povos, não possuindo a mesma influência exercida pela moral cristã, onde sexo é visto como algo pecaminoso.\r\n",
        "\r\n",
        "Além disso, os povos nativos sempre iniciaram a vida sexual cedo, mas possuíam métodos naturais para controle da natalidade, mas que foram abandonados ou perdidos ao longo dos anos.\r\n",
        "\r\n",
        "Por fim, adolescentes indígenas possuem um marco muito bem definido na sua vida fértil: a menstruação. Após esse marco, os indígenas acreditam que essas jovens deixam de ser crianças, se tornando mulheres e, portanto, já podem se reproduzir.\r\n",
        "\r\n",
        "\r\n",
        "\r\n",
        "---\r\n",
        "\r\n",
        "\r\n",
        "**Fontes**:\r\n",
        "\r\n",
        "\r\n",
        "[Folha de São Paulo](https://www1.folha.uol.com.br/fsp/cotidian/ff31089810.htm) - Norte tem mais grávidas adolescentes"
      ]
    },
    {
      "cell_type": "markdown",
      "metadata": {
        "id": "Zlt-lv4bRFbr"
      },
      "source": [
        "## Violência e Abuso"
      ]
    },
    {
      "cell_type": "markdown",
      "metadata": {
        "id": "X7mH7j0QRwAS"
      },
      "source": [
        "```\r\n",
        "- abuso sexual:\r\n",
        "    já sofreu estupro (VB09016)\r\n",
        "    por quem\r\n",
        "        namorado (VB0901701)\r\n",
        "        amigo (VB0901702)\r\n",
        "        responsável (VB0901703)\r\n",
        "        familiar (VB0901704)\r\n",
        "        desconhecido (VB0901705)\r\n",
        "        outros (VB0901706)\r\n",
        "```"
      ]
    },
    {
      "cell_type": "code",
      "metadata": {
        "id": "g-sJ5FfzA_da"
      },
      "source": [
        "cols_estupro = ['ja_estupro', 'estupro_namorado', 'estupro_amigo',\r\n",
        "                'estupro_responsavel', 'estupro_familiar',\r\n",
        "                'estupro_desconhecido', 'estupro_outros']\r\n",
        "\r\n",
        "for col in cols_estupro:\r\n",
        "    traduzir_coluna(col, dados)"
      ],
      "execution_count": 40,
      "outputs": []
    },
    {
      "cell_type": "code",
      "metadata": {
        "id": "GLlXfE449MTD"
      },
      "source": [
        "df6 = dados.copy().query('sexo == \"Feminino\" & ja_estupro == \"Sim\"')\r\n",
        "cols_estupro.remove('ja_estupro')\r\n",
        "for col in cols_estupro:\r\n",
        "    df6 = df6.query(f'{col} != \"Pulo no questionário\" & '\\\r\n",
        "                    f'{col} != \"Não informado\"')"
      ],
      "execution_count": 41,
      "outputs": []
    },
    {
      "cell_type": "code",
      "metadata": {
        "id": "EhpuCXHemJVb"
      },
      "source": [
        "df6 = pd.DataFrame(df6[cols_estupro].value_counts())\r\n",
        "df6.columns = ['Total']\r\n",
        "df6_T = df6.T.copy()\r\n",
        "df6_T.columns = df6_T.columns.reorder_levels(['estupro_namorado', 'estupro_familiar',\r\n",
        "                              'estupro_desconhecido', 'estupro_amigo',\r\n",
        "                              'estupro_responsavel', 'estupro_outros'])"
      ],
      "execution_count": 42,
      "outputs": []
    },
    {
      "cell_type": "code",
      "metadata": {
        "colab": {
          "base_uri": "https://localhost:8080/",
          "height": 227
        },
        "id": "mqaUf4KsUlpI",
        "outputId": "6d928cdb-8909-4d62-8e19-07bc8b91f9c5"
      },
      "source": [
        "def magnify():\r\n",
        "    propriedades = [('background-color', \"red\"),\r\n",
        "                    ('color', \"white\")]\r\n",
        "\r\n",
        "    return [    # primeira linha - namorado\r\n",
        "                dict(selector=\"th.level0.col0\",     props=propriedades),\r\n",
        "                dict(selector=\"th.level0.col8\",     props=propriedades),\r\n",
        "                dict(selector=\"th.level0.col10\",    props=propriedades),\r\n",
        "                # segunda linha - familiar\r\n",
        "                dict(selector=\"th.level1.col1\",     props=propriedades),\r\n",
        "                dict(selector=\"th.level1.col8\",     props=propriedades),\r\n",
        "                dict(selector=\"th.level1.col12\",    props=propriedades),\r\n",
        "                dict(selector=\"th.level1.col15\",    props=propriedades),\r\n",
        "                # segunda linha - desconhecido\r\n",
        "                dict(selector=\"th.level2.col2\",     props=propriedades),\r\n",
        "                dict(selector=\"th.level2.col6\",     props=propriedades),\r\n",
        "                dict(selector=\"th.level2.col9\",     props=propriedades),\r\n",
        "                # terceira linha - amigo\r\n",
        "                dict(selector=\"th.level3.col3\",     props=propriedades),\r\n",
        "                dict(selector=\"th.level3.col7\",     props=propriedades),\r\n",
        "                dict(selector=\"th.level3.col9\",    props=propriedades),\r\n",
        "                dict(selector=\"th.level3.col10\",    props=propriedades),\r\n",
        "                dict(selector=\"th.level3.col12\",    props=propriedades),\r\n",
        "                # quarta linha - responsável\r\n",
        "                dict(selector=\"th.level4.col4\",     props=propriedades),\r\n",
        "                dict(selector=\"th.level4.col11\",     props=propriedades),\r\n",
        "                dict(selector=\"th.level4.col12\",     props=propriedades),\r\n",
        "                dict(selector=\"th.level4.col13\",     props=propriedades),\r\n",
        "                dict(selector=\"th.level4.col14\",     props=propriedades),\r\n",
        "                # quinta linha - outros\r\n",
        "                dict(selector=\"th.level5.col5\",     props=propriedades),\r\n",
        "                dict(selector=\"th.level5.col6\",     props=propriedades),\r\n",
        "                dict(selector=\"th.level5.col7\",     props=propriedades),\r\n",
        "                dict(selector=\"th.level5.col14\",    props=propriedades),\r\n",
        "                dict(selector=\"th.level5.col15\",    props=propriedades)\r\n",
        "            ]\r\n",
        "\r\n",
        "df6_T.style.set_table_attributes('class=\"dataframe\"').set_table_styles(magnify())"
      ],
      "execution_count": 43,
      "outputs": [
        {
          "output_type": "execute_result",
          "data": {
            "text/html": [
              "<style  type=\"text/css\" >\n",
              "    #T_18a2026e_53b2_11eb_9e1d_0242ac1c0002 th.level0.col0 {\n",
              "          background-color: red;\n",
              "          color: white;\n",
              "    }    #T_18a2026e_53b2_11eb_9e1d_0242ac1c0002 th.level0.col8 {\n",
              "          background-color: red;\n",
              "          color: white;\n",
              "    }    #T_18a2026e_53b2_11eb_9e1d_0242ac1c0002 th.level0.col10 {\n",
              "          background-color: red;\n",
              "          color: white;\n",
              "    }    #T_18a2026e_53b2_11eb_9e1d_0242ac1c0002 th.level1.col1 {\n",
              "          background-color: red;\n",
              "          color: white;\n",
              "    }    #T_18a2026e_53b2_11eb_9e1d_0242ac1c0002 th.level1.col8 {\n",
              "          background-color: red;\n",
              "          color: white;\n",
              "    }    #T_18a2026e_53b2_11eb_9e1d_0242ac1c0002 th.level1.col12 {\n",
              "          background-color: red;\n",
              "          color: white;\n",
              "    }    #T_18a2026e_53b2_11eb_9e1d_0242ac1c0002 th.level1.col15 {\n",
              "          background-color: red;\n",
              "          color: white;\n",
              "    }    #T_18a2026e_53b2_11eb_9e1d_0242ac1c0002 th.level2.col2 {\n",
              "          background-color: red;\n",
              "          color: white;\n",
              "    }    #T_18a2026e_53b2_11eb_9e1d_0242ac1c0002 th.level2.col6 {\n",
              "          background-color: red;\n",
              "          color: white;\n",
              "    }    #T_18a2026e_53b2_11eb_9e1d_0242ac1c0002 th.level2.col9 {\n",
              "          background-color: red;\n",
              "          color: white;\n",
              "    }    #T_18a2026e_53b2_11eb_9e1d_0242ac1c0002 th.level3.col3 {\n",
              "          background-color: red;\n",
              "          color: white;\n",
              "    }    #T_18a2026e_53b2_11eb_9e1d_0242ac1c0002 th.level3.col7 {\n",
              "          background-color: red;\n",
              "          color: white;\n",
              "    }    #T_18a2026e_53b2_11eb_9e1d_0242ac1c0002 th.level3.col9 {\n",
              "          background-color: red;\n",
              "          color: white;\n",
              "    }    #T_18a2026e_53b2_11eb_9e1d_0242ac1c0002 th.level3.col10 {\n",
              "          background-color: red;\n",
              "          color: white;\n",
              "    }    #T_18a2026e_53b2_11eb_9e1d_0242ac1c0002 th.level3.col12 {\n",
              "          background-color: red;\n",
              "          color: white;\n",
              "    }    #T_18a2026e_53b2_11eb_9e1d_0242ac1c0002 th.level4.col4 {\n",
              "          background-color: red;\n",
              "          color: white;\n",
              "    }    #T_18a2026e_53b2_11eb_9e1d_0242ac1c0002 th.level4.col11 {\n",
              "          background-color: red;\n",
              "          color: white;\n",
              "    }    #T_18a2026e_53b2_11eb_9e1d_0242ac1c0002 th.level4.col12 {\n",
              "          background-color: red;\n",
              "          color: white;\n",
              "    }    #T_18a2026e_53b2_11eb_9e1d_0242ac1c0002 th.level4.col13 {\n",
              "          background-color: red;\n",
              "          color: white;\n",
              "    }    #T_18a2026e_53b2_11eb_9e1d_0242ac1c0002 th.level4.col14 {\n",
              "          background-color: red;\n",
              "          color: white;\n",
              "    }    #T_18a2026e_53b2_11eb_9e1d_0242ac1c0002 th.level5.col5 {\n",
              "          background-color: red;\n",
              "          color: white;\n",
              "    }    #T_18a2026e_53b2_11eb_9e1d_0242ac1c0002 th.level5.col6 {\n",
              "          background-color: red;\n",
              "          color: white;\n",
              "    }    #T_18a2026e_53b2_11eb_9e1d_0242ac1c0002 th.level5.col7 {\n",
              "          background-color: red;\n",
              "          color: white;\n",
              "    }    #T_18a2026e_53b2_11eb_9e1d_0242ac1c0002 th.level5.col14 {\n",
              "          background-color: red;\n",
              "          color: white;\n",
              "    }    #T_18a2026e_53b2_11eb_9e1d_0242ac1c0002 th.level5.col15 {\n",
              "          background-color: red;\n",
              "          color: white;\n",
              "    }</style><table id=\"T_18a2026e_53b2_11eb_9e1d_0242ac1c0002\" class=\"dataframe\"><thead>    <tr>        <th class=\"index_name level0\" >estupro_namorado</th>        <th class=\"col_heading level0 col0\" >Sim</th>        <th class=\"col_heading level0 col1\" colspan=7>Não</th>        <th class=\"col_heading level0 col8\" >Sim</th>        <th class=\"col_heading level0 col9\" >Não</th>        <th class=\"col_heading level0 col10\" colspan=2>Sim</th>        <th class=\"col_heading level0 col12\" colspan=4>Não</th>    </tr>    <tr>        <th class=\"index_name level1\" >estupro_familiar</th>        <th class=\"col_heading level1 col0\" >Não</th>        <th class=\"col_heading level1 col1\" >Sim</th>        <th class=\"col_heading level1 col2\" colspan=6>Não</th>        <th class=\"col_heading level1 col8\" >Sim</th>        <th class=\"col_heading level1 col9\" >Não</th>        <th class=\"col_heading level1 col10\" colspan=2>Não</th>        <th class=\"col_heading level1 col12\" colspan=2>Sim</th>        <th class=\"col_heading level1 col14\" >Não</th>        <th class=\"col_heading level1 col15\" >Sim</th>    </tr>    <tr>        <th class=\"index_name level2\" >estupro_desconhecido</th>        <th class=\"col_heading level2 col0\" >Não</th>        <th class=\"col_heading level2 col1\" >Não</th>        <th class=\"col_heading level2 col2\" >Sim</th>        <th class=\"col_heading level2 col3\" colspan=3>Não</th>        <th class=\"col_heading level2 col6\" >Sim</th>        <th class=\"col_heading level2 col7\" >Não</th>        <th class=\"col_heading level2 col8\" >Não</th>        <th class=\"col_heading level2 col9\" >Sim</th>        <th class=\"col_heading level2 col10\" colspan=2>Não</th>        <th class=\"col_heading level2 col12\" colspan=2>Não</th>        <th class=\"col_heading level2 col14\" >Não</th>        <th class=\"col_heading level2 col15\" >Não</th>    </tr>    <tr>        <th class=\"index_name level3\" >estupro_amigo</th>        <th class=\"col_heading level3 col0\" >Não</th>        <th class=\"col_heading level3 col1\" >Não</th>        <th class=\"col_heading level3 col2\" >Não</th>        <th class=\"col_heading level3 col3\" >Sim</th>        <th class=\"col_heading level3 col4\" colspan=2>Não</th>        <th class=\"col_heading level3 col6\" >Não</th>        <th class=\"col_heading level3 col7\" >Sim</th>        <th class=\"col_heading level3 col8\" >Não</th>        <th class=\"col_heading level3 col9\" >Sim</th>        <th class=\"col_heading level3 col10\" >Sim</th>        <th class=\"col_heading level3 col11\" >Não</th>        <th class=\"col_heading level3 col12\" >Sim</th>        <th class=\"col_heading level3 col13\" >Não</th>        <th class=\"col_heading level3 col14\" >Não</th>        <th class=\"col_heading level3 col15\" >Não</th>    </tr>    <tr>        <th class=\"index_name level4\" >estupro_responsavel</th>        <th class=\"col_heading level4 col0\" >Não</th>        <th class=\"col_heading level4 col1\" >Não</th>        <th class=\"col_heading level4 col2\" >Não</th>        <th class=\"col_heading level4 col3\" >Não</th>        <th class=\"col_heading level4 col4\" >Sim</th>        <th class=\"col_heading level4 col5\" >Não</th>        <th class=\"col_heading level4 col6\" >Não</th>        <th class=\"col_heading level4 col7\" >Não</th>        <th class=\"col_heading level4 col8\" >Não</th>        <th class=\"col_heading level4 col9\" >Não</th>        <th class=\"col_heading level4 col10\" >Não</th>        <th class=\"col_heading level4 col11\" >Sim</th>        <th class=\"col_heading level4 col12\" >Sim</th>        <th class=\"col_heading level4 col13\" >Sim</th>        <th class=\"col_heading level4 col14\" >Sim</th>        <th class=\"col_heading level4 col15\" >Não</th>    </tr>    <tr>        <th class=\"index_name level5\" >estupro_outros</th>        <th class=\"col_heading level5 col0\" >Não</th>        <th class=\"col_heading level5 col1\" >Não</th>        <th class=\"col_heading level5 col2\" >Não</th>        <th class=\"col_heading level5 col3\" >Não</th>        <th class=\"col_heading level5 col4\" >Não</th>        <th class=\"col_heading level5 col5\" >Sim</th>        <th class=\"col_heading level5 col6\" >Sim</th>        <th class=\"col_heading level5 col7\" >Sim</th>        <th class=\"col_heading level5 col8\" >Não</th>        <th class=\"col_heading level5 col9\" >Não</th>        <th class=\"col_heading level5 col10\" >Não</th>        <th class=\"col_heading level5 col11\" >Não</th>        <th class=\"col_heading level5 col12\" >Não</th>        <th class=\"col_heading level5 col13\" >Não</th>        <th class=\"col_heading level5 col14\" >Sim</th>        <th class=\"col_heading level5 col15\" >Sim</th>    </tr></thead><tbody>\n",
              "                <tr>\n",
              "                        <th id=\"T_18a2026e_53b2_11eb_9e1d_0242ac1c0002level0_row0\" class=\"row_heading level0 row0\" >Total</th>\n",
              "                        <td id=\"T_18a2026e_53b2_11eb_9e1d_0242ac1c0002row0_col0\" class=\"data row0 col0\" >78</td>\n",
              "                        <td id=\"T_18a2026e_53b2_11eb_9e1d_0242ac1c0002row0_col1\" class=\"data row0 col1\" >59</td>\n",
              "                        <td id=\"T_18a2026e_53b2_11eb_9e1d_0242ac1c0002row0_col2\" class=\"data row0 col2\" >51</td>\n",
              "                        <td id=\"T_18a2026e_53b2_11eb_9e1d_0242ac1c0002row0_col3\" class=\"data row0 col3\" >42</td>\n",
              "                        <td id=\"T_18a2026e_53b2_11eb_9e1d_0242ac1c0002row0_col4\" class=\"data row0 col4\" >32</td>\n",
              "                        <td id=\"T_18a2026e_53b2_11eb_9e1d_0242ac1c0002row0_col5\" class=\"data row0 col5\" >32</td>\n",
              "                        <td id=\"T_18a2026e_53b2_11eb_9e1d_0242ac1c0002row0_col6\" class=\"data row0 col6\" >4</td>\n",
              "                        <td id=\"T_18a2026e_53b2_11eb_9e1d_0242ac1c0002row0_col7\" class=\"data row0 col7\" >3</td>\n",
              "                        <td id=\"T_18a2026e_53b2_11eb_9e1d_0242ac1c0002row0_col8\" class=\"data row0 col8\" >2</td>\n",
              "                        <td id=\"T_18a2026e_53b2_11eb_9e1d_0242ac1c0002row0_col9\" class=\"data row0 col9\" >2</td>\n",
              "                        <td id=\"T_18a2026e_53b2_11eb_9e1d_0242ac1c0002row0_col10\" class=\"data row0 col10\" >1</td>\n",
              "                        <td id=\"T_18a2026e_53b2_11eb_9e1d_0242ac1c0002row0_col11\" class=\"data row0 col11\" >1</td>\n",
              "                        <td id=\"T_18a2026e_53b2_11eb_9e1d_0242ac1c0002row0_col12\" class=\"data row0 col12\" >1</td>\n",
              "                        <td id=\"T_18a2026e_53b2_11eb_9e1d_0242ac1c0002row0_col13\" class=\"data row0 col13\" >1</td>\n",
              "                        <td id=\"T_18a2026e_53b2_11eb_9e1d_0242ac1c0002row0_col14\" class=\"data row0 col14\" >1</td>\n",
              "                        <td id=\"T_18a2026e_53b2_11eb_9e1d_0242ac1c0002row0_col15\" class=\"data row0 col15\" >1</td>\n",
              "            </tr>\n",
              "    </tbody></table>"
            ],
            "text/plain": [
              "<pandas.io.formats.style.Styler at 0x7f1ffd30df28>"
            ]
          },
          "metadata": {
            "tags": []
          },
          "execution_count": 43
        }
      ]
    },
    {
      "cell_type": "markdown",
      "metadata": {
        "id": "SIc5109Bil_3"
      },
      "source": [
        "Nossa última análise da base PeNSE será feita em cima de um tema delicado e sensível: estupro. Filtrei jovens mulheres que já foram estupradas e separei por categoria de responsáveis pelo estupro.\r\n",
        "\r\n",
        "Como podemos ver na tabela acima, a maioria das escolares foi estuprada pelo próprio **namorado** (78), seguido por aquelas que foram por um **familiar** (59). O estupro por um **desconhecido** é o terceiro do ranking, o que nos leva a refletir sobre a constante culpabilização da vítima, que não pode andar na rua tão tarde ou que não pode sair de casa com roupas provocantes.\r\n",
        "\r\n",
        "\r\n",
        "---\r\n",
        "**Fontes**:\r\n",
        "\r\n",
        "[IPEA](https://www.ipea.gov.br/portal/index.php?id=21849&option=com_content&view=article) - Estudo analisa casos notificados de estupro\r\n",
        "\r\n",
        "[Agência Brasil](https://agenciabrasil.ebc.com.br/direitos-humanos/noticia/2016-09/machismo-leva-culpabilizacao-da-vitima-de-violencia-sexual-diz) - Machismo leva à culpabilização da vítima de violência sexual, diz especialista\r\n",
        "\r\n",
        "\r\n",
        "\r\n",
        "\r\n"
      ]
    },
    {
      "cell_type": "markdown",
      "metadata": {
        "id": "aX4Wn6QcL3bM"
      },
      "source": [
        "# Outras Análises"
      ]
    },
    {
      "cell_type": "markdown",
      "metadata": {
        "id": "DdMmAHLnwGT2"
      },
      "source": [
        "Vamos agora utilizar outras duas bases do IBGE, uma com o número de óbitos por aborto e outra com o número de nascimentos por mães jovens."
      ]
    },
    {
      "cell_type": "markdown",
      "metadata": {
        "id": "5unbmExBL_5D"
      },
      "source": [
        "## Importando os dados"
      ]
    },
    {
      "cell_type": "markdown",
      "metadata": {
        "id": "L2EZD48ATTjy"
      },
      "source": [
        "**Óbitos por Aborto**\r\n",
        "\r\n",
        "Fonte: [Tabnet](http://tabnet.datasus.gov.br/cgi/deftohtm.exe?sim/cnv/obt10uf.def)"
      ]
    },
    {
      "cell_type": "markdown",
      "metadata": {
        "id": "ZwcUCDN8w9_l"
      },
      "source": [
        "Para essa base, utilizei como filtro para os óbitos por aborto os CIDs abaixos:"
      ]
    },
    {
      "cell_type": "markdown",
      "metadata": {
        "id": "neokU3rpX8oA"
      },
      "source": [
        "```\r\n",
        "CID O03 (aborto espontâneo)\r\n",
        "CID O04 (aborto por razões médicas e legais)\r\n",
        "CID O05 (outros tipos de aborto)\r\n",
        "CID O06 (aborto não especificado)\r\n",
        "CID O07 (falha de tentativa de aborto)\r\n",
        "```"
      ]
    },
    {
      "cell_type": "code",
      "metadata": {
        "colab": {
          "base_uri": "https://localhost:8080/",
          "height": 197
        },
        "id": "zxQxvEZuUuFg",
        "outputId": "3b6b69cd-f350-4cbc-d62e-e8b0aa8d46f8"
      },
      "source": [
        "obitos = pd.read_csv('https://raw.githubusercontent.com/marcelagomescorrea/bootcamp_alura/main/Modulo_03/datasets/obitos_aborto.csv?raw=true',\r\n",
        "                     encoding='ISO-8859-1', sep=';', header=0,\r\n",
        "                     engine='python', skiprows=4, skipfooter=9)\r\n",
        "\r\n",
        "# removendo a coluna Total\r\n",
        "obitos.drop(['Total'], axis=1, inplace=True)\r\n",
        "# preenchendo os nan values para zero\r\n",
        "obitos = obitos.replace('-',0)\r\n",
        "\r\n",
        "# removendo coluna de anos que não iremos analisar\r\n",
        "# o ano de 2019 possui dados incompletos e por isso não será analisado\r\n",
        "obitos.drop(['1996', '1997', '1998', '1999', '2000', '2019'], axis=1, inplace=True)\r\n",
        "\r\n",
        "obitos['Região'].replace({\r\n",
        "    '1 Região Norte':        'Norte',\r\n",
        "    '2 Região Nordeste':     'Nordeste',\r\n",
        "    '3 Região Sudeste':      'Sudeste',\r\n",
        "    '4 Região Sul':          'Sul',\r\n",
        "    '5 Região Centro-Oeste': 'Centro-Oeste'\r\n",
        "}, inplace=True)\r\n",
        "\r\n",
        "obitos.head()"
      ],
      "execution_count": 44,
      "outputs": [
        {
          "output_type": "execute_result",
          "data": {
            "text/html": [
              "<div>\n",
              "<style scoped>\n",
              "    .dataframe tbody tr th:only-of-type {\n",
              "        vertical-align: middle;\n",
              "    }\n",
              "\n",
              "    .dataframe tbody tr th {\n",
              "        vertical-align: top;\n",
              "    }\n",
              "\n",
              "    .dataframe thead th {\n",
              "        text-align: right;\n",
              "    }\n",
              "</style>\n",
              "<table border=\"1\" class=\"dataframe\">\n",
              "  <thead>\n",
              "    <tr style=\"text-align: right;\">\n",
              "      <th></th>\n",
              "      <th>Região</th>\n",
              "      <th>2001</th>\n",
              "      <th>2002</th>\n",
              "      <th>2003</th>\n",
              "      <th>2004</th>\n",
              "      <th>2005</th>\n",
              "      <th>2006</th>\n",
              "      <th>2007</th>\n",
              "      <th>2008</th>\n",
              "      <th>2009</th>\n",
              "      <th>2010</th>\n",
              "      <th>2011</th>\n",
              "      <th>2012</th>\n",
              "      <th>2013</th>\n",
              "      <th>2014</th>\n",
              "      <th>2015</th>\n",
              "      <th>2016</th>\n",
              "      <th>2017</th>\n",
              "      <th>2018</th>\n",
              "    </tr>\n",
              "  </thead>\n",
              "  <tbody>\n",
              "    <tr>\n",
              "      <th>0</th>\n",
              "      <td>Norte</td>\n",
              "      <td>9</td>\n",
              "      <td>6</td>\n",
              "      <td>10</td>\n",
              "      <td>11</td>\n",
              "      <td>8</td>\n",
              "      <td>9</td>\n",
              "      <td>10</td>\n",
              "      <td>7</td>\n",
              "      <td>8</td>\n",
              "      <td>6</td>\n",
              "      <td>9</td>\n",
              "      <td>10</td>\n",
              "      <td>13</td>\n",
              "      <td>5</td>\n",
              "      <td>9</td>\n",
              "      <td>4</td>\n",
              "      <td>10</td>\n",
              "      <td>14</td>\n",
              "    </tr>\n",
              "    <tr>\n",
              "      <th>1</th>\n",
              "      <td>Nordeste</td>\n",
              "      <td>29</td>\n",
              "      <td>26</td>\n",
              "      <td>35</td>\n",
              "      <td>35</td>\n",
              "      <td>24</td>\n",
              "      <td>31</td>\n",
              "      <td>24</td>\n",
              "      <td>18</td>\n",
              "      <td>29</td>\n",
              "      <td>20</td>\n",
              "      <td>23</td>\n",
              "      <td>18</td>\n",
              "      <td>23</td>\n",
              "      <td>12</td>\n",
              "      <td>24</td>\n",
              "      <td>12</td>\n",
              "      <td>19</td>\n",
              "      <td>16</td>\n",
              "    </tr>\n",
              "    <tr>\n",
              "      <th>2</th>\n",
              "      <td>Sudeste</td>\n",
              "      <td>41</td>\n",
              "      <td>35</td>\n",
              "      <td>36</td>\n",
              "      <td>31</td>\n",
              "      <td>36</td>\n",
              "      <td>39</td>\n",
              "      <td>27</td>\n",
              "      <td>39</td>\n",
              "      <td>46</td>\n",
              "      <td>44</td>\n",
              "      <td>36</td>\n",
              "      <td>28</td>\n",
              "      <td>32</td>\n",
              "      <td>24</td>\n",
              "      <td>23</td>\n",
              "      <td>28</td>\n",
              "      <td>30</td>\n",
              "      <td>24</td>\n",
              "    </tr>\n",
              "    <tr>\n",
              "      <th>3</th>\n",
              "      <td>Sul</td>\n",
              "      <td>12</td>\n",
              "      <td>4</td>\n",
              "      <td>7</td>\n",
              "      <td>15</td>\n",
              "      <td>20</td>\n",
              "      <td>8</td>\n",
              "      <td>7</td>\n",
              "      <td>4</td>\n",
              "      <td>9</td>\n",
              "      <td>4</td>\n",
              "      <td>4</td>\n",
              "      <td>7</td>\n",
              "      <td>5</td>\n",
              "      <td>4</td>\n",
              "      <td>7</td>\n",
              "      <td>5</td>\n",
              "      <td>5</td>\n",
              "      <td>4</td>\n",
              "    </tr>\n",
              "    <tr>\n",
              "      <th>4</th>\n",
              "      <td>Centro-Oeste</td>\n",
              "      <td>7</td>\n",
              "      <td>7</td>\n",
              "      <td>4</td>\n",
              "      <td>7</td>\n",
              "      <td>8</td>\n",
              "      <td>5</td>\n",
              "      <td>5</td>\n",
              "      <td>8</td>\n",
              "      <td>6</td>\n",
              "      <td>5</td>\n",
              "      <td>5</td>\n",
              "      <td>6</td>\n",
              "      <td>6</td>\n",
              "      <td>10</td>\n",
              "      <td>9</td>\n",
              "      <td>7</td>\n",
              "      <td>4</td>\n",
              "      <td>10</td>\n",
              "    </tr>\n",
              "  </tbody>\n",
              "</table>\n",
              "</div>"
            ],
            "text/plain": [
              "         Região  2001  2002  2003  2004  ...  2014  2015  2016  2017  2018\n",
              "0         Norte     9     6    10    11  ...     5     9     4    10    14\n",
              "1      Nordeste    29    26    35    35  ...    12    24    12    19    16\n",
              "2       Sudeste    41    35    36    31  ...    24    23    28    30    24\n",
              "3           Sul    12     4     7    15  ...     4     7     5     5     4\n",
              "4  Centro-Oeste     7     7     4     7  ...    10     9     7     4    10\n",
              "\n",
              "[5 rows x 19 columns]"
            ]
          },
          "metadata": {
            "tags": []
          },
          "execution_count": 44
        }
      ]
    },
    {
      "cell_type": "markdown",
      "metadata": {
        "id": "nlnTUb2fTZFk"
      },
      "source": [
        "**Nascimentos de Mães até 20 anos**\r\n",
        "\r\n",
        "Fonte: [SIDRA](https://sidra.ibge.gov.br/tabela/2612)"
      ]
    },
    {
      "cell_type": "markdown",
      "metadata": {
        "id": "oitucx0by5B8"
      },
      "source": [
        "Para informações de nascimentos, utilizei uma base estatística de registro civil do IBGE. Essa base (mais especificamente a tabela 2612), traz dados sobre nascidos vivos, por ano, lugar de residência e faixa etária da mãe."
      ]
    },
    {
      "cell_type": "code",
      "metadata": {
        "colab": {
          "base_uri": "https://localhost:8080/",
          "height": 347
        },
        "id": "Lz0m4TXXFCHn",
        "outputId": "0ff23b8a-32f4-4f12-cc46-e7d01ee3973f"
      },
      "source": [
        "nascimentos = pd.read_csv('https://raw.githubusercontent.com/marcelagomescorrea/bootcamp_alura/main/Modulo_03/datasets/nascimentos.csv?raw=true',\r\n",
        "                     encoding='UTF-8', sep=';', header=0,\r\n",
        "                     engine='python', skiprows=1, skipfooter=11)\r\n",
        "\r\n",
        "# dropando coluna desnecessária\r\n",
        "nascimentos.drop(['Número de nascidos por parto'], axis=1, inplace=True)\r\n",
        "\r\n",
        "# renomeando algumas colunas\r\n",
        "nascimentos.rename(columns={'Grande Região': 'regiao',\r\n",
        "                   'Idade da mãe na ocasião do parto': 'faixa_etaria_mae'},\r\n",
        "                  inplace=True)\r\n",
        "\r\n",
        "nascimentos"
      ],
      "execution_count": 45,
      "outputs": [
        {
          "output_type": "execute_result",
          "data": {
            "text/html": [
              "<div>\n",
              "<style scoped>\n",
              "    .dataframe tbody tr th:only-of-type {\n",
              "        vertical-align: middle;\n",
              "    }\n",
              "\n",
              "    .dataframe tbody tr th {\n",
              "        vertical-align: top;\n",
              "    }\n",
              "\n",
              "    .dataframe thead th {\n",
              "        text-align: right;\n",
              "    }\n",
              "</style>\n",
              "<table border=\"1\" class=\"dataframe\">\n",
              "  <thead>\n",
              "    <tr style=\"text-align: right;\">\n",
              "      <th></th>\n",
              "      <th>regiao</th>\n",
              "      <th>faixa_etaria_mae</th>\n",
              "      <th>2003</th>\n",
              "      <th>2004</th>\n",
              "      <th>2005</th>\n",
              "      <th>2006</th>\n",
              "      <th>2007</th>\n",
              "      <th>2008</th>\n",
              "      <th>2009</th>\n",
              "      <th>2010</th>\n",
              "      <th>2011</th>\n",
              "      <th>2012</th>\n",
              "      <th>2013</th>\n",
              "      <th>2014</th>\n",
              "      <th>2015</th>\n",
              "      <th>2016</th>\n",
              "      <th>2017</th>\n",
              "      <th>2018</th>\n",
              "      <th>2019</th>\n",
              "    </tr>\n",
              "  </thead>\n",
              "  <tbody>\n",
              "    <tr>\n",
              "      <th>0</th>\n",
              "      <td>Norte</td>\n",
              "      <td>Menos de 15 anos</td>\n",
              "      <td>2420</td>\n",
              "      <td>2433</td>\n",
              "      <td>2792</td>\n",
              "      <td>2759</td>\n",
              "      <td>3015</td>\n",
              "      <td>2973</td>\n",
              "      <td>2984</td>\n",
              "      <td>2913</td>\n",
              "      <td>3028</td>\n",
              "      <td>3329</td>\n",
              "      <td>3366</td>\n",
              "      <td>3650</td>\n",
              "      <td>3586</td>\n",
              "      <td>3340</td>\n",
              "      <td>2906</td>\n",
              "      <td>2909</td>\n",
              "      <td>2838</td>\n",
              "    </tr>\n",
              "    <tr>\n",
              "      <th>1</th>\n",
              "      <td>Norte</td>\n",
              "      <td>15 a 19 anos</td>\n",
              "      <td>57859</td>\n",
              "      <td>56473</td>\n",
              "      <td>62120</td>\n",
              "      <td>61992</td>\n",
              "      <td>61913</td>\n",
              "      <td>61272</td>\n",
              "      <td>60094</td>\n",
              "      <td>59380</td>\n",
              "      <td>62985</td>\n",
              "      <td>64401</td>\n",
              "      <td>66271</td>\n",
              "      <td>69094</td>\n",
              "      <td>67556</td>\n",
              "      <td>62744</td>\n",
              "      <td>60472</td>\n",
              "      <td>59448</td>\n",
              "      <td>57192</td>\n",
              "    </tr>\n",
              "    <tr>\n",
              "      <th>2</th>\n",
              "      <td>Nordeste</td>\n",
              "      <td>Menos de 15 anos</td>\n",
              "      <td>6979</td>\n",
              "      <td>6762</td>\n",
              "      <td>7425</td>\n",
              "      <td>8009</td>\n",
              "      <td>7920</td>\n",
              "      <td>8262</td>\n",
              "      <td>8136</td>\n",
              "      <td>8117</td>\n",
              "      <td>8026</td>\n",
              "      <td>8396</td>\n",
              "      <td>8333</td>\n",
              "      <td>8522</td>\n",
              "      <td>8696</td>\n",
              "      <td>8002</td>\n",
              "      <td>7528</td>\n",
              "      <td>7270</td>\n",
              "      <td>6579</td>\n",
              "    </tr>\n",
              "    <tr>\n",
              "      <th>3</th>\n",
              "      <td>Nordeste</td>\n",
              "      <td>15 a 19 anos</td>\n",
              "      <td>185215</td>\n",
              "      <td>188120</td>\n",
              "      <td>196178</td>\n",
              "      <td>185874</td>\n",
              "      <td>180219</td>\n",
              "      <td>174094</td>\n",
              "      <td>164176</td>\n",
              "      <td>158238</td>\n",
              "      <td>162355</td>\n",
              "      <td>160050</td>\n",
              "      <td>157595</td>\n",
              "      <td>160534</td>\n",
              "      <td>160350</td>\n",
              "      <td>150753</td>\n",
              "      <td>146671</td>\n",
              "      <td>141313</td>\n",
              "      <td>130056</td>\n",
              "    </tr>\n",
              "    <tr>\n",
              "      <th>4</th>\n",
              "      <td>Sudeste</td>\n",
              "      <td>Menos de 15 anos</td>\n",
              "      <td>6759</td>\n",
              "      <td>6417</td>\n",
              "      <td>6271</td>\n",
              "      <td>6588</td>\n",
              "      <td>6814</td>\n",
              "      <td>7079</td>\n",
              "      <td>6862</td>\n",
              "      <td>6504</td>\n",
              "      <td>6488</td>\n",
              "      <td>6692</td>\n",
              "      <td>6744</td>\n",
              "      <td>7170</td>\n",
              "      <td>6594</td>\n",
              "      <td>5760</td>\n",
              "      <td>5374</td>\n",
              "      <td>4997</td>\n",
              "      <td>4419</td>\n",
              "    </tr>\n",
              "    <tr>\n",
              "      <th>5</th>\n",
              "      <td>Sudeste</td>\n",
              "      <td>15 a 19 anos</td>\n",
              "      <td>202906</td>\n",
              "      <td>199273</td>\n",
              "      <td>198199</td>\n",
              "      <td>190600</td>\n",
              "      <td>184415</td>\n",
              "      <td>178544</td>\n",
              "      <td>173726</td>\n",
              "      <td>167621</td>\n",
              "      <td>171027</td>\n",
              "      <td>173237</td>\n",
              "      <td>173592</td>\n",
              "      <td>173686</td>\n",
              "      <td>167189</td>\n",
              "      <td>151270</td>\n",
              "      <td>145510</td>\n",
              "      <td>134326</td>\n",
              "      <td>121620</td>\n",
              "    </tr>\n",
              "    <tr>\n",
              "      <th>6</th>\n",
              "      <td>Sul</td>\n",
              "      <td>Menos de 15 anos</td>\n",
              "      <td>2748</td>\n",
              "      <td>2758</td>\n",
              "      <td>2838</td>\n",
              "      <td>2873</td>\n",
              "      <td>2684</td>\n",
              "      <td>2823</td>\n",
              "      <td>2743</td>\n",
              "      <td>2571</td>\n",
              "      <td>2519</td>\n",
              "      <td>2611</td>\n",
              "      <td>2564</td>\n",
              "      <td>2756</td>\n",
              "      <td>2417</td>\n",
              "      <td>2132</td>\n",
              "      <td>1799</td>\n",
              "      <td>1641</td>\n",
              "      <td>1510</td>\n",
              "    </tr>\n",
              "    <tr>\n",
              "      <th>7</th>\n",
              "      <td>Sul</td>\n",
              "      <td>15 a 19 anos</td>\n",
              "      <td>70191</td>\n",
              "      <td>71006</td>\n",
              "      <td>70811</td>\n",
              "      <td>68098</td>\n",
              "      <td>63416</td>\n",
              "      <td>63373</td>\n",
              "      <td>61977</td>\n",
              "      <td>60272</td>\n",
              "      <td>60345</td>\n",
              "      <td>61199</td>\n",
              "      <td>62362</td>\n",
              "      <td>61603</td>\n",
              "      <td>59407</td>\n",
              "      <td>53456</td>\n",
              "      <td>49535</td>\n",
              "      <td>46166</td>\n",
              "      <td>42159</td>\n",
              "    </tr>\n",
              "    <tr>\n",
              "      <th>8</th>\n",
              "      <td>Centro-Oeste</td>\n",
              "      <td>Menos de 15 anos</td>\n",
              "      <td>1897</td>\n",
              "      <td>1815</td>\n",
              "      <td>1938</td>\n",
              "      <td>1906</td>\n",
              "      <td>1814</td>\n",
              "      <td>1964</td>\n",
              "      <td>1869</td>\n",
              "      <td>1810</td>\n",
              "      <td>1685</td>\n",
              "      <td>1740</td>\n",
              "      <td>1856</td>\n",
              "      <td>2003</td>\n",
              "      <td>1840</td>\n",
              "      <td>1695</td>\n",
              "      <td>1497</td>\n",
              "      <td>1385</td>\n",
              "      <td>1327</td>\n",
              "    </tr>\n",
              "    <tr>\n",
              "      <th>9</th>\n",
              "      <td>Centro-Oeste</td>\n",
              "      <td>15 a 19 anos</td>\n",
              "      <td>46080</td>\n",
              "      <td>45145</td>\n",
              "      <td>46091</td>\n",
              "      <td>43828</td>\n",
              "      <td>41318</td>\n",
              "      <td>41312</td>\n",
              "      <td>39720</td>\n",
              "      <td>38742</td>\n",
              "      <td>39278</td>\n",
              "      <td>40251</td>\n",
              "      <td>40788</td>\n",
              "      <td>41931</td>\n",
              "      <td>40313</td>\n",
              "      <td>36626</td>\n",
              "      <td>34402</td>\n",
              "      <td>32999</td>\n",
              "      <td>31643</td>\n",
              "    </tr>\n",
              "  </tbody>\n",
              "</table>\n",
              "</div>"
            ],
            "text/plain": [
              "         regiao  faixa_etaria_mae    2003  ...    2017    2018    2019\n",
              "0         Norte  Menos de 15 anos    2420  ...    2906    2909    2838\n",
              "1         Norte      15 a 19 anos   57859  ...   60472   59448   57192\n",
              "2      Nordeste  Menos de 15 anos    6979  ...    7528    7270    6579\n",
              "3      Nordeste      15 a 19 anos  185215  ...  146671  141313  130056\n",
              "4       Sudeste  Menos de 15 anos    6759  ...    5374    4997    4419\n",
              "5       Sudeste      15 a 19 anos  202906  ...  145510  134326  121620\n",
              "6           Sul  Menos de 15 anos    2748  ...    1799    1641    1510\n",
              "7           Sul      15 a 19 anos   70191  ...   49535   46166   42159\n",
              "8  Centro-Oeste  Menos de 15 anos    1897  ...    1497    1385    1327\n",
              "9  Centro-Oeste      15 a 19 anos   46080  ...   34402   32999   31643\n",
              "\n",
              "[10 rows x 19 columns]"
            ]
          },
          "metadata": {
            "tags": []
          },
          "execution_count": 45
        }
      ]
    },
    {
      "cell_type": "markdown",
      "metadata": {
        "id": "5m2N3L6Tpwvj"
      },
      "source": [
        "## Gravidez na Adolescência"
      ]
    },
    {
      "cell_type": "markdown",
      "metadata": {
        "id": "nSoWhuvy0UcC"
      },
      "source": [
        "Vamos agora analisar o número de nascimentos por mães de até 19 anos para os últimos 19 anos no Brasil. Serão exploradas duas faixas etárias: menos de 15 anos e de 15 a 19 anos."
      ]
    },
    {
      "cell_type": "markdown",
      "metadata": {
        "id": "eC38uZjEuYO8"
      },
      "source": [
        "\r\n",
        "<img src='https://gazetadocerrado.com.br/wp-content/uploads/2017/10/embarazo_adolescentesemana_0-1200x800_c-1.jpg' width=500/>\r\n",
        "\r\n",
        "> Fonte: Gazeta do Cerrado"
      ]
    },
    {
      "cell_type": "code",
      "metadata": {
        "colab": {
          "base_uri": "https://localhost:8080/",
          "height": 197
        },
        "id": "Svh5h_7pWDHd",
        "outputId": "f2a5c947-b661-40f6-818a-99c2f41467b4"
      },
      "source": [
        "nascimentos_melted = nascimentos.melt(id_vars=['regiao', 'faixa_etaria_mae'],\r\n",
        "                      var_name='ano',\r\n",
        "                      value_name='nascimentos')\r\n",
        "nascimentos_melted.head()"
      ],
      "execution_count": 46,
      "outputs": [
        {
          "output_type": "execute_result",
          "data": {
            "text/html": [
              "<div>\n",
              "<style scoped>\n",
              "    .dataframe tbody tr th:only-of-type {\n",
              "        vertical-align: middle;\n",
              "    }\n",
              "\n",
              "    .dataframe tbody tr th {\n",
              "        vertical-align: top;\n",
              "    }\n",
              "\n",
              "    .dataframe thead th {\n",
              "        text-align: right;\n",
              "    }\n",
              "</style>\n",
              "<table border=\"1\" class=\"dataframe\">\n",
              "  <thead>\n",
              "    <tr style=\"text-align: right;\">\n",
              "      <th></th>\n",
              "      <th>regiao</th>\n",
              "      <th>faixa_etaria_mae</th>\n",
              "      <th>ano</th>\n",
              "      <th>nascimentos</th>\n",
              "    </tr>\n",
              "  </thead>\n",
              "  <tbody>\n",
              "    <tr>\n",
              "      <th>0</th>\n",
              "      <td>Norte</td>\n",
              "      <td>Menos de 15 anos</td>\n",
              "      <td>2003</td>\n",
              "      <td>2420</td>\n",
              "    </tr>\n",
              "    <tr>\n",
              "      <th>1</th>\n",
              "      <td>Norte</td>\n",
              "      <td>15 a 19 anos</td>\n",
              "      <td>2003</td>\n",
              "      <td>57859</td>\n",
              "    </tr>\n",
              "    <tr>\n",
              "      <th>2</th>\n",
              "      <td>Nordeste</td>\n",
              "      <td>Menos de 15 anos</td>\n",
              "      <td>2003</td>\n",
              "      <td>6979</td>\n",
              "    </tr>\n",
              "    <tr>\n",
              "      <th>3</th>\n",
              "      <td>Nordeste</td>\n",
              "      <td>15 a 19 anos</td>\n",
              "      <td>2003</td>\n",
              "      <td>185215</td>\n",
              "    </tr>\n",
              "    <tr>\n",
              "      <th>4</th>\n",
              "      <td>Sudeste</td>\n",
              "      <td>Menos de 15 anos</td>\n",
              "      <td>2003</td>\n",
              "      <td>6759</td>\n",
              "    </tr>\n",
              "  </tbody>\n",
              "</table>\n",
              "</div>"
            ],
            "text/plain": [
              "     regiao  faixa_etaria_mae   ano  nascimentos\n",
              "0     Norte  Menos de 15 anos  2003         2420\n",
              "1     Norte      15 a 19 anos  2003        57859\n",
              "2  Nordeste  Menos de 15 anos  2003         6979\n",
              "3  Nordeste      15 a 19 anos  2003       185215\n",
              "4   Sudeste  Menos de 15 anos  2003         6759"
            ]
          },
          "metadata": {
            "tags": []
          },
          "execution_count": 46
        }
      ]
    },
    {
      "cell_type": "code",
      "metadata": {
        "colab": {
          "base_uri": "https://localhost:8080/",
          "height": 616
        },
        "id": "dEpHSTR3V9xt",
        "outputId": "81b59785-e29b-48ea-f6d6-9fd3ed294e8a"
      },
      "source": [
        "fig = make_subplots(rows=2, cols=2, x_title='Ano', y_title='Número de nascimentos',\r\n",
        "        subplot_titles=['<b>Nordeste e Sudeste</b> - Menos de 15 anos',\r\n",
        "                        '<b>Norte, Sul e Centro-Oeste</b> - Menos de 15 anos',\r\n",
        "                        '<b>Nordeste e Sudeste</b> - 15 a 19 anos',\r\n",
        "                        '<b>Norte, Sul e Centro-Oeste</b> - 15 a 19 anos'])\r\n",
        "\r\n",
        "cores = ['red', 'forestgreen', 'dodgerblue', 'gold', 'darkorange']\r\n",
        "regioes = nascimentos_melted['regiao'].unique()\r\n",
        "\r\n",
        "for idx, regiao in enumerate(regioes):\r\n",
        "    dados_regiao_ate_15 = nascimentos_melted.query(f'regiao == \"{regiao}\" & '\\\r\n",
        "                                    'faixa_etaria_mae == \"Menos de 15 anos\"')\r\n",
        "\r\n",
        "    coluna=2\r\n",
        "    if regiao == 'Sudeste' or regiao == 'Nordeste':\r\n",
        "        coluna = 1\r\n",
        "\r\n",
        "    fig.add_trace(go.Scatter(x=dados_regiao_ate_15['ano'],\r\n",
        "                            y=dados_regiao_ate_15['nascimentos'],\r\n",
        "                            text=dados_regiao_ate_15['nascimentos'],\r\n",
        "                            name=regiao,\r\n",
        "                            marker_color=cores[idx]\r\n",
        "                ),row=1,col=coluna)\r\n",
        "\r\n",
        "    dados_regiao_15_a_19 = nascimentos_melted.query(f'regiao == \"{regiao}\" & '\\\r\n",
        "                                    'faixa_etaria_mae == \"15 a 19 anos\"')\r\n",
        "    fig.add_trace(go.Scatter(x=dados_regiao_15_a_19['ano'],\r\n",
        "                            y=dados_regiao_15_a_19['nascimentos'],\r\n",
        "                            text=dados_regiao_15_a_19['nascimentos'],\r\n",
        "                            marker_color=cores[idx],\r\n",
        "                            showlegend=False\r\n",
        "                ),row=2,col=coluna)\r\n",
        "\r\n",
        "fig.update_xaxes(dtick=1)\r\n",
        "fig.update_yaxes(nticks=8)\r\n",
        "fig.update_layout(\r\n",
        "    title_text = '<b>Gravidez na Adolescência</b>: '\\\r\n",
        "                'Nascimentos ao longo dos anos por região',\r\n",
        "    title_font = dict(size=20),\r\n",
        "    template = 'plotly_white',\r\n",
        "    autosize = False,\r\n",
        "    width = 900,\r\n",
        "    height = 600,\r\n",
        ")\r\n",
        "\r\n",
        "fig.show()"
      ],
      "execution_count": 47,
      "outputs": [
        {
          "output_type": "display_data",
          "data": {
            "text/html": [
              "<html>\n",
              "<head><meta charset=\"utf-8\" /></head>\n",
              "<body>\n",
              "    <div>            <script src=\"https://cdnjs.cloudflare.com/ajax/libs/mathjax/2.7.5/MathJax.js?config=TeX-AMS-MML_SVG\"></script><script type=\"text/javascript\">if (window.MathJax) {MathJax.Hub.Config({SVG: {font: \"STIX-Web\"}});}</script>                <script type=\"text/javascript\">window.PlotlyConfig = {MathJaxConfig: 'local'};</script>\n",
              "        <script src=\"https://cdn.plot.ly/plotly-latest.min.js\"></script>                <div id=\"08c62d32-3f67-4659-aeba-207527d9bc5e\" class=\"plotly-graph-div\" style=\"height:600px; width:900px;\"></div>            <script type=\"text/javascript\">                                    window.PLOTLYENV=window.PLOTLYENV || {};                                    if (document.getElementById(\"08c62d32-3f67-4659-aeba-207527d9bc5e\")) {                    Plotly.newPlot(                        \"08c62d32-3f67-4659-aeba-207527d9bc5e\",                        [{\"marker\": {\"color\": \"red\"}, \"name\": \"Norte\", \"text\": [2420.0, 2433.0, 2792.0, 2759.0, 3015.0, 2973.0, 2984.0, 2913.0, 3028.0, 3329.0, 3366.0, 3650.0, 3586.0, 3340.0, 2906.0, 2909.0, 2838.0], \"type\": \"scatter\", \"x\": [\"2003\", \"2004\", \"2005\", \"2006\", \"2007\", \"2008\", \"2009\", \"2010\", \"2011\", \"2012\", \"2013\", \"2014\", \"2015\", \"2016\", \"2017\", \"2018\", \"2019\"], \"xaxis\": \"x2\", \"y\": [2420, 2433, 2792, 2759, 3015, 2973, 2984, 2913, 3028, 3329, 3366, 3650, 3586, 3340, 2906, 2909, 2838], \"yaxis\": \"y2\"}, {\"marker\": {\"color\": \"red\"}, \"showlegend\": false, \"text\": [57859.0, 56473.0, 62120.0, 61992.0, 61913.0, 61272.0, 60094.0, 59380.0, 62985.0, 64401.0, 66271.0, 69094.0, 67556.0, 62744.0, 60472.0, 59448.0, 57192.0], \"type\": \"scatter\", \"x\": [\"2003\", \"2004\", \"2005\", \"2006\", \"2007\", \"2008\", \"2009\", \"2010\", \"2011\", \"2012\", \"2013\", \"2014\", \"2015\", \"2016\", \"2017\", \"2018\", \"2019\"], \"xaxis\": \"x4\", \"y\": [57859, 56473, 62120, 61992, 61913, 61272, 60094, 59380, 62985, 64401, 66271, 69094, 67556, 62744, 60472, 59448, 57192], \"yaxis\": \"y4\"}, {\"marker\": {\"color\": \"forestgreen\"}, \"name\": \"Nordeste\", \"text\": [6979.0, 6762.0, 7425.0, 8009.0, 7920.0, 8262.0, 8136.0, 8117.0, 8026.0, 8396.0, 8333.0, 8522.0, 8696.0, 8002.0, 7528.0, 7270.0, 6579.0], \"type\": \"scatter\", \"x\": [\"2003\", \"2004\", \"2005\", \"2006\", \"2007\", \"2008\", \"2009\", \"2010\", \"2011\", \"2012\", \"2013\", \"2014\", \"2015\", \"2016\", \"2017\", \"2018\", \"2019\"], \"xaxis\": \"x\", \"y\": [6979, 6762, 7425, 8009, 7920, 8262, 8136, 8117, 8026, 8396, 8333, 8522, 8696, 8002, 7528, 7270, 6579], \"yaxis\": \"y\"}, {\"marker\": {\"color\": \"forestgreen\"}, \"showlegend\": false, \"text\": [185215.0, 188120.0, 196178.0, 185874.0, 180219.0, 174094.0, 164176.0, 158238.0, 162355.0, 160050.0, 157595.0, 160534.0, 160350.0, 150753.0, 146671.0, 141313.0, 130056.0], \"type\": \"scatter\", \"x\": [\"2003\", \"2004\", \"2005\", \"2006\", \"2007\", \"2008\", \"2009\", \"2010\", \"2011\", \"2012\", \"2013\", \"2014\", \"2015\", \"2016\", \"2017\", \"2018\", \"2019\"], \"xaxis\": \"x3\", \"y\": [185215, 188120, 196178, 185874, 180219, 174094, 164176, 158238, 162355, 160050, 157595, 160534, 160350, 150753, 146671, 141313, 130056], \"yaxis\": \"y3\"}, {\"marker\": {\"color\": \"dodgerblue\"}, \"name\": \"Sudeste\", \"text\": [6759.0, 6417.0, 6271.0, 6588.0, 6814.0, 7079.0, 6862.0, 6504.0, 6488.0, 6692.0, 6744.0, 7170.0, 6594.0, 5760.0, 5374.0, 4997.0, 4419.0], \"type\": \"scatter\", \"x\": [\"2003\", \"2004\", \"2005\", \"2006\", \"2007\", \"2008\", \"2009\", \"2010\", \"2011\", \"2012\", \"2013\", \"2014\", \"2015\", \"2016\", \"2017\", \"2018\", \"2019\"], \"xaxis\": \"x\", \"y\": [6759, 6417, 6271, 6588, 6814, 7079, 6862, 6504, 6488, 6692, 6744, 7170, 6594, 5760, 5374, 4997, 4419], \"yaxis\": \"y\"}, {\"marker\": {\"color\": \"dodgerblue\"}, \"showlegend\": false, \"text\": [202906.0, 199273.0, 198199.0, 190600.0, 184415.0, 178544.0, 173726.0, 167621.0, 171027.0, 173237.0, 173592.0, 173686.0, 167189.0, 151270.0, 145510.0, 134326.0, 121620.0], \"type\": \"scatter\", \"x\": [\"2003\", \"2004\", \"2005\", \"2006\", \"2007\", \"2008\", \"2009\", \"2010\", \"2011\", \"2012\", \"2013\", \"2014\", \"2015\", \"2016\", \"2017\", \"2018\", \"2019\"], \"xaxis\": \"x3\", \"y\": [202906, 199273, 198199, 190600, 184415, 178544, 173726, 167621, 171027, 173237, 173592, 173686, 167189, 151270, 145510, 134326, 121620], \"yaxis\": \"y3\"}, {\"marker\": {\"color\": \"gold\"}, \"name\": \"Sul\", \"text\": [2748.0, 2758.0, 2838.0, 2873.0, 2684.0, 2823.0, 2743.0, 2571.0, 2519.0, 2611.0, 2564.0, 2756.0, 2417.0, 2132.0, 1799.0, 1641.0, 1510.0], \"type\": \"scatter\", \"x\": [\"2003\", \"2004\", \"2005\", \"2006\", \"2007\", \"2008\", \"2009\", \"2010\", \"2011\", \"2012\", \"2013\", \"2014\", \"2015\", \"2016\", \"2017\", \"2018\", \"2019\"], \"xaxis\": \"x2\", \"y\": [2748, 2758, 2838, 2873, 2684, 2823, 2743, 2571, 2519, 2611, 2564, 2756, 2417, 2132, 1799, 1641, 1510], \"yaxis\": \"y2\"}, {\"marker\": {\"color\": \"gold\"}, \"showlegend\": false, \"text\": [70191.0, 71006.0, 70811.0, 68098.0, 63416.0, 63373.0, 61977.0, 60272.0, 60345.0, 61199.0, 62362.0, 61603.0, 59407.0, 53456.0, 49535.0, 46166.0, 42159.0], \"type\": \"scatter\", \"x\": [\"2003\", \"2004\", \"2005\", \"2006\", \"2007\", \"2008\", \"2009\", \"2010\", \"2011\", \"2012\", \"2013\", \"2014\", \"2015\", \"2016\", \"2017\", \"2018\", \"2019\"], \"xaxis\": \"x4\", \"y\": [70191, 71006, 70811, 68098, 63416, 63373, 61977, 60272, 60345, 61199, 62362, 61603, 59407, 53456, 49535, 46166, 42159], \"yaxis\": \"y4\"}, {\"marker\": {\"color\": \"darkorange\"}, \"name\": \"Centro-Oeste\", \"text\": [1897.0, 1815.0, 1938.0, 1906.0, 1814.0, 1964.0, 1869.0, 1810.0, 1685.0, 1740.0, 1856.0, 2003.0, 1840.0, 1695.0, 1497.0, 1385.0, 1327.0], \"type\": \"scatter\", \"x\": [\"2003\", \"2004\", \"2005\", \"2006\", \"2007\", \"2008\", \"2009\", \"2010\", \"2011\", \"2012\", \"2013\", \"2014\", \"2015\", \"2016\", \"2017\", \"2018\", \"2019\"], \"xaxis\": \"x2\", \"y\": [1897, 1815, 1938, 1906, 1814, 1964, 1869, 1810, 1685, 1740, 1856, 2003, 1840, 1695, 1497, 1385, 1327], \"yaxis\": \"y2\"}, {\"marker\": {\"color\": \"darkorange\"}, \"showlegend\": false, \"text\": [46080.0, 45145.0, 46091.0, 43828.0, 41318.0, 41312.0, 39720.0, 38742.0, 39278.0, 40251.0, 40788.0, 41931.0, 40313.0, 36626.0, 34402.0, 32999.0, 31643.0], \"type\": \"scatter\", \"x\": [\"2003\", \"2004\", \"2005\", \"2006\", \"2007\", \"2008\", \"2009\", \"2010\", \"2011\", \"2012\", \"2013\", \"2014\", \"2015\", \"2016\", \"2017\", \"2018\", \"2019\"], \"xaxis\": \"x4\", \"y\": [46080, 45145, 46091, 43828, 41318, 41312, 39720, 38742, 39278, 40251, 40788, 41931, 40313, 36626, 34402, 32999, 31643], \"yaxis\": \"y4\"}],                        {\"annotations\": [{\"font\": {\"size\": 16}, \"showarrow\": false, \"text\": \"<b>Nordeste e Sudeste</b> - Menos de 15 anos\", \"x\": 0.225, \"xanchor\": \"center\", \"xref\": \"paper\", \"y\": 1.0, \"yanchor\": \"bottom\", \"yref\": \"paper\"}, {\"font\": {\"size\": 16}, \"showarrow\": false, \"text\": \"<b>Norte, Sul e Centro-Oeste</b> - Menos de 15 anos\", \"x\": 0.775, \"xanchor\": \"center\", \"xref\": \"paper\", \"y\": 1.0, \"yanchor\": \"bottom\", \"yref\": \"paper\"}, {\"font\": {\"size\": 16}, \"showarrow\": false, \"text\": \"<b>Nordeste e Sudeste</b> - 15 a 19 anos\", \"x\": 0.225, \"xanchor\": \"center\", \"xref\": \"paper\", \"y\": 0.375, \"yanchor\": \"bottom\", \"yref\": \"paper\"}, {\"font\": {\"size\": 16}, \"showarrow\": false, \"text\": \"<b>Norte, Sul e Centro-Oeste</b> - 15 a 19 anos\", \"x\": 0.775, \"xanchor\": \"center\", \"xref\": \"paper\", \"y\": 0.375, \"yanchor\": \"bottom\", \"yref\": \"paper\"}, {\"font\": {\"size\": 16}, \"showarrow\": false, \"text\": \"Ano\", \"x\": 0.5, \"xanchor\": \"center\", \"xref\": \"paper\", \"y\": 0, \"yanchor\": \"top\", \"yref\": \"paper\", \"yshift\": -30}, {\"font\": {\"size\": 16}, \"showarrow\": false, \"text\": \"N\\u00famero de nascimentos\", \"textangle\": -90, \"x\": 0, \"xanchor\": \"right\", \"xref\": \"paper\", \"xshift\": -40, \"y\": 0.5, \"yanchor\": \"middle\", \"yref\": \"paper\"}], \"autosize\": false, \"height\": 600, \"template\": {\"data\": {\"bar\": [{\"error_x\": {\"color\": \"#2a3f5f\"}, \"error_y\": {\"color\": \"#2a3f5f\"}, \"marker\": {\"line\": {\"color\": \"white\", \"width\": 0.5}}, \"type\": \"bar\"}], \"barpolar\": [{\"marker\": {\"line\": {\"color\": \"white\", \"width\": 0.5}}, \"type\": \"barpolar\"}], \"carpet\": [{\"aaxis\": {\"endlinecolor\": \"#2a3f5f\", \"gridcolor\": \"#C8D4E3\", \"linecolor\": \"#C8D4E3\", \"minorgridcolor\": \"#C8D4E3\", \"startlinecolor\": \"#2a3f5f\"}, \"baxis\": {\"endlinecolor\": \"#2a3f5f\", \"gridcolor\": \"#C8D4E3\", \"linecolor\": \"#C8D4E3\", \"minorgridcolor\": \"#C8D4E3\", \"startlinecolor\": \"#2a3f5f\"}, \"type\": \"carpet\"}], \"choropleth\": [{\"colorbar\": {\"outlinewidth\": 0, \"ticks\": \"\"}, \"type\": \"choropleth\"}], \"contour\": [{\"colorbar\": {\"outlinewidth\": 0, \"ticks\": \"\"}, \"colorscale\": [[0.0, \"#0d0887\"], [0.1111111111111111, \"#46039f\"], [0.2222222222222222, \"#7201a8\"], [0.3333333333333333, \"#9c179e\"], [0.4444444444444444, \"#bd3786\"], [0.5555555555555556, \"#d8576b\"], [0.6666666666666666, \"#ed7953\"], [0.7777777777777778, \"#fb9f3a\"], [0.8888888888888888, \"#fdca26\"], [1.0, \"#f0f921\"]], \"type\": \"contour\"}], \"contourcarpet\": [{\"colorbar\": {\"outlinewidth\": 0, \"ticks\": \"\"}, \"type\": \"contourcarpet\"}], \"heatmap\": [{\"colorbar\": {\"outlinewidth\": 0, \"ticks\": \"\"}, \"colorscale\": [[0.0, \"#0d0887\"], [0.1111111111111111, \"#46039f\"], [0.2222222222222222, \"#7201a8\"], [0.3333333333333333, \"#9c179e\"], [0.4444444444444444, \"#bd3786\"], [0.5555555555555556, \"#d8576b\"], [0.6666666666666666, \"#ed7953\"], [0.7777777777777778, \"#fb9f3a\"], [0.8888888888888888, \"#fdca26\"], [1.0, \"#f0f921\"]], \"type\": \"heatmap\"}], \"heatmapgl\": [{\"colorbar\": {\"outlinewidth\": 0, \"ticks\": \"\"}, \"colorscale\": [[0.0, \"#0d0887\"], [0.1111111111111111, \"#46039f\"], [0.2222222222222222, \"#7201a8\"], [0.3333333333333333, \"#9c179e\"], [0.4444444444444444, \"#bd3786\"], [0.5555555555555556, \"#d8576b\"], [0.6666666666666666, \"#ed7953\"], [0.7777777777777778, \"#fb9f3a\"], [0.8888888888888888, \"#fdca26\"], [1.0, \"#f0f921\"]], \"type\": \"heatmapgl\"}], \"histogram\": [{\"marker\": {\"colorbar\": {\"outlinewidth\": 0, \"ticks\": \"\"}}, \"type\": \"histogram\"}], \"histogram2d\": [{\"colorbar\": {\"outlinewidth\": 0, \"ticks\": \"\"}, \"colorscale\": [[0.0, \"#0d0887\"], [0.1111111111111111, \"#46039f\"], [0.2222222222222222, \"#7201a8\"], [0.3333333333333333, \"#9c179e\"], [0.4444444444444444, \"#bd3786\"], [0.5555555555555556, \"#d8576b\"], [0.6666666666666666, \"#ed7953\"], [0.7777777777777778, \"#fb9f3a\"], [0.8888888888888888, \"#fdca26\"], [1.0, \"#f0f921\"]], \"type\": \"histogram2d\"}], \"histogram2dcontour\": [{\"colorbar\": {\"outlinewidth\": 0, \"ticks\": \"\"}, \"colorscale\": [[0.0, \"#0d0887\"], [0.1111111111111111, \"#46039f\"], [0.2222222222222222, \"#7201a8\"], [0.3333333333333333, \"#9c179e\"], [0.4444444444444444, \"#bd3786\"], [0.5555555555555556, \"#d8576b\"], [0.6666666666666666, \"#ed7953\"], [0.7777777777777778, \"#fb9f3a\"], [0.8888888888888888, \"#fdca26\"], [1.0, \"#f0f921\"]], \"type\": \"histogram2dcontour\"}], \"mesh3d\": [{\"colorbar\": {\"outlinewidth\": 0, \"ticks\": \"\"}, \"type\": \"mesh3d\"}], \"parcoords\": [{\"line\": {\"colorbar\": {\"outlinewidth\": 0, \"ticks\": \"\"}}, \"type\": \"parcoords\"}], \"pie\": [{\"automargin\": true, \"type\": \"pie\"}], \"scatter\": [{\"marker\": {\"colorbar\": {\"outlinewidth\": 0, \"ticks\": \"\"}}, \"type\": \"scatter\"}], \"scatter3d\": [{\"line\": {\"colorbar\": {\"outlinewidth\": 0, \"ticks\": \"\"}}, \"marker\": {\"colorbar\": {\"outlinewidth\": 0, \"ticks\": \"\"}}, \"type\": \"scatter3d\"}], \"scattercarpet\": [{\"marker\": {\"colorbar\": {\"outlinewidth\": 0, \"ticks\": \"\"}}, \"type\": \"scattercarpet\"}], \"scattergeo\": [{\"marker\": {\"colorbar\": {\"outlinewidth\": 0, \"ticks\": \"\"}}, \"type\": \"scattergeo\"}], \"scattergl\": [{\"marker\": {\"colorbar\": {\"outlinewidth\": 0, \"ticks\": \"\"}}, \"type\": \"scattergl\"}], \"scattermapbox\": [{\"marker\": {\"colorbar\": {\"outlinewidth\": 0, \"ticks\": \"\"}}, \"type\": \"scattermapbox\"}], \"scatterpolar\": [{\"marker\": {\"colorbar\": {\"outlinewidth\": 0, \"ticks\": \"\"}}, \"type\": \"scatterpolar\"}], \"scatterpolargl\": [{\"marker\": {\"colorbar\": {\"outlinewidth\": 0, \"ticks\": \"\"}}, \"type\": \"scatterpolargl\"}], \"scatterternary\": [{\"marker\": {\"colorbar\": {\"outlinewidth\": 0, \"ticks\": \"\"}}, \"type\": \"scatterternary\"}], \"surface\": [{\"colorbar\": {\"outlinewidth\": 0, \"ticks\": \"\"}, \"colorscale\": [[0.0, \"#0d0887\"], [0.1111111111111111, \"#46039f\"], [0.2222222222222222, \"#7201a8\"], [0.3333333333333333, \"#9c179e\"], [0.4444444444444444, \"#bd3786\"], [0.5555555555555556, \"#d8576b\"], [0.6666666666666666, \"#ed7953\"], [0.7777777777777778, \"#fb9f3a\"], [0.8888888888888888, \"#fdca26\"], [1.0, \"#f0f921\"]], \"type\": \"surface\"}], \"table\": [{\"cells\": {\"fill\": {\"color\": \"#EBF0F8\"}, \"line\": {\"color\": \"white\"}}, \"header\": {\"fill\": {\"color\": \"#C8D4E3\"}, \"line\": {\"color\": \"white\"}}, \"type\": \"table\"}]}, \"layout\": {\"annotationdefaults\": {\"arrowcolor\": \"#2a3f5f\", \"arrowhead\": 0, \"arrowwidth\": 1}, \"coloraxis\": {\"colorbar\": {\"outlinewidth\": 0, \"ticks\": \"\"}}, \"colorscale\": {\"diverging\": [[0, \"#8e0152\"], [0.1, \"#c51b7d\"], [0.2, \"#de77ae\"], [0.3, \"#f1b6da\"], [0.4, \"#fde0ef\"], [0.5, \"#f7f7f7\"], [0.6, \"#e6f5d0\"], [0.7, \"#b8e186\"], [0.8, \"#7fbc41\"], [0.9, \"#4d9221\"], [1, \"#276419\"]], \"sequential\": [[0.0, \"#0d0887\"], [0.1111111111111111, \"#46039f\"], [0.2222222222222222, \"#7201a8\"], [0.3333333333333333, \"#9c179e\"], [0.4444444444444444, \"#bd3786\"], [0.5555555555555556, \"#d8576b\"], [0.6666666666666666, \"#ed7953\"], [0.7777777777777778, \"#fb9f3a\"], [0.8888888888888888, \"#fdca26\"], [1.0, \"#f0f921\"]], \"sequentialminus\": [[0.0, \"#0d0887\"], [0.1111111111111111, \"#46039f\"], [0.2222222222222222, \"#7201a8\"], [0.3333333333333333, \"#9c179e\"], [0.4444444444444444, \"#bd3786\"], [0.5555555555555556, \"#d8576b\"], [0.6666666666666666, \"#ed7953\"], [0.7777777777777778, \"#fb9f3a\"], [0.8888888888888888, \"#fdca26\"], [1.0, \"#f0f921\"]]}, \"colorway\": [\"#636efa\", \"#EF553B\", \"#00cc96\", \"#ab63fa\", \"#FFA15A\", \"#19d3f3\", \"#FF6692\", \"#B6E880\", \"#FF97FF\", \"#FECB52\"], \"font\": {\"color\": \"#2a3f5f\"}, \"geo\": {\"bgcolor\": \"white\", \"lakecolor\": \"white\", \"landcolor\": \"white\", \"showlakes\": true, \"showland\": true, \"subunitcolor\": \"#C8D4E3\"}, \"hoverlabel\": {\"align\": \"left\"}, \"hovermode\": \"closest\", \"mapbox\": {\"style\": \"light\"}, \"paper_bgcolor\": \"white\", \"plot_bgcolor\": \"white\", \"polar\": {\"angularaxis\": {\"gridcolor\": \"#EBF0F8\", \"linecolor\": \"#EBF0F8\", \"ticks\": \"\"}, \"bgcolor\": \"white\", \"radialaxis\": {\"gridcolor\": \"#EBF0F8\", \"linecolor\": \"#EBF0F8\", \"ticks\": \"\"}}, \"scene\": {\"xaxis\": {\"backgroundcolor\": \"white\", \"gridcolor\": \"#DFE8F3\", \"gridwidth\": 2, \"linecolor\": \"#EBF0F8\", \"showbackground\": true, \"ticks\": \"\", \"zerolinecolor\": \"#EBF0F8\"}, \"yaxis\": {\"backgroundcolor\": \"white\", \"gridcolor\": \"#DFE8F3\", \"gridwidth\": 2, \"linecolor\": \"#EBF0F8\", \"showbackground\": true, \"ticks\": \"\", \"zerolinecolor\": \"#EBF0F8\"}, \"zaxis\": {\"backgroundcolor\": \"white\", \"gridcolor\": \"#DFE8F3\", \"gridwidth\": 2, \"linecolor\": \"#EBF0F8\", \"showbackground\": true, \"ticks\": \"\", \"zerolinecolor\": \"#EBF0F8\"}}, \"shapedefaults\": {\"line\": {\"color\": \"#2a3f5f\"}}, \"ternary\": {\"aaxis\": {\"gridcolor\": \"#DFE8F3\", \"linecolor\": \"#A2B1C6\", \"ticks\": \"\"}, \"baxis\": {\"gridcolor\": \"#DFE8F3\", \"linecolor\": \"#A2B1C6\", \"ticks\": \"\"}, \"bgcolor\": \"white\", \"caxis\": {\"gridcolor\": \"#DFE8F3\", \"linecolor\": \"#A2B1C6\", \"ticks\": \"\"}}, \"title\": {\"x\": 0.05}, \"xaxis\": {\"automargin\": true, \"gridcolor\": \"#EBF0F8\", \"linecolor\": \"#EBF0F8\", \"ticks\": \"\", \"title\": {\"standoff\": 15}, \"zerolinecolor\": \"#EBF0F8\", \"zerolinewidth\": 2}, \"yaxis\": {\"automargin\": true, \"gridcolor\": \"#EBF0F8\", \"linecolor\": \"#EBF0F8\", \"ticks\": \"\", \"title\": {\"standoff\": 15}, \"zerolinecolor\": \"#EBF0F8\", \"zerolinewidth\": 2}}}, \"title\": {\"font\": {\"size\": 20}, \"text\": \"<b>Gravidez na Adolesc\\u00eancia</b>: Nascimentos ao longo dos anos por regi\\u00e3o\"}, \"width\": 900, \"xaxis\": {\"anchor\": \"y\", \"domain\": [0.0, 0.45], \"dtick\": 1}, \"xaxis2\": {\"anchor\": \"y2\", \"domain\": [0.55, 1.0], \"dtick\": 1}, \"xaxis3\": {\"anchor\": \"y3\", \"domain\": [0.0, 0.45], \"dtick\": 1}, \"xaxis4\": {\"anchor\": \"y4\", \"domain\": [0.55, 1.0], \"dtick\": 1}, \"yaxis\": {\"anchor\": \"x\", \"domain\": [0.625, 1.0], \"nticks\": 8}, \"yaxis2\": {\"anchor\": \"x2\", \"domain\": [0.625, 1.0], \"nticks\": 8}, \"yaxis3\": {\"anchor\": \"x3\", \"domain\": [0.0, 0.375], \"nticks\": 8}, \"yaxis4\": {\"anchor\": \"x4\", \"domain\": [0.0, 0.375], \"nticks\": 8}},                        {\"responsive\": true}                    ).then(function(){\n",
              "                            \n",
              "var gd = document.getElementById('08c62d32-3f67-4659-aeba-207527d9bc5e');\n",
              "var x = new MutationObserver(function (mutations, observer) {{\n",
              "        var display = window.getComputedStyle(gd).display;\n",
              "        if (!display || display === 'none') {{\n",
              "            console.log([gd, 'removed!']);\n",
              "            Plotly.purge(gd);\n",
              "            observer.disconnect();\n",
              "        }}\n",
              "}});\n",
              "\n",
              "// Listen for the removal of the full notebook cells\n",
              "var notebookContainer = gd.closest('#notebook-container');\n",
              "if (notebookContainer) {{\n",
              "    x.observe(notebookContainer, {childList: true});\n",
              "}}\n",
              "\n",
              "// Listen for the clearing of the current output cell\n",
              "var outputEl = gd.closest('.output');\n",
              "if (outputEl) {{\n",
              "    x.observe(outputEl, {childList: true});\n",
              "}}\n",
              "\n",
              "                        })                };                            </script>        </div>\n",
              "</body>\n",
              "</html>"
            ]
          },
          "metadata": {
            "tags": []
          }
        }
      ]
    },
    {
      "cell_type": "markdown",
      "metadata": {
        "id": "yMR2qFBw2KuB"
      },
      "source": [
        "Para melhor visualização de possíveis tendências, separei as regiões em dois grupos por semelhança: 1) nordeste e sudeste, e 2) norte, sul e centro-oeste.\r\n",
        "\r\n",
        "Ao analisarmos os gráficos de linha, para a faixa de 15 a 19 anos no grupo 1 (nordeste e sudeste), percebemos uma queda quase constante ao longo dos anos. Para essa mesma faixa, mas para o grupo 2 (norte, sul e centro-oeste) até há uma tendência de queda, mas bem mais sutil.\r\n",
        "\r\n",
        "Já para a faixa de menos de 15 anos para o primeiro grupo, vemos que há um padrão de leve crescimento até pelo menos 2014-2015, seguido por uma grande queda. No grupo 2 para essa mesma faixa, o crescimento só é notado na região Norte, enquanto que nas outras regiões os números são quase constantes até 2014, após esse ano, as três regiões apresentam queda.\r\n",
        "\r\n",
        "Realizei uma breve busca para procurar algum fato indicativo das quedas pós 2014 e não consegui achar nada relevante. Apesar disso, assusta ver que são números consideráveis de mães jovens todos os anos no Brasil.\r\n",
        "\r\n"
      ]
    },
    {
      "cell_type": "markdown",
      "metadata": {
        "id": "2Yey7BCfr56d"
      },
      "source": [
        "## Óbitos por Aborto"
      ]
    },
    {
      "cell_type": "markdown",
      "metadata": {
        "id": "cWveA41l0GZR"
      },
      "source": [
        "Nossa última análise verificará como estão o número de óbitos por aborto no Brasil nos últimos 20 anos."
      ]
    },
    {
      "cell_type": "markdown",
      "metadata": {
        "id": "LIfrKs-e0CIO"
      },
      "source": [
        "\r\n",
        "<img src='https://imagens.ebc.com.br/2qPCACAl4KOrAJ2AaeUhPx0UFvE=/1170x700/smart/https://agenciabrasil.ebc.com.br/sites/default/files/thumbnails/image/ffrazabr_220618313.jpg?itok=GQK4-7qA' width=600/>\r\n",
        "\r\n",
        "> Fonte: Agência Brasil"
      ]
    },
    {
      "cell_type": "code",
      "metadata": {
        "colab": {
          "base_uri": "https://localhost:8080/",
          "height": 197
        },
        "id": "Hz-owBYhyHAP",
        "outputId": "6ffb84e2-ea1e-45d5-f935-c26383a78124"
      },
      "source": [
        "obitos_melted = obitos.melt(id_vars=['Região'],\r\n",
        "                      var_name='ano',\r\n",
        "                      value_name='obitos')\r\n",
        "obitos_melted.head()"
      ],
      "execution_count": 48,
      "outputs": [
        {
          "output_type": "execute_result",
          "data": {
            "text/html": [
              "<div>\n",
              "<style scoped>\n",
              "    .dataframe tbody tr th:only-of-type {\n",
              "        vertical-align: middle;\n",
              "    }\n",
              "\n",
              "    .dataframe tbody tr th {\n",
              "        vertical-align: top;\n",
              "    }\n",
              "\n",
              "    .dataframe thead th {\n",
              "        text-align: right;\n",
              "    }\n",
              "</style>\n",
              "<table border=\"1\" class=\"dataframe\">\n",
              "  <thead>\n",
              "    <tr style=\"text-align: right;\">\n",
              "      <th></th>\n",
              "      <th>Região</th>\n",
              "      <th>ano</th>\n",
              "      <th>obitos</th>\n",
              "    </tr>\n",
              "  </thead>\n",
              "  <tbody>\n",
              "    <tr>\n",
              "      <th>0</th>\n",
              "      <td>Norte</td>\n",
              "      <td>2001</td>\n",
              "      <td>9</td>\n",
              "    </tr>\n",
              "    <tr>\n",
              "      <th>1</th>\n",
              "      <td>Nordeste</td>\n",
              "      <td>2001</td>\n",
              "      <td>29</td>\n",
              "    </tr>\n",
              "    <tr>\n",
              "      <th>2</th>\n",
              "      <td>Sudeste</td>\n",
              "      <td>2001</td>\n",
              "      <td>41</td>\n",
              "    </tr>\n",
              "    <tr>\n",
              "      <th>3</th>\n",
              "      <td>Sul</td>\n",
              "      <td>2001</td>\n",
              "      <td>12</td>\n",
              "    </tr>\n",
              "    <tr>\n",
              "      <th>4</th>\n",
              "      <td>Centro-Oeste</td>\n",
              "      <td>2001</td>\n",
              "      <td>7</td>\n",
              "    </tr>\n",
              "  </tbody>\n",
              "</table>\n",
              "</div>"
            ],
            "text/plain": [
              "         Região   ano  obitos\n",
              "0         Norte  2001       9\n",
              "1      Nordeste  2001      29\n",
              "2       Sudeste  2001      41\n",
              "3           Sul  2001      12\n",
              "4  Centro-Oeste  2001       7"
            ]
          },
          "metadata": {
            "tags": []
          },
          "execution_count": 48
        }
      ]
    },
    {
      "cell_type": "code",
      "metadata": {
        "colab": {
          "base_uri": "https://localhost:8080/",
          "height": 616
        },
        "id": "ev1HlWx7UuBh",
        "outputId": "b6195c70-b73f-4f80-b61a-61bd838e2b3d"
      },
      "source": [
        "fig = make_subplots(rows=2, cols=1, x_title='Ano', y_title='Número de óbitos',\r\n",
        "                    subplot_titles=['Sudeste e Nordeste',\r\n",
        "                                    'Norte, Sul e Centro-Oeste'])\r\n",
        "\r\n",
        "cores = ['red', 'forestgreen', 'dodgerblue', 'gold', 'darkorange']\r\n",
        "regioes = obitos_melted['Região'].unique()\r\n",
        "\r\n",
        "for idx, regiao in enumerate(regioes):\r\n",
        "    dados_regiao = obitos_melted.query(f'Região == \"{regiao}\"')\r\n",
        "    \r\n",
        "    linha=2\r\n",
        "    if regiao == 'Sudeste' or regiao == 'Nordeste':\r\n",
        "        linha = 1\r\n",
        "\r\n",
        "    fig.add_trace(go.Scatter(x=dados_regiao['ano'],\r\n",
        "                         y=dados_regiao['obitos'],\r\n",
        "                         text=dados_regiao['obitos'],\r\n",
        "                         name=regiao\r\n",
        "                  ),row=linha,col=1)\r\n",
        "\r\n",
        "fig.update_xaxes(dtick=1)\r\n",
        "fig.update_yaxes(nticks=10)\r\n",
        "fig.update_layout(\r\n",
        "    title_text = '<b>Óbitos por Aborto</b>: '\\\r\n",
        "                'Mortes por Aborto ao longo dos anos por região',\r\n",
        "    template = 'plotly_white',\r\n",
        "    autosize = False,\r\n",
        "    width = 850,\r\n",
        "    height = 600,\r\n",
        ")\r\n",
        "\r\n",
        "fig.show()"
      ],
      "execution_count": 49,
      "outputs": [
        {
          "output_type": "display_data",
          "data": {
            "text/html": [
              "<html>\n",
              "<head><meta charset=\"utf-8\" /></head>\n",
              "<body>\n",
              "    <div>            <script src=\"https://cdnjs.cloudflare.com/ajax/libs/mathjax/2.7.5/MathJax.js?config=TeX-AMS-MML_SVG\"></script><script type=\"text/javascript\">if (window.MathJax) {MathJax.Hub.Config({SVG: {font: \"STIX-Web\"}});}</script>                <script type=\"text/javascript\">window.PlotlyConfig = {MathJaxConfig: 'local'};</script>\n",
              "        <script src=\"https://cdn.plot.ly/plotly-latest.min.js\"></script>                <div id=\"378c3244-03e4-41df-a3e5-3547620da59c\" class=\"plotly-graph-div\" style=\"height:600px; width:850px;\"></div>            <script type=\"text/javascript\">                                    window.PLOTLYENV=window.PLOTLYENV || {};                                    if (document.getElementById(\"378c3244-03e4-41df-a3e5-3547620da59c\")) {                    Plotly.newPlot(                        \"378c3244-03e4-41df-a3e5-3547620da59c\",                        [{\"name\": \"Norte\", \"text\": [9.0, 6.0, 10.0, 11.0, 8.0, 9.0, 10.0, 7.0, 8.0, 6.0, 9.0, 10.0, 13.0, 5.0, 9.0, 4.0, 10.0, 14.0], \"type\": \"scatter\", \"x\": [\"2001\", \"2002\", \"2003\", \"2004\", \"2005\", \"2006\", \"2007\", \"2008\", \"2009\", \"2010\", \"2011\", \"2012\", \"2013\", \"2014\", \"2015\", \"2016\", \"2017\", \"2018\"], \"xaxis\": \"x2\", \"y\": [9, 6, 10, 11, 8, 9, 10, 7, 8, 6, 9, 10, 13, 5, 9, 4, 10, 14], \"yaxis\": \"y2\"}, {\"name\": \"Nordeste\", \"text\": [29.0, 26.0, 35.0, 35.0, 24.0, 31.0, 24.0, 18.0, 29.0, 20.0, 23.0, 18.0, 23.0, 12.0, 24.0, 12.0, 19.0, 16.0], \"type\": \"scatter\", \"x\": [\"2001\", \"2002\", \"2003\", \"2004\", \"2005\", \"2006\", \"2007\", \"2008\", \"2009\", \"2010\", \"2011\", \"2012\", \"2013\", \"2014\", \"2015\", \"2016\", \"2017\", \"2018\"], \"xaxis\": \"x\", \"y\": [29, 26, 35, 35, 24, 31, 24, 18, 29, 20, 23, 18, 23, 12, 24, 12, 19, 16], \"yaxis\": \"y\"}, {\"name\": \"Sudeste\", \"text\": [41.0, 35.0, 36.0, 31.0, 36.0, 39.0, 27.0, 39.0, 46.0, 44.0, 36.0, 28.0, 32.0, 24.0, 23.0, 28.0, 30.0, 24.0], \"type\": \"scatter\", \"x\": [\"2001\", \"2002\", \"2003\", \"2004\", \"2005\", \"2006\", \"2007\", \"2008\", \"2009\", \"2010\", \"2011\", \"2012\", \"2013\", \"2014\", \"2015\", \"2016\", \"2017\", \"2018\"], \"xaxis\": \"x\", \"y\": [41, 35, 36, 31, 36, 39, 27, 39, 46, 44, 36, 28, 32, 24, 23, 28, 30, 24], \"yaxis\": \"y\"}, {\"name\": \"Sul\", \"text\": [12.0, 4.0, 7.0, 15.0, 20.0, 8.0, 7.0, 4.0, 9.0, 4.0, 4.0, 7.0, 5.0, 4.0, 7.0, 5.0, 5.0, 4.0], \"type\": \"scatter\", \"x\": [\"2001\", \"2002\", \"2003\", \"2004\", \"2005\", \"2006\", \"2007\", \"2008\", \"2009\", \"2010\", \"2011\", \"2012\", \"2013\", \"2014\", \"2015\", \"2016\", \"2017\", \"2018\"], \"xaxis\": \"x2\", \"y\": [12, 4, 7, 15, 20, 8, 7, 4, 9, 4, 4, 7, 5, 4, 7, 5, 5, 4], \"yaxis\": \"y2\"}, {\"name\": \"Centro-Oeste\", \"text\": [7.0, 7.0, 4.0, 7.0, 8.0, 5.0, 5.0, 8.0, 6.0, 5.0, 5.0, 6.0, 6.0, 10.0, 9.0, 7.0, 4.0, 10.0], \"type\": \"scatter\", \"x\": [\"2001\", \"2002\", \"2003\", \"2004\", \"2005\", \"2006\", \"2007\", \"2008\", \"2009\", \"2010\", \"2011\", \"2012\", \"2013\", \"2014\", \"2015\", \"2016\", \"2017\", \"2018\"], \"xaxis\": \"x2\", \"y\": [7, 7, 4, 7, 8, 5, 5, 8, 6, 5, 5, 6, 6, 10, 9, 7, 4, 10], \"yaxis\": \"y2\"}],                        {\"annotations\": [{\"font\": {\"size\": 16}, \"showarrow\": false, \"text\": \"Sudeste e Nordeste\", \"x\": 0.5, \"xanchor\": \"center\", \"xref\": \"paper\", \"y\": 1.0, \"yanchor\": \"bottom\", \"yref\": \"paper\"}, {\"font\": {\"size\": 16}, \"showarrow\": false, \"text\": \"Norte, Sul e Centro-Oeste\", \"x\": 0.5, \"xanchor\": \"center\", \"xref\": \"paper\", \"y\": 0.375, \"yanchor\": \"bottom\", \"yref\": \"paper\"}, {\"font\": {\"size\": 16}, \"showarrow\": false, \"text\": \"Ano\", \"x\": 0.5, \"xanchor\": \"center\", \"xref\": \"paper\", \"y\": 0, \"yanchor\": \"top\", \"yref\": \"paper\", \"yshift\": -30}, {\"font\": {\"size\": 16}, \"showarrow\": false, \"text\": \"N\\u00famero de \\u00f3bitos\", \"textangle\": -90, \"x\": 0, \"xanchor\": \"right\", \"xref\": \"paper\", \"xshift\": -40, \"y\": 0.5, \"yanchor\": \"middle\", \"yref\": \"paper\"}], \"autosize\": false, \"height\": 600, \"template\": {\"data\": {\"bar\": [{\"error_x\": {\"color\": \"#2a3f5f\"}, \"error_y\": {\"color\": \"#2a3f5f\"}, \"marker\": {\"line\": {\"color\": \"white\", \"width\": 0.5}}, \"type\": \"bar\"}], \"barpolar\": [{\"marker\": {\"line\": {\"color\": \"white\", \"width\": 0.5}}, \"type\": \"barpolar\"}], \"carpet\": [{\"aaxis\": {\"endlinecolor\": \"#2a3f5f\", \"gridcolor\": \"#C8D4E3\", \"linecolor\": \"#C8D4E3\", \"minorgridcolor\": \"#C8D4E3\", \"startlinecolor\": \"#2a3f5f\"}, \"baxis\": {\"endlinecolor\": \"#2a3f5f\", \"gridcolor\": \"#C8D4E3\", \"linecolor\": \"#C8D4E3\", \"minorgridcolor\": \"#C8D4E3\", \"startlinecolor\": \"#2a3f5f\"}, \"type\": \"carpet\"}], \"choropleth\": [{\"colorbar\": {\"outlinewidth\": 0, \"ticks\": \"\"}, \"type\": \"choropleth\"}], \"contour\": [{\"colorbar\": {\"outlinewidth\": 0, \"ticks\": \"\"}, \"colorscale\": [[0.0, \"#0d0887\"], [0.1111111111111111, \"#46039f\"], [0.2222222222222222, \"#7201a8\"], [0.3333333333333333, \"#9c179e\"], [0.4444444444444444, \"#bd3786\"], [0.5555555555555556, \"#d8576b\"], [0.6666666666666666, \"#ed7953\"], [0.7777777777777778, \"#fb9f3a\"], [0.8888888888888888, \"#fdca26\"], [1.0, \"#f0f921\"]], \"type\": \"contour\"}], \"contourcarpet\": [{\"colorbar\": {\"outlinewidth\": 0, \"ticks\": \"\"}, \"type\": \"contourcarpet\"}], \"heatmap\": [{\"colorbar\": {\"outlinewidth\": 0, \"ticks\": \"\"}, \"colorscale\": [[0.0, \"#0d0887\"], [0.1111111111111111, \"#46039f\"], [0.2222222222222222, \"#7201a8\"], [0.3333333333333333, \"#9c179e\"], [0.4444444444444444, \"#bd3786\"], [0.5555555555555556, \"#d8576b\"], [0.6666666666666666, \"#ed7953\"], [0.7777777777777778, \"#fb9f3a\"], [0.8888888888888888, \"#fdca26\"], [1.0, \"#f0f921\"]], \"type\": \"heatmap\"}], \"heatmapgl\": [{\"colorbar\": {\"outlinewidth\": 0, \"ticks\": \"\"}, \"colorscale\": [[0.0, \"#0d0887\"], [0.1111111111111111, \"#46039f\"], [0.2222222222222222, \"#7201a8\"], [0.3333333333333333, \"#9c179e\"], [0.4444444444444444, \"#bd3786\"], [0.5555555555555556, \"#d8576b\"], [0.6666666666666666, \"#ed7953\"], [0.7777777777777778, \"#fb9f3a\"], [0.8888888888888888, \"#fdca26\"], [1.0, \"#f0f921\"]], \"type\": \"heatmapgl\"}], \"histogram\": [{\"marker\": {\"colorbar\": {\"outlinewidth\": 0, \"ticks\": \"\"}}, \"type\": \"histogram\"}], \"histogram2d\": [{\"colorbar\": {\"outlinewidth\": 0, \"ticks\": \"\"}, \"colorscale\": [[0.0, \"#0d0887\"], [0.1111111111111111, \"#46039f\"], [0.2222222222222222, \"#7201a8\"], [0.3333333333333333, \"#9c179e\"], [0.4444444444444444, \"#bd3786\"], [0.5555555555555556, \"#d8576b\"], [0.6666666666666666, \"#ed7953\"], [0.7777777777777778, \"#fb9f3a\"], [0.8888888888888888, \"#fdca26\"], [1.0, \"#f0f921\"]], \"type\": \"histogram2d\"}], \"histogram2dcontour\": [{\"colorbar\": {\"outlinewidth\": 0, \"ticks\": \"\"}, \"colorscale\": [[0.0, \"#0d0887\"], [0.1111111111111111, \"#46039f\"], [0.2222222222222222, \"#7201a8\"], [0.3333333333333333, \"#9c179e\"], [0.4444444444444444, \"#bd3786\"], [0.5555555555555556, \"#d8576b\"], [0.6666666666666666, \"#ed7953\"], [0.7777777777777778, \"#fb9f3a\"], [0.8888888888888888, \"#fdca26\"], [1.0, \"#f0f921\"]], \"type\": \"histogram2dcontour\"}], \"mesh3d\": [{\"colorbar\": {\"outlinewidth\": 0, \"ticks\": \"\"}, \"type\": \"mesh3d\"}], \"parcoords\": [{\"line\": {\"colorbar\": {\"outlinewidth\": 0, \"ticks\": \"\"}}, \"type\": \"parcoords\"}], \"pie\": [{\"automargin\": true, \"type\": \"pie\"}], \"scatter\": [{\"marker\": {\"colorbar\": {\"outlinewidth\": 0, \"ticks\": \"\"}}, \"type\": \"scatter\"}], \"scatter3d\": [{\"line\": {\"colorbar\": {\"outlinewidth\": 0, \"ticks\": \"\"}}, \"marker\": {\"colorbar\": {\"outlinewidth\": 0, \"ticks\": \"\"}}, \"type\": \"scatter3d\"}], \"scattercarpet\": [{\"marker\": {\"colorbar\": {\"outlinewidth\": 0, \"ticks\": \"\"}}, \"type\": \"scattercarpet\"}], \"scattergeo\": [{\"marker\": {\"colorbar\": {\"outlinewidth\": 0, \"ticks\": \"\"}}, \"type\": \"scattergeo\"}], \"scattergl\": [{\"marker\": {\"colorbar\": {\"outlinewidth\": 0, \"ticks\": \"\"}}, \"type\": \"scattergl\"}], \"scattermapbox\": [{\"marker\": {\"colorbar\": {\"outlinewidth\": 0, \"ticks\": \"\"}}, \"type\": \"scattermapbox\"}], \"scatterpolar\": [{\"marker\": {\"colorbar\": {\"outlinewidth\": 0, \"ticks\": \"\"}}, \"type\": \"scatterpolar\"}], \"scatterpolargl\": [{\"marker\": {\"colorbar\": {\"outlinewidth\": 0, \"ticks\": \"\"}}, \"type\": \"scatterpolargl\"}], \"scatterternary\": [{\"marker\": {\"colorbar\": {\"outlinewidth\": 0, \"ticks\": \"\"}}, \"type\": \"scatterternary\"}], \"surface\": [{\"colorbar\": {\"outlinewidth\": 0, \"ticks\": \"\"}, \"colorscale\": [[0.0, \"#0d0887\"], [0.1111111111111111, \"#46039f\"], [0.2222222222222222, \"#7201a8\"], [0.3333333333333333, \"#9c179e\"], [0.4444444444444444, \"#bd3786\"], [0.5555555555555556, \"#d8576b\"], [0.6666666666666666, \"#ed7953\"], [0.7777777777777778, \"#fb9f3a\"], [0.8888888888888888, \"#fdca26\"], [1.0, \"#f0f921\"]], \"type\": \"surface\"}], \"table\": [{\"cells\": {\"fill\": {\"color\": \"#EBF0F8\"}, \"line\": {\"color\": \"white\"}}, \"header\": {\"fill\": {\"color\": \"#C8D4E3\"}, \"line\": {\"color\": \"white\"}}, \"type\": \"table\"}]}, \"layout\": {\"annotationdefaults\": {\"arrowcolor\": \"#2a3f5f\", \"arrowhead\": 0, \"arrowwidth\": 1}, \"coloraxis\": {\"colorbar\": {\"outlinewidth\": 0, \"ticks\": \"\"}}, \"colorscale\": {\"diverging\": [[0, \"#8e0152\"], [0.1, \"#c51b7d\"], [0.2, \"#de77ae\"], [0.3, \"#f1b6da\"], [0.4, \"#fde0ef\"], [0.5, \"#f7f7f7\"], [0.6, \"#e6f5d0\"], [0.7, \"#b8e186\"], [0.8, \"#7fbc41\"], [0.9, \"#4d9221\"], [1, \"#276419\"]], \"sequential\": [[0.0, \"#0d0887\"], [0.1111111111111111, \"#46039f\"], [0.2222222222222222, \"#7201a8\"], [0.3333333333333333, \"#9c179e\"], [0.4444444444444444, \"#bd3786\"], [0.5555555555555556, \"#d8576b\"], [0.6666666666666666, \"#ed7953\"], [0.7777777777777778, \"#fb9f3a\"], [0.8888888888888888, \"#fdca26\"], [1.0, \"#f0f921\"]], \"sequentialminus\": [[0.0, \"#0d0887\"], [0.1111111111111111, \"#46039f\"], [0.2222222222222222, \"#7201a8\"], [0.3333333333333333, \"#9c179e\"], [0.4444444444444444, \"#bd3786\"], [0.5555555555555556, \"#d8576b\"], [0.6666666666666666, \"#ed7953\"], [0.7777777777777778, \"#fb9f3a\"], [0.8888888888888888, \"#fdca26\"], [1.0, \"#f0f921\"]]}, \"colorway\": [\"#636efa\", \"#EF553B\", \"#00cc96\", \"#ab63fa\", \"#FFA15A\", \"#19d3f3\", \"#FF6692\", \"#B6E880\", \"#FF97FF\", \"#FECB52\"], \"font\": {\"color\": \"#2a3f5f\"}, \"geo\": {\"bgcolor\": \"white\", \"lakecolor\": \"white\", \"landcolor\": \"white\", \"showlakes\": true, \"showland\": true, \"subunitcolor\": \"#C8D4E3\"}, \"hoverlabel\": {\"align\": \"left\"}, \"hovermode\": \"closest\", \"mapbox\": {\"style\": \"light\"}, \"paper_bgcolor\": \"white\", \"plot_bgcolor\": \"white\", \"polar\": {\"angularaxis\": {\"gridcolor\": \"#EBF0F8\", \"linecolor\": \"#EBF0F8\", \"ticks\": \"\"}, \"bgcolor\": \"white\", \"radialaxis\": {\"gridcolor\": \"#EBF0F8\", \"linecolor\": \"#EBF0F8\", \"ticks\": \"\"}}, \"scene\": {\"xaxis\": {\"backgroundcolor\": \"white\", \"gridcolor\": \"#DFE8F3\", \"gridwidth\": 2, \"linecolor\": \"#EBF0F8\", \"showbackground\": true, \"ticks\": \"\", \"zerolinecolor\": \"#EBF0F8\"}, \"yaxis\": {\"backgroundcolor\": \"white\", \"gridcolor\": \"#DFE8F3\", \"gridwidth\": 2, \"linecolor\": \"#EBF0F8\", \"showbackground\": true, \"ticks\": \"\", \"zerolinecolor\": \"#EBF0F8\"}, \"zaxis\": {\"backgroundcolor\": \"white\", \"gridcolor\": \"#DFE8F3\", \"gridwidth\": 2, \"linecolor\": \"#EBF0F8\", \"showbackground\": true, \"ticks\": \"\", \"zerolinecolor\": \"#EBF0F8\"}}, \"shapedefaults\": {\"line\": {\"color\": \"#2a3f5f\"}}, \"ternary\": {\"aaxis\": {\"gridcolor\": \"#DFE8F3\", \"linecolor\": \"#A2B1C6\", \"ticks\": \"\"}, \"baxis\": {\"gridcolor\": \"#DFE8F3\", \"linecolor\": \"#A2B1C6\", \"ticks\": \"\"}, \"bgcolor\": \"white\", \"caxis\": {\"gridcolor\": \"#DFE8F3\", \"linecolor\": \"#A2B1C6\", \"ticks\": \"\"}}, \"title\": {\"x\": 0.05}, \"xaxis\": {\"automargin\": true, \"gridcolor\": \"#EBF0F8\", \"linecolor\": \"#EBF0F8\", \"ticks\": \"\", \"title\": {\"standoff\": 15}, \"zerolinecolor\": \"#EBF0F8\", \"zerolinewidth\": 2}, \"yaxis\": {\"automargin\": true, \"gridcolor\": \"#EBF0F8\", \"linecolor\": \"#EBF0F8\", \"ticks\": \"\", \"title\": {\"standoff\": 15}, \"zerolinecolor\": \"#EBF0F8\", \"zerolinewidth\": 2}}}, \"title\": {\"text\": \"<b>\\u00d3bitos por Aborto</b>: Mortes por Aborto ao longo dos anos por regi\\u00e3o\"}, \"width\": 850, \"xaxis\": {\"anchor\": \"y\", \"domain\": [0.0, 1.0], \"dtick\": 1}, \"xaxis2\": {\"anchor\": \"y2\", \"domain\": [0.0, 1.0], \"dtick\": 1}, \"yaxis\": {\"anchor\": \"x\", \"domain\": [0.625, 1.0], \"nticks\": 10}, \"yaxis2\": {\"anchor\": \"x2\", \"domain\": [0.0, 0.375], \"nticks\": 10}},                        {\"responsive\": true}                    ).then(function(){\n",
              "                            \n",
              "var gd = document.getElementById('378c3244-03e4-41df-a3e5-3547620da59c');\n",
              "var x = new MutationObserver(function (mutations, observer) {{\n",
              "        var display = window.getComputedStyle(gd).display;\n",
              "        if (!display || display === 'none') {{\n",
              "            console.log([gd, 'removed!']);\n",
              "            Plotly.purge(gd);\n",
              "            observer.disconnect();\n",
              "        }}\n",
              "}});\n",
              "\n",
              "// Listen for the removal of the full notebook cells\n",
              "var notebookContainer = gd.closest('#notebook-container');\n",
              "if (notebookContainer) {{\n",
              "    x.observe(notebookContainer, {childList: true});\n",
              "}}\n",
              "\n",
              "// Listen for the clearing of the current output cell\n",
              "var outputEl = gd.closest('.output');\n",
              "if (outputEl) {{\n",
              "    x.observe(outputEl, {childList: true});\n",
              "}}\n",
              "\n",
              "                        })                };                            </script>        </div>\n",
              "</body>\n",
              "</html>"
            ]
          },
          "metadata": {
            "tags": []
          }
        }
      ]
    },
    {
      "cell_type": "markdown",
      "metadata": {
        "id": "qVJ969yo6RQR"
      },
      "source": [
        "Nessa última análise, novamente dividi as regiões em grupos por semelhança: 1) nordeste e sudeste, e 2) norte, sul e centro-oeste.\r\n",
        "\r\n",
        "Pelos gráficos acima, não há uma tendência muita clara de número de óbitos por aborto para as regiões. Mesmo assim, apesar dos picos e vales, o grupo 1 apresenta uma queda do número de óbitos. Para o grupo 2, os números permanecem dentro de uma faixa de valores com diversos picos e vales ao longo dos anos.\r\n",
        "\r\n",
        "Os números acima mostram-se modestos e a explicação é simples: não há, nos sistemas de informação de saúde no Brasil, qualquer dado oficial sobre o **aborto inseguro**, gerando uma subnotificação de óbitos maternos.\r\n",
        "\r\n",
        "Atualmente, o óbito por hemorragia puerperal (após o parto ou aborto) é a segunda maior causa direta de mortalidade materna no Brasil.\r\n",
        "\r\n",
        "\r\n",
        "---\r\n",
        "\r\n",
        "\r\n",
        "Fontes:\r\n",
        "\r\n",
        "[OPAS Brasil](https://www.paho.org/bra/index.php?option=com_content&view=article&id=631) - Anahp e OPAS firmam acordo para reduzir mortalidade materna por hemorragia em hospitais privados do Brasil\r\n",
        "\r\n",
        "[SciELO](https://www.scielo.br/scielo.php?script=sci_arttext&pid=S0102-311X2020001305001) - Aborto no Brasil: o que dizem os dados oficiais?"
      ]
    },
    {
      "cell_type": "markdown",
      "metadata": {
        "id": "hJ2zkT0Iir5c"
      },
      "source": [
        "# Conclusão\r\n",
        "\r\n",
        "\r\n",
        "---\r\n",
        "\r\n"
      ]
    },
    {
      "cell_type": "markdown",
      "metadata": {
        "id": "E4VXXZer-r2H"
      },
      "source": [
        "![](https://imagens.brasil.elpais.com/resizer/eK1muVWje-fdrxevCxdAC0zSdXk=/1500x0/cloudfront-eu-central-1.images.arcpublishing.com/prisa/R375IGOGNGFY2J3JENA6LB7UGA.jpg)\r\n",
        "\r\n",
        "> Fonte: El País"
      ]
    },
    {
      "cell_type": "markdown",
      "metadata": {
        "id": "BldIdnQpnvoW"
      },
      "source": [
        "\r\n",
        "Em 30 de dezembro de 2020, a Argentina aprova a legalização do aborto, mas no Brasil, tal marco torna-se quase um sonho, que talvez nunca se realizará.\r\n",
        "\r\n",
        "> “O Brasil é uma virgem que todo tarado de fora quer”\r\n",
        "\r\n",
        "Disse o nosso presidente Jair Bolsonaro ao falar da Amazônia em julho de 2019. Um discurso carregado de misoginia que dá respaldo para que a sociedade tenha um comportamento machista, pautada por uma lógica de opressão de homens contra mulheres e de objetificação de corpos.\r\n",
        "\r\n",
        "Crescer no Brasil não parece ser algo fácil para uma mulher, ainda mais nos tempos atuais. Temas importantes como aborto e gravidez, que deveriam ser falados nas escolas, acabam virando tabu.\r\n",
        "\r\n",
        "Como vimos na nossa análise, nossas jovens escolares enfrentam diversos problemas: distúrbios alimentares, uso de drogas e álcool, gravidez, estupro e muitos outros. Desses, destaquei o aborto e a gravidez precoce, dois fatores bastante interligados.\r\n",
        "\r\n",
        "O aborto hoje só é 'legalizado' para quem tem dinheiro, para quem não tem, resta apenas o aborto inseguro, clandestino, quase que de forma caseira, onde muitas perecem.\r\n",
        "\r\n",
        "A falta de amparo da família e do governo, a ausência de estrutura emocional e financeira e o julgamento da sociedade são alguns dos motivos que fazem uma adolescente buscar o aborto como uma solução. \r\n",
        "\r\n",
        "Para aquelas que decidem não abortar, resta ser mãe, mas muitas delas precisam abandonar a escola, causando a longo prazo situações de vulnerabilidade social.\r\n",
        "\r\n",
        "\r\n",
        "Apesar da queda nos números, aborto e gravidez precoce são temas que devem estar sempre em pauta.\r\n",
        "\r\n",
        "---\r\n",
        "\r\n",
        "\r\n",
        "\r\n",
        "Fontes:\r\n",
        "\r\n",
        "[El País](https://brasil.elpais.com/brasil/2020-08-12/a-misoginia-do-governo-bolsonaro-vai-parar-na-justica.html) - A misoginia do Governo Bolsonaro vai parar na Justiça\r\n",
        "\r\n",
        "[Brasil de Fato](https://www.brasildefato.com.br/2018/07/31/aborto-e-a-quarta-causa-de-morte-materna-no-brasil-afirma-pesquisadora/) - “Aborto é a quarta causa de morte materna no Brasil”, afirma pesquisadora\r\n"
      ]
    },
    {
      "cell_type": "markdown",
      "metadata": {
        "id": "ELoFhXtkXJay"
      },
      "source": [
        "#**Fontes**\r\n",
        "\r\n",
        "\r\n",
        "---\r\n",
        "\r\n",
        "\r\n",
        "> Dados\r\n",
        "\r\n",
        "IBGE - [Estatísticas do Registro Civil](https://sidra.ibge.gov.br/pesquisa/registro-civil/tabelas)\r\n",
        "\r\n",
        "IBGE - [Pesquisa Nacional de Saúde do Escolar](https://www.ibge.gov.br/estatisticas/sociais/educacao/9134-pesquisa-nacional-de-saude-do-escolar.html)\r\n",
        "\r\n",
        "Datasus/Tabnet - [Mortalidade](http://tabnet.datasus.gov.br/cgi/deftohtm.exe?sim/cnv/obt10uf.def)\r\n",
        "\r\n",
        "---\r\n",
        "\r\n",
        "\r\n",
        "> Artigos\r\n",
        "\r\n",
        "[SciELO Public Health](https://www.scielo.br/scielo.php?script=sci_arttext&pid=S0102-311X2020001305001) - Aborto no Brasil: o que dizem os dados oficiais?\r\n",
        "\r\n",
        "[SciELO Public Health](https://www.scielo.br/scielo.php?script=sci_arttext&pid=S1413-81232017000200653&lng=en&nrm=iso&tlng=pt) - Pesquisa Nacional de Aborto 2016\r\n",
        "\r\n",
        "[SciELO Public Health](https://www.scielosp.org/article/sdeb/2019.v43n123/1132-1144/pt/) - Mortes maternas por aborto entre adolescentes no Piauí, Brasil\r\n",
        "\r\n",
        "[Fiocruz - BVS - Saúde dos Povos Indígenas](https://ds.saudeindigena.icict.fiocruz.br/handle/bvs/632) - A gravidez na adolescência indígena: Os efeitos econômicos e sociais do comportamento sexual de risco das índias adolescentes gestantes do minicípio de Baía da Traição/PB\r\n",
        "\r\n",
        "[PEPSIC](http://pepsic.bvsalud.org/scielo.php?script=sci_arttext&pid=S0102-73952016000100011) - Ritos de passagem: o lugar da adolescência nas sociedades indígenas Tembé Tenetehara e Kaxuyana"
      ]
    }
  ]
}