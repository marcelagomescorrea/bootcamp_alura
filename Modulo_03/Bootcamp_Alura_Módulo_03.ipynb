{
  "nbformat": 4,
  "nbformat_minor": 0,
  "metadata": {
    "colab": {
      "name": "Bootcamp Alura - Módulo 03.ipynb",
      "provenance": [],
      "collapsed_sections": [
        "ZSKooV4fvzhT",
        "o3alJACgvU7z",
        "81NbdCCtF9tJ",
        "VHlj5AzHHmOL",
        "A7SAkWKTFznS",
        "V2JoHAwNoaIg",
        "e9gyxYDJr1FH",
        "OpIV7PGq-7WJ",
        "GJ0FuZivdrPZ",
        "TSorERoLHLZF",
        "M1QueS5Z49oo"
      ],
      "toc_visible": true
    },
    "kernelspec": {
      "name": "python3",
      "display_name": "Python 3"
    }
  },
  "cells": [
    {
      "cell_type": "markdown",
      "metadata": {
        "id": "Krq8QO8SuDlG"
      },
      "source": [
        "# Pesquisa Nacional de Saúde do Escolar - PENSE 2015"
      ]
    },
    {
      "cell_type": "code",
      "metadata": {
        "colab": {
          "base_uri": "https://localhost:8080/"
        },
        "id": "1Ws264_77-ly",
        "outputId": "07902adf-ddf0-4325-abc2-28688db6d171"
      },
      "source": [
        "!pip install plotly==4.12.0"
      ],
      "execution_count": 1,
      "outputs": [
        {
          "output_type": "stream",
          "text": [
            "Collecting plotly==4.12.0\n",
            "\u001b[?25l  Downloading https://files.pythonhosted.org/packages/a6/66/af86e9d9bf1a3e4f2dabebeabd02a32e8ddf671a5d072b3af2b011efea99/plotly-4.12.0-py2.py3-none-any.whl (13.1MB)\n",
            "\u001b[K     |████████████████████████████████| 13.1MB 258kB/s \n",
            "\u001b[?25hRequirement already satisfied: six in /usr/local/lib/python3.6/dist-packages (from plotly==4.12.0) (1.15.0)\n",
            "Requirement already satisfied: retrying>=1.3.3 in /usr/local/lib/python3.6/dist-packages (from plotly==4.12.0) (1.3.3)\n",
            "Installing collected packages: plotly\n",
            "  Found existing installation: plotly 4.4.1\n",
            "    Uninstalling plotly-4.4.1:\n",
            "      Successfully uninstalled plotly-4.4.1\n",
            "Successfully installed plotly-4.12.0\n"
          ],
          "name": "stdout"
        }
      ]
    },
    {
      "cell_type": "code",
      "metadata": {
        "id": "1B6Xii1P8BzG"
      },
      "source": [
        "# Importando Plotly\n",
        "import plotly.graph_objects as go\n",
        "import plotly.express as px\n",
        "from plotly.subplots import make_subplots"
      ],
      "execution_count": 2,
      "outputs": []
    },
    {
      "cell_type": "markdown",
      "metadata": {
        "id": "ZSKooV4fvzhT"
      },
      "source": [
        "## Parte 1 - Educação, saúde e tipos de dados"
      ]
    },
    {
      "cell_type": "code",
      "metadata": {
        "colab": {
          "base_uri": "https://localhost:8080/",
          "height": 0
        },
        "id": "jlEjAtiwsVbh",
        "outputId": "db225c2d-df5a-45e4-a158-2e47ad5954fd"
      },
      "source": [
        "import pandas as pd\n",
        "from  zipfile import ZipFile\n",
        "\n",
        "path = '/content/drive/MyDrive/Colab Datasets/Bootcamp Alura 2020/PeNSE_2015_AMOSTRA2.zip'\n",
        "arquivo_zipado = ZipFile(path)\n",
        "\n",
        "path_on_zip = arquivo_zipado.namelist()[1]\n",
        "dados = pd.read_csv(arquivo_zipado.open(path_on_zip), sep=';', thousands = \".\", decimal = \",\")\n",
        "\n",
        "dados.head()"
      ],
      "execution_count": 3,
      "outputs": [
        {
          "output_type": "execute_result",
          "data": {
            "text/html": [
              "<div>\n",
              "<style scoped>\n",
              "    .dataframe tbody tr th:only-of-type {\n",
              "        vertical-align: middle;\n",
              "    }\n",
              "\n",
              "    .dataframe tbody tr th {\n",
              "        vertical-align: top;\n",
              "    }\n",
              "\n",
              "    .dataframe thead th {\n",
              "        text-align: right;\n",
              "    }\n",
              "</style>\n",
              "<table border=\"1\" class=\"dataframe\">\n",
              "  <thead>\n",
              "    <tr style=\"text-align: right;\">\n",
              "      <th></th>\n",
              "      <th>ANOPESQ</th>\n",
              "      <th>PAIS</th>\n",
              "      <th>REGEOGR</th>\n",
              "      <th>VB00004</th>\n",
              "      <th>VB01001</th>\n",
              "      <th>VB01002</th>\n",
              "      <th>VB01003</th>\n",
              "      <th>VB01004</th>\n",
              "      <th>VB01005</th>\n",
              "      <th>VB01006</th>\n",
              "      <th>VB01007</th>\n",
              "      <th>VB01008A</th>\n",
              "      <th>VB01010A</th>\n",
              "      <th>VB01011</th>\n",
              "      <th>VB01012</th>\n",
              "      <th>VB01013</th>\n",
              "      <th>VB01014</th>\n",
              "      <th>VB01015A</th>\n",
              "      <th>VB01016</th>\n",
              "      <th>VB01017</th>\n",
              "      <th>VB01018</th>\n",
              "      <th>VB01019</th>\n",
              "      <th>VB01020A</th>\n",
              "      <th>VB01021</th>\n",
              "      <th>VB01022</th>\n",
              "      <th>VB01023</th>\n",
              "      <th>VB01024</th>\n",
              "      <th>VB01025</th>\n",
              "      <th>VB01026</th>\n",
              "      <th>VB02001</th>\n",
              "      <th>VB02002</th>\n",
              "      <th>VB02004A</th>\n",
              "      <th>VB02010</th>\n",
              "      <th>VB02011</th>\n",
              "      <th>VB02013</th>\n",
              "      <th>VB02017A</th>\n",
              "      <th>VB02018A</th>\n",
              "      <th>VB02019A</th>\n",
              "      <th>VB02020A</th>\n",
              "      <th>VB02021</th>\n",
              "      <th>...</th>\n",
              "      <th>VB11005</th>\n",
              "      <th>VB11006</th>\n",
              "      <th>VB11007</th>\n",
              "      <th>VB12001</th>\n",
              "      <th>VB12002</th>\n",
              "      <th>VB12003</th>\n",
              "      <th>VB13001</th>\n",
              "      <th>VB13002A</th>\n",
              "      <th>VB13004A</th>\n",
              "      <th>VB13005</th>\n",
              "      <th>VB13006</th>\n",
              "      <th>VB13007</th>\n",
              "      <th>VB13008</th>\n",
              "      <th>VB13009</th>\n",
              "      <th>VB14001</th>\n",
              "      <th>VB14002</th>\n",
              "      <th>VB16001A01</th>\n",
              "      <th>VB16001A02</th>\n",
              "      <th>VB16001A03</th>\n",
              "      <th>VB16001A04</th>\n",
              "      <th>VB16001A05</th>\n",
              "      <th>VB16001A06</th>\n",
              "      <th>VB16001A07</th>\n",
              "      <th>VB16001A08</th>\n",
              "      <th>VB17001</th>\n",
              "      <th>VB17002</th>\n",
              "      <th>VB17003</th>\n",
              "      <th>VB17004</th>\n",
              "      <th>VB17005</th>\n",
              "      <th>VB17006</th>\n",
              "      <th>ESTRATO_EXP</th>\n",
              "      <th>ESTRATOGEOREG</th>\n",
              "      <th>PESO</th>\n",
              "      <th>V0006</th>\n",
              "      <th>V0007</th>\n",
              "      <th>V0008</th>\n",
              "      <th>V0041</th>\n",
              "      <th>aluno</th>\n",
              "      <th>escola</th>\n",
              "      <th>turma</th>\n",
              "    </tr>\n",
              "  </thead>\n",
              "  <tbody>\n",
              "    <tr>\n",
              "      <th>0</th>\n",
              "      <td>2015</td>\n",
              "      <td>76</td>\n",
              "      <td>1</td>\n",
              "      <td>1</td>\n",
              "      <td>2</td>\n",
              "      <td>1</td>\n",
              "      <td>13</td>\n",
              "      <td>7</td>\n",
              "      <td>7</td>\n",
              "      <td>1</td>\n",
              "      <td>2</td>\n",
              "      <td>7</td>\n",
              "      <td>3</td>\n",
              "      <td>2</td>\n",
              "      <td>-1</td>\n",
              "      <td>1</td>\n",
              "      <td>1</td>\n",
              "      <td>1</td>\n",
              "      <td>1</td>\n",
              "      <td>1</td>\n",
              "      <td>2</td>\n",
              "      <td>4</td>\n",
              "      <td>2</td>\n",
              "      <td>4</td>\n",
              "      <td>1</td>\n",
              "      <td>2</td>\n",
              "      <td>2</td>\n",
              "      <td>5</td>\n",
              "      <td>1</td>\n",
              "      <td>8</td>\n",
              "      <td>3</td>\n",
              "      <td>4</td>\n",
              "      <td>3</td>\n",
              "      <td>6</td>\n",
              "      <td>6</td>\n",
              "      <td>1</td>\n",
              "      <td>6</td>\n",
              "      <td>1</td>\n",
              "      <td>-1</td>\n",
              "      <td>2</td>\n",
              "      <td>...</td>\n",
              "      <td>2</td>\n",
              "      <td>1</td>\n",
              "      <td>2</td>\n",
              "      <td>1</td>\n",
              "      <td>1</td>\n",
              "      <td>4</td>\n",
              "      <td>2</td>\n",
              "      <td>-1</td>\n",
              "      <td>3</td>\n",
              "      <td>1</td>\n",
              "      <td>1</td>\n",
              "      <td>-1</td>\n",
              "      <td>1</td>\n",
              "      <td>1</td>\n",
              "      <td>2</td>\n",
              "      <td>2</td>\n",
              "      <td>1</td>\n",
              "      <td>2</td>\n",
              "      <td>2</td>\n",
              "      <td>2</td>\n",
              "      <td>2</td>\n",
              "      <td>2</td>\n",
              "      <td>2</td>\n",
              "      <td>2</td>\n",
              "      <td>371.0</td>\n",
              "      <td>1570.0</td>\n",
              "      <td>37.1</td>\n",
              "      <td>157.0</td>\n",
              "      <td>2</td>\n",
              "      <td>1</td>\n",
              "      <td>1223</td>\n",
              "      <td>1</td>\n",
              "      <td>299.735235</td>\n",
              "      <td>1</td>\n",
              "      <td>2</td>\n",
              "      <td>4</td>\n",
              "      <td>1</td>\n",
              "      <td>1</td>\n",
              "      <td>1</td>\n",
              "      <td>296</td>\n",
              "    </tr>\n",
              "    <tr>\n",
              "      <th>1</th>\n",
              "      <td>2015</td>\n",
              "      <td>76</td>\n",
              "      <td>1</td>\n",
              "      <td>1</td>\n",
              "      <td>2</td>\n",
              "      <td>1</td>\n",
              "      <td>14</td>\n",
              "      <td>4</td>\n",
              "      <td>7</td>\n",
              "      <td>1</td>\n",
              "      <td>1</td>\n",
              "      <td>7</td>\n",
              "      <td>3</td>\n",
              "      <td>2</td>\n",
              "      <td>-1</td>\n",
              "      <td>1</td>\n",
              "      <td>1</td>\n",
              "      <td>1</td>\n",
              "      <td>1</td>\n",
              "      <td>1</td>\n",
              "      <td>2</td>\n",
              "      <td>2</td>\n",
              "      <td>2</td>\n",
              "      <td>4</td>\n",
              "      <td>1</td>\n",
              "      <td>2</td>\n",
              "      <td>2</td>\n",
              "      <td>5</td>\n",
              "      <td>3</td>\n",
              "      <td>8</td>\n",
              "      <td>2</td>\n",
              "      <td>1</td>\n",
              "      <td>8</td>\n",
              "      <td>8</td>\n",
              "      <td>6</td>\n",
              "      <td>1</td>\n",
              "      <td>1</td>\n",
              "      <td>5</td>\n",
              "      <td>-1</td>\n",
              "      <td>2</td>\n",
              "      <td>...</td>\n",
              "      <td>2</td>\n",
              "      <td>3</td>\n",
              "      <td>2</td>\n",
              "      <td>4</td>\n",
              "      <td>4</td>\n",
              "      <td>4</td>\n",
              "      <td>1</td>\n",
              "      <td>2</td>\n",
              "      <td>3</td>\n",
              "      <td>3</td>\n",
              "      <td>1</td>\n",
              "      <td>-1</td>\n",
              "      <td>1</td>\n",
              "      <td>1</td>\n",
              "      <td>2</td>\n",
              "      <td>2</td>\n",
              "      <td>2</td>\n",
              "      <td>2</td>\n",
              "      <td>2</td>\n",
              "      <td>1</td>\n",
              "      <td>2</td>\n",
              "      <td>2</td>\n",
              "      <td>2</td>\n",
              "      <td>2</td>\n",
              "      <td>502.0</td>\n",
              "      <td>1520.0</td>\n",
              "      <td>50.2</td>\n",
              "      <td>152.0</td>\n",
              "      <td>2</td>\n",
              "      <td>2</td>\n",
              "      <td>1223</td>\n",
              "      <td>1</td>\n",
              "      <td>355.170081</td>\n",
              "      <td>1</td>\n",
              "      <td>2</td>\n",
              "      <td>4</td>\n",
              "      <td>1</td>\n",
              "      <td>2</td>\n",
              "      <td>1</td>\n",
              "      <td>296</td>\n",
              "    </tr>\n",
              "    <tr>\n",
              "      <th>2</th>\n",
              "      <td>2015</td>\n",
              "      <td>76</td>\n",
              "      <td>1</td>\n",
              "      <td>1</td>\n",
              "      <td>1</td>\n",
              "      <td>4</td>\n",
              "      <td>13</td>\n",
              "      <td>6</td>\n",
              "      <td>7</td>\n",
              "      <td>1</td>\n",
              "      <td>1</td>\n",
              "      <td>5</td>\n",
              "      <td>5</td>\n",
              "      <td>2</td>\n",
              "      <td>-1</td>\n",
              "      <td>2</td>\n",
              "      <td>1</td>\n",
              "      <td>1</td>\n",
              "      <td>1</td>\n",
              "      <td>1</td>\n",
              "      <td>2</td>\n",
              "      <td>3</td>\n",
              "      <td>1</td>\n",
              "      <td>4</td>\n",
              "      <td>1</td>\n",
              "      <td>2</td>\n",
              "      <td>2</td>\n",
              "      <td>5</td>\n",
              "      <td>3</td>\n",
              "      <td>2</td>\n",
              "      <td>3</td>\n",
              "      <td>1</td>\n",
              "      <td>8</td>\n",
              "      <td>2</td>\n",
              "      <td>8</td>\n",
              "      <td>1</td>\n",
              "      <td>1</td>\n",
              "      <td>5</td>\n",
              "      <td>5</td>\n",
              "      <td>1</td>\n",
              "      <td>...</td>\n",
              "      <td>2</td>\n",
              "      <td>1</td>\n",
              "      <td>2</td>\n",
              "      <td>1</td>\n",
              "      <td>2</td>\n",
              "      <td>3</td>\n",
              "      <td>1</td>\n",
              "      <td>2</td>\n",
              "      <td>1</td>\n",
              "      <td>2</td>\n",
              "      <td>5</td>\n",
              "      <td>99</td>\n",
              "      <td>1</td>\n",
              "      <td>-1</td>\n",
              "      <td>2</td>\n",
              "      <td>2</td>\n",
              "      <td>1</td>\n",
              "      <td>1</td>\n",
              "      <td>1</td>\n",
              "      <td>1</td>\n",
              "      <td>1</td>\n",
              "      <td>1</td>\n",
              "      <td>1</td>\n",
              "      <td>1</td>\n",
              "      <td>482.0</td>\n",
              "      <td>1614.0</td>\n",
              "      <td>48.2</td>\n",
              "      <td>161.4</td>\n",
              "      <td>2</td>\n",
              "      <td>2</td>\n",
              "      <td>1223</td>\n",
              "      <td>1</td>\n",
              "      <td>299.735235</td>\n",
              "      <td>1</td>\n",
              "      <td>2</td>\n",
              "      <td>4</td>\n",
              "      <td>1</td>\n",
              "      <td>3</td>\n",
              "      <td>1</td>\n",
              "      <td>296</td>\n",
              "    </tr>\n",
              "    <tr>\n",
              "      <th>3</th>\n",
              "      <td>2015</td>\n",
              "      <td>76</td>\n",
              "      <td>1</td>\n",
              "      <td>1</td>\n",
              "      <td>1</td>\n",
              "      <td>1</td>\n",
              "      <td>14</td>\n",
              "      <td>6</td>\n",
              "      <td>7</td>\n",
              "      <td>1</td>\n",
              "      <td>1</td>\n",
              "      <td>7</td>\n",
              "      <td>4</td>\n",
              "      <td>2</td>\n",
              "      <td>-1</td>\n",
              "      <td>1</td>\n",
              "      <td>1</td>\n",
              "      <td>1</td>\n",
              "      <td>1</td>\n",
              "      <td>1</td>\n",
              "      <td>2</td>\n",
              "      <td>4</td>\n",
              "      <td>2</td>\n",
              "      <td>4</td>\n",
              "      <td>1</td>\n",
              "      <td>2</td>\n",
              "      <td>2</td>\n",
              "      <td>6</td>\n",
              "      <td>3</td>\n",
              "      <td>2</td>\n",
              "      <td>4</td>\n",
              "      <td>1</td>\n",
              "      <td>3</td>\n",
              "      <td>2</td>\n",
              "      <td>7</td>\n",
              "      <td>1</td>\n",
              "      <td>5</td>\n",
              "      <td>1</td>\n",
              "      <td>-1</td>\n",
              "      <td>2</td>\n",
              "      <td>...</td>\n",
              "      <td>2</td>\n",
              "      <td>1</td>\n",
              "      <td>2</td>\n",
              "      <td>2</td>\n",
              "      <td>2</td>\n",
              "      <td>4</td>\n",
              "      <td>1</td>\n",
              "      <td>10</td>\n",
              "      <td>3</td>\n",
              "      <td>1</td>\n",
              "      <td>2</td>\n",
              "      <td>-1</td>\n",
              "      <td>1</td>\n",
              "      <td>-1</td>\n",
              "      <td>2</td>\n",
              "      <td>2</td>\n",
              "      <td>1</td>\n",
              "      <td>2</td>\n",
              "      <td>2</td>\n",
              "      <td>2</td>\n",
              "      <td>1</td>\n",
              "      <td>2</td>\n",
              "      <td>2</td>\n",
              "      <td>2</td>\n",
              "      <td>694.0</td>\n",
              "      <td>1725.0</td>\n",
              "      <td>69.4</td>\n",
              "      <td>172.5</td>\n",
              "      <td>2</td>\n",
              "      <td>3</td>\n",
              "      <td>1223</td>\n",
              "      <td>1</td>\n",
              "      <td>355.170081</td>\n",
              "      <td>1</td>\n",
              "      <td>2</td>\n",
              "      <td>4</td>\n",
              "      <td>1</td>\n",
              "      <td>4</td>\n",
              "      <td>1</td>\n",
              "      <td>296</td>\n",
              "    </tr>\n",
              "    <tr>\n",
              "      <th>4</th>\n",
              "      <td>2015</td>\n",
              "      <td>76</td>\n",
              "      <td>1</td>\n",
              "      <td>1</td>\n",
              "      <td>1</td>\n",
              "      <td>1</td>\n",
              "      <td>13</td>\n",
              "      <td>9</td>\n",
              "      <td>7</td>\n",
              "      <td>1</td>\n",
              "      <td>2</td>\n",
              "      <td>5</td>\n",
              "      <td>4</td>\n",
              "      <td>2</td>\n",
              "      <td>-1</td>\n",
              "      <td>2</td>\n",
              "      <td>1</td>\n",
              "      <td>1</td>\n",
              "      <td>1</td>\n",
              "      <td>1</td>\n",
              "      <td>2</td>\n",
              "      <td>5</td>\n",
              "      <td>1</td>\n",
              "      <td>4</td>\n",
              "      <td>1</td>\n",
              "      <td>2</td>\n",
              "      <td>2</td>\n",
              "      <td>6</td>\n",
              "      <td>5</td>\n",
              "      <td>6</td>\n",
              "      <td>3</td>\n",
              "      <td>5</td>\n",
              "      <td>2</td>\n",
              "      <td>6</td>\n",
              "      <td>2</td>\n",
              "      <td>1</td>\n",
              "      <td>5</td>\n",
              "      <td>1</td>\n",
              "      <td>5</td>\n",
              "      <td>1</td>\n",
              "      <td>...</td>\n",
              "      <td>2</td>\n",
              "      <td>1</td>\n",
              "      <td>4</td>\n",
              "      <td>2</td>\n",
              "      <td>2</td>\n",
              "      <td>4</td>\n",
              "      <td>1</td>\n",
              "      <td>3</td>\n",
              "      <td>2</td>\n",
              "      <td>2</td>\n",
              "      <td>2</td>\n",
              "      <td>13</td>\n",
              "      <td>1</td>\n",
              "      <td>-1</td>\n",
              "      <td>1</td>\n",
              "      <td>2</td>\n",
              "      <td>1</td>\n",
              "      <td>1</td>\n",
              "      <td>1</td>\n",
              "      <td>1</td>\n",
              "      <td>1</td>\n",
              "      <td>1</td>\n",
              "      <td>1</td>\n",
              "      <td>1</td>\n",
              "      <td>789.0</td>\n",
              "      <td>1675.0</td>\n",
              "      <td>78.9</td>\n",
              "      <td>167.5</td>\n",
              "      <td>2</td>\n",
              "      <td>4</td>\n",
              "      <td>1223</td>\n",
              "      <td>1</td>\n",
              "      <td>299.735235</td>\n",
              "      <td>1</td>\n",
              "      <td>2</td>\n",
              "      <td>4</td>\n",
              "      <td>1</td>\n",
              "      <td>5</td>\n",
              "      <td>1</td>\n",
              "      <td>296</td>\n",
              "    </tr>\n",
              "  </tbody>\n",
              "</table>\n",
              "<p>5 rows × 181 columns</p>\n",
              "</div>"
            ],
            "text/plain": [
              "   ANOPESQ  PAIS  REGEOGR  VB00004  VB01001  ...  V0008  V0041  aluno  escola  turma\n",
              "0     2015    76        1        1        2  ...      4      1      1       1    296\n",
              "1     2015    76        1        1        2  ...      4      1      2       1    296\n",
              "2     2015    76        1        1        1  ...      4      1      3       1    296\n",
              "3     2015    76        1        1        1  ...      4      1      4       1    296\n",
              "4     2015    76        1        1        1  ...      4      1      5       1    296\n",
              "\n",
              "[5 rows x 181 columns]"
            ]
          },
          "metadata": {
            "tags": []
          },
          "execution_count": 3
        }
      ]
    },
    {
      "cell_type": "code",
      "metadata": {
        "colab": {
          "base_uri": "https://localhost:8080/"
        },
        "id": "QqKSDPTvuyKX",
        "outputId": "9dda8e7a-be9b-4367-fc43-b5f20fb1ac11"
      },
      "source": [
        "arquivo_zipado.infolist()"
      ],
      "execution_count": 4,
      "outputs": [
        {
          "output_type": "execute_result",
          "data": {
            "text/plain": [
              "[<ZipInfo filename='arquivos csv/' external_attr=0x10>,\n",
              " <ZipInfo filename='arquivos csv/PENSE_AMOSTRA2_ALUNO.CSV' compress_type=deflate external_attr=0x20 file_size=7262170 compress_size=1235667>,\n",
              " <ZipInfo filename='arquivos csv/PENSE_AMOSTRA2_ALUNOESCOLA.CSV' compress_type=deflate external_attr=0x20 file_size=11420533 compress_size=1329882>,\n",
              " <ZipInfo filename='arquivos csv/PENSE_AMOSTRA2_ESCOLA.CSV' compress_type=deflate external_attr=0x20 file_size=5000642 compress_size=114324>,\n",
              " <ZipInfo filename='arquivos sas/' external_attr=0x10>,\n",
              " <ZipInfo filename='arquivos sas/pense_amostra2_aluno.sas7bdat' compress_type=deflate external_attr=0x20 file_size=24691712 compress_size=1957530>,\n",
              " <ZipInfo filename='arquivos sas/pense_amostra2_alunoescola.sas7bdat' compress_type=deflate external_attr=0x20 file_size=45253632 compress_size=2461932>,\n",
              " <ZipInfo filename='arquivos sas/pense_amostra2_escola.sas7bdat' compress_type=deflate external_attr=0x20 file_size=18105344 compress_size=332162>,\n",
              " <ZipInfo filename='arquivos xlsx/' external_attr=0x10>,\n",
              " <ZipInfo filename='arquivos xlsx/PENSE_AMOSTRA2_ALUNO.xlsx' compress_type=deflate external_attr=0x20 file_size=11757246 compress_size=11337133>,\n",
              " <ZipInfo filename='arquivos xlsx/PENSE_AMOSTRA2_ALUNOESCOLA.xlsx' compress_type=deflate external_attr=0x20 file_size=18732739 compress_size=17064325>,\n",
              " <ZipInfo filename='arquivos xlsx/PENSE_AMOSTRA2_ESCOLA.xlsx' compress_type=deflate external_attr=0x20 file_size=7159579 compress_size=3209953>,\n",
              " <ZipInfo filename='Dicionario_PENSE_Microdados_AMOSTRA2.xls' compress_type=deflate external_attr=0x20 file_size=144896 compress_size=35737>]"
            ]
          },
          "metadata": {
            "tags": []
          },
          "execution_count": 4
        }
      ]
    },
    {
      "cell_type": "code",
      "metadata": {
        "colab": {
          "base_uri": "https://localhost:8080/"
        },
        "id": "op2mWgOxvC66",
        "outputId": "6f81352c-049d-406d-831e-3454ec6981b0"
      },
      "source": [
        "dados.shape"
      ],
      "execution_count": 5,
      "outputs": [
        {
          "output_type": "execute_result",
          "data": {
            "text/plain": [
              "(16556, 181)"
            ]
          },
          "metadata": {
            "tags": []
          },
          "execution_count": 5
        }
      ]
    },
    {
      "cell_type": "code",
      "metadata": {
        "colab": {
          "base_uri": "https://localhost:8080/"
        },
        "id": "_07IHHeDvx8_",
        "outputId": "5ee5a583-606d-4386-8788-b789c36bc237"
      },
      "source": [
        "dados.columns"
      ],
      "execution_count": 6,
      "outputs": [
        {
          "output_type": "execute_result",
          "data": {
            "text/plain": [
              "Index(['ANOPESQ', 'PAIS', 'REGEOGR', 'VB00004', 'VB01001', 'VB01002',\n",
              "       'VB01003', 'VB01004', 'VB01005', 'VB01006',\n",
              "       ...\n",
              "       'ESTRATO_EXP', 'ESTRATOGEOREG', 'PESO', 'V0006', 'V0007', 'V0008',\n",
              "       'V0041', 'aluno', 'escola', 'turma'],\n",
              "      dtype='object', length=181)"
            ]
          },
          "metadata": {
            "tags": []
          },
          "execution_count": 6
        }
      ]
    },
    {
      "cell_type": "code",
      "metadata": {
        "colab": {
          "base_uri": "https://localhost:8080/"
        },
        "id": "JQxooq5rvx6B",
        "outputId": "82dd0b93-731a-478a-d2a5-528524c37dde"
      },
      "source": [
        "dados.info()"
      ],
      "execution_count": 7,
      "outputs": [
        {
          "output_type": "stream",
          "text": [
            "<class 'pandas.core.frame.DataFrame'>\n",
            "RangeIndex: 16556 entries, 0 to 16555\n",
            "Columns: 181 entries, ANOPESQ to turma\n",
            "dtypes: float64(10), int64(171)\n",
            "memory usage: 22.9 MB\n"
          ],
          "name": "stdout"
        }
      ]
    },
    {
      "cell_type": "code",
      "metadata": {
        "colab": {
          "base_uri": "https://localhost:8080/",
          "height": 0
        },
        "id": "eOwnvQN0vxzq",
        "outputId": "41163313-5510-4488-d065-edfd104a977a"
      },
      "source": [
        "dados.select_dtypes(include='float64')"
      ],
      "execution_count": 8,
      "outputs": [
        {
          "output_type": "execute_result",
          "data": {
            "text/html": [
              "<div>\n",
              "<style scoped>\n",
              "    .dataframe tbody tr th:only-of-type {\n",
              "        vertical-align: middle;\n",
              "    }\n",
              "\n",
              "    .dataframe tbody tr th {\n",
              "        vertical-align: top;\n",
              "    }\n",
              "\n",
              "    .dataframe thead th {\n",
              "        text-align: right;\n",
              "    }\n",
              "</style>\n",
              "<table border=\"1\" class=\"dataframe\">\n",
              "  <thead>\n",
              "    <tr style=\"text-align: right;\">\n",
              "      <th></th>\n",
              "      <th>TEMPODESLOC</th>\n",
              "      <th>TEMPOTOTAL</th>\n",
              "      <th>TEMPOEDFIS</th>\n",
              "      <th>TEMPOEXTRA</th>\n",
              "      <th>TEMPOEST</th>\n",
              "      <th>VB17001</th>\n",
              "      <th>VB17002</th>\n",
              "      <th>VB17003</th>\n",
              "      <th>VB17004</th>\n",
              "      <th>PESO</th>\n",
              "    </tr>\n",
              "  </thead>\n",
              "  <tbody>\n",
              "    <tr>\n",
              "      <th>0</th>\n",
              "      <td>0.0</td>\n",
              "      <td>15.0</td>\n",
              "      <td>0.0</td>\n",
              "      <td>15.0</td>\n",
              "      <td>60.0</td>\n",
              "      <td>371.0</td>\n",
              "      <td>1570.0</td>\n",
              "      <td>37.1</td>\n",
              "      <td>157.0</td>\n",
              "      <td>299.735235</td>\n",
              "    </tr>\n",
              "    <tr>\n",
              "      <th>1</th>\n",
              "      <td>120.0</td>\n",
              "      <td>510.0</td>\n",
              "      <td>260.0</td>\n",
              "      <td>130.0</td>\n",
              "      <td>300.0</td>\n",
              "      <td>502.0</td>\n",
              "      <td>1520.0</td>\n",
              "      <td>50.2</td>\n",
              "      <td>152.0</td>\n",
              "      <td>355.170081</td>\n",
              "    </tr>\n",
              "    <tr>\n",
              "      <th>2</th>\n",
              "      <td>0.0</td>\n",
              "      <td>585.0</td>\n",
              "      <td>130.0</td>\n",
              "      <td>455.0</td>\n",
              "      <td>420.0</td>\n",
              "      <td>482.0</td>\n",
              "      <td>1614.0</td>\n",
              "      <td>48.2</td>\n",
              "      <td>161.4</td>\n",
              "      <td>299.735235</td>\n",
              "    </tr>\n",
              "    <tr>\n",
              "      <th>3</th>\n",
              "      <td>0.0</td>\n",
              "      <td>0.0</td>\n",
              "      <td>0.0</td>\n",
              "      <td>0.0</td>\n",
              "      <td>0.0</td>\n",
              "      <td>694.0</td>\n",
              "      <td>1725.0</td>\n",
              "      <td>69.4</td>\n",
              "      <td>172.5</td>\n",
              "      <td>355.170081</td>\n",
              "    </tr>\n",
              "    <tr>\n",
              "      <th>4</th>\n",
              "      <td>30.0</td>\n",
              "      <td>165.0</td>\n",
              "      <td>90.0</td>\n",
              "      <td>45.0</td>\n",
              "      <td>60.0</td>\n",
              "      <td>789.0</td>\n",
              "      <td>1675.0</td>\n",
              "      <td>78.9</td>\n",
              "      <td>167.5</td>\n",
              "      <td>299.735235</td>\n",
              "    </tr>\n",
              "    <tr>\n",
              "      <th>...</th>\n",
              "      <td>...</td>\n",
              "      <td>...</td>\n",
              "      <td>...</td>\n",
              "      <td>...</td>\n",
              "      <td>...</td>\n",
              "      <td>...</td>\n",
              "      <td>...</td>\n",
              "      <td>...</td>\n",
              "      <td>...</td>\n",
              "      <td>...</td>\n",
              "    </tr>\n",
              "    <tr>\n",
              "      <th>16551</th>\n",
              "      <td>30.0</td>\n",
              "      <td>400.0</td>\n",
              "      <td>110.0</td>\n",
              "      <td>260.0</td>\n",
              "      <td>240.0</td>\n",
              "      <td>567.0</td>\n",
              "      <td>1679.0</td>\n",
              "      <td>56.7</td>\n",
              "      <td>167.9</td>\n",
              "      <td>447.815539</td>\n",
              "    </tr>\n",
              "    <tr>\n",
              "      <th>16552</th>\n",
              "      <td>20.0</td>\n",
              "      <td>800.0</td>\n",
              "      <td>325.0</td>\n",
              "      <td>455.0</td>\n",
              "      <td>240.0</td>\n",
              "      <td>619.0</td>\n",
              "      <td>1858.0</td>\n",
              "      <td>61.9</td>\n",
              "      <td>185.8</td>\n",
              "      <td>592.507440</td>\n",
              "    </tr>\n",
              "    <tr>\n",
              "      <th>16553</th>\n",
              "      <td>0.0</td>\n",
              "      <td>0.0</td>\n",
              "      <td>0.0</td>\n",
              "      <td>0.0</td>\n",
              "      <td>60.0</td>\n",
              "      <td>609.0</td>\n",
              "      <td>1594.0</td>\n",
              "      <td>60.9</td>\n",
              "      <td>159.4</td>\n",
              "      <td>401.131512</td>\n",
              "    </tr>\n",
              "    <tr>\n",
              "      <th>16554</th>\n",
              "      <td>75.0</td>\n",
              "      <td>215.0</td>\n",
              "      <td>35.0</td>\n",
              "      <td>105.0</td>\n",
              "      <td>120.0</td>\n",
              "      <td>473.0</td>\n",
              "      <td>1578.0</td>\n",
              "      <td>47.3</td>\n",
              "      <td>157.8</td>\n",
              "      <td>442.718091</td>\n",
              "    </tr>\n",
              "    <tr>\n",
              "      <th>16555</th>\n",
              "      <td>50.0</td>\n",
              "      <td>485.0</td>\n",
              "      <td>110.0</td>\n",
              "      <td>325.0</td>\n",
              "      <td>360.0</td>\n",
              "      <td>626.0</td>\n",
              "      <td>1639.0</td>\n",
              "      <td>62.6</td>\n",
              "      <td>163.9</td>\n",
              "      <td>592.507440</td>\n",
              "    </tr>\n",
              "  </tbody>\n",
              "</table>\n",
              "<p>16556 rows × 10 columns</p>\n",
              "</div>"
            ],
            "text/plain": [
              "       TEMPODESLOC  TEMPOTOTAL  TEMPOEDFIS  ...  VB17003  VB17004        PESO\n",
              "0              0.0        15.0         0.0  ...     37.1    157.0  299.735235\n",
              "1            120.0       510.0       260.0  ...     50.2    152.0  355.170081\n",
              "2              0.0       585.0       130.0  ...     48.2    161.4  299.735235\n",
              "3              0.0         0.0         0.0  ...     69.4    172.5  355.170081\n",
              "4             30.0       165.0        90.0  ...     78.9    167.5  299.735235\n",
              "...            ...         ...         ...  ...      ...      ...         ...\n",
              "16551         30.0       400.0       110.0  ...     56.7    167.9  447.815539\n",
              "16552         20.0       800.0       325.0  ...     61.9    185.8  592.507440\n",
              "16553          0.0         0.0         0.0  ...     60.9    159.4  401.131512\n",
              "16554         75.0       215.0        35.0  ...     47.3    157.8  442.718091\n",
              "16555         50.0       485.0       110.0  ...     62.6    163.9  592.507440\n",
              "\n",
              "[16556 rows x 10 columns]"
            ]
          },
          "metadata": {
            "tags": []
          },
          "execution_count": 8
        }
      ]
    },
    {
      "cell_type": "markdown",
      "metadata": {
        "id": "o3alJACgvU7z"
      },
      "source": [
        "### Desafios"
      ]
    },
    {
      "cell_type": "markdown",
      "metadata": {
        "id": "Bd3mloYXvXWR"
      },
      "source": [
        "\n",
        "\n",
        "*   Desafio 1: descompactar a pasta zipada usando outro método\n",
        "    *  utilizar comando bash com !\n",
        "*   Desafio 2: estudar sobre a base de dados que vamos trabalhar\n",
        "*   Desafio 3: Analisar o dicionário de dados e classificar algumas perguntas como qualitativa vs quantitativa e sub classificações (ordinal, nominal e etc).\n",
        "\n"
      ]
    },
    {
      "cell_type": "markdown",
      "metadata": {
        "id": "81NbdCCtF9tJ"
      },
      "source": [
        "#### Desafio 1 - Usando comandos bash"
      ]
    },
    {
      "cell_type": "code",
      "metadata": {
        "colab": {
          "base_uri": "https://localhost:8080/"
        },
        "id": "WPByVnXyxxMK",
        "outputId": "797c7836-1d33-4311-9854-34dc0e5e18c5"
      },
      "source": [
        "!unzip '/content/drive/MyDrive/Colab Datasets/Bootcamp Alura 2020/PeNSE_2015_AMOSTRA2.zip' -d '/content/drive/MyDrive/Colab Datasets/Bootcamp Alura 2020/PeNSE_2015'"
      ],
      "execution_count": 9,
      "outputs": [
        {
          "output_type": "stream",
          "text": [
            "Archive:  /content/drive/MyDrive/Colab Datasets/Bootcamp Alura 2020/PeNSE_2015_AMOSTRA2.zip\n",
            "   creating: /content/drive/MyDrive/Colab Datasets/Bootcamp Alura 2020/PeNSE_2015/arquivos csv/\n",
            "  inflating: /content/drive/MyDrive/Colab Datasets/Bootcamp Alura 2020/PeNSE_2015/arquivos csv/PENSE_AMOSTRA2_ALUNO.CSV  \n",
            "  inflating: /content/drive/MyDrive/Colab Datasets/Bootcamp Alura 2020/PeNSE_2015/arquivos csv/PENSE_AMOSTRA2_ALUNOESCOLA.CSV  \n",
            "  inflating: /content/drive/MyDrive/Colab Datasets/Bootcamp Alura 2020/PeNSE_2015/arquivos csv/PENSE_AMOSTRA2_ESCOLA.CSV  \n",
            "   creating: /content/drive/MyDrive/Colab Datasets/Bootcamp Alura 2020/PeNSE_2015/arquivos sas/\n",
            "  inflating: /content/drive/MyDrive/Colab Datasets/Bootcamp Alura 2020/PeNSE_2015/arquivos sas/pense_amostra2_aluno.sas7bdat  \n",
            "  inflating: /content/drive/MyDrive/Colab Datasets/Bootcamp Alura 2020/PeNSE_2015/arquivos sas/pense_amostra2_alunoescola.sas7bdat  \n",
            "  inflating: /content/drive/MyDrive/Colab Datasets/Bootcamp Alura 2020/PeNSE_2015/arquivos sas/pense_amostra2_escola.sas7bdat  \n",
            "   creating: /content/drive/MyDrive/Colab Datasets/Bootcamp Alura 2020/PeNSE_2015/arquivos xlsx/\n",
            "  inflating: /content/drive/MyDrive/Colab Datasets/Bootcamp Alura 2020/PeNSE_2015/arquivos xlsx/PENSE_AMOSTRA2_ALUNO.xlsx  \n",
            "  inflating: /content/drive/MyDrive/Colab Datasets/Bootcamp Alura 2020/PeNSE_2015/arquivos xlsx/PENSE_AMOSTRA2_ALUNOESCOLA.xlsx  \n",
            "  inflating: /content/drive/MyDrive/Colab Datasets/Bootcamp Alura 2020/PeNSE_2015/arquivos xlsx/PENSE_AMOSTRA2_ESCOLA.xlsx  \n",
            "  inflating: /content/drive/MyDrive/Colab Datasets/Bootcamp Alura 2020/PeNSE_2015/Dicionario_PENSE_Microdados_AMOSTRA2.xls  \n"
          ],
          "name": "stdout"
        }
      ]
    },
    {
      "cell_type": "code",
      "metadata": {
        "id": "G_gKQuQMxxPE"
      },
      "source": [
        "!rm '/content/drive/MyDrive/Colab Datasets/Bootcamp Alura 2020/PeNSE_2015' -r"
      ],
      "execution_count": 10,
      "outputs": []
    },
    {
      "cell_type": "markdown",
      "metadata": {
        "id": "VHlj5AzHHmOL"
      },
      "source": [
        "#### Desafios 2 e 3 - Analisar variáveis qualitativas vs quantitativas"
      ]
    },
    {
      "cell_type": "markdown",
      "metadata": {
        "id": "30JHmfhPHp9B"
      },
      "source": [
        "1. **Qualitativas**\n",
        "    *   Contínuas: peso do estudante (VB17003), altura do estudante (VB17004).\n",
        "    *   Discretas: quantas pessoas moram na sua casa (VB01010A), quantos banheiros com chuveiro tem na sua casa (VB01019), idade de quando fumou a primeira vez (VB04002).\n",
        "\n",
        "2. **Quantitativas**\n",
        "   *   Nominais: sexo (VB01001), cor/raça (VB01002), qual turno estuda (VB01022).\n",
        "   *   Ordinais: mês de aniversário (VB01004), grau de escolaridade mais elevado que pretende concluir (VB01025), quantos dias usou maconha nos últimos 30 dias (VB06004A)."
      ]
    },
    {
      "cell_type": "markdown",
      "metadata": {
        "id": "A7SAkWKTFznS"
      },
      "source": [
        "## Parte 2 - Dados qualitativos e tabelas de frequência"
      ]
    },
    {
      "cell_type": "code",
      "metadata": {
        "colab": {
          "base_uri": "https://localhost:8080/"
        },
        "id": "NSwpIfNrxw2r",
        "outputId": "52a43e88-0928-4176-8c9c-910bc55ce842"
      },
      "source": [
        "dados['VB01001'].value_counts()"
      ],
      "execution_count": 11,
      "outputs": [
        {
          "output_type": "execute_result",
          "data": {
            "text/plain": [
              "1    8287\n",
              "2    8269\n",
              "Name: VB01001, dtype: int64"
            ]
          },
          "metadata": {
            "tags": []
          },
          "execution_count": 11
        }
      ]
    },
    {
      "cell_type": "code",
      "metadata": {
        "colab": {
          "base_uri": "https://localhost:8080/"
        },
        "id": "A-A0R-v9fcPJ",
        "outputId": "10c3cbae-96ee-47c0-c7d8-5075b3861644"
      },
      "source": [
        "dados['VB01001'].value_counts(normalize=True) * 100"
      ],
      "execution_count": 12,
      "outputs": [
        {
          "output_type": "execute_result",
          "data": {
            "text/plain": [
              "1    50.054361\n",
              "2    49.945639\n",
              "Name: VB01001, dtype: float64"
            ]
          },
          "metadata": {
            "tags": []
          },
          "execution_count": 12
        }
      ]
    },
    {
      "cell_type": "code",
      "metadata": {
        "colab": {
          "base_uri": "https://localhost:8080/"
        },
        "id": "Z3HhT1Arfcr0",
        "outputId": "5355c4c1-0a37-4940-8b33-893e52bae759"
      },
      "source": [
        "freq = dados['VB11007'].value_counts()\n",
        "freq"
      ],
      "execution_count": 13,
      "outputs": [
        {
          "output_type": "execute_result",
          "data": {
            "text/plain": [
              "2     6920\n",
              "1     4608\n",
              "4     2326\n",
              "3     1807\n",
              "5      714\n",
              "99     181\n",
              "Name: VB11007, dtype: int64"
            ]
          },
          "metadata": {
            "tags": []
          },
          "execution_count": 13
        }
      ]
    },
    {
      "cell_type": "code",
      "metadata": {
        "colab": {
          "base_uri": "https://localhost:8080/"
        },
        "id": "eBZmqtp0fcpN",
        "outputId": "1fbd6694-32e2-489a-de9d-ac58702bc14d"
      },
      "source": [
        "percent = dados['VB11007'].value_counts(normalize=True) * 100\n",
        "percent"
      ],
      "execution_count": 14,
      "outputs": [
        {
          "output_type": "execute_result",
          "data": {
            "text/plain": [
              "2     41.797536\n",
              "1     27.832810\n",
              "4     14.049287\n",
              "3     10.914472\n",
              "5      4.312636\n",
              "99     1.093259\n",
              "Name: VB11007, dtype: float64"
            ]
          },
          "metadata": {
            "tags": []
          },
          "execution_count": 14
        }
      ]
    },
    {
      "cell_type": "code",
      "metadata": {
        "colab": {
          "base_uri": "https://localhost:8080/",
          "height": 0
        },
        "id": "TawXfGOofclA",
        "outputId": "ee96027b-74df-4fde-c5d1-13cea9621a95"
      },
      "source": [
        "respostas = {\n",
        "    1: 'Muito satisfeito',\n",
        "    2: 'Satisfeito',\n",
        "    3: 'Indiferente',\n",
        "    4: 'Insatisfeito',\n",
        "    5: 'Muito insatisfeito',\n",
        "    99: 'Não informado'\n",
        "}\n",
        "\n",
        "dist_freq = pd.DataFrame({'Frequência': freq,\n",
        "                          'Percentual': percent})\n",
        "dist_freq.rename(index = respostas, inplace = True)\n",
        "dist_freq.rename_axis('Sentimento em relação ao seu corpo', axis=1, inplace=True)\n",
        "\n",
        "dist_freq"
      ],
      "execution_count": 15,
      "outputs": [
        {
          "output_type": "execute_result",
          "data": {
            "text/html": [
              "<div>\n",
              "<style scoped>\n",
              "    .dataframe tbody tr th:only-of-type {\n",
              "        vertical-align: middle;\n",
              "    }\n",
              "\n",
              "    .dataframe tbody tr th {\n",
              "        vertical-align: top;\n",
              "    }\n",
              "\n",
              "    .dataframe thead th {\n",
              "        text-align: right;\n",
              "    }\n",
              "</style>\n",
              "<table border=\"1\" class=\"dataframe\">\n",
              "  <thead>\n",
              "    <tr style=\"text-align: right;\">\n",
              "      <th>Sentimento em relação ao seu corpo</th>\n",
              "      <th>Frequência</th>\n",
              "      <th>Percentual</th>\n",
              "    </tr>\n",
              "  </thead>\n",
              "  <tbody>\n",
              "    <tr>\n",
              "      <th>Satisfeito</th>\n",
              "      <td>6920</td>\n",
              "      <td>41.797536</td>\n",
              "    </tr>\n",
              "    <tr>\n",
              "      <th>Muito satisfeito</th>\n",
              "      <td>4608</td>\n",
              "      <td>27.832810</td>\n",
              "    </tr>\n",
              "    <tr>\n",
              "      <th>Insatisfeito</th>\n",
              "      <td>2326</td>\n",
              "      <td>14.049287</td>\n",
              "    </tr>\n",
              "    <tr>\n",
              "      <th>Indiferente</th>\n",
              "      <td>1807</td>\n",
              "      <td>10.914472</td>\n",
              "    </tr>\n",
              "    <tr>\n",
              "      <th>Muito insatisfeito</th>\n",
              "      <td>714</td>\n",
              "      <td>4.312636</td>\n",
              "    </tr>\n",
              "    <tr>\n",
              "      <th>Não informado</th>\n",
              "      <td>181</td>\n",
              "      <td>1.093259</td>\n",
              "    </tr>\n",
              "  </tbody>\n",
              "</table>\n",
              "</div>"
            ],
            "text/plain": [
              "Sentimento em relação ao seu corpo  Frequência  Percentual\n",
              "Satisfeito                                6920   41.797536\n",
              "Muito satisfeito                          4608   27.832810\n",
              "Insatisfeito                              2326   14.049287\n",
              "Indiferente                               1807   10.914472\n",
              "Muito insatisfeito                         714    4.312636\n",
              "Não informado                              181    1.093259"
            ]
          },
          "metadata": {
            "tags": []
          },
          "execution_count": 15
        }
      ]
    },
    {
      "cell_type": "markdown",
      "metadata": {
        "id": "V2JoHAwNoaIg"
      },
      "source": [
        "### Desafio - Criar função p/ tabelas de frequência"
      ]
    },
    {
      "cell_type": "markdown",
      "metadata": {
        "id": "KiTuZO7DocBv"
      },
      "source": [
        "* Desafio 4: Criar uma função para gerar as tabelas de frequência e fazer análise de outras informações com essa função"
      ]
    },
    {
      "cell_type": "code",
      "metadata": {
        "id": "Ot_WyUAkovp_"
      },
      "source": [
        "def criar_tab_freq(dataset, coluna, descricao_coluna, respostas = None):\n",
        "    freq = dataset[coluna].value_counts()\n",
        "    percent = dataset[coluna].value_counts(normalize=True) * 100\n",
        "\n",
        "    dist_freq = pd.DataFrame({'Frequência': freq,\n",
        "                          'Percentual': percent})\n",
        "    if respostas != None:\n",
        "        dist_freq.rename(index = respostas, inplace = True)\n",
        "    dist_freq.rename_axis(descricao_coluna, axis=1, inplace=True)\n",
        "\n",
        "    return dist_freq"
      ],
      "execution_count": 16,
      "outputs": []
    },
    {
      "cell_type": "code",
      "metadata": {
        "colab": {
          "base_uri": "https://localhost:8080/",
          "height": 0
        },
        "id": "apdzwRAxrG44",
        "outputId": "a2aa669d-c31a-4acd-82d6-68dc80066847"
      },
      "source": [
        "respostas = {\n",
        "    1:\t'Nenhum dia',\n",
        "    2:\t'1 dia',\n",
        "    3:\t'2 dias',\n",
        "    4:\t'3 dias',\n",
        "    5:\t'4 dias',\n",
        "    6:\t'5 dias',\n",
        "    7:\t'5 dias mais sábado',\n",
        "    8:\t'5 dias mais sábado e domingo',\n",
        "    99: 'Não informado'\n",
        "}\n",
        "\n",
        "educacao_fisica_freq = criar_tab_freq(dados, 'VB03003A', 'Frequência semanal de aulas de educação física', respostas)\n",
        "educacao_fisica_freq"
      ],
      "execution_count": 17,
      "outputs": [
        {
          "output_type": "execute_result",
          "data": {
            "text/html": [
              "<div>\n",
              "<style scoped>\n",
              "    .dataframe tbody tr th:only-of-type {\n",
              "        vertical-align: middle;\n",
              "    }\n",
              "\n",
              "    .dataframe tbody tr th {\n",
              "        vertical-align: top;\n",
              "    }\n",
              "\n",
              "    .dataframe thead th {\n",
              "        text-align: right;\n",
              "    }\n",
              "</style>\n",
              "<table border=\"1\" class=\"dataframe\">\n",
              "  <thead>\n",
              "    <tr style=\"text-align: right;\">\n",
              "      <th>Frequência semanal de aulas de educação física</th>\n",
              "      <th>Frequência</th>\n",
              "      <th>Percentual</th>\n",
              "    </tr>\n",
              "  </thead>\n",
              "  <tbody>\n",
              "    <tr>\n",
              "      <th>1 dia</th>\n",
              "      <td>6569</td>\n",
              "      <td>39.677458</td>\n",
              "    </tr>\n",
              "    <tr>\n",
              "      <th>2 dias</th>\n",
              "      <td>4858</td>\n",
              "      <td>29.342836</td>\n",
              "    </tr>\n",
              "    <tr>\n",
              "      <th>Nenhum dia</th>\n",
              "      <td>3240</td>\n",
              "      <td>19.569944</td>\n",
              "    </tr>\n",
              "    <tr>\n",
              "      <th>3 dias</th>\n",
              "      <td>982</td>\n",
              "      <td>5.931384</td>\n",
              "    </tr>\n",
              "    <tr>\n",
              "      <th>5 dias</th>\n",
              "      <td>348</td>\n",
              "      <td>2.101957</td>\n",
              "    </tr>\n",
              "    <tr>\n",
              "      <th>4 dias</th>\n",
              "      <td>261</td>\n",
              "      <td>1.576468</td>\n",
              "    </tr>\n",
              "    <tr>\n",
              "      <th>5 dias mais sábado e domingo</th>\n",
              "      <td>139</td>\n",
              "      <td>0.839575</td>\n",
              "    </tr>\n",
              "    <tr>\n",
              "      <th>5 dias mais sábado</th>\n",
              "      <td>107</td>\n",
              "      <td>0.646291</td>\n",
              "    </tr>\n",
              "    <tr>\n",
              "      <th>Não informado</th>\n",
              "      <td>52</td>\n",
              "      <td>0.314086</td>\n",
              "    </tr>\n",
              "  </tbody>\n",
              "</table>\n",
              "</div>"
            ],
            "text/plain": [
              "Frequência semanal de aulas de educação física  Frequência  Percentual\n",
              "1 dia                                                 6569   39.677458\n",
              "2 dias                                                4858   29.342836\n",
              "Nenhum dia                                            3240   19.569944\n",
              "3 dias                                                 982    5.931384\n",
              "5 dias                                                 348    2.101957\n",
              "4 dias                                                 261    1.576468\n",
              "5 dias mais sábado e domingo                           139    0.839575\n",
              "5 dias mais sábado                                     107    0.646291\n",
              "Não informado                                           52    0.314086"
            ]
          },
          "metadata": {
            "tags": []
          },
          "execution_count": 17
        }
      ]
    },
    {
      "cell_type": "code",
      "metadata": {
        "colab": {
          "base_uri": "https://localhost:8080/",
          "height": 0
        },
        "id": "XUShCSburksv",
        "outputId": "ee1ff254-fe9e-4841-a2d4-8824907007d9"
      },
      "source": [
        "respostas = {\n",
        "    1:\t'Nenhum dia',\n",
        "    2:\t'1 dia',\n",
        "    3:\t'2 dias',\n",
        "    4:\t'3 dias',\n",
        "    5:\t'4 dias',\n",
        "    6:\t'5 dias',\n",
        "    7:\t'5 dias mais sábado',\n",
        "    8:\t'5 dias mais sábado e domingo',\n",
        "    99: 'Não informado'\n",
        "}\n",
        "\n",
        "descricao = 'Frequência semanal de volta da escola a pé/bicicleta'\n",
        "volta_escola = criar_tab_freq(dados, 'VB03001A2', descricao, respostas)\n",
        "volta_escola"
      ],
      "execution_count": 18,
      "outputs": [
        {
          "output_type": "execute_result",
          "data": {
            "text/html": [
              "<div>\n",
              "<style scoped>\n",
              "    .dataframe tbody tr th:only-of-type {\n",
              "        vertical-align: middle;\n",
              "    }\n",
              "\n",
              "    .dataframe tbody tr th {\n",
              "        vertical-align: top;\n",
              "    }\n",
              "\n",
              "    .dataframe thead th {\n",
              "        text-align: right;\n",
              "    }\n",
              "</style>\n",
              "<table border=\"1\" class=\"dataframe\">\n",
              "  <thead>\n",
              "    <tr style=\"text-align: right;\">\n",
              "      <th>Frequência semanal de volta da escola a pé/bicicleta</th>\n",
              "      <th>Frequência</th>\n",
              "      <th>Percentual</th>\n",
              "    </tr>\n",
              "  </thead>\n",
              "  <tbody>\n",
              "    <tr>\n",
              "      <th>Nenhum dia</th>\n",
              "      <td>7505</td>\n",
              "      <td>45.330998</td>\n",
              "    </tr>\n",
              "    <tr>\n",
              "      <th>5 dias</th>\n",
              "      <td>4488</td>\n",
              "      <td>27.107997</td>\n",
              "    </tr>\n",
              "    <tr>\n",
              "      <th>5 dias mais sábado e domingo</th>\n",
              "      <td>1375</td>\n",
              "      <td>8.305146</td>\n",
              "    </tr>\n",
              "    <tr>\n",
              "      <th>5 dias mais sábado</th>\n",
              "      <td>980</td>\n",
              "      <td>5.919304</td>\n",
              "    </tr>\n",
              "    <tr>\n",
              "      <th>1 dia</th>\n",
              "      <td>884</td>\n",
              "      <td>5.339454</td>\n",
              "    </tr>\n",
              "    <tr>\n",
              "      <th>2 dias</th>\n",
              "      <td>467</td>\n",
              "      <td>2.820730</td>\n",
              "    </tr>\n",
              "    <tr>\n",
              "      <th>3 dias</th>\n",
              "      <td>441</td>\n",
              "      <td>2.663687</td>\n",
              "    </tr>\n",
              "    <tr>\n",
              "      <th>4 dias</th>\n",
              "      <td>370</td>\n",
              "      <td>2.234839</td>\n",
              "    </tr>\n",
              "    <tr>\n",
              "      <th>Não informado</th>\n",
              "      <td>46</td>\n",
              "      <td>0.277845</td>\n",
              "    </tr>\n",
              "  </tbody>\n",
              "</table>\n",
              "</div>"
            ],
            "text/plain": [
              "Frequência semanal de volta da escola a pé/bicicleta  Frequência  Percentual\n",
              "Nenhum dia                                                  7505   45.330998\n",
              "5 dias                                                      4488   27.107997\n",
              "5 dias mais sábado e domingo                                1375    8.305146\n",
              "5 dias mais sábado                                           980    5.919304\n",
              "1 dia                                                        884    5.339454\n",
              "2 dias                                                       467    2.820730\n",
              "3 dias                                                       441    2.663687\n",
              "4 dias                                                       370    2.234839\n",
              "Não informado                                                 46    0.277845"
            ]
          },
          "metadata": {
            "tags": []
          },
          "execution_count": 18
        }
      ]
    },
    {
      "cell_type": "code",
      "metadata": {
        "colab": {
          "base_uri": "https://localhost:8080/",
          "height": 0
        },
        "id": "SXjfNKN8sfyD",
        "outputId": "d4c9dd68-d385-403b-c969-201736f6847b"
      },
      "source": [
        "respostas = {\n",
        "    -1:\t'Pulo no questionário',\n",
        "    1: 'Nenhum dia',\n",
        "    2:\t'1 ou 2 dias',\n",
        "    3:\t'3 a 5 dias',\n",
        "    4:\t'6 a 9 dias',\n",
        "    5:\t'10 ou mais',\n",
        "    99: 'Não informado'\n",
        "}\n",
        "\n",
        "descricao = 'Frequência mensal de uso de drogas'\n",
        "uso_drogas = criar_tab_freq(dados, 'VB06003A', descricao, respostas)\n",
        "uso_drogas"
      ],
      "execution_count": 19,
      "outputs": [
        {
          "output_type": "execute_result",
          "data": {
            "text/html": [
              "<div>\n",
              "<style scoped>\n",
              "    .dataframe tbody tr th:only-of-type {\n",
              "        vertical-align: middle;\n",
              "    }\n",
              "\n",
              "    .dataframe tbody tr th {\n",
              "        vertical-align: top;\n",
              "    }\n",
              "\n",
              "    .dataframe thead th {\n",
              "        text-align: right;\n",
              "    }\n",
              "</style>\n",
              "<table border=\"1\" class=\"dataframe\">\n",
              "  <thead>\n",
              "    <tr style=\"text-align: right;\">\n",
              "      <th>Frequência mensal de uso de drogas</th>\n",
              "      <th>Frequência</th>\n",
              "      <th>Percentual</th>\n",
              "    </tr>\n",
              "  </thead>\n",
              "  <tbody>\n",
              "    <tr>\n",
              "      <th>Pulo no questionário</th>\n",
              "      <td>15117</td>\n",
              "      <td>91.308287</td>\n",
              "    </tr>\n",
              "    <tr>\n",
              "      <th>Nenhum dia</th>\n",
              "      <td>797</td>\n",
              "      <td>4.813965</td>\n",
              "    </tr>\n",
              "    <tr>\n",
              "      <th>1 ou 2 dias</th>\n",
              "      <td>318</td>\n",
              "      <td>1.920754</td>\n",
              "    </tr>\n",
              "    <tr>\n",
              "      <th>10 ou mais</th>\n",
              "      <td>155</td>\n",
              "      <td>0.936216</td>\n",
              "    </tr>\n",
              "    <tr>\n",
              "      <th>3 a 5 dias</th>\n",
              "      <td>99</td>\n",
              "      <td>0.597971</td>\n",
              "    </tr>\n",
              "    <tr>\n",
              "      <th>6 a 9 dias</th>\n",
              "      <td>62</td>\n",
              "      <td>0.374487</td>\n",
              "    </tr>\n",
              "    <tr>\n",
              "      <th>Não informado</th>\n",
              "      <td>8</td>\n",
              "      <td>0.048321</td>\n",
              "    </tr>\n",
              "  </tbody>\n",
              "</table>\n",
              "</div>"
            ],
            "text/plain": [
              "Frequência mensal de uso de drogas  Frequência  Percentual\n",
              "Pulo no questionário                     15117   91.308287\n",
              "Nenhum dia                                 797    4.813965\n",
              "1 ou 2 dias                                318    1.920754\n",
              "10 ou mais                                 155    0.936216\n",
              "3 a 5 dias                                  99    0.597971\n",
              "6 a 9 dias                                  62    0.374487\n",
              "Não informado                                8    0.048321"
            ]
          },
          "metadata": {
            "tags": []
          },
          "execution_count": 19
        }
      ]
    },
    {
      "cell_type": "markdown",
      "metadata": {
        "id": "e9gyxYDJr1FH"
      },
      "source": [
        "## Parte 3 - Frequência em dados contínuos e pandas CrossTab"
      ]
    },
    {
      "cell_type": "code",
      "metadata": {
        "colab": {
          "base_uri": "https://localhost:8080/"
        },
        "id": "gwSXxJNur3P_",
        "outputId": "abc0740c-c332-4be1-a8e1-1aad60021adb"
      },
      "source": [
        "dados['VB17004']"
      ],
      "execution_count": 20,
      "outputs": [
        {
          "output_type": "execute_result",
          "data": {
            "text/plain": [
              "0        157.0\n",
              "1        152.0\n",
              "2        161.4\n",
              "3        172.5\n",
              "4        167.5\n",
              "         ...  \n",
              "16551    167.9\n",
              "16552    185.8\n",
              "16553    159.4\n",
              "16554    157.8\n",
              "16555    163.9\n",
              "Name: VB17004, Length: 16556, dtype: float64"
            ]
          },
          "metadata": {
            "tags": []
          },
          "execution_count": 20
        }
      ]
    },
    {
      "cell_type": "code",
      "metadata": {
        "colab": {
          "base_uri": "https://localhost:8080/"
        },
        "id": "Z_DjHnZer3WF",
        "outputId": "178689ba-0c6b-47ff-f1b5-8dc927799f24"
      },
      "source": [
        "dados['IMC'] = dados[\"VB17003\"] / ((dados[\"VB17004\"]/100)**2)\n",
        "dados['IMC']"
      ],
      "execution_count": 21,
      "outputs": [
        {
          "output_type": "execute_result",
          "data": {
            "text/plain": [
              "0        15.051321\n",
              "1        21.727839\n",
              "2        18.502907\n",
              "3        23.322831\n",
              "4        28.122076\n",
              "           ...    \n",
              "16551    20.113223\n",
              "16552    17.930782\n",
              "16553    23.968489\n",
              "16554    18.995343\n",
              "16555    23.303246\n",
              "Name: IMC, Length: 16556, dtype: float64"
            ]
          },
          "metadata": {
            "tags": []
          },
          "execution_count": 21
        }
      ]
    },
    {
      "cell_type": "code",
      "metadata": {
        "colab": {
          "base_uri": "https://localhost:8080/",
          "height": 0
        },
        "id": "ddKL2WATr3TG",
        "outputId": "679bde52-19e0-4d03-e106-54e2fcd70737"
      },
      "source": [
        "classes = [ 0, 18.5, 25, 30, 60]\n",
        "labels = ['abaixo', 'normal', 'sobrepeso', 'obesidade']\n",
        "\n",
        "dados['CLASSE_IMC'] = pd.cut(x = dados['IMC'],\n",
        "       bins = classes,\n",
        "       labels = labels,\n",
        "       include_lowest = True)\n",
        "\n",
        "dados[['IMC', 'CLASSE_IMC']]"
      ],
      "execution_count": 22,
      "outputs": [
        {
          "output_type": "execute_result",
          "data": {
            "text/html": [
              "<div>\n",
              "<style scoped>\n",
              "    .dataframe tbody tr th:only-of-type {\n",
              "        vertical-align: middle;\n",
              "    }\n",
              "\n",
              "    .dataframe tbody tr th {\n",
              "        vertical-align: top;\n",
              "    }\n",
              "\n",
              "    .dataframe thead th {\n",
              "        text-align: right;\n",
              "    }\n",
              "</style>\n",
              "<table border=\"1\" class=\"dataframe\">\n",
              "  <thead>\n",
              "    <tr style=\"text-align: right;\">\n",
              "      <th></th>\n",
              "      <th>IMC</th>\n",
              "      <th>CLASSE_IMC</th>\n",
              "    </tr>\n",
              "  </thead>\n",
              "  <tbody>\n",
              "    <tr>\n",
              "      <th>0</th>\n",
              "      <td>15.051321</td>\n",
              "      <td>abaixo</td>\n",
              "    </tr>\n",
              "    <tr>\n",
              "      <th>1</th>\n",
              "      <td>21.727839</td>\n",
              "      <td>normal</td>\n",
              "    </tr>\n",
              "    <tr>\n",
              "      <th>2</th>\n",
              "      <td>18.502907</td>\n",
              "      <td>normal</td>\n",
              "    </tr>\n",
              "    <tr>\n",
              "      <th>3</th>\n",
              "      <td>23.322831</td>\n",
              "      <td>normal</td>\n",
              "    </tr>\n",
              "    <tr>\n",
              "      <th>4</th>\n",
              "      <td>28.122076</td>\n",
              "      <td>sobrepeso</td>\n",
              "    </tr>\n",
              "    <tr>\n",
              "      <th>...</th>\n",
              "      <td>...</td>\n",
              "      <td>...</td>\n",
              "    </tr>\n",
              "    <tr>\n",
              "      <th>16551</th>\n",
              "      <td>20.113223</td>\n",
              "      <td>normal</td>\n",
              "    </tr>\n",
              "    <tr>\n",
              "      <th>16552</th>\n",
              "      <td>17.930782</td>\n",
              "      <td>abaixo</td>\n",
              "    </tr>\n",
              "    <tr>\n",
              "      <th>16553</th>\n",
              "      <td>23.968489</td>\n",
              "      <td>normal</td>\n",
              "    </tr>\n",
              "    <tr>\n",
              "      <th>16554</th>\n",
              "      <td>18.995343</td>\n",
              "      <td>normal</td>\n",
              "    </tr>\n",
              "    <tr>\n",
              "      <th>16555</th>\n",
              "      <td>23.303246</td>\n",
              "      <td>normal</td>\n",
              "    </tr>\n",
              "  </tbody>\n",
              "</table>\n",
              "<p>16556 rows × 2 columns</p>\n",
              "</div>"
            ],
            "text/plain": [
              "             IMC CLASSE_IMC\n",
              "0      15.051321     abaixo\n",
              "1      21.727839     normal\n",
              "2      18.502907     normal\n",
              "3      23.322831     normal\n",
              "4      28.122076  sobrepeso\n",
              "...          ...        ...\n",
              "16551  20.113223     normal\n",
              "16552  17.930782     abaixo\n",
              "16553  23.968489     normal\n",
              "16554  18.995343     normal\n",
              "16555  23.303246     normal\n",
              "\n",
              "[16556 rows x 2 columns]"
            ]
          },
          "metadata": {
            "tags": []
          },
          "execution_count": 22
        }
      ]
    },
    {
      "cell_type": "code",
      "metadata": {
        "colab": {
          "base_uri": "https://localhost:8080/",
          "height": 0
        },
        "id": "T7GiYUVHv25B",
        "outputId": "23483b5c-de87-4fde-b883-8414e9e1bc7d"
      },
      "source": [
        "descricao = 'Classe IMC'\n",
        "classe_imc = criar_tab_freq(dados, 'CLASSE_IMC', descricao)\n",
        "classe_imc"
      ],
      "execution_count": 23,
      "outputs": [
        {
          "output_type": "execute_result",
          "data": {
            "text/html": [
              "<div>\n",
              "<style scoped>\n",
              "    .dataframe tbody tr th:only-of-type {\n",
              "        vertical-align: middle;\n",
              "    }\n",
              "\n",
              "    .dataframe tbody tr th {\n",
              "        vertical-align: top;\n",
              "    }\n",
              "\n",
              "    .dataframe thead th {\n",
              "        text-align: right;\n",
              "    }\n",
              "</style>\n",
              "<table border=\"1\" class=\"dataframe\">\n",
              "  <thead>\n",
              "    <tr style=\"text-align: right;\">\n",
              "      <th>Classe IMC</th>\n",
              "      <th>Frequência</th>\n",
              "      <th>Percentual</th>\n",
              "    </tr>\n",
              "  </thead>\n",
              "  <tbody>\n",
              "    <tr>\n",
              "      <th>normal</th>\n",
              "      <td>9188</td>\n",
              "      <td>55.496497</td>\n",
              "    </tr>\n",
              "    <tr>\n",
              "      <th>abaixo</th>\n",
              "      <td>4975</td>\n",
              "      <td>30.049529</td>\n",
              "    </tr>\n",
              "    <tr>\n",
              "      <th>sobrepeso</th>\n",
              "      <td>1760</td>\n",
              "      <td>10.630587</td>\n",
              "    </tr>\n",
              "    <tr>\n",
              "      <th>obesidade</th>\n",
              "      <td>633</td>\n",
              "      <td>3.823387</td>\n",
              "    </tr>\n",
              "  </tbody>\n",
              "</table>\n",
              "</div>"
            ],
            "text/plain": [
              "Classe IMC  Frequência  Percentual\n",
              "normal            9188   55.496497\n",
              "abaixo            4975   30.049529\n",
              "sobrepeso         1760   10.630587\n",
              "obesidade          633    3.823387"
            ]
          },
          "metadata": {
            "tags": []
          },
          "execution_count": 23
        }
      ]
    },
    {
      "cell_type": "code",
      "metadata": {
        "colab": {
          "base_uri": "https://localhost:8080/"
        },
        "id": "k5tnkeRMxdiH",
        "outputId": "de2b0000-155c-49b3-db6c-df2be5a559c9"
      },
      "source": [
        "import numpy as np\n",
        "\n",
        "tam_amostra = len(dados)\n",
        "k = int(1 + ((10/3)*np.log10(tam_amostra)))\n",
        "\n",
        "k"
      ],
      "execution_count": 24,
      "outputs": [
        {
          "output_type": "execute_result",
          "data": {
            "text/plain": [
              "15"
            ]
          },
          "metadata": {
            "tags": []
          },
          "execution_count": 24
        }
      ]
    },
    {
      "cell_type": "code",
      "metadata": {
        "colab": {
          "base_uri": "https://localhost:8080/",
          "height": 0
        },
        "id": "P9lHT8RWuicS",
        "outputId": "2413e07f-74e9-4e24-9cf5-de29d11f2885"
      },
      "source": [
        "dados['CLASSE_ALTURA'] = pd.cut(\n",
        "    x = dados['VB17004'],\n",
        "    bins = k,\n",
        "    include_lowest = True)\n",
        "\n",
        "classe_altura = criar_tab_freq(dados, 'CLASSE_ALTURA', 'Classe Altura')\n",
        "classe_altura"
      ],
      "execution_count": 25,
      "outputs": [
        {
          "output_type": "execute_result",
          "data": {
            "text/html": [
              "<div>\n",
              "<style scoped>\n",
              "    .dataframe tbody tr th:only-of-type {\n",
              "        vertical-align: middle;\n",
              "    }\n",
              "\n",
              "    .dataframe tbody tr th {\n",
              "        vertical-align: top;\n",
              "    }\n",
              "\n",
              "    .dataframe thead th {\n",
              "        text-align: right;\n",
              "    }\n",
              "</style>\n",
              "<table border=\"1\" class=\"dataframe\">\n",
              "  <thead>\n",
              "    <tr style=\"text-align: right;\">\n",
              "      <th>Classe Altura</th>\n",
              "      <th>Frequência</th>\n",
              "      <th>Percentual</th>\n",
              "    </tr>\n",
              "  </thead>\n",
              "  <tbody>\n",
              "    <tr>\n",
              "      <th>(157.327, 162.073]</th>\n",
              "      <td>3110</td>\n",
              "      <td>18.784731</td>\n",
              "    </tr>\n",
              "    <tr>\n",
              "      <th>(152.58, 157.327]</th>\n",
              "      <td>2734</td>\n",
              "      <td>16.513651</td>\n",
              "    </tr>\n",
              "    <tr>\n",
              "      <th>(162.073, 166.82]</th>\n",
              "      <td>2550</td>\n",
              "      <td>15.402271</td>\n",
              "    </tr>\n",
              "    <tr>\n",
              "      <th>(166.82, 171.567]</th>\n",
              "      <td>2063</td>\n",
              "      <td>12.460739</td>\n",
              "    </tr>\n",
              "    <tr>\n",
              "      <th>(147.833, 152.58]</th>\n",
              "      <td>1782</td>\n",
              "      <td>10.763469</td>\n",
              "    </tr>\n",
              "    <tr>\n",
              "      <th>(171.567, 176.313]</th>\n",
              "      <td>1416</td>\n",
              "      <td>8.552791</td>\n",
              "    </tr>\n",
              "    <tr>\n",
              "      <th>(143.087, 147.833]</th>\n",
              "      <td>1012</td>\n",
              "      <td>6.112588</td>\n",
              "    </tr>\n",
              "    <tr>\n",
              "      <th>(176.313, 181.06]</th>\n",
              "      <td>749</td>\n",
              "      <td>4.524040</td>\n",
              "    </tr>\n",
              "    <tr>\n",
              "      <th>(138.34, 143.087]</th>\n",
              "      <td>484</td>\n",
              "      <td>2.923411</td>\n",
              "    </tr>\n",
              "    <tr>\n",
              "      <th>(181.06, 185.807]</th>\n",
              "      <td>300</td>\n",
              "      <td>1.812032</td>\n",
              "    </tr>\n",
              "    <tr>\n",
              "      <th>(133.593, 138.34]</th>\n",
              "      <td>199</td>\n",
              "      <td>1.201981</td>\n",
              "    </tr>\n",
              "    <tr>\n",
              "      <th>(185.807, 190.553]</th>\n",
              "      <td>94</td>\n",
              "      <td>0.567770</td>\n",
              "    </tr>\n",
              "    <tr>\n",
              "      <th>(128.847, 133.593]</th>\n",
              "      <td>47</td>\n",
              "      <td>0.283885</td>\n",
              "    </tr>\n",
              "    <tr>\n",
              "      <th>(190.553, 195.3]</th>\n",
              "      <td>13</td>\n",
              "      <td>0.078521</td>\n",
              "    </tr>\n",
              "    <tr>\n",
              "      <th>(124.02799999999999, 128.847]</th>\n",
              "      <td>3</td>\n",
              "      <td>0.018120</td>\n",
              "    </tr>\n",
              "  </tbody>\n",
              "</table>\n",
              "</div>"
            ],
            "text/plain": [
              "Classe Altura                  Frequência  Percentual\n",
              "(157.327, 162.073]                   3110   18.784731\n",
              "(152.58, 157.327]                    2734   16.513651\n",
              "(162.073, 166.82]                    2550   15.402271\n",
              "(166.82, 171.567]                    2063   12.460739\n",
              "(147.833, 152.58]                    1782   10.763469\n",
              "(171.567, 176.313]                   1416    8.552791\n",
              "(143.087, 147.833]                   1012    6.112588\n",
              "(176.313, 181.06]                     749    4.524040\n",
              "(138.34, 143.087]                     484    2.923411\n",
              "(181.06, 185.807]                     300    1.812032\n",
              "(133.593, 138.34]                     199    1.201981\n",
              "(185.807, 190.553]                     94    0.567770\n",
              "(128.847, 133.593]                     47    0.283885\n",
              "(190.553, 195.3]                       13    0.078521\n",
              "(124.02799999999999, 128.847]           3    0.018120"
            ]
          },
          "metadata": {
            "tags": []
          },
          "execution_count": 25
        }
      ]
    },
    {
      "cell_type": "code",
      "metadata": {
        "colab": {
          "base_uri": "https://localhost:8080/",
          "height": 0
        },
        "id": "_g2_vGSxuiY_",
        "outputId": "9a7196ab-edcf-429f-bde3-76d064d21927"
      },
      "source": [
        "respostas = {\n",
        "    1: 'Muito satisfeito',\n",
        "    2: 'Satisfeito',\n",
        "    3: 'Indiferente',\n",
        "    4: 'Insatisfeito',\n",
        "    5: 'Muito insatisfeito',\n",
        "    99: 'Não informado'\n",
        "}\n",
        "\n",
        "# considerando a população total pelas linhas E colunas\n",
        "freq_cruzada = pd.crosstab(dados['VB11007'], dados['VB01001'], normalize = True,\n",
        "                           rownames=['Satisfação com o próprio corpo'],\n",
        "                           colnames=['Sexo']) * 100\n",
        "freq_cruzada.rename(index = respostas, inplace = True)\n",
        "freq_cruzada.rename(columns = {1: 'Masculino', 2: 'Feminino'}, inplace = True)\n",
        "freq_cruzada"
      ],
      "execution_count": 26,
      "outputs": [
        {
          "output_type": "execute_result",
          "data": {
            "text/html": [
              "<div>\n",
              "<style scoped>\n",
              "    .dataframe tbody tr th:only-of-type {\n",
              "        vertical-align: middle;\n",
              "    }\n",
              "\n",
              "    .dataframe tbody tr th {\n",
              "        vertical-align: top;\n",
              "    }\n",
              "\n",
              "    .dataframe thead th {\n",
              "        text-align: right;\n",
              "    }\n",
              "</style>\n",
              "<table border=\"1\" class=\"dataframe\">\n",
              "  <thead>\n",
              "    <tr style=\"text-align: right;\">\n",
              "      <th>Sexo</th>\n",
              "      <th>Masculino</th>\n",
              "      <th>Feminino</th>\n",
              "    </tr>\n",
              "    <tr>\n",
              "      <th>Satisfação com o próprio corpo</th>\n",
              "      <th></th>\n",
              "      <th></th>\n",
              "    </tr>\n",
              "  </thead>\n",
              "  <tbody>\n",
              "    <tr>\n",
              "      <th>Muito satisfeito</th>\n",
              "      <td>16.199565</td>\n",
              "      <td>11.633245</td>\n",
              "    </tr>\n",
              "    <tr>\n",
              "      <th>Satisfeito</th>\n",
              "      <td>21.079971</td>\n",
              "      <td>20.717565</td>\n",
              "    </tr>\n",
              "    <tr>\n",
              "      <th>Indiferente</th>\n",
              "      <td>5.738101</td>\n",
              "      <td>5.176371</td>\n",
              "    </tr>\n",
              "    <tr>\n",
              "      <th>Insatisfeito</th>\n",
              "      <td>4.747524</td>\n",
              "      <td>9.301764</td>\n",
              "    </tr>\n",
              "    <tr>\n",
              "      <th>Muito insatisfeito</th>\n",
              "      <td>1.570428</td>\n",
              "      <td>2.742208</td>\n",
              "    </tr>\n",
              "    <tr>\n",
              "      <th>Não informado</th>\n",
              "      <td>0.718773</td>\n",
              "      <td>0.374487</td>\n",
              "    </tr>\n",
              "  </tbody>\n",
              "</table>\n",
              "</div>"
            ],
            "text/plain": [
              "Sexo                            Masculino   Feminino\n",
              "Satisfação com o próprio corpo                      \n",
              "Muito satisfeito                16.199565  11.633245\n",
              "Satisfeito                      21.079971  20.717565\n",
              "Indiferente                      5.738101   5.176371\n",
              "Insatisfeito                     4.747524   9.301764\n",
              "Muito insatisfeito               1.570428   2.742208\n",
              "Não informado                    0.718773   0.374487"
            ]
          },
          "metadata": {
            "tags": []
          },
          "execution_count": 26
        }
      ]
    },
    {
      "cell_type": "code",
      "metadata": {
        "colab": {
          "base_uri": "https://localhost:8080/",
          "height": 0
        },
        "id": "a07UQeYw71bQ",
        "outputId": "a63733ed-9818-462e-ab9f-3d8517ef2e89"
      },
      "source": [
        "fig = freq_cruzada.plot(backend='plotly', kind='bar')\n",
        "\n",
        "\n",
        "fig.update_layout(\n",
        "    title_text = 'PeNSE - Pesquisa Nacional de Saúde do Escolar<br /><b>O quão satisfeito você está com o seu corpo?</b>',\n",
        "    xaxis_title_text = 'Grau de satisfação',\n",
        "    yaxis_title_text = '% de escolares que responderam',\n",
        "    legend_title_text = 'Sexo do escolar',\n",
        "    template = 'plotly_white',\n",
        "    autosize = False,\n",
        "    width = 800,\n",
        "    height = 600\n",
        ")\n",
        "\n",
        "fig.show()"
      ],
      "execution_count": 27,
      "outputs": [
        {
          "output_type": "display_data",
          "data": {
            "text/html": [
              "<html>\n",
              "<head><meta charset=\"utf-8\" /></head>\n",
              "<body>\n",
              "    <div>            <script src=\"https://cdnjs.cloudflare.com/ajax/libs/mathjax/2.7.5/MathJax.js?config=TeX-AMS-MML_SVG\"></script><script type=\"text/javascript\">if (window.MathJax) {MathJax.Hub.Config({SVG: {font: \"STIX-Web\"}});}</script>                <script type=\"text/javascript\">window.PlotlyConfig = {MathJaxConfig: 'local'};</script>\n",
              "        <script src=\"https://cdn.plot.ly/plotly-latest.min.js\"></script>                <div id=\"2ac26e1f-1bac-4760-9a9e-ad0469dfb649\" class=\"plotly-graph-div\" style=\"height:600px; width:800px;\"></div>            <script type=\"text/javascript\">                                    window.PLOTLYENV=window.PLOTLYENV || {};                                    if (document.getElementById(\"2ac26e1f-1bac-4760-9a9e-ad0469dfb649\")) {                    Plotly.newPlot(                        \"2ac26e1f-1bac-4760-9a9e-ad0469dfb649\",                        [{\"alignmentgroup\": \"True\", \"hovertemplate\": \"Sexo=Masculino<br>Satisfa\\u00e7\\u00e3o com o pr\\u00f3prio corpo=%{x}<br>value=%{y}<extra></extra>\", \"legendgroup\": \"Masculino\", \"marker\": {\"color\": \"#636efa\"}, \"name\": \"Masculino\", \"offsetgroup\": \"Masculino\", \"orientation\": \"v\", \"showlegend\": true, \"textposition\": \"auto\", \"type\": \"bar\", \"x\": [\"Muito satisfeito\", \"Satisfeito\", \"Indiferente\", \"Insatisfeito\", \"Muito insatisfeito\", \"N\\u00e3o informado\"], \"xaxis\": \"x\", \"y\": [16.199565112345976, 21.079971007489732, 5.7381009905774345, 4.747523556414593, 1.5704276395264556, 0.718772650398647], \"yaxis\": \"y\"}, {\"alignmentgroup\": \"True\", \"hovertemplate\": \"Sexo=Feminino<br>Satisfa\\u00e7\\u00e3o com o pr\\u00f3prio corpo=%{x}<br>value=%{y}<extra></extra>\", \"legendgroup\": \"Feminino\", \"marker\": {\"color\": \"#EF553B\"}, \"name\": \"Feminino\", \"offsetgroup\": \"Feminino\", \"orientation\": \"v\", \"showlegend\": true, \"textposition\": \"auto\", \"type\": \"bar\", \"x\": [\"Muito satisfeito\", \"Satisfeito\", \"Indiferente\", \"Insatisfeito\", \"Muito insatisfeito\", \"N\\u00e3o informado\"], \"xaxis\": \"x\", \"y\": [11.633244745107515, 20.71756462913747, 5.176371104131432, 9.301763711041314, 2.7422082628654265, 0.37448659096400094], \"yaxis\": \"y\"}],                        {\"autosize\": false, \"barmode\": \"relative\", \"height\": 600, \"legend\": {\"title\": {\"text\": \"Sexo do escolar\"}, \"tracegroupgap\": 0}, \"margin\": {\"t\": 60}, \"template\": {\"data\": {\"bar\": [{\"error_x\": {\"color\": \"#2a3f5f\"}, \"error_y\": {\"color\": \"#2a3f5f\"}, \"marker\": {\"line\": {\"color\": \"white\", \"width\": 0.5}}, \"type\": \"bar\"}], \"barpolar\": [{\"marker\": {\"line\": {\"color\": \"white\", \"width\": 0.5}}, \"type\": \"barpolar\"}], \"carpet\": [{\"aaxis\": {\"endlinecolor\": \"#2a3f5f\", \"gridcolor\": \"#C8D4E3\", \"linecolor\": \"#C8D4E3\", \"minorgridcolor\": \"#C8D4E3\", \"startlinecolor\": \"#2a3f5f\"}, \"baxis\": {\"endlinecolor\": \"#2a3f5f\", \"gridcolor\": \"#C8D4E3\", \"linecolor\": \"#C8D4E3\", \"minorgridcolor\": \"#C8D4E3\", \"startlinecolor\": \"#2a3f5f\"}, \"type\": \"carpet\"}], \"choropleth\": [{\"colorbar\": {\"outlinewidth\": 0, \"ticks\": \"\"}, \"type\": \"choropleth\"}], \"contour\": [{\"colorbar\": {\"outlinewidth\": 0, \"ticks\": \"\"}, \"colorscale\": [[0.0, \"#0d0887\"], [0.1111111111111111, \"#46039f\"], [0.2222222222222222, \"#7201a8\"], [0.3333333333333333, \"#9c179e\"], [0.4444444444444444, \"#bd3786\"], [0.5555555555555556, \"#d8576b\"], [0.6666666666666666, \"#ed7953\"], [0.7777777777777778, \"#fb9f3a\"], [0.8888888888888888, \"#fdca26\"], [1.0, \"#f0f921\"]], \"type\": \"contour\"}], \"contourcarpet\": [{\"colorbar\": {\"outlinewidth\": 0, \"ticks\": \"\"}, \"type\": \"contourcarpet\"}], \"heatmap\": [{\"colorbar\": {\"outlinewidth\": 0, \"ticks\": \"\"}, \"colorscale\": [[0.0, \"#0d0887\"], [0.1111111111111111, \"#46039f\"], [0.2222222222222222, \"#7201a8\"], [0.3333333333333333, \"#9c179e\"], [0.4444444444444444, \"#bd3786\"], [0.5555555555555556, \"#d8576b\"], [0.6666666666666666, \"#ed7953\"], [0.7777777777777778, \"#fb9f3a\"], [0.8888888888888888, \"#fdca26\"], [1.0, \"#f0f921\"]], \"type\": \"heatmap\"}], \"heatmapgl\": [{\"colorbar\": {\"outlinewidth\": 0, \"ticks\": \"\"}, \"colorscale\": [[0.0, \"#0d0887\"], [0.1111111111111111, \"#46039f\"], [0.2222222222222222, \"#7201a8\"], [0.3333333333333333, \"#9c179e\"], [0.4444444444444444, \"#bd3786\"], [0.5555555555555556, \"#d8576b\"], [0.6666666666666666, \"#ed7953\"], [0.7777777777777778, \"#fb9f3a\"], [0.8888888888888888, \"#fdca26\"], [1.0, \"#f0f921\"]], \"type\": \"heatmapgl\"}], \"histogram\": [{\"marker\": {\"colorbar\": {\"outlinewidth\": 0, \"ticks\": \"\"}}, \"type\": \"histogram\"}], \"histogram2d\": [{\"colorbar\": {\"outlinewidth\": 0, \"ticks\": \"\"}, \"colorscale\": [[0.0, \"#0d0887\"], [0.1111111111111111, \"#46039f\"], [0.2222222222222222, \"#7201a8\"], [0.3333333333333333, \"#9c179e\"], [0.4444444444444444, \"#bd3786\"], [0.5555555555555556, \"#d8576b\"], [0.6666666666666666, \"#ed7953\"], [0.7777777777777778, \"#fb9f3a\"], [0.8888888888888888, \"#fdca26\"], [1.0, \"#f0f921\"]], \"type\": \"histogram2d\"}], \"histogram2dcontour\": [{\"colorbar\": {\"outlinewidth\": 0, \"ticks\": \"\"}, \"colorscale\": [[0.0, \"#0d0887\"], [0.1111111111111111, \"#46039f\"], [0.2222222222222222, \"#7201a8\"], [0.3333333333333333, \"#9c179e\"], [0.4444444444444444, \"#bd3786\"], [0.5555555555555556, \"#d8576b\"], [0.6666666666666666, \"#ed7953\"], [0.7777777777777778, \"#fb9f3a\"], [0.8888888888888888, \"#fdca26\"], [1.0, \"#f0f921\"]], \"type\": \"histogram2dcontour\"}], \"mesh3d\": [{\"colorbar\": {\"outlinewidth\": 0, \"ticks\": \"\"}, \"type\": \"mesh3d\"}], \"parcoords\": [{\"line\": {\"colorbar\": {\"outlinewidth\": 0, \"ticks\": \"\"}}, \"type\": \"parcoords\"}], \"pie\": [{\"automargin\": true, \"type\": \"pie\"}], \"scatter\": [{\"marker\": {\"colorbar\": {\"outlinewidth\": 0, \"ticks\": \"\"}}, \"type\": \"scatter\"}], \"scatter3d\": [{\"line\": {\"colorbar\": {\"outlinewidth\": 0, \"ticks\": \"\"}}, \"marker\": {\"colorbar\": {\"outlinewidth\": 0, \"ticks\": \"\"}}, \"type\": \"scatter3d\"}], \"scattercarpet\": [{\"marker\": {\"colorbar\": {\"outlinewidth\": 0, \"ticks\": \"\"}}, \"type\": \"scattercarpet\"}], \"scattergeo\": [{\"marker\": {\"colorbar\": {\"outlinewidth\": 0, \"ticks\": \"\"}}, \"type\": \"scattergeo\"}], \"scattergl\": [{\"marker\": {\"colorbar\": {\"outlinewidth\": 0, \"ticks\": \"\"}}, \"type\": \"scattergl\"}], \"scattermapbox\": [{\"marker\": {\"colorbar\": {\"outlinewidth\": 0, \"ticks\": \"\"}}, \"type\": \"scattermapbox\"}], \"scatterpolar\": [{\"marker\": {\"colorbar\": {\"outlinewidth\": 0, \"ticks\": \"\"}}, \"type\": \"scatterpolar\"}], \"scatterpolargl\": [{\"marker\": {\"colorbar\": {\"outlinewidth\": 0, \"ticks\": \"\"}}, \"type\": \"scatterpolargl\"}], \"scatterternary\": [{\"marker\": {\"colorbar\": {\"outlinewidth\": 0, \"ticks\": \"\"}}, \"type\": \"scatterternary\"}], \"surface\": [{\"colorbar\": {\"outlinewidth\": 0, \"ticks\": \"\"}, \"colorscale\": [[0.0, \"#0d0887\"], [0.1111111111111111, \"#46039f\"], [0.2222222222222222, \"#7201a8\"], [0.3333333333333333, \"#9c179e\"], [0.4444444444444444, \"#bd3786\"], [0.5555555555555556, \"#d8576b\"], [0.6666666666666666, \"#ed7953\"], [0.7777777777777778, \"#fb9f3a\"], [0.8888888888888888, \"#fdca26\"], [1.0, \"#f0f921\"]], \"type\": \"surface\"}], \"table\": [{\"cells\": {\"fill\": {\"color\": \"#EBF0F8\"}, \"line\": {\"color\": \"white\"}}, \"header\": {\"fill\": {\"color\": \"#C8D4E3\"}, \"line\": {\"color\": \"white\"}}, \"type\": \"table\"}]}, \"layout\": {\"annotationdefaults\": {\"arrowcolor\": \"#2a3f5f\", \"arrowhead\": 0, \"arrowwidth\": 1}, \"coloraxis\": {\"colorbar\": {\"outlinewidth\": 0, \"ticks\": \"\"}}, \"colorscale\": {\"diverging\": [[0, \"#8e0152\"], [0.1, \"#c51b7d\"], [0.2, \"#de77ae\"], [0.3, \"#f1b6da\"], [0.4, \"#fde0ef\"], [0.5, \"#f7f7f7\"], [0.6, \"#e6f5d0\"], [0.7, \"#b8e186\"], [0.8, \"#7fbc41\"], [0.9, \"#4d9221\"], [1, \"#276419\"]], \"sequential\": [[0.0, \"#0d0887\"], [0.1111111111111111, \"#46039f\"], [0.2222222222222222, \"#7201a8\"], [0.3333333333333333, \"#9c179e\"], [0.4444444444444444, \"#bd3786\"], [0.5555555555555556, \"#d8576b\"], [0.6666666666666666, \"#ed7953\"], [0.7777777777777778, \"#fb9f3a\"], [0.8888888888888888, \"#fdca26\"], [1.0, \"#f0f921\"]], \"sequentialminus\": [[0.0, \"#0d0887\"], [0.1111111111111111, \"#46039f\"], [0.2222222222222222, \"#7201a8\"], [0.3333333333333333, \"#9c179e\"], [0.4444444444444444, \"#bd3786\"], [0.5555555555555556, \"#d8576b\"], [0.6666666666666666, \"#ed7953\"], [0.7777777777777778, \"#fb9f3a\"], [0.8888888888888888, \"#fdca26\"], [1.0, \"#f0f921\"]]}, \"colorway\": [\"#636efa\", \"#EF553B\", \"#00cc96\", \"#ab63fa\", \"#FFA15A\", \"#19d3f3\", \"#FF6692\", \"#B6E880\", \"#FF97FF\", \"#FECB52\"], \"font\": {\"color\": \"#2a3f5f\"}, \"geo\": {\"bgcolor\": \"white\", \"lakecolor\": \"white\", \"landcolor\": \"white\", \"showlakes\": true, \"showland\": true, \"subunitcolor\": \"#C8D4E3\"}, \"hoverlabel\": {\"align\": \"left\"}, \"hovermode\": \"closest\", \"mapbox\": {\"style\": \"light\"}, \"paper_bgcolor\": \"white\", \"plot_bgcolor\": \"white\", \"polar\": {\"angularaxis\": {\"gridcolor\": \"#EBF0F8\", \"linecolor\": \"#EBF0F8\", \"ticks\": \"\"}, \"bgcolor\": \"white\", \"radialaxis\": {\"gridcolor\": \"#EBF0F8\", \"linecolor\": \"#EBF0F8\", \"ticks\": \"\"}}, \"scene\": {\"xaxis\": {\"backgroundcolor\": \"white\", \"gridcolor\": \"#DFE8F3\", \"gridwidth\": 2, \"linecolor\": \"#EBF0F8\", \"showbackground\": true, \"ticks\": \"\", \"zerolinecolor\": \"#EBF0F8\"}, \"yaxis\": {\"backgroundcolor\": \"white\", \"gridcolor\": \"#DFE8F3\", \"gridwidth\": 2, \"linecolor\": \"#EBF0F8\", \"showbackground\": true, \"ticks\": \"\", \"zerolinecolor\": \"#EBF0F8\"}, \"zaxis\": {\"backgroundcolor\": \"white\", \"gridcolor\": \"#DFE8F3\", \"gridwidth\": 2, \"linecolor\": \"#EBF0F8\", \"showbackground\": true, \"ticks\": \"\", \"zerolinecolor\": \"#EBF0F8\"}}, \"shapedefaults\": {\"line\": {\"color\": \"#2a3f5f\"}}, \"ternary\": {\"aaxis\": {\"gridcolor\": \"#DFE8F3\", \"linecolor\": \"#A2B1C6\", \"ticks\": \"\"}, \"baxis\": {\"gridcolor\": \"#DFE8F3\", \"linecolor\": \"#A2B1C6\", \"ticks\": \"\"}, \"bgcolor\": \"white\", \"caxis\": {\"gridcolor\": \"#DFE8F3\", \"linecolor\": \"#A2B1C6\", \"ticks\": \"\"}}, \"title\": {\"x\": 0.05}, \"xaxis\": {\"automargin\": true, \"gridcolor\": \"#EBF0F8\", \"linecolor\": \"#EBF0F8\", \"ticks\": \"\", \"title\": {\"standoff\": 15}, \"zerolinecolor\": \"#EBF0F8\", \"zerolinewidth\": 2}, \"yaxis\": {\"automargin\": true, \"gridcolor\": \"#EBF0F8\", \"linecolor\": \"#EBF0F8\", \"ticks\": \"\", \"title\": {\"standoff\": 15}, \"zerolinecolor\": \"#EBF0F8\", \"zerolinewidth\": 2}}}, \"title\": {\"text\": \"PeNSE - Pesquisa Nacional de Sa\\u00fade do Escolar<br /><b>O qu\\u00e3o satisfeito voc\\u00ea est\\u00e1 com o seu corpo?</b>\"}, \"width\": 800, \"xaxis\": {\"anchor\": \"y\", \"domain\": [0.0, 1.0], \"title\": {\"text\": \"Grau de satisfa\\u00e7\\u00e3o\"}}, \"yaxis\": {\"anchor\": \"x\", \"domain\": [0.0, 1.0], \"title\": {\"text\": \"% de escolares que responderam\"}}},                        {\"responsive\": true}                    ).then(function(){\n",
              "                            \n",
              "var gd = document.getElementById('2ac26e1f-1bac-4760-9a9e-ad0469dfb649');\n",
              "var x = new MutationObserver(function (mutations, observer) {{\n",
              "        var display = window.getComputedStyle(gd).display;\n",
              "        if (!display || display === 'none') {{\n",
              "            console.log([gd, 'removed!']);\n",
              "            Plotly.purge(gd);\n",
              "            observer.disconnect();\n",
              "        }}\n",
              "}});\n",
              "\n",
              "// Listen for the removal of the full notebook cells\n",
              "var notebookContainer = gd.closest('#notebook-container');\n",
              "if (notebookContainer) {{\n",
              "    x.observe(notebookContainer, {childList: true});\n",
              "}}\n",
              "\n",
              "// Listen for the clearing of the current output cell\n",
              "var outputEl = gd.closest('.output');\n",
              "if (outputEl) {{\n",
              "    x.observe(outputEl, {childList: true});\n",
              "}}\n",
              "\n",
              "                        })                };                            </script>        </div>\n",
              "</body>\n",
              "</html>"
            ]
          },
          "metadata": {
            "tags": []
          }
        }
      ]
    },
    {
      "cell_type": "code",
      "metadata": {
        "colab": {
          "base_uri": "https://localhost:8080/",
          "height": 0
        },
        "id": "W5x2LPe9uiPo",
        "outputId": "3d6f2784-5de1-4100-9551-06a2caad4837"
      },
      "source": [
        "# considerando a população total pela coluna\n",
        "freq_cruzada = pd.crosstab(dados['VB11007'], dados['VB01001'],\n",
        "                           normalize = 'columns',\n",
        "                           rownames=['Satisfação com o próprio corpo'],\n",
        "                           colnames=['Sexo']) * 100\n",
        "freq_cruzada.rename(index = respostas, inplace = True)\n",
        "freq_cruzada.rename(columns = {1: 'Masculino', 2: 'Feminino'}, inplace = True)\n",
        "freq_cruzada"
      ],
      "execution_count": 28,
      "outputs": [
        {
          "output_type": "execute_result",
          "data": {
            "text/html": [
              "<div>\n",
              "<style scoped>\n",
              "    .dataframe tbody tr th:only-of-type {\n",
              "        vertical-align: middle;\n",
              "    }\n",
              "\n",
              "    .dataframe tbody tr th {\n",
              "        vertical-align: top;\n",
              "    }\n",
              "\n",
              "    .dataframe thead th {\n",
              "        text-align: right;\n",
              "    }\n",
              "</style>\n",
              "<table border=\"1\" class=\"dataframe\">\n",
              "  <thead>\n",
              "    <tr style=\"text-align: right;\">\n",
              "      <th>Sexo</th>\n",
              "      <th>Masculino</th>\n",
              "      <th>Feminino</th>\n",
              "    </tr>\n",
              "    <tr>\n",
              "      <th>Satisfação com o próprio corpo</th>\n",
              "      <th></th>\n",
              "      <th></th>\n",
              "    </tr>\n",
              "  </thead>\n",
              "  <tbody>\n",
              "    <tr>\n",
              "      <th>Muito satisfeito</th>\n",
              "      <td>32.363944</td>\n",
              "      <td>23.291813</td>\n",
              "    </tr>\n",
              "    <tr>\n",
              "      <th>Satisfeito</th>\n",
              "      <td>42.114155</td>\n",
              "      <td>41.480227</td>\n",
              "    </tr>\n",
              "    <tr>\n",
              "      <th>Indiferente</th>\n",
              "      <td>11.463738</td>\n",
              "      <td>10.364010</td>\n",
              "    </tr>\n",
              "    <tr>\n",
              "      <th>Insatisfeito</th>\n",
              "      <td>9.484735</td>\n",
              "      <td>18.623776</td>\n",
              "    </tr>\n",
              "    <tr>\n",
              "      <th>Muito insatisfeito</th>\n",
              "      <td>3.137444</td>\n",
              "      <td>5.490386</td>\n",
              "    </tr>\n",
              "    <tr>\n",
              "      <th>Não informado</th>\n",
              "      <td>1.435984</td>\n",
              "      <td>0.749788</td>\n",
              "    </tr>\n",
              "  </tbody>\n",
              "</table>\n",
              "</div>"
            ],
            "text/plain": [
              "Sexo                            Masculino   Feminino\n",
              "Satisfação com o próprio corpo                      \n",
              "Muito satisfeito                32.363944  23.291813\n",
              "Satisfeito                      42.114155  41.480227\n",
              "Indiferente                     11.463738  10.364010\n",
              "Insatisfeito                     9.484735  18.623776\n",
              "Muito insatisfeito               3.137444   5.490386\n",
              "Não informado                    1.435984   0.749788"
            ]
          },
          "metadata": {
            "tags": []
          },
          "execution_count": 28
        }
      ]
    },
    {
      "cell_type": "code",
      "metadata": {
        "colab": {
          "base_uri": "https://localhost:8080/",
          "height": 0
        },
        "id": "gTiZLZn81MLf",
        "outputId": "94ecc44e-3c7a-4207-94db-1db838761370"
      },
      "source": [
        "# considerando a população total pela linha/index\n",
        "freq_cruzada = pd.crosstab(dados['VB11007'], dados['VB01001'],\n",
        "                           normalize = 'index',\n",
        "                           rownames=['Satisfação com o próprio corpo'],\n",
        "                           colnames=['Sexo']) * 100\n",
        "freq_cruzada.rename(index = respostas, inplace = True)\n",
        "freq_cruzada.rename(columns = {1: 'Masculino', 2: 'Feminino'}, inplace = True)\n",
        "freq_cruzada"
      ],
      "execution_count": 29,
      "outputs": [
        {
          "output_type": "execute_result",
          "data": {
            "text/html": [
              "<div>\n",
              "<style scoped>\n",
              "    .dataframe tbody tr th:only-of-type {\n",
              "        vertical-align: middle;\n",
              "    }\n",
              "\n",
              "    .dataframe tbody tr th {\n",
              "        vertical-align: top;\n",
              "    }\n",
              "\n",
              "    .dataframe thead th {\n",
              "        text-align: right;\n",
              "    }\n",
              "</style>\n",
              "<table border=\"1\" class=\"dataframe\">\n",
              "  <thead>\n",
              "    <tr style=\"text-align: right;\">\n",
              "      <th>Sexo</th>\n",
              "      <th>Masculino</th>\n",
              "      <th>Feminino</th>\n",
              "    </tr>\n",
              "    <tr>\n",
              "      <th>Satisfação com o próprio corpo</th>\n",
              "      <th></th>\n",
              "      <th></th>\n",
              "    </tr>\n",
              "  </thead>\n",
              "  <tbody>\n",
              "    <tr>\n",
              "      <th>Muito satisfeito</th>\n",
              "      <td>58.203125</td>\n",
              "      <td>41.796875</td>\n",
              "    </tr>\n",
              "    <tr>\n",
              "      <th>Satisfeito</th>\n",
              "      <td>50.433526</td>\n",
              "      <td>49.566474</td>\n",
              "    </tr>\n",
              "    <tr>\n",
              "      <th>Indiferente</th>\n",
              "      <td>52.573326</td>\n",
              "      <td>47.426674</td>\n",
              "    </tr>\n",
              "    <tr>\n",
              "      <th>Insatisfeito</th>\n",
              "      <td>33.791917</td>\n",
              "      <td>66.208083</td>\n",
              "    </tr>\n",
              "    <tr>\n",
              "      <th>Muito insatisfeito</th>\n",
              "      <td>36.414566</td>\n",
              "      <td>63.585434</td>\n",
              "    </tr>\n",
              "    <tr>\n",
              "      <th>Não informado</th>\n",
              "      <td>65.745856</td>\n",
              "      <td>34.254144</td>\n",
              "    </tr>\n",
              "  </tbody>\n",
              "</table>\n",
              "</div>"
            ],
            "text/plain": [
              "Sexo                            Masculino   Feminino\n",
              "Satisfação com o próprio corpo                      \n",
              "Muito satisfeito                58.203125  41.796875\n",
              "Satisfeito                      50.433526  49.566474\n",
              "Indiferente                     52.573326  47.426674\n",
              "Insatisfeito                    33.791917  66.208083\n",
              "Muito insatisfeito              36.414566  63.585434\n",
              "Não informado                   65.745856  34.254144"
            ]
          },
          "metadata": {
            "tags": []
          },
          "execution_count": 29
        }
      ]
    },
    {
      "cell_type": "markdown",
      "metadata": {
        "id": "24QKOeCCr35P"
      },
      "source": [
        "### Desafios"
      ]
    },
    {
      "cell_type": "markdown",
      "metadata": {
        "id": "_vb3qCPAr5BX"
      },
      "source": [
        "* Desafio 5: Criar uma tabela de frequência para o peso\n",
        "* Desafio 6: Criar outros crosstabs para analisar, pesquisar sobre o parâmetro **affunc** e testá-lo"
      ]
    },
    {
      "cell_type": "markdown",
      "metadata": {
        "id": "IXwLpq1J2tL2"
      },
      "source": [
        "#### Desafio 5 - Tabela de frequência para o peso"
      ]
    },
    {
      "cell_type": "code",
      "metadata": {
        "colab": {
          "base_uri": "https://localhost:8080/",
          "height": 0
        },
        "id": "KJ4VR6e924E5",
        "outputId": "9bfa7f7f-146b-4fb7-eeff-f2f6c7ca7358"
      },
      "source": [
        "dados['CLASSE_PESO'] = pd.cut(\n",
        "    x = dados['VB17003'],\n",
        "    bins = k,\n",
        "    include_lowest = True)\n",
        "\n",
        "classe_peso = criar_tab_freq(dados, 'CLASSE_PESO', 'Classe Peso')\n",
        "classe_peso"
      ],
      "execution_count": 30,
      "outputs": [
        {
          "output_type": "execute_result",
          "data": {
            "text/html": [
              "<div>\n",
              "<style scoped>\n",
              "    .dataframe tbody tr th:only-of-type {\n",
              "        vertical-align: middle;\n",
              "    }\n",
              "\n",
              "    .dataframe tbody tr th {\n",
              "        vertical-align: top;\n",
              "    }\n",
              "\n",
              "    .dataframe thead th {\n",
              "        text-align: right;\n",
              "    }\n",
              "</style>\n",
              "<table border=\"1\" class=\"dataframe\">\n",
              "  <thead>\n",
              "    <tr style=\"text-align: right;\">\n",
              "      <th>Classe Peso</th>\n",
              "      <th>Frequência</th>\n",
              "      <th>Percentual</th>\n",
              "    </tr>\n",
              "  </thead>\n",
              "  <tbody>\n",
              "    <tr>\n",
              "      <th>(46.32, 57.7]</th>\n",
              "      <td>5754</td>\n",
              "      <td>34.754772</td>\n",
              "    </tr>\n",
              "    <tr>\n",
              "      <th>(34.94, 46.32]</th>\n",
              "      <td>3852</td>\n",
              "      <td>23.266489</td>\n",
              "    </tr>\n",
              "    <tr>\n",
              "      <th>(57.7, 69.08]</th>\n",
              "      <td>3724</td>\n",
              "      <td>22.493356</td>\n",
              "    </tr>\n",
              "    <tr>\n",
              "      <th>(69.08, 80.46]</th>\n",
              "      <td>1425</td>\n",
              "      <td>8.607151</td>\n",
              "    </tr>\n",
              "    <tr>\n",
              "      <th>(23.56, 34.94]</th>\n",
              "      <td>927</td>\n",
              "      <td>5.599179</td>\n",
              "    </tr>\n",
              "    <tr>\n",
              "      <th>(80.46, 91.84]</th>\n",
              "      <td>544</td>\n",
              "      <td>3.285818</td>\n",
              "    </tr>\n",
              "    <tr>\n",
              "      <th>(91.84, 103.22]</th>\n",
              "      <td>202</td>\n",
              "      <td>1.220101</td>\n",
              "    </tr>\n",
              "    <tr>\n",
              "      <th>(103.22, 114.6]</th>\n",
              "      <td>77</td>\n",
              "      <td>0.465088</td>\n",
              "    </tr>\n",
              "    <tr>\n",
              "      <th>(114.6, 125.98]</th>\n",
              "      <td>20</td>\n",
              "      <td>0.120802</td>\n",
              "    </tr>\n",
              "    <tr>\n",
              "      <th>(125.98, 137.36]</th>\n",
              "      <td>15</td>\n",
              "      <td>0.090602</td>\n",
              "    </tr>\n",
              "    <tr>\n",
              "      <th>(137.36, 148.74]</th>\n",
              "      <td>6</td>\n",
              "      <td>0.036241</td>\n",
              "    </tr>\n",
              "    <tr>\n",
              "      <th>(148.74, 160.12]</th>\n",
              "      <td>4</td>\n",
              "      <td>0.024160</td>\n",
              "    </tr>\n",
              "    <tr>\n",
              "      <th>(12.18, 23.56]</th>\n",
              "      <td>3</td>\n",
              "      <td>0.018120</td>\n",
              "    </tr>\n",
              "    <tr>\n",
              "      <th>(160.12, 171.5]</th>\n",
              "      <td>2</td>\n",
              "      <td>0.012080</td>\n",
              "    </tr>\n",
              "    <tr>\n",
              "      <th>(0.628, 12.18]</th>\n",
              "      <td>1</td>\n",
              "      <td>0.006040</td>\n",
              "    </tr>\n",
              "  </tbody>\n",
              "</table>\n",
              "</div>"
            ],
            "text/plain": [
              "Classe Peso       Frequência  Percentual\n",
              "(46.32, 57.7]           5754   34.754772\n",
              "(34.94, 46.32]          3852   23.266489\n",
              "(57.7, 69.08]           3724   22.493356\n",
              "(69.08, 80.46]          1425    8.607151\n",
              "(23.56, 34.94]           927    5.599179\n",
              "(80.46, 91.84]           544    3.285818\n",
              "(91.84, 103.22]          202    1.220101\n",
              "(103.22, 114.6]           77    0.465088\n",
              "(114.6, 125.98]           20    0.120802\n",
              "(125.98, 137.36]          15    0.090602\n",
              "(137.36, 148.74]           6    0.036241\n",
              "(148.74, 160.12]           4    0.024160\n",
              "(12.18, 23.56]             3    0.018120\n",
              "(160.12, 171.5]            2    0.012080\n",
              "(0.628, 12.18]             1    0.006040"
            ]
          },
          "metadata": {
            "tags": []
          },
          "execution_count": 30
        }
      ]
    },
    {
      "cell_type": "markdown",
      "metadata": {
        "id": "ZTdqiQSr3Ckj"
      },
      "source": [
        "#### Desafio 6 - Outros Crosstabs"
      ]
    },
    {
      "cell_type": "code",
      "metadata": {
        "colab": {
          "base_uri": "https://localhost:8080/",
          "height": 0
        },
        "id": "dzJw2OB_3Kyq",
        "outputId": "9b193d18-1d61-4316-e3a5-e42bcb78511c"
      },
      "source": [
        "# cruzamento de sexo com região\n",
        "freq_cruzada = pd.crosstab(dados['REGEOGR'], dados['VB01001'], normalize = True,\n",
        "                           rownames=['Região'],\n",
        "                           colnames=['Sexo']) * 100\n",
        "freq_cruzada.rename(index = {\n",
        "        1: 'Norte',\n",
        "        2: 'Nordeste',\n",
        "        3: 'Sudeste',\n",
        "        4: 'Sul',\n",
        "        5: 'Centro-Oeste'\n",
        "    }, inplace = True)\n",
        "freq_cruzada.rename(columns = {1: 'Masculino', 2: 'Feminino'}, inplace = True)\n",
        "freq_cruzada"
      ],
      "execution_count": 31,
      "outputs": [
        {
          "output_type": "execute_result",
          "data": {
            "text/html": [
              "<div>\n",
              "<style scoped>\n",
              "    .dataframe tbody tr th:only-of-type {\n",
              "        vertical-align: middle;\n",
              "    }\n",
              "\n",
              "    .dataframe tbody tr th {\n",
              "        vertical-align: top;\n",
              "    }\n",
              "\n",
              "    .dataframe thead th {\n",
              "        text-align: right;\n",
              "    }\n",
              "</style>\n",
              "<table border=\"1\" class=\"dataframe\">\n",
              "  <thead>\n",
              "    <tr style=\"text-align: right;\">\n",
              "      <th>Sexo</th>\n",
              "      <th>Masculino</th>\n",
              "      <th>Feminino</th>\n",
              "    </tr>\n",
              "    <tr>\n",
              "      <th>Região</th>\n",
              "      <th></th>\n",
              "      <th></th>\n",
              "    </tr>\n",
              "  </thead>\n",
              "  <tbody>\n",
              "    <tr>\n",
              "      <th>Norte</th>\n",
              "      <td>9.525248</td>\n",
              "      <td>9.730611</td>\n",
              "    </tr>\n",
              "    <tr>\n",
              "      <th>Nordeste</th>\n",
              "      <td>10.171539</td>\n",
              "      <td>10.757429</td>\n",
              "    </tr>\n",
              "    <tr>\n",
              "      <th>Sudeste</th>\n",
              "      <td>9.923895</td>\n",
              "      <td>9.863494</td>\n",
              "    </tr>\n",
              "    <tr>\n",
              "      <th>Sul</th>\n",
              "      <td>10.237980</td>\n",
              "      <td>9.132641</td>\n",
              "    </tr>\n",
              "    <tr>\n",
              "      <th>Centro-Oeste</th>\n",
              "      <td>10.195699</td>\n",
              "      <td>10.461464</td>\n",
              "    </tr>\n",
              "  </tbody>\n",
              "</table>\n",
              "</div>"
            ],
            "text/plain": [
              "Sexo          Masculino   Feminino\n",
              "Região                            \n",
              "Norte          9.525248   9.730611\n",
              "Nordeste      10.171539  10.757429\n",
              "Sudeste        9.923895   9.863494\n",
              "Sul           10.237980   9.132641\n",
              "Centro-Oeste  10.195699  10.461464"
            ]
          },
          "metadata": {
            "tags": []
          },
          "execution_count": 31
        }
      ]
    },
    {
      "cell_type": "code",
      "metadata": {
        "colab": {
          "base_uri": "https://localhost:8080/",
          "height": 0
        },
        "id": "IPfxr1U23Kva",
        "outputId": "b813f3a7-15aa-4d20-8e6e-9d0c6231d192"
      },
      "source": [
        "# cruzamento de sexo com cor/raça com a média de altura\n",
        "freq_cruzada = pd.crosstab(dados['VB01002'], dados['VB01001'],\n",
        "                           values=dados['VB17004'], aggfunc = 'mean',\n",
        "                           rownames=['Cor/Raça'],\n",
        "                           colnames=['Sexo']).round(2)\n",
        "freq_cruzada.rename(index = {\n",
        "        1: 'Branca',\n",
        "        2: 'Preta',\n",
        "        3: 'Amarela',\n",
        "        4: 'Parda',\n",
        "        5: 'Indígena',\n",
        "        99: 'Não informado'\n",
        "    }, inplace = True)\n",
        "freq_cruzada.rename(columns = {1: 'Masculino', 2: 'Feminino'}, inplace = True)\n",
        "freq_cruzada"
      ],
      "execution_count": 32,
      "outputs": [
        {
          "output_type": "execute_result",
          "data": {
            "text/html": [
              "<div>\n",
              "<style scoped>\n",
              "    .dataframe tbody tr th:only-of-type {\n",
              "        vertical-align: middle;\n",
              "    }\n",
              "\n",
              "    .dataframe tbody tr th {\n",
              "        vertical-align: top;\n",
              "    }\n",
              "\n",
              "    .dataframe thead th {\n",
              "        text-align: right;\n",
              "    }\n",
              "</style>\n",
              "<table border=\"1\" class=\"dataframe\">\n",
              "  <thead>\n",
              "    <tr style=\"text-align: right;\">\n",
              "      <th>Sexo</th>\n",
              "      <th>Masculino</th>\n",
              "      <th>Feminino</th>\n",
              "    </tr>\n",
              "    <tr>\n",
              "      <th>Cor/Raça</th>\n",
              "      <th></th>\n",
              "      <th></th>\n",
              "    </tr>\n",
              "  </thead>\n",
              "  <tbody>\n",
              "    <tr>\n",
              "      <th>Branca</th>\n",
              "      <td>164.09</td>\n",
              "      <td>157.44</td>\n",
              "    </tr>\n",
              "    <tr>\n",
              "      <th>Preta</th>\n",
              "      <td>164.41</td>\n",
              "      <td>157.44</td>\n",
              "    </tr>\n",
              "    <tr>\n",
              "      <th>Amarela</th>\n",
              "      <td>162.55</td>\n",
              "      <td>158.20</td>\n",
              "    </tr>\n",
              "    <tr>\n",
              "      <th>Parda</th>\n",
              "      <td>163.86</td>\n",
              "      <td>157.76</td>\n",
              "    </tr>\n",
              "    <tr>\n",
              "      <th>Indígena</th>\n",
              "      <td>160.77</td>\n",
              "      <td>155.80</td>\n",
              "    </tr>\n",
              "    <tr>\n",
              "      <th>Não informado</th>\n",
              "      <td>162.17</td>\n",
              "      <td>154.94</td>\n",
              "    </tr>\n",
              "  </tbody>\n",
              "</table>\n",
              "</div>"
            ],
            "text/plain": [
              "Sexo           Masculino  Feminino\n",
              "Cor/Raça                          \n",
              "Branca            164.09    157.44\n",
              "Preta             164.41    157.44\n",
              "Amarela           162.55    158.20\n",
              "Parda             163.86    157.76\n",
              "Indígena          160.77    155.80\n",
              "Não informado     162.17    154.94"
            ]
          },
          "metadata": {
            "tags": []
          },
          "execution_count": 32
        }
      ]
    },
    {
      "cell_type": "markdown",
      "metadata": {
        "id": "85UHIu8H3LVx"
      },
      "source": [
        "## Parte 4 - Histograma e Boxplot"
      ]
    },
    {
      "cell_type": "code",
      "metadata": {
        "id": "0LdeuQq73Kp3"
      },
      "source": [
        "import seaborn as sns\n",
        "import matplotlib.pyplot as plt"
      ],
      "execution_count": 33,
      "outputs": []
    },
    {
      "cell_type": "code",
      "metadata": {
        "colab": {
          "base_uri": "https://localhost:8080/",
          "height": 422
        },
        "id": "vvWFpxo54TY4",
        "outputId": "dba17487-2fc2-45d3-a43b-7f109f894cdb"
      },
      "source": [
        "ax = sns.histplot(x = 'VB17004', data = dados)\n",
        "ax.figure.set_size_inches(12, 6)\n",
        "ax.set_title('Distribuição de frequência')\n",
        "ax.set_xlabel('Altura')\n",
        "ax"
      ],
      "execution_count": 34,
      "outputs": [
        {
          "output_type": "execute_result",
          "data": {
            "text/plain": [
              "<matplotlib.axes._subplots.AxesSubplot at 0x7fea059d60f0>"
            ]
          },
          "metadata": {
            "tags": []
          },
          "execution_count": 34
        },
        {
          "output_type": "display_data",
          "data": {
            "image/png": "[encoded data removed]",
            "text/plain": [
              "<Figure size 864x432 with 1 Axes>"
            ]
          },
          "metadata": {
            "tags": [],
            "needs_background": "light"
          }
        }
      ]
    },
    {
      "cell_type": "code",
      "metadata": {
        "colab": {
          "base_uri": "https://localhost:8080/",
          "height": 422
        },
        "id": "2qvmuncx4dWT",
        "outputId": "2e957f75-4d77-404b-8bcd-80aa3a6d12fa"
      },
      "source": [
        "ax = sns.histplot(x = 'VB17004', data = dados, kde = True)\n",
        "ax.figure.set_size_inches(12, 6)\n",
        "ax.set_title('Distribuição de frequência')\n",
        "ax.set_xlabel('Altura')\n",
        "ax"
      ],
      "execution_count": 35,
      "outputs": [
        {
          "output_type": "execute_result",
          "data": {
            "text/plain": [
              "<matplotlib.axes._subplots.AxesSubplot at 0x7fea0517ce10>"
            ]
          },
          "metadata": {
            "tags": []
          },
          "execution_count": 35
        },
        {
          "output_type": "display_data",
          "data": {
            "image/png": "[encoded data removed]",
            "text/plain": [
              "<Figure size 864x432 with 1 Axes>"
            ]
          },
          "metadata": {
            "tags": [],
            "needs_background": "light"
          }
        }
      ]
    },
    {
      "cell_type": "code",
      "metadata": {
        "colab": {
          "base_uri": "https://localhost:8080/",
          "height": 422
        },
        "id": "5oe6xLhM8T_E",
        "outputId": "e73f1cf3-eeb2-4700-9355-7431801932c8"
      },
      "source": [
        "ax = sns.histplot(x = 'VB17004', data = dados, kde = True, hue = 'VB01001')\n",
        "ax.figure.set_size_inches(12, 6)\n",
        "ax.set_title('Distribuição de frequência')\n",
        "ax.set_xlabel('Altura')\n",
        "ax"
      ],
      "execution_count": 36,
      "outputs": [
        {
          "output_type": "execute_result",
          "data": {
            "text/plain": [
              "<matplotlib.axes._subplots.AxesSubplot at 0x7fea003ce860>"
            ]
          },
          "metadata": {
            "tags": []
          },
          "execution_count": 36
        },
        {
          "output_type": "display_data",
          "data": {
            "image/png": "[encoded data removed]",
            "text/plain": [
              "<Figure size 864x432 with 1 Axes>"
            ]
          },
          "metadata": {
            "tags": [],
            "needs_background": "light"
          }
        }
      ]
    },
    {
      "cell_type": "code",
      "metadata": {
        "colab": {
          "base_uri": "https://localhost:8080/",
          "height": 404
        },
        "id": "iASCe0vE8Tv6",
        "outputId": "7243e2e4-d291-4eb3-e15f-63dd310678ec"
      },
      "source": [
        "ax = sns.histplot(x = 'VB17004', data = dados, kde = True, hue = 'VB01003')\n",
        "ax.figure.set_size_inches(12, 6)\n",
        "ax.set_title('Distribuição de frequência')\n",
        "ax.set_xlabel('Altura')\n",
        "ax;"
      ],
      "execution_count": 37,
      "outputs": [
        {
          "output_type": "display_data",
          "data": {
            "image/png": "[encoded data removed]",
            "text/plain": [
              "<Figure size 864x432 with 1 Axes>"
            ]
          },
          "metadata": {
            "tags": [],
            "needs_background": "light"
          }
        }
      ]
    },
    {
      "cell_type": "code",
      "metadata": {
        "colab": {
          "base_uri": "https://localhost:8080/",
          "height": 404
        },
        "id": "yEUbcLls8Tnx",
        "outputId": "0e65aac5-7311-49ab-cc24-86dca6cc4fff"
      },
      "source": [
        "ax = sns.boxplot(x = 'VB17004', data = dados)\n",
        "ax.figure.set_size_inches(12, 6)\n",
        "ax.set_title('Boxplot da Altura')\n",
        "ax.set_xlabel('Altura')\n",
        "ax;"
      ],
      "execution_count": 38,
      "outputs": [
        {
          "output_type": "display_data",
          "data": {
            "image/png": "[encoded data removed]",
            "text/plain": [
              "<Figure size 864x432 with 1 Axes>"
            ]
          },
          "metadata": {
            "tags": [],
            "needs_background": "light"
          }
        }
      ]
    },
    {
      "cell_type": "code",
      "metadata": {
        "colab": {
          "base_uri": "https://localhost:8080/"
        },
        "id": "RUx2_1CS8TZf",
        "outputId": "565f17a6-cf33-4b41-bec3-01c3de7806bf"
      },
      "source": [
        "dados['VB17004'].quantile(0.25)"
      ],
      "execution_count": 39,
      "outputs": [
        {
          "output_type": "execute_result",
          "data": {
            "text/plain": [
              "153.8"
            ]
          },
          "metadata": {
            "tags": []
          },
          "execution_count": 39
        }
      ]
    },
    {
      "cell_type": "code",
      "metadata": {
        "colab": {
          "base_uri": "https://localhost:8080/"
        },
        "id": "YjFtEbkp-cAY",
        "outputId": "f85f477e-df81-4a66-d4df-5a2c4675658a"
      },
      "source": [
        "dados['VB17004'].quantile(0.5)"
      ],
      "execution_count": 40,
      "outputs": [
        {
          "output_type": "execute_result",
          "data": {
            "text/plain": [
              "160.4"
            ]
          },
          "metadata": {
            "tags": []
          },
          "execution_count": 40
        }
      ]
    },
    {
      "cell_type": "code",
      "metadata": {
        "colab": {
          "base_uri": "https://localhost:8080/"
        },
        "id": "QY9YOwFM-b8f",
        "outputId": "97bdf913-e921-4e56-84da-b7f5150974c6"
      },
      "source": [
        "dados['VB17004'].quantile(0.75)"
      ],
      "execution_count": 41,
      "outputs": [
        {
          "output_type": "execute_result",
          "data": {
            "text/plain": [
              "167.9"
            ]
          },
          "metadata": {
            "tags": []
          },
          "execution_count": 41
        }
      ]
    },
    {
      "cell_type": "code",
      "metadata": {
        "colab": {
          "base_uri": "https://localhost:8080/"
        },
        "id": "G4T6nAVb-b0S",
        "outputId": "4c82cbb2-56c1-4f38-aaa7-5cb7d3b7b12d"
      },
      "source": [
        "dados['VB17004'].min()"
      ],
      "execution_count": 42,
      "outputs": [
        {
          "output_type": "execute_result",
          "data": {
            "text/plain": [
              "124.1"
            ]
          },
          "metadata": {
            "tags": []
          },
          "execution_count": 42
        }
      ]
    },
    {
      "cell_type": "code",
      "metadata": {
        "colab": {
          "base_uri": "https://localhost:8080/"
        },
        "id": "HJvmF_eB-kZX",
        "outputId": "aa630c32-6af4-49eb-b373-7f42956ee85c"
      },
      "source": [
        "dados['VB17004'].max()"
      ],
      "execution_count": 43,
      "outputs": [
        {
          "output_type": "execute_result",
          "data": {
            "text/plain": [
              "195.3"
            ]
          },
          "metadata": {
            "tags": []
          },
          "execution_count": 43
        }
      ]
    },
    {
      "cell_type": "code",
      "metadata": {
        "colab": {
          "base_uri": "https://localhost:8080/",
          "height": 404
        },
        "id": "A9ghu3SI-kUv",
        "outputId": "9145195d-9c61-4878-978c-b4ad992ec93a"
      },
      "source": [
        "ax = sns.boxplot(x = 'VB17004', y = 'VB01001', data = dados, orient = 'h')\n",
        "ax.figure.set_size_inches(12, 6)\n",
        "ax.set_title('Boxplot da Altura')\n",
        "ax.set_xlabel('Altura')\n",
        "ax.set_ylabel('Sexo')\n",
        "ax;"
      ],
      "execution_count": 44,
      "outputs": [
        {
          "output_type": "display_data",
          "data": {
            "image/png": "[encoded data removed]",
            "text/plain": [
              "<Figure size 864x432 with 1 Axes>"
            ]
          },
          "metadata": {
            "tags": [],
            "needs_background": "light"
          }
        }
      ]
    },
    {
      "cell_type": "code",
      "metadata": {
        "colab": {
          "base_uri": "https://localhost:8080/",
          "height": 404
        },
        "id": "Tv-wNn8s-kPt",
        "outputId": "55fadd3d-7637-4e05-ee5f-08753f94f157"
      },
      "source": [
        "ax = sns.boxplot(x = 'VB01003', y = 'VB17004', hue = 'VB01001', data = dados)\n",
        "ax.figure.set_size_inches(12, 6)\n",
        "ax.set_title('Boxplot da Altura por Idade')\n",
        "ax.set_xlabel('Idade')\n",
        "ax.set_ylabel('Altura')\n",
        "ax;"
      ],
      "execution_count": 45,
      "outputs": [
        {
          "output_type": "display_data",
          "data": {
            "image/png": "[encoded data removed]",
            "text/plain": [
              "<Figure size 864x432 with 1 Axes>"
            ]
          },
          "metadata": {
            "tags": [],
            "needs_background": "light"
          }
        }
      ]
    },
    {
      "cell_type": "code",
      "metadata": {
        "colab": {
          "base_uri": "https://localhost:8080/",
          "height": 404
        },
        "id": "4ppozrrTyKeq",
        "outputId": "1036327c-5fbb-4b6f-bd7e-1742150e9377"
      },
      "source": [
        "ax = sns.histplot(x = 'VB17004', data = dados, kde = True, cumulative = True,\n",
        "                  stat = 'density', bins = 10)\n",
        "ax.figure.set_size_inches(12, 6)\n",
        "ax.set_title('Histograma Acumulado (%)')\n",
        "ax.set_xlabel('Altura')\n",
        "ax;"
      ],
      "execution_count": 46,
      "outputs": [
        {
          "output_type": "display_data",
          "data": {
            "image/png": "[encoded data removed]",
            "text/plain": [
              "<Figure size 864x432 with 1 Axes>"
            ]
          },
          "metadata": {
            "tags": [],
            "needs_background": "light"
          }
        }
      ]
    },
    {
      "cell_type": "markdown",
      "metadata": {
        "id": "8jHV5TzT760u"
      },
      "source": [
        "#### Desafios"
      ]
    },
    {
      "cell_type": "markdown",
      "metadata": {
        "id": "oPJBYOy679SC"
      },
      "source": [
        "* Desafio 7: Calcular desvio padrão, média, moda e mediana e plotar no gráfico\n",
        "* Desafio 8: Fazer a análise com o histograma para outras informações da base de dados\n",
        "* Desafio 9: Pesquisar como é determinado os outliers no boxplot do Seaborn"
      ]
    },
    {
      "cell_type": "markdown",
      "metadata": {
        "id": "gBderIGZzROs"
      },
      "source": [
        "##### Desafio 7 - Calcular outras medidas"
      ]
    },
    {
      "cell_type": "code",
      "metadata": {
        "colab": {
          "base_uri": "https://localhost:8080/"
        },
        "id": "VSE9UYVlzdJR",
        "outputId": "53eaa0b6-3b7d-43c6-ae1d-b9bbf4f54b74"
      },
      "source": [
        "moda = dados['VB17004'].mode()\n",
        "desvio_padrao = dados['VB17004'].std()\n",
        "media = dados['VB17004'].mean()\n",
        "mediana = dados['VB17004'].median()\n",
        "\n",
        "print(f'Desvio padrão = {desvio_padrao} || Média = {media} || Mediana = {mediana} || Moda = {moda[0]}.')"
      ],
      "execution_count": 47,
      "outputs": [
        {
          "output_type": "stream",
          "text": [
            "Desvio padrão = 10.3400702338278 || Média = 160.71311307078818 || Mediana = 160.4 || Moda = 160.0.\n"
          ],
          "name": "stdout"
        }
      ]
    },
    {
      "cell_type": "code",
      "metadata": {
        "colab": {
          "base_uri": "https://localhost:8080/",
          "height": 404
        },
        "id": "34FRysq_8GmX",
        "outputId": "0e5d6ff5-0e23-43f5-c3f4-8c130865bfab"
      },
      "source": [
        "ax = sns.histplot(x = 'VB17004', data = dados)\n",
        "ax.figure.set_size_inches(12, 6)\n",
        "ax.set_title('Distribuição de frequência da Altura')\n",
        "ax.set_xlabel('Altura')\n",
        "\n",
        "#acrescentando moda, mediana e média\n",
        "plt.axvline(x=moda[0], color='red', label='Moda')\n",
        "plt.axvline(x=mediana, color='blue', label='Mediana')\n",
        "plt.axvline(x=media, color='green', label='Média')\n",
        "\n",
        "# acrescentando a faixa com o desvio padrão\n",
        "ax.axvspan(media-desvio_padrao, media+desvio_padrao, alpha=0.5,\n",
        "           color='gray', label='Desvio Padrão')\n",
        "\n",
        "ax.legend()\n",
        "\n",
        "ax;"
      ],
      "execution_count": 48,
      "outputs": [
        {
          "output_type": "display_data",
          "data": {
            "image/png": "[encoded data removed]",
            "text/plain": [
              "<Figure size 864x432 with 1 Axes>"
            ]
          },
          "metadata": {
            "tags": [],
            "needs_background": "light"
          }
        }
      ]
    },
    {
      "cell_type": "markdown",
      "metadata": {
        "id": "p8kOVy0N03s6"
      },
      "source": [
        "##### Desafio 8 - Outros histogramas"
      ]
    },
    {
      "cell_type": "code",
      "metadata": {
        "colab": {
          "base_uri": "https://localhost:8080/",
          "height": 404
        },
        "id": "_cMBwpqc03aj",
        "outputId": "4fd776ff-ab6c-4a0a-b71e-18601f383757"
      },
      "source": [
        "# sexo vs peso\n",
        "ax = sns.histplot(x = 'VB17003', data = dados, kde = True, hue = 'VB01001')\n",
        "ax.figure.set_size_inches(12, 6)\n",
        "ax.set_title('Distribuição de frequência')\n",
        "ax.set_xlabel('Peso')\n",
        "ax.set_ylabel('Frequência')\n",
        "\n",
        "# acertando a legenda\n",
        "plt.legend(title='Sexo', labels=['Masculino', 'Feminino'])\n",
        "\n",
        "ax;"
      ],
      "execution_count": 49,
      "outputs": [
        {
          "output_type": "display_data",
          "data": {
            "image/png": "[encoded data removed]",
            "text/plain": [
              "<Figure size 864x432 with 1 Axes>"
            ]
          },
          "metadata": {
            "tags": [],
            "needs_background": "light"
          }
        }
      ]
    },
    {
      "cell_type": "code",
      "metadata": {
        "colab": {
          "base_uri": "https://localhost:8080/",
          "height": 404
        },
        "id": "Qjw45mua54J_",
        "outputId": "050f3f04-6f34-43ec-a88c-9328120bce6f"
      },
      "source": [
        "# peso vs regime integral\n",
        "dados_filtrados = dados.query('VB01023 != 99')\n",
        "\n",
        "ax = sns.histplot(x = 'VB17003', data = dados_filtrados, kde = True, hue = 'VB01023')\n",
        "ax.figure.set_size_inches(12, 6)\n",
        "ax.set_title('Distribuição de frequência')\n",
        "ax.set_xlabel('Peso')\n",
        "ax.set_ylabel('Frequência')\n",
        "\n",
        "# acertando a legenda\n",
        "plt.legend(title='Estuda em regime integral', labels=['Sim', 'Não'])\n",
        "\n",
        "ax;"
      ],
      "execution_count": 50,
      "outputs": [
        {
          "output_type": "display_data",
          "data": {
            "image/png": "[encoded data removed]",
            "text/plain": [
              "<Figure size 864x432 with 1 Axes>"
            ]
          },
          "metadata": {
            "tags": [],
            "needs_background": "light"
          }
        }
      ]
    },
    {
      "cell_type": "markdown",
      "metadata": {
        "id": "TKhhOpub-2JD"
      },
      "source": [
        "##### Desafio 9 - Entendendo como os outliers são calculados"
      ]
    },
    {
      "cell_type": "markdown",
      "metadata": {
        "id": "mKCqTy1J-6zy"
      },
      "source": [
        "![boxplot.png](data:image/png;base64,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)"
      ]
    },
    {
      "cell_type": "markdown",
      "metadata": {
        "id": "OpIV7PGq-7WJ"
      },
      "source": [
        "## Parte 05 - Medidas de centralidade e dispersão"
      ]
    },
    {
      "cell_type": "code",
      "metadata": {
        "colab": {
          "base_uri": "https://localhost:8080/"
        },
        "id": "HPdmjBo7ZErf",
        "outputId": "8302ab0d-e4e4-4b0e-9c41-a59ea4df1513"
      },
      "source": [
        "dados['VB17004'].mode()"
      ],
      "execution_count": 51,
      "outputs": [
        {
          "output_type": "execute_result",
          "data": {
            "text/plain": [
              "0    160.0\n",
              "dtype: float64"
            ]
          },
          "metadata": {
            "tags": []
          },
          "execution_count": 51
        }
      ]
    },
    {
      "cell_type": "code",
      "metadata": {
        "colab": {
          "base_uri": "https://localhost:8080/"
        },
        "id": "feHhtfq1_Axg",
        "outputId": "965b11c8-17ef-4fd3-810d-a76aad11ffd7"
      },
      "source": [
        "dados['VB17004'].mean()"
      ],
      "execution_count": 52,
      "outputs": [
        {
          "output_type": "execute_result",
          "data": {
            "text/plain": [
              "160.71311307078818"
            ]
          },
          "metadata": {
            "tags": []
          },
          "execution_count": 52
        }
      ]
    },
    {
      "cell_type": "code",
      "metadata": {
        "colab": {
          "base_uri": "https://localhost:8080/"
        },
        "id": "awu0OmtY_BbB",
        "outputId": "650d1053-c8cd-4a69-fb06-81cf81f6bbbc"
      },
      "source": [
        "dados.groupby('VB01001')['VB17004'].mean()"
      ],
      "execution_count": 53,
      "outputs": [
        {
          "output_type": "execute_result",
          "data": {
            "text/plain": [
              "VB01001\n",
              "1    163.860758\n",
              "2    157.558617\n",
              "Name: VB17004, dtype: float64"
            ]
          },
          "metadata": {
            "tags": []
          },
          "execution_count": 53
        }
      ]
    },
    {
      "cell_type": "code",
      "metadata": {
        "colab": {
          "base_uri": "https://localhost:8080/"
        },
        "id": "kfaSDh3F_01N",
        "outputId": "9fd05486-3cf0-41e7-8282-aab5476bba5a"
      },
      "source": [
        "dados.groupby(['VB01001', 'VB01003'])['VB17004'].mean()"
      ],
      "execution_count": 54,
      "outputs": [
        {
          "output_type": "execute_result",
          "data": {
            "text/plain": [
              "VB01001  VB01003\n",
              "1        11         147.617753\n",
              "         12         153.696764\n",
              "         13         160.719801\n",
              "         14         166.406922\n",
              "         15         170.336297\n",
              "         16         172.424933\n",
              "         17         173.814341\n",
              "         18         173.024561\n",
              "         19         172.143158\n",
              "2        11         149.522512\n",
              "         12         154.965021\n",
              "         13         157.673105\n",
              "         14         159.340320\n",
              "         15         160.759848\n",
              "         16         160.386527\n",
              "         17         160.907937\n",
              "         18         159.438462\n",
              "         19         158.977193\n",
              "Name: VB17004, dtype: float64"
            ]
          },
          "metadata": {
            "tags": []
          },
          "execution_count": 54
        }
      ]
    },
    {
      "cell_type": "code",
      "metadata": {
        "colab": {
          "base_uri": "https://localhost:8080/",
          "height": 399
        },
        "id": "IXJ4mYVvZZdW",
        "outputId": "3b4aafad-4499-47ab-9fa5-72ce3092d1ba"
      },
      "source": [
        "media_altura = dados['VB17004'].mean()\n",
        "dados['MEDIA_ALTURA'] = media_altura\n",
        "diff = dados['VB17004'] - media_altura\n",
        "dados['DIFERENCA_MEDIA'] = diff\n",
        "diff_quadrado = diff**2\n",
        "dados['DIFERENCA_QUADRADO'] = diff_quadrado\n",
        "\n",
        "dados[['VB17004', 'MEDIA_ALTURA', 'DIFERENCA_MEDIA', 'DIFERENCA_QUADRADO']]"
      ],
      "execution_count": 55,
      "outputs": [
        {
          "output_type": "execute_result",
          "data": {
            "text/html": [
              "<div>\n",
              "<style scoped>\n",
              "    .dataframe tbody tr th:only-of-type {\n",
              "        vertical-align: middle;\n",
              "    }\n",
              "\n",
              "    .dataframe tbody tr th {\n",
              "        vertical-align: top;\n",
              "    }\n",
              "\n",
              "    .dataframe thead th {\n",
              "        text-align: right;\n",
              "    }\n",
              "</style>\n",
              "<table border=\"1\" class=\"dataframe\">\n",
              "  <thead>\n",
              "    <tr style=\"text-align: right;\">\n",
              "      <th></th>\n",
              "      <th>VB17004</th>\n",
              "      <th>MEDIA_ALTURA</th>\n",
              "      <th>DIFERENCA_MEDIA</th>\n",
              "      <th>DIFERENCA_QUADRADO</th>\n",
              "    </tr>\n",
              "  </thead>\n",
              "  <tbody>\n",
              "    <tr>\n",
              "      <th>0</th>\n",
              "      <td>157.0</td>\n",
              "      <td>160.713113</td>\n",
              "      <td>-3.713113</td>\n",
              "      <td>13.787209</td>\n",
              "    </tr>\n",
              "    <tr>\n",
              "      <th>1</th>\n",
              "      <td>152.0</td>\n",
              "      <td>160.713113</td>\n",
              "      <td>-8.713113</td>\n",
              "      <td>75.918339</td>\n",
              "    </tr>\n",
              "    <tr>\n",
              "      <th>2</th>\n",
              "      <td>161.4</td>\n",
              "      <td>160.713113</td>\n",
              "      <td>0.686887</td>\n",
              "      <td>0.471814</td>\n",
              "    </tr>\n",
              "    <tr>\n",
              "      <th>3</th>\n",
              "      <td>172.5</td>\n",
              "      <td>160.713113</td>\n",
              "      <td>11.786887</td>\n",
              "      <td>138.930703</td>\n",
              "    </tr>\n",
              "    <tr>\n",
              "      <th>4</th>\n",
              "      <td>167.5</td>\n",
              "      <td>160.713113</td>\n",
              "      <td>6.786887</td>\n",
              "      <td>46.061834</td>\n",
              "    </tr>\n",
              "    <tr>\n",
              "      <th>...</th>\n",
              "      <td>...</td>\n",
              "      <td>...</td>\n",
              "      <td>...</td>\n",
              "      <td>...</td>\n",
              "    </tr>\n",
              "    <tr>\n",
              "      <th>16551</th>\n",
              "      <td>167.9</td>\n",
              "      <td>160.713113</td>\n",
              "      <td>7.186887</td>\n",
              "      <td>51.651344</td>\n",
              "    </tr>\n",
              "    <tr>\n",
              "      <th>16552</th>\n",
              "      <td>185.8</td>\n",
              "      <td>160.713113</td>\n",
              "      <td>25.086887</td>\n",
              "      <td>629.351896</td>\n",
              "    </tr>\n",
              "    <tr>\n",
              "      <th>16553</th>\n",
              "      <td>159.4</td>\n",
              "      <td>160.713113</td>\n",
              "      <td>-1.313113</td>\n",
              "      <td>1.724266</td>\n",
              "    </tr>\n",
              "    <tr>\n",
              "      <th>16554</th>\n",
              "      <td>157.8</td>\n",
              "      <td>160.713113</td>\n",
              "      <td>-2.913113</td>\n",
              "      <td>8.486228</td>\n",
              "    </tr>\n",
              "    <tr>\n",
              "      <th>16555</th>\n",
              "      <td>163.9</td>\n",
              "      <td>160.713113</td>\n",
              "      <td>3.186887</td>\n",
              "      <td>10.156248</td>\n",
              "    </tr>\n",
              "  </tbody>\n",
              "</table>\n",
              "<p>16556 rows × 4 columns</p>\n",
              "</div>"
            ],
            "text/plain": [
              "       VB17004  MEDIA_ALTURA  DIFERENCA_MEDIA  DIFERENCA_QUADRADO\n",
              "0        157.0    160.713113        -3.713113           13.787209\n",
              "1        152.0    160.713113        -8.713113           75.918339\n",
              "2        161.4    160.713113         0.686887            0.471814\n",
              "3        172.5    160.713113        11.786887          138.930703\n",
              "4        167.5    160.713113         6.786887           46.061834\n",
              "...        ...           ...              ...                 ...\n",
              "16551    167.9    160.713113         7.186887           51.651344\n",
              "16552    185.8    160.713113        25.086887          629.351896\n",
              "16553    159.4    160.713113        -1.313113            1.724266\n",
              "16554    157.8    160.713113        -2.913113            8.486228\n",
              "16555    163.9    160.713113         3.186887           10.156248\n",
              "\n",
              "[16556 rows x 4 columns]"
            ]
          },
          "metadata": {
            "tags": []
          },
          "execution_count": 55
        }
      ]
    },
    {
      "cell_type": "code",
      "metadata": {
        "colab": {
          "base_uri": "https://localhost:8080/"
        },
        "id": "kki-n52uZZQp",
        "outputId": "53a318be-90f1-4312-a794-84ad29a99663"
      },
      "source": [
        "# variância\n",
        "variancia_amostral = (1/(len(dados)-1)) * dados['DIFERENCA_QUADRADO'].sum()\n",
        "variancia_amostral"
      ],
      "execution_count": 56,
      "outputs": [
        {
          "output_type": "execute_result",
          "data": {
            "text/plain": [
              "106.91705244049119"
            ]
          },
          "metadata": {
            "tags": []
          },
          "execution_count": 56
        }
      ]
    },
    {
      "cell_type": "code",
      "metadata": {
        "colab": {
          "base_uri": "https://localhost:8080/"
        },
        "id": "guWX5T0oZYbi",
        "outputId": "e9ff5e7f-aede-4ea4-c4ae-d907b5335de8"
      },
      "source": [
        "dados['VB17004'].mean()"
      ],
      "execution_count": 57,
      "outputs": [
        {
          "output_type": "execute_result",
          "data": {
            "text/plain": [
              "160.71311307078818"
            ]
          },
          "metadata": {
            "tags": []
          },
          "execution_count": 57
        }
      ]
    },
    {
      "cell_type": "code",
      "metadata": {
        "colab": {
          "base_uri": "https://localhost:8080/"
        },
        "id": "4MZW8uxLcY1A",
        "outputId": "5348b2e5-f5bd-443a-e2c1-3051801f435f"
      },
      "source": [
        "desvio_padrao = np.sqrt(variancia_amostral)\n",
        "desvio_padrao"
      ],
      "execution_count": 58,
      "outputs": [
        {
          "output_type": "execute_result",
          "data": {
            "text/plain": [
              "10.340070233827776"
            ]
          },
          "metadata": {
            "tags": []
          },
          "execution_count": 58
        }
      ]
    },
    {
      "cell_type": "markdown",
      "metadata": {
        "id": "HStwX7fv_4vj"
      },
      "source": [
        "### Desafios"
      ]
    },
    {
      "cell_type": "markdown",
      "metadata": {
        "id": "Wzbx4Ds0_62j"
      },
      "source": [
        "* Desafio 10: Fazer a descrição de outras variáveis, analisar e compartilhar suas análises no discord\n",
        "* Desafio 11: Fazer o cálculo da média da altura por sexo e idade, através do crosstab\n",
        "* Desafio 12: Estudar as medidas de dispersão e calcular utilizando o pandas, realizar os cálculos para as outras colunas numéricas (peso, IMC e etc)\n",
        "\n",
        "* Super desafio 1: Criar um dicionário para facilitar a busca da pergunta\n",
        "* Super desafio 2: De alguma maneira, sumarizar as perguntas (em tags) para ficar mais curta. (dica: NLTK, GENSIM)"
      ]
    },
    {
      "cell_type": "markdown",
      "metadata": {
        "id": "1dfg89VVTCAa"
      },
      "source": [
        "#### Desafio 10 - Outra variáveis"
      ]
    },
    {
      "cell_type": "markdown",
      "metadata": {
        "id": "O8srDZ6TTHqp"
      },
      "source": [
        "**Altura, Peso, IMC e Idade** para cada Sexo\r\n",
        "\r\n",
        "```\r\n",
        "altura = VB17004\r\n",
        "peso = VB17003\r\n",
        "idade = VB01003\r\n",
        "sexo = VB01001\r\n",
        "```\r\n",
        "\r\n"
      ]
    },
    {
      "cell_type": "code",
      "metadata": {
        "colab": {
          "base_uri": "https://localhost:8080/",
          "height": 575
        },
        "id": "inBnpQxsrsEm",
        "outputId": "00464148-3350-4eca-c316-df3ced6d5fb9"
      },
      "source": [
        "imc = pd.DataFrame(dados.groupby(['VB01001', 'VB01003'], as_index=False)['IMC'].mean().round(2))\r\n",
        "imc.columns = ['Sexo', 'Idade', 'Média de IMC']\r\n",
        "imc['Sexo'] = imc['Sexo'].replace([1,2], ['Masculino', 'Feminino'])\r\n",
        "\r\n",
        "imc"
      ],
      "execution_count": 59,
      "outputs": [
        {
          "output_type": "execute_result",
          "data": {
            "text/html": [
              "<div>\n",
              "<style scoped>\n",
              "    .dataframe tbody tr th:only-of-type {\n",
              "        vertical-align: middle;\n",
              "    }\n",
              "\n",
              "    .dataframe tbody tr th {\n",
              "        vertical-align: top;\n",
              "    }\n",
              "\n",
              "    .dataframe thead th {\n",
              "        text-align: right;\n",
              "    }\n",
              "</style>\n",
              "<table border=\"1\" class=\"dataframe\">\n",
              "  <thead>\n",
              "    <tr style=\"text-align: right;\">\n",
              "      <th></th>\n",
              "      <th>Sexo</th>\n",
              "      <th>Idade</th>\n",
              "      <th>Média de IMC</th>\n",
              "    </tr>\n",
              "  </thead>\n",
              "  <tbody>\n",
              "    <tr>\n",
              "      <th>0</th>\n",
              "      <td>Masculino</td>\n",
              "      <td>11</td>\n",
              "      <td>19.31</td>\n",
              "    </tr>\n",
              "    <tr>\n",
              "      <th>1</th>\n",
              "      <td>Masculino</td>\n",
              "      <td>12</td>\n",
              "      <td>19.68</td>\n",
              "    </tr>\n",
              "    <tr>\n",
              "      <th>2</th>\n",
              "      <td>Masculino</td>\n",
              "      <td>13</td>\n",
              "      <td>20.07</td>\n",
              "    </tr>\n",
              "    <tr>\n",
              "      <th>3</th>\n",
              "      <td>Masculino</td>\n",
              "      <td>14</td>\n",
              "      <td>20.77</td>\n",
              "    </tr>\n",
              "    <tr>\n",
              "      <th>4</th>\n",
              "      <td>Masculino</td>\n",
              "      <td>15</td>\n",
              "      <td>21.41</td>\n",
              "    </tr>\n",
              "    <tr>\n",
              "      <th>5</th>\n",
              "      <td>Masculino</td>\n",
              "      <td>16</td>\n",
              "      <td>21.69</td>\n",
              "    </tr>\n",
              "    <tr>\n",
              "      <th>6</th>\n",
              "      <td>Masculino</td>\n",
              "      <td>17</td>\n",
              "      <td>22.40</td>\n",
              "    </tr>\n",
              "    <tr>\n",
              "      <th>7</th>\n",
              "      <td>Masculino</td>\n",
              "      <td>18</td>\n",
              "      <td>22.48</td>\n",
              "    </tr>\n",
              "    <tr>\n",
              "      <th>8</th>\n",
              "      <td>Masculino</td>\n",
              "      <td>19</td>\n",
              "      <td>23.29</td>\n",
              "    </tr>\n",
              "    <tr>\n",
              "      <th>9</th>\n",
              "      <td>Feminino</td>\n",
              "      <td>11</td>\n",
              "      <td>19.19</td>\n",
              "    </tr>\n",
              "    <tr>\n",
              "      <th>10</th>\n",
              "      <td>Feminino</td>\n",
              "      <td>12</td>\n",
              "      <td>20.08</td>\n",
              "    </tr>\n",
              "    <tr>\n",
              "      <th>11</th>\n",
              "      <td>Feminino</td>\n",
              "      <td>13</td>\n",
              "      <td>20.70</td>\n",
              "    </tr>\n",
              "    <tr>\n",
              "      <th>12</th>\n",
              "      <td>Feminino</td>\n",
              "      <td>14</td>\n",
              "      <td>21.32</td>\n",
              "    </tr>\n",
              "    <tr>\n",
              "      <th>13</th>\n",
              "      <td>Feminino</td>\n",
              "      <td>15</td>\n",
              "      <td>21.70</td>\n",
              "    </tr>\n",
              "    <tr>\n",
              "      <th>14</th>\n",
              "      <td>Feminino</td>\n",
              "      <td>16</td>\n",
              "      <td>22.10</td>\n",
              "    </tr>\n",
              "    <tr>\n",
              "      <th>15</th>\n",
              "      <td>Feminino</td>\n",
              "      <td>17</td>\n",
              "      <td>22.41</td>\n",
              "    </tr>\n",
              "    <tr>\n",
              "      <th>16</th>\n",
              "      <td>Feminino</td>\n",
              "      <td>18</td>\n",
              "      <td>22.64</td>\n",
              "    </tr>\n",
              "    <tr>\n",
              "      <th>17</th>\n",
              "      <td>Feminino</td>\n",
              "      <td>19</td>\n",
              "      <td>23.97</td>\n",
              "    </tr>\n",
              "  </tbody>\n",
              "</table>\n",
              "</div>"
            ],
            "text/plain": [
              "         Sexo  Idade  Média de IMC\n",
              "0   Masculino     11         19.31\n",
              "1   Masculino     12         19.68\n",
              "2   Masculino     13         20.07\n",
              "3   Masculino     14         20.77\n",
              "4   Masculino     15         21.41\n",
              "5   Masculino     16         21.69\n",
              "6   Masculino     17         22.40\n",
              "7   Masculino     18         22.48\n",
              "8   Masculino     19         23.29\n",
              "9    Feminino     11         19.19\n",
              "10   Feminino     12         20.08\n",
              "11   Feminino     13         20.70\n",
              "12   Feminino     14         21.32\n",
              "13   Feminino     15         21.70\n",
              "14   Feminino     16         22.10\n",
              "15   Feminino     17         22.41\n",
              "16   Feminino     18         22.64\n",
              "17   Feminino     19         23.97"
            ]
          },
          "metadata": {
            "tags": []
          },
          "execution_count": 59
        }
      ]
    },
    {
      "cell_type": "code",
      "metadata": {
        "colab": {
          "base_uri": "https://localhost:8080/",
          "height": 617
        },
        "id": "IZ4JM5EnhgfB",
        "outputId": "30f81f74-4fb5-41c8-d9b3-493317e0af8c"
      },
      "source": [
        "fig = imc.plot(backend='plotly', kind='bar',\r\n",
        "         x='Idade', y='Média de IMC', color='Sexo', text='Média de IMC',\r\n",
        "         barmode='group')\r\n",
        "\r\n",
        "fig.update_xaxes(dtick=1)\r\n",
        "fig.update_traces(textposition='outside')\r\n",
        "fig.update_layout(uniformtext_minsize=8, uniformtext_mode='hide')\r\n",
        "\r\n",
        "fig.update_layout(\r\n",
        "    title_text = 'PeNSE - Pesquisa Nacional de Saúde do Escolar<br /><b>Média de IMC por Sexo e Idade</b>',\r\n",
        "    xaxis_title_text = 'Idade',\r\n",
        "    yaxis_title_text = 'Média de IMC',\r\n",
        "    legend_title_text = 'Sexo do escolar',\r\n",
        "    template = 'plotly_white',\r\n",
        "    autosize = False,\r\n",
        "    width = 800,\r\n",
        "    height = 600\r\n",
        ")\r\n",
        "\r\n",
        "fig.show()\r\n"
      ],
      "execution_count": 60,
      "outputs": [
        {
          "output_type": "display_data",
          "data": {
            "text/html": [
              "<html>\n",
              "<head><meta charset=\"utf-8\" /></head>\n",
              "<body>\n",
              "    <div>            <script src=\"https://cdnjs.cloudflare.com/ajax/libs/mathjax/2.7.5/MathJax.js?config=TeX-AMS-MML_SVG\"></script><script type=\"text/javascript\">if (window.MathJax) {MathJax.Hub.Config({SVG: {font: \"STIX-Web\"}});}</script>                <script type=\"text/javascript\">window.PlotlyConfig = {MathJaxConfig: 'local'};</script>\n",
              "        <script src=\"https://cdn.plot.ly/plotly-latest.min.js\"></script>                <div id=\"3617306d-7832-4432-b32a-6419118da904\" class=\"plotly-graph-div\" style=\"height:600px; width:800px;\"></div>            <script type=\"text/javascript\">                                    window.PLOTLYENV=window.PLOTLYENV || {};                                    if (document.getElementById(\"3617306d-7832-4432-b32a-6419118da904\")) {                    Plotly.newPlot(                        \"3617306d-7832-4432-b32a-6419118da904\",                        [{\"alignmentgroup\": \"True\", \"hovertemplate\": \"Sexo=Masculino<br>Idade=%{x}<br>M\\u00e9dia de IMC=%{text}<extra></extra>\", \"legendgroup\": \"Masculino\", \"marker\": {\"color\": \"#636efa\"}, \"name\": \"Masculino\", \"offsetgroup\": \"Masculino\", \"orientation\": \"v\", \"showlegend\": true, \"text\": [19.31, 19.68, 20.07, 20.77, 21.41, 21.69, 22.4, 22.48, 23.29], \"textposition\": \"outside\", \"type\": \"bar\", \"x\": [11, 12, 13, 14, 15, 16, 17, 18, 19], \"xaxis\": \"x\", \"y\": [19.31, 19.68, 20.07, 20.77, 21.41, 21.69, 22.4, 22.48, 23.29], \"yaxis\": \"y\"}, {\"alignmentgroup\": \"True\", \"hovertemplate\": \"Sexo=Feminino<br>Idade=%{x}<br>M\\u00e9dia de IMC=%{text}<extra></extra>\", \"legendgroup\": \"Feminino\", \"marker\": {\"color\": \"#EF553B\"}, \"name\": \"Feminino\", \"offsetgroup\": \"Feminino\", \"orientation\": \"v\", \"showlegend\": true, \"text\": [19.19, 20.08, 20.7, 21.32, 21.7, 22.1, 22.41, 22.64, 23.97], \"textposition\": \"outside\", \"type\": \"bar\", \"x\": [11, 12, 13, 14, 15, 16, 17, 18, 19], \"xaxis\": \"x\", \"y\": [19.19, 20.08, 20.7, 21.32, 21.7, 22.1, 22.41, 22.64, 23.97], \"yaxis\": \"y\"}],                        {\"autosize\": false, \"barmode\": \"group\", \"height\": 600, \"legend\": {\"title\": {\"text\": \"Sexo do escolar\"}, \"tracegroupgap\": 0}, \"margin\": {\"t\": 60}, \"template\": {\"data\": {\"bar\": [{\"error_x\": {\"color\": \"#2a3f5f\"}, \"error_y\": {\"color\": \"#2a3f5f\"}, \"marker\": {\"line\": {\"color\": \"white\", \"width\": 0.5}}, \"type\": \"bar\"}], \"barpolar\": [{\"marker\": {\"line\": {\"color\": \"white\", \"width\": 0.5}}, \"type\": \"barpolar\"}], \"carpet\": [{\"aaxis\": {\"endlinecolor\": \"#2a3f5f\", \"gridcolor\": \"#C8D4E3\", \"linecolor\": \"#C8D4E3\", \"minorgridcolor\": \"#C8D4E3\", \"startlinecolor\": \"#2a3f5f\"}, \"baxis\": {\"endlinecolor\": \"#2a3f5f\", \"gridcolor\": \"#C8D4E3\", \"linecolor\": \"#C8D4E3\", \"minorgridcolor\": \"#C8D4E3\", \"startlinecolor\": \"#2a3f5f\"}, \"type\": \"carpet\"}], \"choropleth\": [{\"colorbar\": {\"outlinewidth\": 0, \"ticks\": \"\"}, \"type\": \"choropleth\"}], \"contour\": [{\"colorbar\": {\"outlinewidth\": 0, \"ticks\": \"\"}, \"colorscale\": [[0.0, \"#0d0887\"], [0.1111111111111111, \"#46039f\"], [0.2222222222222222, \"#7201a8\"], [0.3333333333333333, \"#9c179e\"], [0.4444444444444444, \"#bd3786\"], [0.5555555555555556, \"#d8576b\"], [0.6666666666666666, \"#ed7953\"], [0.7777777777777778, \"#fb9f3a\"], [0.8888888888888888, \"#fdca26\"], [1.0, \"#f0f921\"]], \"type\": \"contour\"}], \"contourcarpet\": [{\"colorbar\": {\"outlinewidth\": 0, \"ticks\": \"\"}, \"type\": \"contourcarpet\"}], \"heatmap\": [{\"colorbar\": {\"outlinewidth\": 0, \"ticks\": \"\"}, \"colorscale\": [[0.0, \"#0d0887\"], [0.1111111111111111, \"#46039f\"], [0.2222222222222222, \"#7201a8\"], [0.3333333333333333, \"#9c179e\"], [0.4444444444444444, \"#bd3786\"], [0.5555555555555556, \"#d8576b\"], [0.6666666666666666, \"#ed7953\"], [0.7777777777777778, \"#fb9f3a\"], [0.8888888888888888, \"#fdca26\"], [1.0, \"#f0f921\"]], \"type\": \"heatmap\"}], \"heatmapgl\": [{\"colorbar\": {\"outlinewidth\": 0, \"ticks\": \"\"}, \"colorscale\": [[0.0, \"#0d0887\"], [0.1111111111111111, \"#46039f\"], [0.2222222222222222, \"#7201a8\"], [0.3333333333333333, \"#9c179e\"], [0.4444444444444444, \"#bd3786\"], [0.5555555555555556, \"#d8576b\"], [0.6666666666666666, \"#ed7953\"], [0.7777777777777778, \"#fb9f3a\"], [0.8888888888888888, \"#fdca26\"], [1.0, \"#f0f921\"]], \"type\": \"heatmapgl\"}], \"histogram\": [{\"marker\": {\"colorbar\": {\"outlinewidth\": 0, \"ticks\": \"\"}}, \"type\": \"histogram\"}], \"histogram2d\": [{\"colorbar\": {\"outlinewidth\": 0, \"ticks\": \"\"}, \"colorscale\": [[0.0, \"#0d0887\"], [0.1111111111111111, \"#46039f\"], [0.2222222222222222, \"#7201a8\"], [0.3333333333333333, \"#9c179e\"], [0.4444444444444444, \"#bd3786\"], [0.5555555555555556, \"#d8576b\"], [0.6666666666666666, \"#ed7953\"], [0.7777777777777778, \"#fb9f3a\"], [0.8888888888888888, \"#fdca26\"], [1.0, \"#f0f921\"]], \"type\": \"histogram2d\"}], \"histogram2dcontour\": [{\"colorbar\": {\"outlinewidth\": 0, \"ticks\": \"\"}, \"colorscale\": [[0.0, \"#0d0887\"], [0.1111111111111111, \"#46039f\"], [0.2222222222222222, \"#7201a8\"], [0.3333333333333333, \"#9c179e\"], [0.4444444444444444, \"#bd3786\"], [0.5555555555555556, \"#d8576b\"], [0.6666666666666666, \"#ed7953\"], [0.7777777777777778, \"#fb9f3a\"], [0.8888888888888888, \"#fdca26\"], [1.0, \"#f0f921\"]], \"type\": \"histogram2dcontour\"}], \"mesh3d\": [{\"colorbar\": {\"outlinewidth\": 0, \"ticks\": \"\"}, \"type\": \"mesh3d\"}], \"parcoords\": [{\"line\": {\"colorbar\": {\"outlinewidth\": 0, \"ticks\": \"\"}}, \"type\": \"parcoords\"}], \"pie\": [{\"automargin\": true, \"type\": \"pie\"}], \"scatter\": [{\"marker\": {\"colorbar\": {\"outlinewidth\": 0, \"ticks\": \"\"}}, \"type\": \"scatter\"}], \"scatter3d\": [{\"line\": {\"colorbar\": {\"outlinewidth\": 0, \"ticks\": \"\"}}, \"marker\": {\"colorbar\": {\"outlinewidth\": 0, \"ticks\": \"\"}}, \"type\": \"scatter3d\"}], \"scattercarpet\": [{\"marker\": {\"colorbar\": {\"outlinewidth\": 0, \"ticks\": \"\"}}, \"type\": \"scattercarpet\"}], \"scattergeo\": [{\"marker\": {\"colorbar\": {\"outlinewidth\": 0, \"ticks\": \"\"}}, \"type\": \"scattergeo\"}], \"scattergl\": [{\"marker\": {\"colorbar\": {\"outlinewidth\": 0, \"ticks\": \"\"}}, \"type\": \"scattergl\"}], \"scattermapbox\": [{\"marker\": {\"colorbar\": {\"outlinewidth\": 0, \"ticks\": \"\"}}, \"type\": \"scattermapbox\"}], \"scatterpolar\": [{\"marker\": {\"colorbar\": {\"outlinewidth\": 0, \"ticks\": \"\"}}, \"type\": \"scatterpolar\"}], \"scatterpolargl\": [{\"marker\": {\"colorbar\": {\"outlinewidth\": 0, \"ticks\": \"\"}}, \"type\": \"scatterpolargl\"}], \"scatterternary\": [{\"marker\": {\"colorbar\": {\"outlinewidth\": 0, \"ticks\": \"\"}}, \"type\": \"scatterternary\"}], \"surface\": [{\"colorbar\": {\"outlinewidth\": 0, \"ticks\": \"\"}, \"colorscale\": [[0.0, \"#0d0887\"], [0.1111111111111111, \"#46039f\"], [0.2222222222222222, \"#7201a8\"], [0.3333333333333333, \"#9c179e\"], [0.4444444444444444, \"#bd3786\"], [0.5555555555555556, \"#d8576b\"], [0.6666666666666666, \"#ed7953\"], [0.7777777777777778, \"#fb9f3a\"], [0.8888888888888888, \"#fdca26\"], [1.0, \"#f0f921\"]], \"type\": \"surface\"}], \"table\": [{\"cells\": {\"fill\": {\"color\": \"#EBF0F8\"}, \"line\": {\"color\": \"white\"}}, \"header\": {\"fill\": {\"color\": \"#C8D4E3\"}, \"line\": {\"color\": \"white\"}}, \"type\": \"table\"}]}, \"layout\": {\"annotationdefaults\": {\"arrowcolor\": \"#2a3f5f\", \"arrowhead\": 0, \"arrowwidth\": 1}, \"coloraxis\": {\"colorbar\": {\"outlinewidth\": 0, \"ticks\": \"\"}}, \"colorscale\": {\"diverging\": [[0, \"#8e0152\"], [0.1, \"#c51b7d\"], [0.2, \"#de77ae\"], [0.3, \"#f1b6da\"], [0.4, \"#fde0ef\"], [0.5, \"#f7f7f7\"], [0.6, \"#e6f5d0\"], [0.7, \"#b8e186\"], [0.8, \"#7fbc41\"], [0.9, \"#4d9221\"], [1, \"#276419\"]], \"sequential\": [[0.0, \"#0d0887\"], [0.1111111111111111, \"#46039f\"], [0.2222222222222222, \"#7201a8\"], [0.3333333333333333, \"#9c179e\"], [0.4444444444444444, \"#bd3786\"], [0.5555555555555556, \"#d8576b\"], [0.6666666666666666, \"#ed7953\"], [0.7777777777777778, \"#fb9f3a\"], [0.8888888888888888, \"#fdca26\"], [1.0, \"#f0f921\"]], \"sequentialminus\": [[0.0, \"#0d0887\"], [0.1111111111111111, \"#46039f\"], [0.2222222222222222, \"#7201a8\"], [0.3333333333333333, \"#9c179e\"], [0.4444444444444444, \"#bd3786\"], [0.5555555555555556, \"#d8576b\"], [0.6666666666666666, \"#ed7953\"], [0.7777777777777778, \"#fb9f3a\"], [0.8888888888888888, \"#fdca26\"], [1.0, \"#f0f921\"]]}, \"colorway\": [\"#636efa\", \"#EF553B\", \"#00cc96\", \"#ab63fa\", \"#FFA15A\", \"#19d3f3\", \"#FF6692\", \"#B6E880\", \"#FF97FF\", \"#FECB52\"], \"font\": {\"color\": \"#2a3f5f\"}, \"geo\": {\"bgcolor\": \"white\", \"lakecolor\": \"white\", \"landcolor\": \"white\", \"showlakes\": true, \"showland\": true, \"subunitcolor\": \"#C8D4E3\"}, \"hoverlabel\": {\"align\": \"left\"}, \"hovermode\": \"closest\", \"mapbox\": {\"style\": \"light\"}, \"paper_bgcolor\": \"white\", \"plot_bgcolor\": \"white\", \"polar\": {\"angularaxis\": {\"gridcolor\": \"#EBF0F8\", \"linecolor\": \"#EBF0F8\", \"ticks\": \"\"}, \"bgcolor\": \"white\", \"radialaxis\": {\"gridcolor\": \"#EBF0F8\", \"linecolor\": \"#EBF0F8\", \"ticks\": \"\"}}, \"scene\": {\"xaxis\": {\"backgroundcolor\": \"white\", \"gridcolor\": \"#DFE8F3\", \"gridwidth\": 2, \"linecolor\": \"#EBF0F8\", \"showbackground\": true, \"ticks\": \"\", \"zerolinecolor\": \"#EBF0F8\"}, \"yaxis\": {\"backgroundcolor\": \"white\", \"gridcolor\": \"#DFE8F3\", \"gridwidth\": 2, \"linecolor\": \"#EBF0F8\", \"showbackground\": true, \"ticks\": \"\", \"zerolinecolor\": \"#EBF0F8\"}, \"zaxis\": {\"backgroundcolor\": \"white\", \"gridcolor\": \"#DFE8F3\", \"gridwidth\": 2, \"linecolor\": \"#EBF0F8\", \"showbackground\": true, \"ticks\": \"\", \"zerolinecolor\": \"#EBF0F8\"}}, \"shapedefaults\": {\"line\": {\"color\": \"#2a3f5f\"}}, \"ternary\": {\"aaxis\": {\"gridcolor\": \"#DFE8F3\", \"linecolor\": \"#A2B1C6\", \"ticks\": \"\"}, \"baxis\": {\"gridcolor\": \"#DFE8F3\", \"linecolor\": \"#A2B1C6\", \"ticks\": \"\"}, \"bgcolor\": \"white\", \"caxis\": {\"gridcolor\": \"#DFE8F3\", \"linecolor\": \"#A2B1C6\", \"ticks\": \"\"}}, \"title\": {\"x\": 0.05}, \"xaxis\": {\"automargin\": true, \"gridcolor\": \"#EBF0F8\", \"linecolor\": \"#EBF0F8\", \"ticks\": \"\", \"title\": {\"standoff\": 15}, \"zerolinecolor\": \"#EBF0F8\", \"zerolinewidth\": 2}, \"yaxis\": {\"automargin\": true, \"gridcolor\": \"#EBF0F8\", \"linecolor\": \"#EBF0F8\", \"ticks\": \"\", \"title\": {\"standoff\": 15}, \"zerolinecolor\": \"#EBF0F8\", \"zerolinewidth\": 2}}}, \"title\": {\"text\": \"PeNSE - Pesquisa Nacional de Sa\\u00fade do Escolar<br /><b>M\\u00e9dia de IMC por Sexo e Idade</b>\"}, \"uniformtext\": {\"minsize\": 8, \"mode\": \"hide\"}, \"width\": 800, \"xaxis\": {\"anchor\": \"y\", \"domain\": [0.0, 1.0], \"dtick\": 1, \"title\": {\"text\": \"Idade\"}}, \"yaxis\": {\"anchor\": \"x\", \"domain\": [0.0, 1.0], \"title\": {\"text\": \"M\\u00e9dia de IMC\"}}},                        {\"responsive\": true}                    ).then(function(){\n",
              "                            \n",
              "var gd = document.getElementById('3617306d-7832-4432-b32a-6419118da904');\n",
              "var x = new MutationObserver(function (mutations, observer) {{\n",
              "        var display = window.getComputedStyle(gd).display;\n",
              "        if (!display || display === 'none') {{\n",
              "            console.log([gd, 'removed!']);\n",
              "            Plotly.purge(gd);\n",
              "            observer.disconnect();\n",
              "        }}\n",
              "}});\n",
              "\n",
              "// Listen for the removal of the full notebook cells\n",
              "var notebookContainer = gd.closest('#notebook-container');\n",
              "if (notebookContainer) {{\n",
              "    x.observe(notebookContainer, {childList: true});\n",
              "}}\n",
              "\n",
              "// Listen for the clearing of the current output cell\n",
              "var outputEl = gd.closest('.output');\n",
              "if (outputEl) {{\n",
              "    x.observe(outputEl, {childList: true});\n",
              "}}\n",
              "\n",
              "                        })                };                            </script>        </div>\n",
              "</body>\n",
              "</html>"
            ]
          },
          "metadata": {
            "tags": []
          }
        }
      ]
    },
    {
      "cell_type": "markdown",
      "metadata": {
        "id": "jfAQ_aotqTgZ"
      },
      "source": [
        "Conseguimos ver acima que a média de IMC cresce junto com a idade e que essa média é quase sempre maior para mulheres, exceto na idade de 11 anos."
      ]
    },
    {
      "cell_type": "markdown",
      "metadata": {
        "id": "-uXqw9eVqivQ"
      },
      "source": [
        "**Média de IMC e Satisfação** para cada Sexo\r\n",
        "\r\n",
        "```\r\n",
        "satisfação com o corpo = VB11007\r\n",
        "sexo = VB01001\r\n",
        "```\r\n",
        "\r\n"
      ]
    },
    {
      "cell_type": "code",
      "metadata": {
        "colab": {
          "base_uri": "https://localhost:8080/",
          "height": 399
        },
        "id": "JR9P2waUs3FT",
        "outputId": "36bdfc2e-5ca6-4179-ddde-8bfbf34f6ec3"
      },
      "source": [
        "imc_by_satisfacao = pd.DataFrame(dados.groupby(['VB01001', 'VB11007'], as_index=False)['IMC'].mean().round(2))\r\n",
        "\r\n",
        "imc_by_satisfacao['VB01001'] = imc_by_satisfacao['VB01001'].replace([1,2], ['Masculino', 'Feminino'])\r\n",
        "imc_by_satisfacao['VB11007'] = imc_by_satisfacao['VB11007'].replace(\r\n",
        "    [1,2,3,4,5,99], ['Muito satisfeito(a)',\r\n",
        "                     'Satisfeito(a)',\r\n",
        "                     'Indiferente',\r\n",
        "                     'Insatisfeito(a)',\r\n",
        "                     'Muito insatisfeito(a)',\r\n",
        "                     'Não informado'])\r\n",
        "\r\n",
        "imc_by_satisfacao"
      ],
      "execution_count": 61,
      "outputs": [
        {
          "output_type": "execute_result",
          "data": {
            "text/html": [
              "<div>\n",
              "<style scoped>\n",
              "    .dataframe tbody tr th:only-of-type {\n",
              "        vertical-align: middle;\n",
              "    }\n",
              "\n",
              "    .dataframe tbody tr th {\n",
              "        vertical-align: top;\n",
              "    }\n",
              "\n",
              "    .dataframe thead th {\n",
              "        text-align: right;\n",
              "    }\n",
              "</style>\n",
              "<table border=\"1\" class=\"dataframe\">\n",
              "  <thead>\n",
              "    <tr style=\"text-align: right;\">\n",
              "      <th></th>\n",
              "      <th>VB01001</th>\n",
              "      <th>VB11007</th>\n",
              "      <th>IMC</th>\n",
              "    </tr>\n",
              "  </thead>\n",
              "  <tbody>\n",
              "    <tr>\n",
              "      <th>0</th>\n",
              "      <td>Masculino</td>\n",
              "      <td>Muito satisfeito(a)</td>\n",
              "      <td>19.85</td>\n",
              "    </tr>\n",
              "    <tr>\n",
              "      <th>1</th>\n",
              "      <td>Masculino</td>\n",
              "      <td>Satisfeito(a)</td>\n",
              "      <td>20.66</td>\n",
              "    </tr>\n",
              "    <tr>\n",
              "      <th>2</th>\n",
              "      <td>Masculino</td>\n",
              "      <td>Indiferente</td>\n",
              "      <td>21.94</td>\n",
              "    </tr>\n",
              "    <tr>\n",
              "      <th>3</th>\n",
              "      <td>Masculino</td>\n",
              "      <td>Insatisfeito(a)</td>\n",
              "      <td>23.03</td>\n",
              "    </tr>\n",
              "    <tr>\n",
              "      <th>4</th>\n",
              "      <td>Masculino</td>\n",
              "      <td>Muito insatisfeito(a)</td>\n",
              "      <td>22.48</td>\n",
              "    </tr>\n",
              "    <tr>\n",
              "      <th>5</th>\n",
              "      <td>Masculino</td>\n",
              "      <td>Não informado</td>\n",
              "      <td>20.49</td>\n",
              "    </tr>\n",
              "    <tr>\n",
              "      <th>6</th>\n",
              "      <td>Feminino</td>\n",
              "      <td>Muito satisfeito(a)</td>\n",
              "      <td>19.86</td>\n",
              "    </tr>\n",
              "    <tr>\n",
              "      <th>7</th>\n",
              "      <td>Feminino</td>\n",
              "      <td>Satisfeito(a)</td>\n",
              "      <td>20.55</td>\n",
              "    </tr>\n",
              "    <tr>\n",
              "      <th>8</th>\n",
              "      <td>Feminino</td>\n",
              "      <td>Indiferente</td>\n",
              "      <td>21.94</td>\n",
              "    </tr>\n",
              "    <tr>\n",
              "      <th>9</th>\n",
              "      <td>Feminino</td>\n",
              "      <td>Insatisfeito(a)</td>\n",
              "      <td>22.66</td>\n",
              "    </tr>\n",
              "    <tr>\n",
              "      <th>10</th>\n",
              "      <td>Feminino</td>\n",
              "      <td>Muito insatisfeito(a)</td>\n",
              "      <td>23.54</td>\n",
              "    </tr>\n",
              "    <tr>\n",
              "      <th>11</th>\n",
              "      <td>Feminino</td>\n",
              "      <td>Não informado</td>\n",
              "      <td>20.77</td>\n",
              "    </tr>\n",
              "  </tbody>\n",
              "</table>\n",
              "</div>"
            ],
            "text/plain": [
              "      VB01001                VB11007    IMC\n",
              "0   Masculino    Muito satisfeito(a)  19.85\n",
              "1   Masculino          Satisfeito(a)  20.66\n",
              "2   Masculino            Indiferente  21.94\n",
              "3   Masculino        Insatisfeito(a)  23.03\n",
              "4   Masculino  Muito insatisfeito(a)  22.48\n",
              "5   Masculino          Não informado  20.49\n",
              "6    Feminino    Muito satisfeito(a)  19.86\n",
              "7    Feminino          Satisfeito(a)  20.55\n",
              "8    Feminino            Indiferente  21.94\n",
              "9    Feminino        Insatisfeito(a)  22.66\n",
              "10   Feminino  Muito insatisfeito(a)  23.54\n",
              "11   Feminino          Não informado  20.77"
            ]
          },
          "metadata": {
            "tags": []
          },
          "execution_count": 61
        }
      ]
    },
    {
      "cell_type": "code",
      "metadata": {
        "colab": {
          "base_uri": "https://localhost:8080/",
          "height": 517
        },
        "id": "OA264DtIlTV0",
        "outputId": "22511967-20de-410d-8727-fa0e90b50011"
      },
      "source": [
        "fig = imc_by_satisfacao.plot(backend='plotly', kind='bar',\r\n",
        "         x='VB11007', y='IMC', color='VB01001', text='IMC',\r\n",
        "         barmode='group')\r\n",
        "\r\n",
        "fig.update_xaxes(dtick=1)\r\n",
        "fig.update_traces(textposition='outside')\r\n",
        "fig.update_layout(uniformtext_minsize=8, uniformtext_mode='hide')\r\n",
        "\r\n",
        "fig.update_layout(\r\n",
        "    title_text = 'PeNSE - Pesquisa Nacional de Saúde do Escolar<br /><b>Média de IMC por Sexo e Satisfação com o corpo</b>',\r\n",
        "    xaxis_title_text = 'Satisfação com o próprio corpo',\r\n",
        "    yaxis_title_text = 'Média de IMC',\r\n",
        "    legend_title_text = 'Sexo do escolar',\r\n",
        "    template = 'plotly_white',\r\n",
        "    autosize = False,\r\n",
        "    width = 1000,\r\n",
        "    height = 500\r\n",
        ")\r\n",
        "\r\n",
        "fig.show()"
      ],
      "execution_count": 62,
      "outputs": [
        {
          "output_type": "display_data",
          "data": {
            "text/html": [
              "<html>\n",
              "<head><meta charset=\"utf-8\" /></head>\n",
              "<body>\n",
              "    <div>            <script src=\"https://cdnjs.cloudflare.com/ajax/libs/mathjax/2.7.5/MathJax.js?config=TeX-AMS-MML_SVG\"></script><script type=\"text/javascript\">if (window.MathJax) {MathJax.Hub.Config({SVG: {font: \"STIX-Web\"}});}</script>                <script type=\"text/javascript\">window.PlotlyConfig = {MathJaxConfig: 'local'};</script>\n",
              "        <script src=\"https://cdn.plot.ly/plotly-latest.min.js\"></script>                <div id=\"8f611eeb-b55d-4323-a348-b3d3d09bdbe5\" class=\"plotly-graph-div\" style=\"height:500px; width:1000px;\"></div>            <script type=\"text/javascript\">                                    window.PLOTLYENV=window.PLOTLYENV || {};                                    if (document.getElementById(\"8f611eeb-b55d-4323-a348-b3d3d09bdbe5\")) {                    Plotly.newPlot(                        \"8f611eeb-b55d-4323-a348-b3d3d09bdbe5\",                        [{\"alignmentgroup\": \"True\", \"hovertemplate\": \"VB01001=Masculino<br>VB11007=%{x}<br>IMC=%{text}<extra></extra>\", \"legendgroup\": \"Masculino\", \"marker\": {\"color\": \"#636efa\"}, \"name\": \"Masculino\", \"offsetgroup\": \"Masculino\", \"orientation\": \"v\", \"showlegend\": true, \"text\": [19.85, 20.66, 21.94, 23.03, 22.48, 20.49], \"textposition\": \"outside\", \"type\": \"bar\", \"x\": [\"Muito satisfeito(a)\", \"Satisfeito(a)\", \"Indiferente\", \"Insatisfeito(a)\", \"Muito insatisfeito(a)\", \"N\\u00e3o informado\"], \"xaxis\": \"x\", \"y\": [19.85, 20.66, 21.94, 23.03, 22.48, 20.49], \"yaxis\": \"y\"}, {\"alignmentgroup\": \"True\", \"hovertemplate\": \"VB01001=Feminino<br>VB11007=%{x}<br>IMC=%{text}<extra></extra>\", \"legendgroup\": \"Feminino\", \"marker\": {\"color\": \"#EF553B\"}, \"name\": \"Feminino\", \"offsetgroup\": \"Feminino\", \"orientation\": \"v\", \"showlegend\": true, \"text\": [19.86, 20.55, 21.94, 22.66, 23.54, 20.77], \"textposition\": \"outside\", \"type\": \"bar\", \"x\": [\"Muito satisfeito(a)\", \"Satisfeito(a)\", \"Indiferente\", \"Insatisfeito(a)\", \"Muito insatisfeito(a)\", \"N\\u00e3o informado\"], \"xaxis\": \"x\", \"y\": [19.86, 20.55, 21.94, 22.66, 23.54, 20.77], \"yaxis\": \"y\"}],                        {\"autosize\": false, \"barmode\": \"group\", \"height\": 500, \"legend\": {\"title\": {\"text\": \"Sexo do escolar\"}, \"tracegroupgap\": 0}, \"margin\": {\"t\": 60}, \"template\": {\"data\": {\"bar\": [{\"error_x\": {\"color\": \"#2a3f5f\"}, \"error_y\": {\"color\": \"#2a3f5f\"}, \"marker\": {\"line\": {\"color\": \"white\", \"width\": 0.5}}, \"type\": \"bar\"}], \"barpolar\": [{\"marker\": {\"line\": {\"color\": \"white\", \"width\": 0.5}}, \"type\": \"barpolar\"}], \"carpet\": [{\"aaxis\": {\"endlinecolor\": \"#2a3f5f\", \"gridcolor\": \"#C8D4E3\", \"linecolor\": \"#C8D4E3\", \"minorgridcolor\": \"#C8D4E3\", \"startlinecolor\": \"#2a3f5f\"}, \"baxis\": {\"endlinecolor\": \"#2a3f5f\", \"gridcolor\": \"#C8D4E3\", \"linecolor\": \"#C8D4E3\", \"minorgridcolor\": \"#C8D4E3\", \"startlinecolor\": \"#2a3f5f\"}, \"type\": \"carpet\"}], \"choropleth\": [{\"colorbar\": {\"outlinewidth\": 0, \"ticks\": \"\"}, \"type\": \"choropleth\"}], \"contour\": [{\"colorbar\": {\"outlinewidth\": 0, \"ticks\": \"\"}, \"colorscale\": [[0.0, \"#0d0887\"], [0.1111111111111111, \"#46039f\"], [0.2222222222222222, \"#7201a8\"], [0.3333333333333333, \"#9c179e\"], [0.4444444444444444, \"#bd3786\"], [0.5555555555555556, \"#d8576b\"], [0.6666666666666666, \"#ed7953\"], [0.7777777777777778, \"#fb9f3a\"], [0.8888888888888888, \"#fdca26\"], [1.0, \"#f0f921\"]], \"type\": \"contour\"}], \"contourcarpet\": [{\"colorbar\": {\"outlinewidth\": 0, \"ticks\": \"\"}, \"type\": \"contourcarpet\"}], \"heatmap\": [{\"colorbar\": {\"outlinewidth\": 0, \"ticks\": \"\"}, \"colorscale\": [[0.0, \"#0d0887\"], [0.1111111111111111, \"#46039f\"], [0.2222222222222222, \"#7201a8\"], [0.3333333333333333, \"#9c179e\"], [0.4444444444444444, \"#bd3786\"], [0.5555555555555556, \"#d8576b\"], [0.6666666666666666, \"#ed7953\"], [0.7777777777777778, \"#fb9f3a\"], [0.8888888888888888, \"#fdca26\"], [1.0, \"#f0f921\"]], \"type\": \"heatmap\"}], \"heatmapgl\": [{\"colorbar\": {\"outlinewidth\": 0, \"ticks\": \"\"}, \"colorscale\": [[0.0, \"#0d0887\"], [0.1111111111111111, \"#46039f\"], [0.2222222222222222, \"#7201a8\"], [0.3333333333333333, \"#9c179e\"], [0.4444444444444444, \"#bd3786\"], [0.5555555555555556, \"#d8576b\"], [0.6666666666666666, \"#ed7953\"], [0.7777777777777778, \"#fb9f3a\"], [0.8888888888888888, \"#fdca26\"], [1.0, \"#f0f921\"]], \"type\": \"heatmapgl\"}], \"histogram\": [{\"marker\": {\"colorbar\": {\"outlinewidth\": 0, \"ticks\": \"\"}}, \"type\": \"histogram\"}], \"histogram2d\": [{\"colorbar\": {\"outlinewidth\": 0, \"ticks\": \"\"}, \"colorscale\": [[0.0, \"#0d0887\"], [0.1111111111111111, \"#46039f\"], [0.2222222222222222, \"#7201a8\"], [0.3333333333333333, \"#9c179e\"], [0.4444444444444444, \"#bd3786\"], [0.5555555555555556, \"#d8576b\"], [0.6666666666666666, \"#ed7953\"], [0.7777777777777778, \"#fb9f3a\"], [0.8888888888888888, \"#fdca26\"], [1.0, \"#f0f921\"]], \"type\": \"histogram2d\"}], \"histogram2dcontour\": [{\"colorbar\": {\"outlinewidth\": 0, \"ticks\": \"\"}, \"colorscale\": [[0.0, \"#0d0887\"], [0.1111111111111111, \"#46039f\"], [0.2222222222222222, \"#7201a8\"], [0.3333333333333333, \"#9c179e\"], [0.4444444444444444, \"#bd3786\"], [0.5555555555555556, \"#d8576b\"], [0.6666666666666666, \"#ed7953\"], [0.7777777777777778, \"#fb9f3a\"], [0.8888888888888888, \"#fdca26\"], [1.0, \"#f0f921\"]], \"type\": \"histogram2dcontour\"}], \"mesh3d\": [{\"colorbar\": {\"outlinewidth\": 0, \"ticks\": \"\"}, \"type\": \"mesh3d\"}], \"parcoords\": [{\"line\": {\"colorbar\": {\"outlinewidth\": 0, \"ticks\": \"\"}}, \"type\": \"parcoords\"}], \"pie\": [{\"automargin\": true, \"type\": \"pie\"}], \"scatter\": [{\"marker\": {\"colorbar\": {\"outlinewidth\": 0, \"ticks\": \"\"}}, \"type\": \"scatter\"}], \"scatter3d\": [{\"line\": {\"colorbar\": {\"outlinewidth\": 0, \"ticks\": \"\"}}, \"marker\": {\"colorbar\": {\"outlinewidth\": 0, \"ticks\": \"\"}}, \"type\": \"scatter3d\"}], \"scattercarpet\": [{\"marker\": {\"colorbar\": {\"outlinewidth\": 0, \"ticks\": \"\"}}, \"type\": \"scattercarpet\"}], \"scattergeo\": [{\"marker\": {\"colorbar\": {\"outlinewidth\": 0, \"ticks\": \"\"}}, \"type\": \"scattergeo\"}], \"scattergl\": [{\"marker\": {\"colorbar\": {\"outlinewidth\": 0, \"ticks\": \"\"}}, \"type\": \"scattergl\"}], \"scattermapbox\": [{\"marker\": {\"colorbar\": {\"outlinewidth\": 0, \"ticks\": \"\"}}, \"type\": \"scattermapbox\"}], \"scatterpolar\": [{\"marker\": {\"colorbar\": {\"outlinewidth\": 0, \"ticks\": \"\"}}, \"type\": \"scatterpolar\"}], \"scatterpolargl\": [{\"marker\": {\"colorbar\": {\"outlinewidth\": 0, \"ticks\": \"\"}}, \"type\": \"scatterpolargl\"}], \"scatterternary\": [{\"marker\": {\"colorbar\": {\"outlinewidth\": 0, \"ticks\": \"\"}}, \"type\": \"scatterternary\"}], \"surface\": [{\"colorbar\": {\"outlinewidth\": 0, \"ticks\": \"\"}, \"colorscale\": [[0.0, \"#0d0887\"], [0.1111111111111111, \"#46039f\"], [0.2222222222222222, \"#7201a8\"], [0.3333333333333333, \"#9c179e\"], [0.4444444444444444, \"#bd3786\"], [0.5555555555555556, \"#d8576b\"], [0.6666666666666666, \"#ed7953\"], [0.7777777777777778, \"#fb9f3a\"], [0.8888888888888888, \"#fdca26\"], [1.0, \"#f0f921\"]], \"type\": \"surface\"}], \"table\": [{\"cells\": {\"fill\": {\"color\": \"#EBF0F8\"}, \"line\": {\"color\": \"white\"}}, \"header\": {\"fill\": {\"color\": \"#C8D4E3\"}, \"line\": {\"color\": \"white\"}}, \"type\": \"table\"}]}, \"layout\": {\"annotationdefaults\": {\"arrowcolor\": \"#2a3f5f\", \"arrowhead\": 0, \"arrowwidth\": 1}, \"coloraxis\": {\"colorbar\": {\"outlinewidth\": 0, \"ticks\": \"\"}}, \"colorscale\": {\"diverging\": [[0, \"#8e0152\"], [0.1, \"#c51b7d\"], [0.2, \"#de77ae\"], [0.3, \"#f1b6da\"], [0.4, \"#fde0ef\"], [0.5, \"#f7f7f7\"], [0.6, \"#e6f5d0\"], [0.7, \"#b8e186\"], [0.8, \"#7fbc41\"], [0.9, \"#4d9221\"], [1, \"#276419\"]], \"sequential\": [[0.0, \"#0d0887\"], [0.1111111111111111, \"#46039f\"], [0.2222222222222222, \"#7201a8\"], [0.3333333333333333, \"#9c179e\"], [0.4444444444444444, \"#bd3786\"], [0.5555555555555556, \"#d8576b\"], [0.6666666666666666, \"#ed7953\"], [0.7777777777777778, \"#fb9f3a\"], [0.8888888888888888, \"#fdca26\"], [1.0, \"#f0f921\"]], \"sequentialminus\": [[0.0, \"#0d0887\"], [0.1111111111111111, \"#46039f\"], [0.2222222222222222, \"#7201a8\"], [0.3333333333333333, \"#9c179e\"], [0.4444444444444444, \"#bd3786\"], [0.5555555555555556, \"#d8576b\"], [0.6666666666666666, \"#ed7953\"], [0.7777777777777778, \"#fb9f3a\"], [0.8888888888888888, \"#fdca26\"], [1.0, \"#f0f921\"]]}, \"colorway\": [\"#636efa\", \"#EF553B\", \"#00cc96\", \"#ab63fa\", \"#FFA15A\", \"#19d3f3\", \"#FF6692\", \"#B6E880\", \"#FF97FF\", \"#FECB52\"], \"font\": {\"color\": \"#2a3f5f\"}, \"geo\": {\"bgcolor\": \"white\", \"lakecolor\": \"white\", \"landcolor\": \"white\", \"showlakes\": true, \"showland\": true, \"subunitcolor\": \"#C8D4E3\"}, \"hoverlabel\": {\"align\": \"left\"}, \"hovermode\": \"closest\", \"mapbox\": {\"style\": \"light\"}, \"paper_bgcolor\": \"white\", \"plot_bgcolor\": \"white\", \"polar\": {\"angularaxis\": {\"gridcolor\": \"#EBF0F8\", \"linecolor\": \"#EBF0F8\", \"ticks\": \"\"}, \"bgcolor\": \"white\", \"radialaxis\": {\"gridcolor\": \"#EBF0F8\", \"linecolor\": \"#EBF0F8\", \"ticks\": \"\"}}, \"scene\": {\"xaxis\": {\"backgroundcolor\": \"white\", \"gridcolor\": \"#DFE8F3\", \"gridwidth\": 2, \"linecolor\": \"#EBF0F8\", \"showbackground\": true, \"ticks\": \"\", \"zerolinecolor\": \"#EBF0F8\"}, \"yaxis\": {\"backgroundcolor\": \"white\", \"gridcolor\": \"#DFE8F3\", \"gridwidth\": 2, \"linecolor\": \"#EBF0F8\", \"showbackground\": true, \"ticks\": \"\", \"zerolinecolor\": \"#EBF0F8\"}, \"zaxis\": {\"backgroundcolor\": \"white\", \"gridcolor\": \"#DFE8F3\", \"gridwidth\": 2, \"linecolor\": \"#EBF0F8\", \"showbackground\": true, \"ticks\": \"\", \"zerolinecolor\": \"#EBF0F8\"}}, \"shapedefaults\": {\"line\": {\"color\": \"#2a3f5f\"}}, \"ternary\": {\"aaxis\": {\"gridcolor\": \"#DFE8F3\", \"linecolor\": \"#A2B1C6\", \"ticks\": \"\"}, \"baxis\": {\"gridcolor\": \"#DFE8F3\", \"linecolor\": \"#A2B1C6\", \"ticks\": \"\"}, \"bgcolor\": \"white\", \"caxis\": {\"gridcolor\": \"#DFE8F3\", \"linecolor\": \"#A2B1C6\", \"ticks\": \"\"}}, \"title\": {\"x\": 0.05}, \"xaxis\": {\"automargin\": true, \"gridcolor\": \"#EBF0F8\", \"linecolor\": \"#EBF0F8\", \"ticks\": \"\", \"title\": {\"standoff\": 15}, \"zerolinecolor\": \"#EBF0F8\", \"zerolinewidth\": 2}, \"yaxis\": {\"automargin\": true, \"gridcolor\": \"#EBF0F8\", \"linecolor\": \"#EBF0F8\", \"ticks\": \"\", \"title\": {\"standoff\": 15}, \"zerolinecolor\": \"#EBF0F8\", \"zerolinewidth\": 2}}}, \"title\": {\"text\": \"PeNSE - Pesquisa Nacional de Sa\\u00fade do Escolar<br /><b>M\\u00e9dia de IMC por Sexo e Satisfa\\u00e7\\u00e3o com o corpo</b>\"}, \"uniformtext\": {\"minsize\": 8, \"mode\": \"hide\"}, \"width\": 1000, \"xaxis\": {\"anchor\": \"y\", \"domain\": [0.0, 1.0], \"dtick\": 1, \"title\": {\"text\": \"Satisfa\\u00e7\\u00e3o com o pr\\u00f3prio corpo\"}}, \"yaxis\": {\"anchor\": \"x\", \"domain\": [0.0, 1.0], \"title\": {\"text\": \"M\\u00e9dia de IMC\"}}},                        {\"responsive\": true}                    ).then(function(){\n",
              "                            \n",
              "var gd = document.getElementById('8f611eeb-b55d-4323-a348-b3d3d09bdbe5');\n",
              "var x = new MutationObserver(function (mutations, observer) {{\n",
              "        var display = window.getComputedStyle(gd).display;\n",
              "        if (!display || display === 'none') {{\n",
              "            console.log([gd, 'removed!']);\n",
              "            Plotly.purge(gd);\n",
              "            observer.disconnect();\n",
              "        }}\n",
              "}});\n",
              "\n",
              "// Listen for the removal of the full notebook cells\n",
              "var notebookContainer = gd.closest('#notebook-container');\n",
              "if (notebookContainer) {{\n",
              "    x.observe(notebookContainer, {childList: true});\n",
              "}}\n",
              "\n",
              "// Listen for the clearing of the current output cell\n",
              "var outputEl = gd.closest('.output');\n",
              "if (outputEl) {{\n",
              "    x.observe(outputEl, {childList: true});\n",
              "}}\n",
              "\n",
              "                        })                };                            </script>        </div>\n",
              "</body>\n",
              "</html>"
            ]
          },
          "metadata": {
            "tags": []
          }
        }
      ]
    },
    {
      "cell_type": "markdown",
      "metadata": {
        "id": "e2ckYXNbtqix"
      },
      "source": [
        "Conseguimos ver acima que quanto mais insatisfeito com o próprio corpo, maior é a média de IMC. Além disso, exceto para os graus de insatisfeito e muito insatisfeito, a média de IMC é praticamente a mesma para ambos os sexos."
      ]
    },
    {
      "cell_type": "markdown",
      "metadata": {
        "id": "hQsxfxhETHiY"
      },
      "source": [
        "#### Desafio 11 - Média da altura usando o Crosstab"
      ]
    },
    {
      "cell_type": "code",
      "metadata": {
        "colab": {
          "base_uri": "https://localhost:8080/"
        },
        "id": "M1pt_PT8V7Yy",
        "outputId": "8f99fafc-98c8-446f-9751-1544754bb8af"
      },
      "source": [
        "freq_cruzada.index"
      ],
      "execution_count": 63,
      "outputs": [
        {
          "output_type": "execute_result",
          "data": {
            "text/plain": [
              "Index(['Branca', 'Preta', 'Amarela', 'Parda', 'Indígena', 'Não informado'], dtype='object', name='Cor/Raça')"
            ]
          },
          "metadata": {
            "tags": []
          },
          "execution_count": 63
        }
      ]
    },
    {
      "cell_type": "code",
      "metadata": {
        "colab": {
          "base_uri": "https://localhost:8080/",
          "height": 340
        },
        "id": "yBInp1E_TOA4",
        "outputId": "2cc117b7-2f33-4df8-addb-589adb659902"
      },
      "source": [
        "freq_cruzada = pd.crosstab(dados['VB01003'], dados['VB01001'],\r\n",
        "                           values=dados['VB17004'], aggfunc = 'mean',\r\n",
        "                           rownames=['Idade'],\r\n",
        "                           colnames=['Sexo']).round(2)\r\n",
        "\r\n",
        "freq_cruzada.rename(columns = {1: 'Masculino', 2: 'Feminino'}, inplace = True)\r\n",
        "\r\n",
        "freq_cruzada"
      ],
      "execution_count": 64,
      "outputs": [
        {
          "output_type": "execute_result",
          "data": {
            "text/html": [
              "<div>\n",
              "<style scoped>\n",
              "    .dataframe tbody tr th:only-of-type {\n",
              "        vertical-align: middle;\n",
              "    }\n",
              "\n",
              "    .dataframe tbody tr th {\n",
              "        vertical-align: top;\n",
              "    }\n",
              "\n",
              "    .dataframe thead th {\n",
              "        text-align: right;\n",
              "    }\n",
              "</style>\n",
              "<table border=\"1\" class=\"dataframe\">\n",
              "  <thead>\n",
              "    <tr style=\"text-align: right;\">\n",
              "      <th>Sexo</th>\n",
              "      <th>Masculino</th>\n",
              "      <th>Feminino</th>\n",
              "    </tr>\n",
              "    <tr>\n",
              "      <th>Idade</th>\n",
              "      <th></th>\n",
              "      <th></th>\n",
              "    </tr>\n",
              "  </thead>\n",
              "  <tbody>\n",
              "    <tr>\n",
              "      <th>11</th>\n",
              "      <td>147.62</td>\n",
              "      <td>149.52</td>\n",
              "    </tr>\n",
              "    <tr>\n",
              "      <th>12</th>\n",
              "      <td>153.70</td>\n",
              "      <td>154.97</td>\n",
              "    </tr>\n",
              "    <tr>\n",
              "      <th>13</th>\n",
              "      <td>160.72</td>\n",
              "      <td>157.67</td>\n",
              "    </tr>\n",
              "    <tr>\n",
              "      <th>14</th>\n",
              "      <td>166.41</td>\n",
              "      <td>159.34</td>\n",
              "    </tr>\n",
              "    <tr>\n",
              "      <th>15</th>\n",
              "      <td>170.34</td>\n",
              "      <td>160.76</td>\n",
              "    </tr>\n",
              "    <tr>\n",
              "      <th>16</th>\n",
              "      <td>172.42</td>\n",
              "      <td>160.39</td>\n",
              "    </tr>\n",
              "    <tr>\n",
              "      <th>17</th>\n",
              "      <td>173.81</td>\n",
              "      <td>160.91</td>\n",
              "    </tr>\n",
              "    <tr>\n",
              "      <th>18</th>\n",
              "      <td>173.02</td>\n",
              "      <td>159.44</td>\n",
              "    </tr>\n",
              "    <tr>\n",
              "      <th>19</th>\n",
              "      <td>172.14</td>\n",
              "      <td>158.98</td>\n",
              "    </tr>\n",
              "  </tbody>\n",
              "</table>\n",
              "</div>"
            ],
            "text/plain": [
              "Sexo   Masculino  Feminino\n",
              "Idade                     \n",
              "11        147.62    149.52\n",
              "12        153.70    154.97\n",
              "13        160.72    157.67\n",
              "14        166.41    159.34\n",
              "15        170.34    160.76\n",
              "16        172.42    160.39\n",
              "17        173.81    160.91\n",
              "18        173.02    159.44\n",
              "19        172.14    158.98"
            ]
          },
          "metadata": {
            "tags": []
          },
          "execution_count": 64
        }
      ]
    },
    {
      "cell_type": "markdown",
      "metadata": {
        "id": "N27Gx_ZTyjUt"
      },
      "source": [
        "#### Desafio 12 - Medidas de Dispersão"
      ]
    },
    {
      "cell_type": "markdown",
      "metadata": {
        "id": "Fq7f17Njy_Pm"
      },
      "source": [
        "\r\n",
        "\r\n",
        "---\r\n",
        "\r\n",
        "\r\n",
        "**Amplitude**\r\n",
        "\r\n",
        "Diferença entre a maior e a menor observação de um conjunto de dados.\r\n",
        "\r\n",
        "```\r\n",
        "A = max() - min()\r\n",
        "```\r\n",
        "\r\n",
        "---\r\n",
        "**Variância**\r\n",
        "\r\n",
        "Média dos quadrados das diferenças entre cada uma das observações e a média aritmética da amostra.\r\n",
        "\r\n",
        "O cálculo é feito com base na seguinte fórmula:\r\n",
        "\r\n",
        "![variancia.png](data:image/png;base64,iVBORw0KGgoAAAANSUhEUgAAAIoAAABBCAYAAAAOqDwTAAAAAXNSR0IArs4c6QAAAARnQU1BAACxjwv8YQUAAAAJcEhZcwAAEnQAABJ0Ad5mH3gAAAAEYmFTRQAAADWWl1a9AAABZ3RFWHRNYXRoTUwAPG1hdGggeG1sbnM9Imh0dHA6Ly93d3cudzMub3JnLzE5OTgvTWF0aC9NYXRoTUwiPjxtaT5WPC9taT48bW8+PTwvbW8+PG1mcmFjPjxtcm93Pjxtc3R5bGUgZGlzcGxheXN0eWxlPSJ0cnVlIj48bXVuZGVyb3Zlcj48bW8+JiN4MjIxMTs8L21vPjxtcm93PjxtaT5pPC9taT48bW8+PTwvbW8+PG1uPjE8L21uPjwvbXJvdz48bWk+bjwvbWk+PC9tdW5kZXJvdmVyPjwvbXN0eWxlPjxtbz4oPC9tbz48bXN1Yj48bWk+eDwvbWk+PG1pPmk8L21pPjwvbXN1Yj48bW8+LTwvbW8+PG1pPk08L21pPjxtaT5BPC9taT48bXN1cD48bW8+KTwvbW8+PG1uPjI8L21uPjwvbXN1cD48L21yb3c+PG1pPm48L21pPjwvbWZyYWM+PC9tYXRoPpyaY0EAAAgySURBVHhe7Z15iE1vGMefGVmzhJJlDA1CY5uQbSxNk7LnDyJkKUuN9Q9rKfIPURoiapAIJYSsg6bsIUtpGluaprFPiTFkOb/zfe9z7u+s9557z72cc+/7qZfzvOd13fOe73ne533P+76XlADRvXt35ezZs0r//v2V+vXrK5s3b+YzkmSTgT8oAPz584caNGhA06dPJ1Ug9OHDByooKKCamhouIUkmmfy377l37x7169ePDh06RB06dKDa2lrKy8vjs5JkExihvHr1inJzc9kiqqyspOzsbLYkySYwQrl9+zYNGTKErZCdn5/PliTZBEYoVVVVBg8Cj9KuXTu2JMkmMMFsq1atqLq6mho1amRrS5JLYIQi+bcEpumR/FukUCSukEKRuEIKReIKXwazGRkZfBQfMj5PPNKjpDF4IJHwDm3YsGH04sULPmPFl0IpKSnhI6IVK1YID+E2uWH37t20Zs0atlIfXCuu2YxWZ9+/f6cZM2bQ1KlT+YwNakFfcunSJaVZs2a488qECROUuro6PhOZaJf0+PFjZfDgwWylD0OHDhXXHomGDRvykRXfCgU8ffpUad++vbj5mIPy/v17PhM/qLCHDx+y5R9wk0pLS9myB+fr1aun/P79m3OsbN++nY+M3L9/X8nPz2fLSllZmTJixAi2rPhaKODt27dCJBBLVlaWEE+8QCAQit94/vy5uL6ioiLOsfLlyxclOztb6d27N+dYOXbsmJjQ9fPnT84xAqFAMGaqq6tFvbx8+ZJzrPheKKC2tlY0P6jMFi1aiGYpHlauXKns3LmTLf9w6tQppW/fvkrbtm05x8qCBQtEmWnTpnGOkZqaGiGiwsJC8Xl2FBcXK6tXr2YrREVFhTJu3DghlkgEotfTpEkTOnPmjAhsP3/+TGPHjqV9+/bxWfc8efKE1Mpm63/wWXbB7fr16+P6f2JFjR3EzD31IaC7d+9y7v9cuXJFTKuYNGmSmLxlB77/2rVraebMmaK8HQMHDhQTwDTevHlDy5cvpyNHjkR/E8+CCQTqBQmvgjRv3jzOdQ+C4x8/frBlJC8vTzRzGvv374/YFCSSKVOmCC+wbt06kfTAm3br1k00m1o5M7du3RJeAeAacnJyxLEZXDvqQGPMmDFKeXk5W5EJjFAQm2i9IMQsbntBehAIOnHhwgVF9VjiGEFjQUGBOP4bQAhVVVXKnTt3xARyPUuWLAmLB+dQTg/iEdRHZWUl54RE7yQAxDAa2kOnT04EQigI5FCZuJCWLVsaKiUWIgkFoH1H9I9Y4OPHj5zrDnOF2yU70INp3LgxW4qIU7SbfOPGDSU3N1eIwVxOY8OGDcrWrVvZCgFh7dq1iy0jeqHEQiCEorbN4cqON5AFkZoegK4lKjLaeEMigRcZNWoUW6GgFctQtCZH66WYywEICt7DDMSO4N+MuemJBd8Hs1u2bKHTp0+LY/XpodGjR4vjeBg0aJAhmNNz8+ZNUp9gWrx4ManNHOda2bhxo/hOiQKTxjt37swWkRqH0MmTJ0n1CuJYbVZEvrkcmD9/PqmxS3goXkuqoOjixYv069cvLhniwYMHIqCNCxaML8GTga+IpAVrXnDqHmP8AE8gnmI0c2jzY2164gUxyN69e9kKNUV46nv27GkYDzGXw/GyZcvYsoJu9Llz59gKgWtHHcSDb4WCoK1NmzZCJIjiMU7gFbsBN4z2IvrXCwOrEdVuJltGEFDGGyPZMXnyZMsNxf9tHhjTl8OYB8ZMIGonSkpKLEJyGnBzgy+FgicJ72MgEgRwscQM0ZwkPlf7PLTZuAHmngTAE4mekB6ngNILCM7d9OD05dBNhpgjgWtCjKMRbQg/Gr4UCgI6rck5fPgw57ojmlAgknhfCtoFlEEBntRLkJ6WE5f27NlDr1+/FmuYY+Ho0aN0+fJlOnDgAOcEg1WrVlHXrl1JfQA5J3bkDLcYWLp0KfXq1ctThQcVX3aPcaO9pGShtvuUlZXFVnohF4DFQDqvTpRCkbjCN01PokY8nz17Rps2bXJ8HS+Jj5TzKLNmzaLhw4fTwoULkxqvpBu+EUqPHj2otLSUOnbsyDkhIvWAIn11/DsplMThC6Fgf7amTZvSt2/fOMc7UiiJxRcxCt7o4s2uxL/4Qih2r9A14BmckuTv4QuhmPdn04PmwylJ/h5hoaCn8OjRI7aMaFt3Jot0HvEMCmGh4KVRRUUFW0awFGDbtm1sJZ6ysjKxuXAi0DdLsolKHGGhYPqc3ZqS69evi15JYWEh5yQe7D6dqGFx2UQlh7BQcnJyxKt3M3hFXVxczJYkXQkLBcEkmgA9mKALAfXp04dzjGiuPVKSpAaGATeMjiKg1ZqBAQMG0IkTJ6hTp07ClqQvYY8C8CME165dE8fHjx8XcUuyRGLnfWTyX9IweBT0bDCUvmjRIjFSev78eWrdujWftaL/ICdkMJkaGDwKmh4Mfh08eJAmTpwYUSQAIoiWJKmBwaN8+vSJxo8fT5mZmXT16lW5z7wkjMGjwIOUl5fT7NmzpUgkBgxCAUVFRWk5y1wSGd9MXJL4G4tHkUjskEKRuEIKxSNYPYDxp3fv3tHcuXPFxoRY/7Njxw4ukRrIGMUj2BYcP4KJDW3mzJkj5vVgt8UuXbqIt+IQTiogPYpHtHdjWLg+cuRIMQaF32WGQOrq6rhU8JEexQOYp9O8eXP6+vUr54TAlljIT+Sqgn+N9CgewBRRuz3RUnFVgRSKB5xWD2ACmNOqgqAiheIBp19zT8VfeZdC8QBWD9jtIe+UH2RkMOsBp/1SUm8fFaL/AFy5hR8BEd0PAAAAAElFTkSuQmCC)\r\n",
        "\r\n",
        "```\r\n",
        "V: variância\r\n",
        "Xi: valor observado\r\n",
        "MA: média aritmética da amostra\r\n",
        "n: número de dados observados\r\n",
        "```\r\n",
        "\r\n",
        "---\r\n",
        "\r\n",
        "**Coeficiente de Variação**\r\n",
        "\r\n",
        "Multiplicação do desvio padrão por 100, dividido pela média. Essa medida é expressa em porcentagem.\r\n",
        "\r\n",
        "\r\n",
        "![coef_variacao.png](data:image/png;base64,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)\r\n",
        "\r\n",
        "```\r\n",
        "DP: desvio padrão\r\n",
        "MA: média\r\n",
        "```\r\n"
      ]
    },
    {
      "cell_type": "markdown",
      "metadata": {
        "id": "UrxNinmo1sWT"
      },
      "source": [
        "Vamos agora calcular essas medidas para algumas informações numéricas como altura, peso, idade e IMC."
      ]
    },
    {
      "cell_type": "code",
      "metadata": {
        "colab": {
          "base_uri": "https://localhost:8080/"
        },
        "id": "nSU9prTJyoXz",
        "outputId": "1960b9d7-064d-4e9d-f94f-102bf33b9169"
      },
      "source": [
        "# Altura VB17004\r\n",
        "amp = dados[\"VB17004\"].max() - dados[\"VB17004\"].min()\r\n",
        "var = dados[\"VB17004\"].var()\r\n",
        "cofvar = (100*dados[\"VB17004\"].std())/dados[\"VB17004\"].mean()\r\n",
        "print(f'Para a Altura:\\n   + amplitude: {amp:.2f}\\n   + variância: {var:.2f}\\n'\\\r\n",
        "      f'   + coeficiente de variação: {cofvar:.2f}\\n\\n')\r\n",
        "\r\n",
        "\r\n",
        "# Peso VB17003\r\n",
        "amp = dados[\"VB17003\"].max() - dados[\"VB17003\"].min()\r\n",
        "var = dados[\"VB17003\"].var()\r\n",
        "cofvar = (100*dados[\"VB17003\"].std())/dados[\"VB17003\"].mean()\r\n",
        "print(f'Para o Peso:\\n   + amplitude: {amp:.2f}\\n   + variância: {var:.2f}\\n'\\\r\n",
        "      f'   + coeficiente de variação: {cofvar:.2f}\\n\\n')\r\n",
        "\r\n",
        "\r\n",
        "# Idade VB01001\r\n",
        "amp = dados[\"VB01001\"].max() - dados[\"VB01001\"].min()\r\n",
        "var = dados[\"VB01001\"].var()\r\n",
        "cofvar = (100*dados[\"VB01001\"].std())/dados[\"VB01001\"].mean()\r\n",
        "print(f'Para a Idade:\\n   + amplitude: {amp:.2f}\\n   + variância: {var:.2f}\\n'\\\r\n",
        "      f'   + coeficiente de variação: {cofvar:.2f}\\n\\n')\r\n",
        "\r\n",
        "# IMC\r\n",
        "amp = dados[\"IMC\"].max() - dados[\"IMC\"].min()\r\n",
        "var = dados[\"IMC\"].var()\r\n",
        "cofvar = (100*dados[\"IMC\"].std())/dados[\"IMC\"].mean()\r\n",
        "print(f'Para o IMC:\\n   + amplitude: {amp:.2f}\\n   + variância: {var:.2f}\\n'\\\r\n",
        "      f'   + coeficiente de variação: {cofvar:.2f}')"
      ],
      "execution_count": 65,
      "outputs": [
        {
          "output_type": "stream",
          "text": [
            "Para a Altura:\n",
            "   + amplitude: 71.20\n",
            "   + variância: 106.92\n",
            "   + coeficiente de variação: 6.43\n",
            "\n",
            "\n",
            "Para o Peso:\n",
            "   + amplitude: 170.70\n",
            "   + variância: 211.64\n",
            "   + coeficiente de variação: 26.59\n",
            "\n",
            "\n",
            "Para a Idade:\n",
            "   + amplitude: 1.00\n",
            "   + variância: 0.25\n",
            "   + coeficiente de variação: 33.35\n",
            "\n",
            "\n",
            "Para o IMC:\n",
            "   + amplitude: 57.08\n",
            "   + variância: 18.02\n",
            "   + coeficiente de variação: 20.25\n"
          ],
          "name": "stdout"
        }
      ]
    },
    {
      "cell_type": "markdown",
      "metadata": {
        "id": "GJ0FuZivdrPZ"
      },
      "source": [
        "#### Super desafio 1 - Dicionário das perguntas"
      ]
    },
    {
      "cell_type": "code",
      "metadata": {
        "id": "kIG1KQoGCMRh"
      },
      "source": [
        "import csv\n",
        "import requests"
      ],
      "execution_count": 66,
      "outputs": []
    },
    {
      "cell_type": "code",
      "metadata": {
        "id": "JTWXLIcM2Vam"
      },
      "source": [
        "def isInt(s):\n",
        "    try: \n",
        "        int(s)\n",
        "        return True\n",
        "    except ValueError:\n",
        "        return False"
      ],
      "execution_count": 67,
      "outputs": []
    },
    {
      "cell_type": "code",
      "metadata": {
        "id": "4nczi4lDduLy"
      },
      "source": [
        "# inicializando variáveis\n",
        "dicio_pense = {}\n",
        "codigo = ''\n",
        "pergunta = ''\n",
        "chave = ''                \n",
        "respostas = {}\n",
        "\n",
        "url = 'https://raw.githubusercontent.com/marcelagomescorrea/bootcamp_alura/main/Modulo_03/Dicionario_PENSE_Microdados_AMOSTRA2_filtrado.csv?raw=true'\n",
        "\n",
        "with requests.Session() as s:\n",
        "    download = s.get(url)\n",
        "    decoded_content = download.content.decode('utf-8')\n",
        "    cr = csv.reader(decoded_content.splitlines(), delimiter=';', )\n",
        "    \n",
        "    for row in cr:\n",
        "        if not isInt(row[0]): # checando se é um nome de coluna            \n",
        "            dicio_pense[chave\n",
        "                        ] = {\n",
        "                'codigo': codigo,\n",
        "                'pergunta': pergunta,\n",
        "                'respostas': respostas\n",
        "            }\n",
        "\n",
        "            # adicionou as infos da coluna ao dicionário,\n",
        "            # reinicializa as variáveis            \n",
        "            codigo = row[0].strip()\n",
        "            pergunta = row[1].strip()\n",
        "            chave = row[2].strip()\n",
        "            respostas = {}\n",
        "\n",
        "        else:\n",
        "            respostas[int(row[0].strip())] = row[1].strip()"
      ],
      "execution_count": 70,
      "outputs": []
    },
    {
      "cell_type": "code",
      "metadata": {
        "colab": {
          "base_uri": "https://localhost:8080/"
        },
        "id": "GMPGQ7DnLKo_",
        "outputId": "64777406-27c6-4dfc-cf77-85815a0970c0"
      },
      "source": [
        "dicio_pense['cor_raca']"
      ],
      "execution_count": 72,
      "outputs": [
        {
          "output_type": "execute_result",
          "data": {
            "text/plain": [
              "{'codigo': 'VB01002',\n",
              " 'pergunta': 'Qual é a sua cor ou raça?',\n",
              " 'respostas': {1: 'Branca',\n",
              "  2: 'Preta',\n",
              "  3: 'Amarela',\n",
              "  4: 'Parda',\n",
              "  5: 'Indígena',\n",
              "  99: 'Não informado'}}"
            ]
          },
          "metadata": {
            "tags": []
          },
          "execution_count": 72
        }
      ]
    },
    {
      "cell_type": "code",
      "metadata": {
        "colab": {
          "base_uri": "https://localhost:8080/"
        },
        "id": "ofV7WIcZJnGS",
        "outputId": "d9d6ecfe-cada-45ca-f009-a1685f02f735"
      },
      "source": [
        "dicio_pense['regiao']"
      ],
      "execution_count": 73,
      "outputs": [
        {
          "output_type": "execute_result",
          "data": {
            "text/plain": [
              "{'codigo': 'REGEOGR',\n",
              " 'pergunta': 'Região geográfica',\n",
              " 'respostas': {1: 'Norte',\n",
              "  2: 'Nordeste',\n",
              "  3: 'Sudeste',\n",
              "  4: 'Sul',\n",
              "  5: 'Centro-Oeste'}}"
            ]
          },
          "metadata": {
            "tags": []
          },
          "execution_count": 73
        }
      ]
    },
    {
      "cell_type": "code",
      "metadata": {
        "colab": {
          "base_uri": "https://localhost:8080/"
        },
        "id": "JsX_mHInBPD1",
        "outputId": "d31946c7-d0de-4d88-eff0-78fc059029b2"
      },
      "source": [
        "dicio_pense['idade_bebeu_primeira_vez']"
      ],
      "execution_count": 104,
      "outputs": [
        {
          "output_type": "execute_result",
          "data": {
            "text/plain": [
              "{'codigo': 'VB05003',\n",
              " 'pergunta': 'Que idade você tinha quando tomou a primeira dose de bebida alcoólica? (Uma dose equivale a uma lata de cerveja ou uma taça de vinho ou uma dose de cachaça ou uísque etc)',\n",
              " 'respostas': {-1: 'Pulo no questionário',\n",
              "  1: 'Nunca tomei bebida alcoólica',\n",
              "  7: '7 anos ou menos',\n",
              "  8: '8 anos',\n",
              "  9: '9 anos',\n",
              "  10: '10 anos',\n",
              "  11: '11 anos',\n",
              "  12: '12 anos',\n",
              "  13: '13 anos',\n",
              "  14: '14 anos',\n",
              "  15: '15 anos',\n",
              "  16: '16 anos',\n",
              "  17: '17 anos',\n",
              "  18: '18 anos ou mais',\n",
              "  99: 'Não informado'}}"
            ]
          },
          "metadata": {
            "tags": []
          },
          "execution_count": 104
        }
      ]
    },
    {
      "cell_type": "code",
      "metadata": {
        "id": "XSVRzqhBO_p7"
      },
      "source": [
        "def get_coluna_by_cod(codigo):\n",
        "    for key, val in dicio_pense.items():\n",
        "        if val['codigo'] == codigo:\n",
        "            return key, val\n",
        "\n",
        "    return None\n",
        "\n",
        "# atualizando a função que gera a tabela de frequência\n",
        "def criar_tab_freq(dataset, cod_coluna):\n",
        "    pergunta, coluna = get_coluna_by_cod(cod_coluna)\n",
        "\n",
        "    freq = dataset[cod_coluna].value_counts()\n",
        "    percent = dataset[cod_coluna].value_counts(normalize=True) * 100\n",
        "\n",
        "    dist_freq = pd.DataFrame({'Frequência': freq,\n",
        "                          'Percentual': percent})\n",
        "    if coluna != None:\n",
        "        respostas = coluna['respostas'] ## AQUI NÃO ESTÁ MAIS O PROBLEMA\n",
        "        dist_freq.rename(index = respostas, inplace=True)\n",
        "        dist_freq.rename_axis(pergunta, axis=1, inplace=True)\n",
        "\n",
        "    return dist_freq"
      ],
      "execution_count": 74,
      "outputs": []
    },
    {
      "cell_type": "code",
      "metadata": {
        "colab": {
          "base_uri": "https://localhost:8080/",
          "height": 106
        },
        "id": "azzzUzr7fghP",
        "outputId": "81d8d4aa-8465-490b-da4b-fea3ca90f9eb"
      },
      "source": [
        "criar_tab_freq(dados, 'VB01001')"
      ],
      "execution_count": 75,
      "outputs": [
        {
          "output_type": "execute_result",
          "data": {
            "text/html": [
              "<div>\n",
              "<style scoped>\n",
              "    .dataframe tbody tr th:only-of-type {\n",
              "        vertical-align: middle;\n",
              "    }\n",
              "\n",
              "    .dataframe tbody tr th {\n",
              "        vertical-align: top;\n",
              "    }\n",
              "\n",
              "    .dataframe thead th {\n",
              "        text-align: right;\n",
              "    }\n",
              "</style>\n",
              "<table border=\"1\" class=\"dataframe\">\n",
              "  <thead>\n",
              "    <tr style=\"text-align: right;\">\n",
              "      <th>sexo</th>\n",
              "      <th>Frequência</th>\n",
              "      <th>Percentual</th>\n",
              "    </tr>\n",
              "  </thead>\n",
              "  <tbody>\n",
              "    <tr>\n",
              "      <th>Masculino</th>\n",
              "      <td>8287</td>\n",
              "      <td>50.054361</td>\n",
              "    </tr>\n",
              "    <tr>\n",
              "      <th>Feminino</th>\n",
              "      <td>8269</td>\n",
              "      <td>49.945639</td>\n",
              "    </tr>\n",
              "  </tbody>\n",
              "</table>\n",
              "</div>"
            ],
            "text/plain": [
              "sexo       Frequência  Percentual\n",
              "Masculino        8287   50.054361\n",
              "Feminino         8269   49.945639"
            ]
          },
          "metadata": {
            "tags": []
          },
          "execution_count": 75
        }
      ]
    },
    {
      "cell_type": "code",
      "metadata": {
        "id": "-2R9lclwiwcN",
        "colab": {
          "base_uri": "https://localhost:8080/",
          "height": 252
        },
        "outputId": "96a39fd2-2d29-4780-faa8-5cc494bcf3d9"
      },
      "source": [
        "criar_tab_freq(dados, 'VB06003A')"
      ],
      "execution_count": 76,
      "outputs": [
        {
          "output_type": "execute_result",
          "data": {
            "text/html": [
              "<div>\n",
              "<style scoped>\n",
              "    .dataframe tbody tr th:only-of-type {\n",
              "        vertical-align: middle;\n",
              "    }\n",
              "\n",
              "    .dataframe tbody tr th {\n",
              "        vertical-align: top;\n",
              "    }\n",
              "\n",
              "    .dataframe thead th {\n",
              "        text-align: right;\n",
              "    }\n",
              "</style>\n",
              "<table border=\"1\" class=\"dataframe\">\n",
              "  <thead>\n",
              "    <tr style=\"text-align: right;\">\n",
              "      <th>frequencia_drogas</th>\n",
              "      <th>Frequência</th>\n",
              "      <th>Percentual</th>\n",
              "    </tr>\n",
              "  </thead>\n",
              "  <tbody>\n",
              "    <tr>\n",
              "      <th>Pulo no questionário</th>\n",
              "      <td>15117</td>\n",
              "      <td>91.308287</td>\n",
              "    </tr>\n",
              "    <tr>\n",
              "      <th>Nenhum dia nos últimos 30 dias (0 dia)</th>\n",
              "      <td>797</td>\n",
              "      <td>4.813965</td>\n",
              "    </tr>\n",
              "    <tr>\n",
              "      <th>1 ou 2 dias nos últimos 30 dias</th>\n",
              "      <td>318</td>\n",
              "      <td>1.920754</td>\n",
              "    </tr>\n",
              "    <tr>\n",
              "      <th>10 ou mais dias nos últimos 30 dias</th>\n",
              "      <td>155</td>\n",
              "      <td>0.936216</td>\n",
              "    </tr>\n",
              "    <tr>\n",
              "      <th>3 a 5 dias nos últimos 30 dias</th>\n",
              "      <td>99</td>\n",
              "      <td>0.597971</td>\n",
              "    </tr>\n",
              "    <tr>\n",
              "      <th>6 a 9 dias nos últimos 30 dias</th>\n",
              "      <td>62</td>\n",
              "      <td>0.374487</td>\n",
              "    </tr>\n",
              "    <tr>\n",
              "      <th>Não informado</th>\n",
              "      <td>8</td>\n",
              "      <td>0.048321</td>\n",
              "    </tr>\n",
              "  </tbody>\n",
              "</table>\n",
              "</div>"
            ],
            "text/plain": [
              "frequencia_drogas                       Frequência  Percentual\n",
              "Pulo no questionário                         15117   91.308287\n",
              "Nenhum dia nos últimos 30 dias (0 dia)         797    4.813965\n",
              "1 ou 2 dias nos últimos 30 dias                318    1.920754\n",
              "10 ou mais dias nos últimos 30 dias            155    0.936216\n",
              "3 a 5 dias nos últimos 30 dias                  99    0.597971\n",
              "6 a 9 dias nos últimos 30 dias                  62    0.374487\n",
              "Não informado                                    8    0.048321"
            ]
          },
          "metadata": {
            "tags": []
          },
          "execution_count": 76
        }
      ]
    },
    {
      "cell_type": "markdown",
      "metadata": {
        "id": "e-0CdkHJNpKm"
      },
      "source": [
        "#### Super desafio 2 - Usando NLP"
      ]
    },
    {
      "cell_type": "markdown",
      "metadata": {
        "id": "DPAGNmtfCk_2"
      },
      "source": [
        "Pesquisar: NLTK, GENSIM"
      ]
    },
    {
      "cell_type": "markdown",
      "metadata": {
        "id": "LQUalMwu6Xtv"
      },
      "source": [
        "##### Testando o NLTK"
      ]
    },
    {
      "cell_type": "code",
      "metadata": {
        "colab": {
          "base_uri": "https://localhost:8080/"
        },
        "id": "BrYqItoJuOIU",
        "outputId": "101e2560-b14d-48a6-e312-65f93d8f7f1c"
      },
      "source": [
        "import nltk    \r\n",
        "nltk.download(['averaged_perceptron_tagger','floresta','mac_morpho',\r\n",
        "               'machado','punkt','stopwords','wordnet','words'])"
      ],
      "execution_count": 77,
      "outputs": [
        {
          "output_type": "stream",
          "text": [
            "[nltk_data] Downloading package averaged_perceptron_tagger to\n",
            "[nltk_data]     /root/nltk_data...\n",
            "[nltk_data]   Unzipping taggers/averaged_perceptron_tagger.zip.\n",
            "[nltk_data] Downloading package floresta to /root/nltk_data...\n",
            "[nltk_data]   Unzipping corpora/floresta.zip.\n",
            "[nltk_data] Downloading package mac_morpho to /root/nltk_data...\n",
            "[nltk_data]   Unzipping corpora/mac_morpho.zip.\n",
            "[nltk_data] Downloading package machado to /root/nltk_data...\n",
            "[nltk_data] Downloading package punkt to /root/nltk_data...\n",
            "[nltk_data]   Unzipping tokenizers/punkt.zip.\n",
            "[nltk_data] Downloading package stopwords to /root/nltk_data...\n",
            "[nltk_data]   Unzipping corpora/stopwords.zip.\n",
            "[nltk_data] Downloading package wordnet to /root/nltk_data...\n",
            "[nltk_data]   Unzipping corpora/wordnet.zip.\n",
            "[nltk_data] Downloading package words to /root/nltk_data...\n",
            "[nltk_data]   Unzipping corpora/words.zip.\n"
          ],
          "name": "stdout"
        },
        {
          "output_type": "execute_result",
          "data": {
            "text/plain": [
              "True"
            ]
          },
          "metadata": {
            "tags": []
          },
          "execution_count": 77
        }
      ]
    },
    {
      "cell_type": "code",
      "metadata": {
        "id": "appKh9gr_LK4"
      },
      "source": [
        "from nltk.tokenize import word_tokenize\r\n",
        "from nltk.tokenize import sent_tokenize\r\n",
        "from nltk.corpus import stopwords\r\n",
        "from string import punctuation"
      ],
      "execution_count": 78,
      "outputs": []
    },
    {
      "cell_type": "code",
      "metadata": {
        "id": "uvxiklHY6djV"
      },
      "source": [
        "def sumarize_with_nltk(texto):\r\n",
        "    sentencas = sent_tokenize(texto)\r\n",
        "    palavras = word_tokenize(texto.lower())\r\n",
        "\r\n",
        "    stopwords_ptbr = set(stopwords.words('portuguese') + list(punctuation))\r\n",
        "    palavras_sem_stopwords = [palavra for palavra in palavras if palavra not in stopwords_ptbr]\r\n",
        "\r\n",
        "    return palavras_sem_stopwords"
      ],
      "execution_count": 79,
      "outputs": []
    },
    {
      "cell_type": "code",
      "metadata": {
        "colab": {
          "base_uri": "https://localhost:8080/"
        },
        "id": "4VS5Mf7NEBC4",
        "outputId": "83fc1c74-0fa9-434d-a726-b69b089f0907"
      },
      "source": [
        "texto = 'Qual é a sua cor ou raça?'\r\n",
        "print(sumarize_with_nltk(texto))\r\n",
        "\r\n",
        "texto = 'Alguma vez na vida você foi forçado a ter relação sexual?'\r\n",
        "print(sumarize_with_nltk(texto))\r\n",
        "\r\n",
        "texto = 'qual foi a principal causa do ferimento ou da lesão mais séria que aconteceu com você?'\r\n",
        "print(sumarize_with_nltk(texto))"
      ],
      "execution_count": 80,
      "outputs": [
        {
          "output_type": "stream",
          "text": [
            "['cor', 'raça']\n",
            "['alguma', 'vez', 'vida', 'forçado', 'ter', 'relação', 'sexual']\n",
            "['principal', 'causa', 'ferimento', 'lesão', 'séria', 'aconteceu']\n"
          ],
          "name": "stdout"
        }
      ]
    },
    {
      "cell_type": "markdown",
      "metadata": {
        "id": "z18vKR32A428"
      },
      "source": [
        "##### Testando outros"
      ]
    },
    {
      "cell_type": "code",
      "metadata": {
        "colab": {
          "base_uri": "https://localhost:8080/"
        },
        "id": "tnvblGKuA4Hz",
        "outputId": "799d66a9-29e8-4625-fb2e-8dd960cbc11e"
      },
      "source": [
        "!pip install -U spacy"
      ],
      "execution_count": 81,
      "outputs": [
        {
          "output_type": "stream",
          "text": [
            "Collecting spacy\n",
            "\u001b[?25l  Downloading https://files.pythonhosted.org/packages/e5/bf/ca7bb25edd21f1cf9d498d0023808279672a664a70585e1962617ca2740c/spacy-2.3.5-cp36-cp36m-manylinux2014_x86_64.whl (10.4MB)\n",
            "\u001b[K     |████████████████████████████████| 10.4MB 3.9MB/s \n",
            "\u001b[?25hRequirement already satisfied, skipping upgrade: plac<1.2.0,>=0.9.6 in /usr/local/lib/python3.6/dist-packages (from spacy) (1.1.3)\n",
            "Requirement already satisfied, skipping upgrade: setuptools in /usr/local/lib/python3.6/dist-packages (from spacy) (51.0.0)\n",
            "Requirement already satisfied, skipping upgrade: blis<0.8.0,>=0.4.0 in /usr/local/lib/python3.6/dist-packages (from spacy) (0.4.1)\n",
            "Requirement already satisfied, skipping upgrade: requests<3.0.0,>=2.13.0 in /usr/local/lib/python3.6/dist-packages (from spacy) (2.23.0)\n",
            "Requirement already satisfied, skipping upgrade: tqdm<5.0.0,>=4.38.0 in /usr/local/lib/python3.6/dist-packages (from spacy) (4.41.1)\n",
            "Collecting thinc<7.5.0,>=7.4.1\n",
            "\u001b[?25l  Downloading https://files.pythonhosted.org/packages/c0/1a/c3e4ab982214c63d743fad57c45c5e68ee49e4ea4384d27b28595a26ad26/thinc-7.4.5-cp36-cp36m-manylinux2014_x86_64.whl (1.1MB)\n",
            "\u001b[K     |████████████████████████████████| 1.1MB 47.6MB/s \n",
            "\u001b[?25hRequirement already satisfied, skipping upgrade: cymem<2.1.0,>=2.0.2 in /usr/local/lib/python3.6/dist-packages (from spacy) (2.0.5)\n",
            "Requirement already satisfied, skipping upgrade: murmurhash<1.1.0,>=0.28.0 in /usr/local/lib/python3.6/dist-packages (from spacy) (1.0.5)\n",
            "Requirement already satisfied, skipping upgrade: numpy>=1.15.0 in /usr/local/lib/python3.6/dist-packages (from spacy) (1.19.4)\n",
            "Requirement already satisfied, skipping upgrade: wasabi<1.1.0,>=0.4.0 in /usr/local/lib/python3.6/dist-packages (from spacy) (0.8.0)\n",
            "Requirement already satisfied, skipping upgrade: srsly<1.1.0,>=1.0.2 in /usr/local/lib/python3.6/dist-packages (from spacy) (1.0.5)\n",
            "Requirement already satisfied, skipping upgrade: preshed<3.1.0,>=3.0.2 in /usr/local/lib/python3.6/dist-packages (from spacy) (3.0.5)\n",
            "Requirement already satisfied, skipping upgrade: catalogue<1.1.0,>=0.0.7 in /usr/local/lib/python3.6/dist-packages (from spacy) (1.0.0)\n",
            "Requirement already satisfied, skipping upgrade: certifi>=2017.4.17 in /usr/local/lib/python3.6/dist-packages (from requests<3.0.0,>=2.13.0->spacy) (2020.12.5)\n",
            "Requirement already satisfied, skipping upgrade: urllib3!=1.25.0,!=1.25.1,<1.26,>=1.21.1 in /usr/local/lib/python3.6/dist-packages (from requests<3.0.0,>=2.13.0->spacy) (1.24.3)\n",
            "Requirement already satisfied, skipping upgrade: chardet<4,>=3.0.2 in /usr/local/lib/python3.6/dist-packages (from requests<3.0.0,>=2.13.0->spacy) (3.0.4)\n",
            "Requirement already satisfied, skipping upgrade: idna<3,>=2.5 in /usr/local/lib/python3.6/dist-packages (from requests<3.0.0,>=2.13.0->spacy) (2.10)\n",
            "Requirement already satisfied, skipping upgrade: importlib-metadata>=0.20; python_version < \"3.8\" in /usr/local/lib/python3.6/dist-packages (from catalogue<1.1.0,>=0.0.7->spacy) (3.3.0)\n",
            "Requirement already satisfied, skipping upgrade: typing-extensions>=3.6.4; python_version < \"3.8\" in /usr/local/lib/python3.6/dist-packages (from importlib-metadata>=0.20; python_version < \"3.8\"->catalogue<1.1.0,>=0.0.7->spacy) (3.7.4.3)\n",
            "Requirement already satisfied, skipping upgrade: zipp>=0.5 in /usr/local/lib/python3.6/dist-packages (from importlib-metadata>=0.20; python_version < \"3.8\"->catalogue<1.1.0,>=0.0.7->spacy) (3.4.0)\n",
            "Installing collected packages: thinc, spacy\n",
            "  Found existing installation: thinc 7.4.0\n",
            "    Uninstalling thinc-7.4.0:\n",
            "      Successfully uninstalled thinc-7.4.0\n",
            "  Found existing installation: spacy 2.2.4\n",
            "    Uninstalling spacy-2.2.4:\n",
            "      Successfully uninstalled spacy-2.2.4\n",
            "Successfully installed spacy-2.3.5 thinc-7.4.5\n"
          ],
          "name": "stdout"
        }
      ]
    },
    {
      "cell_type": "code",
      "metadata": {
        "colab": {
          "base_uri": "https://localhost:8080/"
        },
        "id": "JPxRdh1-CjZ9",
        "outputId": "ed3254a9-1ba1-4fb8-b826-9fa7683fb7cf"
      },
      "source": [
        "!python -m spacy download pt_core_news_sm"
      ],
      "execution_count": 82,
      "outputs": [
        {
          "output_type": "stream",
          "text": [
            "Collecting pt_core_news_sm==2.3.0\n",
            "\u001b[?25l  Downloading https://github.com/explosion/spacy-models/releases/download/pt_core_news_sm-2.3.0/pt_core_news_sm-2.3.0.tar.gz (19.6MB)\n",
            "\u001b[K     |████████████████████████████████| 19.6MB 1.2MB/s \n",
            "\u001b[?25hRequirement already satisfied: spacy<2.4.0,>=2.3.0 in /usr/local/lib/python3.6/dist-packages (from pt_core_news_sm==2.3.0) (2.3.5)\n",
            "Requirement already satisfied: thinc<7.5.0,>=7.4.1 in /usr/local/lib/python3.6/dist-packages (from spacy<2.4.0,>=2.3.0->pt_core_news_sm==2.3.0) (7.4.5)\n",
            "Requirement already satisfied: catalogue<1.1.0,>=0.0.7 in /usr/local/lib/python3.6/dist-packages (from spacy<2.4.0,>=2.3.0->pt_core_news_sm==2.3.0) (1.0.0)\n",
            "Requirement already satisfied: setuptools in /usr/local/lib/python3.6/dist-packages (from spacy<2.4.0,>=2.3.0->pt_core_news_sm==2.3.0) (51.0.0)\n",
            "Requirement already satisfied: numpy>=1.15.0 in /usr/local/lib/python3.6/dist-packages (from spacy<2.4.0,>=2.3.0->pt_core_news_sm==2.3.0) (1.19.4)\n",
            "Requirement already satisfied: requests<3.0.0,>=2.13.0 in /usr/local/lib/python3.6/dist-packages (from spacy<2.4.0,>=2.3.0->pt_core_news_sm==2.3.0) (2.23.0)\n",
            "Requirement already satisfied: plac<1.2.0,>=0.9.6 in /usr/local/lib/python3.6/dist-packages (from spacy<2.4.0,>=2.3.0->pt_core_news_sm==2.3.0) (1.1.3)\n",
            "Requirement already satisfied: murmurhash<1.1.0,>=0.28.0 in /usr/local/lib/python3.6/dist-packages (from spacy<2.4.0,>=2.3.0->pt_core_news_sm==2.3.0) (1.0.5)\n",
            "Requirement already satisfied: wasabi<1.1.0,>=0.4.0 in /usr/local/lib/python3.6/dist-packages (from spacy<2.4.0,>=2.3.0->pt_core_news_sm==2.3.0) (0.8.0)\n",
            "Requirement already satisfied: cymem<2.1.0,>=2.0.2 in /usr/local/lib/python3.6/dist-packages (from spacy<2.4.0,>=2.3.0->pt_core_news_sm==2.3.0) (2.0.5)\n",
            "Requirement already satisfied: blis<0.8.0,>=0.4.0 in /usr/local/lib/python3.6/dist-packages (from spacy<2.4.0,>=2.3.0->pt_core_news_sm==2.3.0) (0.4.1)\n",
            "Requirement already satisfied: preshed<3.1.0,>=3.0.2 in /usr/local/lib/python3.6/dist-packages (from spacy<2.4.0,>=2.3.0->pt_core_news_sm==2.3.0) (3.0.5)\n",
            "Requirement already satisfied: tqdm<5.0.0,>=4.38.0 in /usr/local/lib/python3.6/dist-packages (from spacy<2.4.0,>=2.3.0->pt_core_news_sm==2.3.0) (4.41.1)\n",
            "Requirement already satisfied: srsly<1.1.0,>=1.0.2 in /usr/local/lib/python3.6/dist-packages (from spacy<2.4.0,>=2.3.0->pt_core_news_sm==2.3.0) (1.0.5)\n",
            "Requirement already satisfied: importlib-metadata>=0.20; python_version < \"3.8\" in /usr/local/lib/python3.6/dist-packages (from catalogue<1.1.0,>=0.0.7->spacy<2.4.0,>=2.3.0->pt_core_news_sm==2.3.0) (3.3.0)\n",
            "Requirement already satisfied: urllib3!=1.25.0,!=1.25.1,<1.26,>=1.21.1 in /usr/local/lib/python3.6/dist-packages (from requests<3.0.0,>=2.13.0->spacy<2.4.0,>=2.3.0->pt_core_news_sm==2.3.0) (1.24.3)\n",
            "Requirement already satisfied: chardet<4,>=3.0.2 in /usr/local/lib/python3.6/dist-packages (from requests<3.0.0,>=2.13.0->spacy<2.4.0,>=2.3.0->pt_core_news_sm==2.3.0) (3.0.4)\n",
            "Requirement already satisfied: idna<3,>=2.5 in /usr/local/lib/python3.6/dist-packages (from requests<3.0.0,>=2.13.0->spacy<2.4.0,>=2.3.0->pt_core_news_sm==2.3.0) (2.10)\n",
            "Requirement already satisfied: certifi>=2017.4.17 in /usr/local/lib/python3.6/dist-packages (from requests<3.0.0,>=2.13.0->spacy<2.4.0,>=2.3.0->pt_core_news_sm==2.3.0) (2020.12.5)\n",
            "Requirement already satisfied: typing-extensions>=3.6.4; python_version < \"3.8\" in /usr/local/lib/python3.6/dist-packages (from importlib-metadata>=0.20; python_version < \"3.8\"->catalogue<1.1.0,>=0.0.7->spacy<2.4.0,>=2.3.0->pt_core_news_sm==2.3.0) (3.7.4.3)\n",
            "Requirement already satisfied: zipp>=0.5 in /usr/local/lib/python3.6/dist-packages (from importlib-metadata>=0.20; python_version < \"3.8\"->catalogue<1.1.0,>=0.0.7->spacy<2.4.0,>=2.3.0->pt_core_news_sm==2.3.0) (3.4.0)\n",
            "Building wheels for collected packages: pt-core-news-sm\n",
            "  Building wheel for pt-core-news-sm (setup.py) ... \u001b[?25l\u001b[?25hdone\n",
            "  Created wheel for pt-core-news-sm: filename=pt_core_news_sm-2.3.0-cp36-none-any.whl size=19557499 sha256=865d2cbd0af994843f85b7458341f48cf256a121198131dc7b78b8280ec1ef9b\n",
            "  Stored in directory: /tmp/pip-ephem-wheel-cache-xfguk7g0/wheels/f6/43/f6/949b5e2b48df37aa3ed81fc3f4af4154afa276518cc004b990\n",
            "Successfully built pt-core-news-sm\n",
            "Installing collected packages: pt-core-news-sm\n",
            "Successfully installed pt-core-news-sm-2.3.0\n",
            "\u001b[38;5;2m✔ Download and installation successful\u001b[0m\n",
            "You can now load the model via spacy.load('pt_core_news_sm')\n"
          ],
          "name": "stdout"
        }
      ]
    },
    {
      "cell_type": "code",
      "metadata": {
        "id": "lGD2BkiFCfbv"
      },
      "source": [
        "import spacy\r\n",
        "from spacy.lang.pt.stop_words import STOP_WORDS\r\n",
        "from sklearn.feature_extraction.text import CountVectorizer\r\n",
        "import pt_core_news_sm\r\n",
        "nlp = pt_core_news_sm.load()"
      ],
      "execution_count": 83,
      "outputs": []
    },
    {
      "cell_type": "code",
      "metadata": {
        "id": "dfAfIsgbCpHG"
      },
      "source": [
        "def sumarize_with_sklearn(texto):\r\n",
        "    doc = nlp(texto)\r\n",
        "\r\n",
        "    corpus = [sent.text.lower() for sent in doc.sents ]\r\n",
        "    cv = CountVectorizer(stop_words=list(STOP_WORDS))   \r\n",
        "    cv_fit=cv.fit_transform(corpus)    \r\n",
        "    word_list = cv.get_feature_names()\r\n",
        "\r\n",
        "    return word_list"
      ],
      "execution_count": 84,
      "outputs": []
    },
    {
      "cell_type": "code",
      "metadata": {
        "colab": {
          "base_uri": "https://localhost:8080/"
        },
        "id": "hW9A9__AEUlX",
        "outputId": "54a8cd40-cb9b-4471-aa5a-b85fee4b9552"
      },
      "source": [
        "texto = 'Qual é a sua cor ou raça?'\r\n",
        "print(sumarize_with_sklearn(texto))\r\n",
        "\r\n",
        "texto = 'Alguma vez na vida você foi forçado a ter relação sexual?'\r\n",
        "print(sumarize_with_sklearn(texto))\r\n",
        "\r\n",
        "texto = 'qual foi a principal causa do ferimento ou da lesão mais séria que aconteceu com você?'\r\n",
        "print(sumarize_with_sklearn(texto))"
      ],
      "execution_count": 85,
      "outputs": [
        {
          "output_type": "stream",
          "text": [
            "['cor', 'raça']\n",
            "['alguma', 'forçado', 'sexual', 'vida']\n",
            "['aconteceu', 'causa', 'ferimento', 'lesão', 'principal', 'séria']\n"
          ],
          "name": "stdout"
        }
      ]
    },
    {
      "cell_type": "markdown",
      "metadata": {
        "id": "Bl94Dv2edu-I"
      },
      "source": [
        "## Parte 06 - Intervalo de confiança e testes"
      ]
    },
    {
      "cell_type": "code",
      "metadata": {
        "id": "7GUlc0Njd3bK"
      },
      "source": [
        "from statsmodels.stats.weightstats import zconfint\r\n",
        "from statsmodels.stats.weightstats import DescrStatsW\r\n",
        "from statsmodels.stats.weightstats import ztest\r\n",
        "\r\n",
        "from scipy.stats import normaltest\r\n",
        "from scipy.stats import ranksums"
      ],
      "execution_count": 102,
      "outputs": []
    },
    {
      "cell_type": "code",
      "metadata": {
        "colab": {
          "base_uri": "https://localhost:8080/"
        },
        "id": "mhK_JL6-vceA",
        "outputId": "11393b7e-941a-4c8c-9a3f-d8536c2d80a8"
      },
      "source": [
        "zconfint(dados['VB17004'])"
      ],
      "execution_count": 87,
      "outputs": [
        {
          "output_type": "execute_result",
          "data": {
            "text/plain": [
              "(160.5556082427712, 160.87061789880892)"
            ]
          },
          "metadata": {
            "tags": []
          },
          "execution_count": 87
        }
      ]
    },
    {
      "cell_type": "code",
      "metadata": {
        "colab": {
          "base_uri": "https://localhost:8080/"
        },
        "id": "YWDsny88vcha",
        "outputId": "dd1c2acd-657f-4435-ae06-50930f13fa7b"
      },
      "source": [
        "descricao_altura = DescrStatsW(dados['VB17004'])\r\n",
        "ic = descricao_altura.tconfint_mean()\r\n",
        "ic"
      ],
      "execution_count": 88,
      "outputs": [
        {
          "output_type": "execute_result",
          "data": {
            "text/plain": [
              "(160.55559672649298, 160.8706294150872)"
            ]
          },
          "metadata": {
            "tags": []
          },
          "execution_count": 88
        }
      ]
    },
    {
      "cell_type": "code",
      "metadata": {
        "colab": {
          "base_uri": "https://localhost:8080/",
          "height": 279
        },
        "id": "2XBR0Redvckp",
        "outputId": "8327ef5f-082c-4666-f31b-401587b0f2f1"
      },
      "source": [
        "sns.boxplot(x = 'VB01001', y = 'VB17004', data = dados);"
      ],
      "execution_count": 89,
      "outputs": [
        {
          "output_type": "display_data",
          "data": {
            "image/png": "[encoded data removed]",
            "text/plain": [
              "<Figure size 432x288 with 1 Axes>"
            ]
          },
          "metadata": {
            "tags": [],
            "needs_background": "light"
          }
        }
      ]
    },
    {
      "cell_type": "code",
      "metadata": {
        "id": "7_Kvm4NGUdua"
      },
      "source": [
        "distribuicao_altura_m = dados.query('VB01001 == 1')['VB17004']\r\n",
        "distribuicao_altura_f = dados.query('VB01001 == 2')['VB17004']"
      ],
      "execution_count": 90,
      "outputs": []
    },
    {
      "cell_type": "code",
      "metadata": {
        "colab": {
          "base_uri": "https://localhost:8080/"
        },
        "id": "AxeQhAzRvcoO",
        "outputId": "46735bb3-f509-4fec-f7ba-d92bd2537594"
      },
      "source": [
        "_, p_value = ztest(distribuicao_altura_m, distribuicao_altura_f)\r\n",
        "p_value"
      ],
      "execution_count": 91,
      "outputs": [
        {
          "output_type": "execute_result",
          "data": {
            "text/plain": [
              "0.0"
            ]
          },
          "metadata": {
            "tags": []
          },
          "execution_count": 91
        }
      ]
    },
    {
      "cell_type": "code",
      "metadata": {
        "colab": {
          "base_uri": "https://localhost:8080/"
        },
        "id": "6t8N1ypyvcz8",
        "outputId": "fb2bbfc2-473f-49e1-b0ff-766159593ddf"
      },
      "source": [
        "_, p_value = ztest(distribuicao_altura_m, distribuicao_altura_m)\r\n",
        "p_value"
      ],
      "execution_count": 92,
      "outputs": [
        {
          "output_type": "execute_result",
          "data": {
            "text/plain": [
              "1.0"
            ]
          },
          "metadata": {
            "tags": []
          },
          "execution_count": 92
        }
      ]
    },
    {
      "cell_type": "code",
      "metadata": {
        "colab": {
          "base_uri": "https://localhost:8080/"
        },
        "id": "Wn7d-xXevznJ",
        "outputId": "bf02b894-d0a9-4fd1-f21b-2f42de12d9a9"
      },
      "source": [
        "_, p_value_normaltest_m = normaltest(distribuicao_altura_m)\r\n",
        "_, p_value_normaltest_f = normaltest(distribuicao_altura_f)\r\n",
        "\r\n",
        "print(p_value_normaltest_m)\r\n",
        "print(p_value_normaltest_f)"
      ],
      "execution_count": 93,
      "outputs": [
        {
          "output_type": "stream",
          "text": [
            "7.695118853996524e-75\n",
            "7.125189471020874e-47\n"
          ],
          "name": "stdout"
        }
      ]
    },
    {
      "cell_type": "code",
      "metadata": {
        "colab": {
          "base_uri": "https://localhost:8080/"
        },
        "id": "Xqumeslavzrj",
        "outputId": "ecaf005f-1b8d-4bc0-8162-4e1e9ab4e32b"
      },
      "source": [
        "ranksums(distribuicao_altura_m, distribuicao_altura_f)"
      ],
      "execution_count": 94,
      "outputs": [
        {
          "output_type": "execute_result",
          "data": {
            "text/plain": [
              "RanksumsResult(statistic=40.7525576033863, pvalue=0.0)"
            ]
          },
          "metadata": {
            "tags": []
          },
          "execution_count": 94
        }
      ]
    },
    {
      "cell_type": "markdown",
      "metadata": {
        "id": "P4FP9yzaxWPe"
      },
      "source": [
        "#### Desafios"
      ]
    },
    {
      "cell_type": "markdown",
      "metadata": {
        "id": "j8_eYwRXxYFU"
      },
      "source": [
        "* Desafio 13: Estudar o que é intervalo de confiança, nível de confiança e o que é significância\r\n",
        "* Desafio 14: Plotar o intervalo de confiança no histograma das alturas\r\n",
        "* Desafio 15: Realizar os testes de hipóteses de outras colunas e explorar a base de dados"
      ]
    },
    {
      "cell_type": "markdown",
      "metadata": {
        "id": "0rkC2_ioHAQz"
      },
      "source": [
        "##### Desafio 13 - Intervalo, nível de confiança e nível de significância"
      ]
    },
    {
      "cell_type": "markdown",
      "metadata": {
        "id": "ig9nRIo9HKzK"
      },
      "source": [
        ""
      ]
    },
    {
      "cell_type": "markdown",
      "metadata": {
        "id": "TSorERoLHLZF"
      },
      "source": [
        "##### Desafio 14 - Intervalo de Confiança e Distribuição das Alturas"
      ]
    },
    {
      "cell_type": "code",
      "metadata": {
        "colab": {
          "base_uri": "https://localhost:8080/",
          "height": 404
        },
        "id": "rCwYWjDaHRCX",
        "outputId": "00dceb1c-c8a4-40b5-ac3f-5518cb1aaa94"
      },
      "source": [
        "ax = sns.histplot(x = 'VB17004', data = dados)\r\n",
        "ax.figure.set_size_inches(12, 6)\r\n",
        "ax.set_title('Distribuição de frequência da Altura')\r\n",
        "ax.set_xlabel('Altura')\r\n",
        "\r\n",
        "# acrescentando o desvio padrão\r\n",
        "ax.axvspan(media-desvio_padrao, media+desvio_padrao, alpha=0.5,\r\n",
        "           color='gray', label='Desvio Padrão')\r\n",
        "\r\n",
        "# acrescentando o intervalo de confiança\r\n",
        "ax.axvspan(ic[0], ic[1], alpha=0.5,\r\n",
        "           color='red', label='Intervalo de Confiança')\r\n",
        "\r\n",
        "ax.legend()\r\n",
        "\r\n",
        "ax;"
      ],
      "execution_count": 103,
      "outputs": [
        {
          "output_type": "display_data",
          "data": {
            "image/png": "[encoded data removed]",
            "text/plain": [
              "<Figure size 864x432 with 1 Axes>"
            ]
          },
          "metadata": {
            "tags": [],
            "needs_background": "light"
          }
        }
      ]
    },
    {
      "cell_type": "markdown",
      "metadata": {
        "id": "Znh_IJ2sXPEu"
      },
      "source": [
        "##### Desafio 15 - Testando outras hipóteses"
      ]
    },
    {
      "cell_type": "code",
      "metadata": {
        "colab": {
          "base_uri": "https://localhost:8080/"
        },
        "id": "qCvZlAuqX9MR",
        "outputId": "74521037-7ece-4362-fc02-40c38cb0b0e0"
      },
      "source": [
        "distribuicao_idade_m = dados.query('VB01001 == 1')['VB01003']\r\n",
        "distribuicao_idade_f = dados.query('VB01001 == 2')['VB01003']\r\n",
        "\r\n",
        "_, p_value = ztest(distribuicao_idade_m, distribuicao_idade_f)\r\n",
        "p_value\r\n",
        "\r\n",
        "print('Hipótese nula: a média de idade de homens e mulheres é a mesma.\\n')\r\n",
        "\r\n",
        "if p_value <0.05:\r\n",
        "  print(\">>Hipótese nula rejeitada.\")\r\n",
        "else:\r\n",
        "  print(\">>Hipótese nula aceita.\")"
      ],
      "execution_count": 96,
      "outputs": [
        {
          "output_type": "stream",
          "text": [
            "Hipótese nula: a média de idade de homens e mulheres é a mesma.\n",
            "\n",
            ">>Hipótese nula rejeitada.\n"
          ],
          "name": "stdout"
        }
      ]
    },
    {
      "cell_type": "code",
      "metadata": {
        "colab": {
          "base_uri": "https://localhost:8080/"
        },
        "id": "f1GuO8GylBe6",
        "outputId": "85216e5c-403a-44f3-f99c-0b271a03aa15"
      },
      "source": [
        "#idade que usou drogas pela primeira vez VB06002\r\n",
        "\r\n",
        "# removendo -1 (pulo questionário) e 99 (não informado)\r\n",
        "dados_filtrados = dados.query('VB06002 != -1 & VB06002 != 99')\r\n",
        "\r\n",
        "\r\n",
        "distribuicao_drogas_m = dados_filtrados.query('VB01001 == 1')['VB06002']\r\n",
        "distribuicao_drogas_f = dados_filtrados.query('VB01001 == 2')['VB06002']\r\n",
        "\r\n",
        "_, p_value = ztest(distribuicao_drogas_m, distribuicao_drogas_f)\r\n",
        "\r\n",
        "print('Hipótese nula: a média de idade que homens começaram a usar drogas '\\\r\n",
        "      'é a mesma para as mulheres.\\n')\r\n",
        "\r\n",
        "if p_value <0.05:\r\n",
        "  print(\">>Hipótese nula rejeitada.\")\r\n",
        "else:\r\n",
        "  print(\">>Hipótese nula aceita.\")"
      ],
      "execution_count": 97,
      "outputs": [
        {
          "output_type": "stream",
          "text": [
            "Hipótese nula: a média de idade que homens começaram a usar drogas é a mesma para as mulheres.\n",
            "\n",
            ">>Hipótese nula aceita.\n"
          ],
          "name": "stdout"
        }
      ]
    },
    {
      "cell_type": "markdown",
      "metadata": {
        "id": "M1QueS5Z49oo"
      },
      "source": [
        "#Testes"
      ]
    },
    {
      "cell_type": "code",
      "metadata": {
        "colab": {
          "base_uri": "https://localhost:8080/"
        },
        "id": "VPSFywAsvzuw",
        "outputId": "24ec9ee1-d0de-4142-9ce7-b2af956297f4"
      },
      "source": [
        "# foi forçado a ter relação\r\n",
        "dados['VB09016'].value_counts()"
      ],
      "execution_count": 98,
      "outputs": [
        {
          "output_type": "execute_result",
          "data": {
            "text/plain": [
              " 2     11195\n",
              "-1      4706\n",
              " 1       569\n",
              " 99       86\n",
              "Name: VB09016, dtype: int64"
            ]
          },
          "metadata": {
            "tags": []
          },
          "execution_count": 98
        }
      ]
    },
    {
      "cell_type": "code",
      "metadata": {
        "colab": {
          "base_uri": "https://localhost:8080/"
        },
        "id": "Thc9LIDGvzxP",
        "outputId": "0b770819-5dd1-4195-ae97-41a22bb70a89"
      },
      "source": [
        "# foi forçado a ter relação pelo NAMORADO\r\n",
        "dados['VB0901701'].value_counts()"
      ],
      "execution_count": 99,
      "outputs": [
        {
          "output_type": "execute_result",
          "data": {
            "text/plain": [
              "-1     15987\n",
              " 2       391\n",
              " 1       174\n",
              " 99        4\n",
              "Name: VB0901701, dtype: int64"
            ]
          },
          "metadata": {
            "tags": []
          },
          "execution_count": 99
        }
      ]
    },
    {
      "cell_type": "code",
      "metadata": {
        "colab": {
          "base_uri": "https://localhost:8080/"
        },
        "id": "_cnx3Pzbvzz3",
        "outputId": "9a5f67fa-a4c6-4c8c-ffc4-eabebe9efcf3"
      },
      "source": [
        "# foi forçado a ter relação pelo AMIGO\r\n",
        "dados['VB0901702'].value_counts()"
      ],
      "execution_count": 100,
      "outputs": [
        {
          "output_type": "execute_result",
          "data": {
            "text/plain": [
              "-1     15987\n",
              " 2       446\n",
              " 1       119\n",
              " 99        4\n",
              "Name: VB0901702, dtype: int64"
            ]
          },
          "metadata": {
            "tags": []
          },
          "execution_count": 100
        }
      ]
    },
    {
      "cell_type": "code",
      "metadata": {
        "colab": {
          "base_uri": "https://localhost:8080/"
        },
        "id": "FVOpWcRvz4_X",
        "outputId": "dca5be5e-19cd-47f5-e5b4-8d8ea013304f"
      },
      "source": [
        "# foi forçado a ter relação por PAI/MÃE\r\n",
        "dados['VB0901703'].value_counts()"
      ],
      "execution_count": 101,
      "outputs": [
        {
          "output_type": "execute_result",
          "data": {
            "text/plain": [
              "-1     15987\n",
              " 2       497\n",
              " 1        68\n",
              " 99        4\n",
              "Name: VB0901703, dtype: int64"
            ]
          },
          "metadata": {
            "tags": []
          },
          "execution_count": 101
        }
      ]
    }
  ]
}